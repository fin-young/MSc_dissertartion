{
 "cells": [
  {
   "cell_type": "code",
   "metadata": {
    "tags": [],
    "cell_id": "00000-af8a7add-88de-4f66-97ba-2a83f2ff2051",
    "deepnote_to_be_reexecuted": false,
    "source_hash": "88213460",
    "execution_start": 1624724865081,
    "execution_millis": 3970,
    "deepnote_cell_type": "code"
   },
   "source": "!pip install -q -r requirements.txt\nimport pandas as pd\nimport numpy as np\nimport matplotlib as plt\nimport datapackage\n#import tabula\n#from tabula import read_pdf",
   "execution_count": 20,
   "outputs": [
    {
     "name": "stdout",
     "text": "\u001b[33mWARNING: You are using pip version 21.1.2; however, version 21.1.3 is available.\r\nYou should consider upgrading via the '/root/venv/bin/python -m pip install --upgrade pip' command.\u001b[0m\r\n",
     "output_type": "stream"
    }
   ]
  },
  {
   "cell_type": "markdown",
   "source": "# Data Cleaning ",
   "metadata": {
    "tags": [],
    "cell_id": "00001-306b23c6-05f9-42c3-8d42-93e20ded3452",
    "deepnote_cell_type": "markdown"
   }
  },
  {
   "cell_type": "markdown",
   "source": "## Country data \nAdditional data required to join WDI & IFS data on common country code",
   "metadata": {
    "tags": [],
    "cell_id": "00012-d21f4d92-3b2e-4c3c-9475-9d1d39428325",
    "deepnote_cell_type": "markdown"
   }
  },
  {
   "cell_type": "code",
   "metadata": {
    "tags": [],
    "cell_id": "00020-22fcaa4e-720a-43c9-9400-f60d9605edad",
    "deepnote_to_be_reexecuted": false,
    "source_hash": "2485b527",
    "execution_start": 1624624278222,
    "execution_millis": 0,
    "deepnote_cell_type": "code"
   },
   "source": "\nWOE_Dataset = pd.read_csv('IMF_country_codes.csv')\ndef WEO_country(WOE_Dataset):\n    # Get ride of unused data\n    WOE_Dataset.drop(columns= WOE_Dataset.columns[4:] , inplace=True)\n    #rename columns\n    old_columns = WOE_Dataset.columns\n    New_columns = WOE_Dataset.iloc[0].to_list()\n    rename_map = dict(zip(old_columns, New_columns))\n    WOE_Dataset.rename(columns = rename_map, inplace = True)\n\n    #Drop column 0 - the true header\n    WOE_Dataset = WOE_Dataset.drop(0).copy()\n    return WOE_Dataset ",
   "execution_count": null,
   "outputs": []
  },
  {
   "cell_type": "code",
   "metadata": {
    "tags": [],
    "cell_id": "00017-d053c24a-7738-4942-a51c-1d8cdc8b505f",
    "deepnote_to_be_reexecuted": false,
    "source_hash": "d63035d1",
    "execution_start": 1624624288409,
    "execution_millis": 37,
    "deepnote_cell_type": "code"
   },
   "source": "cntry_map = pd.read_csv('IMF_country_codes.csv')\ncntry_map = CountrieWEO_country(cntry_map)",
   "execution_count": null,
   "outputs": [
    {
     "output_type": "execute_result",
     "execution_count": 132,
     "data": {
      "application/vnd.deepnote.dataframe.v2+json": {
       "row_count": 189,
       "column_count": 4,
       "columns": [
        {
         "name": "IMF Code",
         "dtype": "object",
         "stats": {
          "unique_count": 189,
          "nan_count": 0,
          "categories": [
           {
            "name": "512",
            "count": 1
           },
           {
            "name": "914",
            "count": 1
           },
           {
            "name": "187 others",
            "count": 187
           }
          ]
         }
        },
        {
         "name": "ISO Code",
         "dtype": "object",
         "stats": {
          "unique_count": 189,
          "nan_count": 0,
          "categories": [
           {
            "name": "AFG",
            "count": 1
           },
           {
            "name": "ALB",
            "count": 1
           },
           {
            "name": "187 others",
            "count": 187
           }
          ]
         }
        },
        {
         "name": "Country",
         "dtype": "object",
         "stats": {
          "unique_count": 189,
          "nan_count": 0,
          "categories": [
           {
            "name": "Afghanistan",
            "count": 1
           },
           {
            "name": "Albania",
            "count": 1
           },
           {
            "name": "187 others",
            "count": 187
           }
          ]
         }
        },
        {
         "name": "Currency",
         "dtype": "object",
         "stats": {
          "unique_count": 141,
          "nan_count": 0,
          "categories": [
           {
            "name": "Euro",
            "count": 20
           },
           {
            "name": "CFA franc",
            "count": 14
           },
           {
            "name": "139 others",
            "count": 155
           }
          ]
         }
        },
        {
         "name": "_deepnote_index_column",
         "dtype": "int64"
        }
       ],
       "rows_top": [
        {
         "IMF Code": "512",
         "ISO Code": "AFG",
         "Country": "Afghanistan",
         "Currency": "Afghan Afghani",
         "_deepnote_index_column": 1
        },
        {
         "IMF Code": "914",
         "ISO Code": "ALB",
         "Country": "Albania",
         "Currency": "Albanian lek",
         "_deepnote_index_column": 2
        },
        {
         "IMF Code": "612",
         "ISO Code": "DZA",
         "Country": "Algeria",
         "Currency": "Algerian dinar",
         "_deepnote_index_column": 3
        },
        {
         "IMF Code": "614",
         "ISO Code": "AGO",
         "Country": "Angola",
         "Currency": "Angolan kwanza",
         "_deepnote_index_column": 4
        },
        {
         "IMF Code": "311",
         "ISO Code": "ATG",
         "Country": "Antigua and Barbuda",
         "Currency": "Eastern Caribbean dollar",
         "_deepnote_index_column": 5
        },
        {
         "IMF Code": "213",
         "ISO Code": "ARG",
         "Country": "Argentina",
         "Currency": "Argentine peso",
         "_deepnote_index_column": 6
        },
        {
         "IMF Code": "911",
         "ISO Code": "ARM",
         "Country": "Armenia",
         "Currency": "Armenian dram",
         "_deepnote_index_column": 7
        },
        {
         "IMF Code": "193",
         "ISO Code": "AUS",
         "Country": "Australia",
         "Currency": "Australian dollar",
         "_deepnote_index_column": 8
        },
        {
         "IMF Code": "122",
         "ISO Code": "AUT",
         "Country": "Austria",
         "Currency": "Euro",
         "_deepnote_index_column": 9
        },
        {
         "IMF Code": "912",
         "ISO Code": "AZE",
         "Country": "Azerbaijan",
         "Currency": "Azerbaijan manat",
         "_deepnote_index_column": 10
        },
        {
         "IMF Code": "313",
         "ISO Code": "BHS",
         "Country": "The Bahamas",
         "Currency": "Bahamian dollar",
         "_deepnote_index_column": 11
        },
        {
         "IMF Code": "419",
         "ISO Code": "BHR",
         "Country": "Bahrain",
         "Currency": "Bahrain dinar",
         "_deepnote_index_column": 12
        },
        {
         "IMF Code": "513",
         "ISO Code": "BGD",
         "Country": "Bangladesh",
         "Currency": "Bangladesh taka",
         "_deepnote_index_column": 13
        },
        {
         "IMF Code": "316",
         "ISO Code": "BRB",
         "Country": "Barbados",
         "Currency": "Barbados dollar",
         "_deepnote_index_column": 14
        },
        {
         "IMF Code": "913",
         "ISO Code": "BLR",
         "Country": "Belarus",
         "Currency": "Belarusian rubel",
         "_deepnote_index_column": 15
        },
        {
         "IMF Code": "124",
         "ISO Code": "BEL",
         "Country": "Belgium",
         "Currency": "Euro",
         "_deepnote_index_column": 16
        },
        {
         "IMF Code": "339",
         "ISO Code": "BLZ",
         "Country": "Belize",
         "Currency": "Belize dollar",
         "_deepnote_index_column": 17
        },
        {
         "IMF Code": "638",
         "ISO Code": "BEN",
         "Country": "Benin",
         "Currency": "CFA franc",
         "_deepnote_index_column": 18
        },
        {
         "IMF Code": "514",
         "ISO Code": "BTN",
         "Country": "Bhutan",
         "Currency": "Bhutanese ngultrum",
         "_deepnote_index_column": 19
        },
        {
         "IMF Code": "218",
         "ISO Code": "BOL",
         "Country": "Bolivia",
         "Currency": "Bolivian boliviano",
         "_deepnote_index_column": 20
        },
        {
         "IMF Code": "963",
         "ISO Code": "BIH",
         "Country": "Bosnia and Herzegovina",
         "Currency": "Convertible marka",
         "_deepnote_index_column": 21
        },
        {
         "IMF Code": "616",
         "ISO Code": "BWA",
         "Country": "Botswana",
         "Currency": "Botswana pula",
         "_deepnote_index_column": 22
        },
        {
         "IMF Code": "223",
         "ISO Code": "BRA",
         "Country": "Brazil",
         "Currency": "Brazilian real",
         "_deepnote_index_column": 23
        },
        {
         "IMF Code": "516",
         "ISO Code": "BRN",
         "Country": "Brunei Darussalam",
         "Currency": "Brunei dollar",
         "_deepnote_index_column": 24
        },
        {
         "IMF Code": "918",
         "ISO Code": "BGR",
         "Country": "Bulgaria",
         "Currency": "Bulgarian lev",
         "_deepnote_index_column": 25
        },
        {
         "IMF Code": "748",
         "ISO Code": "BFA",
         "Country": "Burkina Faso",
         "Currency": "CFA franc",
         "_deepnote_index_column": 26
        },
        {
         "IMF Code": "618",
         "ISO Code": "BDI",
         "Country": "Burundi",
         "Currency": "Burundi franc",
         "_deepnote_index_column": 27
        },
        {
         "IMF Code": "624",
         "ISO Code": "CPV",
         "Country": "Cabo Verde",
         "Currency": "Cabo Verde escudo",
         "_deepnote_index_column": 28
        },
        {
         "IMF Code": "522",
         "ISO Code": "KHM",
         "Country": "Cambodia",
         "Currency": "Cambodian riel",
         "_deepnote_index_column": 29
        },
        {
         "IMF Code": "622",
         "ISO Code": "CMR",
         "Country": "Cameroon",
         "Currency": "CFA franc",
         "_deepnote_index_column": 30
        },
        {
         "IMF Code": "156",
         "ISO Code": "CAN",
         "Country": "Canada",
         "Currency": "Canadian dollar",
         "_deepnote_index_column": 31
        },
        {
         "IMF Code": "626",
         "ISO Code": "CAF",
         "Country": "Central African Republic",
         "Currency": "CFA franc",
         "_deepnote_index_column": 32
        },
        {
         "IMF Code": "628",
         "ISO Code": "TCD",
         "Country": "Chad",
         "Currency": "CFA franc",
         "_deepnote_index_column": 33
        },
        {
         "IMF Code": "228",
         "ISO Code": "CHL",
         "Country": "Chile",
         "Currency": "Chilean peso",
         "_deepnote_index_column": 34
        },
        {
         "IMF Code": "924",
         "ISO Code": "CHN",
         "Country": "China",
         "Currency": "Chinese yuan",
         "_deepnote_index_column": 35
        },
        {
         "IMF Code": "233",
         "ISO Code": "COL",
         "Country": "Colombia",
         "Currency": "Colombian peso",
         "_deepnote_index_column": 36
        },
        {
         "IMF Code": "632",
         "ISO Code": "COM",
         "Country": "Comoros",
         "Currency": "Comorian franc",
         "_deepnote_index_column": 37
        },
        {
         "IMF Code": "636",
         "ISO Code": "COD",
         "Country": "Democratic Republic of the Congo",
         "Currency": "Congo franc",
         "_deepnote_index_column": 38
        },
        {
         "IMF Code": "634",
         "ISO Code": "COG",
         "Country": "Republic of Congo",
         "Currency": "CFA franc",
         "_deepnote_index_column": 39
        },
        {
         "IMF Code": "238",
         "ISO Code": "CRI",
         "Country": "Costa Rica",
         "Currency": "Costa Rican col�n",
         "_deepnote_index_column": 40
        },
        {
         "IMF Code": "662",
         "ISO Code": "CIV",
         "Country": "C�te d'Ivoire",
         "Currency": "CFA franc",
         "_deepnote_index_column": 41
        },
        {
         "IMF Code": "960",
         "ISO Code": "HRV",
         "Country": "Croatia",
         "Currency": "Croatian kuna",
         "_deepnote_index_column": 42
        },
        {
         "IMF Code": "423",
         "ISO Code": "CYP",
         "Country": "Cyprus",
         "Currency": "Euro",
         "_deepnote_index_column": 43
        },
        {
         "IMF Code": "935",
         "ISO Code": "CZE",
         "Country": "Czech Republic",
         "Currency": "Czech koruna",
         "_deepnote_index_column": 44
        },
        {
         "IMF Code": "128",
         "ISO Code": "DNK",
         "Country": "Denmark",
         "Currency": "Danish krone",
         "_deepnote_index_column": 45
        },
        {
         "IMF Code": "611",
         "ISO Code": "DJI",
         "Country": "Djibouti",
         "Currency": "Djibouti franc",
         "_deepnote_index_column": 46
        },
        {
         "IMF Code": "321",
         "ISO Code": "DMA",
         "Country": "Dominica",
         "Currency": "Eastern Caribbean dollar",
         "_deepnote_index_column": 47
        },
        {
         "IMF Code": "243",
         "ISO Code": "DOM",
         "Country": "Dominican Republic",
         "Currency": "Dominican peso",
         "_deepnote_index_column": 48
        },
        {
         "IMF Code": "248",
         "ISO Code": "ECU",
         "Country": "Ecuador",
         "Currency": "U.S. dollar",
         "_deepnote_index_column": 49
        },
        {
         "IMF Code": "469",
         "ISO Code": "EGY",
         "Country": "Egypt",
         "Currency": "Egyptian pound",
         "_deepnote_index_column": 50
        },
        {
         "IMF Code": "253",
         "ISO Code": "SLV",
         "Country": "El Salvador",
         "Currency": "U.S. dollar",
         "_deepnote_index_column": 51
        },
        {
         "IMF Code": "642",
         "ISO Code": "GNQ",
         "Country": "Equatorial Guinea",
         "Currency": "CFA franc",
         "_deepnote_index_column": 52
        },
        {
         "IMF Code": "643",
         "ISO Code": "ERI",
         "Country": "Eritrea",
         "Currency": "Eritrean nakfa",
         "_deepnote_index_column": 53
        },
        {
         "IMF Code": "939",
         "ISO Code": "EST",
         "Country": "Estonia",
         "Currency": "Euro",
         "_deepnote_index_column": 54
        },
        {
         "IMF Code": "644",
         "ISO Code": "ETH",
         "Country": "Ethiopia",
         "Currency": "Ethiopian birr",
         "_deepnote_index_column": 55
        },
        {
         "IMF Code": "819",
         "ISO Code": "FJI",
         "Country": "Fiji",
         "Currency": "Fiji dollar",
         "_deepnote_index_column": 56
        },
        {
         "IMF Code": "172",
         "ISO Code": "FIN",
         "Country": "Finland",
         "Currency": "Euro",
         "_deepnote_index_column": 57
        },
        {
         "IMF Code": "132",
         "ISO Code": "FRA",
         "Country": "France",
         "Currency": "Euro",
         "_deepnote_index_column": 58
        },
        {
         "IMF Code": "646",
         "ISO Code": "GAB",
         "Country": "Gabon",
         "Currency": "CFA franc",
         "_deepnote_index_column": 59
        },
        {
         "IMF Code": "648",
         "ISO Code": "GMB",
         "Country": "The Gambia",
         "Currency": "Gambian dalasi",
         "_deepnote_index_column": 60
        },
        {
         "IMF Code": "915",
         "ISO Code": "GEO",
         "Country": "Georgia",
         "Currency": "Georgian lari",
         "_deepnote_index_column": 61
        },
        {
         "IMF Code": "134",
         "ISO Code": "DEU",
         "Country": "Germany",
         "Currency": "Euro",
         "_deepnote_index_column": 62
        },
        {
         "IMF Code": "652",
         "ISO Code": "GHA",
         "Country": "Ghana",
         "Currency": "Ghanaian cedi",
         "_deepnote_index_column": 63
        },
        {
         "IMF Code": "174",
         "ISO Code": "GRC",
         "Country": "Greece",
         "Currency": "Euro",
         "_deepnote_index_column": 64
        },
        {
         "IMF Code": "328",
         "ISO Code": "GRD",
         "Country": "Grenada",
         "Currency": "Eastern Caribbean dollar",
         "_deepnote_index_column": 65
        },
        {
         "IMF Code": "258",
         "ISO Code": "GTM",
         "Country": "Guatemala",
         "Currency": "Guatemalan quetzal",
         "_deepnote_index_column": 66
        },
        {
         "IMF Code": "656",
         "ISO Code": "GIN",
         "Country": "Guinea",
         "Currency": "Guinean franc",
         "_deepnote_index_column": 67
        },
        {
         "IMF Code": "654",
         "ISO Code": "GNB",
         "Country": "Guinea-Bissau",
         "Currency": "CFA franc",
         "_deepnote_index_column": 68
        },
        {
         "IMF Code": "336",
         "ISO Code": "GUY",
         "Country": "Guyana",
         "Currency": "Guyana dollar",
         "_deepnote_index_column": 69
        },
        {
         "IMF Code": "263",
         "ISO Code": "HTI",
         "Country": "Haiti",
         "Currency": "Haitian gourde",
         "_deepnote_index_column": 70
        },
        {
         "IMF Code": "268",
         "ISO Code": "HND",
         "Country": "Honduras",
         "Currency": "Honduran lempira",
         "_deepnote_index_column": 71
        },
        {
         "IMF Code": "532",
         "ISO Code": "HKG",
         "Country": "Hong Kong SAR",
         "Currency": "Hong Kong dollar",
         "_deepnote_index_column": 72
        },
        {
         "IMF Code": "944",
         "ISO Code": "HUN",
         "Country": "Hungary",
         "Currency": "Hungarian forint",
         "_deepnote_index_column": 73
        },
        {
         "IMF Code": "176",
         "ISO Code": "ISL",
         "Country": "Iceland",
         "Currency": "Icelandic kr�na",
         "_deepnote_index_column": 74
        },
        {
         "IMF Code": "534",
         "ISO Code": "IND",
         "Country": "India",
         "Currency": "Indian rupee",
         "_deepnote_index_column": 75
        },
        {
         "IMF Code": "536",
         "ISO Code": "IDN",
         "Country": "Indonesia",
         "Currency": "Indonesian rupiah",
         "_deepnote_index_column": 76
        },
        {
         "IMF Code": "429",
         "ISO Code": "IRN",
         "Country": "Iran",
         "Currency": "Iranian rial",
         "_deepnote_index_column": 77
        },
        {
         "IMF Code": "433",
         "ISO Code": "IRQ",
         "Country": "Iraq",
         "Currency": "Iraqi dinar ",
         "_deepnote_index_column": 78
        },
        {
         "IMF Code": "178",
         "ISO Code": "IRL",
         "Country": "Ireland",
         "Currency": "Euro",
         "_deepnote_index_column": 79
        },
        {
         "IMF Code": "436",
         "ISO Code": "ISR",
         "Country": "Israel",
         "Currency": "Israeli shekel",
         "_deepnote_index_column": 80
        },
        {
         "IMF Code": "136",
         "ISO Code": "ITA",
         "Country": "Italy",
         "Currency": "Euro",
         "_deepnote_index_column": 81
        },
        {
         "IMF Code": "343",
         "ISO Code": "JAM",
         "Country": "Jamaica",
         "Currency": "Jamaica dollar",
         "_deepnote_index_column": 82
        },
        {
         "IMF Code": "158",
         "ISO Code": "JPN",
         "Country": "Japan",
         "Currency": "Japanese yen",
         "_deepnote_index_column": 83
        },
        {
         "IMF Code": "439",
         "ISO Code": "JOR",
         "Country": "Jordan",
         "Currency": "Jordanian dinar",
         "_deepnote_index_column": 84
        },
        {
         "IMF Code": "916",
         "ISO Code": "KAZ",
         "Country": "Kazakhstan",
         "Currency": "Kazakhstani tenge",
         "_deepnote_index_column": 85
        },
        {
         "IMF Code": "664",
         "ISO Code": "KEN",
         "Country": "Kenya",
         "Currency": "Kenya shilling",
         "_deepnote_index_column": 86
        },
        {
         "IMF Code": "826",
         "ISO Code": "KIR",
         "Country": "Kiribati",
         "Currency": "Australian dollar",
         "_deepnote_index_column": 87
        },
        {
         "IMF Code": "542",
         "ISO Code": "KOR",
         "Country": "Korea",
         "Currency": "Korean won",
         "_deepnote_index_column": 88
        },
        {
         "IMF Code": "967",
         "ISO Code": "KOS",
         "Country": "Kosovo",
         "Currency": "Euro",
         "_deepnote_index_column": 89
        },
        {
         "IMF Code": "443",
         "ISO Code": "KWT",
         "Country": "Kuwait",
         "Currency": "Kuwaiti dinar",
         "_deepnote_index_column": 90
        },
        {
         "IMF Code": "917",
         "ISO Code": "KGZ",
         "Country": "Kyrgyz Republic",
         "Currency": "Kyrgyz som",
         "_deepnote_index_column": 91
        },
        {
         "IMF Code": "544",
         "ISO Code": "LAO",
         "Country": "Lao P.D.R.",
         "Currency": "Lao kip",
         "_deepnote_index_column": 92
        },
        {
         "IMF Code": "941",
         "ISO Code": "LVA",
         "Country": "Latvia",
         "Currency": "Latvian lats",
         "_deepnote_index_column": 93
        },
        {
         "IMF Code": "446",
         "ISO Code": "LBN",
         "Country": "Lebanon",
         "Currency": "Lebanese pound",
         "_deepnote_index_column": 94
        },
        {
         "IMF Code": "666",
         "ISO Code": "LSO",
         "Country": "Lesotho",
         "Currency": "Lesotho loti",
         "_deepnote_index_column": 95
        },
        {
         "IMF Code": "668",
         "ISO Code": "LBR",
         "Country": "Liberia",
         "Currency": "U.S. dollar",
         "_deepnote_index_column": 96
        },
        {
         "IMF Code": "672",
         "ISO Code": "LBY",
         "Country": "Libya",
         "Currency": "Libyan dinar",
         "_deepnote_index_column": 97
        },
        {
         "IMF Code": "946",
         "ISO Code": "LTU",
         "Country": "Lithuania",
         "Currency": "Lithuanian litas",
         "_deepnote_index_column": 98
        },
        {
         "IMF Code": "137",
         "ISO Code": "LUX",
         "Country": "Luxembourg",
         "Currency": "Euro",
         "_deepnote_index_column": 99
        },
        {
         "IMF Code": "962",
         "ISO Code": "MKD",
         "Country": "FYR Macedonia",
         "Currency": "Macedonian denar",
         "_deepnote_index_column": 100
        },
        {
         "IMF Code": "674",
         "ISO Code": "MDG",
         "Country": "Madagascar",
         "Currency": "Malagasy ariary",
         "_deepnote_index_column": 101
        },
        {
         "IMF Code": "676",
         "ISO Code": "MWI",
         "Country": "Malawi",
         "Currency": "Malawi kwacha",
         "_deepnote_index_column": 102
        },
        {
         "IMF Code": "548",
         "ISO Code": "MYS",
         "Country": "Malaysia",
         "Currency": "Malaysian ringgit",
         "_deepnote_index_column": 103
        },
        {
         "IMF Code": "556",
         "ISO Code": "MDV",
         "Country": "Maldives",
         "Currency": "Maldivian rufiyaa",
         "_deepnote_index_column": 104
        },
        {
         "IMF Code": "678",
         "ISO Code": "MLI",
         "Country": "Mali",
         "Currency": "CFA franc",
         "_deepnote_index_column": 105
        },
        {
         "IMF Code": "181",
         "ISO Code": "MLT",
         "Country": "Malta",
         "Currency": "Euro",
         "_deepnote_index_column": 106
        },
        {
         "IMF Code": "867",
         "ISO Code": "MHL",
         "Country": "Marshall Islands",
         "Currency": "U.S. dollar",
         "_deepnote_index_column": 107
        },
        {
         "IMF Code": "682",
         "ISO Code": "MRT",
         "Country": "Mauritania",
         "Currency": "Mauritanian ouguiya",
         "_deepnote_index_column": 108
        },
        {
         "IMF Code": "684",
         "ISO Code": "MUS",
         "Country": "Mauritius",
         "Currency": "Mauritian rupee",
         "_deepnote_index_column": 109
        },
        {
         "IMF Code": "273",
         "ISO Code": "MEX",
         "Country": "Mexico",
         "Currency": "Mexican peso",
         "_deepnote_index_column": 110
        },
        {
         "IMF Code": "868",
         "ISO Code": "FSM",
         "Country": "Micronesia",
         "Currency": "U.S. dollar",
         "_deepnote_index_column": 111
        },
        {
         "IMF Code": "921",
         "ISO Code": "MDA",
         "Country": "Moldova",
         "Currency": "Moldovan leu",
         "_deepnote_index_column": 112
        },
        {
         "IMF Code": "948",
         "ISO Code": "MNG",
         "Country": "Mongolia",
         "Currency": "Mongolian togrog",
         "_deepnote_index_column": 113
        },
        {
         "IMF Code": "943",
         "ISO Code": "MNE",
         "Country": "Montenegro",
         "Currency": "Euro",
         "_deepnote_index_column": 114
        },
        {
         "IMF Code": "686",
         "ISO Code": "MAR",
         "Country": "Morocco",
         "Currency": "Moroccan dirham",
         "_deepnote_index_column": 115
        },
        {
         "IMF Code": "688",
         "ISO Code": "MOZ",
         "Country": "Mozambique",
         "Currency": "Mozambican metical",
         "_deepnote_index_column": 116
        },
        {
         "IMF Code": "518",
         "ISO Code": "MMR",
         "Country": "Myanmar",
         "Currency": "Myanmar kyat",
         "_deepnote_index_column": 117
        },
        {
         "IMF Code": "728",
         "ISO Code": "NAM",
         "Country": "Namibia",
         "Currency": "Namibia dollar",
         "_deepnote_index_column": 118
        },
        {
         "IMF Code": "558",
         "ISO Code": "NPL",
         "Country": "Nepal",
         "Currency": "Nepalese rupee",
         "_deepnote_index_column": 119
        },
        {
         "IMF Code": "138",
         "ISO Code": "NLD",
         "Country": "Netherlands",
         "Currency": "Euro",
         "_deepnote_index_column": 120
        },
        {
         "IMF Code": "196",
         "ISO Code": "NZL",
         "Country": "New Zealand",
         "Currency": "New Zealand dollar",
         "_deepnote_index_column": 121
        },
        {
         "IMF Code": "278",
         "ISO Code": "NIC",
         "Country": "Nicaragua",
         "Currency": "Nicaraguan c�rdoba",
         "_deepnote_index_column": 122
        },
        {
         "IMF Code": "692",
         "ISO Code": "NER",
         "Country": "Niger",
         "Currency": "CFA franc",
         "_deepnote_index_column": 123
        },
        {
         "IMF Code": "694",
         "ISO Code": "NGA",
         "Country": "Nigeria",
         "Currency": "Nigerian naira",
         "_deepnote_index_column": 124
        },
        {
         "IMF Code": "142",
         "ISO Code": "NOR",
         "Country": "Norway",
         "Currency": "Norwegian krone",
         "_deepnote_index_column": 125
        },
        {
         "IMF Code": "449",
         "ISO Code": "OMN",
         "Country": "Oman",
         "Currency": "Omani rial",
         "_deepnote_index_column": 126
        },
        {
         "IMF Code": "564",
         "ISO Code": "PAK",
         "Country": "Pakistan",
         "Currency": "Pakistan rupee",
         "_deepnote_index_column": 127
        },
        {
         "IMF Code": "565",
         "ISO Code": "PLW",
         "Country": "Palau",
         "Currency": "U.S. dollar",
         "_deepnote_index_column": 128
        },
        {
         "IMF Code": "283",
         "ISO Code": "PAN",
         "Country": "Panama",
         "Currency": "U.S. dollar",
         "_deepnote_index_column": 129
        },
        {
         "IMF Code": "853",
         "ISO Code": "PNG",
         "Country": "Papua New Guinea",
         "Currency": "Papua New Guinea kina",
         "_deepnote_index_column": 130
        },
        {
         "IMF Code": "288",
         "ISO Code": "PRY",
         "Country": "Paraguay",
         "Currency": "Paraguayan guaran�",
         "_deepnote_index_column": 131
        },
        {
         "IMF Code": "293",
         "ISO Code": "PER",
         "Country": "Peru",
         "Currency": "Peruvian nuevo sol",
         "_deepnote_index_column": 132
        },
        {
         "IMF Code": "566",
         "ISO Code": "PHL",
         "Country": "Philippines",
         "Currency": "Philippine peso",
         "_deepnote_index_column": 133
        },
        {
         "IMF Code": "964",
         "ISO Code": "POL",
         "Country": "Poland",
         "Currency": "Polish zloty",
         "_deepnote_index_column": 134
        },
        {
         "IMF Code": "182",
         "ISO Code": "PRT",
         "Country": "Portugal",
         "Currency": "Euro",
         "_deepnote_index_column": 135
        },
        {
         "IMF Code": "453",
         "ISO Code": "QAT",
         "Country": "Qatar",
         "Currency": "Qatari riyal",
         "_deepnote_index_column": 136
        },
        {
         "IMF Code": "968",
         "ISO Code": "ROM",
         "Country": "Romania",
         "Currency": "Romanian leu",
         "_deepnote_index_column": 137
        },
        {
         "IMF Code": "922",
         "ISO Code": "RUS",
         "Country": "Russia",
         "Currency": "Russian ruble",
         "_deepnote_index_column": 138
        },
        {
         "IMF Code": "714",
         "ISO Code": "RWA",
         "Country": "Rwanda",
         "Currency": "Rwanda franc",
         "_deepnote_index_column": 139
        },
        {
         "IMF Code": "862",
         "ISO Code": "WSM",
         "Country": "Samoa",
         "Currency": "Samoa tala",
         "_deepnote_index_column": 140
        },
        {
         "IMF Code": "135",
         "ISO Code": "SMR",
         "Country": "San Marino",
         "Currency": "Euro",
         "_deepnote_index_column": 141
        },
        {
         "IMF Code": "716",
         "ISO Code": "STP",
         "Country": "S�o Tom� and Pr�ncipe",
         "Currency": "S�o Tom� and Pr�ncipe dobra",
         "_deepnote_index_column": 142
        },
        {
         "IMF Code": "456",
         "ISO Code": "SAU",
         "Country": "Saudi Arabia",
         "Currency": "Saudi Arabian riyal",
         "_deepnote_index_column": 143
        },
        {
         "IMF Code": "722",
         "ISO Code": "SEN",
         "Country": "Senegal",
         "Currency": "CFA franc",
         "_deepnote_index_column": 144
        },
        {
         "IMF Code": "942",
         "ISO Code": "SRB",
         "Country": "Serbia",
         "Currency": "Serbian dinar",
         "_deepnote_index_column": 145
        },
        {
         "IMF Code": "718",
         "ISO Code": "SYC",
         "Country": "Seychelles",
         "Currency": "Seychelles rupee",
         "_deepnote_index_column": 146
        },
        {
         "IMF Code": "724",
         "ISO Code": "SLE",
         "Country": "Sierra Leone",
         "Currency": "Sierra Leonean leone",
         "_deepnote_index_column": 147
        },
        {
         "IMF Code": "576",
         "ISO Code": "SGP",
         "Country": "Singapore",
         "Currency": "Singapore dollar",
         "_deepnote_index_column": 148
        },
        {
         "IMF Code": "936",
         "ISO Code": "SVK",
         "Country": "Slovak Republic",
         "Currency": "Euro",
         "_deepnote_index_column": 149
        },
        {
         "IMF Code": "961",
         "ISO Code": "SVN",
         "Country": "Slovenia",
         "Currency": "Euro",
         "_deepnote_index_column": 150
        },
        {
         "IMF Code": "813",
         "ISO Code": "SLB",
         "Country": "Solomon Islands",
         "Currency": "Solomon Islands dollar",
         "_deepnote_index_column": 151
        },
        {
         "IMF Code": "199",
         "ISO Code": "ZAF",
         "Country": "South Africa",
         "Currency": "South African rand",
         "_deepnote_index_column": 152
        },
        {
         "IMF Code": "733",
         "ISO Code": "SSD",
         "Country": "South Sudan",
         "Currency": "South Sudanese pound",
         "_deepnote_index_column": 153
        },
        {
         "IMF Code": "184",
         "ISO Code": "ESP",
         "Country": "Spain",
         "Currency": "Euro",
         "_deepnote_index_column": 154
        },
        {
         "IMF Code": "524",
         "ISO Code": "LKA",
         "Country": "Sri Lanka",
         "Currency": "Sri Lanka rupee",
         "_deepnote_index_column": 155
        },
        {
         "IMF Code": "361",
         "ISO Code": "KNA",
         "Country": "St. Kitts and Nevis",
         "Currency": "Eastern Caribbean dollar",
         "_deepnote_index_column": 156
        },
        {
         "IMF Code": "362",
         "ISO Code": "LCA",
         "Country": "St. Lucia",
         "Currency": "Eastern Caribbean dollar",
         "_deepnote_index_column": 157
        },
        {
         "IMF Code": "364",
         "ISO Code": "VCT",
         "Country": "St. Vincent and the Grenadines",
         "Currency": "Eastern Caribbean dollar",
         "_deepnote_index_column": 158
        },
        {
         "IMF Code": "732",
         "ISO Code": "SDN",
         "Country": "Sudan",
         "Currency": "Sudanese pound",
         "_deepnote_index_column": 159
        },
        {
         "IMF Code": "366",
         "ISO Code": "SUR",
         "Country": "Suriname",
         "Currency": "Surinamese dollar",
         "_deepnote_index_column": 160
        },
        {
         "IMF Code": "734",
         "ISO Code": "SWZ",
         "Country": "Swaziland",
         "Currency": "Swaziland lilangeni",
         "_deepnote_index_column": 161
        },
        {
         "IMF Code": "144",
         "ISO Code": "SWE",
         "Country": "Sweden",
         "Currency": "Swedish krona",
         "_deepnote_index_column": 162
        },
        {
         "IMF Code": "146",
         "ISO Code": "CHE",
         "Country": "Switzerland",
         "Currency": "Swiss franc",
         "_deepnote_index_column": 163
        },
        {
         "IMF Code": "463",
         "ISO Code": "SYR",
         "Country": "Syria",
         "Currency": "Syrian pound",
         "_deepnote_index_column": 164
        },
        {
         "IMF Code": "528",
         "ISO Code": "TWN",
         "Country": "Taiwan Province of China",
         "Currency": "New Taiwan dollar",
         "_deepnote_index_column": 165
        },
        {
         "IMF Code": "923",
         "ISO Code": "TJK",
         "Country": "Tajikistan",
         "Currency": "Tajik somoni",
         "_deepnote_index_column": 166
        },
        {
         "IMF Code": "738",
         "ISO Code": "TZA",
         "Country": "Tanzania",
         "Currency": "Tanzania shilling",
         "_deepnote_index_column": 167
        },
        {
         "IMF Code": "578",
         "ISO Code": "THA",
         "Country": "Thailand",
         "Currency": "Thai baht",
         "_deepnote_index_column": 168
        },
        {
         "IMF Code": "537",
         "ISO Code": "TLS",
         "Country": "Timor-Leste",
         "Currency": "U.S. dollar",
         "_deepnote_index_column": 169
        },
        {
         "IMF Code": "742",
         "ISO Code": "TGO",
         "Country": "Togo",
         "Currency": "CFA franc",
         "_deepnote_index_column": 170
        },
        {
         "IMF Code": "866",
         "ISO Code": "TON",
         "Country": "Tonga",
         "Currency": "Tongan pa�anga",
         "_deepnote_index_column": 171
        },
        {
         "IMF Code": "369",
         "ISO Code": "TTO",
         "Country": "Trinidad and Tobago",
         "Currency": "Trinidad and Tobago dollar",
         "_deepnote_index_column": 172
        },
        {
         "IMF Code": "744",
         "ISO Code": "TUN",
         "Country": "Tunisia",
         "Currency": "Tunisian dinar",
         "_deepnote_index_column": 173
        },
        {
         "IMF Code": "186",
         "ISO Code": "TUR",
         "Country": "Turkey",
         "Currency": "Turkish lira",
         "_deepnote_index_column": 174
        },
        {
         "IMF Code": "925",
         "ISO Code": "TKM",
         "Country": "Turkmenistan",
         "Currency": "New Turkmen manat",
         "_deepnote_index_column": 175
        },
        {
         "IMF Code": "869",
         "ISO Code": "TUV",
         "Country": "Tuvalu",
         "Currency": "Australian dollar",
         "_deepnote_index_column": 176
        },
        {
         "IMF Code": "746",
         "ISO Code": "UGA",
         "Country": "Uganda",
         "Currency": "Uganda shilling",
         "_deepnote_index_column": 177
        },
        {
         "IMF Code": "926",
         "ISO Code": "UKR",
         "Country": "Ukraine",
         "Currency": "Ukrainian hryvnia",
         "_deepnote_index_column": 178
        },
        {
         "IMF Code": "466",
         "ISO Code": "ARE",
         "Country": "United Arab Emirates",
         "Currency": "U.A.E. dirham",
         "_deepnote_index_column": 179
        },
        {
         "IMF Code": "112",
         "ISO Code": "GBR",
         "Country": "United Kingdom",
         "Currency": "Pound sterling",
         "_deepnote_index_column": 180
        },
        {
         "IMF Code": "111",
         "ISO Code": "USA",
         "Country": "United States",
         "Currency": "U.S. dollar",
         "_deepnote_index_column": 181
        },
        {
         "IMF Code": "298",
         "ISO Code": "URY",
         "Country": "Uruguay",
         "Currency": "Uruguayan peso",
         "_deepnote_index_column": 182
        },
        {
         "IMF Code": "927",
         "ISO Code": "UZB",
         "Country": "Uzbekistan",
         "Currency": "Uzbek sum",
         "_deepnote_index_column": 183
        },
        {
         "IMF Code": "846",
         "ISO Code": "VUT",
         "Country": "Vanuatu",
         "Currency": "Vanuatu vatu",
         "_deepnote_index_column": 184
        },
        {
         "IMF Code": "299",
         "ISO Code": "VEN",
         "Country": "Venezuela",
         "Currency": "Venezuelan bol�var fuerte",
         "_deepnote_index_column": 185
        },
        {
         "IMF Code": "582",
         "ISO Code": "VNM",
         "Country": "Vietnam",
         "Currency": "Vietnamese dong",
         "_deepnote_index_column": 186
        },
        {
         "IMF Code": "474",
         "ISO Code": "YEM",
         "Country": "Yemen",
         "Currency": "Yemeni rial",
         "_deepnote_index_column": 187
        },
        {
         "IMF Code": "754",
         "ISO Code": "ZMB",
         "Country": "Zambia",
         "Currency": "Zambian kwacha",
         "_deepnote_index_column": 188
        },
        {
         "IMF Code": "698",
         "ISO Code": "ZWE",
         "Country": "Zimbabwe",
         "Currency": "U.S. dollar",
         "_deepnote_index_column": 189
        }
       ],
       "rows_bottom": null
      },
      "text/plain": "    IMF Code ISO Code              Country                   Currency\n1        512      AFG          Afghanistan             Afghan Afghani\n2        914      ALB              Albania               Albanian lek\n3        612      DZA              Algeria             Algerian dinar\n4        614      AGO               Angola             Angolan kwanza\n5        311      ATG  Antigua and Barbuda   Eastern Caribbean dollar\n..       ...      ...                  ...                        ...\n185      299      VEN            Venezuela  Venezuelan bol�var fuerte\n186      582      VNM              Vietnam            Vietnamese dong\n187      474      YEM                Yemen                Yemeni rial\n188      754      ZMB               Zambia             Zambian kwacha\n189      698      ZWE             Zimbabwe                U.S. dollar\n\n[189 rows x 4 columns]",
      "text/html": "<div>\n<style scoped>\n    .dataframe tbody tr th:only-of-type {\n        vertical-align: middle;\n    }\n\n    .dataframe tbody tr th {\n        vertical-align: top;\n    }\n\n    .dataframe thead th {\n        text-align: right;\n    }\n</style>\n<table border=\"1\" class=\"dataframe\">\n  <thead>\n    <tr style=\"text-align: right;\">\n      <th></th>\n      <th>IMF Code</th>\n      <th>ISO Code</th>\n      <th>Country</th>\n      <th>Currency</th>\n    </tr>\n  </thead>\n  <tbody>\n    <tr>\n      <th>1</th>\n      <td>512</td>\n      <td>AFG</td>\n      <td>Afghanistan</td>\n      <td>Afghan Afghani</td>\n    </tr>\n    <tr>\n      <th>2</th>\n      <td>914</td>\n      <td>ALB</td>\n      <td>Albania</td>\n      <td>Albanian lek</td>\n    </tr>\n    <tr>\n      <th>3</th>\n      <td>612</td>\n      <td>DZA</td>\n      <td>Algeria</td>\n      <td>Algerian dinar</td>\n    </tr>\n    <tr>\n      <th>4</th>\n      <td>614</td>\n      <td>AGO</td>\n      <td>Angola</td>\n      <td>Angolan kwanza</td>\n    </tr>\n    <tr>\n      <th>5</th>\n      <td>311</td>\n      <td>ATG</td>\n      <td>Antigua and Barbuda</td>\n      <td>Eastern Caribbean dollar</td>\n    </tr>\n    <tr>\n      <th>...</th>\n      <td>...</td>\n      <td>...</td>\n      <td>...</td>\n      <td>...</td>\n    </tr>\n    <tr>\n      <th>185</th>\n      <td>299</td>\n      <td>VEN</td>\n      <td>Venezuela</td>\n      <td>Venezuelan bol�var fuerte</td>\n    </tr>\n    <tr>\n      <th>186</th>\n      <td>582</td>\n      <td>VNM</td>\n      <td>Vietnam</td>\n      <td>Vietnamese dong</td>\n    </tr>\n    <tr>\n      <th>187</th>\n      <td>474</td>\n      <td>YEM</td>\n      <td>Yemen</td>\n      <td>Yemeni rial</td>\n    </tr>\n    <tr>\n      <th>188</th>\n      <td>754</td>\n      <td>ZMB</td>\n      <td>Zambia</td>\n      <td>Zambian kwacha</td>\n    </tr>\n    <tr>\n      <th>189</th>\n      <td>698</td>\n      <td>ZWE</td>\n      <td>Zimbabwe</td>\n      <td>U.S. dollar</td>\n    </tr>\n  </tbody>\n</table>\n<p>189 rows × 4 columns</p>\n</div>"
     },
     "metadata": {}
    }
   ]
  },
  {
   "cell_type": "markdown",
   "source": "### World Develpment Indicators (WDI) Data - The World Bank\nNotes on outstanding work: 1 - Make Data DateTime Object. 2 - concat the Indicator code to the title name",
   "metadata": {
    "tags": [],
    "cell_id": "00005-56220bab-cdda-47b2-b9cb-45a1771d329c",
    "deepnote_cell_type": "markdown"
   }
  },
  {
   "cell_type": "code",
   "metadata": {
    "tags": [],
    "cell_id": "00006-8e75edd4-0d3d-4450-ae15-b06af20baa2f",
    "deepnote_to_be_reexecuted": false,
    "source_hash": "230ee93c",
    "execution_start": 1624655296614,
    "execution_millis": 22,
    "deepnote_cell_type": "code"
   },
   "source": "wdi_sample = pd.read_csv('WDI - sample.csv')",
   "execution_count": null,
   "outputs": []
  },
  {
   "cell_type": "code",
   "metadata": {
    "tags": [],
    "cell_id": "00001-f9f08959-c4b7-4879-8420-8d20f7020fd0",
    "deepnote_to_be_reexecuted": false,
    "source_hash": "7ccc11c9",
    "execution_start": 1624655282639,
    "execution_millis": 359,
    "deepnote_cell_type": "code"
   },
   "source": "\n#Clean titles\n#Create Dictionary of column header mapping & use rename function\nold_columns = wdi_sample.columns[4::]\nyr_columns = wdi_sample.columns[4::].str[:4]\nyr_columns_dict = dict(zip(old_columns, yr_columns))\nwdi_sample.rename(columns = yr_columns_dict, inplace = True)\n\n#Country Selection\ncntrys = ['South Africa', 'Afghanistan']\nwdi_sample[wdi_sample['Country Name'].isin(cntrys)]\n\n#Reform Pivotted Data\nwdi_sample.drop(['Series Code'], axis=1, inplace = True)\nwdi_sample = wdi_sample.melt(id_vars=['Country Name','Country Code','Series Name'], var_name='Year', value_name='Value' ).copy()\n# Note, this won't work unless you've got selected countries! \nwdi_sample = wdi_sample.pivot(index=['Year', 'Country Name' ,'Country Code'], columns='Series Name', values='Value').reset_index().copy()",
   "execution_count": null,
   "outputs": [
    {
     "output_type": "error",
     "ename": "ValueError",
     "evalue": "Index contains duplicate entries, cannot reshape",
     "traceback": [
      "\u001b[0;31m---------------------------------------------------------------------------\u001b[0m",
      "\u001b[0;31mValueError\u001b[0m                                Traceback (most recent call last)",
      "\u001b[0;32m<ipython-input-62-95994775e901>\u001b[0m in \u001b[0;36m<module>\u001b[0;34m\u001b[0m\n\u001b[1;32m     15\u001b[0m \u001b[0mwdi_sample\u001b[0m \u001b[0;34m=\u001b[0m \u001b[0mwdi_sample\u001b[0m\u001b[0;34m.\u001b[0m\u001b[0mmelt\u001b[0m\u001b[0;34m(\u001b[0m\u001b[0mid_vars\u001b[0m\u001b[0;34m=\u001b[0m\u001b[0;34m[\u001b[0m\u001b[0;34m'Country Name'\u001b[0m\u001b[0;34m,\u001b[0m\u001b[0;34m'Country Code'\u001b[0m\u001b[0;34m,\u001b[0m\u001b[0;34m'Series Name'\u001b[0m\u001b[0;34m]\u001b[0m\u001b[0;34m,\u001b[0m \u001b[0mvar_name\u001b[0m\u001b[0;34m=\u001b[0m\u001b[0;34m'Year'\u001b[0m\u001b[0;34m,\u001b[0m \u001b[0mvalue_name\u001b[0m\u001b[0;34m=\u001b[0m\u001b[0;34m'Value'\u001b[0m \u001b[0;34m)\u001b[0m\u001b[0;34m.\u001b[0m\u001b[0mcopy\u001b[0m\u001b[0;34m(\u001b[0m\u001b[0;34m)\u001b[0m\u001b[0;34m\u001b[0m\u001b[0;34m\u001b[0m\u001b[0m\n\u001b[1;32m     16\u001b[0m \u001b[0;31m# Note, this won't work unless you've got selected countries!\u001b[0m\u001b[0;34m\u001b[0m\u001b[0;34m\u001b[0m\u001b[0;34m\u001b[0m\u001b[0m\n\u001b[0;32m---> 17\u001b[0;31m \u001b[0mwdi_sample\u001b[0m \u001b[0;34m=\u001b[0m \u001b[0mwdi_sample\u001b[0m\u001b[0;34m.\u001b[0m\u001b[0mpivot\u001b[0m\u001b[0;34m(\u001b[0m\u001b[0mindex\u001b[0m\u001b[0;34m=\u001b[0m\u001b[0;34m[\u001b[0m\u001b[0;34m'Year'\u001b[0m\u001b[0;34m,\u001b[0m \u001b[0;34m'Country Name'\u001b[0m \u001b[0;34m,\u001b[0m\u001b[0;34m'Country Code'\u001b[0m\u001b[0;34m]\u001b[0m\u001b[0;34m,\u001b[0m \u001b[0mcolumns\u001b[0m\u001b[0;34m=\u001b[0m\u001b[0;34m'Series Name'\u001b[0m\u001b[0;34m,\u001b[0m \u001b[0mvalues\u001b[0m\u001b[0;34m=\u001b[0m\u001b[0;34m'Value'\u001b[0m\u001b[0;34m)\u001b[0m\u001b[0;34m.\u001b[0m\u001b[0mreset_index\u001b[0m\u001b[0;34m(\u001b[0m\u001b[0;34m)\u001b[0m\u001b[0;34m.\u001b[0m\u001b[0mcopy\u001b[0m\u001b[0;34m(\u001b[0m\u001b[0;34m)\u001b[0m\u001b[0;34m\u001b[0m\u001b[0;34m\u001b[0m\u001b[0m\n\u001b[0m",
      "\u001b[0;32m/shared-libs/python3.7/py/lib/python3.7/site-packages/pandas/core/frame.py\u001b[0m in \u001b[0;36mpivot\u001b[0;34m(self, index, columns, values)\u001b[0m\n\u001b[1;32m   6877\u001b[0m         \u001b[0;32mfrom\u001b[0m \u001b[0mpandas\u001b[0m\u001b[0;34m.\u001b[0m\u001b[0mcore\u001b[0m\u001b[0;34m.\u001b[0m\u001b[0mreshape\u001b[0m\u001b[0;34m.\u001b[0m\u001b[0mpivot\u001b[0m \u001b[0;32mimport\u001b[0m \u001b[0mpivot\u001b[0m\u001b[0;34m\u001b[0m\u001b[0;34m\u001b[0m\u001b[0m\n\u001b[1;32m   6878\u001b[0m \u001b[0;34m\u001b[0m\u001b[0m\n\u001b[0;32m-> 6879\u001b[0;31m         \u001b[0;32mreturn\u001b[0m \u001b[0mpivot\u001b[0m\u001b[0;34m(\u001b[0m\u001b[0mself\u001b[0m\u001b[0;34m,\u001b[0m \u001b[0mindex\u001b[0m\u001b[0;34m=\u001b[0m\u001b[0mindex\u001b[0m\u001b[0;34m,\u001b[0m \u001b[0mcolumns\u001b[0m\u001b[0;34m=\u001b[0m\u001b[0mcolumns\u001b[0m\u001b[0;34m,\u001b[0m \u001b[0mvalues\u001b[0m\u001b[0;34m=\u001b[0m\u001b[0mvalues\u001b[0m\u001b[0;34m)\u001b[0m\u001b[0;34m\u001b[0m\u001b[0;34m\u001b[0m\u001b[0m\n\u001b[0m\u001b[1;32m   6880\u001b[0m \u001b[0;34m\u001b[0m\u001b[0m\n\u001b[1;32m   6881\u001b[0m     _shared_docs[\n",
      "\u001b[0;32m/shared-libs/python3.7/py/lib/python3.7/site-packages/pandas/core/reshape/pivot.py\u001b[0m in \u001b[0;36mpivot\u001b[0;34m(data, index, columns, values)\u001b[0m\n\u001b[1;32m    459\u001b[0m         \u001b[0;32melse\u001b[0m\u001b[0;34m:\u001b[0m\u001b[0;34m\u001b[0m\u001b[0;34m\u001b[0m\u001b[0m\n\u001b[1;32m    460\u001b[0m             \u001b[0mindexed\u001b[0m \u001b[0;34m=\u001b[0m \u001b[0mdata\u001b[0m\u001b[0;34m.\u001b[0m\u001b[0m_constructor_sliced\u001b[0m\u001b[0;34m(\u001b[0m\u001b[0mdata\u001b[0m\u001b[0;34m[\u001b[0m\u001b[0mvalues\u001b[0m\u001b[0;34m]\u001b[0m\u001b[0;34m.\u001b[0m\u001b[0m_values\u001b[0m\u001b[0;34m,\u001b[0m \u001b[0mindex\u001b[0m\u001b[0;34m=\u001b[0m\u001b[0mindex\u001b[0m\u001b[0;34m)\u001b[0m\u001b[0;34m\u001b[0m\u001b[0;34m\u001b[0m\u001b[0m\n\u001b[0;32m--> 461\u001b[0;31m     \u001b[0;32mreturn\u001b[0m \u001b[0mindexed\u001b[0m\u001b[0;34m.\u001b[0m\u001b[0munstack\u001b[0m\u001b[0;34m(\u001b[0m\u001b[0mcolumns\u001b[0m\u001b[0;34m)\u001b[0m\u001b[0;34m\u001b[0m\u001b[0;34m\u001b[0m\u001b[0m\n\u001b[0m\u001b[1;32m    462\u001b[0m \u001b[0;34m\u001b[0m\u001b[0m\n\u001b[1;32m    463\u001b[0m \u001b[0;34m\u001b[0m\u001b[0m\n",
      "\u001b[0;32m/shared-libs/python3.7/py/lib/python3.7/site-packages/pandas/core/series.py\u001b[0m in \u001b[0;36munstack\u001b[0;34m(self, level, fill_value)\u001b[0m\n\u001b[1;32m   3827\u001b[0m         \u001b[0;32mfrom\u001b[0m \u001b[0mpandas\u001b[0m\u001b[0;34m.\u001b[0m\u001b[0mcore\u001b[0m\u001b[0;34m.\u001b[0m\u001b[0mreshape\u001b[0m\u001b[0;34m.\u001b[0m\u001b[0mreshape\u001b[0m \u001b[0;32mimport\u001b[0m \u001b[0munstack\u001b[0m\u001b[0;34m\u001b[0m\u001b[0;34m\u001b[0m\u001b[0m\n\u001b[1;32m   3828\u001b[0m \u001b[0;34m\u001b[0m\u001b[0m\n\u001b[0;32m-> 3829\u001b[0;31m         \u001b[0;32mreturn\u001b[0m \u001b[0munstack\u001b[0m\u001b[0;34m(\u001b[0m\u001b[0mself\u001b[0m\u001b[0;34m,\u001b[0m \u001b[0mlevel\u001b[0m\u001b[0;34m,\u001b[0m \u001b[0mfill_value\u001b[0m\u001b[0;34m)\u001b[0m\u001b[0;34m\u001b[0m\u001b[0;34m\u001b[0m\u001b[0m\n\u001b[0m\u001b[1;32m   3830\u001b[0m \u001b[0;34m\u001b[0m\u001b[0m\n\u001b[1;32m   3831\u001b[0m     \u001b[0;31m# ----------------------------------------------------------------------\u001b[0m\u001b[0;34m\u001b[0m\u001b[0;34m\u001b[0m\u001b[0;34m\u001b[0m\u001b[0m\n",
      "\u001b[0;32m/shared-libs/python3.7/py/lib/python3.7/site-packages/pandas/core/reshape/reshape.py\u001b[0m in \u001b[0;36munstack\u001b[0;34m(obj, level, fill_value)\u001b[0m\n\u001b[1;32m    429\u001b[0m             \u001b[0;32mreturn\u001b[0m \u001b[0m_unstack_extension_series\u001b[0m\u001b[0;34m(\u001b[0m\u001b[0mobj\u001b[0m\u001b[0;34m,\u001b[0m \u001b[0mlevel\u001b[0m\u001b[0;34m,\u001b[0m \u001b[0mfill_value\u001b[0m\u001b[0;34m)\u001b[0m\u001b[0;34m\u001b[0m\u001b[0;34m\u001b[0m\u001b[0m\n\u001b[1;32m    430\u001b[0m         unstacker = _Unstacker(\n\u001b[0;32m--> 431\u001b[0;31m             \u001b[0mobj\u001b[0m\u001b[0;34m.\u001b[0m\u001b[0mindex\u001b[0m\u001b[0;34m,\u001b[0m \u001b[0mlevel\u001b[0m\u001b[0;34m=\u001b[0m\u001b[0mlevel\u001b[0m\u001b[0;34m,\u001b[0m \u001b[0mconstructor\u001b[0m\u001b[0;34m=\u001b[0m\u001b[0mobj\u001b[0m\u001b[0;34m.\u001b[0m\u001b[0m_constructor_expanddim\u001b[0m\u001b[0;34m\u001b[0m\u001b[0;34m\u001b[0m\u001b[0m\n\u001b[0m\u001b[1;32m    432\u001b[0m         )\n\u001b[1;32m    433\u001b[0m         return unstacker.get_result(\n",
      "\u001b[0;32m/shared-libs/python3.7/py/lib/python3.7/site-packages/pandas/core/reshape/reshape.py\u001b[0m in \u001b[0;36m__init__\u001b[0;34m(self, index, level, constructor)\u001b[0m\n\u001b[1;32m    116\u001b[0m             \u001b[0;32mraise\u001b[0m \u001b[0mValueError\u001b[0m\u001b[0;34m(\u001b[0m\u001b[0;34m\"Unstacked DataFrame is too big, causing int32 overflow\"\u001b[0m\u001b[0;34m)\u001b[0m\u001b[0;34m\u001b[0m\u001b[0;34m\u001b[0m\u001b[0m\n\u001b[1;32m    117\u001b[0m \u001b[0;34m\u001b[0m\u001b[0m\n\u001b[0;32m--> 118\u001b[0;31m         \u001b[0mself\u001b[0m\u001b[0;34m.\u001b[0m\u001b[0m_make_selectors\u001b[0m\u001b[0;34m(\u001b[0m\u001b[0;34m)\u001b[0m\u001b[0;34m\u001b[0m\u001b[0;34m\u001b[0m\u001b[0m\n\u001b[0m\u001b[1;32m    119\u001b[0m \u001b[0;34m\u001b[0m\u001b[0m\n\u001b[1;32m    120\u001b[0m     \u001b[0;34m@\u001b[0m\u001b[0mcache_readonly\u001b[0m\u001b[0;34m\u001b[0m\u001b[0;34m\u001b[0m\u001b[0m\n",
      "\u001b[0;32m/shared-libs/python3.7/py/lib/python3.7/site-packages/pandas/core/reshape/reshape.py\u001b[0m in \u001b[0;36m_make_selectors\u001b[0;34m(self)\u001b[0m\n\u001b[1;32m    165\u001b[0m \u001b[0;34m\u001b[0m\u001b[0m\n\u001b[1;32m    166\u001b[0m         \u001b[0;32mif\u001b[0m \u001b[0mmask\u001b[0m\u001b[0;34m.\u001b[0m\u001b[0msum\u001b[0m\u001b[0;34m(\u001b[0m\u001b[0;34m)\u001b[0m \u001b[0;34m<\u001b[0m \u001b[0mlen\u001b[0m\u001b[0;34m(\u001b[0m\u001b[0mself\u001b[0m\u001b[0;34m.\u001b[0m\u001b[0mindex\u001b[0m\u001b[0;34m)\u001b[0m\u001b[0;34m:\u001b[0m\u001b[0;34m\u001b[0m\u001b[0;34m\u001b[0m\u001b[0m\n\u001b[0;32m--> 167\u001b[0;31m             \u001b[0;32mraise\u001b[0m \u001b[0mValueError\u001b[0m\u001b[0;34m(\u001b[0m\u001b[0;34m\"Index contains duplicate entries, cannot reshape\"\u001b[0m\u001b[0;34m)\u001b[0m\u001b[0;34m\u001b[0m\u001b[0;34m\u001b[0m\u001b[0m\n\u001b[0m\u001b[1;32m    168\u001b[0m \u001b[0;34m\u001b[0m\u001b[0m\n\u001b[1;32m    169\u001b[0m         \u001b[0mself\u001b[0m\u001b[0;34m.\u001b[0m\u001b[0mgroup_index\u001b[0m \u001b[0;34m=\u001b[0m \u001b[0mcomp_index\u001b[0m\u001b[0;34m\u001b[0m\u001b[0;34m\u001b[0m\u001b[0m\n",
      "\u001b[0;31mValueError\u001b[0m: Index contains duplicate entries, cannot reshape"
     ]
    }
   ]
  },
  {
   "cell_type": "code",
   "metadata": {
    "tags": [],
    "cell_id": "00007-99d6088b-ee43-4452-a933-6b892702f10c",
    "deepnote_cell_type": "code"
   },
   "source": "wdi_sample",
   "execution_count": null,
   "outputs": []
  },
  {
   "cell_type": "markdown",
   "source": "#### World Development Indicators data Cleaning Function\n\n",
   "metadata": {
    "tags": [],
    "cell_id": "00003-b1599cf0-0960-4347-9cd2-9bebb486225e",
    "deepnote_cell_type": "markdown"
   }
  },
  {
   "cell_type": "code",
   "metadata": {
    "tags": [],
    "cell_id": "00003-05a2acd4-f3d4-4988-8ce3-d4207152de02",
    "deepnote_to_be_reexecuted": false,
    "source_hash": "11e76033",
    "execution_start": 1624655305976,
    "execution_millis": 1,
    "deepnote_cell_type": "code"
   },
   "source": "def clean_wdi_data(dataset, countries, date_from = 1980, date_to = 2002 ):\n    '''\n    dataset {df}: WDI Data sample\n    countries {List}: List of countries to be inclided in Dataset\n    date_from {int}: Lowest year - default 1980\n    date_to {int}: Highest Yeat - default 2020\n\n    Output{df}: Year, Country Name , Country Code, [Series Names]\n\n    '''\n    #Clean titles\n    #Create Dictionary of column header mapping & use rename function\n    old_columns = dataset.columns[4::]\n    yr_columns = dataset.columns[4::].str[:4]\n    yr_columns_dict = dict(zip(old_columns, yr_columns))\n    dataset.rename(columns = yr_columns_dict, inplace = True)\n    \n    #Country Selection\n    dataset = dataset[dataset['Country Name'].isin(countries)].copy()\n    \n    #Reform Pivotted Data\n    dataset.drop([ 'Series Code'], axis=1, inplace = True)\n    dataset = dataset.melt(id_vars=['Country Name','Country Code','Series Name'], var_name='Year', value_name='Value' ).copy()\n    dataset = dataset.pivot(index=['Year', 'Country Name', 'Country Code'], columns='Series Name', values='Value').reset_index().copy()\n\n    return dataset",
   "execution_count": null,
   "outputs": []
  },
  {
   "cell_type": "code",
   "metadata": {
    "tags": [],
    "cell_id": "00005-2eaaddb1-1463-4b04-a132-a9e66aa733c3",
    "deepnote_to_be_reexecuted": false,
    "source_hash": "9b47cb8b",
    "execution_start": 1624655309279,
    "execution_millis": 20,
    "deepnote_cell_type": "code"
   },
   "source": "test = pd.read_csv('WDI - sample.csv')\nhun = ['Hungary', 'South Africa']\nclean_wdi_data(test, hun, date_from = 1980, date_to = 2002 )",
   "execution_count": null,
   "outputs": [
    {
     "output_type": "execute_result",
     "execution_count": 65,
     "data": {
      "application/vnd.deepnote.dataframe.v2+json": {
       "row_count": 82,
       "column_count": 7,
       "columns": [
        {
         "name": "Year",
         "dtype": "object",
         "stats": {
          "unique_count": 41,
          "nan_count": 0,
          "categories": [
           {
            "name": "1980",
            "count": 2
           },
           {
            "name": "1981",
            "count": 2
           },
           {
            "name": "39 others",
            "count": 78
           }
          ]
         }
        },
        {
         "name": "Country Name",
         "dtype": "object",
         "stats": {
          "unique_count": 2,
          "nan_count": 0,
          "categories": [
           {
            "name": "Hungary",
            "count": 41
           },
           {
            "name": "South Africa",
            "count": 41
           }
          ]
         }
        },
        {
         "name": "Country Code",
         "dtype": "object",
         "stats": {
          "unique_count": 2,
          "nan_count": 0,
          "categories": [
           {
            "name": "HUN",
            "count": 41
           },
           {
            "name": "ZAF",
            "count": 41
           }
          ]
         }
        },
        {
         "name": "Broad money growth (annual %)",
         "dtype": "object",
         "stats": {
          "unique_count": 80,
          "nan_count": 0,
          "categories": [
           {
            "name": "..",
            "count": 3
           },
           {
            "name": "22.8507513885544",
            "count": 1
           },
           {
            "name": "78 others",
            "count": 78
           }
          ]
         }
        },
        {
         "name": "Broad money to total reserves ratio",
         "dtype": "object",
         "stats": {
          "unique_count": 78,
          "nan_count": 0,
          "categories": [
           {
            "name": "..",
            "count": 5
           },
           {
            "name": "5.47953147000172",
            "count": 1
           },
           {
            "name": "76 others",
            "count": 76
           }
          ]
         }
        },
        {
         "name": "Gross capital formation (constant 2010 US$)",
         "dtype": "object",
         "stats": {
          "unique_count": 70,
          "nan_count": 0,
          "categories": [
           {
            "name": "..",
            "count": 13
           },
           {
            "name": "41470623355.0728",
            "count": 1
           },
           {
            "name": "68 others",
            "count": 68
           }
          ]
         }
        },
        {
         "name": "Real effective exchange rate index (2010 = 100)",
         "dtype": "object",
         "stats": {
          "unique_count": 71,
          "nan_count": 0,
          "categories": [
           {
            "name": "..",
            "count": 11
           },
           {
            "name": "100",
            "count": 2
           },
           {
            "name": "69 others",
            "count": 69
           }
          ]
         }
        },
        {
         "name": "_deepnote_index_column",
         "dtype": "int64"
        }
       ],
       "rows_top": [
        {
         "Year": "1980",
         "Country Name": "Hungary",
         "Country Code": "HUN",
         "Broad money growth (annual %)": "..",
         "Broad money to total reserves ratio": "..",
         "Gross capital formation (constant 2010 US$)": "..",
         "Real effective exchange rate index (2010 = 100)": "..",
         "_deepnote_index_column": 0
        },
        {
         "Year": "1980",
         "Country Name": "South Africa",
         "Country Code": "ZAF",
         "Broad money growth (annual %)": "22.8507513885544",
         "Broad money to total reserves ratio": "5.47953147000172",
         "Gross capital formation (constant 2010 US$)": "41470623355.0728",
         "Real effective exchange rate index (2010 = 100)": "165.188043881133",
         "_deepnote_index_column": 1
        },
        {
         "Year": "1981",
         "Country Name": "Hungary",
         "Country Code": "HUN",
         "Broad money growth (annual %)": "..",
         "Broad money to total reserves ratio": "..",
         "Gross capital formation (constant 2010 US$)": "..",
         "Real effective exchange rate index (2010 = 100)": "..",
         "_deepnote_index_column": 2
        },
        {
         "Year": "1981",
         "Country Name": "South Africa",
         "Country Code": "ZAF",
         "Broad money growth (annual %)": "17.2048728177921",
         "Broad money to total reserves ratio": "10.3143593733789",
         "Gross capital formation (constant 2010 US$)": "45629364093.4814",
         "Real effective exchange rate index (2010 = 100)": "173.965017856705",
         "_deepnote_index_column": 3
        },
        {
         "Year": "1982",
         "Country Name": "Hungary",
         "Country Code": "HUN",
         "Broad money growth (annual %)": "..",
         "Broad money to total reserves ratio": "..",
         "Gross capital formation (constant 2010 US$)": "..",
         "Real effective exchange rate index (2010 = 100)": "..",
         "_deepnote_index_column": 4
        },
        {
         "Year": "1982",
         "Country Name": "South Africa",
         "Country Code": "ZAF",
         "Broad money growth (annual %)": "13.5091569892691",
         "Broad money to total reserves ratio": "10.4579718376836",
         "Gross capital formation (constant 2010 US$)": "36172043175.6022",
         "Real effective exchange rate index (2010 = 100)": "164.846042475023",
         "_deepnote_index_column": 5
        },
        {
         "Year": "1983",
         "Country Name": "Hungary",
         "Country Code": "HUN",
         "Broad money growth (annual %)": "2.28284278535535",
         "Broad money to total reserves ratio": "5.51699493635597",
         "Gross capital formation (constant 2010 US$)": "..",
         "Real effective exchange rate index (2010 = 100)": "..",
         "_deepnote_index_column": 6
        },
        {
         "Year": "1983",
         "Country Name": "South Africa",
         "Country Code": "ZAF",
         "Broad money growth (annual %)": "13.8274118928961",
         "Broad money to total reserves ratio": "12.0584094977718",
         "Gross capital formation (constant 2010 US$)": "37495458914.9013",
         "Real effective exchange rate index (2010 = 100)": "181.355537141613",
         "_deepnote_index_column": 7
        },
        {
         "Year": "1984",
         "Country Name": "Hungary",
         "Country Code": "HUN",
         "Broad money growth (annual %)": "5.10247052217855",
         "Broad money to total reserves ratio": "4.25815773895428",
         "Gross capital formation (constant 2010 US$)": "..",
         "Real effective exchange rate index (2010 = 100)": "..",
         "_deepnote_index_column": 8
        },
        {
         "Year": "1984",
         "Country Name": "South Africa",
         "Country Code": "ZAF",
         "Broad money growth (annual %)": "19.8047438955496",
         "Broad money to total reserves ratio": "16.4874697014856",
         "Gross capital formation (constant 2010 US$)": "37555011940.2222",
         "Real effective exchange rate index (2010 = 100)": "160.049304929869",
         "_deepnote_index_column": 9
        },
        {
         "Year": "1985",
         "Country Name": "Hungary",
         "Country Code": "HUN",
         "Broad money growth (annual %)": "10.9159710628826",
         "Broad money to total reserves ratio": "3.41163289220185",
         "Gross capital formation (constant 2010 US$)": "..",
         "Real effective exchange rate index (2010 = 100)": "..",
         "_deepnote_index_column": 10
        },
        {
         "Year": "1985",
         "Country Name": "South Africa",
         "Country Code": "ZAF",
         "Broad money growth (annual %)": "14.6210018747288",
         "Broad money to total reserves ratio": "16.5562575338728",
         "Gross capital formation (constant 2010 US$)": "30589083641.2733",
         "Real effective exchange rate index (2010 = 100)": "121.462918274318",
         "_deepnote_index_column": 11
        },
        {
         "Year": "1986",
         "Country Name": "Hungary",
         "Country Code": "HUN",
         "Broad money growth (annual %)": "8.76999337735054",
         "Broad money to total reserves ratio": "3.67354077289799",
         "Gross capital formation (constant 2010 US$)": "..",
         "Real effective exchange rate index (2010 = 100)": "..",
         "_deepnote_index_column": 12
        },
        {
         "Year": "1986",
         "Country Name": "South Africa",
         "Country Code": "ZAF",
         "Broad money growth (annual %)": "8.79447070831015",
         "Broad money to total reserves ratio": "14.7863376170224",
         "Gross capital formation (constant 2010 US$)": "26702702381.0527",
         "Real effective exchange rate index (2010 = 100)": "112.115382346558",
         "_deepnote_index_column": 13
        },
        {
         "Year": "1987",
         "Country Name": "Hungary",
         "Country Code": "HUN",
         "Broad money growth (annual %)": "9.6440893743427",
         "Broad money to total reserves ratio": "5.20919175776884",
         "Gross capital formation (constant 2010 US$)": "..",
         "Real effective exchange rate index (2010 = 100)": "..",
         "_deepnote_index_column": 14
        },
        {
         "Year": "1987",
         "Country Name": "South Africa",
         "Country Code": "ZAF",
         "Broad money growth (annual %)": "19.5232658827669",
         "Broad money to total reserves ratio": "12.9109378924433",
         "Gross capital formation (constant 2010 US$)": "25654104731.0786",
         "Real effective exchange rate index (2010 = 100)": "126.616870498102",
         "_deepnote_index_column": 15
        },
        {
         "Year": "1988",
         "Country Name": "Hungary",
         "Country Code": "HUN",
         "Broad money growth (annual %)": "2.19264295089691",
         "Broad money to total reserves ratio": "5.68005233145182",
         "Gross capital formation (constant 2010 US$)": "..",
         "Real effective exchange rate index (2010 = 100)": "..",
         "_deepnote_index_column": 16
        },
        {
         "Year": "1988",
         "Country Name": "South Africa",
         "Country Code": "ZAF",
         "Broad money growth (annual %)": "27.0157226227257",
         "Broad money to total reserves ratio": "23.0787609541221",
         "Gross capital formation (constant 2010 US$)": "31272577537.3878",
         "Real effective exchange rate index (2010 = 100)": "120.493835463651",
         "_deepnote_index_column": 17
        },
        {
         "Year": "1989",
         "Country Name": "Hungary",
         "Country Code": "HUN",
         "Broad money growth (annual %)": "16.5329578949102",
         "Broad money to total reserves ratio": "6.48933685941606",
         "Gross capital formation (constant 2010 US$)": "..",
         "Real effective exchange rate index (2010 = 100)": "..",
         "_deepnote_index_column": 18
        },
        {
         "Year": "1989",
         "Country Name": "South Africa",
         "Country Code": "ZAF",
         "Broad money growth (annual %)": "20.5695616826956",
         "Broad money to total reserves ratio": "24.2178241103888",
         "Gross capital formation (constant 2010 US$)": "32157131188.7141",
         "Real effective exchange rate index (2010 = 100)": "121.368135323546",
         "_deepnote_index_column": 19
        },
        {
         "Year": "1990",
         "Country Name": "Hungary",
         "Country Code": "HUN",
         "Broad money growth (annual %)": "29.1909062262874",
         "Broad money to total reserves ratio": "12.2119957813384",
         "Gross capital formation (constant 2010 US$)": "..",
         "Real effective exchange rate index (2010 = 100)": "..",
         "_deepnote_index_column": 20
        },
        {
         "Year": "1990",
         "Country Name": "South Africa",
         "Country Code": "ZAF",
         "Broad money growth (annual %)": "11.8541812895805",
         "Broad money to total reserves ratio": "23.3327557711003",
         "Gross capital formation (constant 2010 US$)": "28362811256.6272",
         "Real effective exchange rate index (2010 = 100)": "125.034721185874",
         "_deepnote_index_column": 21
        },
        {
         "Year": "1991",
         "Country Name": "Hungary",
         "Country Code": "HUN",
         "Broad money growth (annual %)": "29.3872193814771",
         "Broad money to total reserves ratio": "3.9320404628011",
         "Gross capital formation (constant 2010 US$)": "15586212531.4746",
         "Real effective exchange rate index (2010 = 100)": "58.7330344641226",
         "_deepnote_index_column": 22
        },
        {
         "Year": "1991",
         "Country Name": "South Africa",
         "Country Code": "ZAF",
         "Broad money growth (annual %)": "17.1112327445867",
         "Broad money to total reserves ratio": "20.7538925192633",
         "Gross capital formation (constant 2010 US$)": "28268427906.864",
         "Real effective exchange rate index (2010 = 100)": "129.942276583969",
         "_deepnote_index_column": 23
        },
        {
         "Year": "1992",
         "Country Name": "Hungary",
         "Country Code": "HUN",
         "Broad money growth (annual %)": "41.2910043070108",
         "Broad money to total reserves ratio": "4.74580975241165",
         "Gross capital formation (constant 2010 US$)": "12413084715.5776",
         "Real effective exchange rate index (2010 = 100)": "63.9814785746372",
         "_deepnote_index_column": 24
        },
        {
         "Year": "1992",
         "Country Name": "South Africa",
         "Country Code": "ZAF",
         "Broad money growth (annual %)": "2.86121074391479",
         "Broad money to total reserves ratio": "20.5323563929625",
         "Gross capital formation (constant 2010 US$)": "26524043305.0899",
         "Real effective exchange rate index (2010 = 100)": "134.092471170645",
         "_deepnote_index_column": 25
        },
        {
         "Year": "1993",
         "Country Name": "Hungary",
         "Country Code": "HUN",
         "Broad money growth (annual %)": "17.686634450335",
         "Broad money to total reserves ratio": "3.1723530994157",
         "Gross capital formation (constant 2010 US$)": "16428304913.6671",
         "Real effective exchange rate index (2010 = 100)": "69.2396428903639",
         "_deepnote_index_column": 26
        },
        {
         "Year": "1993",
         "Country Name": "South Africa",
         "Country Code": "ZAF",
         "Broad money growth (annual %)": "6.30978492333901",
         "Broad money to total reserves ratio": "21.2246007866644",
         "Gross capital formation (constant 2010 US$)": "26463943921.7386",
         "Real effective exchange rate index (2010 = 100)": "131.424442213984",
         "_deepnote_index_column": 27
        },
        {
         "Year": "1994",
         "Country Name": "Hungary",
         "Country Code": "HUN",
         "Broad money growth (annual %)": "14.1837038166775",
         "Broad money to total reserves ratio": "3.15241961588052",
         "Gross capital formation (constant 2010 US$)": "19679303713.0027",
         "Real effective exchange rate index (2010 = 100)": "69.0657224073666",
         "_deepnote_index_column": 28
        },
        {
         "Year": "1994",
         "Country Name": "South Africa",
         "Country Code": "ZAF",
         "Broad money growth (annual %)": "18.316029210941",
         "Broad money to total reserves ratio": "20.1948581340387",
         "Gross capital formation (constant 2010 US$)": "32176526898.7957",
         "Real effective exchange rate index (2010 = 100)": "125.836293903962",
         "_deepnote_index_column": 29
        },
        {
         "Year": "1995",
         "Country Name": "Hungary",
         "Country Code": "HUN",
         "Broad money growth (annual %)": "20.8895743235396",
         "Broad money to total reserves ratio": "1.79724493944674",
         "Gross capital formation (constant 2010 US$)": "19929048382.6746",
         "Real effective exchange rate index (2010 = 100)": "66.2983178950978",
         "_deepnote_index_column": 30
        },
        {
         "Year": "1995",
         "Country Name": "South Africa",
         "Country Code": "ZAF",
         "Broad money growth (annual %)": "16.0313711547903",
         "Broad money to total reserves ratio": "16.9332974607793",
         "Gross capital formation (constant 2010 US$)": "36803906237.8375",
         "Real effective exchange rate index (2010 = 100)": "122.425164052791",
         "_deepnote_index_column": 31
        },
        {
         "Year": "1996",
         "Country Name": "Hungary",
         "Country Code": "HUN",
         "Broad money growth (annual %)": "22.2415531997985",
         "Broad money to total reserves ratio": "2.22842285267597",
         "Gross capital formation (constant 2010 US$)": "20970774383.5359",
         "Real effective exchange rate index (2010 = 100)": "67.9511233065312",
         "_deepnote_index_column": 32
        },
        {
         "Year": "1996",
         "Country Name": "South Africa",
         "Country Code": "ZAF",
         "Broad money growth (annual %)": "14.2789399770195",
         "Broad money to total reserves ratio": "31.1271762127553",
         "Gross capital formation (constant 2010 US$)": "37060148154.1266",
         "Real effective exchange rate index (2010 = 100)": "112.62173697409",
         "_deepnote_index_column": 33
        },
        {
         "Year": "1997",
         "Country Name": "Hungary",
         "Country Code": "HUN",
         "Broad money growth (annual %)": "19.722036464114",
         "Broad money to total reserves ratio": "2.52143023967897",
         "Gross capital formation (constant 2010 US$)": "23259765351.3514",
         "Real effective exchange rate index (2010 = 100)": "71.377877459833",
         "_deepnote_index_column": 34
        },
        {
         "Year": "1997",
         "Country Name": "South Africa",
         "Country Code": "ZAF",
         "Broad money growth (annual %)": "17.813208209646",
         "Broad money to total reserves ratio": "13.4456326478859",
         "Gross capital formation (constant 2010 US$)": "38104784708.3798",
         "Real effective exchange rate index (2010 = 100)": "119.055209135486",
         "_deepnote_index_column": 35
        },
        {
         "Year": "1998",
         "Country Name": "Hungary",
         "Country Code": "HUN",
         "Broad money growth (annual %)": "15.5987416668332",
         "Broad money to total reserves ratio": "2.29198425921834",
         "Gross capital formation (constant 2010 US$)": "27793163963.0138",
         "Real effective exchange rate index (2010 = 100)": "70.9310119288516",
         "_deepnote_index_column": 36
        },
        {
         "Year": "1998",
         "Country Name": "South Africa",
         "Country Code": "ZAF",
         "Broad money growth (annual %)": "13.6529503084555",
         "Broad money to total reserves ratio": "13.7763047673962",
         "Gross capital formation (constant 2010 US$)": "39352393270.9516",
         "Real effective exchange rate index (2010 = 100)": "109.481682820922",
         "_deepnote_index_column": 37
        },
        {
         "Year": "1999",
         "Country Name": "Hungary",
         "Country Code": "HUN",
         "Broad money growth (annual %)": "15.6730008086139",
         "Broad money to total reserves ratio": "2.04000538664348",
         "Gross capital formation (constant 2010 US$)": "28036385498.1879",
         "Real effective exchange rate index (2010 = 100)": "72.4854359490291",
         "_deepnote_index_column": 38
        },
        {
         "Year": "1999",
         "Country Name": "South Africa",
         "Country Code": "ZAF",
         "Broad money growth (annual %)": "10.9072517477965",
         "Broad money to total reserves ratio": "10.1579864339474",
         "Gross capital formation (constant 2010 US$)": "38203129153.8639",
         "Real effective exchange rate index (2010 = 100)": "103.55090546627",
         "_deepnote_index_column": 39
        },
        {
         "Year": "2000",
         "Country Name": "Hungary",
         "Country Code": "HUN",
         "Broad money growth (annual %)": "12.6071364747875",
         "Broad money to total reserves ratio": "1.8903094825054",
         "Gross capital formation (constant 2010 US$)": "29607475587.9094",
         "Real effective exchange rate index (2010 = 100)": "72.9799675742965",
         "_deepnote_index_column": 40
        },
        {
         "Year": "2000",
         "Country Name": "South Africa",
         "Country Code": "ZAF",
         "Broad money growth (annual %)": "7.2150569801568",
         "Broad money to total reserves ratio": "9.3321404155237",
         "Gross capital formation (constant 2010 US$)": "39539111127.8638",
         "Real effective exchange rate index (2010 = 100)": "100.401750803961",
         "_deepnote_index_column": 41
        },
        {
         "Year": "2001",
         "Country Name": "Hungary",
         "Country Code": "HUN",
         "Broad money growth (annual %)": "16.351253642184",
         "Broad money to total reserves ratio": "2.25942572491032",
         "Gross capital formation (constant 2010 US$)": "28534461061.3228",
         "Real effective exchange rate index (2010 = 100)": "78.7031063916008",
         "_deepnote_index_column": 42
        },
        {
         "Year": "2001",
         "Country Name": "South Africa",
         "Country Code": "ZAF",
         "Broad money growth (annual %)": "20.1898763195526",
         "Broad money to total reserves ratio": "9.1305396334913",
         "Gross capital formation (constant 2010 US$)": "39686354617.0747",
         "Real effective exchange rate index (2010 = 100)": "88.6527454113848",
         "_deepnote_index_column": 43
        },
        {
         "Year": "2002",
         "Country Name": "Hungary",
         "Country Code": "HUN",
         "Broad money growth (annual %)": "13.8213670591371",
         "Broad money to total reserves ratio": "2.95954865035972",
         "Gross capital formation (constant 2010 US$)": "29985486035.8991",
         "Real effective exchange rate index (2010 = 100)": "86.863281075179",
         "_deepnote_index_column": 44
        },
        {
         "Year": "2002",
         "Country Name": "South Africa",
         "Country Code": "ZAF",
         "Broad money growth (annual %)": "18.2861907179626",
         "Broad money to total reserves ratio": "8.60679137607671",
         "Gross capital formation (constant 2010 US$)": "43315264655.4376",
         "Real effective exchange rate index (2010 = 100)": "75.9876197543444",
         "_deepnote_index_column": 45
        },
        {
         "Year": "2003",
         "Country Name": "Hungary",
         "Country Code": "HUN",
         "Broad money growth (annual %)": "10.9522648352945",
         "Broad money to total reserves ratio": "3.06368939508547",
         "Gross capital formation (constant 2010 US$)": "30471961914.9074",
         "Real effective exchange rate index (2010 = 100)": "89.1257515873004",
         "_deepnote_index_column": 46
        },
        {
         "Year": "2003",
         "Country Name": "South Africa",
         "Country Code": "ZAF",
         "Broad money growth (annual %)": "13.3506016752208",
         "Broad money to total reserves ratio": "13.0315345322831",
         "Gross capital formation (constant 2010 US$)": "48293679029.0545",
         "Real effective exchange rate index (2010 = 100)": "98.673010021168",
         "_deepnote_index_column": 47
        },
        {
         "Year": "2004",
         "Country Name": "Hungary",
         "Country Code": "HUN",
         "Broad money growth (annual %)": "11.5374961722861",
         "Broad money to total reserves ratio": "3.02947508579841",
         "Gross capital formation (constant 2010 US$)": "35240161172.2617",
         "Real effective exchange rate index (2010 = 100)": "94.8764024143223",
         "_deepnote_index_column": 48
        },
        {
         "Year": "2004",
         "Country Name": "South Africa",
         "Country Code": "ZAF",
         "Broad money growth (annual %)": "13.1529978250787",
         "Broad money to total reserves ratio": "9.4586969417747",
         "Gross capital formation (constant 2010 US$)": "56073817382.9071",
         "Real effective exchange rate index (2010 = 100)": "104.597644551799",
         "_deepnote_index_column": 49
        },
        {
         "Year": "2005",
         "Country Name": "Hungary",
         "Country Code": "HUN",
         "Broad money growth (annual %)": "14.7001207705754",
         "Broad money to total reserves ratio": "3.02943106040827",
         "Gross capital formation (constant 2010 US$)": "34655740505.9773",
         "Real effective exchange rate index (2010 = 100)": "96.2151917179092",
         "_deepnote_index_column": 50
        },
        {
         "Year": "2005",
         "Country Name": "South Africa",
         "Country Code": "ZAF",
         "Broad money growth (annual %)": "20.6974499044266",
         "Broad money to total reserves ratio": "8.3701831744475",
         "Gross capital formation (constant 2010 US$)": "59603563438.7403",
         "Real effective exchange rate index (2010 = 100)": "104.47821140478",
         "_deepnote_index_column": 51
        },
        {
         "Year": "2006",
         "Country Name": "Hungary",
         "Country Code": "HUN",
         "Broad money growth (annual %)": "13.802586238336",
         "Broad money to total reserves ratio": "2.81798678120294",
         "Gross capital formation (constant 2010 US$)": "35483619658.8714",
         "Real effective exchange rate index (2010 = 100)": "91.6242344840248",
         "_deepnote_index_column": 52
        },
        {
         "Year": "2006",
         "Country Name": "South Africa",
         "Country Code": "ZAF",
         "Broad money growth (annual %)": "22.6230098902238",
         "Broad money to total reserves ratio": "7.76759611909361",
         "Gross capital formation (constant 2010 US$)": "67229492238.4935",
         "Real effective exchange rate index (2010 = 100)": "98.5189594811985",
         "_deepnote_index_column": 53
        },
        {
         "Year": "2007",
         "Country Name": "Hungary",
         "Country Code": "HUN",
         "Broad money growth (annual %)": "11.0115510911465",
         "Broad money to total reserves ratio": "3.21731981988734",
         "Gross capital formation (constant 2010 US$)": "34475332973.6898",
         "Real effective exchange rate index (2010 = 100)": "101.999499529475",
         "_deepnote_index_column": 54
        },
        {
         "Year": "2007",
         "Country Name": "South Africa",
         "Country Code": "ZAF",
         "Broad money growth (annual %)": "23.9311377038079",
         "Broad money to total reserves ratio": "7.19319230633926",
         "Gross capital formation (constant 2010 US$)": "72881292884.6612",
         "Real effective exchange rate index (2010 = 100)": "92.011567408441",
         "_deepnote_index_column": 55
        },
        {
         "Year": "2008",
         "Country Name": "Hungary",
         "Country Code": "HUN",
         "Broad money growth (annual %)": "8.70968343367451",
         "Broad money to total reserves ratio": "2.64954653158735",
         "Gross capital formation (constant 2010 US$)": "35253288281.7965",
         "Real effective exchange rate index (2010 = 100)": "104.891760159959",
         "_deepnote_index_column": 56
        },
        {
         "Year": "2008",
         "Country Name": "South Africa",
         "Country Code": "ZAF",
         "Broad money growth (annual %)": "14.7382134965665",
         "Broad money to total reserves ratio": "6.80091523636945",
         "Gross capital formation (constant 2010 US$)": "79159902781.2823",
         "Real effective exchange rate index (2010 = 100)": "80.356479870906",
         "_deepnote_index_column": 57
        },
        {
         "Year": "2009",
         "Country Name": "Hungary",
         "Country Code": "HUN",
         "Broad money growth (annual %)": "3.64840284210126",
         "Broad money to total reserves ratio": "1.79097684077859",
         "Gross capital formation (constant 2010 US$)": "26339605430.7794",
         "Real effective exchange rate index (2010 = 100)": "98.9902670282627",
         "_deepnote_index_column": 58
        },
        {
         "Year": "2009",
         "Country Name": "South Africa",
         "Country Code": "ZAF",
         "Broad money growth (annual %)": "1.76108595452723",
         "Broad money to total reserves ratio": "5.80459374315802",
         "Gross capital formation (constant 2010 US$)": "72427952308.881",
         "Real effective exchange rate index (2010 = 100)": "87.4962679080327",
         "_deepnote_index_column": 59
        },
        {
         "Year": "2010",
         "Country Name": "Hungary",
         "Country Code": "HUN",
         "Broad money growth (annual %)": "4.26720050740063",
         "Broad money to total reserves ratio": "1.78449897604503",
         "Gross capital formation (constant 2010 US$)": "27018132271.0823",
         "Real effective exchange rate index (2010 = 100)": "100",
         "_deepnote_index_column": 60
        },
        {
         "Year": "2010",
         "Country Name": "South Africa",
         "Country Code": "ZAF",
         "Broad money growth (annual %)": "6.93402988299978",
         "Broad money to total reserves ratio": "6.49284287816474",
         "Gross capital formation (constant 2010 US$)": "73241818281.1561",
         "Real effective exchange rate index (2010 = 100)": "100",
         "_deepnote_index_column": 61
        },
        {
         "Year": "2011",
         "Country Name": "Hungary",
         "Country Code": "HUN",
         "Broad money growth (annual %)": "6.66657429838231",
         "Broad money to total reserves ratio": "1.81372392853468",
         "Gross capital formation (constant 2010 US$)": "26295331966.3806",
         "Real effective exchange rate index (2010 = 100)": "99.752992096519",
         "_deepnote_index_column": 62
        },
        {
         "Year": "2011",
         "Country Name": "South Africa",
         "Country Code": "ZAF",
         "Broad money growth (annual %)": "8.34128453392681",
         "Broad money to total reserves ratio": "6.37554737426331",
         "Gross capital formation (constant 2010 US$)": "79275899685.9391",
         "Real effective exchange rate index (2010 = 100)": "98.2808943782354",
         "_deepnote_index_column": 63
        },
        {
         "Year": "2012",
         "Country Name": "Hungary",
         "Country Code": "HUN",
         "Broad money growth (annual %)": "-4.6368980672588",
         "Broad money to total reserves ratio": "1.6887474073231",
         "Gross capital formation (constant 2010 US$)": "24715193977.2241",
         "Real effective exchange rate index (2010 = 100)": "97.0338907170228",
         "_deepnote_index_column": 64
        },
        {
         "Year": "2012",
         "Country Name": "South Africa",
         "Country Code": "ZAF",
         "Broad money growth (annual %)": "5.17173025655565",
         "Broad money to total reserves ratio": "5.70340668486413",
         "Gross capital formation (constant 2010 US$)": "81692094303.6872",
         "Real effective exchange rate index (2010 = 100)": "92.441864933683",
         "_deepnote_index_column": 65
        },
        {
         "Year": "2013",
         "Country Name": "Hungary",
         "Country Code": "HUN",
         "Broad money growth (annual %)": "7.80915596675156",
         "Broad money to total reserves ratio": "1.7597127788876",
         "Gross capital formation (constant 2010 US$)": "26227130052.3883",
         "Real effective exchange rate index (2010 = 100)": "95.9947850676023",
         "_deepnote_index_column": 66
        },
        {
         "Year": "2013",
         "Country Name": "South Africa",
         "Country Code": "ZAF",
         "Broad money growth (annual %)": "5.91659072840692",
         "Broad money to total reserves ratio": "5.24056239582164",
         "Gross capital formation (constant 2010 US$)": "86924382459.3459",
         "Real effective exchange rate index (2010 = 100)": "82.0918406519164",
         "_deepnote_index_column": 67
        },
        {
         "Year": "2014",
         "Country Name": "Hungary",
         "Country Code": "HUN",
         "Broad money growth (annual %)": "2.49536992372764",
         "Broad money to total reserves ratio": "1.91982862576426",
         "Gross capital formation (constant 2010 US$)": "29600957600.7258",
         "Real effective exchange rate index (2010 = 100)": "92.1245993872342",
         "_deepnote_index_column": 68
        },
        {
         "Year": "2014",
         "Country Name": "South Africa",
         "Country Code": "ZAF",
         "Broad money growth (annual %)": "7.27948797272016",
         "Broad money to total reserves ratio": "5.06268570612227",
         "Gross capital formation (constant 2010 US$)": "85363888298.0174",
         "Real effective exchange rate index (2010 = 100)": "77.0681207551883",
         "_deepnote_index_column": 69
        },
        {
         "Year": "2015",
         "Country Name": "Hungary",
         "Country Code": "HUN",
         "Broad money growth (annual %)": "5.68164520375055",
         "Broad money to total reserves ratio": "2.14319480325012",
         "Gross capital formation (constant 2010 US$)": "29558145944.4146",
         "Real effective exchange rate index (2010 = 100)": "88.3452202832464",
         "_deepnote_index_column": 70
        },
        {
         "Year": "2015",
         "Country Name": "South Africa",
         "Country Code": "ZAF",
         "Broad money growth (annual %)": "10.3236455754922",
         "Broad money to total reserves ratio": "5.08514111251775",
         "Gross capital formation (constant 2010 US$)": "89528164312.5631",
         "Real effective exchange rate index (2010 = 100)": "75.1523684146169",
         "_deepnote_index_column": 71
        },
        {
         "Year": "2016",
         "Country Name": "Hungary",
         "Country Code": "HUN",
         "Broad money growth (annual %)": "7.23837066916986",
         "Broad money to total reserves ratio": "2.92507969983685",
         "Gross capital formation (constant 2010 US$)": "28337277367.3914",
         "Real effective exchange rate index (2010 = 100)": "88.9384784387283",
         "_deepnote_index_column": 72
        },
        {
         "Year": "2016",
         "Country Name": "South Africa",
         "Country Code": "ZAF",
         "Broad money growth (annual %)": "6.0794489265993",
         "Broad money to total reserves ratio": "4.54801855970697",
         "Gross capital formation (constant 2010 US$)": "82289478363.3527",
         "Real effective exchange rate index (2010 = 100)": "70.4283352551447",
         "_deepnote_index_column": 73
        },
        {
         "Year": "2017",
         "Country Name": "Hungary",
         "Country Code": "HUN",
         "Broad money growth (annual %)": "7.78736534613451",
         "Broad money to total reserves ratio": "2.98271162705971",
         "Gross capital formation (constant 2010 US$)": "31401617177.5215",
         "Real effective exchange rate index (2010 = 100)": "90.5996098232506",
         "_deepnote_index_column": 74
        },
        {
         "Year": "2017",
         "Country Name": "South Africa",
         "Country Code": "ZAF",
         "Broad money growth (annual %)": "6.42553637795089",
         "Broad money to total reserves ratio": "4.97425168320314",
         "Gross capital formation (constant 2010 US$)": "84918440642.5475",
         "Real effective exchange rate index (2010 = 100)": "79.362587112154",
         "_deepnote_index_column": 75
        },
        {
         "Year": "2018",
         "Country Name": "Hungary",
         "Country Code": "HUN",
         "Broad money growth (annual %)": "11.8157497769553",
         "Broad money to total reserves ratio": "3.02398355570505",
         "Gross capital formation (constant 2010 US$)": "36499240902.3379",
         "Real effective exchange rate index (2010 = 100)": "90.1444288572053",
         "_deepnote_index_column": 76
        },
        {
         "Year": "2018",
         "Country Name": "South Africa",
         "Country Code": "ZAF",
         "Broad money growth (annual %)": "5.59961566272095",
         "Broad money to total reserves ratio": "5.1900974194881",
         "Gross capital formation (constant 2010 US$)": "82523869140.9586",
         "Real effective exchange rate index (2010 = 100)": "80.7144353745103",
         "_deepnote_index_column": 77
        },
        {
         "Year": "2019",
         "Country Name": "Hungary",
         "Country Code": "HUN",
         "Broad money growth (annual %)": "8.14996704366379",
         "Broad money to total reserves ratio": "2.99599793288861",
         "Gross capital formation (constant 2010 US$)": "40296620964.5962",
         "Real effective exchange rate index (2010 = 100)": "88.9154112185394",
         "_deepnote_index_column": 78
        },
        {
         "Year": "2019",
         "Country Name": "South Africa",
         "Country Code": "ZAF",
         "Broad money growth (annual %)": "6.11024523226612",
         "Broad money to total reserves ratio": "4.73151814615898",
         "Gross capital formation (constant 2010 US$)": "81243117953.9007",
         "Real effective exchange rate index (2010 = 100)": "78.1427521961595",
         "_deepnote_index_column": 79
        },
        {
         "Year": "2020",
         "Country Name": "Hungary",
         "Country Code": "HUN",
         "Broad money growth (annual %)": "20.8940730816157",
         "Broad money to total reserves ratio": "..",
         "Gross capital formation (constant 2010 US$)": "..",
         "Real effective exchange rate index (2010 = 100)": "85.4569190386896",
         "_deepnote_index_column": 80
        },
        {
         "Year": "2020",
         "Country Name": "South Africa",
         "Country Code": "ZAF",
         "Broad money growth (annual %)": "9.42732646118054",
         "Broad money to total reserves ratio": "..",
         "Gross capital formation (constant 2010 US$)": "..",
         "Real effective exchange rate index (2010 = 100)": "70.9184570461496",
         "_deepnote_index_column": 81
        }
       ],
       "rows_bottom": null
      },
      "text/plain": "Series Name  Year  Country Name Country Code Broad money growth (annual %)  \\\n0            1980       Hungary          HUN                            ..   \n1            1980  South Africa          ZAF              22.8507513885544   \n2            1981       Hungary          HUN                            ..   \n..            ...           ...          ...                           ...   \n79           2019  South Africa          ZAF              6.11024523226612   \n80           2020       Hungary          HUN              20.8940730816157   \n81           2020  South Africa          ZAF              9.42732646118054   \n\nSeries Name Broad money to total reserves ratio  \\\n0                                            ..   \n1                              5.47953147000172   \n2                                            ..   \n..                                          ...   \n79                             4.73151814615898   \n80                                           ..   \n81                                           ..   \n\nSeries Name Gross capital formation (constant 2010 US$)  \\\n0                                                    ..   \n1                                      41470623355.0728   \n2                                                    ..   \n..                                                  ...   \n79                                     81243117953.9007   \n80                                                   ..   \n81                                                   ..   \n\nSeries Name Real effective exchange rate index (2010 = 100)  \n0                                                        ..  \n1                                          165.188043881133  \n2                                                        ..  \n..                                                      ...  \n79                                         78.1427521961595  \n80                                         85.4569190386896  \n81                                         70.9184570461496  \n\n[82 rows x 7 columns]",
      "text/html": "<div>\n<style scoped>\n    .dataframe tbody tr th:only-of-type {\n        vertical-align: middle;\n    }\n\n    .dataframe tbody tr th {\n        vertical-align: top;\n    }\n\n    .dataframe thead th {\n        text-align: right;\n    }\n</style>\n<table border=\"1\" class=\"dataframe\">\n  <thead>\n    <tr style=\"text-align: right;\">\n      <th>Series Name</th>\n      <th>Year</th>\n      <th>Country Name</th>\n      <th>Country Code</th>\n      <th>Broad money growth (annual %)</th>\n      <th>Broad money to total reserves ratio</th>\n      <th>Gross capital formation (constant 2010 US$)</th>\n      <th>Real effective exchange rate index (2010 = 100)</th>\n    </tr>\n  </thead>\n  <tbody>\n    <tr>\n      <th>0</th>\n      <td>1980</td>\n      <td>Hungary</td>\n      <td>HUN</td>\n      <td>..</td>\n      <td>..</td>\n      <td>..</td>\n      <td>..</td>\n    </tr>\n    <tr>\n      <th>1</th>\n      <td>1980</td>\n      <td>South Africa</td>\n      <td>ZAF</td>\n      <td>22.8507513885544</td>\n      <td>5.47953147000172</td>\n      <td>41470623355.0728</td>\n      <td>165.188043881133</td>\n    </tr>\n    <tr>\n      <th>2</th>\n      <td>1981</td>\n      <td>Hungary</td>\n      <td>HUN</td>\n      <td>..</td>\n      <td>..</td>\n      <td>..</td>\n      <td>..</td>\n    </tr>\n    <tr>\n      <th>...</th>\n      <td>...</td>\n      <td>...</td>\n      <td>...</td>\n      <td>...</td>\n      <td>...</td>\n      <td>...</td>\n      <td>...</td>\n    </tr>\n    <tr>\n      <th>79</th>\n      <td>2019</td>\n      <td>South Africa</td>\n      <td>ZAF</td>\n      <td>6.11024523226612</td>\n      <td>4.73151814615898</td>\n      <td>81243117953.9007</td>\n      <td>78.1427521961595</td>\n    </tr>\n    <tr>\n      <th>80</th>\n      <td>2020</td>\n      <td>Hungary</td>\n      <td>HUN</td>\n      <td>20.8940730816157</td>\n      <td>..</td>\n      <td>..</td>\n      <td>85.4569190386896</td>\n    </tr>\n    <tr>\n      <th>81</th>\n      <td>2020</td>\n      <td>South Africa</td>\n      <td>ZAF</td>\n      <td>9.42732646118054</td>\n      <td>..</td>\n      <td>..</td>\n      <td>70.9184570461496</td>\n    </tr>\n  </tbody>\n</table>\n<p>82 rows × 7 columns</p>\n</div>"
     },
     "metadata": {}
    }
   ]
  },
  {
   "cell_type": "markdown",
   "source": "### International Financial Statistics (IFS DB) data - International Monetary Fund\nNotes on outstanding work: 1 - Make Data DateTime Object. 2 - concat the Indicator code to the title name. 3 - Need to Edit the Indicators being used. ",
   "metadata": {
    "tags": [],
    "cell_id": "00010-099f757f-1df4-4cde-906d-ebb01aa258f9",
    "deepnote_cell_type": "markdown"
   }
  },
  {
   "cell_type": "markdown",
   "source": "| Field      | Indicator Code | Source    |\n| :---        |    :----:   |    :---: |\n| Header      | Title       | Here's this   |\n| Paragraph   | Text        | And more      |",
   "metadata": {
    "tags": [],
    "cell_id": "00013-fbe8684c-8090-476b-a394-c3861dfa93e1",
    "deepnote_cell_type": "markdown"
   }
  },
  {
   "cell_type": "code",
   "metadata": {
    "tags": [],
    "cell_id": "00013-1c28aecc-9628-426d-bb7f-77e94a7b1963",
    "deepnote_to_be_reexecuted": false,
    "source_hash": "bf40c7ad",
    "execution_start": 1624724987451,
    "execution_millis": 1,
    "deepnote_cell_type": "code"
   },
   "source": "def clean_IFS_data(dataset, countries, frequency, date_from, Series_Codes , date_to):\n    '''\n    dataset {df}: WDI Data sample\n    countries {List}: List of countries to be inclided in Dataset\n    date_from {int}: Lowest year - default 1980\n    date_to {int}: Highest Yeat - default 2020\n\n    Output{df}: 'Year', 'Country Name', 'Country Code', [Series Names]\n\n    '''\n    #Country Selection\n    dataset = dataset[dataset['Country Name'].isin(countries)].copy()   \n\n    #Concat Base year & Drop Base Year Column\n    dataset['Indicator Name'] = np.where(dataset['Base Year'].isnull(),dataset['Indicator Name'], dataset['Indicator Name'] + \" (\" + dataset['Base Year'] +\")\").copy()\n    \n    # Filter by then concat the Indicator Code\n    dataset = dataset[dataset['Indicator Code'].isin(Series_Codes)].copy()\n    dataset['Indicator Name'] = dataset['Indicator Name'] + \" - \" + dataset['Indicator Code']\n\n    dataset = dataset[dataset['Attribute']!='Status'].copy()\n    \n    dataset.drop(['Base Year', 'Indicator Code', 'Attribute'], axis=1, inplace = True)\n\n\n    #Melt Data \n    dataset = dataset.melt(id_vars=['Country Name','Country Code','Indicator Name'], var_name='Year', value_name='Value' ).copy()\n\n    #Frequency - Annual - Done\n    if frequency == 'Y':\n        non_ann = ['M', 'Q']\n        dataset = dataset[~dataset.Year.str.contains('|'.join(non_ann))].copy()\n    elif frequency == 'Q':\n        dataset = dataset[dataset.Year.str.contains('Q')].copy()\n    elif frequency == 'M':\n        dataset = dataset[dataset.Year.str.contains('M')].copy()\n\n    #Pivot Indicators to Columns\n    dataset['Value'] = dataset['Value'].astype(float)\n    dataset = dataset.groupby(['Year', 'Country Name', 'Country Code', 'Indicator Name']).agg({'Value':'sum'}).reset_index().copy()\n    dataset = dataset.pivot(index=['Year', 'Country Name', 'Country Code'], columns='Indicator Name', values='Value').reset_index().copy()\n\n    return dataset",
   "execution_count": 27,
   "outputs": []
  },
  {
   "cell_type": "markdown",
   "source": "IMF Load Function Test:",
   "metadata": {
    "tags": [],
    "cell_id": "00019-1def3d19-fad7-4c39-90b5-354c5bc3f65b",
    "deepnote_cell_type": "markdown"
   }
  },
  {
   "cell_type": "code",
   "metadata": {
    "tags": [],
    "cell_id": "00021-7507b3a0-8b66-4116-b806-31aaf5bb66bf",
    "deepnote_to_be_reexecuted": false,
    "source_hash": "f0c7f0ca",
    "execution_start": 1624724765306,
    "execution_millis": 18616,
    "deepnote_cell_type": "code"
   },
   "source": "IFS_DB =  pd.read_csv('IFS_timeSeries_1980_2020.csv')\nIFS_DB.head()",
   "execution_count": 16,
   "outputs": [
    {
     "name": "stderr",
     "text": "/shared-libs/python3.7/py-core/lib/python3.7/site-packages/IPython/core/interactiveshell.py:3170: DtypeWarning: Columns (5,6,7,8,10,13,14,15,16,18,19,21,22,23,24,25,26,27,28,31,32,35,38,39,40,41,48,49,50,52,54,55,56,57,58,59,60,65,67,69,72,73,74,75,77,78,79,80,81,82,83,86,87,88,89,90,91,92,93,95,96,99,100,101,102,103,106,107,108,109,110,112,113,115,116,120,121,124,125,126,129,130,133,134,137,138,140,141,142,143,146,148,149,150,151,153,154,155,157,158,159,160,161,162,164,165,167,168,171,175,176,177,180,181,184,186,188,191,192,193,194,197,198,200,201,202,204,205,206,207,209,210,211,212,214,215,217,218,219,220,222,223,224,226,227,228,229,230,231,232,233,235,236,237,238,239,240,241,242,243,244,245,248,249,251,252,253,254,255,256,259,260,261,262,263,265,267,269,270,271,272,276,277,278,279,280,282,283,286,287,292,293,294,295,296,297,303,304,305,306,307,309,310,311,312,313,316,320,321,323,324,326,328,329,330,333,334,335,337,338,341,343,344,345,346,347,349,350,351,353,354,355,356,357,358,359,361,362,363,364,368,371,375,378,379,380,381,382,383,384,385,386,387,388,389,390,392,393,395,396,397,398,401,402,403,404,405,406,407,409,410,412,413,414,415,416,417,418,420,421,422,423,424,426,429,430,431,432,433,435,438,439,440,443,445,446,447,448,449,452,453,456,457,458,459,460,461,463,464,465,466,467,468,469,471,473,474,475,477,479,480,481,482,483,484,485,486,487,489,490,491,492,493,494,495,496,497,498,499,500,502,503,504,507,508,509,510,511,512,514,515,516,517,518,523,524,525,526,527,528,529,530,531,532,533,534,535,537,540,541,543,545,546,548,549,550,551,552,554,555,557,558,560,561,562,565,566,567,568,575,576,579,582,583,584,585,588,589,591,592,593,595,596,600,601,602,604,605,606,608,613,616,617,618,619,622,624,625,626,627,630,632,633,634,635,638,651,652,653,668,669,671,710) have mixed types.Specify dtype option on import or set low_memory=False.\n  interactivity=interactivity, compiler=compiler, result=result)\n",
     "output_type": "stream"
    },
    {
     "output_type": "execute_result",
     "execution_count": 16,
     "data": {
      "application/vnd.deepnote.dataframe.v2+json": {
       "row_count": 5,
       "column_count": 711,
       "columns": [
        {
         "name": "Country Name",
         "dtype": "object",
         "stats": {
          "unique_count": 2,
          "nan_count": 0,
          "categories": [
           {
            "name": "Afghanistan, Islamic Rep. of",
            "count": 3
           },
           {
            "name": "Advanced Economies",
            "count": 2
           }
          ]
         }
        },
        {
         "name": "Country Code",
         "dtype": "int64",
         "stats": {
          "unique_count": 2,
          "nan_count": 0,
          "min": "110",
          "max": "512",
          "histogram": [
           {
            "bin_start": 110,
            "bin_end": 150.2,
            "count": 2
           },
           {
            "bin_start": 150.2,
            "bin_end": 190.4,
            "count": 0
           },
           {
            "bin_start": 190.4,
            "bin_end": 230.60000000000002,
            "count": 0
           },
           {
            "bin_start": 230.60000000000002,
            "bin_end": 270.8,
            "count": 0
           },
           {
            "bin_start": 270.8,
            "bin_end": 311,
            "count": 0
           },
           {
            "bin_start": 311,
            "bin_end": 351.20000000000005,
            "count": 0
           },
           {
            "bin_start": 351.20000000000005,
            "bin_end": 391.40000000000003,
            "count": 0
           },
           {
            "bin_start": 391.40000000000003,
            "bin_end": 431.6,
            "count": 0
           },
           {
            "bin_start": 431.6,
            "bin_end": 471.8,
            "count": 0
           },
           {
            "bin_start": 471.8,
            "bin_end": 512,
            "count": 3
           }
          ]
         }
        },
        {
         "name": "Indicator Name",
         "dtype": "object",
         "stats": {
          "unique_count": 2,
          "nan_count": 0,
          "categories": [
           {
            "name": "Fund Accounts, UFC & Loans, SDRs",
            "count": 3
           },
           {
            "name": "Fund Accounts, Outstanding Loans, SDRs",
            "count": 2
           }
          ]
         }
        },
        {
         "name": "Indicator Code",
         "dtype": "object",
         "stats": {
          "unique_count": 2,
          "nan_count": 0,
          "categories": [
           {
            "name": "HPU_XDR",
            "count": 3
           },
           {
            "name": "HPL_XDR",
            "count": 2
           }
          ]
         }
        },
        {
         "name": "Attribute",
         "dtype": "object",
         "stats": {
          "unique_count": 1,
          "nan_count": 0,
          "categories": [
           {
            "name": "Value",
            "count": 5
           }
          ]
         }
        },
        {
         "name": "1980",
         "dtype": "object",
         "stats": {
          "unique_count": 2,
          "nan_count": 3,
          "categories": [
           {
            "name": "0.0",
            "count": 1
           },
           {
            "name": "30600000.0",
            "count": 1
           },
           {
            "name": "Missing",
            "count": 3
           }
          ]
         }
        },
        {
         "name": "1980Q1",
         "dtype": "object",
         "stats": {
          "unique_count": 2,
          "nan_count": 3,
          "categories": [
           {
            "name": "0.0",
            "count": 1
           },
           {
            "name": "37550000.0",
            "count": 1
           },
           {
            "name": "Missing",
            "count": 3
           }
          ]
         }
        },
        {
         "name": "1980M1",
         "dtype": "object",
         "stats": {
          "unique_count": 1,
          "nan_count": 4,
          "categories": [
           {
            "name": "0.0",
            "count": 1
           },
           {
            "name": "Missing",
            "count": 4
           }
          ]
         }
        },
        {
         "name": "1980M2",
         "dtype": "object",
         "stats": {
          "unique_count": 1,
          "nan_count": 4,
          "categories": [
           {
            "name": "0.0",
            "count": 1
           },
           {
            "name": "Missing",
            "count": 4
           }
          ]
         }
        },
        {
         "name": "1980M3",
         "dtype": "float64",
         "stats": {
          "unique_count": 1,
          "nan_count": 4,
          "min": "0.0",
          "max": "0.0",
          "histogram": [
           {
            "bin_start": -0.5,
            "bin_end": -0.4,
            "count": 0
           },
           {
            "bin_start": -0.4,
            "bin_end": -0.3,
            "count": 0
           },
           {
            "bin_start": -0.3,
            "bin_end": -0.19999999999999996,
            "count": 0
           },
           {
            "bin_start": -0.19999999999999996,
            "bin_end": -0.09999999999999998,
            "count": 0
           },
           {
            "bin_start": -0.09999999999999998,
            "bin_end": 0,
            "count": 0
           },
           {
            "bin_start": 0,
            "bin_end": 0.10000000000000009,
            "count": 1
           },
           {
            "bin_start": 0.10000000000000009,
            "bin_end": 0.20000000000000007,
            "count": 0
           },
           {
            "bin_start": 0.20000000000000007,
            "bin_end": 0.30000000000000004,
            "count": 0
           },
           {
            "bin_start": 0.30000000000000004,
            "bin_end": 0.4,
            "count": 0
           },
           {
            "bin_start": 0.4,
            "bin_end": 0.5,
            "count": 0
           }
          ]
         }
        },
        {
         "name": "1980Q2",
         "dtype": "object",
         "stats": {
          "unique_count": 2,
          "nan_count": 3,
          "categories": [
           {
            "name": "0.0",
            "count": 1
           },
           {
            "name": "33330000.0",
            "count": 1
           },
           {
            "name": "Missing",
            "count": 3
           }
          ]
         }
        },
        {
         "name": "1980M4",
         "dtype": "float64",
         "stats": {
          "unique_count": 1,
          "nan_count": 4,
          "min": "0.0",
          "max": "0.0",
          "histogram": [
           {
            "bin_start": -0.5,
            "bin_end": -0.4,
            "count": 0
           },
           {
            "bin_start": -0.4,
            "bin_end": -0.3,
            "count": 0
           },
           {
            "bin_start": -0.3,
            "bin_end": -0.19999999999999996,
            "count": 0
           },
           {
            "bin_start": -0.19999999999999996,
            "bin_end": -0.09999999999999998,
            "count": 0
           },
           {
            "bin_start": -0.09999999999999998,
            "bin_end": 0,
            "count": 0
           },
           {
            "bin_start": 0,
            "bin_end": 0.10000000000000009,
            "count": 1
           },
           {
            "bin_start": 0.10000000000000009,
            "bin_end": 0.20000000000000007,
            "count": 0
           },
           {
            "bin_start": 0.20000000000000007,
            "bin_end": 0.30000000000000004,
            "count": 0
           },
           {
            "bin_start": 0.30000000000000004,
            "bin_end": 0.4,
            "count": 0
           },
           {
            "bin_start": 0.4,
            "bin_end": 0.5,
            "count": 0
           }
          ]
         }
        },
        {
         "name": "1980M5",
         "dtype": "float64",
         "stats": {
          "unique_count": 1,
          "nan_count": 4,
          "min": "0.0",
          "max": "0.0",
          "histogram": [
           {
            "bin_start": -0.5,
            "bin_end": -0.4,
            "count": 0
           },
           {
            "bin_start": -0.4,
            "bin_end": -0.3,
            "count": 0
           },
           {
            "bin_start": -0.3,
            "bin_end": -0.19999999999999996,
            "count": 0
           },
           {
            "bin_start": -0.19999999999999996,
            "bin_end": -0.09999999999999998,
            "count": 0
           },
           {
            "bin_start": -0.09999999999999998,
            "bin_end": 0,
            "count": 0
           },
           {
            "bin_start": 0,
            "bin_end": 0.10000000000000009,
            "count": 1
           },
           {
            "bin_start": 0.10000000000000009,
            "bin_end": 0.20000000000000007,
            "count": 0
           },
           {
            "bin_start": 0.20000000000000007,
            "bin_end": 0.30000000000000004,
            "count": 0
           },
           {
            "bin_start": 0.30000000000000004,
            "bin_end": 0.4,
            "count": 0
           },
           {
            "bin_start": 0.4,
            "bin_end": 0.5,
            "count": 0
           }
          ]
         }
        },
        {
         "name": "1980M6",
         "dtype": "object",
         "stats": {
          "unique_count": 1,
          "nan_count": 4,
          "categories": [
           {
            "name": "0.0",
            "count": 1
           },
           {
            "name": "Missing",
            "count": 4
           }
          ]
         }
        },
        {
         "name": "1980Q3",
         "dtype": "object",
         "stats": {
          "unique_count": 2,
          "nan_count": 3,
          "categories": [
           {
            "name": "0.0",
            "count": 1
           },
           {
            "name": "39940000.0",
            "count": 1
           },
           {
            "name": "Missing",
            "count": 3
           }
          ]
         }
        },
        {
         "name": "1980M7",
         "dtype": "object",
         "stats": {
          "unique_count": 1,
          "nan_count": 4,
          "categories": [
           {
            "name": "0.0",
            "count": 1
           },
           {
            "name": "Missing",
            "count": 4
           }
          ]
         }
        },
        {
         "name": "1980M8",
         "dtype": "object",
         "stats": {
          "unique_count": 1,
          "nan_count": 4,
          "categories": [
           {
            "name": "0.0",
            "count": 1
           },
           {
            "name": "Missing",
            "count": 4
           }
          ]
         }
        },
        {
         "name": "1980M9",
         "dtype": "float64",
         "stats": {
          "unique_count": 1,
          "nan_count": 4,
          "min": "0.0",
          "max": "0.0",
          "histogram": [
           {
            "bin_start": -0.5,
            "bin_end": -0.4,
            "count": 0
           },
           {
            "bin_start": -0.4,
            "bin_end": -0.3,
            "count": 0
           },
           {
            "bin_start": -0.3,
            "bin_end": -0.19999999999999996,
            "count": 0
           },
           {
            "bin_start": -0.19999999999999996,
            "bin_end": -0.09999999999999998,
            "count": 0
           },
           {
            "bin_start": -0.09999999999999998,
            "bin_end": 0,
            "count": 0
           },
           {
            "bin_start": 0,
            "bin_end": 0.10000000000000009,
            "count": 1
           },
           {
            "bin_start": 0.10000000000000009,
            "bin_end": 0.20000000000000007,
            "count": 0
           },
           {
            "bin_start": 0.20000000000000007,
            "bin_end": 0.30000000000000004,
            "count": 0
           },
           {
            "bin_start": 0.30000000000000004,
            "bin_end": 0.4,
            "count": 0
           },
           {
            "bin_start": 0.4,
            "bin_end": 0.5,
            "count": 0
           }
          ]
         }
        },
        {
         "name": "1980Q4",
         "dtype": "object",
         "stats": {
          "unique_count": 2,
          "nan_count": 3,
          "categories": [
           {
            "name": "0.0",
            "count": 1
           },
           {
            "name": "30600000.0",
            "count": 1
           },
           {
            "name": "Missing",
            "count": 3
           }
          ]
         }
        },
        {
         "name": "1980M10",
         "dtype": "object",
         "stats": {
          "unique_count": 1,
          "nan_count": 4,
          "categories": [
           {
            "name": "0.0",
            "count": 1
           },
           {
            "name": "Missing",
            "count": 4
           }
          ]
         }
        },
        {
         "name": "1980M11",
         "dtype": "float64",
         "stats": {
          "unique_count": 1,
          "nan_count": 4,
          "min": "0.0",
          "max": "0.0",
          "histogram": [
           {
            "bin_start": -0.5,
            "bin_end": -0.4,
            "count": 0
           },
           {
            "bin_start": -0.4,
            "bin_end": -0.3,
            "count": 0
           },
           {
            "bin_start": -0.3,
            "bin_end": -0.19999999999999996,
            "count": 0
           },
           {
            "bin_start": -0.19999999999999996,
            "bin_end": -0.09999999999999998,
            "count": 0
           },
           {
            "bin_start": -0.09999999999999998,
            "bin_end": 0,
            "count": 0
           },
           {
            "bin_start": 0,
            "bin_end": 0.10000000000000009,
            "count": 1
           },
           {
            "bin_start": 0.10000000000000009,
            "bin_end": 0.20000000000000007,
            "count": 0
           },
           {
            "bin_start": 0.20000000000000007,
            "bin_end": 0.30000000000000004,
            "count": 0
           },
           {
            "bin_start": 0.30000000000000004,
            "bin_end": 0.4,
            "count": 0
           },
           {
            "bin_start": 0.4,
            "bin_end": 0.5,
            "count": 0
           }
          ]
         }
        },
        {
         "name": "1980M12",
         "dtype": "object",
         "stats": {
          "unique_count": 1,
          "nan_count": 4,
          "categories": [
           {
            "name": "0.0",
            "count": 1
           },
           {
            "name": "Missing",
            "count": 4
           }
          ]
         }
        },
        {
         "name": "1981",
         "dtype": "object",
         "stats": {
          "unique_count": 2,
          "nan_count": 3,
          "categories": [
           {
            "name": "0.0",
            "count": 1
           },
           {
            "name": "21620000.0",
            "count": 1
           },
           {
            "name": "Missing",
            "count": 3
           }
          ]
         }
        },
        {
         "name": "1981Q1",
         "dtype": "object",
         "stats": {
          "unique_count": 2,
          "nan_count": 3,
          "categories": [
           {
            "name": "0.0",
            "count": 1
           },
           {
            "name": "29590000.0",
            "count": 1
           },
           {
            "name": "Missing",
            "count": 3
           }
          ]
         }
        },
        {
         "name": "1981M1",
         "dtype": "object",
         "stats": {
          "unique_count": 1,
          "nan_count": 4,
          "categories": [
           {
            "name": "0.0",
            "count": 1
           },
           {
            "name": "Missing",
            "count": 4
           }
          ]
         }
        },
        {
         "name": "1981M2",
         "dtype": "object",
         "stats": {
          "unique_count": 1,
          "nan_count": 4,
          "categories": [
           {
            "name": "0.0",
            "count": 1
           },
           {
            "name": "Missing",
            "count": 4
           }
          ]
         }
        },
        {
         "name": "1981M3",
         "dtype": "object",
         "stats": {
          "unique_count": 1,
          "nan_count": 4,
          "categories": [
           {
            "name": "0.0",
            "count": 1
           },
           {
            "name": "Missing",
            "count": 4
           }
          ]
         }
        },
        {
         "name": "1981Q2",
         "dtype": "object",
         "stats": {
          "unique_count": 2,
          "nan_count": 3,
          "categories": [
           {
            "name": "0.0",
            "count": 1
           },
           {
            "name": "25370000.0",
            "count": 1
           },
           {
            "name": "Missing",
            "count": 3
           }
          ]
         }
        },
        {
         "name": "1981M4",
         "dtype": "object",
         "stats": {
          "unique_count": 1,
          "nan_count": 4,
          "categories": [
           {
            "name": "0.0",
            "count": 1
           },
           {
            "name": "Missing",
            "count": 4
           }
          ]
         }
        },
        {
         "name": "1981M5",
         "dtype": "float64",
         "stats": {
          "unique_count": 1,
          "nan_count": 4,
          "min": "0.0",
          "max": "0.0",
          "histogram": [
           {
            "bin_start": -0.5,
            "bin_end": -0.4,
            "count": 0
           },
           {
            "bin_start": -0.4,
            "bin_end": -0.3,
            "count": 0
           },
           {
            "bin_start": -0.3,
            "bin_end": -0.19999999999999996,
            "count": 0
           },
           {
            "bin_start": -0.19999999999999996,
            "bin_end": -0.09999999999999998,
            "count": 0
           },
           {
            "bin_start": -0.09999999999999998,
            "bin_end": 0,
            "count": 0
           },
           {
            "bin_start": 0,
            "bin_end": 0.10000000000000009,
            "count": 1
           },
           {
            "bin_start": 0.10000000000000009,
            "bin_end": 0.20000000000000007,
            "count": 0
           },
           {
            "bin_start": 0.20000000000000007,
            "bin_end": 0.30000000000000004,
            "count": 0
           },
           {
            "bin_start": 0.30000000000000004,
            "bin_end": 0.4,
            "count": 0
           },
           {
            "bin_start": 0.4,
            "bin_end": 0.5,
            "count": 0
           }
          ]
         }
        },
        {
         "name": "1981M6",
         "dtype": "float64",
         "stats": {
          "unique_count": 1,
          "nan_count": 4,
          "min": "0.0",
          "max": "0.0",
          "histogram": [
           {
            "bin_start": -0.5,
            "bin_end": -0.4,
            "count": 0
           },
           {
            "bin_start": -0.4,
            "bin_end": -0.3,
            "count": 0
           },
           {
            "bin_start": -0.3,
            "bin_end": -0.19999999999999996,
            "count": 0
           },
           {
            "bin_start": -0.19999999999999996,
            "bin_end": -0.09999999999999998,
            "count": 0
           },
           {
            "bin_start": -0.09999999999999998,
            "bin_end": 0,
            "count": 0
           },
           {
            "bin_start": 0,
            "bin_end": 0.10000000000000009,
            "count": 1
           },
           {
            "bin_start": 0.10000000000000009,
            "bin_end": 0.20000000000000007,
            "count": 0
           },
           {
            "bin_start": 0.20000000000000007,
            "bin_end": 0.30000000000000004,
            "count": 0
           },
           {
            "bin_start": 0.30000000000000004,
            "bin_end": 0.4,
            "count": 0
           },
           {
            "bin_start": 0.4,
            "bin_end": 0.5,
            "count": 0
           }
          ]
         }
        },
        {
         "name": "1981Q3",
         "dtype": "object",
         "stats": {
          "unique_count": 2,
          "nan_count": 3,
          "categories": [
           {
            "name": "0.0",
            "count": 1
           },
           {
            "name": "23500000.0",
            "count": 1
           },
           {
            "name": "Missing",
            "count": 3
           }
          ]
         }
        },
        {
         "name": "1981M7",
         "dtype": "object",
         "stats": {
          "unique_count": 1,
          "nan_count": 4,
          "categories": [
           {
            "name": "0.0",
            "count": 1
           },
           {
            "name": "Missing",
            "count": 4
           }
          ]
         }
        },
        {
         "name": "1981M8",
         "dtype": "float64",
         "stats": {
          "unique_count": 1,
          "nan_count": 4,
          "min": "0.0",
          "max": "0.0",
          "histogram": [
           {
            "bin_start": -0.5,
            "bin_end": -0.4,
            "count": 0
           },
           {
            "bin_start": -0.4,
            "bin_end": -0.3,
            "count": 0
           },
           {
            "bin_start": -0.3,
            "bin_end": -0.19999999999999996,
            "count": 0
           },
           {
            "bin_start": -0.19999999999999996,
            "bin_end": -0.09999999999999998,
            "count": 0
           },
           {
            "bin_start": -0.09999999999999998,
            "bin_end": 0,
            "count": 0
           },
           {
            "bin_start": 0,
            "bin_end": 0.10000000000000009,
            "count": 1
           },
           {
            "bin_start": 0.10000000000000009,
            "bin_end": 0.20000000000000007,
            "count": 0
           },
           {
            "bin_start": 0.20000000000000007,
            "bin_end": 0.30000000000000004,
            "count": 0
           },
           {
            "bin_start": 0.30000000000000004,
            "bin_end": 0.4,
            "count": 0
           },
           {
            "bin_start": 0.4,
            "bin_end": 0.5,
            "count": 0
           }
          ]
         }
        },
        {
         "name": "1981M9",
         "dtype": "float64",
         "stats": {
          "unique_count": 1,
          "nan_count": 4,
          "min": "0.0",
          "max": "0.0",
          "histogram": [
           {
            "bin_start": -0.5,
            "bin_end": -0.4,
            "count": 0
           },
           {
            "bin_start": -0.4,
            "bin_end": -0.3,
            "count": 0
           },
           {
            "bin_start": -0.3,
            "bin_end": -0.19999999999999996,
            "count": 0
           },
           {
            "bin_start": -0.19999999999999996,
            "bin_end": -0.09999999999999998,
            "count": 0
           },
           {
            "bin_start": -0.09999999999999998,
            "bin_end": 0,
            "count": 0
           },
           {
            "bin_start": 0,
            "bin_end": 0.10000000000000009,
            "count": 1
           },
           {
            "bin_start": 0.10000000000000009,
            "bin_end": 0.20000000000000007,
            "count": 0
           },
           {
            "bin_start": 0.20000000000000007,
            "bin_end": 0.30000000000000004,
            "count": 0
           },
           {
            "bin_start": 0.30000000000000004,
            "bin_end": 0.4,
            "count": 0
           },
           {
            "bin_start": 0.4,
            "bin_end": 0.5,
            "count": 0
           }
          ]
         }
        },
        {
         "name": "1981Q4",
         "dtype": "object",
         "stats": {
          "unique_count": 2,
          "nan_count": 3,
          "categories": [
           {
            "name": "0.0",
            "count": 1
           },
           {
            "name": "21620000.0",
            "count": 1
           },
           {
            "name": "Missing",
            "count": 3
           }
          ]
         }
        },
        {
         "name": "1981M10",
         "dtype": "float64",
         "stats": {
          "unique_count": 1,
          "nan_count": 4,
          "min": "0.0",
          "max": "0.0",
          "histogram": [
           {
            "bin_start": -0.5,
            "bin_end": -0.4,
            "count": 0
           },
           {
            "bin_start": -0.4,
            "bin_end": -0.3,
            "count": 0
           },
           {
            "bin_start": -0.3,
            "bin_end": -0.19999999999999996,
            "count": 0
           },
           {
            "bin_start": -0.19999999999999996,
            "bin_end": -0.09999999999999998,
            "count": 0
           },
           {
            "bin_start": -0.09999999999999998,
            "bin_end": 0,
            "count": 0
           },
           {
            "bin_start": 0,
            "bin_end": 0.10000000000000009,
            "count": 1
           },
           {
            "bin_start": 0.10000000000000009,
            "bin_end": 0.20000000000000007,
            "count": 0
           },
           {
            "bin_start": 0.20000000000000007,
            "bin_end": 0.30000000000000004,
            "count": 0
           },
           {
            "bin_start": 0.30000000000000004,
            "bin_end": 0.4,
            "count": 0
           },
           {
            "bin_start": 0.4,
            "bin_end": 0.5,
            "count": 0
           }
          ]
         }
        },
        {
         "name": "1981M11",
         "dtype": "float64",
         "stats": {
          "unique_count": 1,
          "nan_count": 4,
          "min": "0.0",
          "max": "0.0",
          "histogram": [
           {
            "bin_start": -0.5,
            "bin_end": -0.4,
            "count": 0
           },
           {
            "bin_start": -0.4,
            "bin_end": -0.3,
            "count": 0
           },
           {
            "bin_start": -0.3,
            "bin_end": -0.19999999999999996,
            "count": 0
           },
           {
            "bin_start": -0.19999999999999996,
            "bin_end": -0.09999999999999998,
            "count": 0
           },
           {
            "bin_start": -0.09999999999999998,
            "bin_end": 0,
            "count": 0
           },
           {
            "bin_start": 0,
            "bin_end": 0.10000000000000009,
            "count": 1
           },
           {
            "bin_start": 0.10000000000000009,
            "bin_end": 0.20000000000000007,
            "count": 0
           },
           {
            "bin_start": 0.20000000000000007,
            "bin_end": 0.30000000000000004,
            "count": 0
           },
           {
            "bin_start": 0.30000000000000004,
            "bin_end": 0.4,
            "count": 0
           },
           {
            "bin_start": 0.4,
            "bin_end": 0.5,
            "count": 0
           }
          ]
         }
        },
        {
         "name": "1981M12",
         "dtype": "object",
         "stats": {
          "unique_count": 1,
          "nan_count": 4,
          "categories": [
           {
            "name": "0.0",
            "count": 1
           },
           {
            "name": "Missing",
            "count": 4
           }
          ]
         }
        },
        {
         "name": "1982",
         "dtype": "object",
         "stats": {
          "unique_count": 2,
          "nan_count": 3,
          "categories": [
           {
            "name": "0",
            "count": 1
           },
           {
            "name": "12300000",
            "count": 1
           },
           {
            "name": "Missing",
            "count": 3
           }
          ]
         }
        },
        {
         "name": "1982Q1",
         "dtype": "object",
         "stats": {
          "unique_count": 2,
          "nan_count": 3,
          "categories": [
           {
            "name": "0",
            "count": 1
           },
           {
            "name": "20130000",
            "count": 1
           },
           {
            "name": "Missing",
            "count": 3
           }
          ]
         }
        },
        {
         "name": "1982M1",
         "dtype": "object",
         "stats": {
          "unique_count": 1,
          "nan_count": 4,
          "categories": [
           {
            "name": "0",
            "count": 1
           },
           {
            "name": "Missing",
            "count": 4
           }
          ]
         }
        },
        {
         "name": "1982M2",
         "dtype": "float64",
         "stats": {
          "unique_count": 1,
          "nan_count": 4,
          "min": "0.0",
          "max": "0.0",
          "histogram": [
           {
            "bin_start": -0.5,
            "bin_end": -0.4,
            "count": 0
           },
           {
            "bin_start": -0.4,
            "bin_end": -0.3,
            "count": 0
           },
           {
            "bin_start": -0.3,
            "bin_end": -0.19999999999999996,
            "count": 0
           },
           {
            "bin_start": -0.19999999999999996,
            "bin_end": -0.09999999999999998,
            "count": 0
           },
           {
            "bin_start": -0.09999999999999998,
            "bin_end": 0,
            "count": 0
           },
           {
            "bin_start": 0,
            "bin_end": 0.10000000000000009,
            "count": 1
           },
           {
            "bin_start": 0.10000000000000009,
            "bin_end": 0.20000000000000007,
            "count": 0
           },
           {
            "bin_start": 0.20000000000000007,
            "bin_end": 0.30000000000000004,
            "count": 0
           },
           {
            "bin_start": 0.30000000000000004,
            "bin_end": 0.4,
            "count": 0
           },
           {
            "bin_start": 0.4,
            "bin_end": 0.5,
            "count": 0
           }
          ]
         }
        },
        {
         "name": "1982M3",
         "dtype": "float64",
         "stats": {
          "unique_count": 1,
          "nan_count": 4,
          "min": "0.0",
          "max": "0.0",
          "histogram": [
           {
            "bin_start": -0.5,
            "bin_end": -0.4,
            "count": 0
           },
           {
            "bin_start": -0.4,
            "bin_end": -0.3,
            "count": 0
           },
           {
            "bin_start": -0.3,
            "bin_end": -0.19999999999999996,
            "count": 0
           },
           {
            "bin_start": -0.19999999999999996,
            "bin_end": -0.09999999999999998,
            "count": 0
           },
           {
            "bin_start": -0.09999999999999998,
            "bin_end": 0,
            "count": 0
           },
           {
            "bin_start": 0,
            "bin_end": 0.10000000000000009,
            "count": 1
           },
           {
            "bin_start": 0.10000000000000009,
            "bin_end": 0.20000000000000007,
            "count": 0
           },
           {
            "bin_start": 0.20000000000000007,
            "bin_end": 0.30000000000000004,
            "count": 0
           },
           {
            "bin_start": 0.30000000000000004,
            "bin_end": 0.4,
            "count": 0
           },
           {
            "bin_start": 0.4,
            "bin_end": 0.5,
            "count": 0
           }
          ]
         }
        },
        {
         "name": "1982Q2",
         "dtype": "float64",
         "stats": {
          "unique_count": 2,
          "nan_count": 3,
          "min": "0.0",
          "max": "17520000.0",
          "histogram": [
           {
            "bin_start": 0,
            "bin_end": 1752000,
            "count": 1
           },
           {
            "bin_start": 1752000,
            "bin_end": 3504000,
            "count": 0
           },
           {
            "bin_start": 3504000,
            "bin_end": 5256000,
            "count": 0
           },
           {
            "bin_start": 5256000,
            "bin_end": 7008000,
            "count": 0
           },
           {
            "bin_start": 7008000,
            "bin_end": 8760000,
            "count": 0
           },
           {
            "bin_start": 8760000,
            "bin_end": 10512000,
            "count": 0
           },
           {
            "bin_start": 10512000,
            "bin_end": 12264000,
            "count": 0
           },
           {
            "bin_start": 12264000,
            "bin_end": 14016000,
            "count": 0
           },
           {
            "bin_start": 14016000,
            "bin_end": 15768000,
            "count": 0
           },
           {
            "bin_start": 15768000,
            "bin_end": 17520000,
            "count": 1
           }
          ]
         }
        },
        {
         "name": "1982M4",
         "dtype": "float64",
         "stats": {
          "unique_count": 1,
          "nan_count": 4,
          "min": "0.0",
          "max": "0.0",
          "histogram": [
           {
            "bin_start": -0.5,
            "bin_end": -0.4,
            "count": 0
           },
           {
            "bin_start": -0.4,
            "bin_end": -0.3,
            "count": 0
           },
           {
            "bin_start": -0.3,
            "bin_end": -0.19999999999999996,
            "count": 0
           },
           {
            "bin_start": -0.19999999999999996,
            "bin_end": -0.09999999999999998,
            "count": 0
           },
           {
            "bin_start": -0.09999999999999998,
            "bin_end": 0,
            "count": 0
           },
           {
            "bin_start": 0,
            "bin_end": 0.10000000000000009,
            "count": 1
           },
           {
            "bin_start": 0.10000000000000009,
            "bin_end": 0.20000000000000007,
            "count": 0
           },
           {
            "bin_start": 0.20000000000000007,
            "bin_end": 0.30000000000000004,
            "count": 0
           },
           {
            "bin_start": 0.30000000000000004,
            "bin_end": 0.4,
            "count": 0
           },
           {
            "bin_start": 0.4,
            "bin_end": 0.5,
            "count": 0
           }
          ]
         }
        },
        {
         "name": "1982M5",
         "dtype": "float64",
         "stats": {
          "unique_count": 1,
          "nan_count": 4,
          "min": "0.0",
          "max": "0.0",
          "histogram": [
           {
            "bin_start": -0.5,
            "bin_end": -0.4,
            "count": 0
           },
           {
            "bin_start": -0.4,
            "bin_end": -0.3,
            "count": 0
           },
           {
            "bin_start": -0.3,
            "bin_end": -0.19999999999999996,
            "count": 0
           },
           {
            "bin_start": -0.19999999999999996,
            "bin_end": -0.09999999999999998,
            "count": 0
           },
           {
            "bin_start": -0.09999999999999998,
            "bin_end": 0,
            "count": 0
           },
           {
            "bin_start": 0,
            "bin_end": 0.10000000000000009,
            "count": 1
           },
           {
            "bin_start": 0.10000000000000009,
            "bin_end": 0.20000000000000007,
            "count": 0
           },
           {
            "bin_start": 0.20000000000000007,
            "bin_end": 0.30000000000000004,
            "count": 0
           },
           {
            "bin_start": 0.30000000000000004,
            "bin_end": 0.4,
            "count": 0
           },
           {
            "bin_start": 0.4,
            "bin_end": 0.5,
            "count": 0
           }
          ]
         }
        },
        {
         "name": "1982M6",
         "dtype": "float64",
         "stats": {
          "unique_count": 1,
          "nan_count": 4,
          "min": "0.0",
          "max": "0.0",
          "histogram": [
           {
            "bin_start": -0.5,
            "bin_end": -0.4,
            "count": 0
           },
           {
            "bin_start": -0.4,
            "bin_end": -0.3,
            "count": 0
           },
           {
            "bin_start": -0.3,
            "bin_end": -0.19999999999999996,
            "count": 0
           },
           {
            "bin_start": -0.19999999999999996,
            "bin_end": -0.09999999999999998,
            "count": 0
           },
           {
            "bin_start": -0.09999999999999998,
            "bin_end": 0,
            "count": 0
           },
           {
            "bin_start": 0,
            "bin_end": 0.10000000000000009,
            "count": 1
           },
           {
            "bin_start": 0.10000000000000009,
            "bin_end": 0.20000000000000007,
            "count": 0
           },
           {
            "bin_start": 0.20000000000000007,
            "bin_end": 0.30000000000000004,
            "count": 0
           },
           {
            "bin_start": 0.30000000000000004,
            "bin_end": 0.4,
            "count": 0
           },
           {
            "bin_start": 0.4,
            "bin_end": 0.5,
            "count": 0
           }
          ]
         }
        },
        {
         "name": "1982Q3",
         "dtype": "object",
         "stats": {
          "unique_count": 2,
          "nan_count": 3,
          "categories": [
           {
            "name": "0.0",
            "count": 1
           },
           {
            "name": "14910000.0",
            "count": 1
           },
           {
            "name": "Missing",
            "count": 3
           }
          ]
         }
        },
        {
         "name": "1982M7",
         "dtype": "object",
         "stats": {
          "unique_count": 1,
          "nan_count": 4,
          "categories": [
           {
            "name": "0.0",
            "count": 1
           },
           {
            "name": "Missing",
            "count": 4
           }
          ]
         }
        },
        {
         "name": "1982M8",
         "dtype": "object",
         "stats": {
          "unique_count": 1,
          "nan_count": 4,
          "categories": [
           {
            "name": "0.0",
            "count": 1
           },
           {
            "name": "Missing",
            "count": 4
           }
          ]
         }
        },
        {
         "name": "1982M9",
         "dtype": "float64",
         "stats": {
          "unique_count": 1,
          "nan_count": 4,
          "min": "0.0",
          "max": "0.0",
          "histogram": [
           {
            "bin_start": -0.5,
            "bin_end": -0.4,
            "count": 0
           },
           {
            "bin_start": -0.4,
            "bin_end": -0.3,
            "count": 0
           },
           {
            "bin_start": -0.3,
            "bin_end": -0.19999999999999996,
            "count": 0
           },
           {
            "bin_start": -0.19999999999999996,
            "bin_end": -0.09999999999999998,
            "count": 0
           },
           {
            "bin_start": -0.09999999999999998,
            "bin_end": 0,
            "count": 0
           },
           {
            "bin_start": 0,
            "bin_end": 0.10000000000000009,
            "count": 1
           },
           {
            "bin_start": 0.10000000000000009,
            "bin_end": 0.20000000000000007,
            "count": 0
           },
           {
            "bin_start": 0.20000000000000007,
            "bin_end": 0.30000000000000004,
            "count": 0
           },
           {
            "bin_start": 0.30000000000000004,
            "bin_end": 0.4,
            "count": 0
           },
           {
            "bin_start": 0.4,
            "bin_end": 0.5,
            "count": 0
           }
          ]
         }
        },
        {
         "name": "1982Q4",
         "dtype": "object",
         "stats": {
          "unique_count": 2,
          "nan_count": 3,
          "categories": [
           {
            "name": "0.0",
            "count": 1
           },
           {
            "name": "12300000.0",
            "count": 1
           },
           {
            "name": "Missing",
            "count": 3
           }
          ]
         }
        },
        {
         "name": "1982M10",
         "dtype": "float64",
         "stats": {
          "unique_count": 1,
          "nan_count": 4,
          "min": "0.0",
          "max": "0.0",
          "histogram": [
           {
            "bin_start": -0.5,
            "bin_end": -0.4,
            "count": 0
           },
           {
            "bin_start": -0.4,
            "bin_end": -0.3,
            "count": 0
           },
           {
            "bin_start": -0.3,
            "bin_end": -0.19999999999999996,
            "count": 0
           },
           {
            "bin_start": -0.19999999999999996,
            "bin_end": -0.09999999999999998,
            "count": 0
           },
           {
            "bin_start": -0.09999999999999998,
            "bin_end": 0,
            "count": 0
           },
           {
            "bin_start": 0,
            "bin_end": 0.10000000000000009,
            "count": 1
           },
           {
            "bin_start": 0.10000000000000009,
            "bin_end": 0.20000000000000007,
            "count": 0
           },
           {
            "bin_start": 0.20000000000000007,
            "bin_end": 0.30000000000000004,
            "count": 0
           },
           {
            "bin_start": 0.30000000000000004,
            "bin_end": 0.4,
            "count": 0
           },
           {
            "bin_start": 0.4,
            "bin_end": 0.5,
            "count": 0
           }
          ]
         }
        },
        {
         "name": "1982M11",
         "dtype": "object",
         "stats": {
          "unique_count": 1,
          "nan_count": 4,
          "categories": [
           {
            "name": "0.0",
            "count": 1
           },
           {
            "name": "Missing",
            "count": 4
           }
          ]
         }
        },
        {
         "name": "1982M12",
         "dtype": "object",
         "stats": {
          "unique_count": 1,
          "nan_count": 4,
          "categories": [
           {
            "name": "0.0",
            "count": 1
           },
           {
            "name": "Missing",
            "count": 4
           }
          ]
         }
        },
        {
         "name": "1983",
         "dtype": "object",
         "stats": {
          "unique_count": 2,
          "nan_count": 3,
          "categories": [
           {
            "name": "0.0",
            "count": 1
           },
           {
            "name": "5470000.0",
            "count": 1
           },
           {
            "name": "Missing",
            "count": 3
           }
          ]
         }
        },
        {
         "name": "1983Q1",
         "dtype": "object",
         "stats": {
          "unique_count": 2,
          "nan_count": 3,
          "categories": [
           {
            "name": "0.0",
            "count": 1
           },
           {
            "name": "9680000.0",
            "count": 1
           },
           {
            "name": "Missing",
            "count": 3
           }
          ]
         }
        },
        {
         "name": "1983M1",
         "dtype": "object",
         "stats": {
          "unique_count": 1,
          "nan_count": 4,
          "categories": [
           {
            "name": "0.0",
            "count": 1
           },
           {
            "name": "Missing",
            "count": 4
           }
          ]
         }
        },
        {
         "name": "1983M2",
         "dtype": "object",
         "stats": {
          "unique_count": 1,
          "nan_count": 4,
          "categories": [
           {
            "name": "0.0",
            "count": 1
           },
           {
            "name": "Missing",
            "count": 4
           }
          ]
         }
        },
        {
         "name": "1983M3",
         "dtype": "object",
         "stats": {
          "unique_count": 1,
          "nan_count": 4,
          "categories": [
           {
            "name": "0.0",
            "count": 1
           },
           {
            "name": "Missing",
            "count": 4
           }
          ]
         }
        },
        {
         "name": "1983Q2",
         "dtype": "float64",
         "stats": {
          "unique_count": 2,
          "nan_count": 3,
          "min": "0.0",
          "max": "7950000.0",
          "histogram": [
           {
            "bin_start": 0,
            "bin_end": 795000,
            "count": 1
           },
           {
            "bin_start": 795000,
            "bin_end": 1590000,
            "count": 0
           },
           {
            "bin_start": 1590000,
            "bin_end": 2385000,
            "count": 0
           },
           {
            "bin_start": 2385000,
            "bin_end": 3180000,
            "count": 0
           },
           {
            "bin_start": 3180000,
            "bin_end": 3975000,
            "count": 0
           },
           {
            "bin_start": 3975000,
            "bin_end": 4770000,
            "count": 0
           },
           {
            "bin_start": 4770000,
            "bin_end": 5565000,
            "count": 0
           },
           {
            "bin_start": 5565000,
            "bin_end": 6360000,
            "count": 0
           },
           {
            "bin_start": 6360000,
            "bin_end": 7155000,
            "count": 0
           },
           {
            "bin_start": 7155000,
            "bin_end": 7950000,
            "count": 1
           }
          ]
         }
        },
        {
         "name": "1983M4",
         "dtype": "float64",
         "stats": {
          "unique_count": 1,
          "nan_count": 4,
          "min": "0.0",
          "max": "0.0",
          "histogram": [
           {
            "bin_start": -0.5,
            "bin_end": -0.4,
            "count": 0
           },
           {
            "bin_start": -0.4,
            "bin_end": -0.3,
            "count": 0
           },
           {
            "bin_start": -0.3,
            "bin_end": -0.19999999999999996,
            "count": 0
           },
           {
            "bin_start": -0.19999999999999996,
            "bin_end": -0.09999999999999998,
            "count": 0
           },
           {
            "bin_start": -0.09999999999999998,
            "bin_end": 0,
            "count": 0
           },
           {
            "bin_start": 0,
            "bin_end": 0.10000000000000009,
            "count": 1
           },
           {
            "bin_start": 0.10000000000000009,
            "bin_end": 0.20000000000000007,
            "count": 0
           },
           {
            "bin_start": 0.20000000000000007,
            "bin_end": 0.30000000000000004,
            "count": 0
           },
           {
            "bin_start": 0.30000000000000004,
            "bin_end": 0.4,
            "count": 0
           },
           {
            "bin_start": 0.4,
            "bin_end": 0.5,
            "count": 0
           }
          ]
         }
        },
        {
         "name": "1983M5",
         "dtype": "float64",
         "stats": {
          "unique_count": 1,
          "nan_count": 4,
          "min": "0.0",
          "max": "0.0",
          "histogram": [
           {
            "bin_start": -0.5,
            "bin_end": -0.4,
            "count": 0
           },
           {
            "bin_start": -0.4,
            "bin_end": -0.3,
            "count": 0
           },
           {
            "bin_start": -0.3,
            "bin_end": -0.19999999999999996,
            "count": 0
           },
           {
            "bin_start": -0.19999999999999996,
            "bin_end": -0.09999999999999998,
            "count": 0
           },
           {
            "bin_start": -0.09999999999999998,
            "bin_end": 0,
            "count": 0
           },
           {
            "bin_start": 0,
            "bin_end": 0.10000000000000009,
            "count": 1
           },
           {
            "bin_start": 0.10000000000000009,
            "bin_end": 0.20000000000000007,
            "count": 0
           },
           {
            "bin_start": 0.20000000000000007,
            "bin_end": 0.30000000000000004,
            "count": 0
           },
           {
            "bin_start": 0.30000000000000004,
            "bin_end": 0.4,
            "count": 0
           },
           {
            "bin_start": 0.4,
            "bin_end": 0.5,
            "count": 0
           }
          ]
         }
        },
        {
         "name": "1983M6",
         "dtype": "float64",
         "stats": {
          "unique_count": 1,
          "nan_count": 4,
          "min": "0.0",
          "max": "0.0",
          "histogram": [
           {
            "bin_start": -0.5,
            "bin_end": -0.4,
            "count": 0
           },
           {
            "bin_start": -0.4,
            "bin_end": -0.3,
            "count": 0
           },
           {
            "bin_start": -0.3,
            "bin_end": -0.19999999999999996,
            "count": 0
           },
           {
            "bin_start": -0.19999999999999996,
            "bin_end": -0.09999999999999998,
            "count": 0
           },
           {
            "bin_start": -0.09999999999999998,
            "bin_end": 0,
            "count": 0
           },
           {
            "bin_start": 0,
            "bin_end": 0.10000000000000009,
            "count": 1
           },
           {
            "bin_start": 0.10000000000000009,
            "bin_end": 0.20000000000000007,
            "count": 0
           },
           {
            "bin_start": 0.20000000000000007,
            "bin_end": 0.30000000000000004,
            "count": 0
           },
           {
            "bin_start": 0.30000000000000004,
            "bin_end": 0.4,
            "count": 0
           },
           {
            "bin_start": 0.4,
            "bin_end": 0.5,
            "count": 0
           }
          ]
         }
        },
        {
         "name": "1983Q3",
         "dtype": "object",
         "stats": {
          "unique_count": 2,
          "nan_count": 3,
          "categories": [
           {
            "name": "0.0",
            "count": 1
           },
           {
            "name": "6710000.0",
            "count": 1
           },
           {
            "name": "Missing",
            "count": 3
           }
          ]
         }
        },
        {
         "name": "1983M7",
         "dtype": "float64",
         "stats": {
          "unique_count": 1,
          "nan_count": 4,
          "min": "0.0",
          "max": "0.0",
          "histogram": [
           {
            "bin_start": -0.5,
            "bin_end": -0.4,
            "count": 0
           },
           {
            "bin_start": -0.4,
            "bin_end": -0.3,
            "count": 0
           },
           {
            "bin_start": -0.3,
            "bin_end": -0.19999999999999996,
            "count": 0
           },
           {
            "bin_start": -0.19999999999999996,
            "bin_end": -0.09999999999999998,
            "count": 0
           },
           {
            "bin_start": -0.09999999999999998,
            "bin_end": 0,
            "count": 0
           },
           {
            "bin_start": 0,
            "bin_end": 0.10000000000000009,
            "count": 1
           },
           {
            "bin_start": 0.10000000000000009,
            "bin_end": 0.20000000000000007,
            "count": 0
           },
           {
            "bin_start": 0.20000000000000007,
            "bin_end": 0.30000000000000004,
            "count": 0
           },
           {
            "bin_start": 0.30000000000000004,
            "bin_end": 0.4,
            "count": 0
           },
           {
            "bin_start": 0.4,
            "bin_end": 0.5,
            "count": 0
           }
          ]
         }
        },
        {
         "name": "1983M8",
         "dtype": "object",
         "stats": {
          "unique_count": 1,
          "nan_count": 4,
          "categories": [
           {
            "name": "0.0",
            "count": 1
           },
           {
            "name": "Missing",
            "count": 4
           }
          ]
         }
        },
        {
         "name": "1983M9",
         "dtype": "float64",
         "stats": {
          "unique_count": 1,
          "nan_count": 4,
          "min": "0.0",
          "max": "0.0",
          "histogram": [
           {
            "bin_start": -0.5,
            "bin_end": -0.4,
            "count": 0
           },
           {
            "bin_start": -0.4,
            "bin_end": -0.3,
            "count": 0
           },
           {
            "bin_start": -0.3,
            "bin_end": -0.19999999999999996,
            "count": 0
           },
           {
            "bin_start": -0.19999999999999996,
            "bin_end": -0.09999999999999998,
            "count": 0
           },
           {
            "bin_start": -0.09999999999999998,
            "bin_end": 0,
            "count": 0
           },
           {
            "bin_start": 0,
            "bin_end": 0.10000000000000009,
            "count": 1
           },
           {
            "bin_start": 0.10000000000000009,
            "bin_end": 0.20000000000000007,
            "count": 0
           },
           {
            "bin_start": 0.20000000000000007,
            "bin_end": 0.30000000000000004,
            "count": 0
           },
           {
            "bin_start": 0.30000000000000004,
            "bin_end": 0.4,
            "count": 0
           },
           {
            "bin_start": 0.4,
            "bin_end": 0.5,
            "count": 0
           }
          ]
         }
        },
        {
         "name": "1983Q4",
         "dtype": "object",
         "stats": {
          "unique_count": 2,
          "nan_count": 3,
          "categories": [
           {
            "name": "0.0",
            "count": 1
           },
           {
            "name": "5470000.0",
            "count": 1
           },
           {
            "name": "Missing",
            "count": 3
           }
          ]
         }
        },
        {
         "name": "1983M10",
         "dtype": "float64",
         "stats": {
          "unique_count": 1,
          "nan_count": 4,
          "min": "0.0",
          "max": "0.0",
          "histogram": [
           {
            "bin_start": -0.5,
            "bin_end": -0.4,
            "count": 0
           },
           {
            "bin_start": -0.4,
            "bin_end": -0.3,
            "count": 0
           },
           {
            "bin_start": -0.3,
            "bin_end": -0.19999999999999996,
            "count": 0
           },
           {
            "bin_start": -0.19999999999999996,
            "bin_end": -0.09999999999999998,
            "count": 0
           },
           {
            "bin_start": -0.09999999999999998,
            "bin_end": 0,
            "count": 0
           },
           {
            "bin_start": 0,
            "bin_end": 0.10000000000000009,
            "count": 1
           },
           {
            "bin_start": 0.10000000000000009,
            "bin_end": 0.20000000000000007,
            "count": 0
           },
           {
            "bin_start": 0.20000000000000007,
            "bin_end": 0.30000000000000004,
            "count": 0
           },
           {
            "bin_start": 0.30000000000000004,
            "bin_end": 0.4,
            "count": 0
           },
           {
            "bin_start": 0.4,
            "bin_end": 0.5,
            "count": 0
           }
          ]
         }
        },
        {
         "name": "1983M11",
         "dtype": "float64",
         "stats": {
          "unique_count": 1,
          "nan_count": 4,
          "min": "0.0",
          "max": "0.0",
          "histogram": [
           {
            "bin_start": -0.5,
            "bin_end": -0.4,
            "count": 0
           },
           {
            "bin_start": -0.4,
            "bin_end": -0.3,
            "count": 0
           },
           {
            "bin_start": -0.3,
            "bin_end": -0.19999999999999996,
            "count": 0
           },
           {
            "bin_start": -0.19999999999999996,
            "bin_end": -0.09999999999999998,
            "count": 0
           },
           {
            "bin_start": -0.09999999999999998,
            "bin_end": 0,
            "count": 0
           },
           {
            "bin_start": 0,
            "bin_end": 0.10000000000000009,
            "count": 1
           },
           {
            "bin_start": 0.10000000000000009,
            "bin_end": 0.20000000000000007,
            "count": 0
           },
           {
            "bin_start": 0.20000000000000007,
            "bin_end": 0.30000000000000004,
            "count": 0
           },
           {
            "bin_start": 0.30000000000000004,
            "bin_end": 0.4,
            "count": 0
           },
           {
            "bin_start": 0.4,
            "bin_end": 0.5,
            "count": 0
           }
          ]
         }
        },
        {
         "name": "1983M12",
         "dtype": "object",
         "stats": {
          "unique_count": 1,
          "nan_count": 4,
          "categories": [
           {
            "name": "0.0",
            "count": 1
           },
           {
            "name": "Missing",
            "count": 4
           }
          ]
         }
        },
        {
         "name": "1984",
         "dtype": "object",
         "stats": {
          "unique_count": 2,
          "nan_count": 3,
          "categories": [
           {
            "name": "0.0",
            "count": 1
           },
           {
            "name": "3170000.0",
            "count": 1
           },
           {
            "name": "Missing",
            "count": 3
           }
          ]
         }
        },
        {
         "name": "1984Q1",
         "dtype": "object",
         "stats": {
          "unique_count": 2,
          "nan_count": 3,
          "categories": [
           {
            "name": "0.0",
            "count": 1
           },
           {
            "name": "4240000.0",
            "count": 1
           },
           {
            "name": "Missing",
            "count": 3
           }
          ]
         }
        },
        {
         "name": "1984M1",
         "dtype": "object",
         "stats": {
          "unique_count": 1,
          "nan_count": 4,
          "categories": [
           {
            "name": "0.0",
            "count": 1
           },
           {
            "name": "Missing",
            "count": 4
           }
          ]
         }
        },
        {
         "name": "1984M2",
         "dtype": "float64",
         "stats": {
          "unique_count": 1,
          "nan_count": 4,
          "min": "0.0",
          "max": "0.0",
          "histogram": [
           {
            "bin_start": -0.5,
            "bin_end": -0.4,
            "count": 0
           },
           {
            "bin_start": -0.4,
            "bin_end": -0.3,
            "count": 0
           },
           {
            "bin_start": -0.3,
            "bin_end": -0.19999999999999996,
            "count": 0
           },
           {
            "bin_start": -0.19999999999999996,
            "bin_end": -0.09999999999999998,
            "count": 0
           },
           {
            "bin_start": -0.09999999999999998,
            "bin_end": 0,
            "count": 0
           },
           {
            "bin_start": 0,
            "bin_end": 0.10000000000000009,
            "count": 1
           },
           {
            "bin_start": 0.10000000000000009,
            "bin_end": 0.20000000000000007,
            "count": 0
           },
           {
            "bin_start": 0.20000000000000007,
            "bin_end": 0.30000000000000004,
            "count": 0
           },
           {
            "bin_start": 0.30000000000000004,
            "bin_end": 0.4,
            "count": 0
           },
           {
            "bin_start": 0.4,
            "bin_end": 0.5,
            "count": 0
           }
          ]
         }
        },
        {
         "name": "1984M3",
         "dtype": "object",
         "stats": {
          "unique_count": 1,
          "nan_count": 4,
          "categories": [
           {
            "name": "0.0",
            "count": 1
           },
           {
            "name": "Missing",
            "count": 4
           }
          ]
         }
        },
        {
         "name": "1984Q2",
         "dtype": "object",
         "stats": {
          "unique_count": 2,
          "nan_count": 3,
          "categories": [
           {
            "name": "0.0",
            "count": 1
           },
           {
            "name": "4240000.0",
            "count": 1
           },
           {
            "name": "Missing",
            "count": 3
           }
          ]
         }
        },
        {
         "name": "1984M4",
         "dtype": "object",
         "stats": {
          "unique_count": 1,
          "nan_count": 4,
          "categories": [
           {
            "name": "0.0",
            "count": 1
           },
           {
            "name": "Missing",
            "count": 4
           }
          ]
         }
        },
        {
         "name": "1984M5",
         "dtype": "object",
         "stats": {
          "unique_count": 1,
          "nan_count": 4,
          "categories": [
           {
            "name": "0.0",
            "count": 1
           },
           {
            "name": "Missing",
            "count": 4
           }
          ]
         }
        },
        {
         "name": "1984M6",
         "dtype": "object",
         "stats": {
          "unique_count": 1,
          "nan_count": 4,
          "categories": [
           {
            "name": "0.0",
            "count": 1
           },
           {
            "name": "Missing",
            "count": 4
           }
          ]
         }
        },
        {
         "name": "1984Q3",
         "dtype": "object",
         "stats": {
          "unique_count": 2,
          "nan_count": 3,
          "categories": [
           {
            "name": "0.0",
            "count": 1
           },
           {
            "name": "4240000.0",
            "count": 1
           },
           {
            "name": "Missing",
            "count": 3
           }
          ]
         }
        },
        {
         "name": "1984M7",
         "dtype": "object",
         "stats": {
          "unique_count": 1,
          "nan_count": 4,
          "categories": [
           {
            "name": "0.0",
            "count": 1
           },
           {
            "name": "Missing",
            "count": 4
           }
          ]
         }
        },
        {
         "name": "1984M8",
         "dtype": "float64",
         "stats": {
          "unique_count": 1,
          "nan_count": 4,
          "min": "0.0",
          "max": "0.0",
          "histogram": [
           {
            "bin_start": -0.5,
            "bin_end": -0.4,
            "count": 0
           },
           {
            "bin_start": -0.4,
            "bin_end": -0.3,
            "count": 0
           },
           {
            "bin_start": -0.3,
            "bin_end": -0.19999999999999996,
            "count": 0
           },
           {
            "bin_start": -0.19999999999999996,
            "bin_end": -0.09999999999999998,
            "count": 0
           },
           {
            "bin_start": -0.09999999999999998,
            "bin_end": 0,
            "count": 0
           },
           {
            "bin_start": 0,
            "bin_end": 0.10000000000000009,
            "count": 1
           },
           {
            "bin_start": 0.10000000000000009,
            "bin_end": 0.20000000000000007,
            "count": 0
           },
           {
            "bin_start": 0.20000000000000007,
            "bin_end": 0.30000000000000004,
            "count": 0
           },
           {
            "bin_start": 0.30000000000000004,
            "bin_end": 0.4,
            "count": 0
           },
           {
            "bin_start": 0.4,
            "bin_end": 0.5,
            "count": 0
           }
          ]
         }
        },
        {
         "name": "1984M9",
         "dtype": "float64",
         "stats": {
          "unique_count": 1,
          "nan_count": 4,
          "min": "0.0",
          "max": "0.0",
          "histogram": [
           {
            "bin_start": -0.5,
            "bin_end": -0.4,
            "count": 0
           },
           {
            "bin_start": -0.4,
            "bin_end": -0.3,
            "count": 0
           },
           {
            "bin_start": -0.3,
            "bin_end": -0.19999999999999996,
            "count": 0
           },
           {
            "bin_start": -0.19999999999999996,
            "bin_end": -0.09999999999999998,
            "count": 0
           },
           {
            "bin_start": -0.09999999999999998,
            "bin_end": 0,
            "count": 0
           },
           {
            "bin_start": 0,
            "bin_end": 0.10000000000000009,
            "count": 1
           },
           {
            "bin_start": 0.10000000000000009,
            "bin_end": 0.20000000000000007,
            "count": 0
           },
           {
            "bin_start": 0.20000000000000007,
            "bin_end": 0.30000000000000004,
            "count": 0
           },
           {
            "bin_start": 0.30000000000000004,
            "bin_end": 0.4,
            "count": 0
           },
           {
            "bin_start": 0.4,
            "bin_end": 0.5,
            "count": 0
           }
          ]
         }
        },
        {
         "name": "1984Q4",
         "dtype": "object",
         "stats": {
          "unique_count": 2,
          "nan_count": 3,
          "categories": [
           {
            "name": "0.0",
            "count": 1
           },
           {
            "name": "3170000.0",
            "count": 1
           },
           {
            "name": "Missing",
            "count": 3
           }
          ]
         }
        },
        {
         "name": "1984M10",
         "dtype": "object",
         "stats": {
          "unique_count": 1,
          "nan_count": 4,
          "categories": [
           {
            "name": "0.0",
            "count": 1
           },
           {
            "name": "Missing",
            "count": 4
           }
          ]
         }
        },
        {
         "name": "1984M11",
         "dtype": "object",
         "stats": {
          "unique_count": 1,
          "nan_count": 4,
          "categories": [
           {
            "name": "0.0",
            "count": 1
           },
           {
            "name": "Missing",
            "count": 4
           }
          ]
         }
        },
        {
         "name": "1984M12",
         "dtype": "object",
         "stats": {
          "unique_count": 1,
          "nan_count": 4,
          "categories": [
           {
            "name": "0.0",
            "count": 1
           },
           {
            "name": "Missing",
            "count": 4
           }
          ]
         }
        },
        {
         "name": "1985",
         "dtype": "object",
         "stats": {
          "unique_count": 1,
          "nan_count": 3,
          "categories": [
           {
            "name": "0.0",
            "count": 2
           },
           {
            "name": "Missing",
            "count": 3
           }
          ]
         }
        },
        {
         "name": "1985Q1",
         "dtype": "object",
         "stats": {
          "unique_count": 2,
          "nan_count": 3,
          "categories": [
           {
            "name": "0.0",
            "count": 1
           },
           {
            "name": "2110000.0",
            "count": 1
           },
           {
            "name": "Missing",
            "count": 3
           }
          ]
         }
        },
        {
         "name": "1985M1",
         "dtype": "object",
         "stats": {
          "unique_count": 1,
          "nan_count": 4,
          "categories": [
           {
            "name": "0.0",
            "count": 1
           },
           {
            "name": "Missing",
            "count": 4
           }
          ]
         }
        },
        {
         "name": "1985M2",
         "dtype": "object",
         "stats": {
          "unique_count": 1,
          "nan_count": 4,
          "categories": [
           {
            "name": "0.0",
            "count": 1
           },
           {
            "name": "Missing",
            "count": 4
           }
          ]
         }
        },
        {
         "name": "1985M3",
         "dtype": "float64",
         "stats": {
          "unique_count": 1,
          "nan_count": 4,
          "min": "0.0",
          "max": "0.0",
          "histogram": [
           {
            "bin_start": -0.5,
            "bin_end": -0.4,
            "count": 0
           },
           {
            "bin_start": -0.4,
            "bin_end": -0.3,
            "count": 0
           },
           {
            "bin_start": -0.3,
            "bin_end": -0.19999999999999996,
            "count": 0
           },
           {
            "bin_start": -0.19999999999999996,
            "bin_end": -0.09999999999999998,
            "count": 0
           },
           {
            "bin_start": -0.09999999999999998,
            "bin_end": 0,
            "count": 0
           },
           {
            "bin_start": 0,
            "bin_end": 0.10000000000000009,
            "count": 1
           },
           {
            "bin_start": 0.10000000000000009,
            "bin_end": 0.20000000000000007,
            "count": 0
           },
           {
            "bin_start": 0.20000000000000007,
            "bin_end": 0.30000000000000004,
            "count": 0
           },
           {
            "bin_start": 0.30000000000000004,
            "bin_end": 0.4,
            "count": 0
           },
           {
            "bin_start": 0.4,
            "bin_end": 0.5,
            "count": 0
           }
          ]
         }
        },
        {
         "name": "1985Q2",
         "dtype": "object",
         "stats": {
          "unique_count": 2,
          "nan_count": 3,
          "categories": [
           {
            "name": "0.0",
            "count": 1
           },
           {
            "name": "1050000.0",
            "count": 1
           },
           {
            "name": "Missing",
            "count": 3
           }
          ]
         }
        },
        {
         "name": "1985M4",
         "dtype": "object",
         "stats": {
          "unique_count": 1,
          "nan_count": 4,
          "categories": [
           {
            "name": "0.0",
            "count": 1
           },
           {
            "name": "Missing",
            "count": 4
           }
          ]
         }
        },
        {
         "name": "1985M5",
         "dtype": "float64",
         "stats": {
          "unique_count": 1,
          "nan_count": 4,
          "min": "0.0",
          "max": "0.0",
          "histogram": [
           {
            "bin_start": -0.5,
            "bin_end": -0.4,
            "count": 0
           },
           {
            "bin_start": -0.4,
            "bin_end": -0.3,
            "count": 0
           },
           {
            "bin_start": -0.3,
            "bin_end": -0.19999999999999996,
            "count": 0
           },
           {
            "bin_start": -0.19999999999999996,
            "bin_end": -0.09999999999999998,
            "count": 0
           },
           {
            "bin_start": -0.09999999999999998,
            "bin_end": 0,
            "count": 0
           },
           {
            "bin_start": 0,
            "bin_end": 0.10000000000000009,
            "count": 1
           },
           {
            "bin_start": 0.10000000000000009,
            "bin_end": 0.20000000000000007,
            "count": 0
           },
           {
            "bin_start": 0.20000000000000007,
            "bin_end": 0.30000000000000004,
            "count": 0
           },
           {
            "bin_start": 0.30000000000000004,
            "bin_end": 0.4,
            "count": 0
           },
           {
            "bin_start": 0.4,
            "bin_end": 0.5,
            "count": 0
           }
          ]
         }
        },
        {
         "name": "1985M6",
         "dtype": "float64",
         "stats": {
          "unique_count": 1,
          "nan_count": 4,
          "min": "0.0",
          "max": "0.0",
          "histogram": [
           {
            "bin_start": -0.5,
            "bin_end": -0.4,
            "count": 0
           },
           {
            "bin_start": -0.4,
            "bin_end": -0.3,
            "count": 0
           },
           {
            "bin_start": -0.3,
            "bin_end": -0.19999999999999996,
            "count": 0
           },
           {
            "bin_start": -0.19999999999999996,
            "bin_end": -0.09999999999999998,
            "count": 0
           },
           {
            "bin_start": -0.09999999999999998,
            "bin_end": 0,
            "count": 0
           },
           {
            "bin_start": 0,
            "bin_end": 0.10000000000000009,
            "count": 1
           },
           {
            "bin_start": 0.10000000000000009,
            "bin_end": 0.20000000000000007,
            "count": 0
           },
           {
            "bin_start": 0.20000000000000007,
            "bin_end": 0.30000000000000004,
            "count": 0
           },
           {
            "bin_start": 0.30000000000000004,
            "bin_end": 0.4,
            "count": 0
           },
           {
            "bin_start": 0.4,
            "bin_end": 0.5,
            "count": 0
           }
          ]
         }
        },
        {
         "name": "1985Q3",
         "dtype": "object",
         "stats": {
          "unique_count": 1,
          "nan_count": 3,
          "categories": [
           {
            "name": "0.0",
            "count": 2
           },
           {
            "name": "Missing",
            "count": 3
           }
          ]
         }
        },
        {
         "name": "1985M7",
         "dtype": "object",
         "stats": {
          "unique_count": 1,
          "nan_count": 4,
          "categories": [
           {
            "name": "0.0",
            "count": 1
           },
           {
            "name": "Missing",
            "count": 4
           }
          ]
         }
        },
        {
         "name": "1985M8",
         "dtype": "object",
         "stats": {
          "unique_count": 1,
          "nan_count": 4,
          "categories": [
           {
            "name": "0.0",
            "count": 1
           },
           {
            "name": "Missing",
            "count": 4
           }
          ]
         }
        },
        {
         "name": "1985M9",
         "dtype": "object",
         "stats": {
          "unique_count": 1,
          "nan_count": 4,
          "categories": [
           {
            "name": "0.0",
            "count": 1
           },
           {
            "name": "Missing",
            "count": 4
           }
          ]
         }
        },
        {
         "name": "1985Q4",
         "dtype": "object",
         "stats": {
          "unique_count": 1,
          "nan_count": 3,
          "categories": [
           {
            "name": "0.0",
            "count": 2
           },
           {
            "name": "Missing",
            "count": 3
           }
          ]
         }
        },
        {
         "name": "1985M10",
         "dtype": "float64",
         "stats": {
          "unique_count": 1,
          "nan_count": 4,
          "min": "0.0",
          "max": "0.0",
          "histogram": [
           {
            "bin_start": -0.5,
            "bin_end": -0.4,
            "count": 0
           },
           {
            "bin_start": -0.4,
            "bin_end": -0.3,
            "count": 0
           },
           {
            "bin_start": -0.3,
            "bin_end": -0.19999999999999996,
            "count": 0
           },
           {
            "bin_start": -0.19999999999999996,
            "bin_end": -0.09999999999999998,
            "count": 0
           },
           {
            "bin_start": -0.09999999999999998,
            "bin_end": 0,
            "count": 0
           },
           {
            "bin_start": 0,
            "bin_end": 0.10000000000000009,
            "count": 1
           },
           {
            "bin_start": 0.10000000000000009,
            "bin_end": 0.20000000000000007,
            "count": 0
           },
           {
            "bin_start": 0.20000000000000007,
            "bin_end": 0.30000000000000004,
            "count": 0
           },
           {
            "bin_start": 0.30000000000000004,
            "bin_end": 0.4,
            "count": 0
           },
           {
            "bin_start": 0.4,
            "bin_end": 0.5,
            "count": 0
           }
          ]
         }
        },
        {
         "name": "1985M11",
         "dtype": "float64",
         "stats": {
          "unique_count": 1,
          "nan_count": 4,
          "min": "0.0",
          "max": "0.0",
          "histogram": [
           {
            "bin_start": -0.5,
            "bin_end": -0.4,
            "count": 0
           },
           {
            "bin_start": -0.4,
            "bin_end": -0.3,
            "count": 0
           },
           {
            "bin_start": -0.3,
            "bin_end": -0.19999999999999996,
            "count": 0
           },
           {
            "bin_start": -0.19999999999999996,
            "bin_end": -0.09999999999999998,
            "count": 0
           },
           {
            "bin_start": -0.09999999999999998,
            "bin_end": 0,
            "count": 0
           },
           {
            "bin_start": 0,
            "bin_end": 0.10000000000000009,
            "count": 1
           },
           {
            "bin_start": 0.10000000000000009,
            "bin_end": 0.20000000000000007,
            "count": 0
           },
           {
            "bin_start": 0.20000000000000007,
            "bin_end": 0.30000000000000004,
            "count": 0
           },
           {
            "bin_start": 0.30000000000000004,
            "bin_end": 0.4,
            "count": 0
           },
           {
            "bin_start": 0.4,
            "bin_end": 0.5,
            "count": 0
           }
          ]
         }
        },
        {
         "name": "1985M12",
         "dtype": "object",
         "stats": {
          "unique_count": 1,
          "nan_count": 4,
          "categories": [
           {
            "name": "0.0",
            "count": 1
           },
           {
            "name": "Missing",
            "count": 4
           }
          ]
         }
        },
        {
         "name": "1986",
         "dtype": "object",
         "stats": {
          "unique_count": 1,
          "nan_count": 3,
          "categories": [
           {
            "name": "0.0",
            "count": 2
           },
           {
            "name": "Missing",
            "count": 3
           }
          ]
         }
        },
        {
         "name": "1986Q1",
         "dtype": "object",
         "stats": {
          "unique_count": 1,
          "nan_count": 3,
          "categories": [
           {
            "name": "0.0",
            "count": 2
           },
           {
            "name": "Missing",
            "count": 3
           }
          ]
         }
        },
        {
         "name": "1986M1",
         "dtype": "object",
         "stats": {
          "unique_count": 1,
          "nan_count": 4,
          "categories": [
           {
            "name": "0.0",
            "count": 1
           },
           {
            "name": "Missing",
            "count": 4
           }
          ]
         }
        },
        {
         "name": "1986M2",
         "dtype": "object",
         "stats": {
          "unique_count": 1,
          "nan_count": 4,
          "categories": [
           {
            "name": "0.0",
            "count": 1
           },
           {
            "name": "Missing",
            "count": 4
           }
          ]
         }
        },
        {
         "name": "1986M3",
         "dtype": "float64",
         "stats": {
          "unique_count": 1,
          "nan_count": 4,
          "min": "0.0",
          "max": "0.0",
          "histogram": [
           {
            "bin_start": -0.5,
            "bin_end": -0.4,
            "count": 0
           },
           {
            "bin_start": -0.4,
            "bin_end": -0.3,
            "count": 0
           },
           {
            "bin_start": -0.3,
            "bin_end": -0.19999999999999996,
            "count": 0
           },
           {
            "bin_start": -0.19999999999999996,
            "bin_end": -0.09999999999999998,
            "count": 0
           },
           {
            "bin_start": -0.09999999999999998,
            "bin_end": 0,
            "count": 0
           },
           {
            "bin_start": 0,
            "bin_end": 0.10000000000000009,
            "count": 1
           },
           {
            "bin_start": 0.10000000000000009,
            "bin_end": 0.20000000000000007,
            "count": 0
           },
           {
            "bin_start": 0.20000000000000007,
            "bin_end": 0.30000000000000004,
            "count": 0
           },
           {
            "bin_start": 0.30000000000000004,
            "bin_end": 0.4,
            "count": 0
           },
           {
            "bin_start": 0.4,
            "bin_end": 0.5,
            "count": 0
           }
          ]
         }
        },
        {
         "name": "1986Q2",
         "dtype": "object",
         "stats": {
          "unique_count": 1,
          "nan_count": 3,
          "categories": [
           {
            "name": "0.0",
            "count": 2
           },
           {
            "name": "Missing",
            "count": 3
           }
          ]
         }
        },
        {
         "name": "1986M4",
         "dtype": "object",
         "stats": {
          "unique_count": 1,
          "nan_count": 4,
          "categories": [
           {
            "name": "0.0",
            "count": 1
           },
           {
            "name": "Missing",
            "count": 4
           }
          ]
         }
        },
        {
         "name": "1986M5",
         "dtype": "float64",
         "stats": {
          "unique_count": 1,
          "nan_count": 4,
          "min": "0.0",
          "max": "0.0",
          "histogram": [
           {
            "bin_start": -0.5,
            "bin_end": -0.4,
            "count": 0
           },
           {
            "bin_start": -0.4,
            "bin_end": -0.3,
            "count": 0
           },
           {
            "bin_start": -0.3,
            "bin_end": -0.19999999999999996,
            "count": 0
           },
           {
            "bin_start": -0.19999999999999996,
            "bin_end": -0.09999999999999998,
            "count": 0
           },
           {
            "bin_start": -0.09999999999999998,
            "bin_end": 0,
            "count": 0
           },
           {
            "bin_start": 0,
            "bin_end": 0.10000000000000009,
            "count": 1
           },
           {
            "bin_start": 0.10000000000000009,
            "bin_end": 0.20000000000000007,
            "count": 0
           },
           {
            "bin_start": 0.20000000000000007,
            "bin_end": 0.30000000000000004,
            "count": 0
           },
           {
            "bin_start": 0.30000000000000004,
            "bin_end": 0.4,
            "count": 0
           },
           {
            "bin_start": 0.4,
            "bin_end": 0.5,
            "count": 0
           }
          ]
         }
        },
        {
         "name": "1986M6",
         "dtype": "object",
         "stats": {
          "unique_count": 1,
          "nan_count": 4,
          "categories": [
           {
            "name": "0.0",
            "count": 1
           },
           {
            "name": "Missing",
            "count": 4
           }
          ]
         }
        },
        {
         "name": "1986Q3",
         "dtype": "object",
         "stats": {
          "unique_count": 1,
          "nan_count": 3,
          "categories": [
           {
            "name": "0.0",
            "count": 2
           },
           {
            "name": "Missing",
            "count": 3
           }
          ]
         }
        },
        {
         "name": "1986M7",
         "dtype": "float64",
         "stats": {
          "unique_count": 1,
          "nan_count": 4,
          "min": "0.0",
          "max": "0.0",
          "histogram": [
           {
            "bin_start": -0.5,
            "bin_end": -0.4,
            "count": 0
           },
           {
            "bin_start": -0.4,
            "bin_end": -0.3,
            "count": 0
           },
           {
            "bin_start": -0.3,
            "bin_end": -0.19999999999999996,
            "count": 0
           },
           {
            "bin_start": -0.19999999999999996,
            "bin_end": -0.09999999999999998,
            "count": 0
           },
           {
            "bin_start": -0.09999999999999998,
            "bin_end": 0,
            "count": 0
           },
           {
            "bin_start": 0,
            "bin_end": 0.10000000000000009,
            "count": 1
           },
           {
            "bin_start": 0.10000000000000009,
            "bin_end": 0.20000000000000007,
            "count": 0
           },
           {
            "bin_start": 0.20000000000000007,
            "bin_end": 0.30000000000000004,
            "count": 0
           },
           {
            "bin_start": 0.30000000000000004,
            "bin_end": 0.4,
            "count": 0
           },
           {
            "bin_start": 0.4,
            "bin_end": 0.5,
            "count": 0
           }
          ]
         }
        },
        {
         "name": "1986M8",
         "dtype": "float64",
         "stats": {
          "unique_count": 1,
          "nan_count": 4,
          "min": "0.0",
          "max": "0.0",
          "histogram": [
           {
            "bin_start": -0.5,
            "bin_end": -0.4,
            "count": 0
           },
           {
            "bin_start": -0.4,
            "bin_end": -0.3,
            "count": 0
           },
           {
            "bin_start": -0.3,
            "bin_end": -0.19999999999999996,
            "count": 0
           },
           {
            "bin_start": -0.19999999999999996,
            "bin_end": -0.09999999999999998,
            "count": 0
           },
           {
            "bin_start": -0.09999999999999998,
            "bin_end": 0,
            "count": 0
           },
           {
            "bin_start": 0,
            "bin_end": 0.10000000000000009,
            "count": 1
           },
           {
            "bin_start": 0.10000000000000009,
            "bin_end": 0.20000000000000007,
            "count": 0
           },
           {
            "bin_start": 0.20000000000000007,
            "bin_end": 0.30000000000000004,
            "count": 0
           },
           {
            "bin_start": 0.30000000000000004,
            "bin_end": 0.4,
            "count": 0
           },
           {
            "bin_start": 0.4,
            "bin_end": 0.5,
            "count": 0
           }
          ]
         }
        },
        {
         "name": "1986M9",
         "dtype": "float64",
         "stats": {
          "unique_count": 1,
          "nan_count": 4,
          "min": "0.0",
          "max": "0.0",
          "histogram": [
           {
            "bin_start": -0.5,
            "bin_end": -0.4,
            "count": 0
           },
           {
            "bin_start": -0.4,
            "bin_end": -0.3,
            "count": 0
           },
           {
            "bin_start": -0.3,
            "bin_end": -0.19999999999999996,
            "count": 0
           },
           {
            "bin_start": -0.19999999999999996,
            "bin_end": -0.09999999999999998,
            "count": 0
           },
           {
            "bin_start": -0.09999999999999998,
            "bin_end": 0,
            "count": 0
           },
           {
            "bin_start": 0,
            "bin_end": 0.10000000000000009,
            "count": 1
           },
           {
            "bin_start": 0.10000000000000009,
            "bin_end": 0.20000000000000007,
            "count": 0
           },
           {
            "bin_start": 0.20000000000000007,
            "bin_end": 0.30000000000000004,
            "count": 0
           },
           {
            "bin_start": 0.30000000000000004,
            "bin_end": 0.4,
            "count": 0
           },
           {
            "bin_start": 0.4,
            "bin_end": 0.5,
            "count": 0
           }
          ]
         }
        },
        {
         "name": "1986Q4",
         "dtype": "object",
         "stats": {
          "unique_count": 1,
          "nan_count": 3,
          "categories": [
           {
            "name": "0.0",
            "count": 2
           },
           {
            "name": "Missing",
            "count": 3
           }
          ]
         }
        },
        {
         "name": "1986M10",
         "dtype": "object",
         "stats": {
          "unique_count": 1,
          "nan_count": 4,
          "categories": [
           {
            "name": "0.0",
            "count": 1
           },
           {
            "name": "Missing",
            "count": 4
           }
          ]
         }
        },
        {
         "name": "1986M11",
         "dtype": "float64",
         "stats": {
          "unique_count": 1,
          "nan_count": 4,
          "min": "0.0",
          "max": "0.0",
          "histogram": [
           {
            "bin_start": -0.5,
            "bin_end": -0.4,
            "count": 0
           },
           {
            "bin_start": -0.4,
            "bin_end": -0.3,
            "count": 0
           },
           {
            "bin_start": -0.3,
            "bin_end": -0.19999999999999996,
            "count": 0
           },
           {
            "bin_start": -0.19999999999999996,
            "bin_end": -0.09999999999999998,
            "count": 0
           },
           {
            "bin_start": -0.09999999999999998,
            "bin_end": 0,
            "count": 0
           },
           {
            "bin_start": 0,
            "bin_end": 0.10000000000000009,
            "count": 1
           },
           {
            "bin_start": 0.10000000000000009,
            "bin_end": 0.20000000000000007,
            "count": 0
           },
           {
            "bin_start": 0.20000000000000007,
            "bin_end": 0.30000000000000004,
            "count": 0
           },
           {
            "bin_start": 0.30000000000000004,
            "bin_end": 0.4,
            "count": 0
           },
           {
            "bin_start": 0.4,
            "bin_end": 0.5,
            "count": 0
           }
          ]
         }
        },
        {
         "name": "1986M12",
         "dtype": "float64",
         "stats": {
          "unique_count": 1,
          "nan_count": 4,
          "min": "0.0",
          "max": "0.0",
          "histogram": [
           {
            "bin_start": -0.5,
            "bin_end": -0.4,
            "count": 0
           },
           {
            "bin_start": -0.4,
            "bin_end": -0.3,
            "count": 0
           },
           {
            "bin_start": -0.3,
            "bin_end": -0.19999999999999996,
            "count": 0
           },
           {
            "bin_start": -0.19999999999999996,
            "bin_end": -0.09999999999999998,
            "count": 0
           },
           {
            "bin_start": -0.09999999999999998,
            "bin_end": 0,
            "count": 0
           },
           {
            "bin_start": 0,
            "bin_end": 0.10000000000000009,
            "count": 1
           },
           {
            "bin_start": 0.10000000000000009,
            "bin_end": 0.20000000000000007,
            "count": 0
           },
           {
            "bin_start": 0.20000000000000007,
            "bin_end": 0.30000000000000004,
            "count": 0
           },
           {
            "bin_start": 0.30000000000000004,
            "bin_end": 0.4,
            "count": 0
           },
           {
            "bin_start": 0.4,
            "bin_end": 0.5,
            "count": 0
           }
          ]
         }
        },
        {
         "name": "1987",
         "dtype": "object",
         "stats": {
          "unique_count": 1,
          "nan_count": 3,
          "categories": [
           {
            "name": "0.0",
            "count": 2
           },
           {
            "name": "Missing",
            "count": 3
           }
          ]
         }
        },
        {
         "name": "1987Q1",
         "dtype": "object",
         "stats": {
          "unique_count": 1,
          "nan_count": 3,
          "categories": [
           {
            "name": "0.0",
            "count": 2
           },
           {
            "name": "Missing",
            "count": 3
           }
          ]
         }
        },
        {
         "name": "1987M1",
         "dtype": "object",
         "stats": {
          "unique_count": 1,
          "nan_count": 4,
          "categories": [
           {
            "name": "0.0",
            "count": 1
           },
           {
            "name": "Missing",
            "count": 4
           }
          ]
         }
        },
        {
         "name": "1987M2",
         "dtype": "float64",
         "stats": {
          "unique_count": 1,
          "nan_count": 4,
          "min": "0.0",
          "max": "0.0",
          "histogram": [
           {
            "bin_start": -0.5,
            "bin_end": -0.4,
            "count": 0
           },
           {
            "bin_start": -0.4,
            "bin_end": -0.3,
            "count": 0
           },
           {
            "bin_start": -0.3,
            "bin_end": -0.19999999999999996,
            "count": 0
           },
           {
            "bin_start": -0.19999999999999996,
            "bin_end": -0.09999999999999998,
            "count": 0
           },
           {
            "bin_start": -0.09999999999999998,
            "bin_end": 0,
            "count": 0
           },
           {
            "bin_start": 0,
            "bin_end": 0.10000000000000009,
            "count": 1
           },
           {
            "bin_start": 0.10000000000000009,
            "bin_end": 0.20000000000000007,
            "count": 0
           },
           {
            "bin_start": 0.20000000000000007,
            "bin_end": 0.30000000000000004,
            "count": 0
           },
           {
            "bin_start": 0.30000000000000004,
            "bin_end": 0.4,
            "count": 0
           },
           {
            "bin_start": 0.4,
            "bin_end": 0.5,
            "count": 0
           }
          ]
         }
        },
        {
         "name": "1987M3",
         "dtype": "float64",
         "stats": {
          "unique_count": 1,
          "nan_count": 4,
          "min": "0.0",
          "max": "0.0",
          "histogram": [
           {
            "bin_start": -0.5,
            "bin_end": -0.4,
            "count": 0
           },
           {
            "bin_start": -0.4,
            "bin_end": -0.3,
            "count": 0
           },
           {
            "bin_start": -0.3,
            "bin_end": -0.19999999999999996,
            "count": 0
           },
           {
            "bin_start": -0.19999999999999996,
            "bin_end": -0.09999999999999998,
            "count": 0
           },
           {
            "bin_start": -0.09999999999999998,
            "bin_end": 0,
            "count": 0
           },
           {
            "bin_start": 0,
            "bin_end": 0.10000000000000009,
            "count": 1
           },
           {
            "bin_start": 0.10000000000000009,
            "bin_end": 0.20000000000000007,
            "count": 0
           },
           {
            "bin_start": 0.20000000000000007,
            "bin_end": 0.30000000000000004,
            "count": 0
           },
           {
            "bin_start": 0.30000000000000004,
            "bin_end": 0.4,
            "count": 0
           },
           {
            "bin_start": 0.4,
            "bin_end": 0.5,
            "count": 0
           }
          ]
         }
        },
        {
         "name": "1987Q2",
         "dtype": "object",
         "stats": {
          "unique_count": 1,
          "nan_count": 3,
          "categories": [
           {
            "name": "0.0",
            "count": 2
           },
           {
            "name": "Missing",
            "count": 3
           }
          ]
         }
        },
        {
         "name": "1987M4",
         "dtype": "object",
         "stats": {
          "unique_count": 1,
          "nan_count": 4,
          "categories": [
           {
            "name": "0.0",
            "count": 1
           },
           {
            "name": "Missing",
            "count": 4
           }
          ]
         }
        },
        {
         "name": "1987M5",
         "dtype": "float64",
         "stats": {
          "unique_count": 1,
          "nan_count": 4,
          "min": "0.0",
          "max": "0.0",
          "histogram": [
           {
            "bin_start": -0.5,
            "bin_end": -0.4,
            "count": 0
           },
           {
            "bin_start": -0.4,
            "bin_end": -0.3,
            "count": 0
           },
           {
            "bin_start": -0.3,
            "bin_end": -0.19999999999999996,
            "count": 0
           },
           {
            "bin_start": -0.19999999999999996,
            "bin_end": -0.09999999999999998,
            "count": 0
           },
           {
            "bin_start": -0.09999999999999998,
            "bin_end": 0,
            "count": 0
           },
           {
            "bin_start": 0,
            "bin_end": 0.10000000000000009,
            "count": 1
           },
           {
            "bin_start": 0.10000000000000009,
            "bin_end": 0.20000000000000007,
            "count": 0
           },
           {
            "bin_start": 0.20000000000000007,
            "bin_end": 0.30000000000000004,
            "count": 0
           },
           {
            "bin_start": 0.30000000000000004,
            "bin_end": 0.4,
            "count": 0
           },
           {
            "bin_start": 0.4,
            "bin_end": 0.5,
            "count": 0
           }
          ]
         }
        },
        {
         "name": "1987M6",
         "dtype": "float64",
         "stats": {
          "unique_count": 1,
          "nan_count": 4,
          "min": "0.0",
          "max": "0.0",
          "histogram": [
           {
            "bin_start": -0.5,
            "bin_end": -0.4,
            "count": 0
           },
           {
            "bin_start": -0.4,
            "bin_end": -0.3,
            "count": 0
           },
           {
            "bin_start": -0.3,
            "bin_end": -0.19999999999999996,
            "count": 0
           },
           {
            "bin_start": -0.19999999999999996,
            "bin_end": -0.09999999999999998,
            "count": 0
           },
           {
            "bin_start": -0.09999999999999998,
            "bin_end": 0,
            "count": 0
           },
           {
            "bin_start": 0,
            "bin_end": 0.10000000000000009,
            "count": 1
           },
           {
            "bin_start": 0.10000000000000009,
            "bin_end": 0.20000000000000007,
            "count": 0
           },
           {
            "bin_start": 0.20000000000000007,
            "bin_end": 0.30000000000000004,
            "count": 0
           },
           {
            "bin_start": 0.30000000000000004,
            "bin_end": 0.4,
            "count": 0
           },
           {
            "bin_start": 0.4,
            "bin_end": 0.5,
            "count": 0
           }
          ]
         }
        },
        {
         "name": "1987Q3",
         "dtype": "object",
         "stats": {
          "unique_count": 1,
          "nan_count": 3,
          "categories": [
           {
            "name": "0.0",
            "count": 2
           },
           {
            "name": "Missing",
            "count": 3
           }
          ]
         }
        },
        {
         "name": "1987M7",
         "dtype": "object",
         "stats": {
          "unique_count": 1,
          "nan_count": 4,
          "categories": [
           {
            "name": "0.0",
            "count": 1
           },
           {
            "name": "Missing",
            "count": 4
           }
          ]
         }
        },
        {
         "name": "1987M8",
         "dtype": "float64",
         "stats": {
          "unique_count": 1,
          "nan_count": 4,
          "min": "0.0",
          "max": "0.0",
          "histogram": [
           {
            "bin_start": -0.5,
            "bin_end": -0.4,
            "count": 0
           },
           {
            "bin_start": -0.4,
            "bin_end": -0.3,
            "count": 0
           },
           {
            "bin_start": -0.3,
            "bin_end": -0.19999999999999996,
            "count": 0
           },
           {
            "bin_start": -0.19999999999999996,
            "bin_end": -0.09999999999999998,
            "count": 0
           },
           {
            "bin_start": -0.09999999999999998,
            "bin_end": 0,
            "count": 0
           },
           {
            "bin_start": 0,
            "bin_end": 0.10000000000000009,
            "count": 1
           },
           {
            "bin_start": 0.10000000000000009,
            "bin_end": 0.20000000000000007,
            "count": 0
           },
           {
            "bin_start": 0.20000000000000007,
            "bin_end": 0.30000000000000004,
            "count": 0
           },
           {
            "bin_start": 0.30000000000000004,
            "bin_end": 0.4,
            "count": 0
           },
           {
            "bin_start": 0.4,
            "bin_end": 0.5,
            "count": 0
           }
          ]
         }
        },
        {
         "name": "1987M9",
         "dtype": "float64",
         "stats": {
          "unique_count": 1,
          "nan_count": 4,
          "min": "0.0",
          "max": "0.0",
          "histogram": [
           {
            "bin_start": -0.5,
            "bin_end": -0.4,
            "count": 0
           },
           {
            "bin_start": -0.4,
            "bin_end": -0.3,
            "count": 0
           },
           {
            "bin_start": -0.3,
            "bin_end": -0.19999999999999996,
            "count": 0
           },
           {
            "bin_start": -0.19999999999999996,
            "bin_end": -0.09999999999999998,
            "count": 0
           },
           {
            "bin_start": -0.09999999999999998,
            "bin_end": 0,
            "count": 0
           },
           {
            "bin_start": 0,
            "bin_end": 0.10000000000000009,
            "count": 1
           },
           {
            "bin_start": 0.10000000000000009,
            "bin_end": 0.20000000000000007,
            "count": 0
           },
           {
            "bin_start": 0.20000000000000007,
            "bin_end": 0.30000000000000004,
            "count": 0
           },
           {
            "bin_start": 0.30000000000000004,
            "bin_end": 0.4,
            "count": 0
           },
           {
            "bin_start": 0.4,
            "bin_end": 0.5,
            "count": 0
           }
          ]
         }
        },
        {
         "name": "1987Q4",
         "dtype": "object",
         "stats": {
          "unique_count": 1,
          "nan_count": 3,
          "categories": [
           {
            "name": "0.0",
            "count": 2
           },
           {
            "name": "Missing",
            "count": 3
           }
          ]
         }
        },
        {
         "name": "1987M10",
         "dtype": "object",
         "stats": {
          "unique_count": 1,
          "nan_count": 4,
          "categories": [
           {
            "name": "0.0",
            "count": 1
           },
           {
            "name": "Missing",
            "count": 4
           }
          ]
         }
        },
        {
         "name": "1987M11",
         "dtype": "float64",
         "stats": {
          "unique_count": 1,
          "nan_count": 4,
          "min": "0.0",
          "max": "0.0",
          "histogram": [
           {
            "bin_start": -0.5,
            "bin_end": -0.4,
            "count": 0
           },
           {
            "bin_start": -0.4,
            "bin_end": -0.3,
            "count": 0
           },
           {
            "bin_start": -0.3,
            "bin_end": -0.19999999999999996,
            "count": 0
           },
           {
            "bin_start": -0.19999999999999996,
            "bin_end": -0.09999999999999998,
            "count": 0
           },
           {
            "bin_start": -0.09999999999999998,
            "bin_end": 0,
            "count": 0
           },
           {
            "bin_start": 0,
            "bin_end": 0.10000000000000009,
            "count": 1
           },
           {
            "bin_start": 0.10000000000000009,
            "bin_end": 0.20000000000000007,
            "count": 0
           },
           {
            "bin_start": 0.20000000000000007,
            "bin_end": 0.30000000000000004,
            "count": 0
           },
           {
            "bin_start": 0.30000000000000004,
            "bin_end": 0.4,
            "count": 0
           },
           {
            "bin_start": 0.4,
            "bin_end": 0.5,
            "count": 0
           }
          ]
         }
        },
        {
         "name": "1987M12",
         "dtype": "object",
         "stats": {
          "unique_count": 1,
          "nan_count": 4,
          "categories": [
           {
            "name": "0.0",
            "count": 1
           },
           {
            "name": "Missing",
            "count": 4
           }
          ]
         }
        },
        {
         "name": "1988",
         "dtype": "object",
         "stats": {
          "unique_count": 1,
          "nan_count": 3,
          "categories": [
           {
            "name": "0.0",
            "count": 2
           },
           {
            "name": "Missing",
            "count": 3
           }
          ]
         }
        },
        {
         "name": "1988Q1",
         "dtype": "object",
         "stats": {
          "unique_count": 1,
          "nan_count": 3,
          "categories": [
           {
            "name": "0.0",
            "count": 2
           },
           {
            "name": "Missing",
            "count": 3
           }
          ]
         }
        },
        {
         "name": "1988M1",
         "dtype": "object",
         "stats": {
          "unique_count": 1,
          "nan_count": 4,
          "categories": [
           {
            "name": "0.0",
            "count": 1
           },
           {
            "name": "Missing",
            "count": 4
           }
          ]
         }
        },
        {
         "name": "1988M2",
         "dtype": "float64",
         "stats": {
          "unique_count": 1,
          "nan_count": 4,
          "min": "0.0",
          "max": "0.0",
          "histogram": [
           {
            "bin_start": -0.5,
            "bin_end": -0.4,
            "count": 0
           },
           {
            "bin_start": -0.4,
            "bin_end": -0.3,
            "count": 0
           },
           {
            "bin_start": -0.3,
            "bin_end": -0.19999999999999996,
            "count": 0
           },
           {
            "bin_start": -0.19999999999999996,
            "bin_end": -0.09999999999999998,
            "count": 0
           },
           {
            "bin_start": -0.09999999999999998,
            "bin_end": 0,
            "count": 0
           },
           {
            "bin_start": 0,
            "bin_end": 0.10000000000000009,
            "count": 1
           },
           {
            "bin_start": 0.10000000000000009,
            "bin_end": 0.20000000000000007,
            "count": 0
           },
           {
            "bin_start": 0.20000000000000007,
            "bin_end": 0.30000000000000004,
            "count": 0
           },
           {
            "bin_start": 0.30000000000000004,
            "bin_end": 0.4,
            "count": 0
           },
           {
            "bin_start": 0.4,
            "bin_end": 0.5,
            "count": 0
           }
          ]
         }
        },
        {
         "name": "1988M3",
         "dtype": "float64",
         "stats": {
          "unique_count": 1,
          "nan_count": 4,
          "min": "0.0",
          "max": "0.0",
          "histogram": [
           {
            "bin_start": -0.5,
            "bin_end": -0.4,
            "count": 0
           },
           {
            "bin_start": -0.4,
            "bin_end": -0.3,
            "count": 0
           },
           {
            "bin_start": -0.3,
            "bin_end": -0.19999999999999996,
            "count": 0
           },
           {
            "bin_start": -0.19999999999999996,
            "bin_end": -0.09999999999999998,
            "count": 0
           },
           {
            "bin_start": -0.09999999999999998,
            "bin_end": 0,
            "count": 0
           },
           {
            "bin_start": 0,
            "bin_end": 0.10000000000000009,
            "count": 1
           },
           {
            "bin_start": 0.10000000000000009,
            "bin_end": 0.20000000000000007,
            "count": 0
           },
           {
            "bin_start": 0.20000000000000007,
            "bin_end": 0.30000000000000004,
            "count": 0
           },
           {
            "bin_start": 0.30000000000000004,
            "bin_end": 0.4,
            "count": 0
           },
           {
            "bin_start": 0.4,
            "bin_end": 0.5,
            "count": 0
           }
          ]
         }
        },
        {
         "name": "1988Q2",
         "dtype": "object",
         "stats": {
          "unique_count": 1,
          "nan_count": 3,
          "categories": [
           {
            "name": "0.0",
            "count": 2
           },
           {
            "name": "Missing",
            "count": 3
           }
          ]
         }
        },
        {
         "name": "1988M4",
         "dtype": "float64",
         "stats": {
          "unique_count": 1,
          "nan_count": 4,
          "min": "0.0",
          "max": "0.0",
          "histogram": [
           {
            "bin_start": -0.5,
            "bin_end": -0.4,
            "count": 0
           },
           {
            "bin_start": -0.4,
            "bin_end": -0.3,
            "count": 0
           },
           {
            "bin_start": -0.3,
            "bin_end": -0.19999999999999996,
            "count": 0
           },
           {
            "bin_start": -0.19999999999999996,
            "bin_end": -0.09999999999999998,
            "count": 0
           },
           {
            "bin_start": -0.09999999999999998,
            "bin_end": 0,
            "count": 0
           },
           {
            "bin_start": 0,
            "bin_end": 0.10000000000000009,
            "count": 1
           },
           {
            "bin_start": 0.10000000000000009,
            "bin_end": 0.20000000000000007,
            "count": 0
           },
           {
            "bin_start": 0.20000000000000007,
            "bin_end": 0.30000000000000004,
            "count": 0
           },
           {
            "bin_start": 0.30000000000000004,
            "bin_end": 0.4,
            "count": 0
           },
           {
            "bin_start": 0.4,
            "bin_end": 0.5,
            "count": 0
           }
          ]
         }
        },
        {
         "name": "1988M5",
         "dtype": "object",
         "stats": {
          "unique_count": 1,
          "nan_count": 4,
          "categories": [
           {
            "name": "0.0",
            "count": 1
           },
           {
            "name": "Missing",
            "count": 4
           }
          ]
         }
        },
        {
         "name": "1988M6",
         "dtype": "object",
         "stats": {
          "unique_count": 1,
          "nan_count": 4,
          "categories": [
           {
            "name": "0.0",
            "count": 1
           },
           {
            "name": "Missing",
            "count": 4
           }
          ]
         }
        },
        {
         "name": "1988Q3",
         "dtype": "object",
         "stats": {
          "unique_count": 1,
          "nan_count": 3,
          "categories": [
           {
            "name": "0.0",
            "count": 2
           },
           {
            "name": "Missing",
            "count": 3
           }
          ]
         }
        },
        {
         "name": "1988M7",
         "dtype": "object",
         "stats": {
          "unique_count": 1,
          "nan_count": 4,
          "categories": [
           {
            "name": "0.0",
            "count": 1
           },
           {
            "name": "Missing",
            "count": 4
           }
          ]
         }
        },
        {
         "name": "1988M8",
         "dtype": "float64",
         "stats": {
          "unique_count": 1,
          "nan_count": 4,
          "min": "0.0",
          "max": "0.0",
          "histogram": [
           {
            "bin_start": -0.5,
            "bin_end": -0.4,
            "count": 0
           },
           {
            "bin_start": -0.4,
            "bin_end": -0.3,
            "count": 0
           },
           {
            "bin_start": -0.3,
            "bin_end": -0.19999999999999996,
            "count": 0
           },
           {
            "bin_start": -0.19999999999999996,
            "bin_end": -0.09999999999999998,
            "count": 0
           },
           {
            "bin_start": -0.09999999999999998,
            "bin_end": 0,
            "count": 0
           },
           {
            "bin_start": 0,
            "bin_end": 0.10000000000000009,
            "count": 1
           },
           {
            "bin_start": 0.10000000000000009,
            "bin_end": 0.20000000000000007,
            "count": 0
           },
           {
            "bin_start": 0.20000000000000007,
            "bin_end": 0.30000000000000004,
            "count": 0
           },
           {
            "bin_start": 0.30000000000000004,
            "bin_end": 0.4,
            "count": 0
           },
           {
            "bin_start": 0.4,
            "bin_end": 0.5,
            "count": 0
           }
          ]
         }
        },
        {
         "name": "1988M9",
         "dtype": "object",
         "stats": {
          "unique_count": 1,
          "nan_count": 4,
          "categories": [
           {
            "name": "0.0",
            "count": 1
           },
           {
            "name": "Missing",
            "count": 4
           }
          ]
         }
        },
        {
         "name": "1988Q4",
         "dtype": "object",
         "stats": {
          "unique_count": 1,
          "nan_count": 3,
          "categories": [
           {
            "name": "0.0",
            "count": 2
           },
           {
            "name": "Missing",
            "count": 3
           }
          ]
         }
        },
        {
         "name": "1988M10",
         "dtype": "object",
         "stats": {
          "unique_count": 1,
          "nan_count": 4,
          "categories": [
           {
            "name": "0.0",
            "count": 1
           },
           {
            "name": "Missing",
            "count": 4
           }
          ]
         }
        },
        {
         "name": "1988M11",
         "dtype": "float64",
         "stats": {
          "unique_count": 1,
          "nan_count": 4,
          "min": "0.0",
          "max": "0.0",
          "histogram": [
           {
            "bin_start": -0.5,
            "bin_end": -0.4,
            "count": 0
           },
           {
            "bin_start": -0.4,
            "bin_end": -0.3,
            "count": 0
           },
           {
            "bin_start": -0.3,
            "bin_end": -0.19999999999999996,
            "count": 0
           },
           {
            "bin_start": -0.19999999999999996,
            "bin_end": -0.09999999999999998,
            "count": 0
           },
           {
            "bin_start": -0.09999999999999998,
            "bin_end": 0,
            "count": 0
           },
           {
            "bin_start": 0,
            "bin_end": 0.10000000000000009,
            "count": 1
           },
           {
            "bin_start": 0.10000000000000009,
            "bin_end": 0.20000000000000007,
            "count": 0
           },
           {
            "bin_start": 0.20000000000000007,
            "bin_end": 0.30000000000000004,
            "count": 0
           },
           {
            "bin_start": 0.30000000000000004,
            "bin_end": 0.4,
            "count": 0
           },
           {
            "bin_start": 0.4,
            "bin_end": 0.5,
            "count": 0
           }
          ]
         }
        },
        {
         "name": "1988M12",
         "dtype": "object",
         "stats": {
          "unique_count": 1,
          "nan_count": 4,
          "categories": [
           {
            "name": "0.0",
            "count": 1
           },
           {
            "name": "Missing",
            "count": 4
           }
          ]
         }
        },
        {
         "name": "1989",
         "dtype": "object",
         "stats": {
          "unique_count": 1,
          "nan_count": 3,
          "categories": [
           {
            "name": "0.0",
            "count": 2
           },
           {
            "name": "Missing",
            "count": 3
           }
          ]
         }
        },
        {
         "name": "1989Q1",
         "dtype": "object",
         "stats": {
          "unique_count": 1,
          "nan_count": 3,
          "categories": [
           {
            "name": "0.0",
            "count": 2
           },
           {
            "name": "Missing",
            "count": 3
           }
          ]
         }
        },
        {
         "name": "1989M1",
         "dtype": "object",
         "stats": {
          "unique_count": 1,
          "nan_count": 4,
          "categories": [
           {
            "name": "0.0",
            "count": 1
           },
           {
            "name": "Missing",
            "count": 4
           }
          ]
         }
        },
        {
         "name": "1989M2",
         "dtype": "object",
         "stats": {
          "unique_count": 1,
          "nan_count": 4,
          "categories": [
           {
            "name": "0.0",
            "count": 1
           },
           {
            "name": "Missing",
            "count": 4
           }
          ]
         }
        },
        {
         "name": "1989M3",
         "dtype": "object",
         "stats": {
          "unique_count": 1,
          "nan_count": 4,
          "categories": [
           {
            "name": "0.0",
            "count": 1
           },
           {
            "name": "Missing",
            "count": 4
           }
          ]
         }
        },
        {
         "name": "1989Q2",
         "dtype": "float64",
         "stats": {
          "unique_count": 1,
          "nan_count": 3,
          "min": "0.0",
          "max": "0.0",
          "histogram": [
           {
            "bin_start": -0.5,
            "bin_end": -0.4,
            "count": 0
           },
           {
            "bin_start": -0.4,
            "bin_end": -0.3,
            "count": 0
           },
           {
            "bin_start": -0.3,
            "bin_end": -0.19999999999999996,
            "count": 0
           },
           {
            "bin_start": -0.19999999999999996,
            "bin_end": -0.09999999999999998,
            "count": 0
           },
           {
            "bin_start": -0.09999999999999998,
            "bin_end": 0,
            "count": 0
           },
           {
            "bin_start": 0,
            "bin_end": 0.10000000000000009,
            "count": 2
           },
           {
            "bin_start": 0.10000000000000009,
            "bin_end": 0.20000000000000007,
            "count": 0
           },
           {
            "bin_start": 0.20000000000000007,
            "bin_end": 0.30000000000000004,
            "count": 0
           },
           {
            "bin_start": 0.30000000000000004,
            "bin_end": 0.4,
            "count": 0
           },
           {
            "bin_start": 0.4,
            "bin_end": 0.5,
            "count": 0
           }
          ]
         }
        },
        {
         "name": "1989M4",
         "dtype": "object",
         "stats": {
          "unique_count": 1,
          "nan_count": 4,
          "categories": [
           {
            "name": "0.0",
            "count": 1
           },
           {
            "name": "Missing",
            "count": 4
           }
          ]
         }
        },
        {
         "name": "1989M5",
         "dtype": "object",
         "stats": {
          "unique_count": 1,
          "nan_count": 4,
          "categories": [
           {
            "name": "0.0",
            "count": 1
           },
           {
            "name": "Missing",
            "count": 4
           }
          ]
         }
        },
        {
         "name": "1989M6",
         "dtype": "float64",
         "stats": {
          "unique_count": 1,
          "nan_count": 4,
          "min": "0.0",
          "max": "0.0",
          "histogram": [
           {
            "bin_start": -0.5,
            "bin_end": -0.4,
            "count": 0
           },
           {
            "bin_start": -0.4,
            "bin_end": -0.3,
            "count": 0
           },
           {
            "bin_start": -0.3,
            "bin_end": -0.19999999999999996,
            "count": 0
           },
           {
            "bin_start": -0.19999999999999996,
            "bin_end": -0.09999999999999998,
            "count": 0
           },
           {
            "bin_start": -0.09999999999999998,
            "bin_end": 0,
            "count": 0
           },
           {
            "bin_start": 0,
            "bin_end": 0.10000000000000009,
            "count": 1
           },
           {
            "bin_start": 0.10000000000000009,
            "bin_end": 0.20000000000000007,
            "count": 0
           },
           {
            "bin_start": 0.20000000000000007,
            "bin_end": 0.30000000000000004,
            "count": 0
           },
           {
            "bin_start": 0.30000000000000004,
            "bin_end": 0.4,
            "count": 0
           },
           {
            "bin_start": 0.4,
            "bin_end": 0.5,
            "count": 0
           }
          ]
         }
        },
        {
         "name": "1989Q3",
         "dtype": "object",
         "stats": {
          "unique_count": 1,
          "nan_count": 3,
          "categories": [
           {
            "name": "0.0",
            "count": 2
           },
           {
            "name": "Missing",
            "count": 3
           }
          ]
         }
        },
        {
         "name": "1989M7",
         "dtype": "object",
         "stats": {
          "unique_count": 1,
          "nan_count": 4,
          "categories": [
           {
            "name": "0.0",
            "count": 1
           },
           {
            "name": "Missing",
            "count": 4
           }
          ]
         }
        },
        {
         "name": "1989M8",
         "dtype": "float64",
         "stats": {
          "unique_count": 1,
          "nan_count": 4,
          "min": "0.0",
          "max": "0.0",
          "histogram": [
           {
            "bin_start": -0.5,
            "bin_end": -0.4,
            "count": 0
           },
           {
            "bin_start": -0.4,
            "bin_end": -0.3,
            "count": 0
           },
           {
            "bin_start": -0.3,
            "bin_end": -0.19999999999999996,
            "count": 0
           },
           {
            "bin_start": -0.19999999999999996,
            "bin_end": -0.09999999999999998,
            "count": 0
           },
           {
            "bin_start": -0.09999999999999998,
            "bin_end": 0,
            "count": 0
           },
           {
            "bin_start": 0,
            "bin_end": 0.10000000000000009,
            "count": 1
           },
           {
            "bin_start": 0.10000000000000009,
            "bin_end": 0.20000000000000007,
            "count": 0
           },
           {
            "bin_start": 0.20000000000000007,
            "bin_end": 0.30000000000000004,
            "count": 0
           },
           {
            "bin_start": 0.30000000000000004,
            "bin_end": 0.4,
            "count": 0
           },
           {
            "bin_start": 0.4,
            "bin_end": 0.5,
            "count": 0
           }
          ]
         }
        },
        {
         "name": "1989M9",
         "dtype": "float64",
         "stats": {
          "unique_count": 1,
          "nan_count": 4,
          "min": "0.0",
          "max": "0.0",
          "histogram": [
           {
            "bin_start": -0.5,
            "bin_end": -0.4,
            "count": 0
           },
           {
            "bin_start": -0.4,
            "bin_end": -0.3,
            "count": 0
           },
           {
            "bin_start": -0.3,
            "bin_end": -0.19999999999999996,
            "count": 0
           },
           {
            "bin_start": -0.19999999999999996,
            "bin_end": -0.09999999999999998,
            "count": 0
           },
           {
            "bin_start": -0.09999999999999998,
            "bin_end": 0,
            "count": 0
           },
           {
            "bin_start": 0,
            "bin_end": 0.10000000000000009,
            "count": 1
           },
           {
            "bin_start": 0.10000000000000009,
            "bin_end": 0.20000000000000007,
            "count": 0
           },
           {
            "bin_start": 0.20000000000000007,
            "bin_end": 0.30000000000000004,
            "count": 0
           },
           {
            "bin_start": 0.30000000000000004,
            "bin_end": 0.4,
            "count": 0
           },
           {
            "bin_start": 0.4,
            "bin_end": 0.5,
            "count": 0
           }
          ]
         }
        },
        {
         "name": "1989Q4",
         "dtype": "object",
         "stats": {
          "unique_count": 1,
          "nan_count": 3,
          "categories": [
           {
            "name": "0.0",
            "count": 2
           },
           {
            "name": "Missing",
            "count": 3
           }
          ]
         }
        },
        {
         "name": "1989M10",
         "dtype": "float64",
         "stats": {
          "unique_count": 1,
          "nan_count": 4,
          "min": "0.0",
          "max": "0.0",
          "histogram": [
           {
            "bin_start": -0.5,
            "bin_end": -0.4,
            "count": 0
           },
           {
            "bin_start": -0.4,
            "bin_end": -0.3,
            "count": 0
           },
           {
            "bin_start": -0.3,
            "bin_end": -0.19999999999999996,
            "count": 0
           },
           {
            "bin_start": -0.19999999999999996,
            "bin_end": -0.09999999999999998,
            "count": 0
           },
           {
            "bin_start": -0.09999999999999998,
            "bin_end": 0,
            "count": 0
           },
           {
            "bin_start": 0,
            "bin_end": 0.10000000000000009,
            "count": 1
           },
           {
            "bin_start": 0.10000000000000009,
            "bin_end": 0.20000000000000007,
            "count": 0
           },
           {
            "bin_start": 0.20000000000000007,
            "bin_end": 0.30000000000000004,
            "count": 0
           },
           {
            "bin_start": 0.30000000000000004,
            "bin_end": 0.4,
            "count": 0
           },
           {
            "bin_start": 0.4,
            "bin_end": 0.5,
            "count": 0
           }
          ]
         }
        },
        {
         "name": "1989M11",
         "dtype": "float64",
         "stats": {
          "unique_count": 1,
          "nan_count": 4,
          "min": "0.0",
          "max": "0.0",
          "histogram": [
           {
            "bin_start": -0.5,
            "bin_end": -0.4,
            "count": 0
           },
           {
            "bin_start": -0.4,
            "bin_end": -0.3,
            "count": 0
           },
           {
            "bin_start": -0.3,
            "bin_end": -0.19999999999999996,
            "count": 0
           },
           {
            "bin_start": -0.19999999999999996,
            "bin_end": -0.09999999999999998,
            "count": 0
           },
           {
            "bin_start": -0.09999999999999998,
            "bin_end": 0,
            "count": 0
           },
           {
            "bin_start": 0,
            "bin_end": 0.10000000000000009,
            "count": 1
           },
           {
            "bin_start": 0.10000000000000009,
            "bin_end": 0.20000000000000007,
            "count": 0
           },
           {
            "bin_start": 0.20000000000000007,
            "bin_end": 0.30000000000000004,
            "count": 0
           },
           {
            "bin_start": 0.30000000000000004,
            "bin_end": 0.4,
            "count": 0
           },
           {
            "bin_start": 0.4,
            "bin_end": 0.5,
            "count": 0
           }
          ]
         }
        },
        {
         "name": "1989M12",
         "dtype": "float64",
         "stats": {
          "unique_count": 1,
          "nan_count": 4,
          "min": "0.0",
          "max": "0.0",
          "histogram": [
           {
            "bin_start": -0.5,
            "bin_end": -0.4,
            "count": 0
           },
           {
            "bin_start": -0.4,
            "bin_end": -0.3,
            "count": 0
           },
           {
            "bin_start": -0.3,
            "bin_end": -0.19999999999999996,
            "count": 0
           },
           {
            "bin_start": -0.19999999999999996,
            "bin_end": -0.09999999999999998,
            "count": 0
           },
           {
            "bin_start": -0.09999999999999998,
            "bin_end": 0,
            "count": 0
           },
           {
            "bin_start": 0,
            "bin_end": 0.10000000000000009,
            "count": 1
           },
           {
            "bin_start": 0.10000000000000009,
            "bin_end": 0.20000000000000007,
            "count": 0
           },
           {
            "bin_start": 0.20000000000000007,
            "bin_end": 0.30000000000000004,
            "count": 0
           },
           {
            "bin_start": 0.30000000000000004,
            "bin_end": 0.4,
            "count": 0
           },
           {
            "bin_start": 0.4,
            "bin_end": 0.5,
            "count": 0
           }
          ]
         }
        },
        {
         "name": "1990",
         "dtype": "object",
         "stats": {
          "unique_count": 1,
          "nan_count": 3,
          "categories": [
           {
            "name": "0",
            "count": 2
           },
           {
            "name": "Missing",
            "count": 3
           }
          ]
         }
        },
        {
         "name": "1990Q1",
         "dtype": "object",
         "stats": {
          "unique_count": 1,
          "nan_count": 3,
          "categories": [
           {
            "name": "0",
            "count": 2
           },
           {
            "name": "Missing",
            "count": 3
           }
          ]
         }
        },
        {
         "name": "1990M1",
         "dtype": "object",
         "stats": {
          "unique_count": 1,
          "nan_count": 4,
          "categories": [
           {
            "name": "0",
            "count": 1
           },
           {
            "name": "Missing",
            "count": 4
           }
          ]
         }
        },
        {
         "name": "1990M2",
         "dtype": "float64",
         "stats": {
          "unique_count": 1,
          "nan_count": 4,
          "min": "0.0",
          "max": "0.0",
          "histogram": [
           {
            "bin_start": -0.5,
            "bin_end": -0.4,
            "count": 0
           },
           {
            "bin_start": -0.4,
            "bin_end": -0.3,
            "count": 0
           },
           {
            "bin_start": -0.3,
            "bin_end": -0.19999999999999996,
            "count": 0
           },
           {
            "bin_start": -0.19999999999999996,
            "bin_end": -0.09999999999999998,
            "count": 0
           },
           {
            "bin_start": -0.09999999999999998,
            "bin_end": 0,
            "count": 0
           },
           {
            "bin_start": 0,
            "bin_end": 0.10000000000000009,
            "count": 1
           },
           {
            "bin_start": 0.10000000000000009,
            "bin_end": 0.20000000000000007,
            "count": 0
           },
           {
            "bin_start": 0.20000000000000007,
            "bin_end": 0.30000000000000004,
            "count": 0
           },
           {
            "bin_start": 0.30000000000000004,
            "bin_end": 0.4,
            "count": 0
           },
           {
            "bin_start": 0.4,
            "bin_end": 0.5,
            "count": 0
           }
          ]
         }
        },
        {
         "name": "1990M3",
         "dtype": "float64",
         "stats": {
          "unique_count": 1,
          "nan_count": 4,
          "min": "0.0",
          "max": "0.0",
          "histogram": [
           {
            "bin_start": -0.5,
            "bin_end": -0.4,
            "count": 0
           },
           {
            "bin_start": -0.4,
            "bin_end": -0.3,
            "count": 0
           },
           {
            "bin_start": -0.3,
            "bin_end": -0.19999999999999996,
            "count": 0
           },
           {
            "bin_start": -0.19999999999999996,
            "bin_end": -0.09999999999999998,
            "count": 0
           },
           {
            "bin_start": -0.09999999999999998,
            "bin_end": 0,
            "count": 0
           },
           {
            "bin_start": 0,
            "bin_end": 0.10000000000000009,
            "count": 1
           },
           {
            "bin_start": 0.10000000000000009,
            "bin_end": 0.20000000000000007,
            "count": 0
           },
           {
            "bin_start": 0.20000000000000007,
            "bin_end": 0.30000000000000004,
            "count": 0
           },
           {
            "bin_start": 0.30000000000000004,
            "bin_end": 0.4,
            "count": 0
           },
           {
            "bin_start": 0.4,
            "bin_end": 0.5,
            "count": 0
           }
          ]
         }
        },
        {
         "name": "1990Q2",
         "dtype": "object",
         "stats": {
          "unique_count": 1,
          "nan_count": 3,
          "categories": [
           {
            "name": "0.0",
            "count": 2
           },
           {
            "name": "Missing",
            "count": 3
           }
          ]
         }
        },
        {
         "name": "1990M4",
         "dtype": "object",
         "stats": {
          "unique_count": 1,
          "nan_count": 4,
          "categories": [
           {
            "name": "0.0",
            "count": 1
           },
           {
            "name": "Missing",
            "count": 4
           }
          ]
         }
        },
        {
         "name": "1990M5",
         "dtype": "float64",
         "stats": {
          "unique_count": 1,
          "nan_count": 4,
          "min": "0.0",
          "max": "0.0",
          "histogram": [
           {
            "bin_start": -0.5,
            "bin_end": -0.4,
            "count": 0
           },
           {
            "bin_start": -0.4,
            "bin_end": -0.3,
            "count": 0
           },
           {
            "bin_start": -0.3,
            "bin_end": -0.19999999999999996,
            "count": 0
           },
           {
            "bin_start": -0.19999999999999996,
            "bin_end": -0.09999999999999998,
            "count": 0
           },
           {
            "bin_start": -0.09999999999999998,
            "bin_end": 0,
            "count": 0
           },
           {
            "bin_start": 0,
            "bin_end": 0.10000000000000009,
            "count": 1
           },
           {
            "bin_start": 0.10000000000000009,
            "bin_end": 0.20000000000000007,
            "count": 0
           },
           {
            "bin_start": 0.20000000000000007,
            "bin_end": 0.30000000000000004,
            "count": 0
           },
           {
            "bin_start": 0.30000000000000004,
            "bin_end": 0.4,
            "count": 0
           },
           {
            "bin_start": 0.4,
            "bin_end": 0.5,
            "count": 0
           }
          ]
         }
        },
        {
         "name": "1990M6",
         "dtype": "float64",
         "stats": {
          "unique_count": 1,
          "nan_count": 4,
          "min": "0.0",
          "max": "0.0",
          "histogram": [
           {
            "bin_start": -0.5,
            "bin_end": -0.4,
            "count": 0
           },
           {
            "bin_start": -0.4,
            "bin_end": -0.3,
            "count": 0
           },
           {
            "bin_start": -0.3,
            "bin_end": -0.19999999999999996,
            "count": 0
           },
           {
            "bin_start": -0.19999999999999996,
            "bin_end": -0.09999999999999998,
            "count": 0
           },
           {
            "bin_start": -0.09999999999999998,
            "bin_end": 0,
            "count": 0
           },
           {
            "bin_start": 0,
            "bin_end": 0.10000000000000009,
            "count": 1
           },
           {
            "bin_start": 0.10000000000000009,
            "bin_end": 0.20000000000000007,
            "count": 0
           },
           {
            "bin_start": 0.20000000000000007,
            "bin_end": 0.30000000000000004,
            "count": 0
           },
           {
            "bin_start": 0.30000000000000004,
            "bin_end": 0.4,
            "count": 0
           },
           {
            "bin_start": 0.4,
            "bin_end": 0.5,
            "count": 0
           }
          ]
         }
        },
        {
         "name": "1990Q3",
         "dtype": "object",
         "stats": {
          "unique_count": 1,
          "nan_count": 3,
          "categories": [
           {
            "name": "0.0",
            "count": 2
           },
           {
            "name": "Missing",
            "count": 3
           }
          ]
         }
        },
        {
         "name": "1990M7",
         "dtype": "float64",
         "stats": {
          "unique_count": 1,
          "nan_count": 4,
          "min": "0.0",
          "max": "0.0",
          "histogram": [
           {
            "bin_start": -0.5,
            "bin_end": -0.4,
            "count": 0
           },
           {
            "bin_start": -0.4,
            "bin_end": -0.3,
            "count": 0
           },
           {
            "bin_start": -0.3,
            "bin_end": -0.19999999999999996,
            "count": 0
           },
           {
            "bin_start": -0.19999999999999996,
            "bin_end": -0.09999999999999998,
            "count": 0
           },
           {
            "bin_start": -0.09999999999999998,
            "bin_end": 0,
            "count": 0
           },
           {
            "bin_start": 0,
            "bin_end": 0.10000000000000009,
            "count": 1
           },
           {
            "bin_start": 0.10000000000000009,
            "bin_end": 0.20000000000000007,
            "count": 0
           },
           {
            "bin_start": 0.20000000000000007,
            "bin_end": 0.30000000000000004,
            "count": 0
           },
           {
            "bin_start": 0.30000000000000004,
            "bin_end": 0.4,
            "count": 0
           },
           {
            "bin_start": 0.4,
            "bin_end": 0.5,
            "count": 0
           }
          ]
         }
        },
        {
         "name": "1990M8",
         "dtype": "object",
         "stats": {
          "unique_count": 1,
          "nan_count": 4,
          "categories": [
           {
            "name": "0.0",
            "count": 1
           },
           {
            "name": "Missing",
            "count": 4
           }
          ]
         }
        },
        {
         "name": "1990M9",
         "dtype": "float64",
         "stats": {
          "unique_count": 1,
          "nan_count": 4,
          "min": "0.0",
          "max": "0.0",
          "histogram": [
           {
            "bin_start": -0.5,
            "bin_end": -0.4,
            "count": 0
           },
           {
            "bin_start": -0.4,
            "bin_end": -0.3,
            "count": 0
           },
           {
            "bin_start": -0.3,
            "bin_end": -0.19999999999999996,
            "count": 0
           },
           {
            "bin_start": -0.19999999999999996,
            "bin_end": -0.09999999999999998,
            "count": 0
           },
           {
            "bin_start": -0.09999999999999998,
            "bin_end": 0,
            "count": 0
           },
           {
            "bin_start": 0,
            "bin_end": 0.10000000000000009,
            "count": 1
           },
           {
            "bin_start": 0.10000000000000009,
            "bin_end": 0.20000000000000007,
            "count": 0
           },
           {
            "bin_start": 0.20000000000000007,
            "bin_end": 0.30000000000000004,
            "count": 0
           },
           {
            "bin_start": 0.30000000000000004,
            "bin_end": 0.4,
            "count": 0
           },
           {
            "bin_start": 0.4,
            "bin_end": 0.5,
            "count": 0
           }
          ]
         }
        },
        {
         "name": "1990Q4",
         "dtype": "object",
         "stats": {
          "unique_count": 1,
          "nan_count": 3,
          "categories": [
           {
            "name": "0.0",
            "count": 2
           },
           {
            "name": "Missing",
            "count": 3
           }
          ]
         }
        },
        {
         "name": "1990M10",
         "dtype": "float64",
         "stats": {
          "unique_count": 1,
          "nan_count": 4,
          "min": "0.0",
          "max": "0.0",
          "histogram": [
           {
            "bin_start": -0.5,
            "bin_end": -0.4,
            "count": 0
           },
           {
            "bin_start": -0.4,
            "bin_end": -0.3,
            "count": 0
           },
           {
            "bin_start": -0.3,
            "bin_end": -0.19999999999999996,
            "count": 0
           },
           {
            "bin_start": -0.19999999999999996,
            "bin_end": -0.09999999999999998,
            "count": 0
           },
           {
            "bin_start": -0.09999999999999998,
            "bin_end": 0,
            "count": 0
           },
           {
            "bin_start": 0,
            "bin_end": 0.10000000000000009,
            "count": 1
           },
           {
            "bin_start": 0.10000000000000009,
            "bin_end": 0.20000000000000007,
            "count": 0
           },
           {
            "bin_start": 0.20000000000000007,
            "bin_end": 0.30000000000000004,
            "count": 0
           },
           {
            "bin_start": 0.30000000000000004,
            "bin_end": 0.4,
            "count": 0
           },
           {
            "bin_start": 0.4,
            "bin_end": 0.5,
            "count": 0
           }
          ]
         }
        },
        {
         "name": "1990M11",
         "dtype": "float64",
         "stats": {
          "unique_count": 1,
          "nan_count": 4,
          "min": "0.0",
          "max": "0.0",
          "histogram": [
           {
            "bin_start": -0.5,
            "bin_end": -0.4,
            "count": 0
           },
           {
            "bin_start": -0.4,
            "bin_end": -0.3,
            "count": 0
           },
           {
            "bin_start": -0.3,
            "bin_end": -0.19999999999999996,
            "count": 0
           },
           {
            "bin_start": -0.19999999999999996,
            "bin_end": -0.09999999999999998,
            "count": 0
           },
           {
            "bin_start": -0.09999999999999998,
            "bin_end": 0,
            "count": 0
           },
           {
            "bin_start": 0,
            "bin_end": 0.10000000000000009,
            "count": 1
           },
           {
            "bin_start": 0.10000000000000009,
            "bin_end": 0.20000000000000007,
            "count": 0
           },
           {
            "bin_start": 0.20000000000000007,
            "bin_end": 0.30000000000000004,
            "count": 0
           },
           {
            "bin_start": 0.30000000000000004,
            "bin_end": 0.4,
            "count": 0
           },
           {
            "bin_start": 0.4,
            "bin_end": 0.5,
            "count": 0
           }
          ]
         }
        },
        {
         "name": "1990M12",
         "dtype": "object",
         "stats": {
          "unique_count": 1,
          "nan_count": 4,
          "categories": [
           {
            "name": "0.0",
            "count": 1
           },
           {
            "name": "Missing",
            "count": 4
           }
          ]
         }
        },
        {
         "name": "1991",
         "dtype": "object",
         "stats": {
          "unique_count": 1,
          "nan_count": 3,
          "categories": [
           {
            "name": "0.0",
            "count": 2
           },
           {
            "name": "Missing",
            "count": 3
           }
          ]
         }
        },
        {
         "name": "1991Q1",
         "dtype": "object",
         "stats": {
          "unique_count": 1,
          "nan_count": 3,
          "categories": [
           {
            "name": "0.0",
            "count": 2
           },
           {
            "name": "Missing",
            "count": 3
           }
          ]
         }
        },
        {
         "name": "1991M1",
         "dtype": "object",
         "stats": {
          "unique_count": 1,
          "nan_count": 4,
          "categories": [
           {
            "name": "0.0",
            "count": 1
           },
           {
            "name": "Missing",
            "count": 4
           }
          ]
         }
        },
        {
         "name": "1991M2",
         "dtype": "float64",
         "stats": {
          "unique_count": 1,
          "nan_count": 4,
          "min": "0.0",
          "max": "0.0",
          "histogram": [
           {
            "bin_start": -0.5,
            "bin_end": -0.4,
            "count": 0
           },
           {
            "bin_start": -0.4,
            "bin_end": -0.3,
            "count": 0
           },
           {
            "bin_start": -0.3,
            "bin_end": -0.19999999999999996,
            "count": 0
           },
           {
            "bin_start": -0.19999999999999996,
            "bin_end": -0.09999999999999998,
            "count": 0
           },
           {
            "bin_start": -0.09999999999999998,
            "bin_end": 0,
            "count": 0
           },
           {
            "bin_start": 0,
            "bin_end": 0.10000000000000009,
            "count": 1
           },
           {
            "bin_start": 0.10000000000000009,
            "bin_end": 0.20000000000000007,
            "count": 0
           },
           {
            "bin_start": 0.20000000000000007,
            "bin_end": 0.30000000000000004,
            "count": 0
           },
           {
            "bin_start": 0.30000000000000004,
            "bin_end": 0.4,
            "count": 0
           },
           {
            "bin_start": 0.4,
            "bin_end": 0.5,
            "count": 0
           }
          ]
         }
        },
        {
         "name": "1991M3",
         "dtype": "float64",
         "stats": {
          "unique_count": 1,
          "nan_count": 4,
          "min": "0.0",
          "max": "0.0",
          "histogram": [
           {
            "bin_start": -0.5,
            "bin_end": -0.4,
            "count": 0
           },
           {
            "bin_start": -0.4,
            "bin_end": -0.3,
            "count": 0
           },
           {
            "bin_start": -0.3,
            "bin_end": -0.19999999999999996,
            "count": 0
           },
           {
            "bin_start": -0.19999999999999996,
            "bin_end": -0.09999999999999998,
            "count": 0
           },
           {
            "bin_start": -0.09999999999999998,
            "bin_end": 0,
            "count": 0
           },
           {
            "bin_start": 0,
            "bin_end": 0.10000000000000009,
            "count": 1
           },
           {
            "bin_start": 0.10000000000000009,
            "bin_end": 0.20000000000000007,
            "count": 0
           },
           {
            "bin_start": 0.20000000000000007,
            "bin_end": 0.30000000000000004,
            "count": 0
           },
           {
            "bin_start": 0.30000000000000004,
            "bin_end": 0.4,
            "count": 0
           },
           {
            "bin_start": 0.4,
            "bin_end": 0.5,
            "count": 0
           }
          ]
         }
        },
        {
         "name": "1991Q2",
         "dtype": "object",
         "stats": {
          "unique_count": 1,
          "nan_count": 3,
          "categories": [
           {
            "name": "0.0",
            "count": 2
           },
           {
            "name": "Missing",
            "count": 3
           }
          ]
         }
        },
        {
         "name": "1991M4",
         "dtype": "object",
         "stats": {
          "unique_count": 1,
          "nan_count": 4,
          "categories": [
           {
            "name": "0.0",
            "count": 1
           },
           {
            "name": "Missing",
            "count": 4
           }
          ]
         }
        },
        {
         "name": "1991M5",
         "dtype": "float64",
         "stats": {
          "unique_count": 1,
          "nan_count": 4,
          "min": "0.0",
          "max": "0.0",
          "histogram": [
           {
            "bin_start": -0.5,
            "bin_end": -0.4,
            "count": 0
           },
           {
            "bin_start": -0.4,
            "bin_end": -0.3,
            "count": 0
           },
           {
            "bin_start": -0.3,
            "bin_end": -0.19999999999999996,
            "count": 0
           },
           {
            "bin_start": -0.19999999999999996,
            "bin_end": -0.09999999999999998,
            "count": 0
           },
           {
            "bin_start": -0.09999999999999998,
            "bin_end": 0,
            "count": 0
           },
           {
            "bin_start": 0,
            "bin_end": 0.10000000000000009,
            "count": 1
           },
           {
            "bin_start": 0.10000000000000009,
            "bin_end": 0.20000000000000007,
            "count": 0
           },
           {
            "bin_start": 0.20000000000000007,
            "bin_end": 0.30000000000000004,
            "count": 0
           },
           {
            "bin_start": 0.30000000000000004,
            "bin_end": 0.4,
            "count": 0
           },
           {
            "bin_start": 0.4,
            "bin_end": 0.5,
            "count": 0
           }
          ]
         }
        },
        {
         "name": "1991M6",
         "dtype": "object",
         "stats": {
          "unique_count": 1,
          "nan_count": 4,
          "categories": [
           {
            "name": "0.0",
            "count": 1
           },
           {
            "name": "Missing",
            "count": 4
           }
          ]
         }
        },
        {
         "name": "1991Q3",
         "dtype": "object",
         "stats": {
          "unique_count": 1,
          "nan_count": 3,
          "categories": [
           {
            "name": "0.0",
            "count": 2
           },
           {
            "name": "Missing",
            "count": 3
           }
          ]
         }
        },
        {
         "name": "1991M7",
         "dtype": "object",
         "stats": {
          "unique_count": 1,
          "nan_count": 4,
          "categories": [
           {
            "name": "0.0",
            "count": 1
           },
           {
            "name": "Missing",
            "count": 4
           }
          ]
         }
        },
        {
         "name": "1991M8",
         "dtype": "float64",
         "stats": {
          "unique_count": 1,
          "nan_count": 4,
          "min": "0.0",
          "max": "0.0",
          "histogram": [
           {
            "bin_start": -0.5,
            "bin_end": -0.4,
            "count": 0
           },
           {
            "bin_start": -0.4,
            "bin_end": -0.3,
            "count": 0
           },
           {
            "bin_start": -0.3,
            "bin_end": -0.19999999999999996,
            "count": 0
           },
           {
            "bin_start": -0.19999999999999996,
            "bin_end": -0.09999999999999998,
            "count": 0
           },
           {
            "bin_start": -0.09999999999999998,
            "bin_end": 0,
            "count": 0
           },
           {
            "bin_start": 0,
            "bin_end": 0.10000000000000009,
            "count": 1
           },
           {
            "bin_start": 0.10000000000000009,
            "bin_end": 0.20000000000000007,
            "count": 0
           },
           {
            "bin_start": 0.20000000000000007,
            "bin_end": 0.30000000000000004,
            "count": 0
           },
           {
            "bin_start": 0.30000000000000004,
            "bin_end": 0.4,
            "count": 0
           },
           {
            "bin_start": 0.4,
            "bin_end": 0.5,
            "count": 0
           }
          ]
         }
        },
        {
         "name": "1991M9",
         "dtype": "object",
         "stats": {
          "unique_count": 1,
          "nan_count": 4,
          "categories": [
           {
            "name": "0.0",
            "count": 1
           },
           {
            "name": "Missing",
            "count": 4
           }
          ]
         }
        },
        {
         "name": "1991Q4",
         "dtype": "object",
         "stats": {
          "unique_count": 1,
          "nan_count": 3,
          "categories": [
           {
            "name": "0.0",
            "count": 2
           },
           {
            "name": "Missing",
            "count": 3
           }
          ]
         }
        },
        {
         "name": "1991M10",
         "dtype": "object",
         "stats": {
          "unique_count": 1,
          "nan_count": 4,
          "categories": [
           {
            "name": "0.0",
            "count": 1
           },
           {
            "name": "Missing",
            "count": 4
           }
          ]
         }
        },
        {
         "name": "1991M11",
         "dtype": "object",
         "stats": {
          "unique_count": 1,
          "nan_count": 4,
          "categories": [
           {
            "name": "0.0",
            "count": 1
           },
           {
            "name": "Missing",
            "count": 4
           }
          ]
         }
        },
        {
         "name": "1991M12",
         "dtype": "float64",
         "stats": {
          "unique_count": 1,
          "nan_count": 4,
          "min": "0.0",
          "max": "0.0",
          "histogram": [
           {
            "bin_start": -0.5,
            "bin_end": -0.4,
            "count": 0
           },
           {
            "bin_start": -0.4,
            "bin_end": -0.3,
            "count": 0
           },
           {
            "bin_start": -0.3,
            "bin_end": -0.19999999999999996,
            "count": 0
           },
           {
            "bin_start": -0.19999999999999996,
            "bin_end": -0.09999999999999998,
            "count": 0
           },
           {
            "bin_start": -0.09999999999999998,
            "bin_end": 0,
            "count": 0
           },
           {
            "bin_start": 0,
            "bin_end": 0.10000000000000009,
            "count": 1
           },
           {
            "bin_start": 0.10000000000000009,
            "bin_end": 0.20000000000000007,
            "count": 0
           },
           {
            "bin_start": 0.20000000000000007,
            "bin_end": 0.30000000000000004,
            "count": 0
           },
           {
            "bin_start": 0.30000000000000004,
            "bin_end": 0.4,
            "count": 0
           },
           {
            "bin_start": 0.4,
            "bin_end": 0.5,
            "count": 0
           }
          ]
         }
        },
        {
         "name": "1992",
         "dtype": "object",
         "stats": {
          "unique_count": 1,
          "nan_count": 3,
          "categories": [
           {
            "name": "0",
            "count": 2
           },
           {
            "name": "Missing",
            "count": 3
           }
          ]
         }
        },
        {
         "name": "1992Q1",
         "dtype": "object",
         "stats": {
          "unique_count": 1,
          "nan_count": 3,
          "categories": [
           {
            "name": "0.0",
            "count": 2
           },
           {
            "name": "Missing",
            "count": 3
           }
          ]
         }
        },
        {
         "name": "1992M1",
         "dtype": "object",
         "stats": {
          "unique_count": 1,
          "nan_count": 4,
          "categories": [
           {
            "name": "0.0",
            "count": 1
           },
           {
            "name": "Missing",
            "count": 4
           }
          ]
         }
        },
        {
         "name": "1992M2",
         "dtype": "object",
         "stats": {
          "unique_count": 1,
          "nan_count": 4,
          "categories": [
           {
            "name": "0.0",
            "count": 1
           },
           {
            "name": "Missing",
            "count": 4
           }
          ]
         }
        },
        {
         "name": "1992M3",
         "dtype": "float64",
         "stats": {
          "unique_count": 1,
          "nan_count": 4,
          "min": "0.0",
          "max": "0.0",
          "histogram": [
           {
            "bin_start": -0.5,
            "bin_end": -0.4,
            "count": 0
           },
           {
            "bin_start": -0.4,
            "bin_end": -0.3,
            "count": 0
           },
           {
            "bin_start": -0.3,
            "bin_end": -0.19999999999999996,
            "count": 0
           },
           {
            "bin_start": -0.19999999999999996,
            "bin_end": -0.09999999999999998,
            "count": 0
           },
           {
            "bin_start": -0.09999999999999998,
            "bin_end": 0,
            "count": 0
           },
           {
            "bin_start": 0,
            "bin_end": 0.10000000000000009,
            "count": 1
           },
           {
            "bin_start": 0.10000000000000009,
            "bin_end": 0.20000000000000007,
            "count": 0
           },
           {
            "bin_start": 0.20000000000000007,
            "bin_end": 0.30000000000000004,
            "count": 0
           },
           {
            "bin_start": 0.30000000000000004,
            "bin_end": 0.4,
            "count": 0
           },
           {
            "bin_start": 0.4,
            "bin_end": 0.5,
            "count": 0
           }
          ]
         }
        },
        {
         "name": "1992Q2",
         "dtype": "object",
         "stats": {
          "unique_count": 1,
          "nan_count": 3,
          "categories": [
           {
            "name": "0.0",
            "count": 2
           },
           {
            "name": "Missing",
            "count": 3
           }
          ]
         }
        },
        {
         "name": "1992M4",
         "dtype": "object",
         "stats": {
          "unique_count": 1,
          "nan_count": 4,
          "categories": [
           {
            "name": "0.0",
            "count": 1
           },
           {
            "name": "Missing",
            "count": 4
           }
          ]
         }
        },
        {
         "name": "1992M5",
         "dtype": "float64",
         "stats": {
          "unique_count": 1,
          "nan_count": 4,
          "min": "0.0",
          "max": "0.0",
          "histogram": [
           {
            "bin_start": -0.5,
            "bin_end": -0.4,
            "count": 0
           },
           {
            "bin_start": -0.4,
            "bin_end": -0.3,
            "count": 0
           },
           {
            "bin_start": -0.3,
            "bin_end": -0.19999999999999996,
            "count": 0
           },
           {
            "bin_start": -0.19999999999999996,
            "bin_end": -0.09999999999999998,
            "count": 0
           },
           {
            "bin_start": -0.09999999999999998,
            "bin_end": 0,
            "count": 0
           },
           {
            "bin_start": 0,
            "bin_end": 0.10000000000000009,
            "count": 1
           },
           {
            "bin_start": 0.10000000000000009,
            "bin_end": 0.20000000000000007,
            "count": 0
           },
           {
            "bin_start": 0.20000000000000007,
            "bin_end": 0.30000000000000004,
            "count": 0
           },
           {
            "bin_start": 0.30000000000000004,
            "bin_end": 0.4,
            "count": 0
           },
           {
            "bin_start": 0.4,
            "bin_end": 0.5,
            "count": 0
           }
          ]
         }
        },
        {
         "name": "1992M6",
         "dtype": "object",
         "stats": {
          "unique_count": 1,
          "nan_count": 4,
          "categories": [
           {
            "name": "0.0",
            "count": 1
           },
           {
            "name": "Missing",
            "count": 4
           }
          ]
         }
        },
        {
         "name": "1992Q3",
         "dtype": "object",
         "stats": {
          "unique_count": 1,
          "nan_count": 3,
          "categories": [
           {
            "name": "0.0",
            "count": 2
           },
           {
            "name": "Missing",
            "count": 3
           }
          ]
         }
        },
        {
         "name": "1992M7",
         "dtype": "object",
         "stats": {
          "unique_count": 1,
          "nan_count": 4,
          "categories": [
           {
            "name": "0.0",
            "count": 1
           },
           {
            "name": "Missing",
            "count": 4
           }
          ]
         }
        },
        {
         "name": "1992M8",
         "dtype": "object",
         "stats": {
          "unique_count": 1,
          "nan_count": 4,
          "categories": [
           {
            "name": "0.0",
            "count": 1
           },
           {
            "name": "Missing",
            "count": 4
           }
          ]
         }
        },
        {
         "name": "1992M9",
         "dtype": "float64",
         "stats": {
          "unique_count": 1,
          "nan_count": 4,
          "min": "0.0",
          "max": "0.0",
          "histogram": [
           {
            "bin_start": -0.5,
            "bin_end": -0.4,
            "count": 0
           },
           {
            "bin_start": -0.4,
            "bin_end": -0.3,
            "count": 0
           },
           {
            "bin_start": -0.3,
            "bin_end": -0.19999999999999996,
            "count": 0
           },
           {
            "bin_start": -0.19999999999999996,
            "bin_end": -0.09999999999999998,
            "count": 0
           },
           {
            "bin_start": -0.09999999999999998,
            "bin_end": 0,
            "count": 0
           },
           {
            "bin_start": 0,
            "bin_end": 0.10000000000000009,
            "count": 1
           },
           {
            "bin_start": 0.10000000000000009,
            "bin_end": 0.20000000000000007,
            "count": 0
           },
           {
            "bin_start": 0.20000000000000007,
            "bin_end": 0.30000000000000004,
            "count": 0
           },
           {
            "bin_start": 0.30000000000000004,
            "bin_end": 0.4,
            "count": 0
           },
           {
            "bin_start": 0.4,
            "bin_end": 0.5,
            "count": 0
           }
          ]
         }
        },
        {
         "name": "1992Q4",
         "dtype": "object",
         "stats": {
          "unique_count": 1,
          "nan_count": 3,
          "categories": [
           {
            "name": "0.0",
            "count": 2
           },
           {
            "name": "Missing",
            "count": 3
           }
          ]
         }
        },
        {
         "name": "1992M10",
         "dtype": "object",
         "stats": {
          "unique_count": 1,
          "nan_count": 4,
          "categories": [
           {
            "name": "0.0",
            "count": 1
           },
           {
            "name": "Missing",
            "count": 4
           }
          ]
         }
        },
        {
         "name": "1992M11",
         "dtype": "object",
         "stats": {
          "unique_count": 1,
          "nan_count": 4,
          "categories": [
           {
            "name": "0.0",
            "count": 1
           },
           {
            "name": "Missing",
            "count": 4
           }
          ]
         }
        },
        {
         "name": "1992M12",
         "dtype": "float64",
         "stats": {
          "unique_count": 1,
          "nan_count": 4,
          "min": "0.0",
          "max": "0.0",
          "histogram": [
           {
            "bin_start": -0.5,
            "bin_end": -0.4,
            "count": 0
           },
           {
            "bin_start": -0.4,
            "bin_end": -0.3,
            "count": 0
           },
           {
            "bin_start": -0.3,
            "bin_end": -0.19999999999999996,
            "count": 0
           },
           {
            "bin_start": -0.19999999999999996,
            "bin_end": -0.09999999999999998,
            "count": 0
           },
           {
            "bin_start": -0.09999999999999998,
            "bin_end": 0,
            "count": 0
           },
           {
            "bin_start": 0,
            "bin_end": 0.10000000000000009,
            "count": 1
           },
           {
            "bin_start": 0.10000000000000009,
            "bin_end": 0.20000000000000007,
            "count": 0
           },
           {
            "bin_start": 0.20000000000000007,
            "bin_end": 0.30000000000000004,
            "count": 0
           },
           {
            "bin_start": 0.30000000000000004,
            "bin_end": 0.4,
            "count": 0
           },
           {
            "bin_start": 0.4,
            "bin_end": 0.5,
            "count": 0
           }
          ]
         }
        },
        {
         "name": "1993",
         "dtype": "object",
         "stats": {
          "unique_count": 1,
          "nan_count": 3,
          "categories": [
           {
            "name": "0.0",
            "count": 2
           },
           {
            "name": "Missing",
            "count": 3
           }
          ]
         }
        },
        {
         "name": "1993Q1",
         "dtype": "object",
         "stats": {
          "unique_count": 1,
          "nan_count": 3,
          "categories": [
           {
            "name": "0.0",
            "count": 2
           },
           {
            "name": "Missing",
            "count": 3
           }
          ]
         }
        },
        {
         "name": "1993M1",
         "dtype": "object",
         "stats": {
          "unique_count": 1,
          "nan_count": 4,
          "categories": [
           {
            "name": "0.0",
            "count": 1
           },
           {
            "name": "Missing",
            "count": 4
           }
          ]
         }
        },
        {
         "name": "1993M2",
         "dtype": "object",
         "stats": {
          "unique_count": 1,
          "nan_count": 4,
          "categories": [
           {
            "name": "0.0",
            "count": 1
           },
           {
            "name": "Missing",
            "count": 4
           }
          ]
         }
        },
        {
         "name": "1993M3",
         "dtype": "object",
         "stats": {
          "unique_count": 1,
          "nan_count": 4,
          "categories": [
           {
            "name": "0.0",
            "count": 1
           },
           {
            "name": "Missing",
            "count": 4
           }
          ]
         }
        },
        {
         "name": "1993Q2",
         "dtype": "object",
         "stats": {
          "unique_count": 1,
          "nan_count": 3,
          "categories": [
           {
            "name": "0.0",
            "count": 2
           },
           {
            "name": "Missing",
            "count": 3
           }
          ]
         }
        },
        {
         "name": "1993M4",
         "dtype": "object",
         "stats": {
          "unique_count": 1,
          "nan_count": 4,
          "categories": [
           {
            "name": "0.0",
            "count": 1
           },
           {
            "name": "Missing",
            "count": 4
           }
          ]
         }
        },
        {
         "name": "1993M5",
         "dtype": "object",
         "stats": {
          "unique_count": 1,
          "nan_count": 4,
          "categories": [
           {
            "name": "0.0",
            "count": 1
           },
           {
            "name": "Missing",
            "count": 4
           }
          ]
         }
        },
        {
         "name": "1993M6",
         "dtype": "float64",
         "stats": {
          "unique_count": 1,
          "nan_count": 4,
          "min": "0.0",
          "max": "0.0",
          "histogram": [
           {
            "bin_start": -0.5,
            "bin_end": -0.4,
            "count": 0
           },
           {
            "bin_start": -0.4,
            "bin_end": -0.3,
            "count": 0
           },
           {
            "bin_start": -0.3,
            "bin_end": -0.19999999999999996,
            "count": 0
           },
           {
            "bin_start": -0.19999999999999996,
            "bin_end": -0.09999999999999998,
            "count": 0
           },
           {
            "bin_start": -0.09999999999999998,
            "bin_end": 0,
            "count": 0
           },
           {
            "bin_start": 0,
            "bin_end": 0.10000000000000009,
            "count": 1
           },
           {
            "bin_start": 0.10000000000000009,
            "bin_end": 0.20000000000000007,
            "count": 0
           },
           {
            "bin_start": 0.20000000000000007,
            "bin_end": 0.30000000000000004,
            "count": 0
           },
           {
            "bin_start": 0.30000000000000004,
            "bin_end": 0.4,
            "count": 0
           },
           {
            "bin_start": 0.4,
            "bin_end": 0.5,
            "count": 0
           }
          ]
         }
        },
        {
         "name": "1993Q3",
         "dtype": "object",
         "stats": {
          "unique_count": 1,
          "nan_count": 3,
          "categories": [
           {
            "name": "0.0",
            "count": 2
           },
           {
            "name": "Missing",
            "count": 3
           }
          ]
         }
        },
        {
         "name": "1993M7",
         "dtype": "object",
         "stats": {
          "unique_count": 1,
          "nan_count": 4,
          "categories": [
           {
            "name": "0.0",
            "count": 1
           },
           {
            "name": "Missing",
            "count": 4
           }
          ]
         }
        },
        {
         "name": "1993M8",
         "dtype": "object",
         "stats": {
          "unique_count": 1,
          "nan_count": 4,
          "categories": [
           {
            "name": "0.0",
            "count": 1
           },
           {
            "name": "Missing",
            "count": 4
           }
          ]
         }
        },
        {
         "name": "1993M9",
         "dtype": "object",
         "stats": {
          "unique_count": 1,
          "nan_count": 4,
          "categories": [
           {
            "name": "0.0",
            "count": 1
           },
           {
            "name": "Missing",
            "count": 4
           }
          ]
         }
        },
        {
         "name": "1993Q4",
         "dtype": "object",
         "stats": {
          "unique_count": 1,
          "nan_count": 3,
          "categories": [
           {
            "name": "0.0",
            "count": 2
           },
           {
            "name": "Missing",
            "count": 3
           }
          ]
         }
        },
        {
         "name": "1993M10",
         "dtype": "object",
         "stats": {
          "unique_count": 1,
          "nan_count": 4,
          "categories": [
           {
            "name": "0.0",
            "count": 1
           },
           {
            "name": "Missing",
            "count": 4
           }
          ]
         }
        },
        {
         "name": "1993M11",
         "dtype": "object",
         "stats": {
          "unique_count": 1,
          "nan_count": 4,
          "categories": [
           {
            "name": "0.0",
            "count": 1
           },
           {
            "name": "Missing",
            "count": 4
           }
          ]
         }
        },
        {
         "name": "1993M12",
         "dtype": "object",
         "stats": {
          "unique_count": 1,
          "nan_count": 4,
          "categories": [
           {
            "name": "0.0",
            "count": 1
           },
           {
            "name": "Missing",
            "count": 4
           }
          ]
         }
        },
        {
         "name": "1994",
         "dtype": "object",
         "stats": {
          "unique_count": 1,
          "nan_count": 3,
          "categories": [
           {
            "name": "0.0",
            "count": 2
           },
           {
            "name": "Missing",
            "count": 3
           }
          ]
         }
        },
        {
         "name": "1994Q1",
         "dtype": "object",
         "stats": {
          "unique_count": 1,
          "nan_count": 3,
          "categories": [
           {
            "name": "0.0",
            "count": 2
           },
           {
            "name": "Missing",
            "count": 3
           }
          ]
         }
        },
        {
         "name": "1994M1",
         "dtype": "object",
         "stats": {
          "unique_count": 1,
          "nan_count": 4,
          "categories": [
           {
            "name": "0.0",
            "count": 1
           },
           {
            "name": "Missing",
            "count": 4
           }
          ]
         }
        },
        {
         "name": "1994M2",
         "dtype": "float64",
         "stats": {
          "unique_count": 1,
          "nan_count": 4,
          "min": "0.0",
          "max": "0.0",
          "histogram": [
           {
            "bin_start": -0.5,
            "bin_end": -0.4,
            "count": 0
           },
           {
            "bin_start": -0.4,
            "bin_end": -0.3,
            "count": 0
           },
           {
            "bin_start": -0.3,
            "bin_end": -0.19999999999999996,
            "count": 0
           },
           {
            "bin_start": -0.19999999999999996,
            "bin_end": -0.09999999999999998,
            "count": 0
           },
           {
            "bin_start": -0.09999999999999998,
            "bin_end": 0,
            "count": 0
           },
           {
            "bin_start": 0,
            "bin_end": 0.10000000000000009,
            "count": 1
           },
           {
            "bin_start": 0.10000000000000009,
            "bin_end": 0.20000000000000007,
            "count": 0
           },
           {
            "bin_start": 0.20000000000000007,
            "bin_end": 0.30000000000000004,
            "count": 0
           },
           {
            "bin_start": 0.30000000000000004,
            "bin_end": 0.4,
            "count": 0
           },
           {
            "bin_start": 0.4,
            "bin_end": 0.5,
            "count": 0
           }
          ]
         }
        },
        {
         "name": "1994M3",
         "dtype": "float64",
         "stats": {
          "unique_count": 1,
          "nan_count": 4,
          "min": "0.0",
          "max": "0.0",
          "histogram": [
           {
            "bin_start": -0.5,
            "bin_end": -0.4,
            "count": 0
           },
           {
            "bin_start": -0.4,
            "bin_end": -0.3,
            "count": 0
           },
           {
            "bin_start": -0.3,
            "bin_end": -0.19999999999999996,
            "count": 0
           },
           {
            "bin_start": -0.19999999999999996,
            "bin_end": -0.09999999999999998,
            "count": 0
           },
           {
            "bin_start": -0.09999999999999998,
            "bin_end": 0,
            "count": 0
           },
           {
            "bin_start": 0,
            "bin_end": 0.10000000000000009,
            "count": 1
           },
           {
            "bin_start": 0.10000000000000009,
            "bin_end": 0.20000000000000007,
            "count": 0
           },
           {
            "bin_start": 0.20000000000000007,
            "bin_end": 0.30000000000000004,
            "count": 0
           },
           {
            "bin_start": 0.30000000000000004,
            "bin_end": 0.4,
            "count": 0
           },
           {
            "bin_start": 0.4,
            "bin_end": 0.5,
            "count": 0
           }
          ]
         }
        },
        {
         "name": "1994Q2",
         "dtype": "object",
         "stats": {
          "unique_count": 1,
          "nan_count": 3,
          "categories": [
           {
            "name": "0.0",
            "count": 2
           },
           {
            "name": "Missing",
            "count": 3
           }
          ]
         }
        },
        {
         "name": "1994M4",
         "dtype": "object",
         "stats": {
          "unique_count": 1,
          "nan_count": 4,
          "categories": [
           {
            "name": "0.0",
            "count": 1
           },
           {
            "name": "Missing",
            "count": 4
           }
          ]
         }
        },
        {
         "name": "1994M5",
         "dtype": "float64",
         "stats": {
          "unique_count": 1,
          "nan_count": 4,
          "min": "0.0",
          "max": "0.0",
          "histogram": [
           {
            "bin_start": -0.5,
            "bin_end": -0.4,
            "count": 0
           },
           {
            "bin_start": -0.4,
            "bin_end": -0.3,
            "count": 0
           },
           {
            "bin_start": -0.3,
            "bin_end": -0.19999999999999996,
            "count": 0
           },
           {
            "bin_start": -0.19999999999999996,
            "bin_end": -0.09999999999999998,
            "count": 0
           },
           {
            "bin_start": -0.09999999999999998,
            "bin_end": 0,
            "count": 0
           },
           {
            "bin_start": 0,
            "bin_end": 0.10000000000000009,
            "count": 1
           },
           {
            "bin_start": 0.10000000000000009,
            "bin_end": 0.20000000000000007,
            "count": 0
           },
           {
            "bin_start": 0.20000000000000007,
            "bin_end": 0.30000000000000004,
            "count": 0
           },
           {
            "bin_start": 0.30000000000000004,
            "bin_end": 0.4,
            "count": 0
           },
           {
            "bin_start": 0.4,
            "bin_end": 0.5,
            "count": 0
           }
          ]
         }
        },
        {
         "name": "1994M6",
         "dtype": "object",
         "stats": {
          "unique_count": 1,
          "nan_count": 4,
          "categories": [
           {
            "name": "0.0",
            "count": 1
           },
           {
            "name": "Missing",
            "count": 4
           }
          ]
         }
        },
        {
         "name": "1994Q3",
         "dtype": "object",
         "stats": {
          "unique_count": 1,
          "nan_count": 3,
          "categories": [
           {
            "name": "0.0",
            "count": 2
           },
           {
            "name": "Missing",
            "count": 3
           }
          ]
         }
        },
        {
         "name": "1994M7",
         "dtype": "object",
         "stats": {
          "unique_count": 1,
          "nan_count": 4,
          "categories": [
           {
            "name": "0.0",
            "count": 1
           },
           {
            "name": "Missing",
            "count": 4
           }
          ]
         }
        },
        {
         "name": "1994M8",
         "dtype": "object",
         "stats": {
          "unique_count": 1,
          "nan_count": 4,
          "categories": [
           {
            "name": "0.0",
            "count": 1
           },
           {
            "name": "Missing",
            "count": 4
           }
          ]
         }
        },
        {
         "name": "1994M9",
         "dtype": "object",
         "stats": {
          "unique_count": 1,
          "nan_count": 4,
          "categories": [
           {
            "name": "0.0",
            "count": 1
           },
           {
            "name": "Missing",
            "count": 4
           }
          ]
         }
        },
        {
         "name": "1994Q4",
         "dtype": "object",
         "stats": {
          "unique_count": 1,
          "nan_count": 3,
          "categories": [
           {
            "name": "0.0",
            "count": 2
           },
           {
            "name": "Missing",
            "count": 3
           }
          ]
         }
        },
        {
         "name": "1994M10",
         "dtype": "float64",
         "stats": {
          "unique_count": 1,
          "nan_count": 4,
          "min": "0.0",
          "max": "0.0",
          "histogram": [
           {
            "bin_start": -0.5,
            "bin_end": -0.4,
            "count": 0
           },
           {
            "bin_start": -0.4,
            "bin_end": -0.3,
            "count": 0
           },
           {
            "bin_start": -0.3,
            "bin_end": -0.19999999999999996,
            "count": 0
           },
           {
            "bin_start": -0.19999999999999996,
            "bin_end": -0.09999999999999998,
            "count": 0
           },
           {
            "bin_start": -0.09999999999999998,
            "bin_end": 0,
            "count": 0
           },
           {
            "bin_start": 0,
            "bin_end": 0.10000000000000009,
            "count": 1
           },
           {
            "bin_start": 0.10000000000000009,
            "bin_end": 0.20000000000000007,
            "count": 0
           },
           {
            "bin_start": 0.20000000000000007,
            "bin_end": 0.30000000000000004,
            "count": 0
           },
           {
            "bin_start": 0.30000000000000004,
            "bin_end": 0.4,
            "count": 0
           },
           {
            "bin_start": 0.4,
            "bin_end": 0.5,
            "count": 0
           }
          ]
         }
        },
        {
         "name": "1994M11",
         "dtype": "float64",
         "stats": {
          "unique_count": 1,
          "nan_count": 4,
          "min": "0.0",
          "max": "0.0",
          "histogram": [
           {
            "bin_start": -0.5,
            "bin_end": -0.4,
            "count": 0
           },
           {
            "bin_start": -0.4,
            "bin_end": -0.3,
            "count": 0
           },
           {
            "bin_start": -0.3,
            "bin_end": -0.19999999999999996,
            "count": 0
           },
           {
            "bin_start": -0.19999999999999996,
            "bin_end": -0.09999999999999998,
            "count": 0
           },
           {
            "bin_start": -0.09999999999999998,
            "bin_end": 0,
            "count": 0
           },
           {
            "bin_start": 0,
            "bin_end": 0.10000000000000009,
            "count": 1
           },
           {
            "bin_start": 0.10000000000000009,
            "bin_end": 0.20000000000000007,
            "count": 0
           },
           {
            "bin_start": 0.20000000000000007,
            "bin_end": 0.30000000000000004,
            "count": 0
           },
           {
            "bin_start": 0.30000000000000004,
            "bin_end": 0.4,
            "count": 0
           },
           {
            "bin_start": 0.4,
            "bin_end": 0.5,
            "count": 0
           }
          ]
         }
        },
        {
         "name": "1994M12",
         "dtype": "object",
         "stats": {
          "unique_count": 1,
          "nan_count": 4,
          "categories": [
           {
            "name": "0.0",
            "count": 1
           },
           {
            "name": "Missing",
            "count": 4
           }
          ]
         }
        },
        {
         "name": "1995",
         "dtype": "object",
         "stats": {
          "unique_count": 1,
          "nan_count": 3,
          "categories": [
           {
            "name": "0",
            "count": 2
           },
           {
            "name": "Missing",
            "count": 3
           }
          ]
         }
        },
        {
         "name": "1995Q1",
         "dtype": "object",
         "stats": {
          "unique_count": 1,
          "nan_count": 3,
          "categories": [
           {
            "name": "0.0",
            "count": 2
           },
           {
            "name": "Missing",
            "count": 3
           }
          ]
         }
        },
        {
         "name": "1995M1",
         "dtype": "object",
         "stats": {
          "unique_count": 1,
          "nan_count": 4,
          "categories": [
           {
            "name": "0.0",
            "count": 1
           },
           {
            "name": "Missing",
            "count": 4
           }
          ]
         }
        },
        {
         "name": "1995M2",
         "dtype": "object",
         "stats": {
          "unique_count": 1,
          "nan_count": 4,
          "categories": [
           {
            "name": "0.0",
            "count": 1
           },
           {
            "name": "Missing",
            "count": 4
           }
          ]
         }
        },
        {
         "name": "1995M3",
         "dtype": "float64",
         "stats": {
          "unique_count": 1,
          "nan_count": 4,
          "min": "0.0",
          "max": "0.0",
          "histogram": [
           {
            "bin_start": -0.5,
            "bin_end": -0.4,
            "count": 0
           },
           {
            "bin_start": -0.4,
            "bin_end": -0.3,
            "count": 0
           },
           {
            "bin_start": -0.3,
            "bin_end": -0.19999999999999996,
            "count": 0
           },
           {
            "bin_start": -0.19999999999999996,
            "bin_end": -0.09999999999999998,
            "count": 0
           },
           {
            "bin_start": -0.09999999999999998,
            "bin_end": 0,
            "count": 0
           },
           {
            "bin_start": 0,
            "bin_end": 0.10000000000000009,
            "count": 1
           },
           {
            "bin_start": 0.10000000000000009,
            "bin_end": 0.20000000000000007,
            "count": 0
           },
           {
            "bin_start": 0.20000000000000007,
            "bin_end": 0.30000000000000004,
            "count": 0
           },
           {
            "bin_start": 0.30000000000000004,
            "bin_end": 0.4,
            "count": 0
           },
           {
            "bin_start": 0.4,
            "bin_end": 0.5,
            "count": 0
           }
          ]
         }
        },
        {
         "name": "1995Q2",
         "dtype": "object",
         "stats": {
          "unique_count": 1,
          "nan_count": 3,
          "categories": [
           {
            "name": "0.0",
            "count": 2
           },
           {
            "name": "Missing",
            "count": 3
           }
          ]
         }
        },
        {
         "name": "1995M4",
         "dtype": "float64",
         "stats": {
          "unique_count": 1,
          "nan_count": 4,
          "min": "0.0",
          "max": "0.0",
          "histogram": [
           {
            "bin_start": -0.5,
            "bin_end": -0.4,
            "count": 0
           },
           {
            "bin_start": -0.4,
            "bin_end": -0.3,
            "count": 0
           },
           {
            "bin_start": -0.3,
            "bin_end": -0.19999999999999996,
            "count": 0
           },
           {
            "bin_start": -0.19999999999999996,
            "bin_end": -0.09999999999999998,
            "count": 0
           },
           {
            "bin_start": -0.09999999999999998,
            "bin_end": 0,
            "count": 0
           },
           {
            "bin_start": 0,
            "bin_end": 0.10000000000000009,
            "count": 1
           },
           {
            "bin_start": 0.10000000000000009,
            "bin_end": 0.20000000000000007,
            "count": 0
           },
           {
            "bin_start": 0.20000000000000007,
            "bin_end": 0.30000000000000004,
            "count": 0
           },
           {
            "bin_start": 0.30000000000000004,
            "bin_end": 0.4,
            "count": 0
           },
           {
            "bin_start": 0.4,
            "bin_end": 0.5,
            "count": 0
           }
          ]
         }
        },
        {
         "name": "1995M5",
         "dtype": "object",
         "stats": {
          "unique_count": 1,
          "nan_count": 4,
          "categories": [
           {
            "name": "0.0",
            "count": 1
           },
           {
            "name": "Missing",
            "count": 4
           }
          ]
         }
        },
        {
         "name": "1995M6",
         "dtype": "float64",
         "stats": {
          "unique_count": 1,
          "nan_count": 4,
          "min": "0.0",
          "max": "0.0",
          "histogram": [
           {
            "bin_start": -0.5,
            "bin_end": -0.4,
            "count": 0
           },
           {
            "bin_start": -0.4,
            "bin_end": -0.3,
            "count": 0
           },
           {
            "bin_start": -0.3,
            "bin_end": -0.19999999999999996,
            "count": 0
           },
           {
            "bin_start": -0.19999999999999996,
            "bin_end": -0.09999999999999998,
            "count": 0
           },
           {
            "bin_start": -0.09999999999999998,
            "bin_end": 0,
            "count": 0
           },
           {
            "bin_start": 0,
            "bin_end": 0.10000000000000009,
            "count": 1
           },
           {
            "bin_start": 0.10000000000000009,
            "bin_end": 0.20000000000000007,
            "count": 0
           },
           {
            "bin_start": 0.20000000000000007,
            "bin_end": 0.30000000000000004,
            "count": 0
           },
           {
            "bin_start": 0.30000000000000004,
            "bin_end": 0.4,
            "count": 0
           },
           {
            "bin_start": 0.4,
            "bin_end": 0.5,
            "count": 0
           }
          ]
         }
        },
        {
         "name": "1995Q3",
         "dtype": "object",
         "stats": {
          "unique_count": 1,
          "nan_count": 3,
          "categories": [
           {
            "name": "0",
            "count": 2
           },
           {
            "name": "Missing",
            "count": 3
           }
          ]
         }
        },
        {
         "name": "1995M7",
         "dtype": "object",
         "stats": {
          "unique_count": 1,
          "nan_count": 4,
          "categories": [
           {
            "name": "0.0",
            "count": 1
           },
           {
            "name": "Missing",
            "count": 4
           }
          ]
         }
        },
        {
         "name": "1995M8",
         "dtype": "object",
         "stats": {
          "unique_count": 1,
          "nan_count": 4,
          "categories": [
           {
            "name": "0.0",
            "count": 1
           },
           {
            "name": "Missing",
            "count": 4
           }
          ]
         }
        },
        {
         "name": "1995M9",
         "dtype": "object",
         "stats": {
          "unique_count": 1,
          "nan_count": 4,
          "categories": [
           {
            "name": "0",
            "count": 1
           },
           {
            "name": "Missing",
            "count": 4
           }
          ]
         }
        },
        {
         "name": "1995Q4",
         "dtype": "float64",
         "stats": {
          "unique_count": 1,
          "nan_count": 3,
          "min": "0.0",
          "max": "0.0",
          "histogram": [
           {
            "bin_start": -0.5,
            "bin_end": -0.4,
            "count": 0
           },
           {
            "bin_start": -0.4,
            "bin_end": -0.3,
            "count": 0
           },
           {
            "bin_start": -0.3,
            "bin_end": -0.19999999999999996,
            "count": 0
           },
           {
            "bin_start": -0.19999999999999996,
            "bin_end": -0.09999999999999998,
            "count": 0
           },
           {
            "bin_start": -0.09999999999999998,
            "bin_end": 0,
            "count": 0
           },
           {
            "bin_start": 0,
            "bin_end": 0.10000000000000009,
            "count": 2
           },
           {
            "bin_start": 0.10000000000000009,
            "bin_end": 0.20000000000000007,
            "count": 0
           },
           {
            "bin_start": 0.20000000000000007,
            "bin_end": 0.30000000000000004,
            "count": 0
           },
           {
            "bin_start": 0.30000000000000004,
            "bin_end": 0.4,
            "count": 0
           },
           {
            "bin_start": 0.4,
            "bin_end": 0.5,
            "count": 0
           }
          ]
         }
        },
        {
         "name": "1995M10",
         "dtype": "float64",
         "stats": {
          "unique_count": 1,
          "nan_count": 4,
          "min": "0.0",
          "max": "0.0",
          "histogram": [
           {
            "bin_start": -0.5,
            "bin_end": -0.4,
            "count": 0
           },
           {
            "bin_start": -0.4,
            "bin_end": -0.3,
            "count": 0
           },
           {
            "bin_start": -0.3,
            "bin_end": -0.19999999999999996,
            "count": 0
           },
           {
            "bin_start": -0.19999999999999996,
            "bin_end": -0.09999999999999998,
            "count": 0
           },
           {
            "bin_start": -0.09999999999999998,
            "bin_end": 0,
            "count": 0
           },
           {
            "bin_start": 0,
            "bin_end": 0.10000000000000009,
            "count": 1
           },
           {
            "bin_start": 0.10000000000000009,
            "bin_end": 0.20000000000000007,
            "count": 0
           },
           {
            "bin_start": 0.20000000000000007,
            "bin_end": 0.30000000000000004,
            "count": 0
           },
           {
            "bin_start": 0.30000000000000004,
            "bin_end": 0.4,
            "count": 0
           },
           {
            "bin_start": 0.4,
            "bin_end": 0.5,
            "count": 0
           }
          ]
         }
        },
        {
         "name": "1995M11",
         "dtype": "float64",
         "stats": {
          "unique_count": 1,
          "nan_count": 4,
          "min": "0.0",
          "max": "0.0",
          "histogram": [
           {
            "bin_start": -0.5,
            "bin_end": -0.4,
            "count": 0
           },
           {
            "bin_start": -0.4,
            "bin_end": -0.3,
            "count": 0
           },
           {
            "bin_start": -0.3,
            "bin_end": -0.19999999999999996,
            "count": 0
           },
           {
            "bin_start": -0.19999999999999996,
            "bin_end": -0.09999999999999998,
            "count": 0
           },
           {
            "bin_start": -0.09999999999999998,
            "bin_end": 0,
            "count": 0
           },
           {
            "bin_start": 0,
            "bin_end": 0.10000000000000009,
            "count": 1
           },
           {
            "bin_start": 0.10000000000000009,
            "bin_end": 0.20000000000000007,
            "count": 0
           },
           {
            "bin_start": 0.20000000000000007,
            "bin_end": 0.30000000000000004,
            "count": 0
           },
           {
            "bin_start": 0.30000000000000004,
            "bin_end": 0.4,
            "count": 0
           },
           {
            "bin_start": 0.4,
            "bin_end": 0.5,
            "count": 0
           }
          ]
         }
        },
        {
         "name": "1995M12",
         "dtype": "object",
         "stats": {
          "unique_count": 1,
          "nan_count": 4,
          "categories": [
           {
            "name": "0.0",
            "count": 1
           },
           {
            "name": "Missing",
            "count": 4
           }
          ]
         }
        },
        {
         "name": "1996",
         "dtype": "object",
         "stats": {
          "unique_count": 1,
          "nan_count": 3,
          "categories": [
           {
            "name": "0.0",
            "count": 2
           },
           {
            "name": "Missing",
            "count": 3
           }
          ]
         }
        },
        {
         "name": "1996Q1",
         "dtype": "object",
         "stats": {
          "unique_count": 1,
          "nan_count": 3,
          "categories": [
           {
            "name": "0.0",
            "count": 2
           },
           {
            "name": "Missing",
            "count": 3
           }
          ]
         }
        },
        {
         "name": "1996M1",
         "dtype": "object",
         "stats": {
          "unique_count": 1,
          "nan_count": 4,
          "categories": [
           {
            "name": "0.0",
            "count": 1
           },
           {
            "name": "Missing",
            "count": 4
           }
          ]
         }
        },
        {
         "name": "1996M2",
         "dtype": "object",
         "stats": {
          "unique_count": 1,
          "nan_count": 4,
          "categories": [
           {
            "name": "0.0",
            "count": 1
           },
           {
            "name": "Missing",
            "count": 4
           }
          ]
         }
        },
        {
         "name": "1996M3",
         "dtype": "float64",
         "stats": {
          "unique_count": 1,
          "nan_count": 4,
          "min": "0.0",
          "max": "0.0",
          "histogram": [
           {
            "bin_start": -0.5,
            "bin_end": -0.4,
            "count": 0
           },
           {
            "bin_start": -0.4,
            "bin_end": -0.3,
            "count": 0
           },
           {
            "bin_start": -0.3,
            "bin_end": -0.19999999999999996,
            "count": 0
           },
           {
            "bin_start": -0.19999999999999996,
            "bin_end": -0.09999999999999998,
            "count": 0
           },
           {
            "bin_start": -0.09999999999999998,
            "bin_end": 0,
            "count": 0
           },
           {
            "bin_start": 0,
            "bin_end": 0.10000000000000009,
            "count": 1
           },
           {
            "bin_start": 0.10000000000000009,
            "bin_end": 0.20000000000000007,
            "count": 0
           },
           {
            "bin_start": 0.20000000000000007,
            "bin_end": 0.30000000000000004,
            "count": 0
           },
           {
            "bin_start": 0.30000000000000004,
            "bin_end": 0.4,
            "count": 0
           },
           {
            "bin_start": 0.4,
            "bin_end": 0.5,
            "count": 0
           }
          ]
         }
        },
        {
         "name": "1996Q2",
         "dtype": "object",
         "stats": {
          "unique_count": 1,
          "nan_count": 3,
          "categories": [
           {
            "name": "0.0",
            "count": 2
           },
           {
            "name": "Missing",
            "count": 3
           }
          ]
         }
        },
        {
         "name": "1996M4",
         "dtype": "object",
         "stats": {
          "unique_count": 1,
          "nan_count": 4,
          "categories": [
           {
            "name": "0.0",
            "count": 1
           },
           {
            "name": "Missing",
            "count": 4
           }
          ]
         }
        },
        {
         "name": "1996M5",
         "dtype": "float64",
         "stats": {
          "unique_count": 1,
          "nan_count": 4,
          "min": "0.0",
          "max": "0.0",
          "histogram": [
           {
            "bin_start": -0.5,
            "bin_end": -0.4,
            "count": 0
           },
           {
            "bin_start": -0.4,
            "bin_end": -0.3,
            "count": 0
           },
           {
            "bin_start": -0.3,
            "bin_end": -0.19999999999999996,
            "count": 0
           },
           {
            "bin_start": -0.19999999999999996,
            "bin_end": -0.09999999999999998,
            "count": 0
           },
           {
            "bin_start": -0.09999999999999998,
            "bin_end": 0,
            "count": 0
           },
           {
            "bin_start": 0,
            "bin_end": 0.10000000000000009,
            "count": 1
           },
           {
            "bin_start": 0.10000000000000009,
            "bin_end": 0.20000000000000007,
            "count": 0
           },
           {
            "bin_start": 0.20000000000000007,
            "bin_end": 0.30000000000000004,
            "count": 0
           },
           {
            "bin_start": 0.30000000000000004,
            "bin_end": 0.4,
            "count": 0
           },
           {
            "bin_start": 0.4,
            "bin_end": 0.5,
            "count": 0
           }
          ]
         }
        },
        {
         "name": "1996M6",
         "dtype": "float64",
         "stats": {
          "unique_count": 1,
          "nan_count": 4,
          "min": "0.0",
          "max": "0.0",
          "histogram": [
           {
            "bin_start": -0.5,
            "bin_end": -0.4,
            "count": 0
           },
           {
            "bin_start": -0.4,
            "bin_end": -0.3,
            "count": 0
           },
           {
            "bin_start": -0.3,
            "bin_end": -0.19999999999999996,
            "count": 0
           },
           {
            "bin_start": -0.19999999999999996,
            "bin_end": -0.09999999999999998,
            "count": 0
           },
           {
            "bin_start": -0.09999999999999998,
            "bin_end": 0,
            "count": 0
           },
           {
            "bin_start": 0,
            "bin_end": 0.10000000000000009,
            "count": 1
           },
           {
            "bin_start": 0.10000000000000009,
            "bin_end": 0.20000000000000007,
            "count": 0
           },
           {
            "bin_start": 0.20000000000000007,
            "bin_end": 0.30000000000000004,
            "count": 0
           },
           {
            "bin_start": 0.30000000000000004,
            "bin_end": 0.4,
            "count": 0
           },
           {
            "bin_start": 0.4,
            "bin_end": 0.5,
            "count": 0
           }
          ]
         }
        },
        {
         "name": "1996Q3",
         "dtype": "object",
         "stats": {
          "unique_count": 1,
          "nan_count": 3,
          "categories": [
           {
            "name": "0.0",
            "count": 2
           },
           {
            "name": "Missing",
            "count": 3
           }
          ]
         }
        },
        {
         "name": "1996M7",
         "dtype": "object",
         "stats": {
          "unique_count": 1,
          "nan_count": 4,
          "categories": [
           {
            "name": "0.0",
            "count": 1
           },
           {
            "name": "Missing",
            "count": 4
           }
          ]
         }
        },
        {
         "name": "1996M8",
         "dtype": "float64",
         "stats": {
          "unique_count": 1,
          "nan_count": 4,
          "min": "0.0",
          "max": "0.0",
          "histogram": [
           {
            "bin_start": -0.5,
            "bin_end": -0.4,
            "count": 0
           },
           {
            "bin_start": -0.4,
            "bin_end": -0.3,
            "count": 0
           },
           {
            "bin_start": -0.3,
            "bin_end": -0.19999999999999996,
            "count": 0
           },
           {
            "bin_start": -0.19999999999999996,
            "bin_end": -0.09999999999999998,
            "count": 0
           },
           {
            "bin_start": -0.09999999999999998,
            "bin_end": 0,
            "count": 0
           },
           {
            "bin_start": 0,
            "bin_end": 0.10000000000000009,
            "count": 1
           },
           {
            "bin_start": 0.10000000000000009,
            "bin_end": 0.20000000000000007,
            "count": 0
           },
           {
            "bin_start": 0.20000000000000007,
            "bin_end": 0.30000000000000004,
            "count": 0
           },
           {
            "bin_start": 0.30000000000000004,
            "bin_end": 0.4,
            "count": 0
           },
           {
            "bin_start": 0.4,
            "bin_end": 0.5,
            "count": 0
           }
          ]
         }
        },
        {
         "name": "1996M9",
         "dtype": "float64",
         "stats": {
          "unique_count": 1,
          "nan_count": 4,
          "min": "0.0",
          "max": "0.0",
          "histogram": [
           {
            "bin_start": -0.5,
            "bin_end": -0.4,
            "count": 0
           },
           {
            "bin_start": -0.4,
            "bin_end": -0.3,
            "count": 0
           },
           {
            "bin_start": -0.3,
            "bin_end": -0.19999999999999996,
            "count": 0
           },
           {
            "bin_start": -0.19999999999999996,
            "bin_end": -0.09999999999999998,
            "count": 0
           },
           {
            "bin_start": -0.09999999999999998,
            "bin_end": 0,
            "count": 0
           },
           {
            "bin_start": 0,
            "bin_end": 0.10000000000000009,
            "count": 1
           },
           {
            "bin_start": 0.10000000000000009,
            "bin_end": 0.20000000000000007,
            "count": 0
           },
           {
            "bin_start": 0.20000000000000007,
            "bin_end": 0.30000000000000004,
            "count": 0
           },
           {
            "bin_start": 0.30000000000000004,
            "bin_end": 0.4,
            "count": 0
           },
           {
            "bin_start": 0.4,
            "bin_end": 0.5,
            "count": 0
           }
          ]
         }
        },
        {
         "name": "1996Q4",
         "dtype": "float64",
         "stats": {
          "unique_count": 1,
          "nan_count": 3,
          "min": "0.0",
          "max": "0.0",
          "histogram": [
           {
            "bin_start": -0.5,
            "bin_end": -0.4,
            "count": 0
           },
           {
            "bin_start": -0.4,
            "bin_end": -0.3,
            "count": 0
           },
           {
            "bin_start": -0.3,
            "bin_end": -0.19999999999999996,
            "count": 0
           },
           {
            "bin_start": -0.19999999999999996,
            "bin_end": -0.09999999999999998,
            "count": 0
           },
           {
            "bin_start": -0.09999999999999998,
            "bin_end": 0,
            "count": 0
           },
           {
            "bin_start": 0,
            "bin_end": 0.10000000000000009,
            "count": 2
           },
           {
            "bin_start": 0.10000000000000009,
            "bin_end": 0.20000000000000007,
            "count": 0
           },
           {
            "bin_start": 0.20000000000000007,
            "bin_end": 0.30000000000000004,
            "count": 0
           },
           {
            "bin_start": 0.30000000000000004,
            "bin_end": 0.4,
            "count": 0
           },
           {
            "bin_start": 0.4,
            "bin_end": 0.5,
            "count": 0
           }
          ]
         }
        },
        {
         "name": "1996M10",
         "dtype": "float64",
         "stats": {
          "unique_count": 1,
          "nan_count": 4,
          "min": "0.0",
          "max": "0.0",
          "histogram": [
           {
            "bin_start": -0.5,
            "bin_end": -0.4,
            "count": 0
           },
           {
            "bin_start": -0.4,
            "bin_end": -0.3,
            "count": 0
           },
           {
            "bin_start": -0.3,
            "bin_end": -0.19999999999999996,
            "count": 0
           },
           {
            "bin_start": -0.19999999999999996,
            "bin_end": -0.09999999999999998,
            "count": 0
           },
           {
            "bin_start": -0.09999999999999998,
            "bin_end": 0,
            "count": 0
           },
           {
            "bin_start": 0,
            "bin_end": 0.10000000000000009,
            "count": 1
           },
           {
            "bin_start": 0.10000000000000009,
            "bin_end": 0.20000000000000007,
            "count": 0
           },
           {
            "bin_start": 0.20000000000000007,
            "bin_end": 0.30000000000000004,
            "count": 0
           },
           {
            "bin_start": 0.30000000000000004,
            "bin_end": 0.4,
            "count": 0
           },
           {
            "bin_start": 0.4,
            "bin_end": 0.5,
            "count": 0
           }
          ]
         }
        },
        {
         "name": "1996M11",
         "dtype": "object",
         "stats": {
          "unique_count": 1,
          "nan_count": 4,
          "categories": [
           {
            "name": "0.0",
            "count": 1
           },
           {
            "name": "Missing",
            "count": 4
           }
          ]
         }
        },
        {
         "name": "1996M12",
         "dtype": "object",
         "stats": {
          "unique_count": 1,
          "nan_count": 4,
          "categories": [
           {
            "name": "0.0",
            "count": 1
           },
           {
            "name": "Missing",
            "count": 4
           }
          ]
         }
        },
        {
         "name": "1997",
         "dtype": "object",
         "stats": {
          "unique_count": 1,
          "nan_count": 3,
          "categories": [
           {
            "name": "0.0",
            "count": 2
           },
           {
            "name": "Missing",
            "count": 3
           }
          ]
         }
        },
        {
         "name": "1997Q1",
         "dtype": "object",
         "stats": {
          "unique_count": 1,
          "nan_count": 3,
          "categories": [
           {
            "name": "0.0",
            "count": 2
           },
           {
            "name": "Missing",
            "count": 3
           }
          ]
         }
        },
        {
         "name": "1997M1",
         "dtype": "object",
         "stats": {
          "unique_count": 1,
          "nan_count": 4,
          "categories": [
           {
            "name": "0.0",
            "count": 1
           },
           {
            "name": "Missing",
            "count": 4
           }
          ]
         }
        },
        {
         "name": "1997M2",
         "dtype": "object",
         "stats": {
          "unique_count": 1,
          "nan_count": 4,
          "categories": [
           {
            "name": "0.0",
            "count": 1
           },
           {
            "name": "Missing",
            "count": 4
           }
          ]
         }
        },
        {
         "name": "1997M3",
         "dtype": "float64",
         "stats": {
          "unique_count": 1,
          "nan_count": 4,
          "min": "0.0",
          "max": "0.0",
          "histogram": [
           {
            "bin_start": -0.5,
            "bin_end": -0.4,
            "count": 0
           },
           {
            "bin_start": -0.4,
            "bin_end": -0.3,
            "count": 0
           },
           {
            "bin_start": -0.3,
            "bin_end": -0.19999999999999996,
            "count": 0
           },
           {
            "bin_start": -0.19999999999999996,
            "bin_end": -0.09999999999999998,
            "count": 0
           },
           {
            "bin_start": -0.09999999999999998,
            "bin_end": 0,
            "count": 0
           },
           {
            "bin_start": 0,
            "bin_end": 0.10000000000000009,
            "count": 1
           },
           {
            "bin_start": 0.10000000000000009,
            "bin_end": 0.20000000000000007,
            "count": 0
           },
           {
            "bin_start": 0.20000000000000007,
            "bin_end": 0.30000000000000004,
            "count": 0
           },
           {
            "bin_start": 0.30000000000000004,
            "bin_end": 0.4,
            "count": 0
           },
           {
            "bin_start": 0.4,
            "bin_end": 0.5,
            "count": 0
           }
          ]
         }
        },
        {
         "name": "1997Q2",
         "dtype": "float64",
         "stats": {
          "unique_count": 1,
          "nan_count": 3,
          "min": "0.0",
          "max": "0.0",
          "histogram": [
           {
            "bin_start": -0.5,
            "bin_end": -0.4,
            "count": 0
           },
           {
            "bin_start": -0.4,
            "bin_end": -0.3,
            "count": 0
           },
           {
            "bin_start": -0.3,
            "bin_end": -0.19999999999999996,
            "count": 0
           },
           {
            "bin_start": -0.19999999999999996,
            "bin_end": -0.09999999999999998,
            "count": 0
           },
           {
            "bin_start": -0.09999999999999998,
            "bin_end": 0,
            "count": 0
           },
           {
            "bin_start": 0,
            "bin_end": 0.10000000000000009,
            "count": 2
           },
           {
            "bin_start": 0.10000000000000009,
            "bin_end": 0.20000000000000007,
            "count": 0
           },
           {
            "bin_start": 0.20000000000000007,
            "bin_end": 0.30000000000000004,
            "count": 0
           },
           {
            "bin_start": 0.30000000000000004,
            "bin_end": 0.4,
            "count": 0
           },
           {
            "bin_start": 0.4,
            "bin_end": 0.5,
            "count": 0
           }
          ]
         }
        },
        {
         "name": "1997M4",
         "dtype": "float64",
         "stats": {
          "unique_count": 1,
          "nan_count": 4,
          "min": "0.0",
          "max": "0.0",
          "histogram": [
           {
            "bin_start": -0.5,
            "bin_end": -0.4,
            "count": 0
           },
           {
            "bin_start": -0.4,
            "bin_end": -0.3,
            "count": 0
           },
           {
            "bin_start": -0.3,
            "bin_end": -0.19999999999999996,
            "count": 0
           },
           {
            "bin_start": -0.19999999999999996,
            "bin_end": -0.09999999999999998,
            "count": 0
           },
           {
            "bin_start": -0.09999999999999998,
            "bin_end": 0,
            "count": 0
           },
           {
            "bin_start": 0,
            "bin_end": 0.10000000000000009,
            "count": 1
           },
           {
            "bin_start": 0.10000000000000009,
            "bin_end": 0.20000000000000007,
            "count": 0
           },
           {
            "bin_start": 0.20000000000000007,
            "bin_end": 0.30000000000000004,
            "count": 0
           },
           {
            "bin_start": 0.30000000000000004,
            "bin_end": 0.4,
            "count": 0
           },
           {
            "bin_start": 0.4,
            "bin_end": 0.5,
            "count": 0
           }
          ]
         }
        },
        {
         "name": "1997M5",
         "dtype": "float64",
         "stats": {
          "unique_count": 1,
          "nan_count": 4,
          "min": "0.0",
          "max": "0.0",
          "histogram": [
           {
            "bin_start": -0.5,
            "bin_end": -0.4,
            "count": 0
           },
           {
            "bin_start": -0.4,
            "bin_end": -0.3,
            "count": 0
           },
           {
            "bin_start": -0.3,
            "bin_end": -0.19999999999999996,
            "count": 0
           },
           {
            "bin_start": -0.19999999999999996,
            "bin_end": -0.09999999999999998,
            "count": 0
           },
           {
            "bin_start": -0.09999999999999998,
            "bin_end": 0,
            "count": 0
           },
           {
            "bin_start": 0,
            "bin_end": 0.10000000000000009,
            "count": 1
           },
           {
            "bin_start": 0.10000000000000009,
            "bin_end": 0.20000000000000007,
            "count": 0
           },
           {
            "bin_start": 0.20000000000000007,
            "bin_end": 0.30000000000000004,
            "count": 0
           },
           {
            "bin_start": 0.30000000000000004,
            "bin_end": 0.4,
            "count": 0
           },
           {
            "bin_start": 0.4,
            "bin_end": 0.5,
            "count": 0
           }
          ]
         }
        },
        {
         "name": "1997M6",
         "dtype": "float64",
         "stats": {
          "unique_count": 1,
          "nan_count": 4,
          "min": "0.0",
          "max": "0.0",
          "histogram": [
           {
            "bin_start": -0.5,
            "bin_end": -0.4,
            "count": 0
           },
           {
            "bin_start": -0.4,
            "bin_end": -0.3,
            "count": 0
           },
           {
            "bin_start": -0.3,
            "bin_end": -0.19999999999999996,
            "count": 0
           },
           {
            "bin_start": -0.19999999999999996,
            "bin_end": -0.09999999999999998,
            "count": 0
           },
           {
            "bin_start": -0.09999999999999998,
            "bin_end": 0,
            "count": 0
           },
           {
            "bin_start": 0,
            "bin_end": 0.10000000000000009,
            "count": 1
           },
           {
            "bin_start": 0.10000000000000009,
            "bin_end": 0.20000000000000007,
            "count": 0
           },
           {
            "bin_start": 0.20000000000000007,
            "bin_end": 0.30000000000000004,
            "count": 0
           },
           {
            "bin_start": 0.30000000000000004,
            "bin_end": 0.4,
            "count": 0
           },
           {
            "bin_start": 0.4,
            "bin_end": 0.5,
            "count": 0
           }
          ]
         }
        },
        {
         "name": "1997Q3",
         "dtype": "object",
         "stats": {
          "unique_count": 1,
          "nan_count": 3,
          "categories": [
           {
            "name": "0.0",
            "count": 2
           },
           {
            "name": "Missing",
            "count": 3
           }
          ]
         }
        },
        {
         "name": "1997M7",
         "dtype": "object",
         "stats": {
          "unique_count": 1,
          "nan_count": 4,
          "categories": [
           {
            "name": "0.0",
            "count": 1
           },
           {
            "name": "Missing",
            "count": 4
           }
          ]
         }
        },
        {
         "name": "1997M8",
         "dtype": "object",
         "stats": {
          "unique_count": 1,
          "nan_count": 4,
          "categories": [
           {
            "name": "0.0",
            "count": 1
           },
           {
            "name": "Missing",
            "count": 4
           }
          ]
         }
        },
        {
         "name": "1997M9",
         "dtype": "object",
         "stats": {
          "unique_count": 1,
          "nan_count": 4,
          "categories": [
           {
            "name": "0.0",
            "count": 1
           },
           {
            "name": "Missing",
            "count": 4
           }
          ]
         }
        },
        {
         "name": "1997Q4",
         "dtype": "object",
         "stats": {
          "unique_count": 1,
          "nan_count": 3,
          "categories": [
           {
            "name": "0.0",
            "count": 2
           },
           {
            "name": "Missing",
            "count": 3
           }
          ]
         }
        },
        {
         "name": "1997M10",
         "dtype": "float64",
         "stats": {
          "unique_count": 1,
          "nan_count": 4,
          "min": "0.0",
          "max": "0.0",
          "histogram": [
           {
            "bin_start": -0.5,
            "bin_end": -0.4,
            "count": 0
           },
           {
            "bin_start": -0.4,
            "bin_end": -0.3,
            "count": 0
           },
           {
            "bin_start": -0.3,
            "bin_end": -0.19999999999999996,
            "count": 0
           },
           {
            "bin_start": -0.19999999999999996,
            "bin_end": -0.09999999999999998,
            "count": 0
           },
           {
            "bin_start": -0.09999999999999998,
            "bin_end": 0,
            "count": 0
           },
           {
            "bin_start": 0,
            "bin_end": 0.10000000000000009,
            "count": 1
           },
           {
            "bin_start": 0.10000000000000009,
            "bin_end": 0.20000000000000007,
            "count": 0
           },
           {
            "bin_start": 0.20000000000000007,
            "bin_end": 0.30000000000000004,
            "count": 0
           },
           {
            "bin_start": 0.30000000000000004,
            "bin_end": 0.4,
            "count": 0
           },
           {
            "bin_start": 0.4,
            "bin_end": 0.5,
            "count": 0
           }
          ]
         }
        },
        {
         "name": "1997M11",
         "dtype": "object",
         "stats": {
          "unique_count": 1,
          "nan_count": 4,
          "categories": [
           {
            "name": "0.0",
            "count": 1
           },
           {
            "name": "Missing",
            "count": 4
           }
          ]
         }
        },
        {
         "name": "1997M12",
         "dtype": "object",
         "stats": {
          "unique_count": 1,
          "nan_count": 4,
          "categories": [
           {
            "name": "0.0",
            "count": 1
           },
           {
            "name": "Missing",
            "count": 4
           }
          ]
         }
        },
        {
         "name": "1998",
         "dtype": "object",
         "stats": {
          "unique_count": 1,
          "nan_count": 3,
          "categories": [
           {
            "name": "0.0",
            "count": 2
           },
           {
            "name": "Missing",
            "count": 3
           }
          ]
         }
        },
        {
         "name": "1998Q1",
         "dtype": "object",
         "stats": {
          "unique_count": 1,
          "nan_count": 3,
          "categories": [
           {
            "name": "0.0",
            "count": 2
           },
           {
            "name": "Missing",
            "count": 3
           }
          ]
         }
        },
        {
         "name": "1998M1",
         "dtype": "object",
         "stats": {
          "unique_count": 1,
          "nan_count": 4,
          "categories": [
           {
            "name": "0.0",
            "count": 1
           },
           {
            "name": "Missing",
            "count": 4
           }
          ]
         }
        },
        {
         "name": "1998M2",
         "dtype": "float64",
         "stats": {
          "unique_count": 1,
          "nan_count": 4,
          "min": "0.0",
          "max": "0.0",
          "histogram": [
           {
            "bin_start": -0.5,
            "bin_end": -0.4,
            "count": 0
           },
           {
            "bin_start": -0.4,
            "bin_end": -0.3,
            "count": 0
           },
           {
            "bin_start": -0.3,
            "bin_end": -0.19999999999999996,
            "count": 0
           },
           {
            "bin_start": -0.19999999999999996,
            "bin_end": -0.09999999999999998,
            "count": 0
           },
           {
            "bin_start": -0.09999999999999998,
            "bin_end": 0,
            "count": 0
           },
           {
            "bin_start": 0,
            "bin_end": 0.10000000000000009,
            "count": 1
           },
           {
            "bin_start": 0.10000000000000009,
            "bin_end": 0.20000000000000007,
            "count": 0
           },
           {
            "bin_start": 0.20000000000000007,
            "bin_end": 0.30000000000000004,
            "count": 0
           },
           {
            "bin_start": 0.30000000000000004,
            "bin_end": 0.4,
            "count": 0
           },
           {
            "bin_start": 0.4,
            "bin_end": 0.5,
            "count": 0
           }
          ]
         }
        },
        {
         "name": "1998M3",
         "dtype": "float64",
         "stats": {
          "unique_count": 1,
          "nan_count": 4,
          "min": "0.0",
          "max": "0.0",
          "histogram": [
           {
            "bin_start": -0.5,
            "bin_end": -0.4,
            "count": 0
           },
           {
            "bin_start": -0.4,
            "bin_end": -0.3,
            "count": 0
           },
           {
            "bin_start": -0.3,
            "bin_end": -0.19999999999999996,
            "count": 0
           },
           {
            "bin_start": -0.19999999999999996,
            "bin_end": -0.09999999999999998,
            "count": 0
           },
           {
            "bin_start": -0.09999999999999998,
            "bin_end": 0,
            "count": 0
           },
           {
            "bin_start": 0,
            "bin_end": 0.10000000000000009,
            "count": 1
           },
           {
            "bin_start": 0.10000000000000009,
            "bin_end": 0.20000000000000007,
            "count": 0
           },
           {
            "bin_start": 0.20000000000000007,
            "bin_end": 0.30000000000000004,
            "count": 0
           },
           {
            "bin_start": 0.30000000000000004,
            "bin_end": 0.4,
            "count": 0
           },
           {
            "bin_start": 0.4,
            "bin_end": 0.5,
            "count": 0
           }
          ]
         }
        },
        {
         "name": "1998Q2",
         "dtype": "object",
         "stats": {
          "unique_count": 1,
          "nan_count": 3,
          "categories": [
           {
            "name": "0.0",
            "count": 2
           },
           {
            "name": "Missing",
            "count": 3
           }
          ]
         }
        },
        {
         "name": "1998M4",
         "dtype": "float64",
         "stats": {
          "unique_count": 1,
          "nan_count": 4,
          "min": "0.0",
          "max": "0.0",
          "histogram": [
           {
            "bin_start": -0.5,
            "bin_end": -0.4,
            "count": 0
           },
           {
            "bin_start": -0.4,
            "bin_end": -0.3,
            "count": 0
           },
           {
            "bin_start": -0.3,
            "bin_end": -0.19999999999999996,
            "count": 0
           },
           {
            "bin_start": -0.19999999999999996,
            "bin_end": -0.09999999999999998,
            "count": 0
           },
           {
            "bin_start": -0.09999999999999998,
            "bin_end": 0,
            "count": 0
           },
           {
            "bin_start": 0,
            "bin_end": 0.10000000000000009,
            "count": 1
           },
           {
            "bin_start": 0.10000000000000009,
            "bin_end": 0.20000000000000007,
            "count": 0
           },
           {
            "bin_start": 0.20000000000000007,
            "bin_end": 0.30000000000000004,
            "count": 0
           },
           {
            "bin_start": 0.30000000000000004,
            "bin_end": 0.4,
            "count": 0
           },
           {
            "bin_start": 0.4,
            "bin_end": 0.5,
            "count": 0
           }
          ]
         }
        },
        {
         "name": "1998M5",
         "dtype": "float64",
         "stats": {
          "unique_count": 1,
          "nan_count": 4,
          "min": "0.0",
          "max": "0.0",
          "histogram": [
           {
            "bin_start": -0.5,
            "bin_end": -0.4,
            "count": 0
           },
           {
            "bin_start": -0.4,
            "bin_end": -0.3,
            "count": 0
           },
           {
            "bin_start": -0.3,
            "bin_end": -0.19999999999999996,
            "count": 0
           },
           {
            "bin_start": -0.19999999999999996,
            "bin_end": -0.09999999999999998,
            "count": 0
           },
           {
            "bin_start": -0.09999999999999998,
            "bin_end": 0,
            "count": 0
           },
           {
            "bin_start": 0,
            "bin_end": 0.10000000000000009,
            "count": 1
           },
           {
            "bin_start": 0.10000000000000009,
            "bin_end": 0.20000000000000007,
            "count": 0
           },
           {
            "bin_start": 0.20000000000000007,
            "bin_end": 0.30000000000000004,
            "count": 0
           },
           {
            "bin_start": 0.30000000000000004,
            "bin_end": 0.4,
            "count": 0
           },
           {
            "bin_start": 0.4,
            "bin_end": 0.5,
            "count": 0
           }
          ]
         }
        },
        {
         "name": "1998M6",
         "dtype": "float64",
         "stats": {
          "unique_count": 1,
          "nan_count": 4,
          "min": "0.0",
          "max": "0.0",
          "histogram": [
           {
            "bin_start": -0.5,
            "bin_end": -0.4,
            "count": 0
           },
           {
            "bin_start": -0.4,
            "bin_end": -0.3,
            "count": 0
           },
           {
            "bin_start": -0.3,
            "bin_end": -0.19999999999999996,
            "count": 0
           },
           {
            "bin_start": -0.19999999999999996,
            "bin_end": -0.09999999999999998,
            "count": 0
           },
           {
            "bin_start": -0.09999999999999998,
            "bin_end": 0,
            "count": 0
           },
           {
            "bin_start": 0,
            "bin_end": 0.10000000000000009,
            "count": 1
           },
           {
            "bin_start": 0.10000000000000009,
            "bin_end": 0.20000000000000007,
            "count": 0
           },
           {
            "bin_start": 0.20000000000000007,
            "bin_end": 0.30000000000000004,
            "count": 0
           },
           {
            "bin_start": 0.30000000000000004,
            "bin_end": 0.4,
            "count": 0
           },
           {
            "bin_start": 0.4,
            "bin_end": 0.5,
            "count": 0
           }
          ]
         }
        },
        {
         "name": "1998Q3",
         "dtype": "object",
         "stats": {
          "unique_count": 1,
          "nan_count": 3,
          "categories": [
           {
            "name": "0.0",
            "count": 2
           },
           {
            "name": "Missing",
            "count": 3
           }
          ]
         }
        },
        {
         "name": "1998M7",
         "dtype": "object",
         "stats": {
          "unique_count": 1,
          "nan_count": 4,
          "categories": [
           {
            "name": "0.0",
            "count": 1
           },
           {
            "name": "Missing",
            "count": 4
           }
          ]
         }
        },
        {
         "name": "1998M8",
         "dtype": "float64",
         "stats": {
          "unique_count": 1,
          "nan_count": 4,
          "min": "0.0",
          "max": "0.0",
          "histogram": [
           {
            "bin_start": -0.5,
            "bin_end": -0.4,
            "count": 0
           },
           {
            "bin_start": -0.4,
            "bin_end": -0.3,
            "count": 0
           },
           {
            "bin_start": -0.3,
            "bin_end": -0.19999999999999996,
            "count": 0
           },
           {
            "bin_start": -0.19999999999999996,
            "bin_end": -0.09999999999999998,
            "count": 0
           },
           {
            "bin_start": -0.09999999999999998,
            "bin_end": 0,
            "count": 0
           },
           {
            "bin_start": 0,
            "bin_end": 0.10000000000000009,
            "count": 1
           },
           {
            "bin_start": 0.10000000000000009,
            "bin_end": 0.20000000000000007,
            "count": 0
           },
           {
            "bin_start": 0.20000000000000007,
            "bin_end": 0.30000000000000004,
            "count": 0
           },
           {
            "bin_start": 0.30000000000000004,
            "bin_end": 0.4,
            "count": 0
           },
           {
            "bin_start": 0.4,
            "bin_end": 0.5,
            "count": 0
           }
          ]
         }
        },
        {
         "name": "1998M9",
         "dtype": "object",
         "stats": {
          "unique_count": 1,
          "nan_count": 4,
          "categories": [
           {
            "name": "0.0",
            "count": 1
           },
           {
            "name": "Missing",
            "count": 4
           }
          ]
         }
        },
        {
         "name": "1998Q4",
         "dtype": "object",
         "stats": {
          "unique_count": 1,
          "nan_count": 3,
          "categories": [
           {
            "name": "0.0",
            "count": 2
           },
           {
            "name": "Missing",
            "count": 3
           }
          ]
         }
        },
        {
         "name": "1998M10",
         "dtype": "float64",
         "stats": {
          "unique_count": 1,
          "nan_count": 4,
          "min": "0.0",
          "max": "0.0",
          "histogram": [
           {
            "bin_start": -0.5,
            "bin_end": -0.4,
            "count": 0
           },
           {
            "bin_start": -0.4,
            "bin_end": -0.3,
            "count": 0
           },
           {
            "bin_start": -0.3,
            "bin_end": -0.19999999999999996,
            "count": 0
           },
           {
            "bin_start": -0.19999999999999996,
            "bin_end": -0.09999999999999998,
            "count": 0
           },
           {
            "bin_start": -0.09999999999999998,
            "bin_end": 0,
            "count": 0
           },
           {
            "bin_start": 0,
            "bin_end": 0.10000000000000009,
            "count": 1
           },
           {
            "bin_start": 0.10000000000000009,
            "bin_end": 0.20000000000000007,
            "count": 0
           },
           {
            "bin_start": 0.20000000000000007,
            "bin_end": 0.30000000000000004,
            "count": 0
           },
           {
            "bin_start": 0.30000000000000004,
            "bin_end": 0.4,
            "count": 0
           },
           {
            "bin_start": 0.4,
            "bin_end": 0.5,
            "count": 0
           }
          ]
         }
        },
        {
         "name": "1998M11",
         "dtype": "object",
         "stats": {
          "unique_count": 1,
          "nan_count": 4,
          "categories": [
           {
            "name": "0.0",
            "count": 1
           },
           {
            "name": "Missing",
            "count": 4
           }
          ]
         }
        },
        {
         "name": "1998M12",
         "dtype": "float64",
         "stats": {
          "unique_count": 1,
          "nan_count": 4,
          "min": "0.0",
          "max": "0.0",
          "histogram": [
           {
            "bin_start": -0.5,
            "bin_end": -0.4,
            "count": 0
           },
           {
            "bin_start": -0.4,
            "bin_end": -0.3,
            "count": 0
           },
           {
            "bin_start": -0.3,
            "bin_end": -0.19999999999999996,
            "count": 0
           },
           {
            "bin_start": -0.19999999999999996,
            "bin_end": -0.09999999999999998,
            "count": 0
           },
           {
            "bin_start": -0.09999999999999998,
            "bin_end": 0,
            "count": 0
           },
           {
            "bin_start": 0,
            "bin_end": 0.10000000000000009,
            "count": 1
           },
           {
            "bin_start": 0.10000000000000009,
            "bin_end": 0.20000000000000007,
            "count": 0
           },
           {
            "bin_start": 0.20000000000000007,
            "bin_end": 0.30000000000000004,
            "count": 0
           },
           {
            "bin_start": 0.30000000000000004,
            "bin_end": 0.4,
            "count": 0
           },
           {
            "bin_start": 0.4,
            "bin_end": 0.5,
            "count": 0
           }
          ]
         }
        },
        {
         "name": "1999",
         "dtype": "object",
         "stats": {
          "unique_count": 1,
          "nan_count": 3,
          "categories": [
           {
            "name": "0",
            "count": 2
           },
           {
            "name": "Missing",
            "count": 3
           }
          ]
         }
        },
        {
         "name": "1999Q1",
         "dtype": "object",
         "stats": {
          "unique_count": 1,
          "nan_count": 3,
          "categories": [
           {
            "name": "0.0",
            "count": 2
           },
           {
            "name": "Missing",
            "count": 3
           }
          ]
         }
        },
        {
         "name": "1999M1",
         "dtype": "object",
         "stats": {
          "unique_count": 1,
          "nan_count": 4,
          "categories": [
           {
            "name": "0.0",
            "count": 1
           },
           {
            "name": "Missing",
            "count": 4
           }
          ]
         }
        },
        {
         "name": "1999M2",
         "dtype": "float64",
         "stats": {
          "unique_count": 1,
          "nan_count": 4,
          "min": "0.0",
          "max": "0.0",
          "histogram": [
           {
            "bin_start": -0.5,
            "bin_end": -0.4,
            "count": 0
           },
           {
            "bin_start": -0.4,
            "bin_end": -0.3,
            "count": 0
           },
           {
            "bin_start": -0.3,
            "bin_end": -0.19999999999999996,
            "count": 0
           },
           {
            "bin_start": -0.19999999999999996,
            "bin_end": -0.09999999999999998,
            "count": 0
           },
           {
            "bin_start": -0.09999999999999998,
            "bin_end": 0,
            "count": 0
           },
           {
            "bin_start": 0,
            "bin_end": 0.10000000000000009,
            "count": 1
           },
           {
            "bin_start": 0.10000000000000009,
            "bin_end": 0.20000000000000007,
            "count": 0
           },
           {
            "bin_start": 0.20000000000000007,
            "bin_end": 0.30000000000000004,
            "count": 0
           },
           {
            "bin_start": 0.30000000000000004,
            "bin_end": 0.4,
            "count": 0
           },
           {
            "bin_start": 0.4,
            "bin_end": 0.5,
            "count": 0
           }
          ]
         }
        },
        {
         "name": "1999M3",
         "dtype": "float64",
         "stats": {
          "unique_count": 1,
          "nan_count": 4,
          "min": "0.0",
          "max": "0.0",
          "histogram": [
           {
            "bin_start": -0.5,
            "bin_end": -0.4,
            "count": 0
           },
           {
            "bin_start": -0.4,
            "bin_end": -0.3,
            "count": 0
           },
           {
            "bin_start": -0.3,
            "bin_end": -0.19999999999999996,
            "count": 0
           },
           {
            "bin_start": -0.19999999999999996,
            "bin_end": -0.09999999999999998,
            "count": 0
           },
           {
            "bin_start": -0.09999999999999998,
            "bin_end": 0,
            "count": 0
           },
           {
            "bin_start": 0,
            "bin_end": 0.10000000000000009,
            "count": 1
           },
           {
            "bin_start": 0.10000000000000009,
            "bin_end": 0.20000000000000007,
            "count": 0
           },
           {
            "bin_start": 0.20000000000000007,
            "bin_end": 0.30000000000000004,
            "count": 0
           },
           {
            "bin_start": 0.30000000000000004,
            "bin_end": 0.4,
            "count": 0
           },
           {
            "bin_start": 0.4,
            "bin_end": 0.5,
            "count": 0
           }
          ]
         }
        },
        {
         "name": "1999Q2",
         "dtype": "object",
         "stats": {
          "unique_count": 1,
          "nan_count": 3,
          "categories": [
           {
            "name": "0.0",
            "count": 2
           },
           {
            "name": "Missing",
            "count": 3
           }
          ]
         }
        },
        {
         "name": "1999M4",
         "dtype": "object",
         "stats": {
          "unique_count": 1,
          "nan_count": 4,
          "categories": [
           {
            "name": "0.0",
            "count": 1
           },
           {
            "name": "Missing",
            "count": 4
           }
          ]
         }
        },
        {
         "name": "1999M5",
         "dtype": "object",
         "stats": {
          "unique_count": 1,
          "nan_count": 4,
          "categories": [
           {
            "name": "0.0",
            "count": 1
           },
           {
            "name": "Missing",
            "count": 4
           }
          ]
         }
        },
        {
         "name": "1999M6",
         "dtype": "float64",
         "stats": {
          "unique_count": 1,
          "nan_count": 4,
          "min": "0.0",
          "max": "0.0",
          "histogram": [
           {
            "bin_start": -0.5,
            "bin_end": -0.4,
            "count": 0
           },
           {
            "bin_start": -0.4,
            "bin_end": -0.3,
            "count": 0
           },
           {
            "bin_start": -0.3,
            "bin_end": -0.19999999999999996,
            "count": 0
           },
           {
            "bin_start": -0.19999999999999996,
            "bin_end": -0.09999999999999998,
            "count": 0
           },
           {
            "bin_start": -0.09999999999999998,
            "bin_end": 0,
            "count": 0
           },
           {
            "bin_start": 0,
            "bin_end": 0.10000000000000009,
            "count": 1
           },
           {
            "bin_start": 0.10000000000000009,
            "bin_end": 0.20000000000000007,
            "count": 0
           },
           {
            "bin_start": 0.20000000000000007,
            "bin_end": 0.30000000000000004,
            "count": 0
           },
           {
            "bin_start": 0.30000000000000004,
            "bin_end": 0.4,
            "count": 0
           },
           {
            "bin_start": 0.4,
            "bin_end": 0.5,
            "count": 0
           }
          ]
         }
        },
        {
         "name": "1999Q3",
         "dtype": "object",
         "stats": {
          "unique_count": 1,
          "nan_count": 3,
          "categories": [
           {
            "name": "0.0",
            "count": 2
           },
           {
            "name": "Missing",
            "count": 3
           }
          ]
         }
        },
        {
         "name": "1999M7",
         "dtype": "object",
         "stats": {
          "unique_count": 1,
          "nan_count": 4,
          "categories": [
           {
            "name": "0.0",
            "count": 1
           },
           {
            "name": "Missing",
            "count": 4
           }
          ]
         }
        },
        {
         "name": "1999M8",
         "dtype": "float64",
         "stats": {
          "unique_count": 1,
          "nan_count": 4,
          "min": "0.0",
          "max": "0.0",
          "histogram": [
           {
            "bin_start": -0.5,
            "bin_end": -0.4,
            "count": 0
           },
           {
            "bin_start": -0.4,
            "bin_end": -0.3,
            "count": 0
           },
           {
            "bin_start": -0.3,
            "bin_end": -0.19999999999999996,
            "count": 0
           },
           {
            "bin_start": -0.19999999999999996,
            "bin_end": -0.09999999999999998,
            "count": 0
           },
           {
            "bin_start": -0.09999999999999998,
            "bin_end": 0,
            "count": 0
           },
           {
            "bin_start": 0,
            "bin_end": 0.10000000000000009,
            "count": 1
           },
           {
            "bin_start": 0.10000000000000009,
            "bin_end": 0.20000000000000007,
            "count": 0
           },
           {
            "bin_start": 0.20000000000000007,
            "bin_end": 0.30000000000000004,
            "count": 0
           },
           {
            "bin_start": 0.30000000000000004,
            "bin_end": 0.4,
            "count": 0
           },
           {
            "bin_start": 0.4,
            "bin_end": 0.5,
            "count": 0
           }
          ]
         }
        },
        {
         "name": "1999M9",
         "dtype": "float64",
         "stats": {
          "unique_count": 1,
          "nan_count": 4,
          "min": "0.0",
          "max": "0.0",
          "histogram": [
           {
            "bin_start": -0.5,
            "bin_end": -0.4,
            "count": 0
           },
           {
            "bin_start": -0.4,
            "bin_end": -0.3,
            "count": 0
           },
           {
            "bin_start": -0.3,
            "bin_end": -0.19999999999999996,
            "count": 0
           },
           {
            "bin_start": -0.19999999999999996,
            "bin_end": -0.09999999999999998,
            "count": 0
           },
           {
            "bin_start": -0.09999999999999998,
            "bin_end": 0,
            "count": 0
           },
           {
            "bin_start": 0,
            "bin_end": 0.10000000000000009,
            "count": 1
           },
           {
            "bin_start": 0.10000000000000009,
            "bin_end": 0.20000000000000007,
            "count": 0
           },
           {
            "bin_start": 0.20000000000000007,
            "bin_end": 0.30000000000000004,
            "count": 0
           },
           {
            "bin_start": 0.30000000000000004,
            "bin_end": 0.4,
            "count": 0
           },
           {
            "bin_start": 0.4,
            "bin_end": 0.5,
            "count": 0
           }
          ]
         }
        },
        {
         "name": "1999Q4",
         "dtype": "object",
         "stats": {
          "unique_count": 1,
          "nan_count": 3,
          "categories": [
           {
            "name": "0",
            "count": 2
           },
           {
            "name": "Missing",
            "count": 3
           }
          ]
         }
        },
        {
         "name": "1999M10",
         "dtype": "float64",
         "stats": {
          "unique_count": 1,
          "nan_count": 4,
          "min": "0.0",
          "max": "0.0",
          "histogram": [
           {
            "bin_start": -0.5,
            "bin_end": -0.4,
            "count": 0
           },
           {
            "bin_start": -0.4,
            "bin_end": -0.3,
            "count": 0
           },
           {
            "bin_start": -0.3,
            "bin_end": -0.19999999999999996,
            "count": 0
           },
           {
            "bin_start": -0.19999999999999996,
            "bin_end": -0.09999999999999998,
            "count": 0
           },
           {
            "bin_start": -0.09999999999999998,
            "bin_end": 0,
            "count": 0
           },
           {
            "bin_start": 0,
            "bin_end": 0.10000000000000009,
            "count": 1
           },
           {
            "bin_start": 0.10000000000000009,
            "bin_end": 0.20000000000000007,
            "count": 0
           },
           {
            "bin_start": 0.20000000000000007,
            "bin_end": 0.30000000000000004,
            "count": 0
           },
           {
            "bin_start": 0.30000000000000004,
            "bin_end": 0.4,
            "count": 0
           },
           {
            "bin_start": 0.4,
            "bin_end": 0.5,
            "count": 0
           }
          ]
         }
        },
        {
         "name": "1999M11",
         "dtype": "object",
         "stats": {
          "unique_count": 1,
          "nan_count": 4,
          "categories": [
           {
            "name": "0.0",
            "count": 1
           },
           {
            "name": "Missing",
            "count": 4
           }
          ]
         }
        },
        {
         "name": "1999M12",
         "dtype": "object",
         "stats": {
          "unique_count": 1,
          "nan_count": 4,
          "categories": [
           {
            "name": "0",
            "count": 1
           },
           {
            "name": "Missing",
            "count": 4
           }
          ]
         }
        },
        {
         "name": "2000",
         "dtype": "object",
         "stats": {
          "unique_count": 1,
          "nan_count": 3,
          "categories": [
           {
            "name": "0.0",
            "count": 2
           },
           {
            "name": "Missing",
            "count": 3
           }
          ]
         }
        },
        {
         "name": "2000Q1",
         "dtype": "object",
         "stats": {
          "unique_count": 1,
          "nan_count": 3,
          "categories": [
           {
            "name": "0.0",
            "count": 2
           },
           {
            "name": "Missing",
            "count": 3
           }
          ]
         }
        },
        {
         "name": "2000M1",
         "dtype": "object",
         "stats": {
          "unique_count": 1,
          "nan_count": 4,
          "categories": [
           {
            "name": "0.0",
            "count": 1
           },
           {
            "name": "Missing",
            "count": 4
           }
          ]
         }
        },
        {
         "name": "2000M2",
         "dtype": "float64",
         "stats": {
          "unique_count": 1,
          "nan_count": 4,
          "min": "0.0",
          "max": "0.0",
          "histogram": [
           {
            "bin_start": -0.5,
            "bin_end": -0.4,
            "count": 0
           },
           {
            "bin_start": -0.4,
            "bin_end": -0.3,
            "count": 0
           },
           {
            "bin_start": -0.3,
            "bin_end": -0.19999999999999996,
            "count": 0
           },
           {
            "bin_start": -0.19999999999999996,
            "bin_end": -0.09999999999999998,
            "count": 0
           },
           {
            "bin_start": -0.09999999999999998,
            "bin_end": 0,
            "count": 0
           },
           {
            "bin_start": 0,
            "bin_end": 0.10000000000000009,
            "count": 1
           },
           {
            "bin_start": 0.10000000000000009,
            "bin_end": 0.20000000000000007,
            "count": 0
           },
           {
            "bin_start": 0.20000000000000007,
            "bin_end": 0.30000000000000004,
            "count": 0
           },
           {
            "bin_start": 0.30000000000000004,
            "bin_end": 0.4,
            "count": 0
           },
           {
            "bin_start": 0.4,
            "bin_end": 0.5,
            "count": 0
           }
          ]
         }
        },
        {
         "name": "2000M3",
         "dtype": "object",
         "stats": {
          "unique_count": 1,
          "nan_count": 4,
          "categories": [
           {
            "name": "0.0",
            "count": 1
           },
           {
            "name": "Missing",
            "count": 4
           }
          ]
         }
        },
        {
         "name": "2000Q2",
         "dtype": "object",
         "stats": {
          "unique_count": 1,
          "nan_count": 3,
          "categories": [
           {
            "name": "0.0",
            "count": 2
           },
           {
            "name": "Missing",
            "count": 3
           }
          ]
         }
        },
        {
         "name": "2000M4",
         "dtype": "object",
         "stats": {
          "unique_count": 1,
          "nan_count": 4,
          "categories": [
           {
            "name": "0.0",
            "count": 1
           },
           {
            "name": "Missing",
            "count": 4
           }
          ]
         }
        },
        {
         "name": "2000M5",
         "dtype": "float64",
         "stats": {
          "unique_count": 1,
          "nan_count": 4,
          "min": "0.0",
          "max": "0.0",
          "histogram": [
           {
            "bin_start": -0.5,
            "bin_end": -0.4,
            "count": 0
           },
           {
            "bin_start": -0.4,
            "bin_end": -0.3,
            "count": 0
           },
           {
            "bin_start": -0.3,
            "bin_end": -0.19999999999999996,
            "count": 0
           },
           {
            "bin_start": -0.19999999999999996,
            "bin_end": -0.09999999999999998,
            "count": 0
           },
           {
            "bin_start": -0.09999999999999998,
            "bin_end": 0,
            "count": 0
           },
           {
            "bin_start": 0,
            "bin_end": 0.10000000000000009,
            "count": 1
           },
           {
            "bin_start": 0.10000000000000009,
            "bin_end": 0.20000000000000007,
            "count": 0
           },
           {
            "bin_start": 0.20000000000000007,
            "bin_end": 0.30000000000000004,
            "count": 0
           },
           {
            "bin_start": 0.30000000000000004,
            "bin_end": 0.4,
            "count": 0
           },
           {
            "bin_start": 0.4,
            "bin_end": 0.5,
            "count": 0
           }
          ]
         }
        },
        {
         "name": "2000M6",
         "dtype": "object",
         "stats": {
          "unique_count": 1,
          "nan_count": 4,
          "categories": [
           {
            "name": "0.0",
            "count": 1
           },
           {
            "name": "Missing",
            "count": 4
           }
          ]
         }
        },
        {
         "name": "2000Q3",
         "dtype": "object",
         "stats": {
          "unique_count": 1,
          "nan_count": 3,
          "categories": [
           {
            "name": "0.0",
            "count": 2
           },
           {
            "name": "Missing",
            "count": 3
           }
          ]
         }
        },
        {
         "name": "2000M7",
         "dtype": "object",
         "stats": {
          "unique_count": 1,
          "nan_count": 4,
          "categories": [
           {
            "name": "0.0",
            "count": 1
           },
           {
            "name": "Missing",
            "count": 4
           }
          ]
         }
        },
        {
         "name": "2000M8",
         "dtype": "object",
         "stats": {
          "unique_count": 1,
          "nan_count": 4,
          "categories": [
           {
            "name": "0.0",
            "count": 1
           },
           {
            "name": "Missing",
            "count": 4
           }
          ]
         }
        },
        {
         "name": "2000M9",
         "dtype": "object",
         "stats": {
          "unique_count": 1,
          "nan_count": 4,
          "categories": [
           {
            "name": "0.0",
            "count": 1
           },
           {
            "name": "Missing",
            "count": 4
           }
          ]
         }
        },
        {
         "name": "2000Q4",
         "dtype": "object",
         "stats": {
          "unique_count": 1,
          "nan_count": 3,
          "categories": [
           {
            "name": "0.0",
            "count": 2
           },
           {
            "name": "Missing",
            "count": 3
           }
          ]
         }
        },
        {
         "name": "2000M10",
         "dtype": "object",
         "stats": {
          "unique_count": 1,
          "nan_count": 4,
          "categories": [
           {
            "name": "0.0",
            "count": 1
           },
           {
            "name": "Missing",
            "count": 4
           }
          ]
         }
        },
        {
         "name": "2000M11",
         "dtype": "float64",
         "stats": {
          "unique_count": 1,
          "nan_count": 4,
          "min": "0.0",
          "max": "0.0",
          "histogram": [
           {
            "bin_start": -0.5,
            "bin_end": -0.4,
            "count": 0
           },
           {
            "bin_start": -0.4,
            "bin_end": -0.3,
            "count": 0
           },
           {
            "bin_start": -0.3,
            "bin_end": -0.19999999999999996,
            "count": 0
           },
           {
            "bin_start": -0.19999999999999996,
            "bin_end": -0.09999999999999998,
            "count": 0
           },
           {
            "bin_start": -0.09999999999999998,
            "bin_end": 0,
            "count": 0
           },
           {
            "bin_start": 0,
            "bin_end": 0.10000000000000009,
            "count": 1
           },
           {
            "bin_start": 0.10000000000000009,
            "bin_end": 0.20000000000000007,
            "count": 0
           },
           {
            "bin_start": 0.20000000000000007,
            "bin_end": 0.30000000000000004,
            "count": 0
           },
           {
            "bin_start": 0.30000000000000004,
            "bin_end": 0.4,
            "count": 0
           },
           {
            "bin_start": 0.4,
            "bin_end": 0.5,
            "count": 0
           }
          ]
         }
        },
        {
         "name": "2000M12",
         "dtype": "object",
         "stats": {
          "unique_count": 1,
          "nan_count": 4,
          "categories": [
           {
            "name": "0.0",
            "count": 1
           },
           {
            "name": "Missing",
            "count": 4
           }
          ]
         }
        },
        {
         "name": "2001",
         "dtype": "object",
         "stats": {
          "unique_count": 1,
          "nan_count": 3,
          "categories": [
           {
            "name": "0",
            "count": 2
           },
           {
            "name": "Missing",
            "count": 3
           }
          ]
         }
        },
        {
         "name": "2001Q1",
         "dtype": "object",
         "stats": {
          "unique_count": 1,
          "nan_count": 3,
          "categories": [
           {
            "name": "0",
            "count": 2
           },
           {
            "name": "Missing",
            "count": 3
           }
          ]
         }
        },
        {
         "name": "2001M1",
         "dtype": "object",
         "stats": {
          "unique_count": 1,
          "nan_count": 4,
          "categories": [
           {
            "name": "0",
            "count": 1
           },
           {
            "name": "Missing",
            "count": 4
           }
          ]
         }
        },
        {
         "name": "2001M2",
         "dtype": "float64",
         "stats": {
          "unique_count": 1,
          "nan_count": 4,
          "min": "0.0",
          "max": "0.0",
          "histogram": [
           {
            "bin_start": -0.5,
            "bin_end": -0.4,
            "count": 0
           },
           {
            "bin_start": -0.4,
            "bin_end": -0.3,
            "count": 0
           },
           {
            "bin_start": -0.3,
            "bin_end": -0.19999999999999996,
            "count": 0
           },
           {
            "bin_start": -0.19999999999999996,
            "bin_end": -0.09999999999999998,
            "count": 0
           },
           {
            "bin_start": -0.09999999999999998,
            "bin_end": 0,
            "count": 0
           },
           {
            "bin_start": 0,
            "bin_end": 0.10000000000000009,
            "count": 1
           },
           {
            "bin_start": 0.10000000000000009,
            "bin_end": 0.20000000000000007,
            "count": 0
           },
           {
            "bin_start": 0.20000000000000007,
            "bin_end": 0.30000000000000004,
            "count": 0
           },
           {
            "bin_start": 0.30000000000000004,
            "bin_end": 0.4,
            "count": 0
           },
           {
            "bin_start": 0.4,
            "bin_end": 0.5,
            "count": 0
           }
          ]
         }
        },
        {
         "name": "2001M3",
         "dtype": "float64",
         "stats": {
          "unique_count": 1,
          "nan_count": 4,
          "min": "0.0",
          "max": "0.0",
          "histogram": [
           {
            "bin_start": -0.5,
            "bin_end": -0.4,
            "count": 0
           },
           {
            "bin_start": -0.4,
            "bin_end": -0.3,
            "count": 0
           },
           {
            "bin_start": -0.3,
            "bin_end": -0.19999999999999996,
            "count": 0
           },
           {
            "bin_start": -0.19999999999999996,
            "bin_end": -0.09999999999999998,
            "count": 0
           },
           {
            "bin_start": -0.09999999999999998,
            "bin_end": 0,
            "count": 0
           },
           {
            "bin_start": 0,
            "bin_end": 0.10000000000000009,
            "count": 1
           },
           {
            "bin_start": 0.10000000000000009,
            "bin_end": 0.20000000000000007,
            "count": 0
           },
           {
            "bin_start": 0.20000000000000007,
            "bin_end": 0.30000000000000004,
            "count": 0
           },
           {
            "bin_start": 0.30000000000000004,
            "bin_end": 0.4,
            "count": 0
           },
           {
            "bin_start": 0.4,
            "bin_end": 0.5,
            "count": 0
           }
          ]
         }
        },
        {
         "name": "2001Q2",
         "dtype": "float64",
         "stats": {
          "unique_count": 1,
          "nan_count": 3,
          "min": "0.0",
          "max": "0.0",
          "histogram": [
           {
            "bin_start": -0.5,
            "bin_end": -0.4,
            "count": 0
           },
           {
            "bin_start": -0.4,
            "bin_end": -0.3,
            "count": 0
           },
           {
            "bin_start": -0.3,
            "bin_end": -0.19999999999999996,
            "count": 0
           },
           {
            "bin_start": -0.19999999999999996,
            "bin_end": -0.09999999999999998,
            "count": 0
           },
           {
            "bin_start": -0.09999999999999998,
            "bin_end": 0,
            "count": 0
           },
           {
            "bin_start": 0,
            "bin_end": 0.10000000000000009,
            "count": 2
           },
           {
            "bin_start": 0.10000000000000009,
            "bin_end": 0.20000000000000007,
            "count": 0
           },
           {
            "bin_start": 0.20000000000000007,
            "bin_end": 0.30000000000000004,
            "count": 0
           },
           {
            "bin_start": 0.30000000000000004,
            "bin_end": 0.4,
            "count": 0
           },
           {
            "bin_start": 0.4,
            "bin_end": 0.5,
            "count": 0
           }
          ]
         }
        },
        {
         "name": "2001M4",
         "dtype": "object",
         "stats": {
          "unique_count": 1,
          "nan_count": 4,
          "categories": [
           {
            "name": "0.0",
            "count": 1
           },
           {
            "name": "Missing",
            "count": 4
           }
          ]
         }
        },
        {
         "name": "2001M5",
         "dtype": "float64",
         "stats": {
          "unique_count": 1,
          "nan_count": 4,
          "min": "0.0",
          "max": "0.0",
          "histogram": [
           {
            "bin_start": -0.5,
            "bin_end": -0.4,
            "count": 0
           },
           {
            "bin_start": -0.4,
            "bin_end": -0.3,
            "count": 0
           },
           {
            "bin_start": -0.3,
            "bin_end": -0.19999999999999996,
            "count": 0
           },
           {
            "bin_start": -0.19999999999999996,
            "bin_end": -0.09999999999999998,
            "count": 0
           },
           {
            "bin_start": -0.09999999999999998,
            "bin_end": 0,
            "count": 0
           },
           {
            "bin_start": 0,
            "bin_end": 0.10000000000000009,
            "count": 1
           },
           {
            "bin_start": 0.10000000000000009,
            "bin_end": 0.20000000000000007,
            "count": 0
           },
           {
            "bin_start": 0.20000000000000007,
            "bin_end": 0.30000000000000004,
            "count": 0
           },
           {
            "bin_start": 0.30000000000000004,
            "bin_end": 0.4,
            "count": 0
           },
           {
            "bin_start": 0.4,
            "bin_end": 0.5,
            "count": 0
           }
          ]
         }
        },
        {
         "name": "2001M6",
         "dtype": "float64",
         "stats": {
          "unique_count": 1,
          "nan_count": 4,
          "min": "0.0",
          "max": "0.0",
          "histogram": [
           {
            "bin_start": -0.5,
            "bin_end": -0.4,
            "count": 0
           },
           {
            "bin_start": -0.4,
            "bin_end": -0.3,
            "count": 0
           },
           {
            "bin_start": -0.3,
            "bin_end": -0.19999999999999996,
            "count": 0
           },
           {
            "bin_start": -0.19999999999999996,
            "bin_end": -0.09999999999999998,
            "count": 0
           },
           {
            "bin_start": -0.09999999999999998,
            "bin_end": 0,
            "count": 0
           },
           {
            "bin_start": 0,
            "bin_end": 0.10000000000000009,
            "count": 1
           },
           {
            "bin_start": 0.10000000000000009,
            "bin_end": 0.20000000000000007,
            "count": 0
           },
           {
            "bin_start": 0.20000000000000007,
            "bin_end": 0.30000000000000004,
            "count": 0
           },
           {
            "bin_start": 0.30000000000000004,
            "bin_end": 0.4,
            "count": 0
           },
           {
            "bin_start": 0.4,
            "bin_end": 0.5,
            "count": 0
           }
          ]
         }
        },
        {
         "name": "2001Q3",
         "dtype": "object",
         "stats": {
          "unique_count": 1,
          "nan_count": 3,
          "categories": [
           {
            "name": "0.0",
            "count": 2
           },
           {
            "name": "Missing",
            "count": 3
           }
          ]
         }
        },
        {
         "name": "2001M7",
         "dtype": "float64",
         "stats": {
          "unique_count": 1,
          "nan_count": 4,
          "min": "0.0",
          "max": "0.0",
          "histogram": [
           {
            "bin_start": -0.5,
            "bin_end": -0.4,
            "count": 0
           },
           {
            "bin_start": -0.4,
            "bin_end": -0.3,
            "count": 0
           },
           {
            "bin_start": -0.3,
            "bin_end": -0.19999999999999996,
            "count": 0
           },
           {
            "bin_start": -0.19999999999999996,
            "bin_end": -0.09999999999999998,
            "count": 0
           },
           {
            "bin_start": -0.09999999999999998,
            "bin_end": 0,
            "count": 0
           },
           {
            "bin_start": 0,
            "bin_end": 0.10000000000000009,
            "count": 1
           },
           {
            "bin_start": 0.10000000000000009,
            "bin_end": 0.20000000000000007,
            "count": 0
           },
           {
            "bin_start": 0.20000000000000007,
            "bin_end": 0.30000000000000004,
            "count": 0
           },
           {
            "bin_start": 0.30000000000000004,
            "bin_end": 0.4,
            "count": 0
           },
           {
            "bin_start": 0.4,
            "bin_end": 0.5,
            "count": 0
           }
          ]
         }
        },
        {
         "name": "2001M8",
         "dtype": "float64",
         "stats": {
          "unique_count": 1,
          "nan_count": 4,
          "min": "0.0",
          "max": "0.0",
          "histogram": [
           {
            "bin_start": -0.5,
            "bin_end": -0.4,
            "count": 0
           },
           {
            "bin_start": -0.4,
            "bin_end": -0.3,
            "count": 0
           },
           {
            "bin_start": -0.3,
            "bin_end": -0.19999999999999996,
            "count": 0
           },
           {
            "bin_start": -0.19999999999999996,
            "bin_end": -0.09999999999999998,
            "count": 0
           },
           {
            "bin_start": -0.09999999999999998,
            "bin_end": 0,
            "count": 0
           },
           {
            "bin_start": 0,
            "bin_end": 0.10000000000000009,
            "count": 1
           },
           {
            "bin_start": 0.10000000000000009,
            "bin_end": 0.20000000000000007,
            "count": 0
           },
           {
            "bin_start": 0.20000000000000007,
            "bin_end": 0.30000000000000004,
            "count": 0
           },
           {
            "bin_start": 0.30000000000000004,
            "bin_end": 0.4,
            "count": 0
           },
           {
            "bin_start": 0.4,
            "bin_end": 0.5,
            "count": 0
           }
          ]
         }
        },
        {
         "name": "2001M9",
         "dtype": "float64",
         "stats": {
          "unique_count": 1,
          "nan_count": 4,
          "min": "0.0",
          "max": "0.0",
          "histogram": [
           {
            "bin_start": -0.5,
            "bin_end": -0.4,
            "count": 0
           },
           {
            "bin_start": -0.4,
            "bin_end": -0.3,
            "count": 0
           },
           {
            "bin_start": -0.3,
            "bin_end": -0.19999999999999996,
            "count": 0
           },
           {
            "bin_start": -0.19999999999999996,
            "bin_end": -0.09999999999999998,
            "count": 0
           },
           {
            "bin_start": -0.09999999999999998,
            "bin_end": 0,
            "count": 0
           },
           {
            "bin_start": 0,
            "bin_end": 0.10000000000000009,
            "count": 1
           },
           {
            "bin_start": 0.10000000000000009,
            "bin_end": 0.20000000000000007,
            "count": 0
           },
           {
            "bin_start": 0.20000000000000007,
            "bin_end": 0.30000000000000004,
            "count": 0
           },
           {
            "bin_start": 0.30000000000000004,
            "bin_end": 0.4,
            "count": 0
           },
           {
            "bin_start": 0.4,
            "bin_end": 0.5,
            "count": 0
           }
          ]
         }
        },
        {
         "name": "2001Q4",
         "dtype": "object",
         "stats": {
          "unique_count": 1,
          "nan_count": 3,
          "categories": [
           {
            "name": "0.0",
            "count": 2
           },
           {
            "name": "Missing",
            "count": 3
           }
          ]
         }
        },
        {
         "name": "2001M10",
         "dtype": "float64",
         "stats": {
          "unique_count": 1,
          "nan_count": 4,
          "min": "0.0",
          "max": "0.0",
          "histogram": [
           {
            "bin_start": -0.5,
            "bin_end": -0.4,
            "count": 0
           },
           {
            "bin_start": -0.4,
            "bin_end": -0.3,
            "count": 0
           },
           {
            "bin_start": -0.3,
            "bin_end": -0.19999999999999996,
            "count": 0
           },
           {
            "bin_start": -0.19999999999999996,
            "bin_end": -0.09999999999999998,
            "count": 0
           },
           {
            "bin_start": -0.09999999999999998,
            "bin_end": 0,
            "count": 0
           },
           {
            "bin_start": 0,
            "bin_end": 0.10000000000000009,
            "count": 1
           },
           {
            "bin_start": 0.10000000000000009,
            "bin_end": 0.20000000000000007,
            "count": 0
           },
           {
            "bin_start": 0.20000000000000007,
            "bin_end": 0.30000000000000004,
            "count": 0
           },
           {
            "bin_start": 0.30000000000000004,
            "bin_end": 0.4,
            "count": 0
           },
           {
            "bin_start": 0.4,
            "bin_end": 0.5,
            "count": 0
           }
          ]
         }
        },
        {
         "name": "2001M11",
         "dtype": "float64",
         "stats": {
          "unique_count": 1,
          "nan_count": 4,
          "min": "0.0",
          "max": "0.0",
          "histogram": [
           {
            "bin_start": -0.5,
            "bin_end": -0.4,
            "count": 0
           },
           {
            "bin_start": -0.4,
            "bin_end": -0.3,
            "count": 0
           },
           {
            "bin_start": -0.3,
            "bin_end": -0.19999999999999996,
            "count": 0
           },
           {
            "bin_start": -0.19999999999999996,
            "bin_end": -0.09999999999999998,
            "count": 0
           },
           {
            "bin_start": -0.09999999999999998,
            "bin_end": 0,
            "count": 0
           },
           {
            "bin_start": 0,
            "bin_end": 0.10000000000000009,
            "count": 1
           },
           {
            "bin_start": 0.10000000000000009,
            "bin_end": 0.20000000000000007,
            "count": 0
           },
           {
            "bin_start": 0.20000000000000007,
            "bin_end": 0.30000000000000004,
            "count": 0
           },
           {
            "bin_start": 0.30000000000000004,
            "bin_end": 0.4,
            "count": 0
           },
           {
            "bin_start": 0.4,
            "bin_end": 0.5,
            "count": 0
           }
          ]
         }
        },
        {
         "name": "2001M12",
         "dtype": "object",
         "stats": {
          "unique_count": 1,
          "nan_count": 4,
          "categories": [
           {
            "name": "0.0",
            "count": 1
           },
           {
            "name": "Missing",
            "count": 4
           }
          ]
         }
        },
        {
         "name": "2002",
         "dtype": "object",
         "stats": {
          "unique_count": 1,
          "nan_count": 3,
          "categories": [
           {
            "name": "0.0",
            "count": 2
           },
           {
            "name": "Missing",
            "count": 3
           }
          ]
         }
        },
        {
         "name": "2002Q1",
         "dtype": "object",
         "stats": {
          "unique_count": 1,
          "nan_count": 3,
          "categories": [
           {
            "name": "0.0",
            "count": 2
           },
           {
            "name": "Missing",
            "count": 3
           }
          ]
         }
        },
        {
         "name": "2002M1",
         "dtype": "object",
         "stats": {
          "unique_count": 1,
          "nan_count": 4,
          "categories": [
           {
            "name": "0.0",
            "count": 1
           },
           {
            "name": "Missing",
            "count": 4
           }
          ]
         }
        },
        {
         "name": "2002M2",
         "dtype": "object",
         "stats": {
          "unique_count": 1,
          "nan_count": 4,
          "categories": [
           {
            "name": "0.0",
            "count": 1
           },
           {
            "name": "Missing",
            "count": 4
           }
          ]
         }
        },
        {
         "name": "2002M3",
         "dtype": "object",
         "stats": {
          "unique_count": 1,
          "nan_count": 4,
          "categories": [
           {
            "name": "0.0",
            "count": 1
           },
           {
            "name": "Missing",
            "count": 4
           }
          ]
         }
        },
        {
         "name": "2002Q2",
         "dtype": "object",
         "stats": {
          "unique_count": 1,
          "nan_count": 3,
          "categories": [
           {
            "name": "0.0",
            "count": 2
           },
           {
            "name": "Missing",
            "count": 3
           }
          ]
         }
        },
        {
         "name": "2002M4",
         "dtype": "object",
         "stats": {
          "unique_count": 1,
          "nan_count": 4,
          "categories": [
           {
            "name": "0.0",
            "count": 1
           },
           {
            "name": "Missing",
            "count": 4
           }
          ]
         }
        },
        {
         "name": "2002M5",
         "dtype": "object",
         "stats": {
          "unique_count": 1,
          "nan_count": 4,
          "categories": [
           {
            "name": "0.0",
            "count": 1
           },
           {
            "name": "Missing",
            "count": 4
           }
          ]
         }
        },
        {
         "name": "2002M6",
         "dtype": "object",
         "stats": {
          "unique_count": 1,
          "nan_count": 4,
          "categories": [
           {
            "name": "0.0",
            "count": 1
           },
           {
            "name": "Missing",
            "count": 4
           }
          ]
         }
        },
        {
         "name": "2002Q3",
         "dtype": "object",
         "stats": {
          "unique_count": 1,
          "nan_count": 3,
          "categories": [
           {
            "name": "0.0",
            "count": 2
           },
           {
            "name": "Missing",
            "count": 3
           }
          ]
         }
        },
        {
         "name": "2002M7",
         "dtype": "object",
         "stats": {
          "unique_count": 1,
          "nan_count": 4,
          "categories": [
           {
            "name": "0.0",
            "count": 1
           },
           {
            "name": "Missing",
            "count": 4
           }
          ]
         }
        },
        {
         "name": "2002M8",
         "dtype": "object",
         "stats": {
          "unique_count": 1,
          "nan_count": 4,
          "categories": [
           {
            "name": "0.0",
            "count": 1
           },
           {
            "name": "Missing",
            "count": 4
           }
          ]
         }
        },
        {
         "name": "2002M9",
         "dtype": "float64",
         "stats": {
          "unique_count": 1,
          "nan_count": 4,
          "min": "0.0",
          "max": "0.0",
          "histogram": [
           {
            "bin_start": -0.5,
            "bin_end": -0.4,
            "count": 0
           },
           {
            "bin_start": -0.4,
            "bin_end": -0.3,
            "count": 0
           },
           {
            "bin_start": -0.3,
            "bin_end": -0.19999999999999996,
            "count": 0
           },
           {
            "bin_start": -0.19999999999999996,
            "bin_end": -0.09999999999999998,
            "count": 0
           },
           {
            "bin_start": -0.09999999999999998,
            "bin_end": 0,
            "count": 0
           },
           {
            "bin_start": 0,
            "bin_end": 0.10000000000000009,
            "count": 1
           },
           {
            "bin_start": 0.10000000000000009,
            "bin_end": 0.20000000000000007,
            "count": 0
           },
           {
            "bin_start": 0.20000000000000007,
            "bin_end": 0.30000000000000004,
            "count": 0
           },
           {
            "bin_start": 0.30000000000000004,
            "bin_end": 0.4,
            "count": 0
           },
           {
            "bin_start": 0.4,
            "bin_end": 0.5,
            "count": 0
           }
          ]
         }
        },
        {
         "name": "2002Q4",
         "dtype": "object",
         "stats": {
          "unique_count": 1,
          "nan_count": 3,
          "categories": [
           {
            "name": "0.0",
            "count": 2
           },
           {
            "name": "Missing",
            "count": 3
           }
          ]
         }
        },
        {
         "name": "2002M10",
         "dtype": "object",
         "stats": {
          "unique_count": 1,
          "nan_count": 4,
          "categories": [
           {
            "name": "0.0",
            "count": 1
           },
           {
            "name": "Missing",
            "count": 4
           }
          ]
         }
        },
        {
         "name": "2002M11",
         "dtype": "float64",
         "stats": {
          "unique_count": 1,
          "nan_count": 4,
          "min": "0.0",
          "max": "0.0",
          "histogram": [
           {
            "bin_start": -0.5,
            "bin_end": -0.4,
            "count": 0
           },
           {
            "bin_start": -0.4,
            "bin_end": -0.3,
            "count": 0
           },
           {
            "bin_start": -0.3,
            "bin_end": -0.19999999999999996,
            "count": 0
           },
           {
            "bin_start": -0.19999999999999996,
            "bin_end": -0.09999999999999998,
            "count": 0
           },
           {
            "bin_start": -0.09999999999999998,
            "bin_end": 0,
            "count": 0
           },
           {
            "bin_start": 0,
            "bin_end": 0.10000000000000009,
            "count": 1
           },
           {
            "bin_start": 0.10000000000000009,
            "bin_end": 0.20000000000000007,
            "count": 0
           },
           {
            "bin_start": 0.20000000000000007,
            "bin_end": 0.30000000000000004,
            "count": 0
           },
           {
            "bin_start": 0.30000000000000004,
            "bin_end": 0.4,
            "count": 0
           },
           {
            "bin_start": 0.4,
            "bin_end": 0.5,
            "count": 0
           }
          ]
         }
        },
        {
         "name": "2002M12",
         "dtype": "object",
         "stats": {
          "unique_count": 1,
          "nan_count": 4,
          "categories": [
           {
            "name": "0.0",
            "count": 1
           },
           {
            "name": "Missing",
            "count": 4
           }
          ]
         }
        },
        {
         "name": "2003",
         "dtype": "object",
         "stats": {
          "unique_count": 1,
          "nan_count": 3,
          "categories": [
           {
            "name": "0.0",
            "count": 2
           },
           {
            "name": "Missing",
            "count": 3
           }
          ]
         }
        },
        {
         "name": "2003Q1",
         "dtype": "object",
         "stats": {
          "unique_count": 1,
          "nan_count": 3,
          "categories": [
           {
            "name": "0.0",
            "count": 2
           },
           {
            "name": "Missing",
            "count": 3
           }
          ]
         }
        },
        {
         "name": "2003M1",
         "dtype": "object",
         "stats": {
          "unique_count": 1,
          "nan_count": 4,
          "categories": [
           {
            "name": "0.0",
            "count": 1
           },
           {
            "name": "Missing",
            "count": 4
           }
          ]
         }
        },
        {
         "name": "2003M2",
         "dtype": "float64",
         "stats": {
          "unique_count": 1,
          "nan_count": 4,
          "min": "0.0",
          "max": "0.0",
          "histogram": [
           {
            "bin_start": -0.5,
            "bin_end": -0.4,
            "count": 0
           },
           {
            "bin_start": -0.4,
            "bin_end": -0.3,
            "count": 0
           },
           {
            "bin_start": -0.3,
            "bin_end": -0.19999999999999996,
            "count": 0
           },
           {
            "bin_start": -0.19999999999999996,
            "bin_end": -0.09999999999999998,
            "count": 0
           },
           {
            "bin_start": -0.09999999999999998,
            "bin_end": 0,
            "count": 0
           },
           {
            "bin_start": 0,
            "bin_end": 0.10000000000000009,
            "count": 1
           },
           {
            "bin_start": 0.10000000000000009,
            "bin_end": 0.20000000000000007,
            "count": 0
           },
           {
            "bin_start": 0.20000000000000007,
            "bin_end": 0.30000000000000004,
            "count": 0
           },
           {
            "bin_start": 0.30000000000000004,
            "bin_end": 0.4,
            "count": 0
           },
           {
            "bin_start": 0.4,
            "bin_end": 0.5,
            "count": 0
           }
          ]
         }
        },
        {
         "name": "2003M3",
         "dtype": "float64",
         "stats": {
          "unique_count": 1,
          "nan_count": 4,
          "min": "0.0",
          "max": "0.0",
          "histogram": [
           {
            "bin_start": -0.5,
            "bin_end": -0.4,
            "count": 0
           },
           {
            "bin_start": -0.4,
            "bin_end": -0.3,
            "count": 0
           },
           {
            "bin_start": -0.3,
            "bin_end": -0.19999999999999996,
            "count": 0
           },
           {
            "bin_start": -0.19999999999999996,
            "bin_end": -0.09999999999999998,
            "count": 0
           },
           {
            "bin_start": -0.09999999999999998,
            "bin_end": 0,
            "count": 0
           },
           {
            "bin_start": 0,
            "bin_end": 0.10000000000000009,
            "count": 1
           },
           {
            "bin_start": 0.10000000000000009,
            "bin_end": 0.20000000000000007,
            "count": 0
           },
           {
            "bin_start": 0.20000000000000007,
            "bin_end": 0.30000000000000004,
            "count": 0
           },
           {
            "bin_start": 0.30000000000000004,
            "bin_end": 0.4,
            "count": 0
           },
           {
            "bin_start": 0.4,
            "bin_end": 0.5,
            "count": 0
           }
          ]
         }
        },
        {
         "name": "2003Q2",
         "dtype": "object",
         "stats": {
          "unique_count": 1,
          "nan_count": 3,
          "categories": [
           {
            "name": "0.0",
            "count": 2
           },
           {
            "name": "Missing",
            "count": 3
           }
          ]
         }
        },
        {
         "name": "2003M4",
         "dtype": "object",
         "stats": {
          "unique_count": 1,
          "nan_count": 4,
          "categories": [
           {
            "name": "0.0",
            "count": 1
           },
           {
            "name": "Missing",
            "count": 4
           }
          ]
         }
        },
        {
         "name": "2003M5",
         "dtype": "object",
         "stats": {
          "unique_count": 1,
          "nan_count": 4,
          "categories": [
           {
            "name": "0.0",
            "count": 1
           },
           {
            "name": "Missing",
            "count": 4
           }
          ]
         }
        },
        {
         "name": "2003M6",
         "dtype": "object",
         "stats": {
          "unique_count": 1,
          "nan_count": 4,
          "categories": [
           {
            "name": "0.0",
            "count": 1
           },
           {
            "name": "Missing",
            "count": 4
           }
          ]
         }
        },
        {
         "name": "2003Q3",
         "dtype": "object",
         "stats": {
          "unique_count": 1,
          "nan_count": 3,
          "categories": [
           {
            "name": "0.0",
            "count": 2
           },
           {
            "name": "Missing",
            "count": 3
           }
          ]
         }
        },
        {
         "name": "2003M7",
         "dtype": "object",
         "stats": {
          "unique_count": 1,
          "nan_count": 4,
          "categories": [
           {
            "name": "0.0",
            "count": 1
           },
           {
            "name": "Missing",
            "count": 4
           }
          ]
         }
        },
        {
         "name": "2003M8",
         "dtype": "object",
         "stats": {
          "unique_count": 1,
          "nan_count": 4,
          "categories": [
           {
            "name": "0.0",
            "count": 1
           },
           {
            "name": "Missing",
            "count": 4
           }
          ]
         }
        },
        {
         "name": "2003M9",
         "dtype": "float64",
         "stats": {
          "unique_count": 1,
          "nan_count": 4,
          "min": "0.0",
          "max": "0.0",
          "histogram": [
           {
            "bin_start": -0.5,
            "bin_end": -0.4,
            "count": 0
           },
           {
            "bin_start": -0.4,
            "bin_end": -0.3,
            "count": 0
           },
           {
            "bin_start": -0.3,
            "bin_end": -0.19999999999999996,
            "count": 0
           },
           {
            "bin_start": -0.19999999999999996,
            "bin_end": -0.09999999999999998,
            "count": 0
           },
           {
            "bin_start": -0.09999999999999998,
            "bin_end": 0,
            "count": 0
           },
           {
            "bin_start": 0,
            "bin_end": 0.10000000000000009,
            "count": 1
           },
           {
            "bin_start": 0.10000000000000009,
            "bin_end": 0.20000000000000007,
            "count": 0
           },
           {
            "bin_start": 0.20000000000000007,
            "bin_end": 0.30000000000000004,
            "count": 0
           },
           {
            "bin_start": 0.30000000000000004,
            "bin_end": 0.4,
            "count": 0
           },
           {
            "bin_start": 0.4,
            "bin_end": 0.5,
            "count": 0
           }
          ]
         }
        },
        {
         "name": "2003Q4",
         "dtype": "object",
         "stats": {
          "unique_count": 1,
          "nan_count": 3,
          "categories": [
           {
            "name": "0.0",
            "count": 2
           },
           {
            "name": "Missing",
            "count": 3
           }
          ]
         }
        },
        {
         "name": "2003M10",
         "dtype": "object",
         "stats": {
          "unique_count": 1,
          "nan_count": 4,
          "categories": [
           {
            "name": "0.0",
            "count": 1
           },
           {
            "name": "Missing",
            "count": 4
           }
          ]
         }
        },
        {
         "name": "2003M11",
         "dtype": "float64",
         "stats": {
          "unique_count": 1,
          "nan_count": 4,
          "min": "0.0",
          "max": "0.0",
          "histogram": [
           {
            "bin_start": -0.5,
            "bin_end": -0.4,
            "count": 0
           },
           {
            "bin_start": -0.4,
            "bin_end": -0.3,
            "count": 0
           },
           {
            "bin_start": -0.3,
            "bin_end": -0.19999999999999996,
            "count": 0
           },
           {
            "bin_start": -0.19999999999999996,
            "bin_end": -0.09999999999999998,
            "count": 0
           },
           {
            "bin_start": -0.09999999999999998,
            "bin_end": 0,
            "count": 0
           },
           {
            "bin_start": 0,
            "bin_end": 0.10000000000000009,
            "count": 1
           },
           {
            "bin_start": 0.10000000000000009,
            "bin_end": 0.20000000000000007,
            "count": 0
           },
           {
            "bin_start": 0.20000000000000007,
            "bin_end": 0.30000000000000004,
            "count": 0
           },
           {
            "bin_start": 0.30000000000000004,
            "bin_end": 0.4,
            "count": 0
           },
           {
            "bin_start": 0.4,
            "bin_end": 0.5,
            "count": 0
           }
          ]
         }
        },
        {
         "name": "2003M12",
         "dtype": "object",
         "stats": {
          "unique_count": 1,
          "nan_count": 4,
          "categories": [
           {
            "name": "0.0",
            "count": 1
           },
           {
            "name": "Missing",
            "count": 4
           }
          ]
         }
        },
        {
         "name": "2004",
         "dtype": "object",
         "stats": {
          "unique_count": 1,
          "nan_count": 3,
          "categories": [
           {
            "name": "0.0",
            "count": 2
           },
           {
            "name": "Missing",
            "count": 3
           }
          ]
         }
        },
        {
         "name": "2004Q1",
         "dtype": "object",
         "stats": {
          "unique_count": 1,
          "nan_count": 3,
          "categories": [
           {
            "name": "0.0",
            "count": 2
           },
           {
            "name": "Missing",
            "count": 3
           }
          ]
         }
        },
        {
         "name": "2004M1",
         "dtype": "object",
         "stats": {
          "unique_count": 1,
          "nan_count": 4,
          "categories": [
           {
            "name": "0.0",
            "count": 1
           },
           {
            "name": "Missing",
            "count": 4
           }
          ]
         }
        },
        {
         "name": "2004M2",
         "dtype": "object",
         "stats": {
          "unique_count": 1,
          "nan_count": 4,
          "categories": [
           {
            "name": "0.0",
            "count": 1
           },
           {
            "name": "Missing",
            "count": 4
           }
          ]
         }
        },
        {
         "name": "2004M3",
         "dtype": "object",
         "stats": {
          "unique_count": 1,
          "nan_count": 4,
          "categories": [
           {
            "name": "0.0",
            "count": 1
           },
           {
            "name": "Missing",
            "count": 4
           }
          ]
         }
        },
        {
         "name": "2004Q2",
         "dtype": "object",
         "stats": {
          "unique_count": 1,
          "nan_count": 3,
          "categories": [
           {
            "name": "0.0",
            "count": 2
           },
           {
            "name": "Missing",
            "count": 3
           }
          ]
         }
        },
        {
         "name": "2004M4",
         "dtype": "float64",
         "stats": {
          "unique_count": 1,
          "nan_count": 4,
          "min": "0.0",
          "max": "0.0",
          "histogram": [
           {
            "bin_start": -0.5,
            "bin_end": -0.4,
            "count": 0
           },
           {
            "bin_start": -0.4,
            "bin_end": -0.3,
            "count": 0
           },
           {
            "bin_start": -0.3,
            "bin_end": -0.19999999999999996,
            "count": 0
           },
           {
            "bin_start": -0.19999999999999996,
            "bin_end": -0.09999999999999998,
            "count": 0
           },
           {
            "bin_start": -0.09999999999999998,
            "bin_end": 0,
            "count": 0
           },
           {
            "bin_start": 0,
            "bin_end": 0.10000000000000009,
            "count": 1
           },
           {
            "bin_start": 0.10000000000000009,
            "bin_end": 0.20000000000000007,
            "count": 0
           },
           {
            "bin_start": 0.20000000000000007,
            "bin_end": 0.30000000000000004,
            "count": 0
           },
           {
            "bin_start": 0.30000000000000004,
            "bin_end": 0.4,
            "count": 0
           },
           {
            "bin_start": 0.4,
            "bin_end": 0.5,
            "count": 0
           }
          ]
         }
        },
        {
         "name": "2004M5",
         "dtype": "object",
         "stats": {
          "unique_count": 1,
          "nan_count": 4,
          "categories": [
           {
            "name": "0.0",
            "count": 1
           },
           {
            "name": "Missing",
            "count": 4
           }
          ]
         }
        },
        {
         "name": "2004M6",
         "dtype": "object",
         "stats": {
          "unique_count": 1,
          "nan_count": 4,
          "categories": [
           {
            "name": "0.0",
            "count": 1
           },
           {
            "name": "Missing",
            "count": 4
           }
          ]
         }
        },
        {
         "name": "2004Q3",
         "dtype": "object",
         "stats": {
          "unique_count": 1,
          "nan_count": 3,
          "categories": [
           {
            "name": "0.0",
            "count": 2
           },
           {
            "name": "Missing",
            "count": 3
           }
          ]
         }
        },
        {
         "name": "2004M7",
         "dtype": "object",
         "stats": {
          "unique_count": 1,
          "nan_count": 4,
          "categories": [
           {
            "name": "0.0",
            "count": 1
           },
           {
            "name": "Missing",
            "count": 4
           }
          ]
         }
        },
        {
         "name": "2004M8",
         "dtype": "object",
         "stats": {
          "unique_count": 1,
          "nan_count": 4,
          "categories": [
           {
            "name": "0.0",
            "count": 1
           },
           {
            "name": "Missing",
            "count": 4
           }
          ]
         }
        },
        {
         "name": "2004M9",
         "dtype": "float64",
         "stats": {
          "unique_count": 1,
          "nan_count": 4,
          "min": "0.0",
          "max": "0.0",
          "histogram": [
           {
            "bin_start": -0.5,
            "bin_end": -0.4,
            "count": 0
           },
           {
            "bin_start": -0.4,
            "bin_end": -0.3,
            "count": 0
           },
           {
            "bin_start": -0.3,
            "bin_end": -0.19999999999999996,
            "count": 0
           },
           {
            "bin_start": -0.19999999999999996,
            "bin_end": -0.09999999999999998,
            "count": 0
           },
           {
            "bin_start": -0.09999999999999998,
            "bin_end": 0,
            "count": 0
           },
           {
            "bin_start": 0,
            "bin_end": 0.10000000000000009,
            "count": 1
           },
           {
            "bin_start": 0.10000000000000009,
            "bin_end": 0.20000000000000007,
            "count": 0
           },
           {
            "bin_start": 0.20000000000000007,
            "bin_end": 0.30000000000000004,
            "count": 0
           },
           {
            "bin_start": 0.30000000000000004,
            "bin_end": 0.4,
            "count": 0
           },
           {
            "bin_start": 0.4,
            "bin_end": 0.5,
            "count": 0
           }
          ]
         }
        },
        {
         "name": "2004Q4",
         "dtype": "object",
         "stats": {
          "unique_count": 1,
          "nan_count": 3,
          "categories": [
           {
            "name": "0.0",
            "count": 2
           },
           {
            "name": "Missing",
            "count": 3
           }
          ]
         }
        },
        {
         "name": "2004M10",
         "dtype": "float64",
         "stats": {
          "unique_count": 1,
          "nan_count": 4,
          "min": "0.0",
          "max": "0.0",
          "histogram": [
           {
            "bin_start": -0.5,
            "bin_end": -0.4,
            "count": 0
           },
           {
            "bin_start": -0.4,
            "bin_end": -0.3,
            "count": 0
           },
           {
            "bin_start": -0.3,
            "bin_end": -0.19999999999999996,
            "count": 0
           },
           {
            "bin_start": -0.19999999999999996,
            "bin_end": -0.09999999999999998,
            "count": 0
           },
           {
            "bin_start": -0.09999999999999998,
            "bin_end": 0,
            "count": 0
           },
           {
            "bin_start": 0,
            "bin_end": 0.10000000000000009,
            "count": 1
           },
           {
            "bin_start": 0.10000000000000009,
            "bin_end": 0.20000000000000007,
            "count": 0
           },
           {
            "bin_start": 0.20000000000000007,
            "bin_end": 0.30000000000000004,
            "count": 0
           },
           {
            "bin_start": 0.30000000000000004,
            "bin_end": 0.4,
            "count": 0
           },
           {
            "bin_start": 0.4,
            "bin_end": 0.5,
            "count": 0
           }
          ]
         }
        },
        {
         "name": "2004M11",
         "dtype": "float64",
         "stats": {
          "unique_count": 1,
          "nan_count": 4,
          "min": "0.0",
          "max": "0.0",
          "histogram": [
           {
            "bin_start": -0.5,
            "bin_end": -0.4,
            "count": 0
           },
           {
            "bin_start": -0.4,
            "bin_end": -0.3,
            "count": 0
           },
           {
            "bin_start": -0.3,
            "bin_end": -0.19999999999999996,
            "count": 0
           },
           {
            "bin_start": -0.19999999999999996,
            "bin_end": -0.09999999999999998,
            "count": 0
           },
           {
            "bin_start": -0.09999999999999998,
            "bin_end": 0,
            "count": 0
           },
           {
            "bin_start": 0,
            "bin_end": 0.10000000000000009,
            "count": 1
           },
           {
            "bin_start": 0.10000000000000009,
            "bin_end": 0.20000000000000007,
            "count": 0
           },
           {
            "bin_start": 0.20000000000000007,
            "bin_end": 0.30000000000000004,
            "count": 0
           },
           {
            "bin_start": 0.30000000000000004,
            "bin_end": 0.4,
            "count": 0
           },
           {
            "bin_start": 0.4,
            "bin_end": 0.5,
            "count": 0
           }
          ]
         }
        },
        {
         "name": "2004M12",
         "dtype": "object",
         "stats": {
          "unique_count": 1,
          "nan_count": 4,
          "categories": [
           {
            "name": "0.0",
            "count": 1
           },
           {
            "name": "Missing",
            "count": 4
           }
          ]
         }
        },
        {
         "name": "2005",
         "dtype": "object",
         "stats": {
          "unique_count": 1,
          "nan_count": 3,
          "categories": [
           {
            "name": "0.0",
            "count": 2
           },
           {
            "name": "Missing",
            "count": 3
           }
          ]
         }
        },
        {
         "name": "2005Q1",
         "dtype": "object",
         "stats": {
          "unique_count": 1,
          "nan_count": 3,
          "categories": [
           {
            "name": "0.0",
            "count": 2
           },
           {
            "name": "Missing",
            "count": 3
           }
          ]
         }
        },
        {
         "name": "2005M1",
         "dtype": "object",
         "stats": {
          "unique_count": 1,
          "nan_count": 4,
          "categories": [
           {
            "name": "0.0",
            "count": 1
           },
           {
            "name": "Missing",
            "count": 4
           }
          ]
         }
        },
        {
         "name": "2005M2",
         "dtype": "object",
         "stats": {
          "unique_count": 1,
          "nan_count": 4,
          "categories": [
           {
            "name": "0.0",
            "count": 1
           },
           {
            "name": "Missing",
            "count": 4
           }
          ]
         }
        },
        {
         "name": "2005M3",
         "dtype": "float64",
         "stats": {
          "unique_count": 1,
          "nan_count": 4,
          "min": "0.0",
          "max": "0.0",
          "histogram": [
           {
            "bin_start": -0.5,
            "bin_end": -0.4,
            "count": 0
           },
           {
            "bin_start": -0.4,
            "bin_end": -0.3,
            "count": 0
           },
           {
            "bin_start": -0.3,
            "bin_end": -0.19999999999999996,
            "count": 0
           },
           {
            "bin_start": -0.19999999999999996,
            "bin_end": -0.09999999999999998,
            "count": 0
           },
           {
            "bin_start": -0.09999999999999998,
            "bin_end": 0,
            "count": 0
           },
           {
            "bin_start": 0,
            "bin_end": 0.10000000000000009,
            "count": 1
           },
           {
            "bin_start": 0.10000000000000009,
            "bin_end": 0.20000000000000007,
            "count": 0
           },
           {
            "bin_start": 0.20000000000000007,
            "bin_end": 0.30000000000000004,
            "count": 0
           },
           {
            "bin_start": 0.30000000000000004,
            "bin_end": 0.4,
            "count": 0
           },
           {
            "bin_start": 0.4,
            "bin_end": 0.5,
            "count": 0
           }
          ]
         }
        },
        {
         "name": "2005Q2",
         "dtype": "object",
         "stats": {
          "unique_count": 1,
          "nan_count": 3,
          "categories": [
           {
            "name": "0.0",
            "count": 2
           },
           {
            "name": "Missing",
            "count": 3
           }
          ]
         }
        },
        {
         "name": "2005M4",
         "dtype": "float64",
         "stats": {
          "unique_count": 1,
          "nan_count": 4,
          "min": "0.0",
          "max": "0.0",
          "histogram": [
           {
            "bin_start": -0.5,
            "bin_end": -0.4,
            "count": 0
           },
           {
            "bin_start": -0.4,
            "bin_end": -0.3,
            "count": 0
           },
           {
            "bin_start": -0.3,
            "bin_end": -0.19999999999999996,
            "count": 0
           },
           {
            "bin_start": -0.19999999999999996,
            "bin_end": -0.09999999999999998,
            "count": 0
           },
           {
            "bin_start": -0.09999999999999998,
            "bin_end": 0,
            "count": 0
           },
           {
            "bin_start": 0,
            "bin_end": 0.10000000000000009,
            "count": 1
           },
           {
            "bin_start": 0.10000000000000009,
            "bin_end": 0.20000000000000007,
            "count": 0
           },
           {
            "bin_start": 0.20000000000000007,
            "bin_end": 0.30000000000000004,
            "count": 0
           },
           {
            "bin_start": 0.30000000000000004,
            "bin_end": 0.4,
            "count": 0
           },
           {
            "bin_start": 0.4,
            "bin_end": 0.5,
            "count": 0
           }
          ]
         }
        },
        {
         "name": "2005M5",
         "dtype": "float64",
         "stats": {
          "unique_count": 1,
          "nan_count": 4,
          "min": "0.0",
          "max": "0.0",
          "histogram": [
           {
            "bin_start": -0.5,
            "bin_end": -0.4,
            "count": 0
           },
           {
            "bin_start": -0.4,
            "bin_end": -0.3,
            "count": 0
           },
           {
            "bin_start": -0.3,
            "bin_end": -0.19999999999999996,
            "count": 0
           },
           {
            "bin_start": -0.19999999999999996,
            "bin_end": -0.09999999999999998,
            "count": 0
           },
           {
            "bin_start": -0.09999999999999998,
            "bin_end": 0,
            "count": 0
           },
           {
            "bin_start": 0,
            "bin_end": 0.10000000000000009,
            "count": 1
           },
           {
            "bin_start": 0.10000000000000009,
            "bin_end": 0.20000000000000007,
            "count": 0
           },
           {
            "bin_start": 0.20000000000000007,
            "bin_end": 0.30000000000000004,
            "count": 0
           },
           {
            "bin_start": 0.30000000000000004,
            "bin_end": 0.4,
            "count": 0
           },
           {
            "bin_start": 0.4,
            "bin_end": 0.5,
            "count": 0
           }
          ]
         }
        },
        {
         "name": "2005M6",
         "dtype": "object",
         "stats": {
          "unique_count": 1,
          "nan_count": 4,
          "categories": [
           {
            "name": "0.0",
            "count": 1
           },
           {
            "name": "Missing",
            "count": 4
           }
          ]
         }
        },
        {
         "name": "2005Q3",
         "dtype": "object",
         "stats": {
          "unique_count": 1,
          "nan_count": 3,
          "categories": [
           {
            "name": "0.0",
            "count": 2
           },
           {
            "name": "Missing",
            "count": 3
           }
          ]
         }
        },
        {
         "name": "2005M7",
         "dtype": "object",
         "stats": {
          "unique_count": 1,
          "nan_count": 4,
          "categories": [
           {
            "name": "0.0",
            "count": 1
           },
           {
            "name": "Missing",
            "count": 4
           }
          ]
         }
        },
        {
         "name": "2005M8",
         "dtype": "float64",
         "stats": {
          "unique_count": 1,
          "nan_count": 4,
          "min": "0.0",
          "max": "0.0",
          "histogram": [
           {
            "bin_start": -0.5,
            "bin_end": -0.4,
            "count": 0
           },
           {
            "bin_start": -0.4,
            "bin_end": -0.3,
            "count": 0
           },
           {
            "bin_start": -0.3,
            "bin_end": -0.19999999999999996,
            "count": 0
           },
           {
            "bin_start": -0.19999999999999996,
            "bin_end": -0.09999999999999998,
            "count": 0
           },
           {
            "bin_start": -0.09999999999999998,
            "bin_end": 0,
            "count": 0
           },
           {
            "bin_start": 0,
            "bin_end": 0.10000000000000009,
            "count": 1
           },
           {
            "bin_start": 0.10000000000000009,
            "bin_end": 0.20000000000000007,
            "count": 0
           },
           {
            "bin_start": 0.20000000000000007,
            "bin_end": 0.30000000000000004,
            "count": 0
           },
           {
            "bin_start": 0.30000000000000004,
            "bin_end": 0.4,
            "count": 0
           },
           {
            "bin_start": 0.4,
            "bin_end": 0.5,
            "count": 0
           }
          ]
         }
        },
        {
         "name": "2005M9",
         "dtype": "float64",
         "stats": {
          "unique_count": 1,
          "nan_count": 4,
          "min": "0.0",
          "max": "0.0",
          "histogram": [
           {
            "bin_start": -0.5,
            "bin_end": -0.4,
            "count": 0
           },
           {
            "bin_start": -0.4,
            "bin_end": -0.3,
            "count": 0
           },
           {
            "bin_start": -0.3,
            "bin_end": -0.19999999999999996,
            "count": 0
           },
           {
            "bin_start": -0.19999999999999996,
            "bin_end": -0.09999999999999998,
            "count": 0
           },
           {
            "bin_start": -0.09999999999999998,
            "bin_end": 0,
            "count": 0
           },
           {
            "bin_start": 0,
            "bin_end": 0.10000000000000009,
            "count": 1
           },
           {
            "bin_start": 0.10000000000000009,
            "bin_end": 0.20000000000000007,
            "count": 0
           },
           {
            "bin_start": 0.20000000000000007,
            "bin_end": 0.30000000000000004,
            "count": 0
           },
           {
            "bin_start": 0.30000000000000004,
            "bin_end": 0.4,
            "count": 0
           },
           {
            "bin_start": 0.4,
            "bin_end": 0.5,
            "count": 0
           }
          ]
         }
        },
        {
         "name": "2005Q4",
         "dtype": "object",
         "stats": {
          "unique_count": 1,
          "nan_count": 3,
          "categories": [
           {
            "name": "0.0",
            "count": 2
           },
           {
            "name": "Missing",
            "count": 3
           }
          ]
         }
        },
        {
         "name": "2005M10",
         "dtype": "float64",
         "stats": {
          "unique_count": 1,
          "nan_count": 4,
          "min": "0.0",
          "max": "0.0",
          "histogram": [
           {
            "bin_start": -0.5,
            "bin_end": -0.4,
            "count": 0
           },
           {
            "bin_start": -0.4,
            "bin_end": -0.3,
            "count": 0
           },
           {
            "bin_start": -0.3,
            "bin_end": -0.19999999999999996,
            "count": 0
           },
           {
            "bin_start": -0.19999999999999996,
            "bin_end": -0.09999999999999998,
            "count": 0
           },
           {
            "bin_start": -0.09999999999999998,
            "bin_end": 0,
            "count": 0
           },
           {
            "bin_start": 0,
            "bin_end": 0.10000000000000009,
            "count": 1
           },
           {
            "bin_start": 0.10000000000000009,
            "bin_end": 0.20000000000000007,
            "count": 0
           },
           {
            "bin_start": 0.20000000000000007,
            "bin_end": 0.30000000000000004,
            "count": 0
           },
           {
            "bin_start": 0.30000000000000004,
            "bin_end": 0.4,
            "count": 0
           },
           {
            "bin_start": 0.4,
            "bin_end": 0.5,
            "count": 0
           }
          ]
         }
        },
        {
         "name": "2005M11",
         "dtype": "object",
         "stats": {
          "unique_count": 1,
          "nan_count": 4,
          "categories": [
           {
            "name": "0.0",
            "count": 1
           },
           {
            "name": "Missing",
            "count": 4
           }
          ]
         }
        },
        {
         "name": "2005M12",
         "dtype": "object",
         "stats": {
          "unique_count": 1,
          "nan_count": 4,
          "categories": [
           {
            "name": "0.0",
            "count": 1
           },
           {
            "name": "Missing",
            "count": 4
           }
          ]
         }
        },
        {
         "name": "2006",
         "dtype": "object",
         "stats": {
          "unique_count": 1,
          "nan_count": 3,
          "categories": [
           {
            "name": "0.0",
            "count": 2
           },
           {
            "name": "Missing",
            "count": 3
           }
          ]
         }
        },
        {
         "name": "2006Q1",
         "dtype": "object",
         "stats": {
          "unique_count": 1,
          "nan_count": 3,
          "categories": [
           {
            "name": "0.0",
            "count": 2
           },
           {
            "name": "Missing",
            "count": 3
           }
          ]
         }
        },
        {
         "name": "2006M1",
         "dtype": "object",
         "stats": {
          "unique_count": 1,
          "nan_count": 4,
          "categories": [
           {
            "name": "0.0",
            "count": 1
           },
           {
            "name": "Missing",
            "count": 4
           }
          ]
         }
        },
        {
         "name": "2006M2",
         "dtype": "float64",
         "stats": {
          "unique_count": 1,
          "nan_count": 4,
          "min": "0.0",
          "max": "0.0",
          "histogram": [
           {
            "bin_start": -0.5,
            "bin_end": -0.4,
            "count": 0
           },
           {
            "bin_start": -0.4,
            "bin_end": -0.3,
            "count": 0
           },
           {
            "bin_start": -0.3,
            "bin_end": -0.19999999999999996,
            "count": 0
           },
           {
            "bin_start": -0.19999999999999996,
            "bin_end": -0.09999999999999998,
            "count": 0
           },
           {
            "bin_start": -0.09999999999999998,
            "bin_end": 0,
            "count": 0
           },
           {
            "bin_start": 0,
            "bin_end": 0.10000000000000009,
            "count": 1
           },
           {
            "bin_start": 0.10000000000000009,
            "bin_end": 0.20000000000000007,
            "count": 0
           },
           {
            "bin_start": 0.20000000000000007,
            "bin_end": 0.30000000000000004,
            "count": 0
           },
           {
            "bin_start": 0.30000000000000004,
            "bin_end": 0.4,
            "count": 0
           },
           {
            "bin_start": 0.4,
            "bin_end": 0.5,
            "count": 0
           }
          ]
         }
        },
        {
         "name": "2006M3",
         "dtype": "float64",
         "stats": {
          "unique_count": 1,
          "nan_count": 4,
          "min": "0.0",
          "max": "0.0",
          "histogram": [
           {
            "bin_start": -0.5,
            "bin_end": -0.4,
            "count": 0
           },
           {
            "bin_start": -0.4,
            "bin_end": -0.3,
            "count": 0
           },
           {
            "bin_start": -0.3,
            "bin_end": -0.19999999999999996,
            "count": 0
           },
           {
            "bin_start": -0.19999999999999996,
            "bin_end": -0.09999999999999998,
            "count": 0
           },
           {
            "bin_start": -0.09999999999999998,
            "bin_end": 0,
            "count": 0
           },
           {
            "bin_start": 0,
            "bin_end": 0.10000000000000009,
            "count": 1
           },
           {
            "bin_start": 0.10000000000000009,
            "bin_end": 0.20000000000000007,
            "count": 0
           },
           {
            "bin_start": 0.20000000000000007,
            "bin_end": 0.30000000000000004,
            "count": 0
           },
           {
            "bin_start": 0.30000000000000004,
            "bin_end": 0.4,
            "count": 0
           },
           {
            "bin_start": 0.4,
            "bin_end": 0.5,
            "count": 0
           }
          ]
         }
        },
        {
         "name": "2006Q2",
         "dtype": "object",
         "stats": {
          "unique_count": 1,
          "nan_count": 3,
          "categories": [
           {
            "name": "0.0",
            "count": 2
           },
           {
            "name": "Missing",
            "count": 3
           }
          ]
         }
        },
        {
         "name": "2006M4",
         "dtype": "object",
         "stats": {
          "unique_count": 1,
          "nan_count": 4,
          "categories": [
           {
            "name": "0.0",
            "count": 1
           },
           {
            "name": "Missing",
            "count": 4
           }
          ]
         }
        },
        {
         "name": "2006M5",
         "dtype": "float64",
         "stats": {
          "unique_count": 1,
          "nan_count": 4,
          "min": "0.0",
          "max": "0.0",
          "histogram": [
           {
            "bin_start": -0.5,
            "bin_end": -0.4,
            "count": 0
           },
           {
            "bin_start": -0.4,
            "bin_end": -0.3,
            "count": 0
           },
           {
            "bin_start": -0.3,
            "bin_end": -0.19999999999999996,
            "count": 0
           },
           {
            "bin_start": -0.19999999999999996,
            "bin_end": -0.09999999999999998,
            "count": 0
           },
           {
            "bin_start": -0.09999999999999998,
            "bin_end": 0,
            "count": 0
           },
           {
            "bin_start": 0,
            "bin_end": 0.10000000000000009,
            "count": 1
           },
           {
            "bin_start": 0.10000000000000009,
            "bin_end": 0.20000000000000007,
            "count": 0
           },
           {
            "bin_start": 0.20000000000000007,
            "bin_end": 0.30000000000000004,
            "count": 0
           },
           {
            "bin_start": 0.30000000000000004,
            "bin_end": 0.4,
            "count": 0
           },
           {
            "bin_start": 0.4,
            "bin_end": 0.5,
            "count": 0
           }
          ]
         }
        },
        {
         "name": "2006M6",
         "dtype": "float64",
         "stats": {
          "unique_count": 1,
          "nan_count": 4,
          "min": "0.0",
          "max": "0.0",
          "histogram": [
           {
            "bin_start": -0.5,
            "bin_end": -0.4,
            "count": 0
           },
           {
            "bin_start": -0.4,
            "bin_end": -0.3,
            "count": 0
           },
           {
            "bin_start": -0.3,
            "bin_end": -0.19999999999999996,
            "count": 0
           },
           {
            "bin_start": -0.19999999999999996,
            "bin_end": -0.09999999999999998,
            "count": 0
           },
           {
            "bin_start": -0.09999999999999998,
            "bin_end": 0,
            "count": 0
           },
           {
            "bin_start": 0,
            "bin_end": 0.10000000000000009,
            "count": 1
           },
           {
            "bin_start": 0.10000000000000009,
            "bin_end": 0.20000000000000007,
            "count": 0
           },
           {
            "bin_start": 0.20000000000000007,
            "bin_end": 0.30000000000000004,
            "count": 0
           },
           {
            "bin_start": 0.30000000000000004,
            "bin_end": 0.4,
            "count": 0
           },
           {
            "bin_start": 0.4,
            "bin_end": 0.5,
            "count": 0
           }
          ]
         }
        },
        {
         "name": "2006Q3",
         "dtype": "object",
         "stats": {
          "unique_count": 1,
          "nan_count": 3,
          "categories": [
           {
            "name": "0.0",
            "count": 2
           },
           {
            "name": "Missing",
            "count": 3
           }
          ]
         }
        },
        {
         "name": "2006M7",
         "dtype": "object",
         "stats": {
          "unique_count": 1,
          "nan_count": 4,
          "categories": [
           {
            "name": "0.0",
            "count": 1
           },
           {
            "name": "Missing",
            "count": 4
           }
          ]
         }
        },
        {
         "name": "2006M8",
         "dtype": "object",
         "stats": {
          "unique_count": 1,
          "nan_count": 4,
          "categories": [
           {
            "name": "0.0",
            "count": 1
           },
           {
            "name": "Missing",
            "count": 4
           }
          ]
         }
        },
        {
         "name": "2006M9",
         "dtype": "object",
         "stats": {
          "unique_count": 1,
          "nan_count": 4,
          "categories": [
           {
            "name": "0.0",
            "count": 1
           },
           {
            "name": "Missing",
            "count": 4
           }
          ]
         }
        },
        {
         "name": "2006Q4",
         "dtype": "object",
         "stats": {
          "unique_count": 1,
          "nan_count": 3,
          "categories": [
           {
            "name": "0.0",
            "count": 2
           },
           {
            "name": "Missing",
            "count": 3
           }
          ]
         }
        },
        {
         "name": "2006M10",
         "dtype": "object",
         "stats": {
          "unique_count": 1,
          "nan_count": 4,
          "categories": [
           {
            "name": "0.0",
            "count": 1
           },
           {
            "name": "Missing",
            "count": 4
           }
          ]
         }
        },
        {
         "name": "2006M11",
         "dtype": "float64",
         "stats": {
          "unique_count": 1,
          "nan_count": 4,
          "min": "0.0",
          "max": "0.0",
          "histogram": [
           {
            "bin_start": -0.5,
            "bin_end": -0.4,
            "count": 0
           },
           {
            "bin_start": -0.4,
            "bin_end": -0.3,
            "count": 0
           },
           {
            "bin_start": -0.3,
            "bin_end": -0.19999999999999996,
            "count": 0
           },
           {
            "bin_start": -0.19999999999999996,
            "bin_end": -0.09999999999999998,
            "count": 0
           },
           {
            "bin_start": -0.09999999999999998,
            "bin_end": 0,
            "count": 0
           },
           {
            "bin_start": 0,
            "bin_end": 0.10000000000000009,
            "count": 1
           },
           {
            "bin_start": 0.10000000000000009,
            "bin_end": 0.20000000000000007,
            "count": 0
           },
           {
            "bin_start": 0.20000000000000007,
            "bin_end": 0.30000000000000004,
            "count": 0
           },
           {
            "bin_start": 0.30000000000000004,
            "bin_end": 0.4,
            "count": 0
           },
           {
            "bin_start": 0.4,
            "bin_end": 0.5,
            "count": 0
           }
          ]
         }
        },
        {
         "name": "2006M12",
         "dtype": "object",
         "stats": {
          "unique_count": 1,
          "nan_count": 4,
          "categories": [
           {
            "name": "0.0",
            "count": 1
           },
           {
            "name": "Missing",
            "count": 4
           }
          ]
         }
        },
        {
         "name": "2007",
         "dtype": "object",
         "stats": {
          "unique_count": 2,
          "nan_count": 3,
          "categories": [
           {
            "name": "35800000",
            "count": 1
           },
           {
            "name": "0",
            "count": 1
           },
           {
            "name": "Missing",
            "count": 3
           }
          ]
         }
        },
        {
         "name": "2007Q1",
         "dtype": "object",
         "stats": {
          "unique_count": 2,
          "nan_count": 3,
          "categories": [
           {
            "name": "24500000",
            "count": 1
           },
           {
            "name": "0",
            "count": 1
           },
           {
            "name": "Missing",
            "count": 3
           }
          ]
         }
        },
        {
         "name": "2007M1",
         "dtype": "object",
         "stats": {
          "unique_count": 1,
          "nan_count": 4,
          "categories": [
           {
            "name": "13200000",
            "count": 1
           },
           {
            "name": "Missing",
            "count": 4
           }
          ]
         }
        },
        {
         "name": "2007M2",
         "dtype": "object",
         "stats": {
          "unique_count": 1,
          "nan_count": 4,
          "categories": [
           {
            "name": "13200000.0",
            "count": 1
           },
           {
            "name": "Missing",
            "count": 4
           }
          ]
         }
        },
        {
         "name": "2007M3",
         "dtype": "object",
         "stats": {
          "unique_count": 1,
          "nan_count": 4,
          "categories": [
           {
            "name": "24500000.0",
            "count": 1
           },
           {
            "name": "Missing",
            "count": 4
           }
          ]
         }
        },
        {
         "name": "2007Q2",
         "dtype": "object",
         "stats": {
          "unique_count": 2,
          "nan_count": 3,
          "categories": [
           {
            "name": "24500000.0",
            "count": 1
           },
           {
            "name": "0.0",
            "count": 1
           },
           {
            "name": "Missing",
            "count": 3
           }
          ]
         }
        },
        {
         "name": "2007M4",
         "dtype": "float64",
         "stats": {
          "unique_count": 1,
          "nan_count": 4,
          "min": "24500000.0",
          "max": "24500000.0",
          "histogram": [
           {
            "bin_start": 24499999.5,
            "bin_end": 24499999.6,
            "count": 0
           },
           {
            "bin_start": 24499999.6,
            "bin_end": 24499999.7,
            "count": 0
           },
           {
            "bin_start": 24499999.7,
            "bin_end": 24499999.8,
            "count": 0
           },
           {
            "bin_start": 24499999.8,
            "bin_end": 24499999.9,
            "count": 0
           },
           {
            "bin_start": 24499999.9,
            "bin_end": 24500000,
            "count": 0
           },
           {
            "bin_start": 24500000,
            "bin_end": 24500000.1,
            "count": 1
           },
           {
            "bin_start": 24500000.1,
            "bin_end": 24500000.2,
            "count": 0
           },
           {
            "bin_start": 24500000.2,
            "bin_end": 24500000.3,
            "count": 0
           },
           {
            "bin_start": 24500000.3,
            "bin_end": 24500000.4,
            "count": 0
           },
           {
            "bin_start": 24500000.4,
            "bin_end": 24500000.5,
            "count": 0
           }
          ]
         }
        },
        {
         "name": "2007M5",
         "dtype": "object",
         "stats": {
          "unique_count": 1,
          "nan_count": 4,
          "categories": [
           {
            "name": "24500000.0",
            "count": 1
           },
           {
            "name": "Missing",
            "count": 4
           }
          ]
         }
        },
        {
         "name": "2007M6",
         "dtype": "float64",
         "stats": {
          "unique_count": 1,
          "nan_count": 4,
          "min": "24500000.0",
          "max": "24500000.0",
          "histogram": [
           {
            "bin_start": 24499999.5,
            "bin_end": 24499999.6,
            "count": 0
           },
           {
            "bin_start": 24499999.6,
            "bin_end": 24499999.7,
            "count": 0
           },
           {
            "bin_start": 24499999.7,
            "bin_end": 24499999.8,
            "count": 0
           },
           {
            "bin_start": 24499999.8,
            "bin_end": 24499999.9,
            "count": 0
           },
           {
            "bin_start": 24499999.9,
            "bin_end": 24500000,
            "count": 0
           },
           {
            "bin_start": 24500000,
            "bin_end": 24500000.1,
            "count": 1
           },
           {
            "bin_start": 24500000.1,
            "bin_end": 24500000.2,
            "count": 0
           },
           {
            "bin_start": 24500000.2,
            "bin_end": 24500000.3,
            "count": 0
           },
           {
            "bin_start": 24500000.3,
            "bin_end": 24500000.4,
            "count": 0
           },
           {
            "bin_start": 24500000.4,
            "bin_end": 24500000.5,
            "count": 0
           }
          ]
         }
        },
        {
         "name": "2007Q3",
         "dtype": "object",
         "stats": {
          "unique_count": 2,
          "nan_count": 3,
          "categories": [
           {
            "name": "35800000.0",
            "count": 1
           },
           {
            "name": "0.0",
            "count": 1
           },
           {
            "name": "Missing",
            "count": 3
           }
          ]
         }
        },
        {
         "name": "2007M7",
         "dtype": "object",
         "stats": {
          "unique_count": 1,
          "nan_count": 4,
          "categories": [
           {
            "name": "35800000.0",
            "count": 1
           },
           {
            "name": "Missing",
            "count": 4
           }
          ]
         }
        },
        {
         "name": "2007M8",
         "dtype": "object",
         "stats": {
          "unique_count": 1,
          "nan_count": 4,
          "categories": [
           {
            "name": "35800000.0",
            "count": 1
           },
           {
            "name": "Missing",
            "count": 4
           }
          ]
         }
        },
        {
         "name": "2007M9",
         "dtype": "float64",
         "stats": {
          "unique_count": 1,
          "nan_count": 4,
          "min": "35800000.0",
          "max": "35800000.0",
          "histogram": [
           {
            "bin_start": 35799999.5,
            "bin_end": 35799999.6,
            "count": 0
           },
           {
            "bin_start": 35799999.6,
            "bin_end": 35799999.7,
            "count": 0
           },
           {
            "bin_start": 35799999.7,
            "bin_end": 35799999.8,
            "count": 0
           },
           {
            "bin_start": 35799999.8,
            "bin_end": 35799999.9,
            "count": 0
           },
           {
            "bin_start": 35799999.9,
            "bin_end": 35800000,
            "count": 0
           },
           {
            "bin_start": 35800000,
            "bin_end": 35800000.1,
            "count": 1
           },
           {
            "bin_start": 35800000.1,
            "bin_end": 35800000.2,
            "count": 0
           },
           {
            "bin_start": 35800000.2,
            "bin_end": 35800000.3,
            "count": 0
           },
           {
            "bin_start": 35800000.3,
            "bin_end": 35800000.4,
            "count": 0
           },
           {
            "bin_start": 35800000.4,
            "bin_end": 35800000.5,
            "count": 0
           }
          ]
         }
        },
        {
         "name": "2007Q4",
         "dtype": "object",
         "stats": {
          "unique_count": 2,
          "nan_count": 3,
          "categories": [
           {
            "name": "35800000.0",
            "count": 1
           },
           {
            "name": "0.0",
            "count": 1
           },
           {
            "name": "Missing",
            "count": 3
           }
          ]
         }
        },
        {
         "name": "2007M10",
         "dtype": "float64",
         "stats": {
          "unique_count": 1,
          "nan_count": 4,
          "min": "35800000.0",
          "max": "35800000.0",
          "histogram": [
           {
            "bin_start": 35799999.5,
            "bin_end": 35799999.6,
            "count": 0
           },
           {
            "bin_start": 35799999.6,
            "bin_end": 35799999.7,
            "count": 0
           },
           {
            "bin_start": 35799999.7,
            "bin_end": 35799999.8,
            "count": 0
           },
           {
            "bin_start": 35799999.8,
            "bin_end": 35799999.9,
            "count": 0
           },
           {
            "bin_start": 35799999.9,
            "bin_end": 35800000,
            "count": 0
           },
           {
            "bin_start": 35800000,
            "bin_end": 35800000.1,
            "count": 1
           },
           {
            "bin_start": 35800000.1,
            "bin_end": 35800000.2,
            "count": 0
           },
           {
            "bin_start": 35800000.2,
            "bin_end": 35800000.3,
            "count": 0
           },
           {
            "bin_start": 35800000.3,
            "bin_end": 35800000.4,
            "count": 0
           },
           {
            "bin_start": 35800000.4,
            "bin_end": 35800000.5,
            "count": 0
           }
          ]
         }
        },
        {
         "name": "2007M11",
         "dtype": "object",
         "stats": {
          "unique_count": 1,
          "nan_count": 4,
          "categories": [
           {
            "name": "35800000.0",
            "count": 1
           },
           {
            "name": "Missing",
            "count": 4
           }
          ]
         }
        },
        {
         "name": "2007M12",
         "dtype": "object",
         "stats": {
          "unique_count": 1,
          "nan_count": 4,
          "categories": [
           {
            "name": "35800000.0",
            "count": 1
           },
           {
            "name": "Missing",
            "count": 4
           }
          ]
         }
        },
        {
         "name": "2008",
         "dtype": "object",
         "stats": {
          "unique_count": 2,
          "nan_count": 3,
          "categories": [
           {
            "name": "58400000",
            "count": 1
           },
           {
            "name": "0",
            "count": 1
           },
           {
            "name": "Missing",
            "count": 3
           }
          ]
         }
        },
        {
         "name": "2008Q1",
         "dtype": "object",
         "stats": {
          "unique_count": 2,
          "nan_count": 3,
          "categories": [
           {
            "name": "47100000",
            "count": 1
           },
           {
            "name": "0",
            "count": 1
           },
           {
            "name": "Missing",
            "count": 3
           }
          ]
         }
        },
        {
         "name": "2008M1",
         "dtype": "object",
         "stats": {
          "unique_count": 1,
          "nan_count": 4,
          "categories": [
           {
            "name": "35800000",
            "count": 1
           },
           {
            "name": "Missing",
            "count": 4
           }
          ]
         }
        },
        {
         "name": "2008M2",
         "dtype": "object",
         "stats": {
          "unique_count": 1,
          "nan_count": 4,
          "categories": [
           {
            "name": "47100000.0",
            "count": 1
           },
           {
            "name": "Missing",
            "count": 4
           }
          ]
         }
        },
        {
         "name": "2008M3",
         "dtype": "object",
         "stats": {
          "unique_count": 1,
          "nan_count": 4,
          "categories": [
           {
            "name": "47100000.0",
            "count": 1
           },
           {
            "name": "Missing",
            "count": 4
           }
          ]
         }
        },
        {
         "name": "2008Q2",
         "dtype": "object",
         "stats": {
          "unique_count": 2,
          "nan_count": 3,
          "categories": [
           {
            "name": "47100000",
            "count": 1
           },
           {
            "name": "0",
            "count": 1
           },
           {
            "name": "Missing",
            "count": 3
           }
          ]
         }
        },
        {
         "name": "2008M4",
         "dtype": "object",
         "stats": {
          "unique_count": 1,
          "nan_count": 4,
          "categories": [
           {
            "name": "47100000.0",
            "count": 1
           },
           {
            "name": "Missing",
            "count": 4
           }
          ]
         }
        },
        {
         "name": "2008M5",
         "dtype": "float64",
         "stats": {
          "unique_count": 1,
          "nan_count": 4,
          "min": "47100000.0",
          "max": "47100000.0",
          "histogram": [
           {
            "bin_start": 47099999.5,
            "bin_end": 47099999.6,
            "count": 0
           },
           {
            "bin_start": 47099999.6,
            "bin_end": 47099999.7,
            "count": 0
           },
           {
            "bin_start": 47099999.7,
            "bin_end": 47099999.8,
            "count": 0
           },
           {
            "bin_start": 47099999.8,
            "bin_end": 47099999.9,
            "count": 0
           },
           {
            "bin_start": 47099999.9,
            "bin_end": 47100000,
            "count": 0
           },
           {
            "bin_start": 47100000,
            "bin_end": 47100000.1,
            "count": 1
           },
           {
            "bin_start": 47100000.1,
            "bin_end": 47100000.2,
            "count": 0
           },
           {
            "bin_start": 47100000.2,
            "bin_end": 47100000.3,
            "count": 0
           },
           {
            "bin_start": 47100000.3,
            "bin_end": 47100000.4,
            "count": 0
           },
           {
            "bin_start": 47100000.4,
            "bin_end": 47100000.5,
            "count": 0
           }
          ]
         }
        },
        {
         "name": "2008M6",
         "dtype": "object",
         "stats": {
          "unique_count": 1,
          "nan_count": 4,
          "categories": [
           {
            "name": "47100000.0",
            "count": 1
           },
           {
            "name": "Missing",
            "count": 4
           }
          ]
         }
        },
        {
         "name": "2008Q3",
         "dtype": "object",
         "stats": {
          "unique_count": 2,
          "nan_count": 3,
          "categories": [
           {
            "name": "58400000.0",
            "count": 1
           },
           {
            "name": "0.0",
            "count": 1
           },
           {
            "name": "Missing",
            "count": 3
           }
          ]
         }
        },
        {
         "name": "2008M7",
         "dtype": "object",
         "stats": {
          "unique_count": 1,
          "nan_count": 4,
          "categories": [
           {
            "name": "58400000.0",
            "count": 1
           },
           {
            "name": "Missing",
            "count": 4
           }
          ]
         }
        },
        {
         "name": "2008M8",
         "dtype": "object",
         "stats": {
          "unique_count": 1,
          "nan_count": 4,
          "categories": [
           {
            "name": "58400000.0",
            "count": 1
           },
           {
            "name": "Missing",
            "count": 4
           }
          ]
         }
        },
        {
         "name": "2008M9",
         "dtype": "object",
         "stats": {
          "unique_count": 1,
          "nan_count": 4,
          "categories": [
           {
            "name": "58400000.0",
            "count": 1
           },
           {
            "name": "Missing",
            "count": 4
           }
          ]
         }
        },
        {
         "name": "2008Q4",
         "dtype": "object",
         "stats": {
          "unique_count": 2,
          "nan_count": 3,
          "categories": [
           {
            "name": "58400000.0",
            "count": 1
           },
           {
            "name": "0.0",
            "count": 1
           },
           {
            "name": "Missing",
            "count": 3
           }
          ]
         }
        },
        {
         "name": "2008M10",
         "dtype": "object",
         "stats": {
          "unique_count": 1,
          "nan_count": 4,
          "categories": [
           {
            "name": "58400000.0",
            "count": 1
           },
           {
            "name": "Missing",
            "count": 4
           }
          ]
         }
        },
        {
         "name": "2008M11",
         "dtype": "object",
         "stats": {
          "unique_count": 1,
          "nan_count": 4,
          "categories": [
           {
            "name": "58400000.0",
            "count": 1
           },
           {
            "name": "Missing",
            "count": 4
           }
          ]
         }
        },
        {
         "name": "2008M12",
         "dtype": "object",
         "stats": {
          "unique_count": 1,
          "nan_count": 4,
          "categories": [
           {
            "name": "58400000.0",
            "count": 1
           },
           {
            "name": "Missing",
            "count": 4
           }
          ]
         }
        },
        {
         "name": "2009",
         "dtype": "object",
         "stats": {
          "unique_count": 2,
          "nan_count": 3,
          "categories": [
           {
            "name": "69700000",
            "count": 1
           },
           {
            "name": "0",
            "count": 1
           },
           {
            "name": "Missing",
            "count": 3
           }
          ]
         }
        },
        {
         "name": "2009Q1",
         "dtype": "object",
         "stats": {
          "unique_count": 2,
          "nan_count": 3,
          "categories": [
           {
            "name": "58400000",
            "count": 1
           },
           {
            "name": "0",
            "count": 1
           },
           {
            "name": "Missing",
            "count": 3
           }
          ]
         }
        },
        {
         "name": "_deepnote_index_column",
         "dtype": "int64"
        }
       ],
       "rows_top": [
        {
         "1980": "0.0",
         "1981": "0.0",
         "1982": "0",
         "1983": "0.0",
         "1984": "0.0",
         "1985": "0.0",
         "1986": "0.0",
         "1987": "0.0",
         "1988": "0.0",
         "1989": "0.0",
         "1990": "0",
         "1991": "0.0",
         "1992": "0",
         "1993": "0.0",
         "1994": "0.0",
         "1995": "0",
         "1996": "0.0",
         "1997": "0.0",
         "1998": "0.0",
         "1999": "0",
         "2000": "0.0",
         "2001": "0",
         "2002": "0.0",
         "2003": "0.0",
         "2004": "0.0",
         "2005": "0.0",
         "2006": "0.0",
         "2007": "35800000",
         "2008": "58400000",
         "2009": "69700000",
         "Country Name": "Afghanistan, Islamic Rep. of",
         "Country Code": 512,
         "Indicator Name": "Fund Accounts, UFC & Loans, SDRs",
         "Indicator Code": "HPU_XDR",
         "Attribute": "Value",
         "1980Q1": "nan",
         "1980M1": "nan",
         "1980M2": "nan",
         "1980M3": "nan",
         "1980Q2": "nan",
         "1980M4": "nan",
         "1980M5": "nan",
         "1980M6": "nan",
         "1980Q3": "nan",
         "1980M7": "nan",
         "1980M8": "nan",
         "1980M9": "nan",
         "1980Q4": "nan",
         "1980M10": "nan",
         "1980M11": "nan",
         "1980M12": "nan",
         "1981Q1": "nan",
         "1981M1": "nan",
         "1981M2": "nan",
         "1981M3": "nan",
         "1981Q2": "nan",
         "1981M4": "nan",
         "1981M5": "nan",
         "1981M6": "nan",
         "1981Q3": "nan",
         "1981M7": "nan",
         "1981M8": "nan",
         "1981M9": "nan",
         "1981Q4": "nan",
         "1981M10": "nan",
         "1981M11": "nan",
         "1981M12": "nan",
         "1982Q1": "nan",
         "1982M1": "nan",
         "1982M2": "nan",
         "1982M3": "nan",
         "1982Q2": "nan",
         "1982M4": "nan",
         "1982M5": "nan",
         "1982M6": "nan",
         "1982Q3": "nan",
         "1982M7": "nan",
         "1982M8": "nan",
         "1982M9": "nan",
         "1982Q4": "nan",
         "1982M10": "nan",
         "1982M11": "nan",
         "1982M12": "nan",
         "1983Q1": "nan",
         "1983M1": "nan",
         "1983M2": "nan",
         "1983M3": "nan",
         "1983Q2": "nan",
         "1983M4": "nan",
         "1983M5": "nan",
         "1983M6": "nan",
         "1983Q3": "nan",
         "1983M7": "nan",
         "1983M8": "nan",
         "1983M9": "nan",
         "1983Q4": "nan",
         "1983M10": "nan",
         "1983M11": "nan",
         "1983M12": "nan",
         "1984Q1": "nan",
         "1984M1": "nan",
         "1984M2": "nan",
         "1984M3": "nan",
         "1984Q2": "nan",
         "1984M4": "nan",
         "1984M5": "nan",
         "1984M6": "nan",
         "1984Q3": "nan",
         "1984M7": "nan",
         "1984M8": "nan",
         "1984M9": "nan",
         "1984Q4": "nan",
         "1984M10": "nan",
         "1984M11": "nan",
         "1984M12": "nan",
         "1985Q1": "nan",
         "1985M1": "nan",
         "1985M2": "nan",
         "1985M3": "nan",
         "1985Q2": "nan",
         "1985M4": "nan",
         "1985M5": "nan",
         "1985M6": "nan",
         "1985Q3": "nan",
         "1985M7": "nan",
         "1985M8": "nan",
         "1985M9": "nan",
         "1985Q4": "nan",
         "1985M10": "nan",
         "1985M11": "nan",
         "1985M12": "nan",
         "1986Q1": "nan",
         "1986M1": "nan",
         "1986M2": "nan",
         "1986M3": "nan",
         "1986Q2": "nan",
         "1986M4": "nan",
         "1986M5": "nan",
         "1986M6": "nan",
         "1986Q3": "nan",
         "1986M7": "nan",
         "1986M8": "nan",
         "1986M9": "nan",
         "1986Q4": "nan",
         "1986M10": "nan",
         "1986M11": "nan",
         "1986M12": "nan",
         "1987Q1": "nan",
         "1987M1": "nan",
         "1987M2": "nan",
         "1987M3": "nan",
         "1987Q2": "nan",
         "1987M4": "nan",
         "1987M5": "nan",
         "1987M6": "nan",
         "1987Q3": "nan",
         "1987M7": "nan",
         "1987M8": "nan",
         "1987M9": "nan",
         "1987Q4": "nan",
         "1987M10": "nan",
         "1987M11": "nan",
         "1987M12": "nan",
         "1988Q1": "nan",
         "1988M1": "nan",
         "1988M2": "nan",
         "1988M3": "nan",
         "1988Q2": "nan",
         "1988M4": "nan",
         "1988M5": "nan",
         "1988M6": "nan",
         "1988Q3": "nan",
         "1988M7": "nan",
         "1988M8": "nan",
         "1988M9": "nan",
         "1988Q4": "nan",
         "1988M10": "nan",
         "1988M11": "nan",
         "1988M12": "nan",
         "1989Q1": "nan",
         "1989M1": "nan",
         "1989M2": "nan",
         "1989M3": "nan",
         "1989Q2": "nan",
         "1989M4": "nan",
         "1989M5": "nan",
         "1989M6": "nan",
         "1989Q3": "nan",
         "1989M7": "nan",
         "1989M8": "nan",
         "1989M9": "nan",
         "1989Q4": "nan",
         "1989M10": "nan",
         "1989M11": "nan",
         "1989M12": "nan",
         "1990Q1": "nan",
         "1990M1": "nan",
         "1990M2": "nan",
         "1990M3": "nan",
         "1990Q2": "nan",
         "1990M4": "nan",
         "1990M5": "nan",
         "1990M6": "nan",
         "1990Q3": "nan",
         "1990M7": "nan",
         "1990M8": "nan",
         "1990M9": "nan",
         "1990Q4": "nan",
         "1990M10": "nan",
         "1990M11": "nan",
         "1990M12": "nan",
         "1991Q1": "nan",
         "1991M1": "nan",
         "1991M2": "nan",
         "1991M3": "nan",
         "1991Q2": "nan",
         "1991M4": "nan",
         "1991M5": "nan",
         "1991M6": "nan",
         "1991Q3": "nan",
         "1991M7": "nan",
         "1991M8": "nan",
         "1991M9": "nan",
         "1991Q4": "nan",
         "1991M10": "nan",
         "1991M11": "nan",
         "1991M12": "nan",
         "1992Q1": "nan",
         "1992M1": "nan",
         "1992M2": "nan",
         "1992M3": "nan",
         "1992Q2": "nan",
         "1992M4": "nan",
         "1992M5": "nan",
         "1992M6": "nan",
         "1992Q3": "nan",
         "1992M7": "nan",
         "1992M8": "nan",
         "1992M9": "nan",
         "1992Q4": "nan",
         "1992M10": "nan",
         "1992M11": "nan",
         "1992M12": "nan",
         "1993Q1": "nan",
         "1993M1": "nan",
         "1993M2": "nan",
         "1993M3": "nan",
         "1993Q2": "nan",
         "1993M4": "nan",
         "1993M5": "nan",
         "1993M6": "nan",
         "1993Q3": "nan",
         "1993M7": "nan",
         "1993M8": "nan",
         "1993M9": "nan",
         "1993Q4": "nan",
         "1993M10": "nan",
         "1993M11": "nan",
         "1993M12": "nan",
         "1994Q1": "nan",
         "1994M1": "nan",
         "1994M2": "nan",
         "1994M3": "nan",
         "1994Q2": "nan",
         "1994M4": "nan",
         "1994M5": "nan",
         "1994M6": "nan",
         "1994Q3": "nan",
         "1994M7": "nan",
         "1994M8": "nan",
         "1994M9": "nan",
         "1994Q4": "nan",
         "1994M10": "nan",
         "1994M11": "nan",
         "1994M12": "nan",
         "1995Q1": "nan",
         "1995M1": "nan",
         "1995M2": "nan",
         "1995M3": "nan",
         "1995Q2": "nan",
         "1995M4": "nan",
         "1995M5": "nan",
         "1995M6": "nan",
         "1995Q3": "nan",
         "1995M7": "nan",
         "1995M8": "nan",
         "1995M9": "nan",
         "1995Q4": "nan",
         "1995M10": "nan",
         "1995M11": "nan",
         "1995M12": "nan",
         "1996Q1": "nan",
         "1996M1": "nan",
         "1996M2": "nan",
         "1996M3": "nan",
         "1996Q2": "nan",
         "1996M4": "nan",
         "1996M5": "nan",
         "1996M6": "nan",
         "1996Q3": "nan",
         "1996M7": "nan",
         "1996M8": "nan",
         "1996M9": "nan",
         "1996Q4": "nan",
         "1996M10": "nan",
         "1996M11": "nan",
         "1996M12": "nan",
         "1997Q1": "nan",
         "1997M1": "nan",
         "1997M2": "nan",
         "1997M3": "nan",
         "1997Q2": "nan",
         "1997M4": "nan",
         "1997M5": "nan",
         "1997M6": "nan",
         "1997Q3": "nan",
         "1997M7": "nan",
         "1997M8": "nan",
         "1997M9": "nan",
         "1997Q4": "nan",
         "1997M10": "nan",
         "1997M11": "nan",
         "1997M12": "nan",
         "1998Q1": "nan",
         "1998M1": "nan",
         "1998M2": "nan",
         "1998M3": "nan",
         "1998Q2": "nan",
         "1998M4": "nan",
         "1998M5": "nan",
         "1998M6": "nan",
         "1998Q3": "nan",
         "1998M7": "nan",
         "1998M8": "nan",
         "1998M9": "nan",
         "1998Q4": "nan",
         "1998M10": "nan",
         "1998M11": "nan",
         "1998M12": "nan",
         "1999Q1": "nan",
         "1999M1": "nan",
         "1999M2": "nan",
         "1999M3": "nan",
         "1999Q2": "nan",
         "1999M4": "nan",
         "1999M5": "nan",
         "1999M6": "nan",
         "1999Q3": "nan",
         "1999M7": "nan",
         "1999M8": "nan",
         "1999M9": "nan",
         "1999Q4": "nan",
         "1999M10": "nan",
         "1999M11": "nan",
         "1999M12": "nan",
         "2000Q1": "nan",
         "2000M1": "nan",
         "2000M2": "nan",
         "2000M3": "nan",
         "2000Q2": "nan",
         "2000M4": "nan",
         "2000M5": "nan",
         "2000M6": "nan",
         "2000Q3": "nan",
         "2000M7": "nan",
         "2000M8": "nan",
         "2000M9": "nan",
         "2000Q4": "nan",
         "2000M10": "nan",
         "2000M11": "nan",
         "2000M12": "nan",
         "2001Q1": "nan",
         "2001M1": "nan",
         "2001M2": "nan",
         "2001M3": "nan",
         "2001Q2": "nan",
         "2001M4": "nan",
         "2001M5": "nan",
         "2001M6": "nan",
         "2001Q3": "nan",
         "2001M7": "nan",
         "2001M8": "nan",
         "2001M9": "nan",
         "2001Q4": "nan",
         "2001M10": "nan",
         "2001M11": "nan",
         "2001M12": "nan",
         "2002Q1": "nan",
         "2002M1": "nan",
         "2002M2": "nan",
         "2002M3": "nan",
         "2002Q2": "nan",
         "2002M4": "nan",
         "2002M5": "nan",
         "2002M6": "nan",
         "2002Q3": "nan",
         "2002M7": "nan",
         "2002M8": "nan",
         "2002M9": "nan",
         "2002Q4": "nan",
         "2002M10": "nan",
         "2002M11": "nan",
         "2002M12": "nan",
         "2003Q1": "nan",
         "2003M1": "nan",
         "2003M2": "nan",
         "2003M3": "nan",
         "2003Q2": "nan",
         "2003M4": "nan",
         "2003M5": "nan",
         "2003M6": "nan",
         "2003Q3": "nan",
         "2003M7": "nan",
         "2003M8": "nan",
         "2003M9": "nan",
         "2003Q4": "nan",
         "2003M10": "nan",
         "2003M11": "nan",
         "2003M12": "nan",
         "2004Q1": "nan",
         "2004M1": "nan",
         "2004M2": "nan",
         "2004M3": "nan",
         "2004Q2": "nan",
         "2004M4": "nan",
         "2004M5": "nan",
         "2004M6": "nan",
         "2004Q3": "nan",
         "2004M7": "nan",
         "2004M8": "nan",
         "2004M9": "nan",
         "2004Q4": "nan",
         "2004M10": "nan",
         "2004M11": "nan",
         "2004M12": "nan",
         "2005Q1": "nan",
         "2005M1": "nan",
         "2005M2": "nan",
         "2005M3": "nan",
         "2005Q2": "nan",
         "2005M4": "nan",
         "2005M5": "nan",
         "2005M6": "nan",
         "2005Q3": "nan",
         "2005M7": "nan",
         "2005M8": "nan",
         "2005M9": "nan",
         "2005Q4": "nan",
         "2005M10": "nan",
         "2005M11": "nan",
         "2005M12": "nan",
         "2006Q1": "nan",
         "2006M1": "nan",
         "2006M2": "nan",
         "2006M3": "nan",
         "2006Q2": "nan",
         "2006M4": "nan",
         "2006M5": "nan",
         "2006M6": "nan",
         "2006Q3": "nan",
         "2006M7": "nan",
         "2006M8": "nan",
         "2006M9": "nan",
         "2006Q4": "nan",
         "2006M10": "nan",
         "2006M11": "nan",
         "2006M12": "nan",
         "2007Q1": "nan",
         "2007M1": "nan",
         "2007M2": "nan",
         "2007M3": "nan",
         "2007Q2": "nan",
         "2007M4": "nan",
         "2007M5": "nan",
         "2007M6": "nan",
         "2007Q3": "nan",
         "2007M7": "nan",
         "2007M8": "nan",
         "2007M9": "nan",
         "2007Q4": "nan",
         "2007M10": "nan",
         "2007M11": "nan",
         "2007M12": "nan",
         "2008Q1": "nan",
         "2008M1": "nan",
         "2008M2": "nan",
         "2008M3": "nan",
         "2008Q2": "nan",
         "2008M4": "nan",
         "2008M5": "nan",
         "2008M6": "nan",
         "2008Q3": "nan",
         "2008M7": "nan",
         "2008M8": "nan",
         "2008M9": "nan",
         "2008Q4": "nan",
         "2008M10": "nan",
         "2008M11": "nan",
         "2008M12": "nan",
         "2009Q1": "nan",
         "_deepnote_index_column": 0
        }
       ],
       "rows_bottom": [
        {
         "1980": "nan",
         "1981": "nan",
         "1982": "nan",
         "1983": "nan",
         "1984": "nan",
         "1985": "nan",
         "1986": "nan",
         "1987": "nan",
         "1988": "nan",
         "1989": "nan",
         "1990": "nan",
         "1991": "nan",
         "1992": "nan",
         "1993": "nan",
         "1994": "nan",
         "1995": "nan",
         "1996": "nan",
         "1997": "nan",
         "1998": "nan",
         "1999": "nan",
         "2000": "nan",
         "2001": "nan",
         "2002": "nan",
         "2003": "nan",
         "2004": "nan",
         "2005": "nan",
         "2006": "nan",
         "2007": "nan",
         "2008": "nan",
         "2009": "nan",
         "Country Name": "Advanced Economies",
         "Country Code": 110,
         "Indicator Name": "Fund Accounts, Outstanding Loans, SDRs",
         "Indicator Code": "HPL_XDR",
         "Attribute": "Value",
         "1980Q1": "37550000.0",
         "1980M1": "nan",
         "1980M2": "nan",
         "1980M3": "nan",
         "1980Q2": "33330000.0",
         "1980M4": "nan",
         "1980M5": "nan",
         "1980M6": "nan",
         "1980Q3": "39940000.0",
         "1980M7": "nan",
         "1980M8": "nan",
         "1980M9": "nan",
         "1980Q4": "30600000.0",
         "1980M10": "nan",
         "1980M11": "nan",
         "1980M12": "nan",
         "1981Q1": "29590000.0",
         "1981M1": "nan",
         "1981M2": "nan",
         "1981M3": "nan",
         "1981Q2": "25370000.0",
         "1981M4": "nan",
         "1981M5": "nan",
         "1981M6": "nan",
         "1981Q3": "23500000.0",
         "1981M7": "nan",
         "1981M8": "nan",
         "1981M9": "nan",
         "1981Q4": "21620000.0",
         "1981M10": "nan",
         "1981M11": "nan",
         "1981M12": "nan",
         "1982Q1": "20130000",
         "1982M1": "nan",
         "1982M2": "nan",
         "1982M3": "nan",
         "1982Q2": 17520000,
         "1982M4": "nan",
         "1982M5": "nan",
         "1982M6": "nan",
         "1982Q3": "14910000.0",
         "1982M7": "nan",
         "1982M8": "nan",
         "1982M9": "nan",
         "1982Q4": "12300000.0",
         "1982M10": "nan",
         "1982M11": "nan",
         "1982M12": "nan",
         "1983Q1": "9680000.0",
         "1983M1": "nan",
         "1983M2": "nan",
         "1983M3": "nan",
         "1983Q2": 7950000,
         "1983M4": "nan",
         "1983M5": "nan",
         "1983M6": "nan",
         "1983Q3": "6710000.0",
         "1983M7": "nan",
         "1983M8": "nan",
         "1983M9": "nan",
         "1983Q4": "5470000.0",
         "1983M10": "nan",
         "1983M11": "nan",
         "1983M12": "nan",
         "1984Q1": "4240000.0",
         "1984M1": "nan",
         "1984M2": "nan",
         "1984M3": "nan",
         "1984Q2": "4240000.0",
         "1984M4": "nan",
         "1984M5": "nan",
         "1984M6": "nan",
         "1984Q3": "4240000.0",
         "1984M7": "nan",
         "1984M8": "nan",
         "1984M9": "nan",
         "1984Q4": "3170000.0",
         "1984M10": "nan",
         "1984M11": "nan",
         "1984M12": "nan",
         "1985Q1": "2110000.0",
         "1985M1": "nan",
         "1985M2": "nan",
         "1985M3": "nan",
         "1985Q2": "1050000.0",
         "1985M4": "nan",
         "1985M5": "nan",
         "1985M6": "nan",
         "1985Q3": "0.0",
         "1985M7": "nan",
         "1985M8": "nan",
         "1985M9": "nan",
         "1985Q4": "0.0",
         "1985M10": "nan",
         "1985M11": "nan",
         "1985M12": "nan",
         "1986Q1": "0.0",
         "1986M1": "nan",
         "1986M2": "nan",
         "1986M3": "nan",
         "1986Q2": "0.0",
         "1986M4": "nan",
         "1986M5": "nan",
         "1986M6": "nan",
         "1986Q3": "0.0",
         "1986M7": "nan",
         "1986M8": "nan",
         "1986M9": "nan",
         "1986Q4": "0.0",
         "1986M10": "nan",
         "1986M11": "nan",
         "1986M12": "nan",
         "1987Q1": "0.0",
         "1987M1": "nan",
         "1987M2": "nan",
         "1987M3": "nan",
         "1987Q2": "0.0",
         "1987M4": "nan",
         "1987M5": "nan",
         "1987M6": "nan",
         "1987Q3": "0.0",
         "1987M7": "nan",
         "1987M8": "nan",
         "1987M9": "nan",
         "1987Q4": "0.0",
         "1987M10": "nan",
         "1987M11": "nan",
         "1987M12": "nan",
         "1988Q1": "0.0",
         "1988M1": "nan",
         "1988M2": "nan",
         "1988M3": "nan",
         "1988Q2": "0.0",
         "1988M4": "nan",
         "1988M5": "nan",
         "1988M6": "nan",
         "1988Q3": "0.0",
         "1988M7": "nan",
         "1988M8": "nan",
         "1988M9": "nan",
         "1988Q4": "0.0",
         "1988M10": "nan",
         "1988M11": "nan",
         "1988M12": "nan",
         "1989Q1": "0.0",
         "1989M1": "nan",
         "1989M2": "nan",
         "1989M3": "nan",
         "1989Q2": 0,
         "1989M4": "nan",
         "1989M5": "nan",
         "1989M6": "nan",
         "1989Q3": "0.0",
         "1989M7": "nan",
         "1989M8": "nan",
         "1989M9": "nan",
         "1989Q4": "0.0",
         "1989M10": "nan",
         "1989M11": "nan",
         "1989M12": "nan",
         "1990Q1": "0",
         "1990M1": "nan",
         "1990M2": "nan",
         "1990M3": "nan",
         "1990Q2": "0.0",
         "1990M4": "nan",
         "1990M5": "nan",
         "1990M6": "nan",
         "1990Q3": "0.0",
         "1990M7": "nan",
         "1990M8": "nan",
         "1990M9": "nan",
         "1990Q4": "0.0",
         "1990M10": "nan",
         "1990M11": "nan",
         "1990M12": "nan",
         "1991Q1": "0.0",
         "1991M1": "nan",
         "1991M2": "nan",
         "1991M3": "nan",
         "1991Q2": "0.0",
         "1991M4": "nan",
         "1991M5": "nan",
         "1991M6": "nan",
         "1991Q3": "0.0",
         "1991M7": "nan",
         "1991M8": "nan",
         "1991M9": "nan",
         "1991Q4": "0.0",
         "1991M10": "nan",
         "1991M11": "nan",
         "1991M12": "nan",
         "1992Q1": "0.0",
         "1992M1": "nan",
         "1992M2": "nan",
         "1992M3": "nan",
         "1992Q2": "0.0",
         "1992M4": "nan",
         "1992M5": "nan",
         "1992M6": "nan",
         "1992Q3": "0.0",
         "1992M7": "nan",
         "1992M8": "nan",
         "1992M9": "nan",
         "1992Q4": "0.0",
         "1992M10": "nan",
         "1992M11": "nan",
         "1992M12": "nan",
         "1993Q1": "0.0",
         "1993M1": "nan",
         "1993M2": "nan",
         "1993M3": "nan",
         "1993Q2": "0.0",
         "1993M4": "nan",
         "1993M5": "nan",
         "1993M6": "nan",
         "1993Q3": "0.0",
         "1993M7": "nan",
         "1993M8": "nan",
         "1993M9": "nan",
         "1993Q4": "0.0",
         "1993M10": "nan",
         "1993M11": "nan",
         "1993M12": "nan",
         "1994Q1": "0.0",
         "1994M1": "nan",
         "1994M2": "nan",
         "1994M3": "nan",
         "1994Q2": "0.0",
         "1994M4": "nan",
         "1994M5": "nan",
         "1994M6": "nan",
         "1994Q3": "0.0",
         "1994M7": "nan",
         "1994M8": "nan",
         "1994M9": "nan",
         "1994Q4": "0.0",
         "1994M10": "nan",
         "1994M11": "nan",
         "1994M12": "nan",
         "1995Q1": "0.0",
         "1995M1": "nan",
         "1995M2": "nan",
         "1995M3": "nan",
         "1995Q2": "0.0",
         "1995M4": "nan",
         "1995M5": "nan",
         "1995M6": "nan",
         "1995Q3": "0",
         "1995M7": "nan",
         "1995M8": "nan",
         "1995M9": "nan",
         "1995Q4": 0,
         "1995M10": "nan",
         "1995M11": "nan",
         "1995M12": "nan",
         "1996Q1": "0.0",
         "1996M1": "nan",
         "1996M2": "nan",
         "1996M3": "nan",
         "1996Q2": "0.0",
         "1996M4": "nan",
         "1996M5": "nan",
         "1996M6": "nan",
         "1996Q3": "0.0",
         "1996M7": "nan",
         "1996M8": "nan",
         "1996M9": "nan",
         "1996Q4": 0,
         "1996M10": "nan",
         "1996M11": "nan",
         "1996M12": "nan",
         "1997Q1": "0.0",
         "1997M1": "nan",
         "1997M2": "nan",
         "1997M3": "nan",
         "1997Q2": 0,
         "1997M4": "nan",
         "1997M5": "nan",
         "1997M6": "nan",
         "1997Q3": "0.0",
         "1997M7": "nan",
         "1997M8": "nan",
         "1997M9": "nan",
         "1997Q4": "0.0",
         "1997M10": "nan",
         "1997M11": "nan",
         "1997M12": "nan",
         "1998Q1": "0.0",
         "1998M1": "nan",
         "1998M2": "nan",
         "1998M3": "nan",
         "1998Q2": "0.0",
         "1998M4": "nan",
         "1998M5": "nan",
         "1998M6": "nan",
         "1998Q3": "0.0",
         "1998M7": "nan",
         "1998M8": "nan",
         "1998M9": "nan",
         "1998Q4": "0.0",
         "1998M10": "nan",
         "1998M11": "nan",
         "1998M12": "nan",
         "1999Q1": "0.0",
         "1999M1": "nan",
         "1999M2": "nan",
         "1999M3": "nan",
         "1999Q2": "0.0",
         "1999M4": "nan",
         "1999M5": "nan",
         "1999M6": "nan",
         "1999Q3": "0.0",
         "1999M7": "nan",
         "1999M8": "nan",
         "1999M9": "nan",
         "1999Q4": "0",
         "1999M10": "nan",
         "1999M11": "nan",
         "1999M12": "nan",
         "2000Q1": "0.0",
         "2000M1": "nan",
         "2000M2": "nan",
         "2000M3": "nan",
         "2000Q2": "0.0",
         "2000M4": "nan",
         "2000M5": "nan",
         "2000M6": "nan",
         "2000Q3": "0.0",
         "2000M7": "nan",
         "2000M8": "nan",
         "2000M9": "nan",
         "2000Q4": "0.0",
         "2000M10": "nan",
         "2000M11": "nan",
         "2000M12": "nan",
         "2001Q1": "0",
         "2001M1": "nan",
         "2001M2": "nan",
         "2001M3": "nan",
         "2001Q2": 0,
         "2001M4": "nan",
         "2001M5": "nan",
         "2001M6": "nan",
         "2001Q3": "0.0",
         "2001M7": "nan",
         "2001M8": "nan",
         "2001M9": "nan",
         "2001Q4": "0.0",
         "2001M10": "nan",
         "2001M11": "nan",
         "2001M12": "nan",
         "2002Q1": "0.0",
         "2002M1": "nan",
         "2002M2": "nan",
         "2002M3": "nan",
         "2002Q2": "0.0",
         "2002M4": "nan",
         "2002M5": "nan",
         "2002M6": "nan",
         "2002Q3": "0.0",
         "2002M7": "nan",
         "2002M8": "nan",
         "2002M9": "nan",
         "2002Q4": "0.0",
         "2002M10": "nan",
         "2002M11": "nan",
         "2002M12": "nan",
         "2003Q1": "0.0",
         "2003M1": "nan",
         "2003M2": "nan",
         "2003M3": "nan",
         "2003Q2": "0.0",
         "2003M4": "nan",
         "2003M5": "nan",
         "2003M6": "nan",
         "2003Q3": "0.0",
         "2003M7": "nan",
         "2003M8": "nan",
         "2003M9": "nan",
         "2003Q4": "0.0",
         "2003M10": "nan",
         "2003M11": "nan",
         "2003M12": "nan",
         "2004Q1": "0.0",
         "2004M1": "nan",
         "2004M2": "nan",
         "2004M3": "nan",
         "2004Q2": "0.0",
         "2004M4": "nan",
         "2004M5": "nan",
         "2004M6": "nan",
         "2004Q3": "0.0",
         "2004M7": "nan",
         "2004M8": "nan",
         "2004M9": "nan",
         "2004Q4": "0.0",
         "2004M10": "nan",
         "2004M11": "nan",
         "2004M12": "nan",
         "2005Q1": "0.0",
         "2005M1": "nan",
         "2005M2": "nan",
         "2005M3": "nan",
         "2005Q2": "0.0",
         "2005M4": "nan",
         "2005M5": "nan",
         "2005M6": "nan",
         "2005Q3": "0.0",
         "2005M7": "nan",
         "2005M8": "nan",
         "2005M9": "nan",
         "2005Q4": "0.0",
         "2005M10": "nan",
         "2005M11": "nan",
         "2005M12": "nan",
         "2006Q1": "0.0",
         "2006M1": "nan",
         "2006M2": "nan",
         "2006M3": "nan",
         "2006Q2": "0.0",
         "2006M4": "nan",
         "2006M5": "nan",
         "2006M6": "nan",
         "2006Q3": "0.0",
         "2006M7": "nan",
         "2006M8": "nan",
         "2006M9": "nan",
         "2006Q4": "0.0",
         "2006M10": "nan",
         "2006M11": "nan",
         "2006M12": "nan",
         "2007Q1": "0",
         "2007M1": "nan",
         "2007M2": "nan",
         "2007M3": "nan",
         "2007Q2": "0.0",
         "2007M4": "nan",
         "2007M5": "nan",
         "2007M6": "nan",
         "2007Q3": "0.0",
         "2007M7": "nan",
         "2007M8": "nan",
         "2007M9": "nan",
         "2007Q4": "0.0",
         "2007M10": "nan",
         "2007M11": "nan",
         "2007M12": "nan",
         "2008Q1": "0",
         "2008M1": "nan",
         "2008M2": "nan",
         "2008M3": "nan",
         "2008Q2": "0",
         "2008M4": "nan",
         "2008M5": "nan",
         "2008M6": "nan",
         "2008Q3": "0.0",
         "2008M7": "nan",
         "2008M8": "nan",
         "2008M9": "nan",
         "2008Q4": "0.0",
         "2008M10": "nan",
         "2008M11": "nan",
         "2008M12": "nan",
         "2009Q1": "0",
         "_deepnote_index_column": 4
        }
       ]
      },
      "text/plain": "                   Country Name  Country Code  \\\n0  Afghanistan, Islamic Rep. of           512   \n1  Afghanistan, Islamic Rep. of           512   \n2  Afghanistan, Islamic Rep. of           512   \n3            Advanced Economies           110   \n4            Advanced Economies           110   \n\n                           Indicator Name Indicator Code Attribute  \\\n0        Fund Accounts, UFC & Loans, SDRs        HPU_XDR     Value   \n1        Fund Accounts, UFC & Loans, SDRs        HPU_XDR     Value   \n2        Fund Accounts, UFC & Loans, SDRs        HPU_XDR     Value   \n3  Fund Accounts, Outstanding Loans, SDRs        HPL_XDR     Value   \n4  Fund Accounts, Outstanding Loans, SDRs        HPL_XDR     Value   \n\n         1980      1980Q1 1980M1 1980M2  1980M3  ...      2020M12  2021  \\\n0         0.0         NaN    NaN    NaN     NaN  ...          NaN   NaN   \n1         NaN         0.0    NaN    NaN     NaN  ...          NaN   NaN   \n2         NaN         NaN    0.0    0.0     0.0  ...  281230000.0   NaN   \n3  30600000.0         NaN    NaN    NaN     NaN  ...          NaN   NaN   \n4         NaN  37550000.0    NaN    NaN     NaN  ...          NaN   NaN   \n\n        2021Q1       2021M1       2021M2       2021M3 2021Q2       2021M4  \\\n0          NaN          NaN          NaN          NaN    NaN          NaN   \n1  281230000.0          NaN          NaN          NaN    NaN          NaN   \n2          NaN  281230000.0  281230000.0  281230000.0    NaN  278830000.0   \n3          NaN          NaN          NaN          NaN    NaN          NaN   \n4          0.0          NaN          NaN          NaN    NaN          NaN   \n\n  2021M5 Base Year  \n0    NaN       NaN  \n1    NaN       NaN  \n2    NaN       NaN  \n3    NaN       NaN  \n4    NaN       NaN  \n\n[5 rows x 711 columns]",
      "text/html": "<div>\n<style scoped>\n    .dataframe tbody tr th:only-of-type {\n        vertical-align: middle;\n    }\n\n    .dataframe tbody tr th {\n        vertical-align: top;\n    }\n\n    .dataframe thead th {\n        text-align: right;\n    }\n</style>\n<table border=\"1\" class=\"dataframe\">\n  <thead>\n    <tr style=\"text-align: right;\">\n      <th></th>\n      <th>Country Name</th>\n      <th>Country Code</th>\n      <th>Indicator Name</th>\n      <th>Indicator Code</th>\n      <th>Attribute</th>\n      <th>1980</th>\n      <th>1980Q1</th>\n      <th>1980M1</th>\n      <th>1980M2</th>\n      <th>1980M3</th>\n      <th>...</th>\n      <th>2020M12</th>\n      <th>2021</th>\n      <th>2021Q1</th>\n      <th>2021M1</th>\n      <th>2021M2</th>\n      <th>2021M3</th>\n      <th>2021Q2</th>\n      <th>2021M4</th>\n      <th>2021M5</th>\n      <th>Base Year</th>\n    </tr>\n  </thead>\n  <tbody>\n    <tr>\n      <th>0</th>\n      <td>Afghanistan, Islamic Rep. of</td>\n      <td>512</td>\n      <td>Fund Accounts, UFC &amp; Loans, SDRs</td>\n      <td>HPU_XDR</td>\n      <td>Value</td>\n      <td>0.0</td>\n      <td>NaN</td>\n      <td>NaN</td>\n      <td>NaN</td>\n      <td>NaN</td>\n      <td>...</td>\n      <td>NaN</td>\n      <td>NaN</td>\n      <td>NaN</td>\n      <td>NaN</td>\n      <td>NaN</td>\n      <td>NaN</td>\n      <td>NaN</td>\n      <td>NaN</td>\n      <td>NaN</td>\n      <td>NaN</td>\n    </tr>\n    <tr>\n      <th>1</th>\n      <td>Afghanistan, Islamic Rep. of</td>\n      <td>512</td>\n      <td>Fund Accounts, UFC &amp; Loans, SDRs</td>\n      <td>HPU_XDR</td>\n      <td>Value</td>\n      <td>NaN</td>\n      <td>0.0</td>\n      <td>NaN</td>\n      <td>NaN</td>\n      <td>NaN</td>\n      <td>...</td>\n      <td>NaN</td>\n      <td>NaN</td>\n      <td>281230000.0</td>\n      <td>NaN</td>\n      <td>NaN</td>\n      <td>NaN</td>\n      <td>NaN</td>\n      <td>NaN</td>\n      <td>NaN</td>\n      <td>NaN</td>\n    </tr>\n    <tr>\n      <th>2</th>\n      <td>Afghanistan, Islamic Rep. of</td>\n      <td>512</td>\n      <td>Fund Accounts, UFC &amp; Loans, SDRs</td>\n      <td>HPU_XDR</td>\n      <td>Value</td>\n      <td>NaN</td>\n      <td>NaN</td>\n      <td>0.0</td>\n      <td>0.0</td>\n      <td>0.0</td>\n      <td>...</td>\n      <td>281230000.0</td>\n      <td>NaN</td>\n      <td>NaN</td>\n      <td>281230000.0</td>\n      <td>281230000.0</td>\n      <td>281230000.0</td>\n      <td>NaN</td>\n      <td>278830000.0</td>\n      <td>NaN</td>\n      <td>NaN</td>\n    </tr>\n    <tr>\n      <th>3</th>\n      <td>Advanced Economies</td>\n      <td>110</td>\n      <td>Fund Accounts, Outstanding Loans, SDRs</td>\n      <td>HPL_XDR</td>\n      <td>Value</td>\n      <td>30600000.0</td>\n      <td>NaN</td>\n      <td>NaN</td>\n      <td>NaN</td>\n      <td>NaN</td>\n      <td>...</td>\n      <td>NaN</td>\n      <td>NaN</td>\n      <td>NaN</td>\n      <td>NaN</td>\n      <td>NaN</td>\n      <td>NaN</td>\n      <td>NaN</td>\n      <td>NaN</td>\n      <td>NaN</td>\n      <td>NaN</td>\n    </tr>\n    <tr>\n      <th>4</th>\n      <td>Advanced Economies</td>\n      <td>110</td>\n      <td>Fund Accounts, Outstanding Loans, SDRs</td>\n      <td>HPL_XDR</td>\n      <td>Value</td>\n      <td>NaN</td>\n      <td>37550000.0</td>\n      <td>NaN</td>\n      <td>NaN</td>\n      <td>NaN</td>\n      <td>...</td>\n      <td>NaN</td>\n      <td>NaN</td>\n      <td>0.0</td>\n      <td>NaN</td>\n      <td>NaN</td>\n      <td>NaN</td>\n      <td>NaN</td>\n      <td>NaN</td>\n      <td>NaN</td>\n      <td>NaN</td>\n    </tr>\n  </tbody>\n</table>\n<p>5 rows × 711 columns</p>\n</div>"
     },
     "metadata": {}
    }
   ]
  },
  {
   "cell_type": "code",
   "metadata": {
    "tags": [],
    "cell_id": "00022-dd905e27-3c06-4669-bad3-9fdf63a80d63",
    "deepnote_to_be_reexecuted": false,
    "source_hash": "e8be7c7d",
    "execution_start": 1624725040432,
    "execution_millis": 244,
    "output_cleared": false,
    "deepnote_cell_type": "code"
   },
   "source": "Countries = ['Thailand', 'South Africa', 'Turkey']\n\nIMF_Indicators =['FILR_PA'\n                ,'RAXGFX_USD'\n                ,'NM_XDC' \n                ,'TMG_CIF_USD'\n                ,'TXG_FOB_USD'\n                ,'IAP_BP6_USD']\nX = clean_IFS_data(IFS_DB, countries = Countries, date_from = 1980, Series_Codes = IMF_Indicators , date_to = 2002, frequency = 'Q' )\nX.head(100)",
   "execution_count": 29,
   "outputs": [
    {
     "output_type": "execute_result",
     "execution_count": 29,
     "data": {
      "application/vnd.deepnote.dataframe.v2+json": {
       "row_count": 100,
       "column_count": 9,
       "columns": [
        {
         "name": "Year",
         "dtype": "object",
         "stats": {
          "unique_count": 34,
          "nan_count": 0,
          "categories": [
           {
            "name": "1980Q1",
            "count": 3
           },
           {
            "name": "1980Q2",
            "count": 3
           },
           {
            "name": "32 others",
            "count": 94
           }
          ]
         }
        },
        {
         "name": "Country Name",
         "dtype": "object",
         "stats": {
          "unique_count": 3,
          "nan_count": 0,
          "categories": [
           {
            "name": "South Africa",
            "count": 34
           },
           {
            "name": "Thailand",
            "count": 33
           },
           {
            "name": "Turkey",
            "count": 33
           }
          ]
         }
        },
        {
         "name": "Country Code",
         "dtype": "int64",
         "stats": {
          "unique_count": 3,
          "nan_count": 0,
          "min": "186",
          "max": "578",
          "histogram": [
           {
            "bin_start": 186,
            "bin_end": 225.2,
            "count": 67
           },
           {
            "bin_start": 225.2,
            "bin_end": 264.4,
            "count": 0
           },
           {
            "bin_start": 264.4,
            "bin_end": 303.6,
            "count": 0
           },
           {
            "bin_start": 303.6,
            "bin_end": 342.8,
            "count": 0
           },
           {
            "bin_start": 342.8,
            "bin_end": 382,
            "count": 0
           },
           {
            "bin_start": 382,
            "bin_end": 421.20000000000005,
            "count": 0
           },
           {
            "bin_start": 421.20000000000005,
            "bin_end": 460.40000000000003,
            "count": 0
           },
           {
            "bin_start": 460.40000000000003,
            "bin_end": 499.6,
            "count": 0
           },
           {
            "bin_start": 499.6,
            "bin_end": 538.8,
            "count": 0
           },
           {
            "bin_start": 538.8,
            "bin_end": 578,
            "count": 33
           }
          ]
         }
        },
        {
         "name": "Assets, Portfolio Investment, US Dollars - IAP_BP6_USD",
         "dtype": "float64",
         "stats": {
          "unique_count": 1,
          "nan_count": 0,
          "min": "0.0",
          "max": "0.0",
          "histogram": [
           {
            "bin_start": -0.5,
            "bin_end": -0.4,
            "count": 0
           },
           {
            "bin_start": -0.4,
            "bin_end": -0.3,
            "count": 0
           },
           {
            "bin_start": -0.3,
            "bin_end": -0.19999999999999996,
            "count": 0
           },
           {
            "bin_start": -0.19999999999999996,
            "bin_end": -0.09999999999999998,
            "count": 0
           },
           {
            "bin_start": -0.09999999999999998,
            "bin_end": 0,
            "count": 0
           },
           {
            "bin_start": 0,
            "bin_end": 0.10000000000000009,
            "count": 100
           },
           {
            "bin_start": 0.10000000000000009,
            "bin_end": 0.20000000000000007,
            "count": 0
           },
           {
            "bin_start": 0.20000000000000007,
            "bin_end": 0.30000000000000004,
            "count": 0
           },
           {
            "bin_start": 0.30000000000000004,
            "bin_end": 0.4,
            "count": 0
           },
           {
            "bin_start": 0.4,
            "bin_end": 0.5,
            "count": 0
           }
          ]
         }
        },
        {
         "name": "External Balance of Goods and Services, Imports of Goods and Services, Nominal, Domestic Currency - NM_XDC",
         "dtype": "float64",
         "stats": {
          "unique_count": 6,
          "nan_count": 0,
          "min": "0.0",
          "max": "4905000.0",
          "histogram": [
           {
            "bin_start": 0,
            "bin_end": 490500,
            "count": 95
           },
           {
            "bin_start": 490500,
            "bin_end": 981000,
            "count": 0
           },
           {
            "bin_start": 981000,
            "bin_end": 1471500,
            "count": 0
           },
           {
            "bin_start": 1471500,
            "bin_end": 1962000,
            "count": 0
           },
           {
            "bin_start": 1962000,
            "bin_end": 2452500,
            "count": 1
           },
           {
            "bin_start": 2452500,
            "bin_end": 2943000,
            "count": 1
           },
           {
            "bin_start": 2943000,
            "bin_end": 3433500,
            "count": 1
           },
           {
            "bin_start": 3433500,
            "bin_end": 3924000,
            "count": 0
           },
           {
            "bin_start": 3924000,
            "bin_end": 4414500,
            "count": 0
           },
           {
            "bin_start": 4414500,
            "bin_end": 4905000,
            "count": 2
           }
          ]
         }
        },
        {
         "name": "External Trade, Goods, Value of Exports, Free on Board (FOB), US Dollars - TXG_FOB_USD",
         "dtype": "float64",
         "stats": {
          "unique_count": 100,
          "nan_count": 0,
          "min": "566940000.0",
          "max": "6875713497.0",
          "histogram": [
           {
            "bin_start": 566940000,
            "bin_end": 1197817349.7,
            "count": 7
           },
           {
            "bin_start": 1197817349.7,
            "bin_end": 1828694699.4,
            "count": 30
           },
           {
            "bin_start": 1828694699.4,
            "bin_end": 2459572049.1000004,
            "count": 21
           },
           {
            "bin_start": 2459572049.1000004,
            "bin_end": 3090449398.8,
            "count": 5
           },
           {
            "bin_start": 3090449398.8,
            "bin_end": 3721326748.5,
            "count": 3
           },
           {
            "bin_start": 3721326748.5,
            "bin_end": 4352204098.200001,
            "count": 10
           },
           {
            "bin_start": 4352204098.200001,
            "bin_end": 4983081447.900001,
            "count": 12
           },
           {
            "bin_start": 4983081447.900001,
            "bin_end": 5613958797.6,
            "count": 6
           },
           {
            "bin_start": 5613958797.6,
            "bin_end": 6244836147.3,
            "count": 3
           },
           {
            "bin_start": 6244836147.3,
            "bin_end": 6875713497,
            "count": 3
           }
          ]
         }
        },
        {
         "name": "External Trade, Goods, Value of Imports, Cost, Insurance, Freight (CIF), US Dollars - TMG_CIF_USD",
         "dtype": "float64",
         "stats": {
          "unique_count": 100,
          "nan_count": 0,
          "min": "1398400000.0",
          "max": "6120204118.0",
          "histogram": [
           {
            "bin_start": 1398400000,
            "bin_end": 1870580411.8,
            "count": 2
           },
           {
            "bin_start": 1870580411.8,
            "bin_end": 2342760823.6,
            "count": 20
           },
           {
            "bin_start": 2342760823.6,
            "bin_end": 2814941235.4,
            "count": 31
           },
           {
            "bin_start": 2814941235.4,
            "bin_end": 3287121647.2,
            "count": 12
           },
           {
            "bin_start": 3287121647.2,
            "bin_end": 3759302059,
            "count": 12
           },
           {
            "bin_start": 3759302059,
            "bin_end": 4231482470.8,
            "count": 5
           },
           {
            "bin_start": 4231482470.8,
            "bin_end": 4703662882.6,
            "count": 6
           },
           {
            "bin_start": 4703662882.6,
            "bin_end": 5175843294.4,
            "count": 5
           },
           {
            "bin_start": 5175843294.4,
            "bin_end": 5648023706.200001,
            "count": 4
           },
           {
            "bin_start": 5648023706.200001,
            "bin_end": 6120204118,
            "count": 3
           }
          ]
         }
        },
        {
         "name": "Financial, Interest Rates, Lending Rate, Percent per annum - FILR_PA",
         "dtype": "float64",
         "stats": {
          "unique_count": 37,
          "nan_count": 33,
          "min": "9.5",
          "max": "25.0",
          "histogram": [
           {
            "bin_start": 9.5,
            "bin_end": 11.05,
            "count": 5
           },
           {
            "bin_start": 11.05,
            "bin_end": 12.6,
            "count": 11
           },
           {
            "bin_start": 12.6,
            "bin_end": 14.15,
            "count": 5
           },
           {
            "bin_start": 14.15,
            "bin_end": 15.7,
            "count": 10
           },
           {
            "bin_start": 15.7,
            "bin_end": 17.25,
            "count": 20
           },
           {
            "bin_start": 17.25,
            "bin_end": 18.8,
            "count": 6
           },
           {
            "bin_start": 18.8,
            "bin_end": 20.35,
            "count": 4
           },
           {
            "bin_start": 20.35,
            "bin_end": 21.9,
            "count": 2
           },
           {
            "bin_start": 21.9,
            "bin_end": 23.450000000000003,
            "count": 1
           },
           {
            "bin_start": 23.450000000000003,
            "bin_end": 25,
            "count": 3
           }
          ]
         }
        },
        {
         "name": "International Liquidity, Total Reserves excluding Gold, Foreign Exchange, US Dollars - RAXGFX_USD",
         "dtype": "float64",
         "stats": {
          "unique_count": 98,
          "nan_count": 0,
          "min": "160000000.0",
          "max": "4419000000.0",
          "histogram": [
           {
            "bin_start": 160000000,
            "bin_end": 585900000,
            "count": 22
           },
           {
            "bin_start": 585900000,
            "bin_end": 1011800000,
            "count": 17
           },
           {
            "bin_start": 1011800000,
            "bin_end": 1437700000,
            "count": 28
           },
           {
            "bin_start": 1437700000,
            "bin_end": 1863600000,
            "count": 17
           },
           {
            "bin_start": 1863600000,
            "bin_end": 2289500000,
            "count": 7
           },
           {
            "bin_start": 2289500000,
            "bin_end": 2715400000,
            "count": 3
           },
           {
            "bin_start": 2715400000,
            "bin_end": 3141300000,
            "count": 1
           },
           {
            "bin_start": 3141300000,
            "bin_end": 3567200000,
            "count": 1
           },
           {
            "bin_start": 3567200000,
            "bin_end": 3993100000,
            "count": 3
           },
           {
            "bin_start": 3993100000,
            "bin_end": 4419000000,
            "count": 1
           }
          ]
         }
        },
        {
         "name": "_deepnote_index_column",
         "dtype": "int64"
        }
       ],
       "rows_top": [
        {
         "Year": "1980Q1",
         "Country Name": "South Africa",
         "Country Code": 199,
         "Assets, Portfolio Investment, US Dollars - IAP_BP6_USD": 0,
         "External Balance of Goods and Services, Imports of Goods and Services, Nominal, Domestic Currency - NM_XDC": 0,
         "External Trade, Goods, Value of Exports, Free on Board (FOB), US Dollars - TXG_FOB_USD": 6502264821,
         "External Trade, Goods, Value of Imports, Cost, Insurance, Freight (CIF), US Dollars - TMG_CIF_USD": 3607428753,
         "Financial, Interest Rates, Lending Rate, Percent per annum - FILR_PA": 9.5,
         "International Liquidity, Total Reserves excluding Gold, Foreign Exchange, US Dollars - RAXGFX_USD": 564000000,
         "_deepnote_index_column": 0
        },
        {
         "Year": "1980Q1",
         "Country Name": "Thailand",
         "Country Code": 578,
         "Assets, Portfolio Investment, US Dollars - IAP_BP6_USD": 0,
         "External Balance of Goods and Services, Imports of Goods and Services, Nominal, Domestic Currency - NM_XDC": 0,
         "External Trade, Goods, Value of Exports, Free on Board (FOB), US Dollars - TXG_FOB_USD": 1928077120,
         "External Trade, Goods, Value of Imports, Cost, Insurance, Freight (CIF), US Dollars - TMG_CIF_USD": 2140478360,
         "Financial, Interest Rates, Lending Rate, Percent per annum - FILR_PA": 16,
         "International Liquidity, Total Reserves excluding Gold, Foreign Exchange, US Dollars - RAXGFX_USD": 1636000000,
         "_deepnote_index_column": 1
        },
        {
         "Year": "1980Q1",
         "Country Name": "Turkey",
         "Country Code": 186,
         "Assets, Portfolio Investment, US Dollars - IAP_BP6_USD": 0,
         "External Balance of Goods and Services, Imports of Goods and Services, Nominal, Domestic Currency - NM_XDC": 0,
         "External Trade, Goods, Value of Exports, Free on Board (FOB), US Dollars - TXG_FOB_USD": 714010000,
         "External Trade, Goods, Value of Imports, Cost, Insurance, Freight (CIF), US Dollars - TMG_CIF_USD": 1398400000,
         "Financial, Interest Rates, Lending Rate, Percent per annum - FILR_PA": "nan",
         "International Liquidity, Total Reserves excluding Gold, Foreign Exchange, US Dollars - RAXGFX_USD": 956000000,
         "_deepnote_index_column": 2
        },
        {
         "Year": "1980Q2",
         "Country Name": "South Africa",
         "Country Code": 199,
         "Assets, Portfolio Investment, US Dollars - IAP_BP6_USD": 0,
         "External Balance of Goods and Services, Imports of Goods and Services, Nominal, Domestic Currency - NM_XDC": 0,
         "External Trade, Goods, Value of Exports, Free on Board (FOB), US Dollars - TXG_FOB_USD": 5783545588,
         "External Trade, Goods, Value of Imports, Cost, Insurance, Freight (CIF), US Dollars - TMG_CIF_USD": 4908746977,
         "Financial, Interest Rates, Lending Rate, Percent per annum - FILR_PA": 9.5,
         "International Liquidity, Total Reserves excluding Gold, Foreign Exchange, US Dollars - RAXGFX_USD": 669000000,
         "_deepnote_index_column": 3
        },
        {
         "Year": "1980Q2",
         "Country Name": "Thailand",
         "Country Code": 578,
         "Assets, Portfolio Investment, US Dollars - IAP_BP6_USD": 0,
         "External Balance of Goods and Services, Imports of Goods and Services, Nominal, Domestic Currency - NM_XDC": 0,
         "External Trade, Goods, Value of Exports, Free on Board (FOB), US Dollars - TXG_FOB_USD": 1551523422,
         "External Trade, Goods, Value of Imports, Cost, Insurance, Freight (CIF), US Dollars - TMG_CIF_USD": 2254750196,
         "Financial, Interest Rates, Lending Rate, Percent per annum - FILR_PA": 16.83333333,
         "International Liquidity, Total Reserves excluding Gold, Foreign Exchange, US Dollars - RAXGFX_USD": 2136000000,
         "_deepnote_index_column": 4
        },
        {
         "Year": "1980Q2",
         "Country Name": "Turkey",
         "Country Code": 186,
         "Assets, Portfolio Investment, US Dollars - IAP_BP6_USD": 0,
         "External Balance of Goods and Services, Imports of Goods and Services, Nominal, Domestic Currency - NM_XDC": 0,
         "External Trade, Goods, Value of Exports, Free on Board (FOB), US Dollars - TXG_FOB_USD": 584830000,
         "External Trade, Goods, Value of Imports, Cost, Insurance, Freight (CIF), US Dollars - TMG_CIF_USD": 1615900000,
         "Financial, Interest Rates, Lending Rate, Percent per annum - FILR_PA": "nan",
         "International Liquidity, Total Reserves excluding Gold, Foreign Exchange, US Dollars - RAXGFX_USD": 749000000,
         "_deepnote_index_column": 5
        },
        {
         "Year": "1980Q3",
         "Country Name": "South Africa",
         "Country Code": 199,
         "Assets, Portfolio Investment, US Dollars - IAP_BP6_USD": 0,
         "External Balance of Goods and Services, Imports of Goods and Services, Nominal, Domestic Currency - NM_XDC": 0,
         "External Trade, Goods, Value of Exports, Free on Board (FOB), US Dollars - TXG_FOB_USD": 6875713497,
         "External Trade, Goods, Value of Imports, Cost, Insurance, Freight (CIF), US Dollars - TMG_CIF_USD": 5477654585,
         "Financial, Interest Rates, Lending Rate, Percent per annum - FILR_PA": 9.5,
         "International Liquidity, Total Reserves excluding Gold, Foreign Exchange, US Dollars - RAXGFX_USD": 1008000000,
         "_deepnote_index_column": 6
        },
        {
         "Year": "1980Q3",
         "Country Name": "Thailand",
         "Country Code": 578,
         "Assets, Portfolio Investment, US Dollars - IAP_BP6_USD": 0,
         "External Balance of Goods and Services, Imports of Goods and Services, Nominal, Domestic Currency - NM_XDC": 0,
         "External Trade, Goods, Value of Exports, Free on Board (FOB), US Dollars - TXG_FOB_USD": 1400622272,
         "External Trade, Goods, Value of Imports, Cost, Insurance, Freight (CIF), US Dollars - TMG_CIF_USD": 2426744003,
         "Financial, Interest Rates, Lending Rate, Percent per annum - FILR_PA": 15.75,
         "International Liquidity, Total Reserves excluding Gold, Foreign Exchange, US Dollars - RAXGFX_USD": 2004000000,
         "_deepnote_index_column": 7
        },
        {
         "Year": "1980Q3",
         "Country Name": "Turkey",
         "Country Code": 186,
         "Assets, Portfolio Investment, US Dollars - IAP_BP6_USD": 0,
         "External Balance of Goods and Services, Imports of Goods and Services, Nominal, Domestic Currency - NM_XDC": 0,
         "External Trade, Goods, Value of Exports, Free on Board (FOB), US Dollars - TXG_FOB_USD": 566940000,
         "External Trade, Goods, Value of Imports, Cost, Insurance, Freight (CIF), US Dollars - TMG_CIF_USD": 2351300000,
         "Financial, Interest Rates, Lending Rate, Percent per annum - FILR_PA": "nan",
         "International Liquidity, Total Reserves excluding Gold, Foreign Exchange, US Dollars - RAXGFX_USD": 1159000000,
         "_deepnote_index_column": 8
        },
        {
         "Year": "1980Q4",
         "Country Name": "South Africa",
         "Country Code": 199,
         "Assets, Portfolio Investment, US Dollars - IAP_BP6_USD": 0,
         "External Balance of Goods and Services, Imports of Goods and Services, Nominal, Domestic Currency - NM_XDC": 0,
         "External Trade, Goods, Value of Exports, Free on Board (FOB), US Dollars - TXG_FOB_USD": 6378490058,
         "External Trade, Goods, Value of Imports, Cost, Insurance, Freight (CIF), US Dollars - TMG_CIF_USD": 5705652998,
         "Financial, Interest Rates, Lending Rate, Percent per annum - FILR_PA": 9.5,
         "International Liquidity, Total Reserves excluding Gold, Foreign Exchange, US Dollars - RAXGFX_USD": 515000000,
         "_deepnote_index_column": 9
        },
        {
         "Year": "1980Q4",
         "Country Name": "Thailand",
         "Country Code": 578,
         "Assets, Portfolio Investment, US Dollars - IAP_BP6_USD": 0,
         "External Balance of Goods and Services, Imports of Goods and Services, Nominal, Domestic Currency - NM_XDC": 0,
         "External Trade, Goods, Value of Exports, Free on Board (FOB), US Dollars - TXG_FOB_USD": 1625187113,
         "External Trade, Goods, Value of Imports, Cost, Insurance, Freight (CIF), US Dollars - TMG_CIF_USD": 2391616839,
         "Financial, Interest Rates, Lending Rate, Percent per annum - FILR_PA": 16,
         "International Liquidity, Total Reserves excluding Gold, Foreign Exchange, US Dollars - RAXGFX_USD": 1552000000,
         "_deepnote_index_column": 10
        },
        {
         "Year": "1980Q4",
         "Country Name": "Turkey",
         "Country Code": 186,
         "Assets, Portfolio Investment, US Dollars - IAP_BP6_USD": 0,
         "External Balance of Goods and Services, Imports of Goods and Services, Nominal, Domestic Currency - NM_XDC": 0,
         "External Trade, Goods, Value of Exports, Free on Board (FOB), US Dollars - TXG_FOB_USD": 1044340000,
         "External Trade, Goods, Value of Imports, Cost, Insurance, Freight (CIF), US Dollars - TMG_CIF_USD": 2544000000,
         "Financial, Interest Rates, Lending Rate, Percent per annum - FILR_PA": "nan",
         "International Liquidity, Total Reserves excluding Gold, Foreign Exchange, US Dollars - RAXGFX_USD": 1077000000,
         "_deepnote_index_column": 11
        },
        {
         "Year": "1981Q1",
         "Country Name": "South Africa",
         "Country Code": 199,
         "Assets, Portfolio Investment, US Dollars - IAP_BP6_USD": 0,
         "External Balance of Goods and Services, Imports of Goods and Services, Nominal, Domestic Currency - NM_XDC": 0,
         "External Trade, Goods, Value of Exports, Free on Board (FOB), US Dollars - TXG_FOB_USD": 5787630762,
         "External Trade, Goods, Value of Imports, Cost, Insurance, Freight (CIF), US Dollars - TMG_CIF_USD": 5432276356,
         "Financial, Interest Rates, Lending Rate, Percent per annum - FILR_PA": 10.83333333,
         "International Liquidity, Total Reserves excluding Gold, Foreign Exchange, US Dollars - RAXGFX_USD": 912000000,
         "_deepnote_index_column": 12
        },
        {
         "Year": "1981Q1",
         "Country Name": "Thailand",
         "Country Code": 578,
         "Assets, Portfolio Investment, US Dollars - IAP_BP6_USD": 0,
         "External Balance of Goods and Services, Imports of Goods and Services, Nominal, Domestic Currency - NM_XDC": 0,
         "External Trade, Goods, Value of Exports, Free on Board (FOB), US Dollars - TXG_FOB_USD": 1813417525,
         "External Trade, Goods, Value of Imports, Cost, Insurance, Freight (CIF), US Dollars - TMG_CIF_USD": 2520515877,
         "Financial, Interest Rates, Lending Rate, Percent per annum - FILR_PA": 16.5,
         "International Liquidity, Total Reserves excluding Gold, Foreign Exchange, US Dollars - RAXGFX_USD": 1456000000,
         "_deepnote_index_column": 13
        },
        {
         "Year": "1981Q1",
         "Country Name": "Turkey",
         "Country Code": 186,
         "Assets, Portfolio Investment, US Dollars - IAP_BP6_USD": 0,
         "External Balance of Goods and Services, Imports of Goods and Services, Nominal, Domestic Currency - NM_XDC": 0,
         "External Trade, Goods, Value of Exports, Free on Board (FOB), US Dollars - TXG_FOB_USD": 1021400000,
         "External Trade, Goods, Value of Imports, Cost, Insurance, Freight (CIF), US Dollars - TMG_CIF_USD": 2304000000,
         "Financial, Interest Rates, Lending Rate, Percent per annum - FILR_PA": "nan",
         "International Liquidity, Total Reserves excluding Gold, Foreign Exchange, US Dollars - RAXGFX_USD": 1052000000,
         "_deepnote_index_column": 14
        },
        {
         "Year": "1981Q2",
         "Country Name": "South Africa",
         "Country Code": 199,
         "Assets, Portfolio Investment, US Dollars - IAP_BP6_USD": 0,
         "External Balance of Goods and Services, Imports of Goods and Services, Nominal, Domestic Currency - NM_XDC": 0,
         "External Trade, Goods, Value of Exports, Free on Board (FOB), US Dollars - TXG_FOB_USD": 5140874488,
         "External Trade, Goods, Value of Imports, Cost, Insurance, Freight (CIF), US Dollars - TMG_CIF_USD": 6120204118,
         "Financial, Interest Rates, Lending Rate, Percent per annum - FILR_PA": 12.83333333,
         "International Liquidity, Total Reserves excluding Gold, Foreign Exchange, US Dollars - RAXGFX_USD": 493000000,
         "_deepnote_index_column": 15
        },
        {
         "Year": "1981Q2",
         "Country Name": "Thailand",
         "Country Code": 578,
         "Assets, Portfolio Investment, US Dollars - IAP_BP6_USD": 0,
         "External Balance of Goods and Services, Imports of Goods and Services, Nominal, Domestic Currency - NM_XDC": 0,
         "External Trade, Goods, Value of Exports, Free on Board (FOB), US Dollars - TXG_FOB_USD": 1882478274,
         "External Trade, Goods, Value of Imports, Cost, Insurance, Freight (CIF), US Dollars - TMG_CIF_USD": 2668708583,
         "Financial, Interest Rates, Lending Rate, Percent per annum - FILR_PA": 16.66666667,
         "International Liquidity, Total Reserves excluding Gold, Foreign Exchange, US Dollars - RAXGFX_USD": 1396000000,
         "_deepnote_index_column": 16
        },
        {
         "Year": "1981Q2",
         "Country Name": "Turkey",
         "Country Code": 186,
         "Assets, Portfolio Investment, US Dollars - IAP_BP6_USD": 0,
         "External Balance of Goods and Services, Imports of Goods and Services, Nominal, Domestic Currency - NM_XDC": 0,
         "External Trade, Goods, Value of Exports, Free on Board (FOB), US Dollars - TXG_FOB_USD": 935780000,
         "External Trade, Goods, Value of Imports, Cost, Insurance, Freight (CIF), US Dollars - TMG_CIF_USD": 2080300000,
         "Financial, Interest Rates, Lending Rate, Percent per annum - FILR_PA": "nan",
         "International Liquidity, Total Reserves excluding Gold, Foreign Exchange, US Dollars - RAXGFX_USD": 855000000,
         "_deepnote_index_column": 17
        },
        {
         "Year": "1981Q3",
         "Country Name": "South Africa",
         "Country Code": 199,
         "Assets, Portfolio Investment, US Dollars - IAP_BP6_USD": 0,
         "External Balance of Goods and Services, Imports of Goods and Services, Nominal, Domestic Currency - NM_XDC": 0,
         "External Trade, Goods, Value of Exports, Free on Board (FOB), US Dollars - TXG_FOB_USD": 4822291960,
         "External Trade, Goods, Value of Imports, Cost, Insurance, Freight (CIF), US Dollars - TMG_CIF_USD": 5737522410,
         "Financial, Interest Rates, Lending Rate, Percent per annum - FILR_PA": 16,
         "International Liquidity, Total Reserves excluding Gold, Foreign Exchange, US Dollars - RAXGFX_USD": 160000000,
         "_deepnote_index_column": 18
        },
        {
         "Year": "1981Q3",
         "Country Name": "Thailand",
         "Country Code": 578,
         "Assets, Portfolio Investment, US Dollars - IAP_BP6_USD": 0,
         "External Balance of Goods and Services, Imports of Goods and Services, Nominal, Domestic Currency - NM_XDC": 0,
         "External Trade, Goods, Value of Exports, Free on Board (FOB), US Dollars - TXG_FOB_USD": 1684867367,
         "External Trade, Goods, Value of Imports, Cost, Insurance, Freight (CIF), US Dollars - TMG_CIF_USD": 2374144190,
         "Financial, Interest Rates, Lending Rate, Percent per annum - FILR_PA": 18.16666667,
         "International Liquidity, Total Reserves excluding Gold, Foreign Exchange, US Dollars - RAXGFX_USD": 1372000000,
         "_deepnote_index_column": 19
        },
        {
         "Year": "1981Q3",
         "Country Name": "Turkey",
         "Country Code": 186,
         "Assets, Portfolio Investment, US Dollars - IAP_BP6_USD": 0,
         "External Balance of Goods and Services, Imports of Goods and Services, Nominal, Domestic Currency - NM_XDC": 0,
         "External Trade, Goods, Value of Exports, Free on Board (FOB), US Dollars - TXG_FOB_USD": 1051550000,
         "External Trade, Goods, Value of Imports, Cost, Insurance, Freight (CIF), US Dollars - TMG_CIF_USD": 2129000000,
         "Financial, Interest Rates, Lending Rate, Percent per annum - FILR_PA": "nan",
         "International Liquidity, Total Reserves excluding Gold, Foreign Exchange, US Dollars - RAXGFX_USD": 1476000000,
         "_deepnote_index_column": 20
        },
        {
         "Year": "1981Q4",
         "Country Name": "South Africa",
         "Country Code": 199,
         "Assets, Portfolio Investment, US Dollars - IAP_BP6_USD": 0,
         "External Balance of Goods and Services, Imports of Goods and Services, Nominal, Domestic Currency - NM_XDC": 0,
         "External Trade, Goods, Value of Exports, Free on Board (FOB), US Dollars - TXG_FOB_USD": 5024586961,
         "External Trade, Goods, Value of Imports, Cost, Insurance, Freight (CIF), US Dollars - TMG_CIF_USD": 5628415704,
         "Financial, Interest Rates, Lending Rate, Percent per annum - FILR_PA": 16.33333333,
         "International Liquidity, Total Reserves excluding Gold, Foreign Exchange, US Dollars - RAXGFX_USD": 407000000,
         "_deepnote_index_column": 21
        },
        {
         "Year": "1981Q4",
         "Country Name": "Thailand",
         "Country Code": 578,
         "Assets, Portfolio Investment, US Dollars - IAP_BP6_USD": 0,
         "External Balance of Goods and Services, Imports of Goods and Services, Nominal, Domestic Currency - NM_XDC": 0,
         "External Trade, Goods, Value of Exports, Free on Board (FOB), US Dollars - TXG_FOB_USD": 1649817763,
         "External Trade, Goods, Value of Imports, Cost, Insurance, Freight (CIF), US Dollars - TMG_CIF_USD": 2391683585,
         "Financial, Interest Rates, Lending Rate, Percent per annum - FILR_PA": 17.5,
         "International Liquidity, Total Reserves excluding Gold, Foreign Exchange, US Dollars - RAXGFX_USD": 1671000000,
         "_deepnote_index_column": 22
        },
        {
         "Year": "1981Q4",
         "Country Name": "Turkey",
         "Country Code": 186,
         "Assets, Portfolio Investment, US Dollars - IAP_BP6_USD": 0,
         "External Balance of Goods and Services, Imports of Goods and Services, Nominal, Domestic Currency - NM_XDC": 0,
         "External Trade, Goods, Value of Exports, Free on Board (FOB), US Dollars - TXG_FOB_USD": 1704200000,
         "External Trade, Goods, Value of Imports, Cost, Insurance, Freight (CIF), US Dollars - TMG_CIF_USD": 2419300000,
         "Financial, Interest Rates, Lending Rate, Percent per annum - FILR_PA": "nan",
         "International Liquidity, Total Reserves excluding Gold, Foreign Exchange, US Dollars - RAXGFX_USD": 928000000,
         "_deepnote_index_column": 23
        },
        {
         "Year": "1982Q1",
         "Country Name": "South Africa",
         "Country Code": 199,
         "Assets, Portfolio Investment, US Dollars - IAP_BP6_USD": 0,
         "External Balance of Goods and Services, Imports of Goods and Services, Nominal, Domestic Currency - NM_XDC": 0,
         "External Trade, Goods, Value of Exports, Free on Board (FOB), US Dollars - TXG_FOB_USD": 4257132362,
         "External Trade, Goods, Value of Imports, Cost, Insurance, Freight (CIF), US Dollars - TMG_CIF_USD": 5253568975,
         "Financial, Interest Rates, Lending Rate, Percent per annum - FILR_PA": 18.66666667,
         "International Liquidity, Total Reserves excluding Gold, Foreign Exchange, US Dollars - RAXGFX_USD": 519000000,
         "_deepnote_index_column": 24
        },
        {
         "Year": "1982Q1",
         "Country Name": "Thailand",
         "Country Code": 578,
         "Assets, Portfolio Investment, US Dollars - IAP_BP6_USD": 0,
         "External Balance of Goods and Services, Imports of Goods and Services, Nominal, Domestic Currency - NM_XDC": 0,
         "External Trade, Goods, Value of Exports, Free on Board (FOB), US Dollars - TXG_FOB_USD": 1941468466,
         "External Trade, Goods, Value of Imports, Cost, Insurance, Freight (CIF), US Dollars - TMG_CIF_USD": 2070511293,
         "Financial, Interest Rates, Lending Rate, Percent per annum - FILR_PA": 17,
         "International Liquidity, Total Reserves excluding Gold, Foreign Exchange, US Dollars - RAXGFX_USD": 1218000000,
         "_deepnote_index_column": 25
        },
        {
         "Year": "1982Q1",
         "Country Name": "Turkey",
         "Country Code": 186,
         "Assets, Portfolio Investment, US Dollars - IAP_BP6_USD": 0,
         "External Balance of Goods and Services, Imports of Goods and Services, Nominal, Domestic Currency - NM_XDC": 0,
         "External Trade, Goods, Value of Exports, Free on Board (FOB), US Dollars - TXG_FOB_USD": 1303530000,
         "External Trade, Goods, Value of Imports, Cost, Insurance, Freight (CIF), US Dollars - TMG_CIF_USD": 1959800000,
         "Financial, Interest Rates, Lending Rate, Percent per annum - FILR_PA": "nan",
         "International Liquidity, Total Reserves excluding Gold, Foreign Exchange, US Dollars - RAXGFX_USD": 1290000000,
         "_deepnote_index_column": 26
        },
        {
         "Year": "1982Q2",
         "Country Name": "South Africa",
         "Country Code": 199,
         "Assets, Portfolio Investment, US Dollars - IAP_BP6_USD": 0,
         "External Balance of Goods and Services, Imports of Goods and Services, Nominal, Domestic Currency - NM_XDC": 0,
         "External Trade, Goods, Value of Exports, Free on Board (FOB), US Dollars - TXG_FOB_USD": 4140835024,
         "External Trade, Goods, Value of Imports, Cost, Insurance, Freight (CIF), US Dollars - TMG_CIF_USD": 4930181237,
         "Financial, Interest Rates, Lending Rate, Percent per annum - FILR_PA": 20,
         "International Liquidity, Total Reserves excluding Gold, Foreign Exchange, US Dollars - RAXGFX_USD": 455000000,
         "_deepnote_index_column": 27
        },
        {
         "Year": "1982Q2",
         "Country Name": "Thailand",
         "Country Code": 578,
         "Assets, Portfolio Investment, US Dollars - IAP_BP6_USD": 0,
         "External Balance of Goods and Services, Imports of Goods and Services, Nominal, Domestic Currency - NM_XDC": 0,
         "External Trade, Goods, Value of Exports, Free on Board (FOB), US Dollars - TXG_FOB_USD": 1951468415,
         "External Trade, Goods, Value of Imports, Cost, Insurance, Freight (CIF), US Dollars - TMG_CIF_USD": 2190945468,
         "Financial, Interest Rates, Lending Rate, Percent per annum - FILR_PA": 17.33333333,
         "International Liquidity, Total Reserves excluding Gold, Foreign Exchange, US Dollars - RAXGFX_USD": 1499000000,
         "_deepnote_index_column": 28
        },
        {
         "Year": "1982Q2",
         "Country Name": "Turkey",
         "Country Code": 186,
         "Assets, Portfolio Investment, US Dollars - IAP_BP6_USD": 0,
         "External Balance of Goods and Services, Imports of Goods and Services, Nominal, Domestic Currency - NM_XDC": 0,
         "External Trade, Goods, Value of Exports, Free on Board (FOB), US Dollars - TXG_FOB_USD": 1236210000,
         "External Trade, Goods, Value of Imports, Cost, Insurance, Freight (CIF), US Dollars - TMG_CIF_USD": 2262400000,
         "Financial, Interest Rates, Lending Rate, Percent per annum - FILR_PA": "nan",
         "International Liquidity, Total Reserves excluding Gold, Foreign Exchange, US Dollars - RAXGFX_USD": 1084000000,
         "_deepnote_index_column": 29
        },
        {
         "Year": "1982Q3",
         "Country Name": "South Africa",
         "Country Code": 199,
         "Assets, Portfolio Investment, US Dollars - IAP_BP6_USD": 0,
         "External Balance of Goods and Services, Imports of Goods and Services, Nominal, Domestic Currency - NM_XDC": 0,
         "External Trade, Goods, Value of Exports, Free on Board (FOB), US Dollars - TXG_FOB_USD": 4510985809,
         "External Trade, Goods, Value of Imports, Cost, Insurance, Freight (CIF), US Dollars - TMG_CIF_USD": 4235460184,
         "Financial, Interest Rates, Lending Rate, Percent per annum - FILR_PA": 20,
         "International Liquidity, Total Reserves excluding Gold, Foreign Exchange, US Dollars - RAXGFX_USD": 598000000,
         "_deepnote_index_column": 30
        },
        {
         "Year": "1982Q3",
         "Country Name": "Thailand",
         "Country Code": 578,
         "Assets, Portfolio Investment, US Dollars - IAP_BP6_USD": 0,
         "External Balance of Goods and Services, Imports of Goods and Services, Nominal, Domestic Currency - NM_XDC": 0,
         "External Trade, Goods, Value of Exports, Free on Board (FOB), US Dollars - TXG_FOB_USD": 1522470580,
         "External Trade, Goods, Value of Imports, Cost, Insurance, Freight (CIF), US Dollars - TMG_CIF_USD": 2210467108,
         "Financial, Interest Rates, Lending Rate, Percent per annum - FILR_PA": 17.16666667,
         "International Liquidity, Total Reserves excluding Gold, Foreign Exchange, US Dollars - RAXGFX_USD": 1414000000,
         "_deepnote_index_column": 31
        },
        {
         "Year": "1982Q3",
         "Country Name": "Turkey",
         "Country Code": 186,
         "Assets, Portfolio Investment, US Dollars - IAP_BP6_USD": 0,
         "External Balance of Goods and Services, Imports of Goods and Services, Nominal, Domestic Currency - NM_XDC": 0,
         "External Trade, Goods, Value of Exports, Free on Board (FOB), US Dollars - TXG_FOB_USD": 1277460000,
         "External Trade, Goods, Value of Imports, Cost, Insurance, Freight (CIF), US Dollars - TMG_CIF_USD": 2004500000,
         "Financial, Interest Rates, Lending Rate, Percent per annum - FILR_PA": "nan",
         "International Liquidity, Total Reserves excluding Gold, Foreign Exchange, US Dollars - RAXGFX_USD": 1225000000,
         "_deepnote_index_column": 32
        },
        {
         "Year": "1982Q4",
         "Country Name": "South Africa",
         "Country Code": 199,
         "Assets, Portfolio Investment, US Dollars - IAP_BP6_USD": 0,
         "External Balance of Goods and Services, Imports of Goods and Services, Nominal, Domestic Currency - NM_XDC": 0,
         "External Trade, Goods, Value of Exports, Free on Board (FOB), US Dollars - TXG_FOB_USD": 4726162523,
         "External Trade, Goods, Value of Imports, Cost, Insurance, Freight (CIF), US Dollars - TMG_CIF_USD": 4079459305,
         "Financial, Interest Rates, Lending Rate, Percent per annum - FILR_PA": 18.66666667,
         "International Liquidity, Total Reserves excluding Gold, Foreign Exchange, US Dollars - RAXGFX_USD": 376000000,
         "_deepnote_index_column": 33
        },
        {
         "Year": "1982Q4",
         "Country Name": "Thailand",
         "Country Code": 578,
         "Assets, Portfolio Investment, US Dollars - IAP_BP6_USD": 0,
         "External Balance of Goods and Services, Imports of Goods and Services, Nominal, Domestic Currency - NM_XDC": 0,
         "External Trade, Goods, Value of Exports, Free on Board (FOB), US Dollars - TXG_FOB_USD": 1529253154,
         "External Trade, Goods, Value of Imports, Cost, Insurance, Freight (CIF), US Dollars - TMG_CIF_USD": 2076554741,
         "Financial, Interest Rates, Lending Rate, Percent per annum - FILR_PA": 16.33333333,
         "International Liquidity, Total Reserves excluding Gold, Foreign Exchange, US Dollars - RAXGFX_USD": 1513000000,
         "_deepnote_index_column": 34
        },
        {
         "Year": "1982Q4",
         "Country Name": "Turkey",
         "Country Code": 186,
         "Assets, Portfolio Investment, US Dollars - IAP_BP6_USD": 0,
         "External Balance of Goods and Services, Imports of Goods and Services, Nominal, Domestic Currency - NM_XDC": 0,
         "External Trade, Goods, Value of Exports, Free on Board (FOB), US Dollars - TXG_FOB_USD": 1928790000,
         "External Trade, Goods, Value of Imports, Cost, Insurance, Freight (CIF), US Dollars - TMG_CIF_USD": 2614800000,
         "Financial, Interest Rates, Lending Rate, Percent per annum - FILR_PA": "nan",
         "International Liquidity, Total Reserves excluding Gold, Foreign Exchange, US Dollars - RAXGFX_USD": 1080000000,
         "_deepnote_index_column": 35
        },
        {
         "Year": "1983Q1",
         "Country Name": "South Africa",
         "Country Code": 199,
         "Assets, Portfolio Investment, US Dollars - IAP_BP6_USD": 0,
         "External Balance of Goods and Services, Imports of Goods and Services, Nominal, Domestic Currency - NM_XDC": 0,
         "External Trade, Goods, Value of Exports, Free on Board (FOB), US Dollars - TXG_FOB_USD": 4842079204,
         "External Trade, Goods, Value of Imports, Cost, Insurance, Freight (CIF), US Dollars - TMG_CIF_USD": 3638531074,
         "Financial, Interest Rates, Lending Rate, Percent per annum - FILR_PA": 15.66666667,
         "International Liquidity, Total Reserves excluding Gold, Foreign Exchange, US Dollars - RAXGFX_USD": 405000000,
         "_deepnote_index_column": 36
        },
        {
         "Year": "1983Q1",
         "Country Name": "Thailand",
         "Country Code": 578,
         "Assets, Portfolio Investment, US Dollars - IAP_BP6_USD": 0,
         "External Balance of Goods and Services, Imports of Goods and Services, Nominal, Domestic Currency - NM_XDC": 0,
         "External Trade, Goods, Value of Exports, Free on Board (FOB), US Dollars - TXG_FOB_USD": 1608209277,
         "External Trade, Goods, Value of Imports, Cost, Insurance, Freight (CIF), US Dollars - TMG_CIF_USD": 2377988002,
         "Financial, Interest Rates, Lending Rate, Percent per annum - FILR_PA": 16,
         "International Liquidity, Total Reserves excluding Gold, Foreign Exchange, US Dollars - RAXGFX_USD": 1574000000,
         "_deepnote_index_column": 37
        },
        {
         "Year": "1983Q1",
         "Country Name": "Turkey",
         "Country Code": 186,
         "Assets, Portfolio Investment, US Dollars - IAP_BP6_USD": 0,
         "External Balance of Goods and Services, Imports of Goods and Services, Nominal, Domestic Currency - NM_XDC": 0,
         "External Trade, Goods, Value of Exports, Free on Board (FOB), US Dollars - TXG_FOB_USD": 1357560000,
         "External Trade, Goods, Value of Imports, Cost, Insurance, Freight (CIF), US Dollars - TMG_CIF_USD": 2349300000,
         "Financial, Interest Rates, Lending Rate, Percent per annum - FILR_PA": "nan",
         "International Liquidity, Total Reserves excluding Gold, Foreign Exchange, US Dollars - RAXGFX_USD": 1058000000,
         "_deepnote_index_column": 38
        },
        {
         "Year": "1983Q2",
         "Country Name": "South Africa",
         "Country Code": 199,
         "Assets, Portfolio Investment, US Dollars - IAP_BP6_USD": 0,
         "External Balance of Goods and Services, Imports of Goods and Services, Nominal, Domestic Currency - NM_XDC": 0,
         "External Trade, Goods, Value of Exports, Free on Board (FOB), US Dollars - TXG_FOB_USD": 4772632391,
         "External Trade, Goods, Value of Imports, Cost, Insurance, Freight (CIF), US Dollars - TMG_CIF_USD": 3772642023,
         "Financial, Interest Rates, Lending Rate, Percent per annum - FILR_PA": 14.66666667,
         "International Liquidity, Total Reserves excluding Gold, Foreign Exchange, US Dollars - RAXGFX_USD": 386000000,
         "_deepnote_index_column": 39
        },
        {
         "Year": "1983Q2",
         "Country Name": "Thailand",
         "Country Code": 578,
         "Assets, Portfolio Investment, US Dollars - IAP_BP6_USD": 0,
         "External Balance of Goods and Services, Imports of Goods and Services, Nominal, Domestic Currency - NM_XDC": 0,
         "External Trade, Goods, Value of Exports, Free on Board (FOB), US Dollars - TXG_FOB_USD": 1569818167,
         "External Trade, Goods, Value of Imports, Cost, Insurance, Freight (CIF), US Dollars - TMG_CIF_USD": 2424683419,
         "Financial, Interest Rates, Lending Rate, Percent per annum - FILR_PA": 14.66666667,
         "International Liquidity, Total Reserves excluding Gold, Foreign Exchange, US Dollars - RAXGFX_USD": 1743000000,
         "_deepnote_index_column": 40
        },
        {
         "Year": "1983Q2",
         "Country Name": "Turkey",
         "Country Code": 186,
         "Assets, Portfolio Investment, US Dollars - IAP_BP6_USD": 0,
         "External Balance of Goods and Services, Imports of Goods and Services, Nominal, Domestic Currency - NM_XDC": 0,
         "External Trade, Goods, Value of Exports, Free on Board (FOB), US Dollars - TXG_FOB_USD": 1315410000,
         "External Trade, Goods, Value of Imports, Cost, Insurance, Freight (CIF), US Dollars - TMG_CIF_USD": 2101100000,
         "Financial, Interest Rates, Lending Rate, Percent per annum - FILR_PA": "nan",
         "International Liquidity, Total Reserves excluding Gold, Foreign Exchange, US Dollars - RAXGFX_USD": 1092000000,
         "_deepnote_index_column": 41
        },
        {
         "Year": "1983Q3",
         "Country Name": "South Africa",
         "Country Code": 199,
         "Assets, Portfolio Investment, US Dollars - IAP_BP6_USD": 0,
         "External Balance of Goods and Services, Imports of Goods and Services, Nominal, Domestic Currency - NM_XDC": 0,
         "External Trade, Goods, Value of Exports, Free on Board (FOB), US Dollars - TXG_FOB_USD": 4617082276,
         "External Trade, Goods, Value of Imports, Cost, Insurance, Freight (CIF), US Dollars - TMG_CIF_USD": 3877278256,
         "Financial, Interest Rates, Lending Rate, Percent per annum - FILR_PA": 17.33333333,
         "International Liquidity, Total Reserves excluding Gold, Foreign Exchange, US Dollars - RAXGFX_USD": 869000000,
         "_deepnote_index_column": 42
        },
        {
         "Year": "1983Q3",
         "Country Name": "Thailand",
         "Country Code": 578,
         "Assets, Portfolio Investment, US Dollars - IAP_BP6_USD": 0,
         "External Balance of Goods and Services, Imports of Goods and Services, Nominal, Domestic Currency - NM_XDC": 0,
         "External Trade, Goods, Value of Exports, Free on Board (FOB), US Dollars - TXG_FOB_USD": 1511253245,
         "External Trade, Goods, Value of Imports, Cost, Insurance, Freight (CIF), US Dollars - TMG_CIF_USD": 2677377796,
         "Financial, Interest Rates, Lending Rate, Percent per annum - FILR_PA": 14.83333333,
         "International Liquidity, Total Reserves excluding Gold, Foreign Exchange, US Dollars - RAXGFX_USD": 1703000000,
         "_deepnote_index_column": 43
        },
        {
         "Year": "1983Q3",
         "Country Name": "Turkey",
         "Country Code": 186,
         "Assets, Portfolio Investment, US Dollars - IAP_BP6_USD": 0,
         "External Balance of Goods and Services, Imports of Goods and Services, Nominal, Domestic Currency - NM_XDC": 0,
         "External Trade, Goods, Value of Exports, Free on Board (FOB), US Dollars - TXG_FOB_USD": 1234070000,
         "External Trade, Goods, Value of Imports, Cost, Insurance, Freight (CIF), US Dollars - TMG_CIF_USD": 2076600000,
         "Financial, Interest Rates, Lending Rate, Percent per annum - FILR_PA": "nan",
         "International Liquidity, Total Reserves excluding Gold, Foreign Exchange, US Dollars - RAXGFX_USD": 1121000000,
         "_deepnote_index_column": 44
        },
        {
         "Year": "1983Q4",
         "Country Name": "South Africa",
         "Country Code": 199,
         "Assets, Portfolio Investment, US Dollars - IAP_BP6_USD": 0,
         "External Balance of Goods and Services, Imports of Goods and Services, Nominal, Domestic Currency - NM_XDC": 0,
         "External Trade, Goods, Value of Exports, Free on Board (FOB), US Dollars - TXG_FOB_USD": 4300070244,
         "External Trade, Goods, Value of Imports, Cost, Insurance, Freight (CIF), US Dollars - TMG_CIF_USD": 4476638154,
         "Financial, Interest Rates, Lending Rate, Percent per annum - FILR_PA": 19,
         "International Liquidity, Total Reserves excluding Gold, Foreign Exchange, US Dollars - RAXGFX_USD": 721000000,
         "_deepnote_index_column": 45
        },
        {
         "Year": "1983Q4",
         "Country Name": "Thailand",
         "Country Code": 578,
         "Assets, Portfolio Investment, US Dollars - IAP_BP6_USD": 0,
         "External Balance of Goods and Services, Imports of Goods and Services, Nominal, Domestic Currency - NM_XDC": 0,
         "External Trade, Goods, Value of Exports, Free on Board (FOB), US Dollars - TXG_FOB_USD": 1679035007,
         "External Trade, Goods, Value of Imports, Cost, Insurance, Freight (CIF), US Dollars - TMG_CIF_USD": 2807246706,
         "Financial, Interest Rates, Lending Rate, Percent per annum - FILR_PA": 15.33333333,
         "International Liquidity, Total Reserves excluding Gold, Foreign Exchange, US Dollars - RAXGFX_USD": 1561000000,
         "_deepnote_index_column": 46
        },
        {
         "Year": "1983Q4",
         "Country Name": "Turkey",
         "Country Code": 186,
         "Assets, Portfolio Investment, US Dollars - IAP_BP6_USD": 0,
         "External Balance of Goods and Services, Imports of Goods and Services, Nominal, Domestic Currency - NM_XDC": 0,
         "External Trade, Goods, Value of Exports, Free on Board (FOB), US Dollars - TXG_FOB_USD": 1819890000,
         "External Trade, Goods, Value of Imports, Cost, Insurance, Freight (CIF), US Dollars - TMG_CIF_USD": 2707200000,
         "Financial, Interest Rates, Lending Rate, Percent per annum - FILR_PA": "nan",
         "International Liquidity, Total Reserves excluding Gold, Foreign Exchange, US Dollars - RAXGFX_USD": 1253000000,
         "_deepnote_index_column": 47
        },
        {
         "Year": "1984Q1",
         "Country Name": "South Africa",
         "Country Code": 199,
         "Assets, Portfolio Investment, US Dollars - IAP_BP6_USD": 0,
         "External Balance of Goods and Services, Imports of Goods and Services, Nominal, Domestic Currency - NM_XDC": 0,
         "External Trade, Goods, Value of Exports, Free on Board (FOB), US Dollars - TXG_FOB_USD": 4611254891,
         "External Trade, Goods, Value of Imports, Cost, Insurance, Freight (CIF), US Dollars - TMG_CIF_USD": 4500322622,
         "Financial, Interest Rates, Lending Rate, Percent per annum - FILR_PA": 20.33333333,
         "International Liquidity, Total Reserves excluding Gold, Foreign Exchange, US Dollars - RAXGFX_USD": 531000000,
         "_deepnote_index_column": 48
        },
        {
         "Year": "1984Q1",
         "Country Name": "Thailand",
         "Country Code": 578,
         "Assets, Portfolio Investment, US Dollars - IAP_BP6_USD": 0,
         "External Balance of Goods and Services, Imports of Goods and Services, Nominal, Domestic Currency - NM_XDC": 0,
         "External Trade, Goods, Value of Exports, Free on Board (FOB), US Dollars - TXG_FOB_USD": 1846251555,
         "External Trade, Goods, Value of Imports, Cost, Insurance, Freight (CIF), US Dollars - TMG_CIF_USD": 2620986776,
         "Financial, Interest Rates, Lending Rate, Percent per annum - FILR_PA": 16.5,
         "International Liquidity, Total Reserves excluding Gold, Foreign Exchange, US Dollars - RAXGFX_USD": 1862000000,
         "_deepnote_index_column": 49
        },
        {
         "Year": "1984Q1",
         "Country Name": "Turkey",
         "Country Code": 186,
         "Assets, Portfolio Investment, US Dollars - IAP_BP6_USD": 0,
         "External Balance of Goods and Services, Imports of Goods and Services, Nominal, Domestic Currency - NM_XDC": 0,
         "External Trade, Goods, Value of Exports, Free on Board (FOB), US Dollars - TXG_FOB_USD": 1855600000,
         "External Trade, Goods, Value of Imports, Cost, Insurance, Freight (CIF), US Dollars - TMG_CIF_USD": 2179800000,
         "Financial, Interest Rates, Lending Rate, Percent per annum - FILR_PA": "nan",
         "International Liquidity, Total Reserves excluding Gold, Foreign Exchange, US Dollars - RAXGFX_USD": 1172000000,
         "_deepnote_index_column": 50
        },
        {
         "Year": "1984Q2",
         "Country Name": "South Africa",
         "Country Code": 199,
         "Assets, Portfolio Investment, US Dollars - IAP_BP6_USD": 0,
         "External Balance of Goods and Services, Imports of Goods and Services, Nominal, Domestic Currency - NM_XDC": 0,
         "External Trade, Goods, Value of Exports, Free on Board (FOB), US Dollars - TXG_FOB_USD": 4520732369,
         "External Trade, Goods, Value of Imports, Cost, Insurance, Freight (CIF), US Dollars - TMG_CIF_USD": 4318604890,
         "Financial, Interest Rates, Lending Rate, Percent per annum - FILR_PA": 21,
         "International Liquidity, Total Reserves excluding Gold, Foreign Exchange, US Dollars - RAXGFX_USD": 501000000,
         "_deepnote_index_column": 51
        },
        {
         "Year": "1984Q2",
         "Country Name": "Thailand",
         "Country Code": 578,
         "Assets, Portfolio Investment, US Dollars - IAP_BP6_USD": 0,
         "External Balance of Goods and Services, Imports of Goods and Services, Nominal, Domestic Currency - NM_XDC": 0,
         "External Trade, Goods, Value of Exports, Free on Board (FOB), US Dollars - TXG_FOB_USD": 1870425346,
         "External Trade, Goods, Value of Imports, Cost, Insurance, Freight (CIF), US Dollars - TMG_CIF_USD": 2661986569,
         "Financial, Interest Rates, Lending Rate, Percent per annum - FILR_PA": 17,
         "International Liquidity, Total Reserves excluding Gold, Foreign Exchange, US Dollars - RAXGFX_USD": 1879000000,
         "_deepnote_index_column": 52
        },
        {
         "Year": "1984Q2",
         "Country Name": "Turkey",
         "Country Code": 186,
         "Assets, Portfolio Investment, US Dollars - IAP_BP6_USD": 0,
         "External Balance of Goods and Services, Imports of Goods and Services, Nominal, Domestic Currency - NM_XDC": 0,
         "External Trade, Goods, Value of Exports, Free on Board (FOB), US Dollars - TXG_FOB_USD": 1673800000,
         "External Trade, Goods, Value of Imports, Cost, Insurance, Freight (CIF), US Dollars - TMG_CIF_USD": 2647400000,
         "Financial, Interest Rates, Lending Rate, Percent per annum - FILR_PA": "nan",
         "International Liquidity, Total Reserves excluding Gold, Foreign Exchange, US Dollars - RAXGFX_USD": 1123000000,
         "_deepnote_index_column": 53
        },
        {
         "Year": "1984Q3",
         "Country Name": "South Africa",
         "Country Code": 199,
         "Assets, Portfolio Investment, US Dollars - IAP_BP6_USD": 0,
         "External Balance of Goods and Services, Imports of Goods and Services, Nominal, Domestic Currency - NM_XDC": 0,
         "External Trade, Goods, Value of Exports, Free on Board (FOB), US Dollars - TXG_FOB_USD": 4070149457,
         "External Trade, Goods, Value of Imports, Cost, Insurance, Freight (CIF), US Dollars - TMG_CIF_USD": 3978325593,
         "Financial, Interest Rates, Lending Rate, Percent per annum - FILR_PA": 24,
         "International Liquidity, Total Reserves excluding Gold, Foreign Exchange, US Dollars - RAXGFX_USD": 461000000,
         "_deepnote_index_column": 54
        },
        {
         "Year": "1984Q3",
         "Country Name": "Thailand",
         "Country Code": 578,
         "Assets, Portfolio Investment, US Dollars - IAP_BP6_USD": 0,
         "External Balance of Goods and Services, Imports of Goods and Services, Nominal, Domestic Currency - NM_XDC": 0,
         "External Trade, Goods, Value of Exports, Free on Board (FOB), US Dollars - TXG_FOB_USD": 1820382120,
         "External Trade, Goods, Value of Imports, Cost, Insurance, Freight (CIF), US Dollars - TMG_CIF_USD": 2603465126,
         "Financial, Interest Rates, Lending Rate, Percent per annum - FILR_PA": 17,
         "International Liquidity, Total Reserves excluding Gold, Foreign Exchange, US Dollars - RAXGFX_USD": 1579000000,
         "_deepnote_index_column": 55
        },
        {
         "Year": "1984Q3",
         "Country Name": "Turkey",
         "Country Code": 186,
         "Assets, Portfolio Investment, US Dollars - IAP_BP6_USD": 0,
         "External Balance of Goods and Services, Imports of Goods and Services, Nominal, Domestic Currency - NM_XDC": 0,
         "External Trade, Goods, Value of Exports, Free on Board (FOB), US Dollars - TXG_FOB_USD": 1542480000,
         "External Trade, Goods, Value of Imports, Cost, Insurance, Freight (CIF), US Dollars - TMG_CIF_USD": 2666500000,
         "Financial, Interest Rates, Lending Rate, Percent per annum - FILR_PA": "nan",
         "International Liquidity, Total Reserves excluding Gold, Foreign Exchange, US Dollars - RAXGFX_USD": 946000000,
         "_deepnote_index_column": 56
        },
        {
         "Year": "1984Q4",
         "Country Name": "South Africa",
         "Country Code": 199,
         "Assets, Portfolio Investment, US Dollars - IAP_BP6_USD": 0,
         "External Balance of Goods and Services, Imports of Goods and Services, Nominal, Domestic Currency - NM_XDC": 0,
         "External Trade, Goods, Value of Exports, Free on Board (FOB), US Dollars - TXG_FOB_USD": 4132084427,
         "External Trade, Goods, Value of Imports, Cost, Insurance, Freight (CIF), US Dollars - TMG_CIF_USD": 3445298178,
         "Financial, Interest Rates, Lending Rate, Percent per annum - FILR_PA": 24,
         "International Liquidity, Total Reserves excluding Gold, Foreign Exchange, US Dollars - RAXGFX_USD": 171000000,
         "_deepnote_index_column": 57
        },
        {
         "Year": "1984Q4",
         "Country Name": "Thailand",
         "Country Code": 578,
         "Assets, Portfolio Investment, US Dollars - IAP_BP6_USD": 0,
         "External Balance of Goods and Services, Imports of Goods and Services, Nominal, Domestic Currency - NM_XDC": 0,
         "External Trade, Goods, Value of Exports, Free on Board (FOB), US Dollars - TXG_FOB_USD": 1875775249,
         "External Trade, Goods, Value of Imports, Cost, Insurance, Freight (CIF), US Dollars - TMG_CIF_USD": 2511153268,
         "Financial, Interest Rates, Lending Rate, Percent per annum - FILR_PA": 16.66666667,
         "International Liquidity, Total Reserves excluding Gold, Foreign Exchange, US Dollars - RAXGFX_USD": 1890000000,
         "_deepnote_index_column": 58
        },
        {
         "Year": "1984Q4",
         "Country Name": "Turkey",
         "Country Code": 186,
         "Assets, Portfolio Investment, US Dollars - IAP_BP6_USD": 0,
         "External Balance of Goods and Services, Imports of Goods and Services, Nominal, Domestic Currency - NM_XDC": 0,
         "External Trade, Goods, Value of Exports, Free on Board (FOB), US Dollars - TXG_FOB_USD": 2061800000,
         "External Trade, Goods, Value of Imports, Cost, Insurance, Freight (CIF), US Dollars - TMG_CIF_USD": 3262900000,
         "Financial, Interest Rates, Lending Rate, Percent per annum - FILR_PA": "nan",
         "International Liquidity, Total Reserves excluding Gold, Foreign Exchange, US Dollars - RAXGFX_USD": 1239000000,
         "_deepnote_index_column": 59
        },
        {
         "Year": "1985Q1",
         "Country Name": "South Africa",
         "Country Code": 199,
         "Assets, Portfolio Investment, US Dollars - IAP_BP6_USD": 0,
         "External Balance of Goods and Services, Imports of Goods and Services, Nominal, Domestic Currency - NM_XDC": 0,
         "External Trade, Goods, Value of Exports, Free on Board (FOB), US Dollars - TXG_FOB_USD": 3955878029,
         "External Trade, Goods, Value of Imports, Cost, Insurance, Freight (CIF), US Dollars - TMG_CIF_USD": 2974235416,
         "Financial, Interest Rates, Lending Rate, Percent per annum - FILR_PA": 25,
         "International Liquidity, Total Reserves excluding Gold, Foreign Exchange, US Dollars - RAXGFX_USD": 255000000,
         "_deepnote_index_column": 60
        },
        {
         "Year": "1985Q1",
         "Country Name": "Thailand",
         "Country Code": 578,
         "Assets, Portfolio Investment, US Dollars - IAP_BP6_USD": 0,
         "External Balance of Goods and Services, Imports of Goods and Services, Nominal, Domestic Currency - NM_XDC": 0,
         "External Trade, Goods, Value of Exports, Free on Board (FOB), US Dollars - TXG_FOB_USD": 1784803359,
         "External Trade, Goods, Value of Imports, Cost, Insurance, Freight (CIF), US Dollars - TMG_CIF_USD": 2376814454,
         "Financial, Interest Rates, Lending Rate, Percent per annum - FILR_PA": 16.5,
         "International Liquidity, Total Reserves excluding Gold, Foreign Exchange, US Dollars - RAXGFX_USD": 1679000000,
         "_deepnote_index_column": 61
        },
        {
         "Year": "1985Q1",
         "Country Name": "Turkey",
         "Country Code": 186,
         "Assets, Portfolio Investment, US Dollars - IAP_BP6_USD": 0,
         "External Balance of Goods and Services, Imports of Goods and Services, Nominal, Domestic Currency - NM_XDC": 0,
         "External Trade, Goods, Value of Exports, Free on Board (FOB), US Dollars - TXG_FOB_USD": 1780400000,
         "External Trade, Goods, Value of Imports, Cost, Insurance, Freight (CIF), US Dollars - TMG_CIF_USD": 2435700000,
         "Financial, Interest Rates, Lending Rate, Percent per annum - FILR_PA": "nan",
         "International Liquidity, Total Reserves excluding Gold, Foreign Exchange, US Dollars - RAXGFX_USD": 996000000,
         "_deepnote_index_column": 62
        },
        {
         "Year": "1985Q2",
         "Country Name": "South Africa",
         "Country Code": 199,
         "Assets, Portfolio Investment, US Dollars - IAP_BP6_USD": 0,
         "External Balance of Goods and Services, Imports of Goods and Services, Nominal, Domestic Currency - NM_XDC": 0,
         "External Trade, Goods, Value of Exports, Free on Board (FOB), US Dollars - TXG_FOB_USD": 4254600719,
         "External Trade, Goods, Value of Imports, Cost, Insurance, Freight (CIF), US Dollars - TMG_CIF_USD": 3128745893,
         "Financial, Interest Rates, Lending Rate, Percent per annum - FILR_PA": 23.33333333,
         "International Liquidity, Total Reserves excluding Gold, Foreign Exchange, US Dollars - RAXGFX_USD": 432000000,
         "_deepnote_index_column": 63
        },
        {
         "Year": "1985Q2",
         "Country Name": "Thailand",
         "Country Code": 578,
         "Assets, Portfolio Investment, US Dollars - IAP_BP6_USD": 0,
         "External Balance of Goods and Services, Imports of Goods and Services, Nominal, Domestic Currency - NM_XDC": 0,
         "External Trade, Goods, Value of Exports, Free on Board (FOB), US Dollars - TXG_FOB_USD": 1790411190,
         "External Trade, Goods, Value of Imports, Cost, Insurance, Freight (CIF), US Dollars - TMG_CIF_USD": 2535939954,
         "Financial, Interest Rates, Lending Rate, Percent per annum - FILR_PA": 16.5,
         "International Liquidity, Total Reserves excluding Gold, Foreign Exchange, US Dollars - RAXGFX_USD": 2030000000,
         "_deepnote_index_column": 64
        },
        {
         "Year": "1985Q2",
         "Country Name": "Turkey",
         "Country Code": 186,
         "Assets, Portfolio Investment, US Dollars - IAP_BP6_USD": 0,
         "External Balance of Goods and Services, Imports of Goods and Services, Nominal, Domestic Currency - NM_XDC": 0,
         "External Trade, Goods, Value of Exports, Free on Board (FOB), US Dollars - TXG_FOB_USD": 1859500000,
         "External Trade, Goods, Value of Imports, Cost, Insurance, Freight (CIF), US Dollars - TMG_CIF_USD": 2582900000,
         "Financial, Interest Rates, Lending Rate, Percent per annum - FILR_PA": "nan",
         "International Liquidity, Total Reserves excluding Gold, Foreign Exchange, US Dollars - RAXGFX_USD": 1150000000,
         "_deepnote_index_column": 65
        },
        {
         "Year": "1985Q3",
         "Country Name": "South Africa",
         "Country Code": 199,
         "Assets, Portfolio Investment, US Dollars - IAP_BP6_USD": 0,
         "External Balance of Goods and Services, Imports of Goods and Services, Nominal, Domestic Currency - NM_XDC": 0,
         "External Trade, Goods, Value of Exports, Free on Board (FOB), US Dollars - TXG_FOB_USD": 4022549235,
         "External Trade, Goods, Value of Imports, Cost, Insurance, Freight (CIF), US Dollars - TMG_CIF_USD": 2897629550,
         "Financial, Interest Rates, Lending Rate, Percent per annum - FILR_PA": 20.5,
         "International Liquidity, Total Reserves excluding Gold, Foreign Exchange, US Dollars - RAXGFX_USD": 195000000,
         "_deepnote_index_column": 66
        },
        {
         "Year": "1985Q3",
         "Country Name": "Thailand",
         "Country Code": 578,
         "Assets, Portfolio Investment, US Dollars - IAP_BP6_USD": 0,
         "External Balance of Goods and Services, Imports of Goods and Services, Nominal, Domestic Currency - NM_XDC": 0,
         "External Trade, Goods, Value of Exports, Free on Board (FOB), US Dollars - TXG_FOB_USD": 1727603820,
         "External Trade, Goods, Value of Imports, Cost, Insurance, Freight (CIF), US Dollars - TMG_CIF_USD": 2148021211,
         "Financial, Interest Rates, Lending Rate, Percent per annum - FILR_PA": 15.83333333,
         "International Liquidity, Total Reserves excluding Gold, Foreign Exchange, US Dollars - RAXGFX_USD": 2153000000,
         "_deepnote_index_column": 67
        },
        {
         "Year": "1985Q3",
         "Country Name": "Turkey",
         "Country Code": 186,
         "Assets, Portfolio Investment, US Dollars - IAP_BP6_USD": 0,
         "External Balance of Goods and Services, Imports of Goods and Services, Nominal, Domestic Currency - NM_XDC": 0,
         "External Trade, Goods, Value of Exports, Free on Board (FOB), US Dollars - TXG_FOB_USD": 2087800000,
         "External Trade, Goods, Value of Imports, Cost, Insurance, Freight (CIF), US Dollars - TMG_CIF_USD": 2872400000,
         "Financial, Interest Rates, Lending Rate, Percent per annum - FILR_PA": "nan",
         "International Liquidity, Total Reserves excluding Gold, Foreign Exchange, US Dollars - RAXGFX_USD": 1164000000,
         "_deepnote_index_column": 68
        },
        {
         "Year": "1985Q4",
         "Country Name": "South Africa",
         "Country Code": 199,
         "Assets, Portfolio Investment, US Dollars - IAP_BP6_USD": 0,
         "External Balance of Goods and Services, Imports of Goods and Services, Nominal, Domestic Currency - NM_XDC": 0,
         "External Trade, Goods, Value of Exports, Free on Board (FOB), US Dollars - TXG_FOB_USD": 4097074811,
         "External Trade, Goods, Value of Imports, Cost, Insurance, Freight (CIF), US Dollars - TMG_CIF_USD": 2439193867,
         "Financial, Interest Rates, Lending Rate, Percent per annum - FILR_PA": 17.16666667,
         "International Liquidity, Total Reserves excluding Gold, Foreign Exchange, US Dollars - RAXGFX_USD": 314000000,
         "_deepnote_index_column": 69
        },
        {
         "Year": "1985Q4",
         "Country Name": "Thailand",
         "Country Code": 578,
         "Assets, Portfolio Investment, US Dollars - IAP_BP6_USD": 0,
         "External Balance of Goods and Services, Imports of Goods and Services, Nominal, Domestic Currency - NM_XDC": 0,
         "External Trade, Goods, Value of Exports, Free on Board (FOB), US Dollars - TXG_FOB_USD": 1817826107,
         "External Trade, Goods, Value of Imports, Cost, Insurance, Freight (CIF), US Dollars - TMG_CIF_USD": 2180938220,
         "Financial, Interest Rates, Lending Rate, Percent per annum - FILR_PA": 15.5,
         "International Liquidity, Total Reserves excluding Gold, Foreign Exchange, US Dollars - RAXGFX_USD": 2157000000,
         "_deepnote_index_column": 70
        },
        {
         "Year": "1985Q4",
         "Country Name": "Turkey",
         "Country Code": 186,
         "Assets, Portfolio Investment, US Dollars - IAP_BP6_USD": 0,
         "External Balance of Goods and Services, Imports of Goods and Services, Nominal, Domestic Currency - NM_XDC": 0,
         "External Trade, Goods, Value of Exports, Free on Board (FOB), US Dollars - TXG_FOB_USD": 2229200000,
         "External Trade, Goods, Value of Imports, Cost, Insurance, Freight (CIF), US Dollars - TMG_CIF_USD": 3451500000,
         "Financial, Interest Rates, Lending Rate, Percent per annum - FILR_PA": "nan",
         "International Liquidity, Total Reserves excluding Gold, Foreign Exchange, US Dollars - RAXGFX_USD": 1020000000,
         "_deepnote_index_column": 71
        },
        {
         "Year": "1986Q1",
         "Country Name": "South Africa",
         "Country Code": 199,
         "Assets, Portfolio Investment, US Dollars - IAP_BP6_USD": 0,
         "External Balance of Goods and Services, Imports of Goods and Services, Nominal, Domestic Currency - NM_XDC": 0,
         "External Trade, Goods, Value of Exports, Free on Board (FOB), US Dollars - TXG_FOB_USD": 4277897107,
         "External Trade, Goods, Value of Imports, Cost, Insurance, Freight (CIF), US Dollars - TMG_CIF_USD": 3443114108,
         "Financial, Interest Rates, Lending Rate, Percent per annum - FILR_PA": 15.5,
         "International Liquidity, Total Reserves excluding Gold, Foreign Exchange, US Dollars - RAXGFX_USD": 367000000,
         "_deepnote_index_column": 72
        },
        {
         "Year": "1986Q1",
         "Country Name": "Thailand",
         "Country Code": 578,
         "Assets, Portfolio Investment, US Dollars - IAP_BP6_USD": 0,
         "External Balance of Goods and Services, Imports of Goods and Services, Nominal, Domestic Currency - NM_XDC": 0,
         "External Trade, Goods, Value of Exports, Free on Board (FOB), US Dollars - TXG_FOB_USD": 2135076234,
         "External Trade, Goods, Value of Imports, Cost, Insurance, Freight (CIF), US Dollars - TMG_CIF_USD": 2214223288,
         "Financial, Interest Rates, Lending Rate, Percent per annum - FILR_PA": 15,
         "International Liquidity, Total Reserves excluding Gold, Foreign Exchange, US Dollars - RAXGFX_USD": 2325000000,
         "_deepnote_index_column": 73
        },
        {
         "Year": "1986Q1",
         "Country Name": "Turkey",
         "Country Code": 186,
         "Assets, Portfolio Investment, US Dollars - IAP_BP6_USD": 0,
         "External Balance of Goods and Services, Imports of Goods and Services, Nominal, Domestic Currency - NM_XDC": 0,
         "External Trade, Goods, Value of Exports, Free on Board (FOB), US Dollars - TXG_FOB_USD": 1878400000,
         "External Trade, Goods, Value of Imports, Cost, Insurance, Freight (CIF), US Dollars - TMG_CIF_USD": 2811700000,
         "Financial, Interest Rates, Lending Rate, Percent per annum - FILR_PA": "nan",
         "International Liquidity, Total Reserves excluding Gold, Foreign Exchange, US Dollars - RAXGFX_USD": 1157000100,
         "_deepnote_index_column": 74
        },
        {
         "Year": "1986Q2",
         "Country Name": "South Africa",
         "Country Code": 199,
         "Assets, Portfolio Investment, US Dollars - IAP_BP6_USD": 0,
         "External Balance of Goods and Services, Imports of Goods and Services, Nominal, Domestic Currency - NM_XDC": 0,
         "External Trade, Goods, Value of Exports, Free on Board (FOB), US Dollars - TXG_FOB_USD": 4549048537,
         "External Trade, Goods, Value of Imports, Cost, Insurance, Freight (CIF), US Dollars - TMG_CIF_USD": 3078279579,
         "Financial, Interest Rates, Lending Rate, Percent per annum - FILR_PA": 14.83333333,
         "International Liquidity, Total Reserves excluding Gold, Foreign Exchange, US Dollars - RAXGFX_USD": 271000000,
         "_deepnote_index_column": 75
        },
        {
         "Year": "1986Q2",
         "Country Name": "Thailand",
         "Country Code": 578,
         "Assets, Portfolio Investment, US Dollars - IAP_BP6_USD": 0,
         "External Balance of Goods and Services, Imports of Goods and Services, Nominal, Domestic Currency - NM_XDC": 0,
         "External Trade, Goods, Value of Exports, Free on Board (FOB), US Dollars - TXG_FOB_USD": 2200250827,
         "External Trade, Goods, Value of Imports, Cost, Insurance, Freight (CIF), US Dollars - TMG_CIF_USD": 2237198684,
         "Financial, Interest Rates, Lending Rate, Percent per annum - FILR_PA": 14,
         "International Liquidity, Total Reserves excluding Gold, Foreign Exchange, US Dollars - RAXGFX_USD": 2312000000,
         "_deepnote_index_column": 76
        },
        {
         "Year": "1986Q2",
         "Country Name": "Turkey",
         "Country Code": 186,
         "Assets, Portfolio Investment, US Dollars - IAP_BP6_USD": 0,
         "External Balance of Goods and Services, Imports of Goods and Services, Nominal, Domestic Currency - NM_XDC": 0,
         "External Trade, Goods, Value of Exports, Free on Board (FOB), US Dollars - TXG_FOB_USD": 1688300000,
         "External Trade, Goods, Value of Imports, Cost, Insurance, Freight (CIF), US Dollars - TMG_CIF_USD": 2640000000,
         "Financial, Interest Rates, Lending Rate, Percent per annum - FILR_PA": "nan",
         "International Liquidity, Total Reserves excluding Gold, Foreign Exchange, US Dollars - RAXGFX_USD": 1379000100,
         "_deepnote_index_column": 77
        },
        {
         "Year": "1986Q3",
         "Country Name": "South Africa",
         "Country Code": 199,
         "Assets, Portfolio Investment, US Dollars - IAP_BP6_USD": 0,
         "External Balance of Goods and Services, Imports of Goods and Services, Nominal, Domestic Currency - NM_XDC": 0,
         "External Trade, Goods, Value of Exports, Free on Board (FOB), US Dollars - TXG_FOB_USD": 4732096629,
         "External Trade, Goods, Value of Imports, Cost, Insurance, Freight (CIF), US Dollars - TMG_CIF_USD": 3484533680,
         "Financial, Interest Rates, Lending Rate, Percent per annum - FILR_PA": 14,
         "International Liquidity, Total Reserves excluding Gold, Foreign Exchange, US Dollars - RAXGFX_USD": 752000000,
         "_deepnote_index_column": 78
        },
        {
         "Year": "1986Q3",
         "Country Name": "Thailand",
         "Country Code": 578,
         "Assets, Portfolio Investment, US Dollars - IAP_BP6_USD": 0,
         "External Balance of Goods and Services, Imports of Goods and Services, Nominal, Domestic Currency - NM_XDC": 0,
         "External Trade, Goods, Value of Exports, Free on Board (FOB), US Dollars - TXG_FOB_USD": 2279556243,
         "External Trade, Goods, Value of Imports, Cost, Insurance, Freight (CIF), US Dollars - TMG_CIF_USD": 2323694371,
         "Financial, Interest Rates, Lending Rate, Percent per annum - FILR_PA": 12.5,
         "International Liquidity, Total Reserves excluding Gold, Foreign Exchange, US Dollars - RAXGFX_USD": 2577000000,
         "_deepnote_index_column": 79
        },
        {
         "Year": "1986Q3",
         "Country Name": "Turkey",
         "Country Code": 186,
         "Assets, Portfolio Investment, US Dollars - IAP_BP6_USD": 0,
         "External Balance of Goods and Services, Imports of Goods and Services, Nominal, Domestic Currency - NM_XDC": 0,
         "External Trade, Goods, Value of Exports, Free on Board (FOB), US Dollars - TXG_FOB_USD": 1659500000,
         "External Trade, Goods, Value of Imports, Cost, Insurance, Freight (CIF), US Dollars - TMG_CIF_USD": 2646500000,
         "Financial, Interest Rates, Lending Rate, Percent per annum - FILR_PA": "nan",
         "International Liquidity, Total Reserves excluding Gold, Foreign Exchange, US Dollars - RAXGFX_USD": 1335000000,
         "_deepnote_index_column": 80
        },
        {
         "Year": "1986Q4",
         "Country Name": "South Africa",
         "Country Code": 199,
         "Assets, Portfolio Investment, US Dollars - IAP_BP6_USD": 0,
         "External Balance of Goods and Services, Imports of Goods and Services, Nominal, Domestic Currency - NM_XDC": 0,
         "External Trade, Goods, Value of Exports, Free on Board (FOB), US Dollars - TXG_FOB_USD": 4816604973,
         "External Trade, Goods, Value of Imports, Cost, Insurance, Freight (CIF), US Dollars - TMG_CIF_USD": 2968369305,
         "Financial, Interest Rates, Lending Rate, Percent per annum - FILR_PA": 13,
         "International Liquidity, Total Reserves excluding Gold, Foreign Exchange, US Dollars - RAXGFX_USD": 370000000,
         "_deepnote_index_column": 81
        },
        {
         "Year": "1986Q4",
         "Country Name": "Thailand",
         "Country Code": 578,
         "Assets, Portfolio Investment, US Dollars - IAP_BP6_USD": 0,
         "External Balance of Goods and Services, Imports of Goods and Services, Nominal, Domestic Currency - NM_XDC": 0,
         "External Trade, Goods, Value of Exports, Free on Board (FOB), US Dollars - TXG_FOB_USD": 2257159492,
         "External Trade, Goods, Value of Imports, Cost, Insurance, Freight (CIF), US Dollars - TMG_CIF_USD": 2397555193,
         "Financial, Interest Rates, Lending Rate, Percent per annum - FILR_PA": 12,
         "International Liquidity, Total Reserves excluding Gold, Foreign Exchange, US Dollars - RAXGFX_USD": 2736000000,
         "_deepnote_index_column": 82
        },
        {
         "Year": "1986Q4",
         "Country Name": "Turkey",
         "Country Code": 186,
         "Assets, Portfolio Investment, US Dollars - IAP_BP6_USD": 0,
         "External Balance of Goods and Services, Imports of Goods and Services, Nominal, Domestic Currency - NM_XDC": 0,
         "External Trade, Goods, Value of Exports, Free on Board (FOB), US Dollars - TXG_FOB_USD": 2230700000,
         "External Trade, Goods, Value of Imports, Cost, Insurance, Freight (CIF), US Dollars - TMG_CIF_USD": 3006100000,
         "Financial, Interest Rates, Lending Rate, Percent per annum - FILR_PA": "nan",
         "International Liquidity, Total Reserves excluding Gold, Foreign Exchange, US Dollars - RAXGFX_USD": 1372000000,
         "_deepnote_index_column": 83
        },
        {
         "Year": "1987Q1",
         "Country Name": "South Africa",
         "Country Code": 199,
         "Assets, Portfolio Investment, US Dollars - IAP_BP6_USD": 0,
         "External Balance of Goods and Services, Imports of Goods and Services, Nominal, Domestic Currency - NM_XDC": 0,
         "External Trade, Goods, Value of Exports, Free on Board (FOB), US Dollars - TXG_FOB_USD": 5145016114,
         "External Trade, Goods, Value of Imports, Cost, Insurance, Freight (CIF), US Dollars - TMG_CIF_USD": 3376356364,
         "Financial, Interest Rates, Lending Rate, Percent per annum - FILR_PA": 12.5,
         "International Liquidity, Total Reserves excluding Gold, Foreign Exchange, US Dollars - RAXGFX_USD": 1052000000,
         "_deepnote_index_column": 84
        },
        {
         "Year": "1987Q1",
         "Country Name": "Thailand",
         "Country Code": 578,
         "Assets, Portfolio Investment, US Dollars - IAP_BP6_USD": 0,
         "External Balance of Goods and Services, Imports of Goods and Services, Nominal, Domestic Currency - NM_XDC": 0,
         "External Trade, Goods, Value of Exports, Free on Board (FOB), US Dollars - TXG_FOB_USD": 2539949841,
         "External Trade, Goods, Value of Imports, Cost, Insurance, Freight (CIF), US Dollars - TMG_CIF_USD": 2815614768,
         "Financial, Interest Rates, Lending Rate, Percent per annum - FILR_PA": 11.66666667,
         "International Liquidity, Total Reserves excluding Gold, Foreign Exchange, US Dollars - RAXGFX_USD": 3152000000,
         "_deepnote_index_column": 85
        },
        {
         "Year": "1987Q1",
         "Country Name": "Turkey",
         "Country Code": 186,
         "Assets, Portfolio Investment, US Dollars - IAP_BP6_USD": 0,
         "External Balance of Goods and Services, Imports of Goods and Services, Nominal, Domestic Currency - NM_XDC": 2349000,
         "External Trade, Goods, Value of Exports, Free on Board (FOB), US Dollars - TXG_FOB_USD": 1988600000,
         "External Trade, Goods, Value of Imports, Cost, Insurance, Freight (CIF), US Dollars - TMG_CIF_USD": 2840400000,
         "Financial, Interest Rates, Lending Rate, Percent per annum - FILR_PA": "nan",
         "International Liquidity, Total Reserves excluding Gold, Foreign Exchange, US Dollars - RAXGFX_USD": 1508000000,
         "_deepnote_index_column": 86
        },
        {
         "Year": "1987Q2",
         "Country Name": "South Africa",
         "Country Code": 199,
         "Assets, Portfolio Investment, US Dollars - IAP_BP6_USD": 0,
         "External Balance of Goods and Services, Imports of Goods and Services, Nominal, Domestic Currency - NM_XDC": 0,
         "External Trade, Goods, Value of Exports, Free on Board (FOB), US Dollars - TXG_FOB_USD": 4955851503,
         "External Trade, Goods, Value of Imports, Cost, Insurance, Freight (CIF), US Dollars - TMG_CIF_USD": 3655326792,
         "Financial, Interest Rates, Lending Rate, Percent per annum - FILR_PA": 12.5,
         "International Liquidity, Total Reserves excluding Gold, Foreign Exchange, US Dollars - RAXGFX_USD": 762000000,
         "_deepnote_index_column": 87
        },
        {
         "Year": "1987Q2",
         "Country Name": "Thailand",
         "Country Code": 578,
         "Assets, Portfolio Investment, US Dollars - IAP_BP6_USD": 0,
         "External Balance of Goods and Services, Imports of Goods and Services, Nominal, Domestic Currency - NM_XDC": 0,
         "External Trade, Goods, Value of Exports, Free on Board (FOB), US Dollars - TXG_FOB_USD": 2813196838,
         "External Trade, Goods, Value of Imports, Cost, Insurance, Freight (CIF), US Dollars - TMG_CIF_USD": 3064139156,
         "Financial, Interest Rates, Lending Rate, Percent per annum - FILR_PA": 11.5,
         "International Liquidity, Total Reserves excluding Gold, Foreign Exchange, US Dollars - RAXGFX_USD": 3596000000,
         "_deepnote_index_column": 88
        },
        {
         "Year": "1987Q2",
         "Country Name": "Turkey",
         "Country Code": 186,
         "Assets, Portfolio Investment, US Dollars - IAP_BP6_USD": 0,
         "External Balance of Goods and Services, Imports of Goods and Services, Nominal, Domestic Currency - NM_XDC": 2673000,
         "External Trade, Goods, Value of Exports, Free on Board (FOB), US Dollars - TXG_FOB_USD": 2243800000,
         "External Trade, Goods, Value of Imports, Cost, Insurance, Freight (CIF), US Dollars - TMG_CIF_USD": 3037600000,
         "Financial, Interest Rates, Lending Rate, Percent per annum - FILR_PA": "nan",
         "International Liquidity, Total Reserves excluding Gold, Foreign Exchange, US Dollars - RAXGFX_USD": 1314000000,
         "_deepnote_index_column": 89
        },
        {
         "Year": "1987Q3",
         "Country Name": "South Africa",
         "Country Code": 199,
         "Assets, Portfolio Investment, US Dollars - IAP_BP6_USD": 0,
         "External Balance of Goods and Services, Imports of Goods and Services, Nominal, Domestic Currency - NM_XDC": 0,
         "External Trade, Goods, Value of Exports, Free on Board (FOB), US Dollars - TXG_FOB_USD": 5458322830,
         "External Trade, Goods, Value of Imports, Cost, Insurance, Freight (CIF), US Dollars - TMG_CIF_USD": 3941398215,
         "Financial, Interest Rates, Lending Rate, Percent per annum - FILR_PA": 12.5,
         "International Liquidity, Total Reserves excluding Gold, Foreign Exchange, US Dollars - RAXGFX_USD": 731000000,
         "_deepnote_index_column": 90
        },
        {
         "Year": "1987Q3",
         "Country Name": "Thailand",
         "Country Code": 578,
         "Assets, Portfolio Investment, US Dollars - IAP_BP6_USD": 0,
         "External Balance of Goods and Services, Imports of Goods and Services, Nominal, Domestic Currency - NM_XDC": 0,
         "External Trade, Goods, Value of Exports, Free on Board (FOB), US Dollars - TXG_FOB_USD": 2981589087,
         "External Trade, Goods, Value of Imports, Cost, Insurance, Freight (CIF), US Dollars - TMG_CIF_USD": 3400928680,
         "Financial, Interest Rates, Lending Rate, Percent per annum - FILR_PA": 11.5,
         "International Liquidity, Total Reserves excluding Gold, Foreign Exchange, US Dollars - RAXGFX_USD": 3665000000,
         "_deepnote_index_column": 91
        },
        {
         "Year": "1987Q3",
         "Country Name": "Turkey",
         "Country Code": 186,
         "Assets, Portfolio Investment, US Dollars - IAP_BP6_USD": 0,
         "External Balance of Goods and Services, Imports of Goods and Services, Nominal, Domestic Currency - NM_XDC": 3341000,
         "External Trade, Goods, Value of Exports, Free on Board (FOB), US Dollars - TXG_FOB_USD": 2636000000,
         "External Trade, Goods, Value of Imports, Cost, Insurance, Freight (CIF), US Dollars - TMG_CIF_USD": 3516800000,
         "Financial, Interest Rates, Lending Rate, Percent per annum - FILR_PA": "nan",
         "International Liquidity, Total Reserves excluding Gold, Foreign Exchange, US Dollars - RAXGFX_USD": 1282000000,
         "_deepnote_index_column": 92
        },
        {
         "Year": "1987Q4",
         "Country Name": "South Africa",
         "Country Code": 199,
         "Assets, Portfolio Investment, US Dollars - IAP_BP6_USD": 0,
         "External Balance of Goods and Services, Imports of Goods and Services, Nominal, Domestic Currency - NM_XDC": 0,
         "External Trade, Goods, Value of Exports, Free on Board (FOB), US Dollars - TXG_FOB_USD": 5665108419,
         "External Trade, Goods, Value of Imports, Cost, Insurance, Freight (CIF), US Dollars - TMG_CIF_USD": 4321514290,
         "Financial, Interest Rates, Lending Rate, Percent per annum - FILR_PA": 12.5,
         "International Liquidity, Total Reserves excluding Gold, Foreign Exchange, US Dollars - RAXGFX_USD": 639000000,
         "_deepnote_index_column": 93
        },
        {
         "Year": "1987Q4",
         "Country Name": "Thailand",
         "Country Code": 578,
         "Assets, Portfolio Investment, US Dollars - IAP_BP6_USD": 0,
         "External Balance of Goods and Services, Imports of Goods and Services, Nominal, Domestic Currency - NM_XDC": 0,
         "External Trade, Goods, Value of Exports, Free on Board (FOB), US Dollars - TXG_FOB_USD": 3318952128,
         "External Trade, Goods, Value of Imports, Cost, Insurance, Freight (CIF), US Dollars - TMG_CIF_USD": 3742457538,
         "Financial, Interest Rates, Lending Rate, Percent per annum - FILR_PA": 11.5,
         "International Liquidity, Total Reserves excluding Gold, Foreign Exchange, US Dollars - RAXGFX_USD": 3906000000,
         "_deepnote_index_column": 94
        },
        {
         "Year": "1987Q4",
         "Country Name": "Turkey",
         "Country Code": 186,
         "Assets, Portfolio Investment, US Dollars - IAP_BP6_USD": 0,
         "External Balance of Goods and Services, Imports of Goods and Services, Nominal, Domestic Currency - NM_XDC": 4905000,
         "External Trade, Goods, Value of Exports, Free on Board (FOB), US Dollars - TXG_FOB_USD": 3321600000,
         "External Trade, Goods, Value of Imports, Cost, Insurance, Freight (CIF), US Dollars - TMG_CIF_USD": 4762600000,
         "Financial, Interest Rates, Lending Rate, Percent per annum - FILR_PA": "nan",
         "International Liquidity, Total Reserves excluding Gold, Foreign Exchange, US Dollars - RAXGFX_USD": 1730000000,
         "_deepnote_index_column": 95
        },
        {
         "Year": "1988Q1",
         "Country Name": "South Africa",
         "Country Code": 199,
         "Assets, Portfolio Investment, US Dollars - IAP_BP6_USD": 0,
         "External Balance of Goods and Services, Imports of Goods and Services, Nominal, Domestic Currency - NM_XDC": 0,
         "External Trade, Goods, Value of Exports, Free on Board (FOB), US Dollars - TXG_FOB_USD": 5321618219,
         "External Trade, Goods, Value of Imports, Cost, Insurance, Freight (CIF), US Dollars - TMG_CIF_USD": 4508897227,
         "Financial, Interest Rates, Lending Rate, Percent per annum - FILR_PA": 13.33333333,
         "International Liquidity, Total Reserves excluding Gold, Foreign Exchange, US Dollars - RAXGFX_USD": 473000000,
         "_deepnote_index_column": 96
        },
        {
         "Year": "1988Q1",
         "Country Name": "Thailand",
         "Country Code": 578,
         "Assets, Portfolio Investment, US Dollars - IAP_BP6_USD": 0,
         "External Balance of Goods and Services, Imports of Goods and Services, Nominal, Domestic Currency - NM_XDC": 0,
         "External Trade, Goods, Value of Exports, Free on Board (FOB), US Dollars - TXG_FOB_USD": 3507265882,
         "External Trade, Goods, Value of Imports, Cost, Insurance, Freight (CIF), US Dollars - TMG_CIF_USD": 4705674762,
         "Financial, Interest Rates, Lending Rate, Percent per annum - FILR_PA": 11.5,
         "International Liquidity, Total Reserves excluding Gold, Foreign Exchange, US Dollars - RAXGFX_USD": 4419000000,
         "_deepnote_index_column": 97
        },
        {
         "Year": "1988Q1",
         "Country Name": "Turkey",
         "Country Code": 186,
         "Assets, Portfolio Investment, US Dollars - IAP_BP6_USD": 0,
         "External Balance of Goods and Services, Imports of Goods and Services, Nominal, Domestic Currency - NM_XDC": 4450000,
         "External Trade, Goods, Value of Exports, Free on Board (FOB), US Dollars - TXG_FOB_USD": 2802400000,
         "External Trade, Goods, Value of Imports, Cost, Insurance, Freight (CIF), US Dollars - TMG_CIF_USD": 3492700000,
         "Financial, Interest Rates, Lending Rate, Percent per annum - FILR_PA": "nan",
         "International Liquidity, Total Reserves excluding Gold, Foreign Exchange, US Dollars - RAXGFX_USD": 1663000000,
         "_deepnote_index_column": 98
        },
        {
         "Year": "1988Q2",
         "Country Name": "South Africa",
         "Country Code": 199,
         "Assets, Portfolio Investment, US Dollars - IAP_BP6_USD": 0,
         "External Balance of Goods and Services, Imports of Goods and Services, Nominal, Domestic Currency - NM_XDC": 0,
         "External Trade, Goods, Value of Exports, Free on Board (FOB), US Dollars - TXG_FOB_USD": 5091319937,
         "External Trade, Goods, Value of Imports, Cost, Insurance, Freight (CIF), US Dollars - TMG_CIF_USD": 4711343570,
         "Financial, Interest Rates, Lending Rate, Percent per annum - FILR_PA": 14.66666667,
         "International Liquidity, Total Reserves excluding Gold, Foreign Exchange, US Dollars - RAXGFX_USD": 736000000,
         "_deepnote_index_column": 99
        }
       ],
       "rows_bottom": null
      },
      "text/plain": "Indicator Name    Year  Country Name  Country Code  \\\n0               1980Q1  South Africa           199   \n1               1980Q1      Thailand           578   \n2               1980Q1        Turkey           186   \n3               1980Q2  South Africa           199   \n4               1980Q2      Thailand           578   \n..                 ...           ...           ...   \n95              1987Q4        Turkey           186   \n96              1988Q1  South Africa           199   \n97              1988Q1      Thailand           578   \n98              1988Q1        Turkey           186   \n99              1988Q2  South Africa           199   \n\nIndicator Name  Assets, Portfolio Investment, US Dollars - IAP_BP6_USD  \\\n0                                                             0.0        \n1                                                             0.0        \n2                                                             0.0        \n3                                                             0.0        \n4                                                             0.0        \n..                                                            ...        \n95                                                            0.0        \n96                                                            0.0        \n97                                                            0.0        \n98                                                            0.0        \n99                                                            0.0        \n\nIndicator Name  External Balance of Goods and Services, Imports of Goods and Services, Nominal, Domestic Currency - NM_XDC  \\\n0                                                             0.0                                                            \n1                                                             0.0                                                            \n2                                                             0.0                                                            \n3                                                             0.0                                                            \n4                                                             0.0                                                            \n..                                                            ...                                                            \n95                                                      4905000.0                                                            \n96                                                            0.0                                                            \n97                                                            0.0                                                            \n98                                                      4450000.0                                                            \n99                                                            0.0                                                            \n\nIndicator Name  External Trade, Goods, Value of Exports, Free on Board (FOB), US Dollars - TXG_FOB_USD  \\\n0                                                    6.502265e+09                                        \n1                                                    1.928077e+09                                        \n2                                                    7.140100e+08                                        \n3                                                    5.783546e+09                                        \n4                                                    1.551523e+09                                        \n..                                                            ...                                        \n95                                                   3.321600e+09                                        \n96                                                   5.321618e+09                                        \n97                                                   3.507266e+09                                        \n98                                                   2.802400e+09                                        \n99                                                   5.091320e+09                                        \n\nIndicator Name  External Trade, Goods, Value of Imports, Cost, Insurance, Freight (CIF), US Dollars - TMG_CIF_USD  \\\n0                                                    3.607429e+09                                                   \n1                                                    2.140478e+09                                                   \n2                                                    1.398400e+09                                                   \n3                                                    4.908747e+09                                                   \n4                                                    2.254750e+09                                                   \n..                                                            ...                                                   \n95                                                   4.762600e+09                                                   \n96                                                   4.508897e+09                                                   \n97                                                   4.705675e+09                                                   \n98                                                   3.492700e+09                                                   \n99                                                   4.711344e+09                                                   \n\nIndicator Name  Financial, Interest Rates, Lending Rate, Percent per annum - FILR_PA  \\\n0                                                        9.500000                      \n1                                                       16.000000                      \n2                                                             NaN                      \n3                                                        9.500000                      \n4                                                       16.833333                      \n..                                                            ...                      \n95                                                            NaN                      \n96                                                      13.333333                      \n97                                                      11.500000                      \n98                                                            NaN                      \n99                                                      14.666667                      \n\nIndicator Name  International Liquidity, Total Reserves excluding Gold, Foreign Exchange, US Dollars - RAXGFX_USD  \n0                                                    5.640000e+08                                                  \n1                                                    1.636000e+09                                                  \n2                                                    9.560000e+08                                                  \n3                                                    6.690000e+08                                                  \n4                                                    2.136000e+09                                                  \n..                                                            ...                                                  \n95                                                   1.730000e+09                                                  \n96                                                   4.730000e+08                                                  \n97                                                   4.419000e+09                                                  \n98                                                   1.663000e+09                                                  \n99                                                   7.360000e+08                                                  \n\n[100 rows x 9 columns]",
      "text/html": "<div>\n<style scoped>\n    .dataframe tbody tr th:only-of-type {\n        vertical-align: middle;\n    }\n\n    .dataframe tbody tr th {\n        vertical-align: top;\n    }\n\n    .dataframe thead th {\n        text-align: right;\n    }\n</style>\n<table border=\"1\" class=\"dataframe\">\n  <thead>\n    <tr style=\"text-align: right;\">\n      <th>Indicator Name</th>\n      <th>Year</th>\n      <th>Country Name</th>\n      <th>Country Code</th>\n      <th>Assets, Portfolio Investment, US Dollars - IAP_BP6_USD</th>\n      <th>External Balance of Goods and Services, Imports of Goods and Services, Nominal, Domestic Currency - NM_XDC</th>\n      <th>External Trade, Goods, Value of Exports, Free on Board (FOB), US Dollars - TXG_FOB_USD</th>\n      <th>External Trade, Goods, Value of Imports, Cost, Insurance, Freight (CIF), US Dollars - TMG_CIF_USD</th>\n      <th>Financial, Interest Rates, Lending Rate, Percent per annum - FILR_PA</th>\n      <th>International Liquidity, Total Reserves excluding Gold, Foreign Exchange, US Dollars - RAXGFX_USD</th>\n    </tr>\n  </thead>\n  <tbody>\n    <tr>\n      <th>0</th>\n      <td>1980Q1</td>\n      <td>South Africa</td>\n      <td>199</td>\n      <td>0.0</td>\n      <td>0.0</td>\n      <td>6.502265e+09</td>\n      <td>3.607429e+09</td>\n      <td>9.500000</td>\n      <td>5.640000e+08</td>\n    </tr>\n    <tr>\n      <th>1</th>\n      <td>1980Q1</td>\n      <td>Thailand</td>\n      <td>578</td>\n      <td>0.0</td>\n      <td>0.0</td>\n      <td>1.928077e+09</td>\n      <td>2.140478e+09</td>\n      <td>16.000000</td>\n      <td>1.636000e+09</td>\n    </tr>\n    <tr>\n      <th>2</th>\n      <td>1980Q1</td>\n      <td>Turkey</td>\n      <td>186</td>\n      <td>0.0</td>\n      <td>0.0</td>\n      <td>7.140100e+08</td>\n      <td>1.398400e+09</td>\n      <td>NaN</td>\n      <td>9.560000e+08</td>\n    </tr>\n    <tr>\n      <th>3</th>\n      <td>1980Q2</td>\n      <td>South Africa</td>\n      <td>199</td>\n      <td>0.0</td>\n      <td>0.0</td>\n      <td>5.783546e+09</td>\n      <td>4.908747e+09</td>\n      <td>9.500000</td>\n      <td>6.690000e+08</td>\n    </tr>\n    <tr>\n      <th>4</th>\n      <td>1980Q2</td>\n      <td>Thailand</td>\n      <td>578</td>\n      <td>0.0</td>\n      <td>0.0</td>\n      <td>1.551523e+09</td>\n      <td>2.254750e+09</td>\n      <td>16.833333</td>\n      <td>2.136000e+09</td>\n    </tr>\n    <tr>\n      <th>...</th>\n      <td>...</td>\n      <td>...</td>\n      <td>...</td>\n      <td>...</td>\n      <td>...</td>\n      <td>...</td>\n      <td>...</td>\n      <td>...</td>\n      <td>...</td>\n    </tr>\n    <tr>\n      <th>95</th>\n      <td>1987Q4</td>\n      <td>Turkey</td>\n      <td>186</td>\n      <td>0.0</td>\n      <td>4905000.0</td>\n      <td>3.321600e+09</td>\n      <td>4.762600e+09</td>\n      <td>NaN</td>\n      <td>1.730000e+09</td>\n    </tr>\n    <tr>\n      <th>96</th>\n      <td>1988Q1</td>\n      <td>South Africa</td>\n      <td>199</td>\n      <td>0.0</td>\n      <td>0.0</td>\n      <td>5.321618e+09</td>\n      <td>4.508897e+09</td>\n      <td>13.333333</td>\n      <td>4.730000e+08</td>\n    </tr>\n    <tr>\n      <th>97</th>\n      <td>1988Q1</td>\n      <td>Thailand</td>\n      <td>578</td>\n      <td>0.0</td>\n      <td>0.0</td>\n      <td>3.507266e+09</td>\n      <td>4.705675e+09</td>\n      <td>11.500000</td>\n      <td>4.419000e+09</td>\n    </tr>\n    <tr>\n      <th>98</th>\n      <td>1988Q1</td>\n      <td>Turkey</td>\n      <td>186</td>\n      <td>0.0</td>\n      <td>4450000.0</td>\n      <td>2.802400e+09</td>\n      <td>3.492700e+09</td>\n      <td>NaN</td>\n      <td>1.663000e+09</td>\n    </tr>\n    <tr>\n      <th>99</th>\n      <td>1988Q2</td>\n      <td>South Africa</td>\n      <td>199</td>\n      <td>0.0</td>\n      <td>0.0</td>\n      <td>5.091320e+09</td>\n      <td>4.711344e+09</td>\n      <td>14.666667</td>\n      <td>7.360000e+08</td>\n    </tr>\n  </tbody>\n</table>\n<p>100 rows × 9 columns</p>\n</div>"
     },
     "metadata": {}
    }
   ]
  },
  {
   "cell_type": "markdown",
   "source": "Useful code to find data type for each value in the dataframe",
   "metadata": {
    "tags": [],
    "cell_id": "00024-83c772e7-f7de-4f16-a926-a207c580263b",
    "deepnote_cell_type": "markdown"
   }
  },
  {
   "cell_type": "markdown",
   "source": "## World Bank API ",
   "metadata": {
    "tags": [],
    "cell_id": "00020-8bccfaca-0e82-4834-8afa-d036628b2616",
    "deepnote_cell_type": "markdown"
   }
  },
  {
   "cell_type": "code",
   "metadata": {
    "tags": [],
    "cell_id": "00019-e334d0c1-df3e-45d6-86cc-a07c15200bd3",
    "deepnote_to_be_reexecuted": false,
    "source_hash": "9f72e66e",
    "execution_start": 1624726539986,
    "execution_millis": 0,
    "deepnote_cell_type": "code"
   },
   "source": "import pandas as pd\nimport world_bank_data as wb\npd.set_option('display.max_rows', 6)",
   "execution_count": 34,
   "outputs": []
  },
  {
   "cell_type": "code",
   "metadata": {
    "tags": [],
    "cell_id": "00021-93c1b6e8-7213-47d1-ac69-020b68f324ed",
    "deepnote_to_be_reexecuted": false,
    "source_hash": "890f9c9c",
    "execution_start": 1624645424959,
    "execution_millis": 103,
    "output_cleared": true,
    "deepnote_cell_type": "code"
   },
   "source": "wb.get_topics()",
   "execution_count": null,
   "outputs": []
  },
  {
   "cell_type": "code",
   "metadata": {
    "tags": [],
    "cell_id": "00022-f3cb66a8-a3ee-4024-8456-96cc040970e8",
    "deepnote_to_be_reexecuted": false,
    "source_hash": "5c04bf6a",
    "execution_start": 1624726822881,
    "execution_millis": 389,
    "output_cleared": false,
    "deepnote_cell_type": "code"
   },
   "source": "pd.DataFrame(wb.get_series('FM.LBL.MQMY.ZG', date='2010:2018', id_or_value='id', simplify_index=True)).reset_index()\n\n#FM.LBL.MQMY.IR.ZS",
   "execution_count": 43,
   "outputs": [
    {
     "output_type": "error",
     "ename": "ValueError",
     "evalue": "The indicator was not found. It may have been deleted or archived.\nurl=http://api.worldbank.org/v2/country/all/indicator/FM.LBL.MQMY.ZG\nparams={'date': '2010:2018', 'format': 'jsonstat', 'per_page': 20000}",
     "traceback": [
      "\u001b[0;31m---------------------------------------------------------------------------\u001b[0m",
      "\u001b[0;31mJSONDecodeError\u001b[0m                           Traceback (most recent call last)",
      "\u001b[0;32m~/venv/lib/python3.7/site-packages/world_bank_data/request.py\u001b[0m in \u001b[0;36mwb_get\u001b[0;34m(*args, **kwargs)\u001b[0m\n\u001b[1;32m     71\u001b[0m     \u001b[0;32mtry\u001b[0m\u001b[0;34m:\u001b[0m\u001b[0;34m\u001b[0m\u001b[0;34m\u001b[0m\u001b[0m\n\u001b[0;32m---> 72\u001b[0;31m         \u001b[0mdata\u001b[0m \u001b[0;34m=\u001b[0m \u001b[0mresponse\u001b[0m\u001b[0;34m.\u001b[0m\u001b[0mjson\u001b[0m\u001b[0;34m(\u001b[0m\u001b[0;34m)\u001b[0m\u001b[0;34m\u001b[0m\u001b[0;34m\u001b[0m\u001b[0m\n\u001b[0m\u001b[1;32m     73\u001b[0m     \u001b[0;32mexcept\u001b[0m \u001b[0mValueError\u001b[0m\u001b[0;34m:\u001b[0m  \u001b[0;31m# simplejson.errors.JSONDecodeError derives from ValueError\u001b[0m\u001b[0;34m\u001b[0m\u001b[0;34m\u001b[0m\u001b[0m\n",
      "\u001b[0;32m/shared-libs/python3.7/py/lib/python3.7/site-packages/requests/models.py\u001b[0m in \u001b[0;36mjson\u001b[0;34m(self, **kwargs)\u001b[0m\n\u001b[1;32m    899\u001b[0m                     \u001b[0;32mpass\u001b[0m\u001b[0;34m\u001b[0m\u001b[0;34m\u001b[0m\u001b[0m\n\u001b[0;32m--> 900\u001b[0;31m         \u001b[0;32mreturn\u001b[0m \u001b[0mcomplexjson\u001b[0m\u001b[0;34m.\u001b[0m\u001b[0mloads\u001b[0m\u001b[0;34m(\u001b[0m\u001b[0mself\u001b[0m\u001b[0;34m.\u001b[0m\u001b[0mtext\u001b[0m\u001b[0;34m,\u001b[0m \u001b[0;34m**\u001b[0m\u001b[0mkwargs\u001b[0m\u001b[0;34m)\u001b[0m\u001b[0;34m\u001b[0m\u001b[0;34m\u001b[0m\u001b[0m\n\u001b[0m\u001b[1;32m    901\u001b[0m \u001b[0;34m\u001b[0m\u001b[0m\n",
      "\u001b[0;32m/usr/local/lib/python3.7/json/__init__.py\u001b[0m in \u001b[0;36mloads\u001b[0;34m(s, encoding, cls, object_hook, parse_float, parse_int, parse_constant, object_pairs_hook, **kw)\u001b[0m\n\u001b[1;32m    347\u001b[0m             parse_constant is None and object_pairs_hook is None and not kw):\n\u001b[0;32m--> 348\u001b[0;31m         \u001b[0;32mreturn\u001b[0m \u001b[0m_default_decoder\u001b[0m\u001b[0;34m.\u001b[0m\u001b[0mdecode\u001b[0m\u001b[0;34m(\u001b[0m\u001b[0ms\u001b[0m\u001b[0;34m)\u001b[0m\u001b[0;34m\u001b[0m\u001b[0;34m\u001b[0m\u001b[0m\n\u001b[0m\u001b[1;32m    349\u001b[0m     \u001b[0;32mif\u001b[0m \u001b[0mcls\u001b[0m \u001b[0;32mis\u001b[0m \u001b[0;32mNone\u001b[0m\u001b[0;34m:\u001b[0m\u001b[0;34m\u001b[0m\u001b[0;34m\u001b[0m\u001b[0m\n",
      "\u001b[0;32m/usr/local/lib/python3.7/json/decoder.py\u001b[0m in \u001b[0;36mdecode\u001b[0;34m(self, s, _w)\u001b[0m\n\u001b[1;32m    336\u001b[0m         \"\"\"\n\u001b[0;32m--> 337\u001b[0;31m         \u001b[0mobj\u001b[0m\u001b[0;34m,\u001b[0m \u001b[0mend\u001b[0m \u001b[0;34m=\u001b[0m \u001b[0mself\u001b[0m\u001b[0;34m.\u001b[0m\u001b[0mraw_decode\u001b[0m\u001b[0;34m(\u001b[0m\u001b[0ms\u001b[0m\u001b[0;34m,\u001b[0m \u001b[0midx\u001b[0m\u001b[0;34m=\u001b[0m\u001b[0m_w\u001b[0m\u001b[0;34m(\u001b[0m\u001b[0ms\u001b[0m\u001b[0;34m,\u001b[0m \u001b[0;36m0\u001b[0m\u001b[0;34m)\u001b[0m\u001b[0;34m.\u001b[0m\u001b[0mend\u001b[0m\u001b[0;34m(\u001b[0m\u001b[0;34m)\u001b[0m\u001b[0;34m)\u001b[0m\u001b[0;34m\u001b[0m\u001b[0;34m\u001b[0m\u001b[0m\n\u001b[0m\u001b[1;32m    338\u001b[0m         \u001b[0mend\u001b[0m \u001b[0;34m=\u001b[0m \u001b[0m_w\u001b[0m\u001b[0;34m(\u001b[0m\u001b[0ms\u001b[0m\u001b[0;34m,\u001b[0m \u001b[0mend\u001b[0m\u001b[0;34m)\u001b[0m\u001b[0;34m.\u001b[0m\u001b[0mend\u001b[0m\u001b[0;34m(\u001b[0m\u001b[0;34m)\u001b[0m\u001b[0;34m\u001b[0m\u001b[0;34m\u001b[0m\u001b[0m\n",
      "\u001b[0;32m/usr/local/lib/python3.7/json/decoder.py\u001b[0m in \u001b[0;36mraw_decode\u001b[0;34m(self, s, idx)\u001b[0m\n\u001b[1;32m    354\u001b[0m         \u001b[0;32mexcept\u001b[0m \u001b[0mStopIteration\u001b[0m \u001b[0;32mas\u001b[0m \u001b[0merr\u001b[0m\u001b[0;34m:\u001b[0m\u001b[0;34m\u001b[0m\u001b[0;34m\u001b[0m\u001b[0m\n\u001b[0;32m--> 355\u001b[0;31m             \u001b[0;32mraise\u001b[0m \u001b[0mJSONDecodeError\u001b[0m\u001b[0;34m(\u001b[0m\u001b[0;34m\"Expecting value\"\u001b[0m\u001b[0;34m,\u001b[0m \u001b[0ms\u001b[0m\u001b[0;34m,\u001b[0m \u001b[0merr\u001b[0m\u001b[0;34m.\u001b[0m\u001b[0mvalue\u001b[0m\u001b[0;34m)\u001b[0m \u001b[0;32mfrom\u001b[0m \u001b[0;32mNone\u001b[0m\u001b[0;34m\u001b[0m\u001b[0;34m\u001b[0m\u001b[0m\n\u001b[0m\u001b[1;32m    356\u001b[0m         \u001b[0;32mreturn\u001b[0m \u001b[0mobj\u001b[0m\u001b[0;34m,\u001b[0m \u001b[0mend\u001b[0m\u001b[0;34m\u001b[0m\u001b[0;34m\u001b[0m\u001b[0m\n",
      "\u001b[0;31mJSONDecodeError\u001b[0m: Expecting value: line 1 column 1 (char 0)",
      "\nDuring handling of the above exception, another exception occurred:\n",
      "\u001b[0;31mValueError\u001b[0m                                Traceback (most recent call last)",
      "\u001b[0;32m<ipython-input-43-61bb0839cbb1>\u001b[0m in \u001b[0;36m<module>\u001b[0;34m\u001b[0m\n\u001b[0;32m----> 1\u001b[0;31m \u001b[0mpd\u001b[0m\u001b[0;34m.\u001b[0m\u001b[0mDataFrame\u001b[0m\u001b[0;34m(\u001b[0m\u001b[0mwb\u001b[0m\u001b[0;34m.\u001b[0m\u001b[0mget_series\u001b[0m\u001b[0;34m(\u001b[0m\u001b[0;34m'FM.LBL.MQMY.ZG'\u001b[0m\u001b[0;34m,\u001b[0m \u001b[0mdate\u001b[0m\u001b[0;34m=\u001b[0m\u001b[0;34m'2010:2018'\u001b[0m\u001b[0;34m,\u001b[0m \u001b[0mid_or_value\u001b[0m\u001b[0;34m=\u001b[0m\u001b[0;34m'id'\u001b[0m\u001b[0;34m,\u001b[0m \u001b[0msimplify_index\u001b[0m\u001b[0;34m=\u001b[0m\u001b[0;32mTrue\u001b[0m\u001b[0;34m)\u001b[0m\u001b[0;34m)\u001b[0m\u001b[0;34m.\u001b[0m\u001b[0mreset_index\u001b[0m\u001b[0;34m(\u001b[0m\u001b[0;34m)\u001b[0m\u001b[0;34m\u001b[0m\u001b[0;34m\u001b[0m\u001b[0m\n\u001b[0m\u001b[1;32m      2\u001b[0m \u001b[0;34m\u001b[0m\u001b[0m\n\u001b[1;32m      3\u001b[0m \u001b[0;31m#FM.LBL.MQMY.IR.ZS\u001b[0m\u001b[0;34m\u001b[0m\u001b[0;34m\u001b[0m\u001b[0;34m\u001b[0m\u001b[0m\n",
      "\u001b[0;32m~/venv/lib/python3.7/site-packages/world_bank_data/indicator.py\u001b[0m in \u001b[0;36mget_series\u001b[0;34m(indicator, country, id_or_value, simplify_index, **params)\u001b[0m\n\u001b[1;32m     40\u001b[0m     \u001b[0mparams\u001b[0m\u001b[0;34m[\u001b[0m\u001b[0;34m'format'\u001b[0m\u001b[0;34m]\u001b[0m \u001b[0;34m=\u001b[0m \u001b[0;34m'jsonstat'\u001b[0m\u001b[0;34m\u001b[0m\u001b[0;34m\u001b[0m\u001b[0m\n\u001b[1;32m     41\u001b[0m \u001b[0;34m\u001b[0m\u001b[0m\n\u001b[0;32m---> 42\u001b[0;31m     \u001b[0midx\u001b[0m \u001b[0;34m=\u001b[0m \u001b[0mwb_get\u001b[0m\u001b[0;34m(\u001b[0m\u001b[0;34m'country'\u001b[0m\u001b[0;34m,\u001b[0m \u001b[0mcountry\u001b[0m\u001b[0;34m,\u001b[0m \u001b[0;34m'indicator'\u001b[0m\u001b[0;34m,\u001b[0m \u001b[0mindicator\u001b[0m\u001b[0;34m,\u001b[0m \u001b[0;34m**\u001b[0m\u001b[0mparams\u001b[0m\u001b[0;34m)\u001b[0m\u001b[0;34m\u001b[0m\u001b[0;34m\u001b[0m\u001b[0m\n\u001b[0m\u001b[1;32m     43\u001b[0m     \u001b[0m_\u001b[0m\u001b[0;34m,\u001b[0m \u001b[0midx\u001b[0m \u001b[0;34m=\u001b[0m \u001b[0midx\u001b[0m\u001b[0;34m.\u001b[0m\u001b[0mpopitem\u001b[0m\u001b[0;34m(\u001b[0m\u001b[0;34m)\u001b[0m\u001b[0;34m\u001b[0m\u001b[0;34m\u001b[0m\u001b[0m\n\u001b[1;32m     44\u001b[0m \u001b[0;34m\u001b[0m\u001b[0m\n",
      "\u001b[0;32m~/venv/lib/python3.7/site-packages/world_bank_data/request.py\u001b[0m in \u001b[0;36mwb_get\u001b[0;34m(*args, **kwargs)\u001b[0m\n\u001b[1;32m     73\u001b[0m     \u001b[0;32mexcept\u001b[0m \u001b[0mValueError\u001b[0m\u001b[0;34m:\u001b[0m  \u001b[0;31m# simplejson.errors.JSONDecodeError derives from ValueError\u001b[0m\u001b[0;34m\u001b[0m\u001b[0;34m\u001b[0m\u001b[0m\n\u001b[1;32m     74\u001b[0m         raise ValueError(\"{msg}\\nurl={url}\\nparams={params}\".format(msg=_extract_message(response.text),\n\u001b[0;32m---> 75\u001b[0;31m                                                                     url=url, params=params))\n\u001b[0m\u001b[1;32m     76\u001b[0m     \u001b[0;32mif\u001b[0m \u001b[0misinstance\u001b[0m\u001b[0;34m(\u001b[0m\u001b[0mdata\u001b[0m\u001b[0;34m,\u001b[0m \u001b[0mlist\u001b[0m\u001b[0;34m)\u001b[0m \u001b[0;32mand\u001b[0m \u001b[0mdata\u001b[0m \u001b[0;32mand\u001b[0m \u001b[0;34m'message'\u001b[0m \u001b[0;32min\u001b[0m \u001b[0mdata\u001b[0m\u001b[0;34m[\u001b[0m\u001b[0;36m0\u001b[0m\u001b[0;34m]\u001b[0m\u001b[0;34m:\u001b[0m\u001b[0;34m\u001b[0m\u001b[0;34m\u001b[0m\u001b[0m\n\u001b[1;32m     77\u001b[0m         \u001b[0;32mtry\u001b[0m\u001b[0;34m:\u001b[0m\u001b[0;34m\u001b[0m\u001b[0;34m\u001b[0m\u001b[0m\n",
      "\u001b[0;31mValueError\u001b[0m: The indicator was not found. It may have been deleted or archived.\nurl=http://api.worldbank.org/v2/country/all/indicator/FM.LBL.MQMY.ZG\nparams={'date': '2010:2018', 'format': 'jsonstat', 'per_page': 20000}"
     ]
    }
   ]
  },
  {
   "cell_type": "code",
   "metadata": {
    "tags": [],
    "cell_id": "00023-580e07f0-22cf-4ea9-aff2-96b013708120",
    "deepnote_to_be_reexecuted": false,
    "source_hash": "79ef26a1",
    "execution_start": 1624726583417,
    "execution_millis": 7566,
    "output_cleared": false,
    "deepnote_cell_type": "code"
   },
   "source": "wb.search_indicators('M2')",
   "execution_count": 36,
   "outputs": [
    {
     "output_type": "execute_result",
     "execution_count": 36,
     "data": {
      "application/vnd.deepnote.dataframe.v2+json": {
       "row_count": 49,
       "column_count": 6,
       "columns": [
        {
         "name": "name",
         "dtype": "object",
         "stats": {
          "unique_count": 47,
          "nan_count": 0,
          "categories": [
           {
            "name": "Claims on governments, etc. (annual growth as % of M2)",
            "count": 2
           },
           {
            "name": "Money and quasi money (M2) as % of GDP",
            "count": 2
           },
           {
            "name": "45 others",
            "count": 45
           }
          ]
         }
        },
        {
         "name": "unit",
         "dtype": "object",
         "stats": {
          "unique_count": 1,
          "nan_count": 0,
          "categories": [
           {
            "name": "",
            "count": 49
           }
          ]
         }
        },
        {
         "name": "source",
         "dtype": "object",
         "stats": {
          "unique_count": 7,
          "nan_count": 0,
          "categories": [
           {
            "name": "Global Partnership for Education",
            "count": 15
           },
           {
            "name": "WDI Database Archives",
            "count": 13
           },
           {
            "name": "5 others",
            "count": 21
           }
          ]
         }
        },
        {
         "name": "sourceNote",
         "dtype": "object",
         "stats": {
          "unique_count": 34,
          "nan_count": 0,
          "categories": [
           {
            "name": "",
            "count": 7
           },
           {
            "name": "Malnourished women (BMI is less than 18.5): Percentage of women whose body mass index (BMI) is less than 18.5 for women with births in the three years preceding the survey. The BMI is the ratio of the weight in kilograms to the square of the height in meters (kg/m2). The BMI excludes pregnant women and those who are less than three months postpartum.",
            "count": 5
           },
           {
            "name": "32 others",
            "count": 37
           }
          ]
         }
        },
        {
         "name": "sourceOrganization",
         "dtype": "object",
         "stats": {
          "unique_count": 9,
          "nan_count": 0,
          "categories": [
           {
            "name": "Data were collected from national and other publicly available sources, and validated by the Local Education Group (LEG) in each country. LEGs are typically led by the Ministry of Education and include development partners and other education stakeholders. Data were not processed or analyzed by the Global Partnership for Education. It is reported as it was presented in the original sources, or as it was communicated to us through the Coordinating Agency or Lead Donor of the LEG.",
            "count": 15
           },
           {
            "name": "International Monetary Fund, International Financial Statistics and data files.",
            "count": 9
           },
           {
            "name": "7 others",
            "count": 25
           }
          ]
         }
        },
        {
         "name": "topics",
         "dtype": "object",
         "stats": {
          "unique_count": 5,
          "nan_count": 0,
          "categories": [
           {
            "name": "",
            "count": 38
           },
           {
            "name": "Health ",
            "count": 5
           },
           {
            "name": "3 others",
            "count": 6
           }
          ]
         }
        },
        {
         "name": "_deepnote_index_column",
         "dtype": "object"
        }
       ],
       "rows_top": [
        {
         "name": "PASEC in Madagascar, CM2, French (mean score)",
         "unit": "",
         "source": "Global Partnership for Education",
         "sourceNote": "Mean score calculated for the results of the Programme on the Analysis of Education Systems (PASEC)…",
         "sourceOrganization": "Data were collected from national and other publicly available sources, and validated by the Local …",
         "topics": "",
         "_deepnote_index_column": "8.3.1_MDG.PASEC.CM2.FRE"
        },
        {
         "name": "National assessment at the end of primary (CEPE) in Guinea, CM2 (6 grade) (mean score)",
         "unit": "",
         "source": "Global Partnership for Education",
         "sourceNote": "Mean score calculated for the results of the national assessment carried out in the specific subjec…",
         "sourceOrganization": "Data were collected from national and other publicly available sources, and validated by the Local …",
         "topics": "",
         "_deepnote_index_column": "8.3.11_GIN.LEAR.TEST.CEPE.MEAN"
        },
        {
         "name": "National assessment for learning outcomes in Niger, CM2, French, under minimal competency (%)",
         "unit": "",
         "source": "Global Partnership for Education",
         "sourceNote": "Students under minimal competency in the results of the national assessment carried out in the spec…",
         "sourceOrganization": "Data were collected from national and other publicly available sources, and validated by the Local …",
         "topics": "",
         "_deepnote_index_column": "8.3.12_NER.LEAR.TEST.CM2.FR.UNDERMIN"
        },
        {
         "name": "National assessment at the end of primary (CEPE) in Guinea, CM2 (6 grade), minimal competency ",
         "unit": "",
         "source": "Global Partnership for Education",
         "sourceNote": "Minimal competency calculated for the results of the national assessment carried out in the specifi…",
         "sourceOrganization": "Data were collected from national and other publicly available sources, and validated by the Local …",
         "topics": "",
         "_deepnote_index_column": "8.3.14_GIN.LEAR.TEST.CEPE.MIN"
        },
        {
         "name": "National assessment for learning outcomes in Niger, CM2, Mathematics (mean score)",
         "unit": "",
         "source": "Global Partnership for Education",
         "sourceNote": "Mean scores calculated for the results of the national assessment carried out in the specific grade…",
         "sourceOrganization": "Data were collected from national and other publicly available sources, and validated by the Local …",
         "topics": "",
         "_deepnote_index_column": "8.3.15_NER.LEAR.TEST.CM2.MATH.MEAN"
        },
        {
         "name": "National assessment at the end of primary (CEPE) in Guinea, CM2 (6 grade), optimal competency ",
         "unit": "",
         "source": "Global Partnership for Education",
         "sourceNote": "Optimal competency calculated for the results of the national assessment carried out in the specifi…",
         "sourceOrganization": "Data were collected from national and other publicly available sources, and validated by the Local …",
         "topics": "",
         "_deepnote_index_column": "8.3.17_GIN.LEAR.TEST.CEPE.OPTIM"
        },
        {
         "name": "National assessment for learning outcomes in Niger, CM2, Mathematics, optimal competency (%)",
         "unit": "",
         "source": "Global Partnership for Education",
         "sourceNote": "Students with optimal competency in the results of the national assessment carried out in the speci…",
         "sourceOrganization": "Data were collected from national and other publicly available sources, and validated by the Local …",
         "topics": "",
         "_deepnote_index_column": "8.3.18_NER.LEAR.TEST.CM2.MATH.OPTIM"
        },
        {
         "name": "PASEC in Madagascar, CM2, Mathematics (mean score)",
         "unit": "",
         "source": "Global Partnership for Education",
         "sourceNote": "Mean score calculated for the results of the Programme on the Analysis of Education Systems (PASEC)…",
         "sourceOrganization": "Data were collected from national and other publicly available sources, and validated by the Local …",
         "topics": "",
         "_deepnote_index_column": "8.3.2_MDG.PASEC.CM2.MAT"
        },
        {
         "name": "National assessment at the end of primary (CEPE) in Guinea, CM2 (6 grade), maximal competency ",
         "unit": "",
         "source": "Global Partnership for Education",
         "sourceNote": "Maximum competency calculated for the results of the national assessment carried out in the specifi…",
         "sourceOrganization": "Data were collected from national and other publicly available sources, and validated by the Local …",
         "topics": "",
         "_deepnote_index_column": "8.3.20_GIN.LEAR.TEST.CEPE.MAX"
        },
        {
         "name": "National assessment for learning outcomes in Niger, CM2, Mathematics, minimal competency (%)",
         "unit": "",
         "source": "Global Partnership for Education",
         "sourceNote": "Students with minimal competency in the results of the national assessment carried out in the speci…",
         "sourceOrganization": "Data were collected from national and other publicly available sources, and validated by the Local …",
         "topics": "",
         "_deepnote_index_column": "8.3.21_NER.LEAR.TEST.CM2.MATH.MIN"
        },
        {
         "name": "National assessment at the end of primary (CEPE) in Guinea, CM2 (6 grade), success rate (%)",
         "unit": "",
         "source": "Global Partnership for Education",
         "sourceNote": "Success rate calculated for the results of the national assessment carried out in the specific subj…",
         "sourceOrganization": "Data were collected from national and other publicly available sources, and validated by the Local …",
         "topics": "",
         "_deepnote_index_column": "8.3.23_GIN.LEAR.TEST.CEPE.SUCC"
        },
        {
         "name": "National assessment for learning outcomes in Niger, CM2, Mathematics, under minimal competency (%)",
         "unit": "",
         "source": "Global Partnership for Education",
         "sourceNote": "Students under minimal competency in the results of the national assessment carried out in the spec…",
         "sourceOrganization": "Data were collected from national and other publicly available sources, and validated by the Local …",
         "topics": "",
         "_deepnote_index_column": "8.3.24_NER.LEAR.TEST.CM2.MATH.UNDERMIN"
        },
        {
         "name": "National assessment for learning outcomes in Niger, CM2, French (mean score)",
         "unit": "",
         "source": "Global Partnership for Education",
         "sourceNote": "Mean score calculated for the results of the national assessment carried out in the specific grade …",
         "sourceOrganization": "Data were collected from national and other publicly available sources, and validated by the Local …",
         "topics": "",
         "_deepnote_index_column": "8.3.3_NER.LEAR.TEST.CM2.FR.MEAN"
        },
        {
         "name": "National assessment for learning outcomes in Niger, CM2, French, optimal competency (%)",
         "unit": "",
         "source": "Global Partnership for Education",
         "sourceNote": "Students with optimal competency in the results of the national assessment carried out in the speci…",
         "sourceOrganization": "Data were collected from national and other publicly available sources, and validated by the Local …",
         "topics": "",
         "_deepnote_index_column": "8.3.6_NER.LEAR.TEST.CM2.FR.OPTIM"
        },
        {
         "name": "National assessment for learning outcomes in Niger, CM2, French, minimal competency (%)",
         "unit": "",
         "source": "Global Partnership for Education",
         "sourceNote": "Students with minimal competency in the results of the national assessment carried out in the speci…",
         "sourceOrganization": "Data were collected from national and other publicly available sources, and validated by the Local …",
         "topics": "",
         "_deepnote_index_column": "8.3.9_NER.LEAR.TEST.CM2.FR.MIN"
        },
        {
         "name": "PM2.5 air pollution, mean annual exposure (micrograms per cubic meter)",
         "unit": "",
         "source": "World Development Indicators",
         "sourceNote": "Population-weighted exposure to ambient PM2.5 pollution is defined as the average level of exposure…",
         "sourceOrganization": "Brauer, M. et al. 2017, for the Global Burden of Disease Study 2017.",
         "topics": "Urban Development ,Environment ",
         "_deepnote_index_column": "EN.ATM.PM25.MC.M3"
        },
        {
         "name": "PM2.5 pollution, population exposed to levels exceeding WHO Interim Target-1 value (% of total)",
         "unit": "",
         "source": "World Development Indicators",
         "sourceNote": "Percent of population exposed to ambient concentrations of PM2.5 that exceed the World Health Organ…",
         "sourceOrganization": "Brauer, M. et al. 2017, for the Global Burden of Disease Study 2017.",
         "topics": "",
         "_deepnote_index_column": "EN.ATM.PM25.MC.T1.ZS"
        },
        {
         "name": "PM2.5 pollution, population exposed to levels exceeding WHO Interim Target-2 value (% of total)",
         "unit": "",
         "source": "World Development Indicators",
         "sourceNote": "Percent of population exposed to ambient concentrations of PM2.5 that exceed the World Health Organ…",
         "sourceOrganization": "Brauer, M. et al. 2017, for the Global Burden of Disease Study 2017.",
         "topics": "",
         "_deepnote_index_column": "EN.ATM.PM25.MC.T2.ZS"
        },
        {
         "name": "PM2.5 pollution, population exposed to levels exceeding WHO Interim Target-3 value (% of total)",
         "unit": "",
         "source": "World Development Indicators",
         "sourceNote": "Percent of population exposed to ambient concentrations of PM2.5 that exceed the World Health Organ…",
         "sourceOrganization": "Brauer, M. et al. 2017, for the Global Burden of Disease Study 2017.",
         "topics": "",
         "_deepnote_index_column": "EN.ATM.PM25.MC.T3.ZS"
        },
        {
         "name": "PM2.5 air pollution, population exposed to levels exceeding WHO guideline value (% of total)",
         "unit": "",
         "source": "World Development Indicators",
         "sourceNote": "Percent of population exposed to ambient concentrations of PM2.5 that exceed the WHO guideline valu…",
         "sourceOrganization": "Brauer, M. et al. 2017, for the Global Burden of Disease Study 2017.",
         "topics": "Urban Development ,Environment ",
         "_deepnote_index_column": "EN.ATM.PM25.MC.ZS"
        },
        {
         "name": "Net domestic credit as % of M2 (annual % change)",
         "unit": "",
         "source": "WDI Database Archives",
         "sourceNote": "",
         "sourceOrganization": "",
         "topics": "",
         "_deepnote_index_column": "FM.ASC.DOMS.ZS"
        },
        {
         "name": "Claims on governments, etc. as % of M2 (annual % change)",
         "unit": "",
         "source": "WDI Database Archives",
         "sourceNote": "",
         "sourceOrganization": "",
         "topics": "",
         "_deepnote_index_column": "FM.ASC.GOVT.ZS"
        },
        {
         "name": "Net foreign assets as % of M2 (annual % change)",
         "unit": "",
         "source": "WDI Database Archives",
         "sourceNote": "",
         "sourceOrganization": "",
         "topics": "",
         "_deepnote_index_column": "FM.ASC.NFRG.ZS"
        },
        {
         "name": "Claims on private sector as % of M2 (annual % change)",
         "unit": "",
         "source": "WDI Database Archives",
         "sourceNote": "",
         "sourceOrganization": "",
         "topics": "",
         "_deepnote_index_column": "FM.ASC.PRVT.ZS"
        },
        {
         "name": "Claims on governments, etc. (annual growth as % of M2)",
         "unit": "",
         "source": "Africa Development Indicators",
         "sourceNote": "Claims on governments and other public entities (IFS line 32an + 32b + 32bx + 32c) usually comprise…",
         "sourceOrganization": "International Monetary Fund, International Financial Statistics and data files.",
         "topics": "Financial Sector ",
         "_deepnote_index_column": "FM.AST.GOVT.ZG.M2"
        },
        {
         "name": "Claims on private sector (annual growth as % of M2)",
         "unit": "",
         "source": "Africa Development Indicators",
         "sourceNote": "Claims on private sector (IFS line 32d) include gross credit from the financial system to individua…",
         "sourceOrganization": "International Monetary Fund, International Financial Statistics and data files.",
         "topics": "Financial Sector ",
         "_deepnote_index_column": "FM.AST.PRVT.ZG.M2"
        },
        {
         "name": "Claims on governments, etc. (annual growth as % of M2)",
         "unit": "",
         "source": "WDI Database Archives",
         "sourceNote": "",
         "sourceOrganization": "",
         "topics": "",
         "_deepnote_index_column": "FM.AST.PUBL.ZG.M2"
        },
        {
         "name": "Money and quasi money (M2), flow (current LCU)",
         "unit": "",
         "source": "Africa Development Indicators",
         "sourceNote": "Money and quasi money (M2), flow (current LCU) is the sum of currency outside banks, demand deposit…",
         "sourceOrganization": "International Monetary Fund, International Financial Statistics and data files.",
         "topics": "",
         "_deepnote_index_column": "FM.LBC.MQMY.CN"
        },
        {
         "name": "Other liabilities excluding M2, flow (current LCU)",
         "unit": "",
         "source": "Africa Development Indicators",
         "sourceNote": "Other liabilities excluding M2 (current LCU).  ",
         "sourceOrganization": "International Monetary Fund, International Financial Statistics and data files.",
         "topics": "",
         "_deepnote_index_column": "FM.LBC.XMQM.CN"
        },
        {
         "name": "Money (current LCU)",
         "unit": "",
         "source": "WDI Database Archives",
         "sourceNote": "Money is the sum of currency outside banks and demand deposits other than those of central governme…",
         "sourceOrganization": "International Monetary Fund, International Financial Statistics and data files.",
         "topics": "",
         "_deepnote_index_column": "FM.LBL.MONY.CN"
        },
        {
         "name": "Money and quasi money (M2) (current LCU)",
         "unit": "",
         "source": "WDI Database Archives",
         "sourceNote": "Money and quasi money comprise the sum of currency outside banks, demand deposits other than those …",
         "sourceOrganization": "International Monetary Fund, International Financial Statistics and data files.",
         "topics": "",
         "_deepnote_index_column": "FM.LBL.MQMY.CN"
        },
        {
         "name": "Money and quasi money (M2) as % of GDP",
         "unit": "",
         "source": "WDI Database Archives",
         "sourceNote": "Money and quasi money comprise the sum of currency outside banks, demand deposits other than those …",
         "sourceOrganization": "International Monetary Fund, International Financial Statistics and data files, and World Bank and …",
         "topics": "",
         "_deepnote_index_column": "FM.LBL.MQMY.GD.ZS"
        },
        {
         "name": "Money and quasi money (M2) as % of GDP",
         "unit": "",
         "source": "WDI Database Archives",
         "sourceNote": "",
         "sourceOrganization": "",
         "topics": "",
         "_deepnote_index_column": "FM.LBL.MQMY.GDP.ZS"
        },
        {
         "name": "Money and quasi money (M2) to total reserves ratio",
         "unit": "",
         "source": "WDI Database Archives",
         "sourceNote": "Money and quasi money comprise the sum of currency outside banks, demand deposits other than those …",
         "sourceOrganization": "International Monetary Fund, International Financial Statistics and data files.",
         "topics": "",
         "_deepnote_index_column": "FM.LBL.MQMY.IR.ZS"
        },
        {
         "name": "Income velocity of money (GDP/M2)",
         "unit": "",
         "source": "WDI Database Archives",
         "sourceNote": "",
         "sourceOrganization": "",
         "topics": "",
         "_deepnote_index_column": "FM.LBL.MQMY.XD"
        },
        {
         "name": "Money and quasi money growth (annual %)",
         "unit": "",
         "source": "WDI Database Archives",
         "sourceNote": "Average annual growth rate in money and quasi money. Money and quasi money comprise the sum of curr…",
         "sourceOrganization": "International Monetary Fund, International Financial Statistics and data files.",
         "topics": "",
         "_deepnote_index_column": "FM.LBL.MQMY.ZG"
        },
        {
         "name": "Other liabilities excluding M2 (current LCU)",
         "unit": "",
         "source": "Africa Development Indicators",
         "sourceNote": "Other liabilities excluding M2, flow (current LCU).  ",
         "sourceOrganization": "International Monetary Fund, International Financial Statistics and data files.",
         "topics": "",
         "_deepnote_index_column": "FM.LBL.XMQM.CN"
        },
        {
         "name": "Liquid liabilities (M3) as % of GDP",
         "unit": "",
         "source": "WDI Database Archives",
         "sourceNote": "Liquid liabilities are also known as M3. They are the sum of currency and deposits in the central b…",
         "sourceOrganization": "International Monetary Fund, International Financial Statistics and data files, and World Bank and …",
         "topics": "",
         "_deepnote_index_column": "FS.LBL.LIQU.GD.ZS"
        },
        {
         "name": "Adjusted savings: particulate emission damage (current US$)",
         "unit": "",
         "source": "World Development Indicators",
         "sourceNote": "Particulate emissions damage is the damage due to exposure of a country's population to ambient con…",
         "sourceOrganization": "World Bank staff estimates based on sources and methods described in the World Bank's The Changing …",
         "topics": "Economy & Growth,Environment ",
         "_deepnote_index_column": "NY.ADJ.DPEM.CD"
        },
        {
         "name": "Adjusted savings: particulate emission damage (% of GNI)",
         "unit": "",
         "source": "World Development Indicators",
         "sourceNote": "Particulate emissions damage is the damage due to exposure of a country's population to ambient con…",
         "sourceOrganization": "World Bank staff estimates based on sources and methods described in the World Bank's The Changing …",
         "topics": "Economy & Growth,Environment ",
         "_deepnote_index_column": "NY.ADJ.DPEM.GN.ZS"
        },
        {
         "name": "Malnourished women (BMI is less than 18.5) (% of women): Q1 (lowest)",
         "unit": "",
         "source": "Health Nutrition and Population Statistics by Wealth Quintile",
         "sourceNote": "Malnourished women (BMI is less than 18.5): Percentage of women whose body mass index (BMI) is less…",
         "sourceOrganization": "Household Surveys (DHS, MICS)",
         "topics": "Health ",
         "_deepnote_index_column": "SH.STA.LBMI.Q1.ZS"
        },
        {
         "name": "Malnourished women (BMI is less than 18.5) (% of women): Q2",
         "unit": "",
         "source": "Health Nutrition and Population Statistics by Wealth Quintile",
         "sourceNote": "Malnourished women (BMI is less than 18.5): Percentage of women whose body mass index (BMI) is less…",
         "sourceOrganization": "Household Surveys (DHS, MICS)",
         "topics": "Health ",
         "_deepnote_index_column": "SH.STA.LBMI.Q2.ZS"
        },
        {
         "name": "Malnourished women (BMI is less than 18.5) (% of women): Q3",
         "unit": "",
         "source": "Health Nutrition and Population Statistics by Wealth Quintile",
         "sourceNote": "Malnourished women (BMI is less than 18.5): Percentage of women whose body mass index (BMI) is less…",
         "sourceOrganization": "Household Surveys (DHS, MICS)",
         "topics": "Health ",
         "_deepnote_index_column": "SH.STA.LBMI.Q3.ZS"
        },
        {
         "name": "Malnourished women (BMI is less than 18.5) (% of women): Q4",
         "unit": "",
         "source": "Health Nutrition and Population Statistics by Wealth Quintile",
         "sourceNote": "Malnourished women (BMI is less than 18.5): Percentage of women whose body mass index (BMI) is less…",
         "sourceOrganization": "Household Surveys (DHS, MICS)",
         "topics": "Health ",
         "_deepnote_index_column": "SH.STA.LBMI.Q4.ZS"
        },
        {
         "name": "Malnourished women (BMI is less than 18.5) (% of women): Q5 (highest)",
         "unit": "",
         "source": "Health Nutrition and Population Statistics by Wealth Quintile",
         "sourceNote": "Malnourished women (BMI is less than 18.5): Percentage of women whose body mass index (BMI) is less…",
         "sourceOrganization": "Household Surveys (DHS, MICS)",
         "topics": "Health ",
         "_deepnote_index_column": "SH.STA.LBMI.Q5.ZS"
        },
        {
         "name": "Prevalence of overweight, female (% of female adults)",
         "unit": "",
         "source": "Health Nutrition and Population Statistics",
         "sourceNote": "Prevalence of overweight female adults is the percentage of females ages 18 and over whose Body Mas…",
         "sourceOrganization": "World Health Organization, Global Health Observatory Data Repository (http://apps.who.int/ghodata/).",
         "topics": "",
         "_deepnote_index_column": "SH.STA.OWAD.FE.ZS"
        },
        {
         "name": "Prevalence of overweight, male (% of male adults)",
         "unit": "",
         "source": "Health Nutrition and Population Statistics",
         "sourceNote": "Prevalence of overweight male adults is the percentage of males ages 18 and over whose Body Mass In…",
         "sourceOrganization": "World Health Organization, Global Health Observatory Data Repository (http://apps.who.int/ghodata/).",
         "topics": "",
         "_deepnote_index_column": "SH.STA.OWAD.MA.ZS"
        },
        {
         "name": "Prevalence of overweight (% of adults)",
         "unit": "",
         "source": "Health Nutrition and Population Statistics",
         "sourceNote": "Prevalence of overweight adults is the percentage of adults ages 18 and over whose Body Mass Index …",
         "sourceOrganization": "World Health Organization, Global Health Observatory Data Repository (http://apps.who.int/ghodata/).",
         "topics": "",
         "_deepnote_index_column": "SH.STA.OWAD.ZS"
        },
        {
         "name": "Compilation of government finance statistics",
         "unit": "",
         "source": "Statistical Performance Indicators (SPI)",
         "sourceNote": "Compilation of government finance statistics refers to the Government Finance Statistics Manual (GF…",
         "sourceOrganization": "Statistical Performance Indicators, The World Bank (https://datacatalog.worldbank.org/dataset/stati…",
         "topics": "",
         "_deepnote_index_column": "SPI.D5.2.8.FINA"
        }
       ],
       "rows_bottom": null
      },
      "text/plain": "                                                                                   name  \\\nid                                                                                        \n8.3.1_MDG.PASEC.CM2.FRE                   PASEC in Madagascar, CM2, French (mean score)   \n8.3.11_GIN.LEAR.TEST.CEPE.MEAN        National assessment at the end of primary (CEP...   \n8.3.12_NER.LEAR.TEST.CM2.FR.UNDERMIN  National assessment for learning outcomes in N...   \n...                                                                                 ...   \nSH.STA.OWAD.MA.ZS                     Prevalence of overweight, male (% of male adults)   \nSH.STA.OWAD.ZS                                   Prevalence of overweight (% of adults)   \nSPI.D5.2.8.FINA                            Compilation of government finance statistics   \n\n                                     unit  \\\nid                                          \n8.3.1_MDG.PASEC.CM2.FRE                     \n8.3.11_GIN.LEAR.TEST.CEPE.MEAN              \n8.3.12_NER.LEAR.TEST.CM2.FR.UNDERMIN        \n...                                   ...   \nSH.STA.OWAD.MA.ZS                           \nSH.STA.OWAD.ZS                              \nSPI.D5.2.8.FINA                             \n\n                                                                          source  \\\nid                                                                                 \n8.3.1_MDG.PASEC.CM2.FRE                         Global Partnership for Education   \n8.3.11_GIN.LEAR.TEST.CEPE.MEAN                  Global Partnership for Education   \n8.3.12_NER.LEAR.TEST.CM2.FR.UNDERMIN            Global Partnership for Education   \n...                                                                          ...   \nSH.STA.OWAD.MA.ZS                     Health Nutrition and Population Statistics   \nSH.STA.OWAD.ZS                        Health Nutrition and Population Statistics   \nSPI.D5.2.8.FINA                         Statistical Performance Indicators (SPI)   \n\n                                                                             sourceNote  \\\nid                                                                                        \n8.3.1_MDG.PASEC.CM2.FRE               Mean score calculated for the results of the P...   \n8.3.11_GIN.LEAR.TEST.CEPE.MEAN        Mean score calculated for the results of the n...   \n8.3.12_NER.LEAR.TEST.CM2.FR.UNDERMIN  Students under minimal competency in the resul...   \n...                                                                                 ...   \nSH.STA.OWAD.MA.ZS                     Prevalence of overweight male adults is the pe...   \nSH.STA.OWAD.ZS                        Prevalence of overweight adults is the percent...   \nSPI.D5.2.8.FINA                       Compilation of government finance statistics r...   \n\n                                                                     sourceOrganization  \\\nid                                                                                        \n8.3.1_MDG.PASEC.CM2.FRE               Data were collected from national and other pu...   \n8.3.11_GIN.LEAR.TEST.CEPE.MEAN        Data were collected from national and other pu...   \n8.3.12_NER.LEAR.TEST.CM2.FR.UNDERMIN  Data were collected from national and other pu...   \n...                                                                                 ...   \nSH.STA.OWAD.MA.ZS                     World Health Organization, Global Health Obser...   \nSH.STA.OWAD.ZS                        World Health Organization, Global Health Obser...   \nSPI.D5.2.8.FINA                       Statistical Performance Indicators, The World ...   \n\n                                     topics  \nid                                           \n8.3.1_MDG.PASEC.CM2.FRE                      \n8.3.11_GIN.LEAR.TEST.CEPE.MEAN               \n8.3.12_NER.LEAR.TEST.CM2.FR.UNDERMIN         \n...                                     ...  \nSH.STA.OWAD.MA.ZS                            \nSH.STA.OWAD.ZS                               \nSPI.D5.2.8.FINA                              \n\n[49 rows x 6 columns]",
      "text/html": "<div>\n<style scoped>\n    .dataframe tbody tr th:only-of-type {\n        vertical-align: middle;\n    }\n\n    .dataframe tbody tr th {\n        vertical-align: top;\n    }\n\n    .dataframe thead th {\n        text-align: right;\n    }\n</style>\n<table border=\"1\" class=\"dataframe\">\n  <thead>\n    <tr style=\"text-align: right;\">\n      <th></th>\n      <th>name</th>\n      <th>unit</th>\n      <th>source</th>\n      <th>sourceNote</th>\n      <th>sourceOrganization</th>\n      <th>topics</th>\n    </tr>\n    <tr>\n      <th>id</th>\n      <th></th>\n      <th></th>\n      <th></th>\n      <th></th>\n      <th></th>\n      <th></th>\n    </tr>\n  </thead>\n  <tbody>\n    <tr>\n      <th>8.3.1_MDG.PASEC.CM2.FRE</th>\n      <td>PASEC in Madagascar, CM2, French (mean score)</td>\n      <td></td>\n      <td>Global Partnership for Education</td>\n      <td>Mean score calculated for the results of the P...</td>\n      <td>Data were collected from national and other pu...</td>\n      <td></td>\n    </tr>\n    <tr>\n      <th>8.3.11_GIN.LEAR.TEST.CEPE.MEAN</th>\n      <td>National assessment at the end of primary (CEP...</td>\n      <td></td>\n      <td>Global Partnership for Education</td>\n      <td>Mean score calculated for the results of the n...</td>\n      <td>Data were collected from national and other pu...</td>\n      <td></td>\n    </tr>\n    <tr>\n      <th>8.3.12_NER.LEAR.TEST.CM2.FR.UNDERMIN</th>\n      <td>National assessment for learning outcomes in N...</td>\n      <td></td>\n      <td>Global Partnership for Education</td>\n      <td>Students under minimal competency in the resul...</td>\n      <td>Data were collected from national and other pu...</td>\n      <td></td>\n    </tr>\n    <tr>\n      <th>...</th>\n      <td>...</td>\n      <td>...</td>\n      <td>...</td>\n      <td>...</td>\n      <td>...</td>\n      <td>...</td>\n    </tr>\n    <tr>\n      <th>SH.STA.OWAD.MA.ZS</th>\n      <td>Prevalence of overweight, male (% of male adults)</td>\n      <td></td>\n      <td>Health Nutrition and Population Statistics</td>\n      <td>Prevalence of overweight male adults is the pe...</td>\n      <td>World Health Organization, Global Health Obser...</td>\n      <td></td>\n    </tr>\n    <tr>\n      <th>SH.STA.OWAD.ZS</th>\n      <td>Prevalence of overweight (% of adults)</td>\n      <td></td>\n      <td>Health Nutrition and Population Statistics</td>\n      <td>Prevalence of overweight adults is the percent...</td>\n      <td>World Health Organization, Global Health Obser...</td>\n      <td></td>\n    </tr>\n    <tr>\n      <th>SPI.D5.2.8.FINA</th>\n      <td>Compilation of government finance statistics</td>\n      <td></td>\n      <td>Statistical Performance Indicators (SPI)</td>\n      <td>Compilation of government finance statistics r...</td>\n      <td>Statistical Performance Indicators, The World ...</td>\n      <td></td>\n    </tr>\n  </tbody>\n</table>\n<p>49 rows × 6 columns</p>\n</div>"
     },
     "metadata": {}
    }
   ]
  },
  {
   "cell_type": "markdown",
   "source": "## IMF API",
   "metadata": {
    "tags": [],
    "cell_id": "00025-3ef91fe5-fa73-4eda-8248-c9def7be60ef",
    "deepnote_cell_type": "markdown"
   }
  },
  {
   "cell_type": "code",
   "metadata": {
    "tags": [],
    "cell_id": "00024-33f7e0c8-53cd-48e5-8b9d-eab329ec247e",
    "deepnote_to_be_reexecuted": false,
    "source_hash": "b8817320",
    "execution_start": 1624723842394,
    "execution_millis": 2157,
    "deepnote_cell_type": "code"
   },
   "source": "# Import libraries\nimport requests\nimport pandas as pd\n\n# URL for the IMF JSON Restful Web Service, \n# IFS database, and Australian export prices series\nurl = 'http://dataservices.imf.org/REST/SDMX_JSON.svc/CompactData/IFS/Q.TH.IAP_BP6_USD.?startPeriod=1980&endPeriod=2020'\n\n# Get data from the above URL using the requests package\ndata = requests.get(url).json()\n\n# Load data into a pandas dataframe\nauxp = pd.DataFrame(data['CompactData']['DataSet']['Series']['Obs'])\n\n# Show the last five observiations\nauxp.tail(100)",
   "execution_count": 10,
   "outputs": [
    {
     "output_type": "execute_result",
     "execution_count": 10,
     "data": {
      "application/vnd.deepnote.dataframe.v2+json": {
       "row_count": 37,
       "column_count": 3,
       "columns": [
        {
         "name": "@TIME_PERIOD",
         "dtype": "object",
         "stats": {
          "unique_count": 37,
          "nan_count": 0,
          "categories": [
           {
            "name": "2005-Q1",
            "count": 1
           },
           {
            "name": "2012-Q1",
            "count": 1
           },
           {
            "name": "35 others",
            "count": 35
           }
          ]
         }
        },
        {
         "name": "@OBS_STATUS",
         "dtype": "object",
         "stats": {
          "unique_count": 1,
          "nan_count": 36,
          "categories": [
           {
            "name": "B",
            "count": 1
           },
           {
            "name": "Missing",
            "count": 36
           }
          ]
         }
        },
        {
         "name": "@OBS_VALUE",
         "dtype": "object",
         "stats": {
          "unique_count": 36,
          "nan_count": 1,
          "categories": [
           {
            "name": "25319.986632403",
            "count": 1
           },
           {
            "name": "35 others",
            "count": 35
           },
           {
            "name": "Missing",
            "count": 1
           }
          ]
         }
        },
        {
         "name": "_deepnote_index_column",
         "dtype": "int64"
        }
       ],
       "rows_top": [
        {
         "@TIME_PERIOD": "2005-Q1",
         "@OBS_STATUS": "B",
         "@OBS_VALUE": "nan",
         "_deepnote_index_column": 0
        },
        {
         "@TIME_PERIOD": "2012-Q1",
         "@OBS_STATUS": "nan",
         "@OBS_VALUE": "25319.986632403",
         "_deepnote_index_column": 1
        },
        {
         "@TIME_PERIOD": "2012-Q2",
         "@OBS_STATUS": "nan",
         "@OBS_VALUE": "25947.2903294317",
         "_deepnote_index_column": 2
        },
        {
         "@TIME_PERIOD": "2012-Q3",
         "@OBS_STATUS": "nan",
         "@OBS_VALUE": "26031.8845764803",
         "_deepnote_index_column": 3
        },
        {
         "@TIME_PERIOD": "2012-Q4",
         "@OBS_STATUS": "nan",
         "@OBS_VALUE": "29279.5618361294",
         "_deepnote_index_column": 4
        },
        {
         "@TIME_PERIOD": "2013-Q1",
         "@OBS_STATUS": "nan",
         "@OBS_VALUE": "30740.9321639172",
         "_deepnote_index_column": 5
        },
        {
         "@TIME_PERIOD": "2013-Q2",
         "@OBS_STATUS": "nan",
         "@OBS_VALUE": "28930.3027688052",
         "_deepnote_index_column": 6
        },
        {
         "@TIME_PERIOD": "2013-Q3",
         "@OBS_STATUS": "nan",
         "@OBS_VALUE": "28569.9034566963",
         "_deepnote_index_column": 7
        },
        {
         "@TIME_PERIOD": "2013-Q4",
         "@OBS_STATUS": "nan",
         "@OBS_VALUE": "29965.7793022461",
         "_deepnote_index_column": 8
        },
        {
         "@TIME_PERIOD": "2014-Q1",
         "@OBS_STATUS": "nan",
         "@OBS_VALUE": "31554.5977277211",
         "_deepnote_index_column": 9
        },
        {
         "@TIME_PERIOD": "2014-Q2",
         "@OBS_STATUS": "nan",
         "@OBS_VALUE": "35136.9792481898",
         "_deepnote_index_column": 10
        },
        {
         "@TIME_PERIOD": "2014-Q3",
         "@OBS_STATUS": "nan",
         "@OBS_VALUE": "36667.2031746261",
         "_deepnote_index_column": 11
        },
        {
         "@TIME_PERIOD": "2014-Q4",
         "@OBS_STATUS": "nan",
         "@OBS_VALUE": "37647.5186936869",
         "_deepnote_index_column": 12
        },
        {
         "@TIME_PERIOD": "2015-Q1",
         "@OBS_STATUS": "nan",
         "@OBS_VALUE": "39240.5118668857",
         "_deepnote_index_column": 13
        },
        {
         "@TIME_PERIOD": "2015-Q2",
         "@OBS_STATUS": "nan",
         "@OBS_VALUE": "40623.4170866444",
         "_deepnote_index_column": 14
        },
        {
         "@TIME_PERIOD": "2015-Q3",
         "@OBS_STATUS": "nan",
         "@OBS_VALUE": "37963.1022314296",
         "_deepnote_index_column": 15
        },
        {
         "@TIME_PERIOD": "2015-Q4",
         "@OBS_STATUS": "nan",
         "@OBS_VALUE": "39799.7408624071",
         "_deepnote_index_column": 16
        },
        {
         "@TIME_PERIOD": "2016-Q1",
         "@OBS_STATUS": "nan",
         "@OBS_VALUE": "41114.0565625984",
         "_deepnote_index_column": 17
        },
        {
         "@TIME_PERIOD": "2016-Q2",
         "@OBS_STATUS": "nan",
         "@OBS_VALUE": "40317.8690321344",
         "_deepnote_index_column": 18
        },
        {
         "@TIME_PERIOD": "2016-Q3",
         "@OBS_STATUS": "nan",
         "@OBS_VALUE": "43706.8163151878",
         "_deepnote_index_column": 19
        },
        {
         "@TIME_PERIOD": "2016-Q4",
         "@OBS_STATUS": "nan",
         "@OBS_VALUE": "38656.187145677",
         "_deepnote_index_column": 20
        },
        {
         "@TIME_PERIOD": "2017-Q1",
         "@OBS_STATUS": "nan",
         "@OBS_VALUE": "43469.921115112",
         "_deepnote_index_column": 21
        },
        {
         "@TIME_PERIOD": "2017-Q2",
         "@OBS_STATUS": "nan",
         "@OBS_VALUE": "46947.129261522",
         "_deepnote_index_column": 22
        },
        {
         "@TIME_PERIOD": "2017-Q3",
         "@OBS_STATUS": "nan",
         "@OBS_VALUE": "50480.8630920482",
         "_deepnote_index_column": 23
        },
        {
         "@TIME_PERIOD": "2017-Q4",
         "@OBS_STATUS": "nan",
         "@OBS_VALUE": "53191.7592092862",
         "_deepnote_index_column": 24
        },
        {
         "@TIME_PERIOD": "2018-Q1",
         "@OBS_STATUS": "nan",
         "@OBS_VALUE": "55010.1432124014",
         "_deepnote_index_column": 25
        },
        {
         "@TIME_PERIOD": "2018-Q2",
         "@OBS_STATUS": "nan",
         "@OBS_VALUE": "52208.4015729299",
         "_deepnote_index_column": 26
        },
        {
         "@TIME_PERIOD": "2018-Q3",
         "@OBS_STATUS": "nan",
         "@OBS_VALUE": "53057.4206799645",
         "_deepnote_index_column": 27
        },
        {
         "@TIME_PERIOD": "2018-Q4",
         "@OBS_STATUS": "nan",
         "@OBS_VALUE": "52587.2342283604",
         "_deepnote_index_column": 28
        },
        {
         "@TIME_PERIOD": "2019-Q1",
         "@OBS_STATUS": "nan",
         "@OBS_VALUE": "57171.5554667105",
         "_deepnote_index_column": 29
        },
        {
         "@TIME_PERIOD": "2019-Q2",
         "@OBS_STATUS": "nan",
         "@OBS_VALUE": "57062.2623109629",
         "_deepnote_index_column": 30
        },
        {
         "@TIME_PERIOD": "2019-Q3",
         "@OBS_STATUS": "nan",
         "@OBS_VALUE": "59457.2007913672",
         "_deepnote_index_column": 31
        },
        {
         "@TIME_PERIOD": "2019-Q4",
         "@OBS_STATUS": "nan",
         "@OBS_VALUE": "70141.6706915221",
         "_deepnote_index_column": 32
        },
        {
         "@TIME_PERIOD": "2020-Q1",
         "@OBS_STATUS": "nan",
         "@OBS_VALUE": "64221.155833944",
         "_deepnote_index_column": 33
        },
        {
         "@TIME_PERIOD": "2020-Q2",
         "@OBS_STATUS": "nan",
         "@OBS_VALUE": "66231.0012748506",
         "_deepnote_index_column": 34
        },
        {
         "@TIME_PERIOD": "2020-Q3",
         "@OBS_STATUS": "nan",
         "@OBS_VALUE": "69283.8858494929",
         "_deepnote_index_column": 35
        },
        {
         "@TIME_PERIOD": "2020-Q4",
         "@OBS_STATUS": "nan",
         "@OBS_VALUE": "79410.8383991565",
         "_deepnote_index_column": 36
        }
       ],
       "rows_bottom": null
      },
      "text/plain": "   @TIME_PERIOD @OBS_STATUS        @OBS_VALUE\n0       2005-Q1           B               NaN\n1       2012-Q1         NaN   25319.986632403\n2       2012-Q2         NaN  25947.2903294317\n3       2012-Q3         NaN  26031.8845764803\n4       2012-Q4         NaN  29279.5618361294\n5       2013-Q1         NaN  30740.9321639172\n6       2013-Q2         NaN  28930.3027688052\n7       2013-Q3         NaN  28569.9034566963\n8       2013-Q4         NaN  29965.7793022461\n9       2014-Q1         NaN  31554.5977277211\n10      2014-Q2         NaN  35136.9792481898\n11      2014-Q3         NaN  36667.2031746261\n12      2014-Q4         NaN  37647.5186936869\n13      2015-Q1         NaN  39240.5118668857\n14      2015-Q2         NaN  40623.4170866444\n15      2015-Q3         NaN  37963.1022314296\n16      2015-Q4         NaN  39799.7408624071\n17      2016-Q1         NaN  41114.0565625984\n18      2016-Q2         NaN  40317.8690321344\n19      2016-Q3         NaN  43706.8163151878\n20      2016-Q4         NaN   38656.187145677\n21      2017-Q1         NaN   43469.921115112\n22      2017-Q2         NaN   46947.129261522\n23      2017-Q3         NaN  50480.8630920482\n24      2017-Q4         NaN  53191.7592092862\n25      2018-Q1         NaN  55010.1432124014\n26      2018-Q2         NaN  52208.4015729299\n27      2018-Q3         NaN  53057.4206799645\n28      2018-Q4         NaN  52587.2342283604\n29      2019-Q1         NaN  57171.5554667105\n30      2019-Q2         NaN  57062.2623109629\n31      2019-Q3         NaN  59457.2007913672\n32      2019-Q4         NaN  70141.6706915221\n33      2020-Q1         NaN   64221.155833944\n34      2020-Q2         NaN  66231.0012748506\n35      2020-Q3         NaN  69283.8858494929\n36      2020-Q4         NaN  79410.8383991565",
      "text/html": "<div>\n<style scoped>\n    .dataframe tbody tr th:only-of-type {\n        vertical-align: middle;\n    }\n\n    .dataframe tbody tr th {\n        vertical-align: top;\n    }\n\n    .dataframe thead th {\n        text-align: right;\n    }\n</style>\n<table border=\"1\" class=\"dataframe\">\n  <thead>\n    <tr style=\"text-align: right;\">\n      <th></th>\n      <th>@TIME_PERIOD</th>\n      <th>@OBS_STATUS</th>\n      <th>@OBS_VALUE</th>\n    </tr>\n  </thead>\n  <tbody>\n    <tr>\n      <th>0</th>\n      <td>2005-Q1</td>\n      <td>B</td>\n      <td>NaN</td>\n    </tr>\n    <tr>\n      <th>1</th>\n      <td>2012-Q1</td>\n      <td>NaN</td>\n      <td>25319.986632403</td>\n    </tr>\n    <tr>\n      <th>2</th>\n      <td>2012-Q2</td>\n      <td>NaN</td>\n      <td>25947.2903294317</td>\n    </tr>\n    <tr>\n      <th>3</th>\n      <td>2012-Q3</td>\n      <td>NaN</td>\n      <td>26031.8845764803</td>\n    </tr>\n    <tr>\n      <th>4</th>\n      <td>2012-Q4</td>\n      <td>NaN</td>\n      <td>29279.5618361294</td>\n    </tr>\n    <tr>\n      <th>5</th>\n      <td>2013-Q1</td>\n      <td>NaN</td>\n      <td>30740.9321639172</td>\n    </tr>\n    <tr>\n      <th>6</th>\n      <td>2013-Q2</td>\n      <td>NaN</td>\n      <td>28930.3027688052</td>\n    </tr>\n    <tr>\n      <th>7</th>\n      <td>2013-Q3</td>\n      <td>NaN</td>\n      <td>28569.9034566963</td>\n    </tr>\n    <tr>\n      <th>8</th>\n      <td>2013-Q4</td>\n      <td>NaN</td>\n      <td>29965.7793022461</td>\n    </tr>\n    <tr>\n      <th>9</th>\n      <td>2014-Q1</td>\n      <td>NaN</td>\n      <td>31554.5977277211</td>\n    </tr>\n    <tr>\n      <th>10</th>\n      <td>2014-Q2</td>\n      <td>NaN</td>\n      <td>35136.9792481898</td>\n    </tr>\n    <tr>\n      <th>11</th>\n      <td>2014-Q3</td>\n      <td>NaN</td>\n      <td>36667.2031746261</td>\n    </tr>\n    <tr>\n      <th>12</th>\n      <td>2014-Q4</td>\n      <td>NaN</td>\n      <td>37647.5186936869</td>\n    </tr>\n    <tr>\n      <th>13</th>\n      <td>2015-Q1</td>\n      <td>NaN</td>\n      <td>39240.5118668857</td>\n    </tr>\n    <tr>\n      <th>14</th>\n      <td>2015-Q2</td>\n      <td>NaN</td>\n      <td>40623.4170866444</td>\n    </tr>\n    <tr>\n      <th>15</th>\n      <td>2015-Q3</td>\n      <td>NaN</td>\n      <td>37963.1022314296</td>\n    </tr>\n    <tr>\n      <th>16</th>\n      <td>2015-Q4</td>\n      <td>NaN</td>\n      <td>39799.7408624071</td>\n    </tr>\n    <tr>\n      <th>17</th>\n      <td>2016-Q1</td>\n      <td>NaN</td>\n      <td>41114.0565625984</td>\n    </tr>\n    <tr>\n      <th>18</th>\n      <td>2016-Q2</td>\n      <td>NaN</td>\n      <td>40317.8690321344</td>\n    </tr>\n    <tr>\n      <th>19</th>\n      <td>2016-Q3</td>\n      <td>NaN</td>\n      <td>43706.8163151878</td>\n    </tr>\n    <tr>\n      <th>20</th>\n      <td>2016-Q4</td>\n      <td>NaN</td>\n      <td>38656.187145677</td>\n    </tr>\n    <tr>\n      <th>21</th>\n      <td>2017-Q1</td>\n      <td>NaN</td>\n      <td>43469.921115112</td>\n    </tr>\n    <tr>\n      <th>22</th>\n      <td>2017-Q2</td>\n      <td>NaN</td>\n      <td>46947.129261522</td>\n    </tr>\n    <tr>\n      <th>23</th>\n      <td>2017-Q3</td>\n      <td>NaN</td>\n      <td>50480.8630920482</td>\n    </tr>\n    <tr>\n      <th>24</th>\n      <td>2017-Q4</td>\n      <td>NaN</td>\n      <td>53191.7592092862</td>\n    </tr>\n    <tr>\n      <th>25</th>\n      <td>2018-Q1</td>\n      <td>NaN</td>\n      <td>55010.1432124014</td>\n    </tr>\n    <tr>\n      <th>26</th>\n      <td>2018-Q2</td>\n      <td>NaN</td>\n      <td>52208.4015729299</td>\n    </tr>\n    <tr>\n      <th>27</th>\n      <td>2018-Q3</td>\n      <td>NaN</td>\n      <td>53057.4206799645</td>\n    </tr>\n    <tr>\n      <th>28</th>\n      <td>2018-Q4</td>\n      <td>NaN</td>\n      <td>52587.2342283604</td>\n    </tr>\n    <tr>\n      <th>29</th>\n      <td>2019-Q1</td>\n      <td>NaN</td>\n      <td>57171.5554667105</td>\n    </tr>\n    <tr>\n      <th>30</th>\n      <td>2019-Q2</td>\n      <td>NaN</td>\n      <td>57062.2623109629</td>\n    </tr>\n    <tr>\n      <th>31</th>\n      <td>2019-Q3</td>\n      <td>NaN</td>\n      <td>59457.2007913672</td>\n    </tr>\n    <tr>\n      <th>32</th>\n      <td>2019-Q4</td>\n      <td>NaN</td>\n      <td>70141.6706915221</td>\n    </tr>\n    <tr>\n      <th>33</th>\n      <td>2020-Q1</td>\n      <td>NaN</td>\n      <td>64221.155833944</td>\n    </tr>\n    <tr>\n      <th>34</th>\n      <td>2020-Q2</td>\n      <td>NaN</td>\n      <td>66231.0012748506</td>\n    </tr>\n    <tr>\n      <th>35</th>\n      <td>2020-Q3</td>\n      <td>NaN</td>\n      <td>69283.8858494929</td>\n    </tr>\n    <tr>\n      <th>36</th>\n      <td>2020-Q4</td>\n      <td>NaN</td>\n      <td>79410.8383991565</td>\n    </tr>\n  </tbody>\n</table>\n</div>"
     },
     "metadata": {}
    }
   ]
  },
  {
   "cell_type": "code",
   "source": "",
   "metadata": {
    "tags": [],
    "cell_id": "00034-72d3a9a8-4b2c-492a-8ccc-d52e03aa6852",
    "deepnote_cell_type": "code"
   },
   "outputs": [],
   "execution_count": null
  },
  {
   "cell_type": "markdown",
   "source": "<a style='text-decoration:none;line-height:16px;display:flex;color:#5B5B62;padding:10px;justify-content:end;' href='https://deepnote.com?utm_source=created-in-deepnote-cell&projectId=5afecb5f-7d28-4b37-ae51-8d94c0fa9663' target=\"_blank\">\n<img alt='Created in deepnote.com' style='display:inline;max-height:16px;margin:0px;margin-right:7.5px;' src='data:image/svg+xml;base64,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' > </img>\nCreated in <span style='font-weight:600;margin-left:4px;'>Deepnote</span></a>",
   "metadata": {
    "tags": [],
    "created_in_deepnote_cell": true,
    "deepnote_cell_type": "markdown"
   }
  }
 ],
 "nbformat": 4,
 "nbformat_minor": 2,
 "metadata": {
  "orig_nbformat": 2,
  "deepnote": {
   "is_reactive": false
  },
  "deepnote_notebook_id": "5a39c70a-8090-470d-a931-3c0f07c2bd08",
  "deepnote_execution_queue": []
 }
}