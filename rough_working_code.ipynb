{
 "cells": [
  {
   "cell_type": "markdown",
   "source": "# IMF Code",
   "metadata": {
    "tags": [],
    "cell_id": "00000-93958746-7914-4af5-a861-389210363bd1",
    "deepnote_cell_type": "text-cell-h1"
   }
  },
  {
   "cell_type": "markdown",
   "source": "",
   "metadata": {
    "tags": [],
    "deepnote_cell_type": "text-cell-p"
   }
  },
  {
   "cell_type": "code",
   "metadata": {
    "tags": [],
    "cell_id": "00000-c046909e-757c-4a25-937d-7ebb320a35fd",
    "deepnote_cell_type": "code"
   },
   "source": "IFS_sample = pd.read_csv('IFS sample.csv')",
   "execution_count": null,
   "outputs": []
  },
  {
   "cell_type": "code",
   "source": "# clean & working Code \n\n# Select Countries Required\ncntrys = ['Afghanistan, Islamic Rep. of', 'Angola']\nIFS_sample = IFS_sample[IFS_sample['Country Name'].isin(cntrys)].copy()\n\n#Concat Base year \nIFS_sample['Indicator Name'] = np.where(IFS_sample['Base Year'].isnull(),IFS_sample['Indicator Name'], IFS_sample['Indicator Name'] + \" (\" + IFS_sample['Base Year'] +\")\").copy()\n# Filter by then concat the Indicator Code\nIFS_sample['Indicator Name'] = IFS_sample['Indicator Name'] + \" - \" + IFS_sample['Indicator Code']\nrequired_indicators = ['HPHSPA_PA']\nIFS_sample = IFS_sample[IFS_sample['Indicator Code'].isin(required_indicators)].copy()\n#Drop Base Year & Indicator Code\nIFS_sample.drop(['Base Year', 'Indicator Code'], axis=1, inplace = True)\n\n#Melt Data \nIFS_sample.drop([ 'Attribute'], axis=1, inplace = True)\nIFS_sample = IFS_sample.melt(id_vars=['Country Name','Country Code','Indicator Name'], var_name='Year', value_name='Value' ).copy()\n\n\n#Cut data Range\n#Frequency - Annual - Done\n'''\nnon_ann = ['M', 'Q']\nIFS_sample = IFS_sample[~IFS_sample.Year.str.contains('|'.join(non_ann))].copy()\n'''\n#Frequency - Quarterly \nIFS_sample = IFS_sample[IFS_sample.Year.str.contains('Q')].copy()\nIFS_sample.drop_duplicates(inplace=True)\n\n#Pivot Indicators to Columns\nIFS_sample = IFS_sample.groupby(['Year', 'Country Name', 'Country Code', 'Indicator Name']).agg({'Value':'sum'}).reset_index().copy()\nIFS_sample = IFS_sample.pivot(index=['Year', 'Country Name', 'Country Code'], columns='Indicator Name', values='Value').reset_index().copy()\n\nIFS_sample.head(30)",
   "metadata": {
    "tags": [],
    "cell_id": "00003-c5f296bb-6ea0-4fae-890a-3d2e318bc30c",
    "deepnote_cell_type": "code"
   },
   "outputs": [],
   "execution_count": null
  },
  {
   "cell_type": "code",
   "source": "test_IFS = pd.read_csv('IFS sample.csv')\ncntrys = ['Afghanistan, Islamic Rep. of', 'Angola']\nrequired_indicators = ['HPHSPA_PA']\ntest_IFS = clean_IFS_data(test_IFS, countries = cntrys, date_from = 1980, Series_Codes = required_indicators , date_to = 2002, frequency = 'Q' )\ntest_IFS",
   "metadata": {
    "tags": [],
    "cell_id": "00004-134aa8f6-0b35-47ef-89d2-d7cac404f906",
    "deepnote_cell_type": "code"
   },
   "outputs": [],
   "execution_count": null
  },
  {
   "cell_type": "markdown",
   "source": "## Tools",
   "metadata": {
    "tags": [],
    "cell_id": "00005-5916aa2b-bd25-40f3-acbe-77647a75bc5d",
    "deepnote_cell_type": "text-cell-h2"
   }
  },
  {
   "cell_type": "code",
   "source": "# Data Types Per row & Column in DF\nX['Value_Type'] = X['Value'].apply(lambda x: type(x).__name__)\nX[X['Value_Type'] != \"float\"].copy()\n#X[(X['Value_Type'] != \"float\")& (X['Indicator Name'] == 'Assets, Portfolio Investment, US Dollars - IAP_BP6_USD') ] ",
   "metadata": {
    "tags": [],
    "cell_id": "00006-0ad86c54-9be3-444c-84f2-574160249bbf",
    "deepnote_cell_type": "code"
   },
   "outputs": [],
   "execution_count": null
  },
  {
   "cell_type": "markdown",
   "source": "<a style='text-decoration:none;line-height:16px;display:flex;color:#5B5B62;padding:10px;justify-content:end;' href='https://deepnote.com?utm_source=created-in-deepnote-cell&projectId=5afecb5f-7d28-4b37-ae51-8d94c0fa9663' target=\"_blank\">\n<img alt='Created in deepnote.com' style='display:inline;max-height:16px;margin:0px;margin-right:7.5px;' src='data:image/svg+xml;base64,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' > </img>\nCreated in <span style='font-weight:600;margin-left:4px;'>Deepnote</span></a>",
   "metadata": {
    "tags": [],
    "created_in_deepnote_cell": true,
    "deepnote_cell_type": "markdown"
   }
  }
 ],
 "nbformat": 4,
 "nbformat_minor": 2,
 "metadata": {
  "orig_nbformat": 2,
  "deepnote": {
   "is_reactive": false
  },
  "deepnote_notebook_id": "24e182c3-1e9c-4b77-9944-073f9391f7fb",
  "deepnote_execution_queue": []
 }
}