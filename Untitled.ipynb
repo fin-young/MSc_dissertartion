{
 "cells": [
  {
   "cell_type": "code",
   "source": "!pip install world_bank_data==0.1.3",
   "metadata": {
    "tags": [],
    "cell_id": "00000-7e0f39e9-c05e-4fea-ba38-59fc2e8e47c1",
    "deepnote_to_be_reexecuted": false,
    "source_hash": "e52c8e51",
    "execution_start": 1628722648257,
    "execution_millis": 5378,
    "deepnote_cell_type": "code"
   },
   "outputs": [
    {
     "name": "stdout",
     "text": "Collecting world_bank_data==0.1.3\n  Downloading world_bank_data-0.1.3.tar.gz (12 kB)\nRequirement already satisfied: pandas in /shared-libs/python3.6/py/lib/python3.6/site-packages (from world_bank_data==0.1.3) (1.1.5)\nRequirement already satisfied: requests in /usr/local/lib/python3.6/dist-packages (from world_bank_data==0.1.3) (2.25.1)\nRequirement already satisfied: cachetools in /usr/local/lib/python3.6/dist-packages (from world_bank_data==0.1.3) (4.2.2)\nRequirement already satisfied: pytz>=2017.2 in /shared-libs/python3.6/py/lib/python3.6/site-packages (from pandas->world_bank_data==0.1.3) (2021.1)\nRequirement already satisfied: python-dateutil>=2.7.3 in /shared-libs/python3.6/py-core/lib/python3.6/site-packages (from pandas->world_bank_data==0.1.3) (2.8.2)\nRequirement already satisfied: numpy>=1.15.4 in /usr/local/lib/python3.6/dist-packages (from pandas->world_bank_data==0.1.3) (1.19.5)\nRequirement already satisfied: six>=1.5 in /shared-libs/python3.6/py-core/lib/python3.6/site-packages (from python-dateutil>=2.7.3->pandas->world_bank_data==0.1.3) (1.16.0)\nRequirement already satisfied: certifi>=2017.4.17 in /usr/local/lib/python3.6/dist-packages (from requests->world_bank_data==0.1.3) (2020.12.5)\nRequirement already satisfied: urllib3<1.27,>=1.21.1 in /usr/local/lib/python3.6/dist-packages (from requests->world_bank_data==0.1.3) (1.26.4)\nRequirement already satisfied: chardet<5,>=3.0.2 in /shared-libs/python3.6/py-core/lib/python3.6/site-packages (from requests->world_bank_data==0.1.3) (4.0.0)\nCollecting idna<3,>=2.5\n  Using cached idna-2.10-py2.py3-none-any.whl (58 kB)\nBuilding wheels for collected packages: world-bank-data\n  Building wheel for world-bank-data (setup.py) ... \u001b[?25ldone\n\u001b[?25h  Created wheel for world-bank-data: filename=world_bank_data-0.1.3-py3-none-any.whl size=11113 sha256=9e67add80c364ef78c37500e1b18be90b8ffdb7b7af91964bf5ac2023968da1a\n  Stored in directory: /root/.cache/pip/wheels/5b/f9/91/012a2112dff91f787e53fb66a3891074060d07e0b6664bd708\nSuccessfully built world-bank-data\nInstalling collected packages: idna, world-bank-data\n  Attempting uninstall: idna\n    Found existing installation: idna 3.2\n    Not uninstalling idna at /shared-libs/python3.6/py-core/lib/python3.6/site-packages, outside environment /root/venv\n    Can't uninstall 'idna'. No files were found to uninstall.\n\u001b[31mERROR: pip's dependency resolver does not currently take into account all the packages that are installed. This behaviour is the source of the following dependency conflicts.\nsnowflake-connector-python 2.5.1 requires asn1crypto<2.0.0,>0.24.0, but you have asn1crypto 0.24.0 which is incompatible.\nsnowflake-connector-python 2.5.1 requires cryptography<4.0.0,>=2.5.0, but you have cryptography 2.1.4 which is incompatible.\u001b[0m\nSuccessfully installed idna-2.10 world-bank-data-0.1.3\n\u001b[33mWARNING: You are using pip version 21.2.2; however, version 21.2.3 is available.\nYou should consider upgrading via the '/root/venv/bin/python -m pip install --upgrade pip' command.\u001b[0m\n",
     "output_type": "stream"
    }
   ],
   "execution_count": null
  },
  {
   "cell_type": "code",
   "metadata": {
    "cell_id": "00000-fef45ef1-7c9f-407d-ba9a-aa1792b6086d",
    "deepnote_to_be_reexecuted": false,
    "source_hash": "73646b4d",
    "execution_start": 1628724645625,
    "execution_millis": 2,
    "deepnote_cell_type": "code"
   },
   "source": "import FX_DATA_GEN as DG\nfrom THEO_POULA_Model import LSTMModel, get_model\n\nimport pandas as pd\nimport numpy as np\nfrom numpy import hstack, array\nfrom torch.utils.data import TensorDataset, DataLoader\nimport torch \nfrom torch import nn\nimport torch.nn.functional as F\nfrom datetime import datetime\nfrom THEO_POULA_Optim import THEOPOULA\nfrom torch.utils.tensorboard import SummaryWriter\nimport os\nimport matplotlib.pyplot as plt\nimport pickle as pkl",
   "execution_count": 5,
   "outputs": []
  },
  {
   "cell_type": "code",
   "metadata": {
    "collapsed": true,
    "cell_id": "00001-baab0a9d-3f77-448b-8493-8a7be5a7d4ac",
    "deepnote_cell_type": "code"
   },
   "source": "#daily FX Rate dataset call\n#DG.Get_curr_data('MX')",
   "execution_count": null,
   "outputs": []
  },
  {
   "cell_type": "code",
   "metadata": {
    "collapsed": true,
    "cell_id": "00002-7cc897d0-5f7a-4705-8540-ca286fe78529",
    "deepnote_cell_type": "code"
   },
   "source": "#Macro economic dataset call\n#MEX = DG.MacEcon_TS('MX',1980, 2020)",
   "execution_count": null,
   "outputs": []
  },
  {
   "cell_type": "code",
   "metadata": {
    "collapsed": true,
    "cell_id": "00003-a21643e8-84bc-4683-9332-72cd89dc5244",
    "deepnote_cell_type": "code"
   },
   "source": "#Description of Macro economic dataset\n#DG.describe_MacEcon_TS(MEX)",
   "execution_count": null,
   "outputs": []
  },
  {
   "cell_type": "markdown",
   "source": "## Create dataset & Clean",
   "metadata": {
    "cell_id": "00004-4d9c8894-d084-4464-9f69-bcfdd9b05474",
    "deepnote_cell_type": "markdown"
   }
  },
  {
   "cell_type": "code",
   "metadata": {
    "cell_id": "00005-a9f1c501-4fb1-4e68-ba98-aa6d69fd597b",
    "deepnote_to_be_reexecuted": false,
    "source_hash": "a89b1b63",
    "execution_start": 1628724652891,
    "execution_millis": 6033,
    "deepnote_cell_type": "code"
   },
   "source": "#Joint dataset of Macro economic & FX Rates combined\nmex_full = DG.Get_FX_MacEcon_Data('MX')\nmex_full.head()",
   "execution_count": 6,
   "outputs": [
    {
     "output_type": "execute_result",
     "execution_count": 6,
     "data": {
      "application/vnd.deepnote.dataframe.v2+json": {
       "row_count": 5,
       "column_count": 32,
       "columns": [
        {
         "name": "MXN",
         "dtype": "float64",
         "stats": {
          "unique_count": 5,
          "nan_count": 0,
          "min": "3.33",
          "max": "3.3598",
          "histogram": [
           {
            "bin_start": 3.33,
            "bin_end": 3.33298,
            "count": 1
           },
           {
            "bin_start": 3.33298,
            "bin_end": 3.33596,
            "count": 0
           },
           {
            "bin_start": 3.33596,
            "bin_end": 3.33894,
            "count": 1
           },
           {
            "bin_start": 3.33894,
            "bin_end": 3.34192,
            "count": 0
           },
           {
            "bin_start": 3.34192,
            "bin_end": 3.3449,
            "count": 0
           },
           {
            "bin_start": 3.3449,
            "bin_end": 3.34788,
            "count": 0
           },
           {
            "bin_start": 3.34788,
            "bin_end": 3.35086,
            "count": 1
           },
           {
            "bin_start": 3.35086,
            "bin_end": 3.35384,
            "count": 0
           },
           {
            "bin_start": 3.35384,
            "bin_end": 3.35682,
            "count": 0
           },
           {
            "bin_start": 3.35682,
            "bin_end": 3.3598,
            "count": 2
           }
          ]
         }
        },
        {
         "name": "Yr",
         "dtype": "int64",
         "stats": {
          "unique_count": 1,
          "nan_count": 0,
          "min": "1994",
          "max": "1994",
          "histogram": [
           {
            "bin_start": 1993.5,
            "bin_end": 1993.6,
            "count": 0
           },
           {
            "bin_start": 1993.6,
            "bin_end": 1993.7,
            "count": 0
           },
           {
            "bin_start": 1993.7,
            "bin_end": 1993.8,
            "count": 0
           },
           {
            "bin_start": 1993.8,
            "bin_end": 1993.9,
            "count": 0
           },
           {
            "bin_start": 1993.9,
            "bin_end": 1994,
            "count": 0
           },
           {
            "bin_start": 1994,
            "bin_end": 1994.1,
            "count": 5
           },
           {
            "bin_start": 1994.1,
            "bin_end": 1994.2,
            "count": 0
           },
           {
            "bin_start": 1994.2,
            "bin_end": 1994.3,
            "count": 0
           },
           {
            "bin_start": 1994.3,
            "bin_end": 1994.4,
            "count": 0
           },
           {
            "bin_start": 1994.4,
            "bin_end": 1994.5,
            "count": 0
           }
          ]
         }
        },
        {
         "name": "DoM",
         "dtype": "int64",
         "stats": {
          "unique_count": 5,
          "nan_count": 0,
          "min": "22",
          "max": "29",
          "histogram": [
           {
            "bin_start": 22,
            "bin_end": 22.7,
            "count": 1
           },
           {
            "bin_start": 22.7,
            "bin_end": 23.4,
            "count": 1
           },
           {
            "bin_start": 23.4,
            "bin_end": 24.1,
            "count": 0
           },
           {
            "bin_start": 24.1,
            "bin_end": 24.8,
            "count": 0
           },
           {
            "bin_start": 24.8,
            "bin_end": 25.5,
            "count": 1
           },
           {
            "bin_start": 25.5,
            "bin_end": 26.2,
            "count": 0
           },
           {
            "bin_start": 26.2,
            "bin_end": 26.9,
            "count": 0
           },
           {
            "bin_start": 26.9,
            "bin_end": 27.6,
            "count": 0
           },
           {
            "bin_start": 27.6,
            "bin_end": 28.3,
            "count": 1
           },
           {
            "bin_start": 28.3,
            "bin_end": 29,
            "count": 1
           }
          ]
         }
        },
        {
         "name": "MoY",
         "dtype": "int64",
         "stats": {
          "unique_count": 1,
          "nan_count": 0,
          "min": "3",
          "max": "3",
          "histogram": [
           {
            "bin_start": 2.5,
            "bin_end": 2.6,
            "count": 0
           },
           {
            "bin_start": 2.6,
            "bin_end": 2.7,
            "count": 0
           },
           {
            "bin_start": 2.7,
            "bin_end": 2.8,
            "count": 0
           },
           {
            "bin_start": 2.8,
            "bin_end": 2.9,
            "count": 0
           },
           {
            "bin_start": 2.9,
            "bin_end": 3,
            "count": 0
           },
           {
            "bin_start": 3,
            "bin_end": 3.1,
            "count": 5
           },
           {
            "bin_start": 3.1,
            "bin_end": 3.2,
            "count": 0
           },
           {
            "bin_start": 3.2,
            "bin_end": 3.3,
            "count": 0
           },
           {
            "bin_start": 3.3,
            "bin_end": 3.4,
            "count": 0
           },
           {
            "bin_start": 3.4,
            "bin_end": 3.5,
            "count": 0
           }
          ]
         }
        },
        {
         "name": "sin_DoY",
         "dtype": "float64",
         "stats": {
          "unique_count": 5,
          "nan_count": 0,
          "min": "0.9813064702716093",
          "max": "0.9973249731081555",
          "histogram": [
           {
            "bin_start": 0.9813064702716093,
            "bin_end": 0.982908320555264,
            "count": 1
           },
           {
            "bin_start": 0.982908320555264,
            "bin_end": 0.9845101708389186,
            "count": 1
           },
           {
            "bin_start": 0.9845101708389186,
            "bin_end": 0.9861120211225731,
            "count": 0
           },
           {
            "bin_start": 0.9861120211225731,
            "bin_end": 0.9877138714062278,
            "count": 0
           },
           {
            "bin_start": 0.9877138714062278,
            "bin_end": 0.9893157216898825,
            "count": 0
           },
           {
            "bin_start": 0.9893157216898825,
            "bin_end": 0.990917571973537,
            "count": 1
           },
           {
            "bin_start": 0.990917571973537,
            "bin_end": 0.9925194222571916,
            "count": 0
           },
           {
            "bin_start": 0.9925194222571916,
            "bin_end": 0.9941212725408463,
            "count": 0
           },
           {
            "bin_start": 0.9941212725408463,
            "bin_end": 0.9957231228245009,
            "count": 0
           },
           {
            "bin_start": 0.9957231228245009,
            "bin_end": 0.9973249731081555,
            "count": 2
           }
          ]
         }
        },
        {
         "name": "cos_DoY",
         "dtype": "float64",
         "stats": {
          "unique_count": 5,
          "nan_count": 0,
          "min": "0.07309512989807777",
          "max": "0.19245158197082998",
          "histogram": [
           {
            "bin_start": 0.07309512989807777,
            "bin_end": 0.085030775105353,
            "count": 1
           },
           {
            "bin_start": 0.085030775105353,
            "bin_end": 0.09696642031262821,
            "count": 1
           },
           {
            "bin_start": 0.09696642031262821,
            "bin_end": 0.10890206551990345,
            "count": 0
           },
           {
            "bin_start": 0.10890206551990345,
            "bin_end": 0.12083771072717867,
            "count": 0
           },
           {
            "bin_start": 0.12083771072717867,
            "bin_end": 0.13277335593445388,
            "count": 0
           },
           {
            "bin_start": 0.13277335593445388,
            "bin_end": 0.1447090011417291,
            "count": 1
           },
           {
            "bin_start": 0.1447090011417291,
            "bin_end": 0.15664464634900432,
            "count": 0
           },
           {
            "bin_start": 0.15664464634900432,
            "bin_end": 0.16858029155627954,
            "count": 0
           },
           {
            "bin_start": 0.16858029155627954,
            "bin_end": 0.18051593676355476,
            "count": 1
           },
           {
            "bin_start": 0.18051593676355476,
            "bin_end": 0.19245158197082998,
            "count": 1
           }
          ]
         }
        },
        {
         "name": "Ave Monthly USD FX Rate",
         "dtype": "float64",
         "stats": {
          "unique_count": 1,
          "nan_count": 0,
          "min": "3.2841",
          "max": "3.2841",
          "histogram": [
           {
            "bin_start": 2.7841,
            "bin_end": 2.8841,
            "count": 0
           },
           {
            "bin_start": 2.8841,
            "bin_end": 2.9841,
            "count": 0
           },
           {
            "bin_start": 2.9841,
            "bin_end": 3.0841000000000003,
            "count": 0
           },
           {
            "bin_start": 3.0841000000000003,
            "bin_end": 3.1841,
            "count": 0
           },
           {
            "bin_start": 3.1841,
            "bin_end": 3.2841,
            "count": 0
           },
           {
            "bin_start": 3.2841,
            "bin_end": 3.3841,
            "count": 5
           },
           {
            "bin_start": 3.3841,
            "bin_end": 3.4841,
            "count": 0
           },
           {
            "bin_start": 3.4841,
            "bin_end": 3.5841000000000003,
            "count": 0
           },
           {
            "bin_start": 3.5841000000000003,
            "bin_end": 3.6841,
            "count": 0
           },
           {
            "bin_start": 3.6841,
            "bin_end": 3.7841,
            "count": 0
           }
          ]
         }
        },
        {
         "name": "Inflation (CPI) %",
         "dtype": "float64",
         "stats": {
          "unique_count": 1,
          "nan_count": 0,
          "min": "19.2003720678136",
          "max": "19.2003720678136",
          "histogram": [
           {
            "bin_start": 18.7003720678136,
            "bin_end": 18.8003720678136,
            "count": 0
           },
           {
            "bin_start": 18.8003720678136,
            "bin_end": 18.9003720678136,
            "count": 0
           },
           {
            "bin_start": 18.9003720678136,
            "bin_end": 19.0003720678136,
            "count": 0
           },
           {
            "bin_start": 19.0003720678136,
            "bin_end": 19.1003720678136,
            "count": 0
           },
           {
            "bin_start": 19.1003720678136,
            "bin_end": 19.2003720678136,
            "count": 0
           },
           {
            "bin_start": 19.2003720678136,
            "bin_end": 19.3003720678136,
            "count": 5
           },
           {
            "bin_start": 19.3003720678136,
            "bin_end": 19.4003720678136,
            "count": 0
           },
           {
            "bin_start": 19.4003720678136,
            "bin_end": 19.5003720678136,
            "count": 0
           },
           {
            "bin_start": 19.5003720678136,
            "bin_end": 19.6003720678136,
            "count": 0
           },
           {
            "bin_start": 19.6003720678136,
            "bin_end": 19.7003720678136,
            "count": 0
           }
          ]
         }
        },
        {
         "name": "Deposit Interest Rate %",
         "dtype": "float64",
         "stats": {
          "unique_count": 1,
          "nan_count": 0,
          "min": "10.16",
          "max": "10.16",
          "histogram": [
           {
            "bin_start": 9.66,
            "bin_end": 9.76,
            "count": 0
           },
           {
            "bin_start": 9.76,
            "bin_end": 9.86,
            "count": 0
           },
           {
            "bin_start": 9.86,
            "bin_end": 9.96,
            "count": 0
           },
           {
            "bin_start": 9.96,
            "bin_end": 10.06,
            "count": 0
           },
           {
            "bin_start": 10.06,
            "bin_end": 10.16,
            "count": 0
           },
           {
            "bin_start": 10.16,
            "bin_end": 10.26,
            "count": 5
           },
           {
            "bin_start": 10.26,
            "bin_end": 10.36,
            "count": 0
           },
           {
            "bin_start": 10.36,
            "bin_end": 10.46,
            "count": 0
           },
           {
            "bin_start": 10.46,
            "bin_end": 10.56,
            "count": 0
           },
           {
            "bin_start": 10.56,
            "bin_end": 10.66,
            "count": 0
           }
          ]
         }
        },
        {
         "name": "Lending Interest Rate %",
         "dtype": "float64",
         "stats": {
          "unique_count": 1,
          "nan_count": 0,
          "min": "13.46",
          "max": "13.46",
          "histogram": [
           {
            "bin_start": 12.96,
            "bin_end": 13.06,
            "count": 0
           },
           {
            "bin_start": 13.06,
            "bin_end": 13.16,
            "count": 0
           },
           {
            "bin_start": 13.16,
            "bin_end": 13.260000000000002,
            "count": 0
           },
           {
            "bin_start": 13.260000000000002,
            "bin_end": 13.360000000000001,
            "count": 0
           },
           {
            "bin_start": 13.360000000000001,
            "bin_end": 13.46,
            "count": 0
           },
           {
            "bin_start": 13.46,
            "bin_end": 13.56,
            "count": 5
           },
           {
            "bin_start": 13.56,
            "bin_end": 13.66,
            "count": 0
           },
           {
            "bin_start": 13.66,
            "bin_end": 13.760000000000002,
            "count": 0
           },
           {
            "bin_start": 13.760000000000002,
            "bin_end": 13.860000000000001,
            "count": 0
           },
           {
            "bin_start": 13.860000000000001,
            "bin_end": 13.96,
            "count": 0
           }
          ]
         }
        },
        {
         "name": "Exports(USD)",
         "dtype": "float64",
         "stats": {
          "unique_count": 1,
          "nan_count": 0,
          "min": "5155500000.0",
          "max": "5155500000.0",
          "histogram": [
           {
            "bin_start": 5155499999.5,
            "bin_end": 5155499999.6,
            "count": 0
           },
           {
            "bin_start": 5155499999.6,
            "bin_end": 5155499999.7,
            "count": 0
           },
           {
            "bin_start": 5155499999.7,
            "bin_end": 5155499999.8,
            "count": 0
           },
           {
            "bin_start": 5155499999.8,
            "bin_end": 5155499999.9,
            "count": 0
           },
           {
            "bin_start": 5155499999.9,
            "bin_end": 5155500000,
            "count": 0
           },
           {
            "bin_start": 5155500000,
            "bin_end": 5155500000.1,
            "count": 5
           },
           {
            "bin_start": 5155500000.1,
            "bin_end": 5155500000.2,
            "count": 0
           },
           {
            "bin_start": 5155500000.2,
            "bin_end": 5155500000.3,
            "count": 0
           },
           {
            "bin_start": 5155500000.3,
            "bin_end": 5155500000.4,
            "count": 0
           },
           {
            "bin_start": 5155500000.4,
            "bin_end": 5155500000.5,
            "count": 0
           }
          ]
         }
        },
        {
         "name": "Imports (USD)",
         "dtype": "float64",
         "stats": {
          "unique_count": 1,
          "nan_count": 0,
          "min": "6790318500.0",
          "max": "6790318500.0",
          "histogram": [
           {
            "bin_start": 6790318499.5,
            "bin_end": 6790318499.6,
            "count": 0
           },
           {
            "bin_start": 6790318499.6,
            "bin_end": 6790318499.7,
            "count": 0
           },
           {
            "bin_start": 6790318499.7,
            "bin_end": 6790318499.8,
            "count": 0
           },
           {
            "bin_start": 6790318499.8,
            "bin_end": 6790318499.9,
            "count": 0
           },
           {
            "bin_start": 6790318499.9,
            "bin_end": 6790318500,
            "count": 0
           },
           {
            "bin_start": 6790318500,
            "bin_end": 6790318500.1,
            "count": 5
           },
           {
            "bin_start": 6790318500.1,
            "bin_end": 6790318500.2,
            "count": 0
           },
           {
            "bin_start": 6790318500.2,
            "bin_end": 6790318500.3,
            "count": 0
           },
           {
            "bin_start": 6790318500.3,
            "bin_end": 6790318500.4,
            "count": 0
           },
           {
            "bin_start": 6790318500.4,
            "bin_end": 6790318500.5,
            "count": 0
           }
          ]
         }
        },
        {
         "name": "NY.GDP.MKTP.CD",
         "dtype": "float64",
         "stats": {
          "unique_count": 1,
          "nan_count": 0,
          "min": "527813238126.278",
          "max": "527813238126.278",
          "histogram": [
           {
            "bin_start": 527813238125.778,
            "bin_end": 527813238125.878,
            "count": 0
           },
           {
            "bin_start": 527813238125.878,
            "bin_end": 527813238125.978,
            "count": 0
           },
           {
            "bin_start": 527813238125.978,
            "bin_end": 527813238126.078,
            "count": 0
           },
           {
            "bin_start": 527813238126.078,
            "bin_end": 527813238126.17804,
            "count": 0
           },
           {
            "bin_start": 527813238126.17804,
            "bin_end": 527813238126.278,
            "count": 0
           },
           {
            "bin_start": 527813238126.278,
            "bin_end": 527813238126.378,
            "count": 5
           },
           {
            "bin_start": 527813238126.378,
            "bin_end": 527813238126.478,
            "count": 0
           },
           {
            "bin_start": 527813238126.478,
            "bin_end": 527813238126.578,
            "count": 0
           },
           {
            "bin_start": 527813238126.578,
            "bin_end": 527813238126.67804,
            "count": 0
           },
           {
            "bin_start": 527813238126.67804,
            "bin_end": 527813238126.778,
            "count": 0
           }
          ]
         }
        },
        {
         "name": "Real Interest Rate(%)",
         "dtype": "float64",
         "stats": {
          "unique_count": 1,
          "nan_count": 0,
          "min": "-5.740372067813599",
          "max": "-5.740372067813599",
          "histogram": [
           {
            "bin_start": -6.240372067813599,
            "bin_end": -6.140372067813599,
            "count": 0
           },
           {
            "bin_start": -6.140372067813599,
            "bin_end": -6.040372067813599,
            "count": 0
           },
           {
            "bin_start": -6.040372067813599,
            "bin_end": -5.940372067813599,
            "count": 0
           },
           {
            "bin_start": -5.940372067813599,
            "bin_end": -5.840372067813599,
            "count": 0
           },
           {
            "bin_start": -5.840372067813599,
            "bin_end": -5.740372067813599,
            "count": 0
           },
           {
            "bin_start": -5.740372067813599,
            "bin_end": -5.640372067813599,
            "count": 5
           },
           {
            "bin_start": -5.640372067813599,
            "bin_end": -5.540372067813599,
            "count": 0
           },
           {
            "bin_start": -5.540372067813599,
            "bin_end": -5.440372067813599,
            "count": 0
           },
           {
            "bin_start": -5.440372067813599,
            "bin_end": -5.340372067813599,
            "count": 0
           },
           {
            "bin_start": -5.340372067813599,
            "bin_end": -5.240372067813599,
            "count": 0
           }
          ]
         }
        },
        {
         "name": "Foreign Exchange Reserves(%)",
         "dtype": "float64",
         "stats": {
          "unique_count": 1,
          "nan_count": 0,
          "min": "4.872935754947198",
          "max": "4.872935754947198",
          "histogram": [
           {
            "bin_start": 4.372935754947198,
            "bin_end": 4.472935754947198,
            "count": 0
           },
           {
            "bin_start": 4.472935754947198,
            "bin_end": 4.572935754947198,
            "count": 0
           },
           {
            "bin_start": 4.572935754947198,
            "bin_end": 4.672935754947198,
            "count": 0
           },
           {
            "bin_start": 4.672935754947198,
            "bin_end": 4.7729357549471985,
            "count": 0
           },
           {
            "bin_start": 4.7729357549471985,
            "bin_end": 4.872935754947198,
            "count": 0
           },
           {
            "bin_start": 4.872935754947198,
            "bin_end": 4.972935754947198,
            "count": 5
           },
           {
            "bin_start": 4.972935754947198,
            "bin_end": 5.072935754947198,
            "count": 0
           },
           {
            "bin_start": 5.072935754947198,
            "bin_end": 5.172935754947198,
            "count": 0
           },
           {
            "bin_start": 5.172935754947198,
            "bin_end": 5.2729357549471985,
            "count": 0
           },
           {
            "bin_start": 5.2729357549471985,
            "bin_end": 5.372935754947198,
            "count": 0
           }
          ]
         }
        },
        {
         "name": "M2 Multiplier Growth (%)",
         "dtype": "float64",
         "stats": {
          "unique_count": 1,
          "nan_count": 0,
          "min": "3.099459019055395",
          "max": "3.099459019055395",
          "histogram": [
           {
            "bin_start": 2.599459019055395,
            "bin_end": 2.699459019055395,
            "count": 0
           },
           {
            "bin_start": 2.699459019055395,
            "bin_end": 2.799459019055395,
            "count": 0
           },
           {
            "bin_start": 2.799459019055395,
            "bin_end": 2.899459019055395,
            "count": 0
           },
           {
            "bin_start": 2.899459019055395,
            "bin_end": 2.999459019055395,
            "count": 0
           },
           {
            "bin_start": 2.999459019055395,
            "bin_end": 3.099459019055395,
            "count": 0
           },
           {
            "bin_start": 3.099459019055395,
            "bin_end": 3.199459019055395,
            "count": 5
           },
           {
            "bin_start": 3.199459019055395,
            "bin_end": 3.299459019055395,
            "count": 0
           },
           {
            "bin_start": 3.299459019055395,
            "bin_end": 3.399459019055395,
            "count": 0
           },
           {
            "bin_start": 3.399459019055395,
            "bin_end": 3.499459019055395,
            "count": 0
           },
           {
            "bin_start": 3.499459019055395,
            "bin_end": 3.599459019055395,
            "count": 0
           }
          ]
         }
        },
        {
         "name": "M2/Reserves",
         "dtype": "float64",
         "stats": {
          "unique_count": 1,
          "nan_count": 0,
          "min": "4.2846173914060595",
          "max": "4.2846173914060595",
          "histogram": [
           {
            "bin_start": 3.7846173914060595,
            "bin_end": 3.8846173914060596,
            "count": 0
           },
           {
            "bin_start": 3.8846173914060596,
            "bin_end": 3.9846173914060596,
            "count": 0
           },
           {
            "bin_start": 3.9846173914060596,
            "bin_end": 4.084617391406059,
            "count": 0
           },
           {
            "bin_start": 4.084617391406059,
            "bin_end": 4.18461739140606,
            "count": 0
           },
           {
            "bin_start": 4.18461739140606,
            "bin_end": 4.2846173914060595,
            "count": 0
           },
           {
            "bin_start": 4.2846173914060595,
            "bin_end": 4.38461739140606,
            "count": 5
           },
           {
            "bin_start": 4.38461739140606,
            "bin_end": 4.48461739140606,
            "count": 0
           },
           {
            "bin_start": 4.48461739140606,
            "bin_end": 4.584617391406059,
            "count": 0
           },
           {
            "bin_start": 4.584617391406059,
            "bin_end": 4.68461739140606,
            "count": 0
           },
           {
            "bin_start": 4.68461739140606,
            "bin_end": 4.7846173914060595,
            "count": 0
           }
          ]
         }
        },
        {
         "name": "REED 12mth std dev",
         "dtype": "float64",
         "stats": {
          "unique_count": 1,
          "nan_count": 0,
          "min": "2.922833646254952",
          "max": "2.922833646254952",
          "histogram": [
           {
            "bin_start": 2.422833646254952,
            "bin_end": 2.522833646254952,
            "count": 0
           },
           {
            "bin_start": 2.522833646254952,
            "bin_end": 2.622833646254952,
            "count": 0
           },
           {
            "bin_start": 2.622833646254952,
            "bin_end": 2.7228336462549523,
            "count": 0
           },
           {
            "bin_start": 2.7228336462549523,
            "bin_end": 2.822833646254952,
            "count": 0
           },
           {
            "bin_start": 2.822833646254952,
            "bin_end": 2.922833646254952,
            "count": 0
           },
           {
            "bin_start": 2.922833646254952,
            "bin_end": 3.022833646254952,
            "count": 5
           },
           {
            "bin_start": 3.022833646254952,
            "bin_end": 3.122833646254952,
            "count": 0
           },
           {
            "bin_start": 3.122833646254952,
            "bin_end": 3.2228336462549523,
            "count": 0
           },
           {
            "bin_start": 3.2228336462549523,
            "bin_end": 3.322833646254952,
            "count": 0
           },
           {
            "bin_start": 3.322833646254952,
            "bin_end": 3.422833646254952,
            "count": 0
           }
          ]
         }
        },
        {
         "name": "Domestic Credit to GDP",
         "dtype": "float64",
         "stats": {
          "unique_count": 1,
          "nan_count": 0,
          "min": "0.32297840068286976",
          "max": "0.32297840068286976",
          "histogram": [
           {
            "bin_start": -0.17702159931713024,
            "bin_end": -0.07702159931713023,
            "count": 0
           },
           {
            "bin_start": -0.07702159931713023,
            "bin_end": 0.02297840068286977,
            "count": 0
           },
           {
            "bin_start": 0.02297840068286977,
            "bin_end": 0.1229784006828698,
            "count": 0
           },
           {
            "bin_start": 0.1229784006828698,
            "bin_end": 0.22297840068286978,
            "count": 0
           },
           {
            "bin_start": 0.22297840068286978,
            "bin_end": 0.32297840068286976,
            "count": 0
           },
           {
            "bin_start": 0.32297840068286976,
            "bin_end": 0.42297840068286985,
            "count": 5
           },
           {
            "bin_start": 0.42297840068286985,
            "bin_end": 0.5229784006828698,
            "count": 0
           },
           {
            "bin_start": 0.5229784006828698,
            "bin_end": 0.6229784006828698,
            "count": 0
           },
           {
            "bin_start": 0.6229784006828698,
            "bin_end": 0.7229784006828698,
            "count": 0
           },
           {
            "bin_start": 0.7229784006828698,
            "bin_end": 0.8229784006828698,
            "count": 0
           }
          ]
         }
        },
        {
         "name": "Trade Openness",
         "dtype": "float64",
         "stats": {
          "unique_count": 1,
          "nan_count": 0,
          "min": "0.02263266177712275",
          "max": "0.02263266177712275",
          "histogram": [
           {
            "bin_start": -0.47736733822287725,
            "bin_end": -0.37736733822287727,
            "count": 0
           },
           {
            "bin_start": -0.37736733822287727,
            "bin_end": -0.27736733822287724,
            "count": 0
           },
           {
            "bin_start": -0.27736733822287724,
            "bin_end": -0.1773673382228772,
            "count": 0
           },
           {
            "bin_start": -0.1773673382228772,
            "bin_end": -0.07736733822287722,
            "count": 0
           },
           {
            "bin_start": -0.07736733822287722,
            "bin_end": 0.022632661777122753,
            "count": 5
           },
           {
            "bin_start": 0.022632661777122753,
            "bin_end": 0.12263266177712284,
            "count": 0
           },
           {
            "bin_start": 0.12263266177712284,
            "bin_end": 0.22263266177712282,
            "count": 0
           },
           {
            "bin_start": 0.22263266177712282,
            "bin_end": 0.3226326617771228,
            "count": 0
           },
           {
            "bin_start": 0.3226326617771228,
            "bin_end": 0.4226326617771228,
            "count": 0
           },
           {
            "bin_start": 0.4226326617771228,
            "bin_end": 0.5226326617771228,
            "count": 0
           }
          ]
         }
        },
        {
         "name": "Portfolio Investments(USD)",
         "dtype": "float64",
         "stats": {
          "unique_count": 0,
          "nan_count": 5,
          "min": null,
          "max": null,
          "histogram": [
           {
            "bin_start": 0,
            "bin_end": 0.1,
            "count": 0
           },
           {
            "bin_start": 0.1,
            "bin_end": 0.2,
            "count": 0
           },
           {
            "bin_start": 0.2,
            "bin_end": 0.30000000000000004,
            "count": 0
           },
           {
            "bin_start": 0.30000000000000004,
            "bin_end": 0.4,
            "count": 0
           },
           {
            "bin_start": 0.4,
            "bin_end": 0.5,
            "count": 0
           },
           {
            "bin_start": 0.5,
            "bin_end": 0.6000000000000001,
            "count": 0
           },
           {
            "bin_start": 0.6000000000000001,
            "bin_end": 0.7000000000000001,
            "count": 0
           },
           {
            "bin_start": 0.7000000000000001,
            "bin_end": 0.8,
            "count": 0
           },
           {
            "bin_start": 0.8,
            "bin_end": 0.9,
            "count": 0
           },
           {
            "bin_start": 0.9,
            "bin_end": 1,
            "count": 0
           }
          ]
         }
        },
        {
         "name": "Umemployment rate(%)",
         "dtype": "float64",
         "stats": {
          "unique_count": 0,
          "nan_count": 5,
          "min": null,
          "max": null,
          "histogram": [
           {
            "bin_start": 0,
            "bin_end": 0.1,
            "count": 0
           },
           {
            "bin_start": 0.1,
            "bin_end": 0.2,
            "count": 0
           },
           {
            "bin_start": 0.2,
            "bin_end": 0.30000000000000004,
            "count": 0
           },
           {
            "bin_start": 0.30000000000000004,
            "bin_end": 0.4,
            "count": 0
           },
           {
            "bin_start": 0.4,
            "bin_end": 0.5,
            "count": 0
           },
           {
            "bin_start": 0.5,
            "bin_end": 0.6000000000000001,
            "count": 0
           },
           {
            "bin_start": 0.6000000000000001,
            "bin_end": 0.7000000000000001,
            "count": 0
           },
           {
            "bin_start": 0.7000000000000001,
            "bin_end": 0.8,
            "count": 0
           },
           {
            "bin_start": 0.8,
            "bin_end": 0.9,
            "count": 0
           },
           {
            "bin_start": 0.9,
            "bin_end": 1,
            "count": 0
           }
          ]
         }
        },
        {
         "name": "Current Account(%GDP)",
         "dtype": "float64",
         "stats": {
          "unique_count": 1,
          "nan_count": 0,
          "min": "-1.2848294643147133",
          "max": "-1.2848294643147133",
          "histogram": [
           {
            "bin_start": -1.7848294643147133,
            "bin_end": -1.6848294643147133,
            "count": 0
           },
           {
            "bin_start": -1.6848294643147133,
            "bin_end": -1.5848294643147134,
            "count": 0
           },
           {
            "bin_start": -1.5848294643147134,
            "bin_end": -1.4848294643147133,
            "count": 0
           },
           {
            "bin_start": -1.4848294643147133,
            "bin_end": -1.3848294643147132,
            "count": 0
           },
           {
            "bin_start": -1.3848294643147132,
            "bin_end": -1.2848294643147133,
            "count": 0
           },
           {
            "bin_start": -1.2848294643147133,
            "bin_end": -1.1848294643147133,
            "count": 5
           },
           {
            "bin_start": -1.1848294643147133,
            "bin_end": -1.0848294643147134,
            "count": 0
           },
           {
            "bin_start": -1.0848294643147134,
            "bin_end": -0.9848294643147133,
            "count": 0
           },
           {
            "bin_start": -0.9848294643147133,
            "bin_end": -0.8848294643147133,
            "count": 0
           },
           {
            "bin_start": -0.8848294643147133,
            "bin_end": -0.7848294643147133,
            "count": 0
           }
          ]
         }
        },
        {
         "name": "FDI(%GDP)",
         "dtype": "float64",
         "stats": {
          "unique_count": 1,
          "nan_count": 0,
          "min": "0.597180929222145",
          "max": "0.597180929222145",
          "histogram": [
           {
            "bin_start": 0.09718092922214505,
            "bin_end": 0.19718092922214506,
            "count": 0
           },
           {
            "bin_start": 0.19718092922214506,
            "bin_end": 0.29718092922214506,
            "count": 0
           },
           {
            "bin_start": 0.29718092922214506,
            "bin_end": 0.3971809292221451,
            "count": 0
           },
           {
            "bin_start": 0.3971809292221451,
            "bin_end": 0.4971809292221451,
            "count": 0
           },
           {
            "bin_start": 0.4971809292221451,
            "bin_end": 0.597180929222145,
            "count": 0
           },
           {
            "bin_start": 0.597180929222145,
            "bin_end": 0.6971809292221451,
            "count": 5
           },
           {
            "bin_start": 0.6971809292221451,
            "bin_end": 0.7971809292221451,
            "count": 0
           },
           {
            "bin_start": 0.7971809292221451,
            "bin_end": 0.8971809292221451,
            "count": 0
           },
           {
            "bin_start": 0.8971809292221451,
            "bin_end": 0.9971809292221451,
            "count": 0
           },
           {
            "bin_start": 0.9971809292221451,
            "bin_end": 1.097180929222145,
            "count": 0
           }
          ]
         }
        },
        {
         "name": "Total Debt(USD)",
         "dtype": "float64",
         "stats": {
          "unique_count": 0,
          "nan_count": 5,
          "min": null,
          "max": null,
          "histogram": [
           {
            "bin_start": 0,
            "bin_end": 0.1,
            "count": 0
           },
           {
            "bin_start": 0.1,
            "bin_end": 0.2,
            "count": 0
           },
           {
            "bin_start": 0.2,
            "bin_end": 0.30000000000000004,
            "count": 0
           },
           {
            "bin_start": 0.30000000000000004,
            "bin_end": 0.4,
            "count": 0
           },
           {
            "bin_start": 0.4,
            "bin_end": 0.5,
            "count": 0
           },
           {
            "bin_start": 0.5,
            "bin_end": 0.6000000000000001,
            "count": 0
           },
           {
            "bin_start": 0.6000000000000001,
            "bin_end": 0.7000000000000001,
            "count": 0
           },
           {
            "bin_start": 0.7000000000000001,
            "bin_end": 0.8,
            "count": 0
           },
           {
            "bin_start": 0.8,
            "bin_end": 0.9,
            "count": 0
           },
           {
            "bin_start": 0.9,
            "bin_end": 1,
            "count": 0
           }
          ]
         }
        },
        {
         "name": "Short Term Debt(USD)",
         "dtype": "float64",
         "stats": {
          "unique_count": 0,
          "nan_count": 5,
          "min": null,
          "max": null,
          "histogram": [
           {
            "bin_start": 0,
            "bin_end": 0.1,
            "count": 0
           },
           {
            "bin_start": 0.1,
            "bin_end": 0.2,
            "count": 0
           },
           {
            "bin_start": 0.2,
            "bin_end": 0.30000000000000004,
            "count": 0
           },
           {
            "bin_start": 0.30000000000000004,
            "bin_end": 0.4,
            "count": 0
           },
           {
            "bin_start": 0.4,
            "bin_end": 0.5,
            "count": 0
           },
           {
            "bin_start": 0.5,
            "bin_end": 0.6000000000000001,
            "count": 0
           },
           {
            "bin_start": 0.6000000000000001,
            "bin_end": 0.7000000000000001,
            "count": 0
           },
           {
            "bin_start": 0.7000000000000001,
            "bin_end": 0.8,
            "count": 0
           },
           {
            "bin_start": 0.8,
            "bin_end": 0.9,
            "count": 0
           },
           {
            "bin_start": 0.9,
            "bin_end": 1,
            "count": 0
           }
          ]
         }
        },
        {
         "name": "Capital Formations(USD)",
         "dtype": "float64",
         "stats": {
          "unique_count": 1,
          "nan_count": 0,
          "min": "114393972623.033",
          "max": "114393972623.033",
          "histogram": [
           {
            "bin_start": 114393972622.533,
            "bin_end": 114393972622.63301,
            "count": 0
           },
           {
            "bin_start": 114393972622.63301,
            "bin_end": 114393972622.733,
            "count": 0
           },
           {
            "bin_start": 114393972622.733,
            "bin_end": 114393972622.83301,
            "count": 0
           },
           {
            "bin_start": 114393972622.83301,
            "bin_end": 114393972622.933,
            "count": 0
           },
           {
            "bin_start": 114393972622.933,
            "bin_end": 114393972623.033,
            "count": 0
           },
           {
            "bin_start": 114393972623.033,
            "bin_end": 114393972623.13301,
            "count": 5
           },
           {
            "bin_start": 114393972623.13301,
            "bin_end": 114393972623.233,
            "count": 0
           },
           {
            "bin_start": 114393972623.233,
            "bin_end": 114393972623.33301,
            "count": 0
           },
           {
            "bin_start": 114393972623.33301,
            "bin_end": 114393972623.433,
            "count": 0
           },
           {
            "bin_start": 114393972623.433,
            "bin_end": 114393972623.533,
            "count": 0
           }
          ]
         }
        },
        {
         "name": "Gov Consumption Expendature (%GDP)",
         "dtype": "float64",
         "stats": {
          "unique_count": 1,
          "nan_count": 0,
          "min": "9.46682590944767",
          "max": "9.46682590944767",
          "histogram": [
           {
            "bin_start": 8.96682590944767,
            "bin_end": 9.066825909447669,
            "count": 0
           },
           {
            "bin_start": 9.066825909447669,
            "bin_end": 9.166825909447669,
            "count": 0
           },
           {
            "bin_start": 9.166825909447669,
            "bin_end": 9.26682590944767,
            "count": 0
           },
           {
            "bin_start": 9.26682590944767,
            "bin_end": 9.36682590944767,
            "count": 0
           },
           {
            "bin_start": 9.36682590944767,
            "bin_end": 9.46682590944767,
            "count": 0
           },
           {
            "bin_start": 9.46682590944767,
            "bin_end": 9.566825909447669,
            "count": 5
           },
           {
            "bin_start": 9.566825909447669,
            "bin_end": 9.666825909447669,
            "count": 0
           },
           {
            "bin_start": 9.666825909447669,
            "bin_end": 9.76682590944767,
            "count": 0
           },
           {
            "bin_start": 9.76682590944767,
            "bin_end": 9.86682590944767,
            "count": 0
           },
           {
            "bin_start": 9.86682590944767,
            "bin_end": 9.96682590944767,
            "count": 0
           }
          ]
         }
        },
        {
         "name": "GDP % Growth",
         "dtype": "float64",
         "stats": {
          "unique_count": 1,
          "nan_count": 0,
          "min": "5.407473992951428",
          "max": "5.407473992951428",
          "histogram": [
           {
            "bin_start": 4.907473992951428,
            "bin_end": 5.007473992951428,
            "count": 0
           },
           {
            "bin_start": 5.007473992951428,
            "bin_end": 5.107473992951428,
            "count": 0
           },
           {
            "bin_start": 5.107473992951428,
            "bin_end": 5.207473992951428,
            "count": 0
           },
           {
            "bin_start": 5.207473992951428,
            "bin_end": 5.3074739929514285,
            "count": 0
           },
           {
            "bin_start": 5.3074739929514285,
            "bin_end": 5.407473992951428,
            "count": 0
           },
           {
            "bin_start": 5.407473992951428,
            "bin_end": 5.507473992951429,
            "count": 5
           },
           {
            "bin_start": 5.507473992951429,
            "bin_end": 5.607473992951428,
            "count": 0
           },
           {
            "bin_start": 5.607473992951428,
            "bin_end": 5.707473992951428,
            "count": 0
           },
           {
            "bin_start": 5.707473992951428,
            "bin_end": 5.8074739929514285,
            "count": 0
           },
           {
            "bin_start": 5.8074739929514285,
            "bin_end": 5.907473992951428,
            "count": 0
           }
          ]
         }
        },
        {
         "name": "MXN_30_ave",
         "dtype": "float64",
         "stats": {
          "unique_count": 5,
          "nan_count": 0,
          "min": "3.210476666666668",
          "max": "3.2432633333333345",
          "histogram": [
           {
            "bin_start": 3.210476666666668,
            "bin_end": 3.2137553333333346,
            "count": 1
           },
           {
            "bin_start": 3.2137553333333346,
            "bin_end": 3.2170340000000013,
            "count": 0
           },
           {
            "bin_start": 3.2170340000000013,
            "bin_end": 3.220312666666668,
            "count": 1
           },
           {
            "bin_start": 3.220312666666668,
            "bin_end": 3.2235913333333346,
            "count": 0
           },
           {
            "bin_start": 3.2235913333333346,
            "bin_end": 3.2268700000000012,
            "count": 1
           },
           {
            "bin_start": 3.2268700000000012,
            "bin_end": 3.230148666666668,
            "count": 0
           },
           {
            "bin_start": 3.230148666666668,
            "bin_end": 3.2334273333333345,
            "count": 0
           },
           {
            "bin_start": 3.2334273333333345,
            "bin_end": 3.236706000000001,
            "count": 1
           },
           {
            "bin_start": 3.236706000000001,
            "bin_end": 3.239984666666668,
            "count": 0
           },
           {
            "bin_start": 3.239984666666668,
            "bin_end": 3.2432633333333345,
            "count": 1
           }
          ]
         }
        },
        {
         "name": "MXN_60_ave",
         "dtype": "float64",
         "stats": {
          "unique_count": 5,
          "nan_count": 0,
          "min": "3.158836666666663",
          "max": "3.1751516666666633",
          "histogram": [
           {
            "bin_start": 3.158836666666663,
            "bin_end": 3.1604681666666634,
            "count": 1
           },
           {
            "bin_start": 3.1604681666666634,
            "bin_end": 3.162099666666663,
            "count": 0
           },
           {
            "bin_start": 3.162099666666663,
            "bin_end": 3.163731166666663,
            "count": 1
           },
           {
            "bin_start": 3.163731166666663,
            "bin_end": 3.165362666666663,
            "count": 0
           },
           {
            "bin_start": 3.165362666666663,
            "bin_end": 3.1669941666666634,
            "count": 1
           },
           {
            "bin_start": 3.1669941666666634,
            "bin_end": 3.1686256666666632,
            "count": 0
           },
           {
            "bin_start": 3.1686256666666632,
            "bin_end": 3.170257166666663,
            "count": 0
           },
           {
            "bin_start": 3.170257166666663,
            "bin_end": 3.1718886666666632,
            "count": 1
           },
           {
            "bin_start": 3.1718886666666632,
            "bin_end": 3.1735201666666635,
            "count": 0
           },
           {
            "bin_start": 3.1735201666666635,
            "bin_end": 3.1751516666666633,
            "count": 1
           }
          ]
         }
        },
        {
         "name": "MXN_90_ave",
         "dtype": "float64",
         "stats": {
          "unique_count": 5,
          "nan_count": 0,
          "min": "3.1480599999999987",
          "max": "3.153992222222221",
          "histogram": [
           {
            "bin_start": 3.1480599999999987,
            "bin_end": 3.148653222222221,
            "count": 1
           },
           {
            "bin_start": 3.148653222222221,
            "bin_end": 3.1492464444444432,
            "count": 0
           },
           {
            "bin_start": 3.1492464444444432,
            "bin_end": 3.1498396666666655,
            "count": 0
           },
           {
            "bin_start": 3.1498396666666655,
            "bin_end": 3.1504328888888877,
            "count": 1
           },
           {
            "bin_start": 3.1504328888888877,
            "bin_end": 3.15102611111111,
            "count": 0
           },
           {
            "bin_start": 3.15102611111111,
            "bin_end": 3.151619333333332,
            "count": 1
           },
           {
            "bin_start": 3.151619333333332,
            "bin_end": 3.1522125555555545,
            "count": 0
           },
           {
            "bin_start": 3.1522125555555545,
            "bin_end": 3.1528057777777767,
            "count": 1
           },
           {
            "bin_start": 3.1528057777777767,
            "bin_end": 3.153398999999999,
            "count": 0
           },
           {
            "bin_start": 3.153398999999999,
            "bin_end": 3.153992222222221,
            "count": 1
           }
          ]
         }
        },
        {
         "name": "_deepnote_index_column",
         "dtype": "datetime64[ns]"
        }
       ],
       "rows_top": [
        {
         "MXN": 3.33,
         "Yr": 1994,
         "DoM": 22,
         "MoY": 3,
         "sin_DoY": 0.9813064702716093,
         "cos_DoY": 0.19245158197082998,
         "Ave Monthly USD FX Rate": 3.2841,
         "Inflation (CPI) %": 19.2003720678136,
         "Deposit Interest Rate %": 10.16,
         "Lending Interest Rate %": 13.46,
         "Exports(USD)": 5155500000,
         "Imports (USD)": 6790318500,
         "NY.GDP.MKTP.CD": 527813238126.278,
         "Real Interest Rate(%)": -5.740372067813599,
         "Foreign Exchange Reserves(%)": 4.872935754947198,
         "M2 Multiplier Growth (%)": 3.099459019055395,
         "M2/Reserves": 4.2846173914060595,
         "REED 12mth std dev": 2.922833646254952,
         "Domestic Credit to GDP": 0.32297840068286976,
         "Trade Openness": 0.02263266177712275,
         "Portfolio Investments(USD)": "nan",
         "Umemployment rate(%)": "nan",
         "Current Account(%GDP)": -1.2848294643147133,
         "FDI(%GDP)": 0.597180929222145,
         "Total Debt(USD)": "nan",
         "Short Term Debt(USD)": "nan",
         "Capital Formations(USD)": 114393972623.033,
         "Gov Consumption Expendature (%GDP)": 9.46682590944767,
         "GDP % Growth": 5.407473992951428,
         "MXN_30_ave": 3.210476666666668,
         "MXN_60_ave": 3.158836666666663,
         "MXN_90_ave": 3.1480599999999987,
         "_deepnote_index_column": "1994-03-22T00:00:00.000000"
        },
        {
         "MXN": 3.3375,
         "Yr": 1994,
         "DoM": 23,
         "MoY": 3,
         "sin_DoY": 0.9844738167520922,
         "cos_DoY": 0.1755314904214282,
         "Ave Monthly USD FX Rate": 3.2841,
         "Inflation (CPI) %": 19.2003720678136,
         "Deposit Interest Rate %": 10.16,
         "Lending Interest Rate %": 13.46,
         "Exports(USD)": 5155500000,
         "Imports (USD)": 6790318500,
         "NY.GDP.MKTP.CD": 527813238126.278,
         "Real Interest Rate(%)": -5.740372067813599,
         "Foreign Exchange Reserves(%)": 4.872935754947198,
         "M2 Multiplier Growth (%)": 3.099459019055395,
         "M2/Reserves": 4.2846173914060595,
         "REED 12mth std dev": 2.922833646254952,
         "Domestic Credit to GDP": 0.32297840068286976,
         "Trade Openness": 0.02263266177712275,
         "Portfolio Investments(USD)": "nan",
         "Umemployment rate(%)": "nan",
         "Current Account(%GDP)": -1.2848294643147133,
         "FDI(%GDP)": 0.597180929222145,
         "Total Debt(USD)": "nan",
         "Short Term Debt(USD)": "nan",
         "Capital Formations(USD)": 114393972623.033,
         "Gov Consumption Expendature (%GDP)": 9.46682590944767,
         "GDP % Growth": 5.407473992951428,
         "MXN_30_ave": 3.2182166666666685,
         "MXN_60_ave": 3.1627116666666635,
         "MXN_90_ave": 3.1501211111111096,
         "_deepnote_index_column": "1994-03-23T00:00:00.000000"
        },
        {
         "MXN": 3.3586,
         "Yr": 1994,
         "DoM": 25,
         "MoY": 3,
         "sin_DoY": 0.989932495087353,
         "cos_DoY": 0.141540295217043,
         "Ave Monthly USD FX Rate": 3.2841,
         "Inflation (CPI) %": 19.2003720678136,
         "Deposit Interest Rate %": 10.16,
         "Lending Interest Rate %": 13.46,
         "Exports(USD)": 5155500000,
         "Imports (USD)": 6790318500,
         "NY.GDP.MKTP.CD": 527813238126.278,
         "Real Interest Rate(%)": -5.740372067813599,
         "Foreign Exchange Reserves(%)": 4.872935754947198,
         "M2 Multiplier Growth (%)": 3.099459019055395,
         "M2/Reserves": 4.2846173914060595,
         "REED 12mth std dev": 2.922833646254952,
         "Domestic Credit to GDP": 0.32297840068286976,
         "Trade Openness": 0.02263266177712275,
         "Portfolio Investments(USD)": "nan",
         "Umemployment rate(%)": "nan",
         "Current Account(%GDP)": -1.2848294643147133,
         "FDI(%GDP)": 0.597180929222145,
         "Total Debt(USD)": "nan",
         "Short Term Debt(USD)": "nan",
         "Capital Formations(USD)": 114393972623.033,
         "Gov Consumption Expendature (%GDP)": 9.46682590944767,
         "GDP % Growth": 5.407473992951428,
         "MXN_30_ave": 3.2266366666666686,
         "MXN_60_ave": 3.166921666666663,
         "MXN_90_ave": 3.1514388888888876,
         "_deepnote_index_column": "1994-03-25T00:00:00.000000"
        },
        {
         "MXN": 3.3598,
         "Yr": 1994,
         "DoM": 28,
         "MoY": 3,
         "sin_DoY": 0.995918996147179,
         "cos_DoY": 0.09025161003104117,
         "Ave Monthly USD FX Rate": 3.2841,
         "Inflation (CPI) %": 19.2003720678136,
         "Deposit Interest Rate %": 10.16,
         "Lending Interest Rate %": 13.46,
         "Exports(USD)": 5155500000,
         "Imports (USD)": 6790318500,
         "NY.GDP.MKTP.CD": 527813238126.278,
         "Real Interest Rate(%)": -5.740372067813599,
         "Foreign Exchange Reserves(%)": 4.872935754947198,
         "M2 Multiplier Growth (%)": 3.099459019055395,
         "M2/Reserves": 4.2846173914060595,
         "REED 12mth std dev": 2.922833646254952,
         "Domestic Credit to GDP": 0.32297840068286976,
         "Trade Openness": 0.02263266177712275,
         "Portfolio Investments(USD)": "nan",
         "Umemployment rate(%)": "nan",
         "Current Account(%GDP)": -1.2848294643147133,
         "FDI(%GDP)": 0.597180929222145,
         "Total Debt(USD)": "nan",
         "Short Term Debt(USD)": "nan",
         "Capital Formations(USD)": 114393972623.033,
         "Gov Consumption Expendature (%GDP)": 9.46682590944767,
         "GDP % Growth": 5.407473992951428,
         "MXN_30_ave": 3.235130000000001,
         "MXN_60_ave": 3.1711516666666637,
         "MXN_90_ave": 3.152769999999999,
         "_deepnote_index_column": "1994-03-28T00:00:00.000000"
        },
        {
         "MXN": 3.35,
         "Yr": 1994,
         "DoM": 29,
         "MoY": 3,
         "sin_DoY": 0.9973249731081555,
         "cos_DoY": 0.07309512989807777,
         "Ave Monthly USD FX Rate": 3.2841,
         "Inflation (CPI) %": 19.2003720678136,
         "Deposit Interest Rate %": 10.16,
         "Lending Interest Rate %": 13.46,
         "Exports(USD)": 5155500000,
         "Imports (USD)": 6790318500,
         "NY.GDP.MKTP.CD": 527813238126.278,
         "Real Interest Rate(%)": -5.740372067813599,
         "Foreign Exchange Reserves(%)": 4.872935754947198,
         "M2 Multiplier Growth (%)": 3.099459019055395,
         "M2/Reserves": 4.2846173914060595,
         "REED 12mth std dev": 2.922833646254952,
         "Domestic Credit to GDP": 0.32297840068286976,
         "Trade Openness": 0.02263266177712275,
         "Portfolio Investments(USD)": "nan",
         "Umemployment rate(%)": "nan",
         "Current Account(%GDP)": -1.2848294643147133,
         "FDI(%GDP)": 0.597180929222145,
         "Total Debt(USD)": "nan",
         "Short Term Debt(USD)": "nan",
         "Capital Formations(USD)": 114393972623.033,
         "Gov Consumption Expendature (%GDP)": 9.46682590944767,
         "GDP % Growth": 5.407473992951428,
         "MXN_30_ave": 3.2432633333333345,
         "MXN_60_ave": 3.1751516666666633,
         "MXN_90_ave": 3.153992222222221,
         "_deepnote_index_column": "1994-03-29T00:00:00.000000"
        }
       ],
       "rows_bottom": null
      },
      "text/plain": "               MXN    Yr  DoM  MoY   sin_DoY   cos_DoY  \\\nDate                                                     \n1994-03-22  3.3300  1994   22    3  0.981306  0.192452   \n1994-03-23  3.3375  1994   23    3  0.984474  0.175531   \n1994-03-25  3.3586  1994   25    3  0.989932  0.141540   \n1994-03-28  3.3598  1994   28    3  0.995919  0.090252   \n1994-03-29  3.3500  1994   29    3  0.997325  0.073095   \n\n            Ave Monthly USD FX Rate  Inflation (CPI) %  \\\nDate                                                     \n1994-03-22                   3.2841          19.200372   \n1994-03-23                   3.2841          19.200372   \n1994-03-25                   3.2841          19.200372   \n1994-03-28                   3.2841          19.200372   \n1994-03-29                   3.2841          19.200372   \n\n            Deposit Interest Rate %  Lending Interest Rate %  ...  \\\nDate                                                          ...   \n1994-03-22                    10.16                    13.46  ...   \n1994-03-23                    10.16                    13.46  ...   \n1994-03-25                    10.16                    13.46  ...   \n1994-03-28                    10.16                    13.46  ...   \n1994-03-29                    10.16                    13.46  ...   \n\n            Current Account(%GDP)  FDI(%GDP)  Total Debt(USD)  \\\nDate                                                            \n1994-03-22              -1.284829   0.597181              NaN   \n1994-03-23              -1.284829   0.597181              NaN   \n1994-03-25              -1.284829   0.597181              NaN   \n1994-03-28              -1.284829   0.597181              NaN   \n1994-03-29              -1.284829   0.597181              NaN   \n\n            Short Term Debt(USD)  Capital Formations(USD)  \\\nDate                                                        \n1994-03-22                   NaN             1.143940e+11   \n1994-03-23                   NaN             1.143940e+11   \n1994-03-25                   NaN             1.143940e+11   \n1994-03-28                   NaN             1.143940e+11   \n1994-03-29                   NaN             1.143940e+11   \n\n            Gov Consumption Expendature (%GDP)  GDP % Growth  MXN_30_ave  \\\nDate                                                                       \n1994-03-22                            9.466826      5.407474    3.210477   \n1994-03-23                            9.466826      5.407474    3.218217   \n1994-03-25                            9.466826      5.407474    3.226637   \n1994-03-28                            9.466826      5.407474    3.235130   \n1994-03-29                            9.466826      5.407474    3.243263   \n\n            MXN_60_ave  MXN_90_ave  \nDate                                \n1994-03-22    3.158837    3.148060  \n1994-03-23    3.162712    3.150121  \n1994-03-25    3.166922    3.151439  \n1994-03-28    3.171152    3.152770  \n1994-03-29    3.175152    3.153992  \n\n[5 rows x 32 columns]",
      "text/html": "<div>\n<style scoped>\n    .dataframe tbody tr th:only-of-type {\n        vertical-align: middle;\n    }\n\n    .dataframe tbody tr th {\n        vertical-align: top;\n    }\n\n    .dataframe thead th {\n        text-align: right;\n    }\n</style>\n<table border=\"1\" class=\"dataframe\">\n  <thead>\n    <tr style=\"text-align: right;\">\n      <th></th>\n      <th>MXN</th>\n      <th>Yr</th>\n      <th>DoM</th>\n      <th>MoY</th>\n      <th>sin_DoY</th>\n      <th>cos_DoY</th>\n      <th>Ave Monthly USD FX Rate</th>\n      <th>Inflation (CPI) %</th>\n      <th>Deposit Interest Rate %</th>\n      <th>Lending Interest Rate %</th>\n      <th>...</th>\n      <th>Current Account(%GDP)</th>\n      <th>FDI(%GDP)</th>\n      <th>Total Debt(USD)</th>\n      <th>Short Term Debt(USD)</th>\n      <th>Capital Formations(USD)</th>\n      <th>Gov Consumption Expendature (%GDP)</th>\n      <th>GDP % Growth</th>\n      <th>MXN_30_ave</th>\n      <th>MXN_60_ave</th>\n      <th>MXN_90_ave</th>\n    </tr>\n    <tr>\n      <th>Date</th>\n      <th></th>\n      <th></th>\n      <th></th>\n      <th></th>\n      <th></th>\n      <th></th>\n      <th></th>\n      <th></th>\n      <th></th>\n      <th></th>\n      <th></th>\n      <th></th>\n      <th></th>\n      <th></th>\n      <th></th>\n      <th></th>\n      <th></th>\n      <th></th>\n      <th></th>\n      <th></th>\n      <th></th>\n    </tr>\n  </thead>\n  <tbody>\n    <tr>\n      <th>1994-03-22</th>\n      <td>3.3300</td>\n      <td>1994</td>\n      <td>22</td>\n      <td>3</td>\n      <td>0.981306</td>\n      <td>0.192452</td>\n      <td>3.2841</td>\n      <td>19.200372</td>\n      <td>10.16</td>\n      <td>13.46</td>\n      <td>...</td>\n      <td>-1.284829</td>\n      <td>0.597181</td>\n      <td>NaN</td>\n      <td>NaN</td>\n      <td>1.143940e+11</td>\n      <td>9.466826</td>\n      <td>5.407474</td>\n      <td>3.210477</td>\n      <td>3.158837</td>\n      <td>3.148060</td>\n    </tr>\n    <tr>\n      <th>1994-03-23</th>\n      <td>3.3375</td>\n      <td>1994</td>\n      <td>23</td>\n      <td>3</td>\n      <td>0.984474</td>\n      <td>0.175531</td>\n      <td>3.2841</td>\n      <td>19.200372</td>\n      <td>10.16</td>\n      <td>13.46</td>\n      <td>...</td>\n      <td>-1.284829</td>\n      <td>0.597181</td>\n      <td>NaN</td>\n      <td>NaN</td>\n      <td>1.143940e+11</td>\n      <td>9.466826</td>\n      <td>5.407474</td>\n      <td>3.218217</td>\n      <td>3.162712</td>\n      <td>3.150121</td>\n    </tr>\n    <tr>\n      <th>1994-03-25</th>\n      <td>3.3586</td>\n      <td>1994</td>\n      <td>25</td>\n      <td>3</td>\n      <td>0.989932</td>\n      <td>0.141540</td>\n      <td>3.2841</td>\n      <td>19.200372</td>\n      <td>10.16</td>\n      <td>13.46</td>\n      <td>...</td>\n      <td>-1.284829</td>\n      <td>0.597181</td>\n      <td>NaN</td>\n      <td>NaN</td>\n      <td>1.143940e+11</td>\n      <td>9.466826</td>\n      <td>5.407474</td>\n      <td>3.226637</td>\n      <td>3.166922</td>\n      <td>3.151439</td>\n    </tr>\n    <tr>\n      <th>1994-03-28</th>\n      <td>3.3598</td>\n      <td>1994</td>\n      <td>28</td>\n      <td>3</td>\n      <td>0.995919</td>\n      <td>0.090252</td>\n      <td>3.2841</td>\n      <td>19.200372</td>\n      <td>10.16</td>\n      <td>13.46</td>\n      <td>...</td>\n      <td>-1.284829</td>\n      <td>0.597181</td>\n      <td>NaN</td>\n      <td>NaN</td>\n      <td>1.143940e+11</td>\n      <td>9.466826</td>\n      <td>5.407474</td>\n      <td>3.235130</td>\n      <td>3.171152</td>\n      <td>3.152770</td>\n    </tr>\n    <tr>\n      <th>1994-03-29</th>\n      <td>3.3500</td>\n      <td>1994</td>\n      <td>29</td>\n      <td>3</td>\n      <td>0.997325</td>\n      <td>0.073095</td>\n      <td>3.2841</td>\n      <td>19.200372</td>\n      <td>10.16</td>\n      <td>13.46</td>\n      <td>...</td>\n      <td>-1.284829</td>\n      <td>0.597181</td>\n      <td>NaN</td>\n      <td>NaN</td>\n      <td>1.143940e+11</td>\n      <td>9.466826</td>\n      <td>5.407474</td>\n      <td>3.243263</td>\n      <td>3.175152</td>\n      <td>3.153992</td>\n    </tr>\n  </tbody>\n</table>\n<p>5 rows × 32 columns</p>\n</div>"
     },
     "metadata": {}
    }
   ]
  },
  {
   "cell_type": "code",
   "metadata": {
    "cell_id": "00006-b058ec8b-20a3-45f4-9901-c12bcc8fc7ba",
    "deepnote_to_be_reexecuted": false,
    "source_hash": "d23c8a7d",
    "execution_start": 1628724658934,
    "execution_millis": 119,
    "deepnote_cell_type": "code"
   },
   "source": "#Description to know which columns to remove from dataframe\nDG.describe_MacEcon_TS(mex_full)",
   "execution_count": 7,
   "outputs": [
    {
     "output_type": "execute_result",
     "execution_count": 7,
     "data": {
      "application/vnd.deepnote.dataframe.v2+json": {
       "row_count": 32,
       "column_count": 4,
       "columns": [
        {
         "name": "Features",
         "dtype": "object",
         "stats": {
          "unique_count": 32,
          "nan_count": 0,
          "categories": [
           {
            "name": "MXN",
            "count": 1
           },
           {
            "name": "Yr",
            "count": 1
           },
           {
            "name": "30 others",
            "count": 30
           }
          ]
         }
        },
        {
         "name": "First Valid",
         "dtype": "datetime64[ns]",
         "stats": {
          "unique_count": 4,
          "nan_count": 0,
          "min": "1994-03-22 00:00:00",
          "max": "2009-01-02 00:00:00",
          "histogram": [
           {
            "bin_start": 764294400000000000,
            "bin_end": 810950400000000000,
            "count": 28
           },
           {
            "bin_start": 810950400000000000,
            "bin_end": 857606400000000000,
            "count": 0
           },
           {
            "bin_start": 857606400000000000,
            "bin_end": 904262400000000000,
            "count": 0
           },
           {
            "bin_start": 904262400000000000,
            "bin_end": 950918400000000000,
            "count": 0
           },
           {
            "bin_start": 950918400000000000,
            "bin_end": 997574400000000000,
            "count": 1
           },
           {
            "bin_start": 997574400000000000,
            "bin_end": 1044230400000000000,
            "count": 0
           },
           {
            "bin_start": 1044230400000000000,
            "bin_end": 1090886400000000000,
            "count": 0
           },
           {
            "bin_start": 1090886400000000000,
            "bin_end": 1137542400000000000,
            "count": 0
           },
           {
            "bin_start": 1137542400000000000,
            "bin_end": 1184198400000000000,
            "count": 0
           },
           {
            "bin_start": 1184198400000000000,
            "bin_end": 1230854400000000000,
            "count": 3
           }
          ]
         }
        },
        {
         "name": "Last Valid",
         "dtype": "datetime64[ns]",
         "stats": {
          "unique_count": 3,
          "nan_count": 0,
          "min": "2009-08-31 00:00:00",
          "max": "2020-11-30 00:00:00",
          "histogram": [
           {
            "bin_start": 1251676800000000000,
            "bin_end": 1287178560000000000,
            "count": 2
           },
           {
            "bin_start": 1287178560000000000,
            "bin_end": 1322680320000000000,
            "count": 0
           },
           {
            "bin_start": 1322680320000000000,
            "bin_end": 1358182080000000000,
            "count": 0
           },
           {
            "bin_start": 1358182080000000000,
            "bin_end": 1393683840000000000,
            "count": 0
           },
           {
            "bin_start": 1393683840000000000,
            "bin_end": 1429185600000000000,
            "count": 0
           },
           {
            "bin_start": 1429185600000000000,
            "bin_end": 1464687360000000000,
            "count": 0
           },
           {
            "bin_start": 1464687360000000000,
            "bin_end": 1500189120000000000,
            "count": 0
           },
           {
            "bin_start": 1500189120000000000,
            "bin_end": 1535690880000000000,
            "count": 0
           },
           {
            "bin_start": 1535690880000000000,
            "bin_end": 1571192640000000000,
            "count": 2
           },
           {
            "bin_start": 1571192640000000000,
            "bin_end": 1606694400000000000,
            "count": 28
           }
          ]
         }
        },
        {
         "name": "Null Values",
         "dtype": "int64",
         "stats": {
          "unique_count": 6,
          "nan_count": 0,
          "min": "0",
          "max": "3717",
          "histogram": [
           {
            "bin_start": 0,
            "bin_end": 371.7,
            "count": 24
           },
           {
            "bin_start": 371.7,
            "bin_end": 743.4,
            "count": 2
           },
           {
            "bin_start": 743.4,
            "bin_end": 1115.1,
            "count": 0
           },
           {
            "bin_start": 1115.1,
            "bin_end": 1486.8,
            "count": 0
           },
           {
            "bin_start": 1486.8,
            "bin_end": 1858.5,
            "count": 1
           },
           {
            "bin_start": 1858.5,
            "bin_end": 2230.2,
            "count": 0
           },
           {
            "bin_start": 2230.2,
            "bin_end": 2601.9,
            "count": 0
           },
           {
            "bin_start": 2601.9,
            "bin_end": 2973.6,
            "count": 2
           },
           {
            "bin_start": 2973.6,
            "bin_end": 3345.2999999999997,
            "count": 0
           },
           {
            "bin_start": 3345.2999999999997,
            "bin_end": 3717,
            "count": 3
           }
          ]
         }
        },
        {
         "name": "_deepnote_index_column",
         "dtype": "int64"
        }
       ],
       "rows_top": [
        {
         "Features": "MXN",
         "First Valid": "1994-03-22T00:00:00.000000",
         "Last Valid": "2020-11-30T00:00:00.000000",
         "Null Values": 0,
         "_deepnote_index_column": 0
        },
        {
         "Features": "Yr",
         "First Valid": "1994-03-22T00:00:00.000000",
         "Last Valid": "2020-11-30T00:00:00.000000",
         "Null Values": 0,
         "_deepnote_index_column": 1
        },
        {
         "Features": "DoM",
         "First Valid": "1994-03-22T00:00:00.000000",
         "Last Valid": "2020-11-30T00:00:00.000000",
         "Null Values": 0,
         "_deepnote_index_column": 2
        },
        {
         "Features": "MoY",
         "First Valid": "1994-03-22T00:00:00.000000",
         "Last Valid": "2020-11-30T00:00:00.000000",
         "Null Values": 0,
         "_deepnote_index_column": 3
        },
        {
         "Features": "sin_DoY",
         "First Valid": "1994-03-22T00:00:00.000000",
         "Last Valid": "2020-11-30T00:00:00.000000",
         "Null Values": 0,
         "_deepnote_index_column": 4
        },
        {
         "Features": "cos_DoY",
         "First Valid": "1994-03-22T00:00:00.000000",
         "Last Valid": "2020-11-30T00:00:00.000000",
         "Null Values": 0,
         "_deepnote_index_column": 5
        },
        {
         "Features": "Ave Monthly USD FX Rate",
         "First Valid": "1994-03-22T00:00:00.000000",
         "Last Valid": "2020-11-30T00:00:00.000000",
         "Null Values": 0,
         "_deepnote_index_column": 6
        },
        {
         "Features": "Inflation (CPI) %",
         "First Valid": "1994-03-22T00:00:00.000000",
         "Last Valid": "2020-11-30T00:00:00.000000",
         "Null Values": 0,
         "_deepnote_index_column": 7
        },
        {
         "Features": "Deposit Interest Rate %",
         "First Valid": "1994-03-22T00:00:00.000000",
         "Last Valid": "2020-11-30T00:00:00.000000",
         "Null Values": 0,
         "_deepnote_index_column": 8
        },
        {
         "Features": "Lending Interest Rate %",
         "First Valid": "1994-03-22T00:00:00.000000",
         "Last Valid": "2020-11-30T00:00:00.000000",
         "Null Values": 0,
         "_deepnote_index_column": 9
        },
        {
         "Features": "Exports(USD)",
         "First Valid": "1994-03-22T00:00:00.000000",
         "Last Valid": "2020-11-30T00:00:00.000000",
         "Null Values": 0,
         "_deepnote_index_column": 10
        },
        {
         "Features": "Imports (USD)",
         "First Valid": "1994-03-22T00:00:00.000000",
         "Last Valid": "2019-01-31T00:00:00.000000",
         "Null Values": 458,
         "_deepnote_index_column": 11
        },
        {
         "Features": "NY.GDP.MKTP.CD",
         "First Valid": "1994-03-22T00:00:00.000000",
         "Last Valid": "2020-11-30T00:00:00.000000",
         "Null Values": 0,
         "_deepnote_index_column": 12
        },
        {
         "Features": "Real Interest Rate(%)",
         "First Valid": "1994-03-22T00:00:00.000000",
         "Last Valid": "2020-11-30T00:00:00.000000",
         "Null Values": 0,
         "_deepnote_index_column": 13
        },
        {
         "Features": "Foreign Exchange Reserves(%)",
         "First Valid": "1994-03-22T00:00:00.000000",
         "Last Valid": "2020-11-30T00:00:00.000000",
         "Null Values": 0,
         "_deepnote_index_column": 14
        },
        {
         "Features": "M2 Multiplier Growth (%)",
         "First Valid": "1994-03-22T00:00:00.000000",
         "Last Valid": "2020-11-30T00:00:00.000000",
         "Null Values": 0,
         "_deepnote_index_column": 15
        },
        {
         "Features": "M2/Reserves",
         "First Valid": "1994-03-22T00:00:00.000000",
         "Last Valid": "2009-08-31T00:00:00.000000",
         "Null Values": 2814,
         "_deepnote_index_column": 16
        },
        {
         "Features": "REED 12mth std dev",
         "First Valid": "1994-03-22T00:00:00.000000",
         "Last Valid": "2020-11-30T00:00:00.000000",
         "Null Values": 0,
         "_deepnote_index_column": 17
        },
        {
         "Features": "Domestic Credit to GDP",
         "First Valid": "1994-03-22T00:00:00.000000",
         "Last Valid": "2009-08-31T00:00:00.000000",
         "Null Values": 2814,
         "_deepnote_index_column": 18
        },
        {
         "Features": "Trade Openness",
         "First Valid": "1994-03-22T00:00:00.000000",
         "Last Valid": "2019-01-31T00:00:00.000000",
         "Null Values": 458,
         "_deepnote_index_column": 19
        },
        {
         "Features": "Portfolio Investments(USD)",
         "First Valid": "2009-01-02T00:00:00.000000",
         "Last Valid": "2020-11-30T00:00:00.000000",
         "Null Values": 3717,
         "_deepnote_index_column": 20
        },
        {
         "Features": "Umemployment rate(%)",
         "First Valid": "2000-04-03T00:00:00.000000",
         "Last Valid": "2020-11-30T00:00:00.000000",
         "Null Values": 1515,
         "_deepnote_index_column": 21
        },
        {
         "Features": "Current Account(%GDP)",
         "First Valid": "1994-03-22T00:00:00.000000",
         "Last Valid": "2020-11-30T00:00:00.000000",
         "Null Values": 0,
         "_deepnote_index_column": 22
        },
        {
         "Features": "FDI(%GDP)",
         "First Valid": "1994-03-22T00:00:00.000000",
         "Last Valid": "2020-11-30T00:00:00.000000",
         "Null Values": 0,
         "_deepnote_index_column": 23
        },
        {
         "Features": "Total Debt(USD)",
         "First Valid": "2008-01-02T00:00:00.000000",
         "Last Valid": "2020-11-30T00:00:00.000000",
         "Null Values": 3465,
         "_deepnote_index_column": 24
        },
        {
         "Features": "Short Term Debt(USD)",
         "First Valid": "2008-01-02T00:00:00.000000",
         "Last Valid": "2020-11-30T00:00:00.000000",
         "Null Values": 3465,
         "_deepnote_index_column": 25
        },
        {
         "Features": "Capital Formations(USD)",
         "First Valid": "1994-03-22T00:00:00.000000",
         "Last Valid": "2020-11-30T00:00:00.000000",
         "Null Values": 0,
         "_deepnote_index_column": 26
        },
        {
         "Features": "Gov Consumption Expendature (%GDP)",
         "First Valid": "1994-03-22T00:00:00.000000",
         "Last Valid": "2020-11-30T00:00:00.000000",
         "Null Values": 0,
         "_deepnote_index_column": 27
        },
        {
         "Features": "GDP % Growth",
         "First Valid": "1994-03-22T00:00:00.000000",
         "Last Valid": "2020-11-30T00:00:00.000000",
         "Null Values": 0,
         "_deepnote_index_column": 28
        },
        {
         "Features": "MXN_30_ave",
         "First Valid": "1994-03-22T00:00:00.000000",
         "Last Valid": "2020-11-30T00:00:00.000000",
         "Null Values": 0,
         "_deepnote_index_column": 29
        },
        {
         "Features": "MXN_60_ave",
         "First Valid": "1994-03-22T00:00:00.000000",
         "Last Valid": "2020-11-30T00:00:00.000000",
         "Null Values": 0,
         "_deepnote_index_column": 30
        },
        {
         "Features": "MXN_90_ave",
         "First Valid": "1994-03-22T00:00:00.000000",
         "Last Valid": "2020-11-30T00:00:00.000000",
         "Null Values": 0,
         "_deepnote_index_column": 31
        }
       ],
       "rows_bottom": null
      },
      "text/plain": "                              Features First Valid Last Valid  Null Values\n0                                  MXN  1994-03-22 2020-11-30            0\n1                                   Yr  1994-03-22 2020-11-30            0\n2                                  DoM  1994-03-22 2020-11-30            0\n3                                  MoY  1994-03-22 2020-11-30            0\n4                              sin_DoY  1994-03-22 2020-11-30            0\n5                              cos_DoY  1994-03-22 2020-11-30            0\n6              Ave Monthly USD FX Rate  1994-03-22 2020-11-30            0\n7                    Inflation (CPI) %  1994-03-22 2020-11-30            0\n8              Deposit Interest Rate %  1994-03-22 2020-11-30            0\n9              Lending Interest Rate %  1994-03-22 2020-11-30            0\n10                        Exports(USD)  1994-03-22 2020-11-30            0\n11                       Imports (USD)  1994-03-22 2019-01-31          458\n12                      NY.GDP.MKTP.CD  1994-03-22 2020-11-30            0\n13               Real Interest Rate(%)  1994-03-22 2020-11-30            0\n14        Foreign Exchange Reserves(%)  1994-03-22 2020-11-30            0\n15            M2 Multiplier Growth (%)  1994-03-22 2020-11-30            0\n16                         M2/Reserves  1994-03-22 2009-08-31         2814\n17                  REED 12mth std dev  1994-03-22 2020-11-30            0\n18              Domestic Credit to GDP  1994-03-22 2009-08-31         2814\n19                      Trade Openness  1994-03-22 2019-01-31          458\n20          Portfolio Investments(USD)  2009-01-02 2020-11-30         3717\n21                Umemployment rate(%)  2000-04-03 2020-11-30         1515\n22               Current Account(%GDP)  1994-03-22 2020-11-30            0\n23                           FDI(%GDP)  1994-03-22 2020-11-30            0\n24                     Total Debt(USD)  2008-01-02 2020-11-30         3465\n25                Short Term Debt(USD)  2008-01-02 2020-11-30         3465\n26             Capital Formations(USD)  1994-03-22 2020-11-30            0\n27  Gov Consumption Expendature (%GDP)  1994-03-22 2020-11-30            0\n28                        GDP % Growth  1994-03-22 2020-11-30            0\n29                          MXN_30_ave  1994-03-22 2020-11-30            0\n30                          MXN_60_ave  1994-03-22 2020-11-30            0\n31                          MXN_90_ave  1994-03-22 2020-11-30            0",
      "text/html": "<div>\n<style scoped>\n    .dataframe tbody tr th:only-of-type {\n        vertical-align: middle;\n    }\n\n    .dataframe tbody tr th {\n        vertical-align: top;\n    }\n\n    .dataframe thead th {\n        text-align: right;\n    }\n</style>\n<table border=\"1\" class=\"dataframe\">\n  <thead>\n    <tr style=\"text-align: right;\">\n      <th></th>\n      <th>Features</th>\n      <th>First Valid</th>\n      <th>Last Valid</th>\n      <th>Null Values</th>\n    </tr>\n  </thead>\n  <tbody>\n    <tr>\n      <th>0</th>\n      <td>MXN</td>\n      <td>1994-03-22</td>\n      <td>2020-11-30</td>\n      <td>0</td>\n    </tr>\n    <tr>\n      <th>1</th>\n      <td>Yr</td>\n      <td>1994-03-22</td>\n      <td>2020-11-30</td>\n      <td>0</td>\n    </tr>\n    <tr>\n      <th>2</th>\n      <td>DoM</td>\n      <td>1994-03-22</td>\n      <td>2020-11-30</td>\n      <td>0</td>\n    </tr>\n    <tr>\n      <th>3</th>\n      <td>MoY</td>\n      <td>1994-03-22</td>\n      <td>2020-11-30</td>\n      <td>0</td>\n    </tr>\n    <tr>\n      <th>4</th>\n      <td>sin_DoY</td>\n      <td>1994-03-22</td>\n      <td>2020-11-30</td>\n      <td>0</td>\n    </tr>\n    <tr>\n      <th>5</th>\n      <td>cos_DoY</td>\n      <td>1994-03-22</td>\n      <td>2020-11-30</td>\n      <td>0</td>\n    </tr>\n    <tr>\n      <th>6</th>\n      <td>Ave Monthly USD FX Rate</td>\n      <td>1994-03-22</td>\n      <td>2020-11-30</td>\n      <td>0</td>\n    </tr>\n    <tr>\n      <th>7</th>\n      <td>Inflation (CPI) %</td>\n      <td>1994-03-22</td>\n      <td>2020-11-30</td>\n      <td>0</td>\n    </tr>\n    <tr>\n      <th>8</th>\n      <td>Deposit Interest Rate %</td>\n      <td>1994-03-22</td>\n      <td>2020-11-30</td>\n      <td>0</td>\n    </tr>\n    <tr>\n      <th>9</th>\n      <td>Lending Interest Rate %</td>\n      <td>1994-03-22</td>\n      <td>2020-11-30</td>\n      <td>0</td>\n    </tr>\n    <tr>\n      <th>10</th>\n      <td>Exports(USD)</td>\n      <td>1994-03-22</td>\n      <td>2020-11-30</td>\n      <td>0</td>\n    </tr>\n    <tr>\n      <th>11</th>\n      <td>Imports (USD)</td>\n      <td>1994-03-22</td>\n      <td>2019-01-31</td>\n      <td>458</td>\n    </tr>\n    <tr>\n      <th>12</th>\n      <td>NY.GDP.MKTP.CD</td>\n      <td>1994-03-22</td>\n      <td>2020-11-30</td>\n      <td>0</td>\n    </tr>\n    <tr>\n      <th>13</th>\n      <td>Real Interest Rate(%)</td>\n      <td>1994-03-22</td>\n      <td>2020-11-30</td>\n      <td>0</td>\n    </tr>\n    <tr>\n      <th>14</th>\n      <td>Foreign Exchange Reserves(%)</td>\n      <td>1994-03-22</td>\n      <td>2020-11-30</td>\n      <td>0</td>\n    </tr>\n    <tr>\n      <th>15</th>\n      <td>M2 Multiplier Growth (%)</td>\n      <td>1994-03-22</td>\n      <td>2020-11-30</td>\n      <td>0</td>\n    </tr>\n    <tr>\n      <th>16</th>\n      <td>M2/Reserves</td>\n      <td>1994-03-22</td>\n      <td>2009-08-31</td>\n      <td>2814</td>\n    </tr>\n    <tr>\n      <th>17</th>\n      <td>REED 12mth std dev</td>\n      <td>1994-03-22</td>\n      <td>2020-11-30</td>\n      <td>0</td>\n    </tr>\n    <tr>\n      <th>18</th>\n      <td>Domestic Credit to GDP</td>\n      <td>1994-03-22</td>\n      <td>2009-08-31</td>\n      <td>2814</td>\n    </tr>\n    <tr>\n      <th>19</th>\n      <td>Trade Openness</td>\n      <td>1994-03-22</td>\n      <td>2019-01-31</td>\n      <td>458</td>\n    </tr>\n    <tr>\n      <th>20</th>\n      <td>Portfolio Investments(USD)</td>\n      <td>2009-01-02</td>\n      <td>2020-11-30</td>\n      <td>3717</td>\n    </tr>\n    <tr>\n      <th>21</th>\n      <td>Umemployment rate(%)</td>\n      <td>2000-04-03</td>\n      <td>2020-11-30</td>\n      <td>1515</td>\n    </tr>\n    <tr>\n      <th>22</th>\n      <td>Current Account(%GDP)</td>\n      <td>1994-03-22</td>\n      <td>2020-11-30</td>\n      <td>0</td>\n    </tr>\n    <tr>\n      <th>23</th>\n      <td>FDI(%GDP)</td>\n      <td>1994-03-22</td>\n      <td>2020-11-30</td>\n      <td>0</td>\n    </tr>\n    <tr>\n      <th>24</th>\n      <td>Total Debt(USD)</td>\n      <td>2008-01-02</td>\n      <td>2020-11-30</td>\n      <td>3465</td>\n    </tr>\n    <tr>\n      <th>25</th>\n      <td>Short Term Debt(USD)</td>\n      <td>2008-01-02</td>\n      <td>2020-11-30</td>\n      <td>3465</td>\n    </tr>\n    <tr>\n      <th>26</th>\n      <td>Capital Formations(USD)</td>\n      <td>1994-03-22</td>\n      <td>2020-11-30</td>\n      <td>0</td>\n    </tr>\n    <tr>\n      <th>27</th>\n      <td>Gov Consumption Expendature (%GDP)</td>\n      <td>1994-03-22</td>\n      <td>2020-11-30</td>\n      <td>0</td>\n    </tr>\n    <tr>\n      <th>28</th>\n      <td>GDP % Growth</td>\n      <td>1994-03-22</td>\n      <td>2020-11-30</td>\n      <td>0</td>\n    </tr>\n    <tr>\n      <th>29</th>\n      <td>MXN_30_ave</td>\n      <td>1994-03-22</td>\n      <td>2020-11-30</td>\n      <td>0</td>\n    </tr>\n    <tr>\n      <th>30</th>\n      <td>MXN_60_ave</td>\n      <td>1994-03-22</td>\n      <td>2020-11-30</td>\n      <td>0</td>\n    </tr>\n    <tr>\n      <th>31</th>\n      <td>MXN_90_ave</td>\n      <td>1994-03-22</td>\n      <td>2020-11-30</td>\n      <td>0</td>\n    </tr>\n  </tbody>\n</table>\n</div>"
     },
     "metadata": {}
    }
   ]
  },
  {
   "cell_type": "code",
   "metadata": {
    "cell_id": "00007-d534c7a7-ca4c-49b1-9527-672ec40296a2",
    "deepnote_to_be_reexecuted": false,
    "source_hash": "89522ec0",
    "execution_start": 1628724659044,
    "execution_millis": 3,
    "deepnote_cell_type": "code"
   },
   "source": "MEX_copy = mex_full.copy()",
   "execution_count": 8,
   "outputs": []
  },
  {
   "cell_type": "code",
   "metadata": {
    "cell_id": "00008-715a86c4-8bf7-4d5f-a3f2-9b693e41ace9",
    "deepnote_to_be_reexecuted": false,
    "source_hash": "40814705",
    "execution_start": 1628724662097,
    "execution_millis": 144,
    "deepnote_cell_type": "code"
   },
   "source": "#Add one hot dummy columns for month\nMEX_copy = (DG.Add_dummy_MoY(MEX_copy))\nMEX_copy.head(2)",
   "execution_count": 9,
   "outputs": [
    {
     "output_type": "execute_result",
     "execution_count": 9,
     "data": {
      "application/vnd.deepnote.dataframe.v2+json": {
       "row_count": 2,
       "column_count": 43,
       "columns": [
        {
         "name": "MXN",
         "dtype": "float64",
         "stats": {
          "unique_count": 2,
          "nan_count": 0,
          "min": "3.33",
          "max": "3.3375",
          "histogram": [
           {
            "bin_start": 3.33,
            "bin_end": 3.33075,
            "count": 1
           },
           {
            "bin_start": 3.33075,
            "bin_end": 3.3315,
            "count": 0
           },
           {
            "bin_start": 3.3315,
            "bin_end": 3.33225,
            "count": 0
           },
           {
            "bin_start": 3.33225,
            "bin_end": 3.333,
            "count": 0
           },
           {
            "bin_start": 3.333,
            "bin_end": 3.33375,
            "count": 0
           },
           {
            "bin_start": 3.33375,
            "bin_end": 3.3345,
            "count": 0
           },
           {
            "bin_start": 3.3345,
            "bin_end": 3.33525,
            "count": 0
           },
           {
            "bin_start": 3.33525,
            "bin_end": 3.336,
            "count": 0
           },
           {
            "bin_start": 3.336,
            "bin_end": 3.33675,
            "count": 0
           },
           {
            "bin_start": 3.33675,
            "bin_end": 3.3375,
            "count": 1
           }
          ]
         }
        },
        {
         "name": "Yr",
         "dtype": "int64",
         "stats": {
          "unique_count": 1,
          "nan_count": 0,
          "min": "1994",
          "max": "1994",
          "histogram": [
           {
            "bin_start": 1993.5,
            "bin_end": 1993.6,
            "count": 0
           },
           {
            "bin_start": 1993.6,
            "bin_end": 1993.7,
            "count": 0
           },
           {
            "bin_start": 1993.7,
            "bin_end": 1993.8,
            "count": 0
           },
           {
            "bin_start": 1993.8,
            "bin_end": 1993.9,
            "count": 0
           },
           {
            "bin_start": 1993.9,
            "bin_end": 1994,
            "count": 0
           },
           {
            "bin_start": 1994,
            "bin_end": 1994.1,
            "count": 2
           },
           {
            "bin_start": 1994.1,
            "bin_end": 1994.2,
            "count": 0
           },
           {
            "bin_start": 1994.2,
            "bin_end": 1994.3,
            "count": 0
           },
           {
            "bin_start": 1994.3,
            "bin_end": 1994.4,
            "count": 0
           },
           {
            "bin_start": 1994.4,
            "bin_end": 1994.5,
            "count": 0
           }
          ]
         }
        },
        {
         "name": "DoM",
         "dtype": "int64",
         "stats": {
          "unique_count": 2,
          "nan_count": 0,
          "min": "22",
          "max": "23",
          "histogram": [
           {
            "bin_start": 22,
            "bin_end": 22.1,
            "count": 1
           },
           {
            "bin_start": 22.1,
            "bin_end": 22.2,
            "count": 0
           },
           {
            "bin_start": 22.2,
            "bin_end": 22.3,
            "count": 0
           },
           {
            "bin_start": 22.3,
            "bin_end": 22.4,
            "count": 0
           },
           {
            "bin_start": 22.4,
            "bin_end": 22.5,
            "count": 0
           },
           {
            "bin_start": 22.5,
            "bin_end": 22.6,
            "count": 0
           },
           {
            "bin_start": 22.6,
            "bin_end": 22.7,
            "count": 0
           },
           {
            "bin_start": 22.7,
            "bin_end": 22.8,
            "count": 0
           },
           {
            "bin_start": 22.8,
            "bin_end": 22.9,
            "count": 0
           },
           {
            "bin_start": 22.9,
            "bin_end": 23,
            "count": 1
           }
          ]
         }
        },
        {
         "name": "sin_DoY",
         "dtype": "float64",
         "stats": {
          "unique_count": 2,
          "nan_count": 0,
          "min": "0.9813064702716093",
          "max": "0.9844738167520922",
          "histogram": [
           {
            "bin_start": 0.9813064702716093,
            "bin_end": 0.9816232049196576,
            "count": 1
           },
           {
            "bin_start": 0.9816232049196576,
            "bin_end": 0.9819399395677059,
            "count": 0
           },
           {
            "bin_start": 0.9819399395677059,
            "bin_end": 0.9822566742157542,
            "count": 0
           },
           {
            "bin_start": 0.9822566742157542,
            "bin_end": 0.9825734088638025,
            "count": 0
           },
           {
            "bin_start": 0.9825734088638025,
            "bin_end": 0.9828901435118508,
            "count": 0
           },
           {
            "bin_start": 0.9828901435118508,
            "bin_end": 0.983206878159899,
            "count": 0
           },
           {
            "bin_start": 0.983206878159899,
            "bin_end": 0.9835236128079473,
            "count": 0
           },
           {
            "bin_start": 0.9835236128079473,
            "bin_end": 0.9838403474559957,
            "count": 0
           },
           {
            "bin_start": 0.9838403474559957,
            "bin_end": 0.984157082104044,
            "count": 0
           },
           {
            "bin_start": 0.984157082104044,
            "bin_end": 0.9844738167520922,
            "count": 1
           }
          ]
         }
        },
        {
         "name": "cos_DoY",
         "dtype": "float64",
         "stats": {
          "unique_count": 2,
          "nan_count": 0,
          "min": "0.1755314904214282",
          "max": "0.19245158197082998",
          "histogram": [
           {
            "bin_start": 0.1755314904214282,
            "bin_end": 0.17722349957636838,
            "count": 1
           },
           {
            "bin_start": 0.17722349957636838,
            "bin_end": 0.17891550873130857,
            "count": 0
           },
           {
            "bin_start": 0.17891550873130857,
            "bin_end": 0.18060751788624874,
            "count": 0
           },
           {
            "bin_start": 0.18060751788624874,
            "bin_end": 0.18229952704118893,
            "count": 0
           },
           {
            "bin_start": 0.18229952704118893,
            "bin_end": 0.1839915361961291,
            "count": 0
           },
           {
            "bin_start": 0.1839915361961291,
            "bin_end": 0.18568354535106926,
            "count": 0
           },
           {
            "bin_start": 0.18568354535106926,
            "bin_end": 0.18737555450600946,
            "count": 0
           },
           {
            "bin_start": 0.18737555450600946,
            "bin_end": 0.18906756366094962,
            "count": 0
           },
           {
            "bin_start": 0.18906756366094962,
            "bin_end": 0.19075957281588982,
            "count": 0
           },
           {
            "bin_start": 0.19075957281588982,
            "bin_end": 0.19245158197082998,
            "count": 1
           }
          ]
         }
        },
        {
         "name": "Ave Monthly USD FX Rate",
         "dtype": "float64",
         "stats": {
          "unique_count": 1,
          "nan_count": 0,
          "min": "3.2841",
          "max": "3.2841",
          "histogram": [
           {
            "bin_start": 2.7841,
            "bin_end": 2.8841,
            "count": 0
           },
           {
            "bin_start": 2.8841,
            "bin_end": 2.9841,
            "count": 0
           },
           {
            "bin_start": 2.9841,
            "bin_end": 3.0841000000000003,
            "count": 0
           },
           {
            "bin_start": 3.0841000000000003,
            "bin_end": 3.1841,
            "count": 0
           },
           {
            "bin_start": 3.1841,
            "bin_end": 3.2841,
            "count": 0
           },
           {
            "bin_start": 3.2841,
            "bin_end": 3.3841,
            "count": 2
           },
           {
            "bin_start": 3.3841,
            "bin_end": 3.4841,
            "count": 0
           },
           {
            "bin_start": 3.4841,
            "bin_end": 3.5841000000000003,
            "count": 0
           },
           {
            "bin_start": 3.5841000000000003,
            "bin_end": 3.6841,
            "count": 0
           },
           {
            "bin_start": 3.6841,
            "bin_end": 3.7841,
            "count": 0
           }
          ]
         }
        },
        {
         "name": "Inflation (CPI) %",
         "dtype": "float64",
         "stats": {
          "unique_count": 1,
          "nan_count": 0,
          "min": "19.2003720678136",
          "max": "19.2003720678136",
          "histogram": [
           {
            "bin_start": 18.7003720678136,
            "bin_end": 18.8003720678136,
            "count": 0
           },
           {
            "bin_start": 18.8003720678136,
            "bin_end": 18.9003720678136,
            "count": 0
           },
           {
            "bin_start": 18.9003720678136,
            "bin_end": 19.0003720678136,
            "count": 0
           },
           {
            "bin_start": 19.0003720678136,
            "bin_end": 19.1003720678136,
            "count": 0
           },
           {
            "bin_start": 19.1003720678136,
            "bin_end": 19.2003720678136,
            "count": 0
           },
           {
            "bin_start": 19.2003720678136,
            "bin_end": 19.3003720678136,
            "count": 2
           },
           {
            "bin_start": 19.3003720678136,
            "bin_end": 19.4003720678136,
            "count": 0
           },
           {
            "bin_start": 19.4003720678136,
            "bin_end": 19.5003720678136,
            "count": 0
           },
           {
            "bin_start": 19.5003720678136,
            "bin_end": 19.6003720678136,
            "count": 0
           },
           {
            "bin_start": 19.6003720678136,
            "bin_end": 19.7003720678136,
            "count": 0
           }
          ]
         }
        },
        {
         "name": "Deposit Interest Rate %",
         "dtype": "float64",
         "stats": {
          "unique_count": 1,
          "nan_count": 0,
          "min": "10.16",
          "max": "10.16",
          "histogram": [
           {
            "bin_start": 9.66,
            "bin_end": 9.76,
            "count": 0
           },
           {
            "bin_start": 9.76,
            "bin_end": 9.86,
            "count": 0
           },
           {
            "bin_start": 9.86,
            "bin_end": 9.96,
            "count": 0
           },
           {
            "bin_start": 9.96,
            "bin_end": 10.06,
            "count": 0
           },
           {
            "bin_start": 10.06,
            "bin_end": 10.16,
            "count": 0
           },
           {
            "bin_start": 10.16,
            "bin_end": 10.26,
            "count": 2
           },
           {
            "bin_start": 10.26,
            "bin_end": 10.36,
            "count": 0
           },
           {
            "bin_start": 10.36,
            "bin_end": 10.46,
            "count": 0
           },
           {
            "bin_start": 10.46,
            "bin_end": 10.56,
            "count": 0
           },
           {
            "bin_start": 10.56,
            "bin_end": 10.66,
            "count": 0
           }
          ]
         }
        },
        {
         "name": "Lending Interest Rate %",
         "dtype": "float64",
         "stats": {
          "unique_count": 1,
          "nan_count": 0,
          "min": "13.46",
          "max": "13.46",
          "histogram": [
           {
            "bin_start": 12.96,
            "bin_end": 13.06,
            "count": 0
           },
           {
            "bin_start": 13.06,
            "bin_end": 13.16,
            "count": 0
           },
           {
            "bin_start": 13.16,
            "bin_end": 13.260000000000002,
            "count": 0
           },
           {
            "bin_start": 13.260000000000002,
            "bin_end": 13.360000000000001,
            "count": 0
           },
           {
            "bin_start": 13.360000000000001,
            "bin_end": 13.46,
            "count": 0
           },
           {
            "bin_start": 13.46,
            "bin_end": 13.56,
            "count": 2
           },
           {
            "bin_start": 13.56,
            "bin_end": 13.66,
            "count": 0
           },
           {
            "bin_start": 13.66,
            "bin_end": 13.760000000000002,
            "count": 0
           },
           {
            "bin_start": 13.760000000000002,
            "bin_end": 13.860000000000001,
            "count": 0
           },
           {
            "bin_start": 13.860000000000001,
            "bin_end": 13.96,
            "count": 0
           }
          ]
         }
        },
        {
         "name": "Exports(USD)",
         "dtype": "float64",
         "stats": {
          "unique_count": 1,
          "nan_count": 0,
          "min": "5155500000.0",
          "max": "5155500000.0",
          "histogram": [
           {
            "bin_start": 5155499999.5,
            "bin_end": 5155499999.6,
            "count": 0
           },
           {
            "bin_start": 5155499999.6,
            "bin_end": 5155499999.7,
            "count": 0
           },
           {
            "bin_start": 5155499999.7,
            "bin_end": 5155499999.8,
            "count": 0
           },
           {
            "bin_start": 5155499999.8,
            "bin_end": 5155499999.9,
            "count": 0
           },
           {
            "bin_start": 5155499999.9,
            "bin_end": 5155500000,
            "count": 0
           },
           {
            "bin_start": 5155500000,
            "bin_end": 5155500000.1,
            "count": 2
           },
           {
            "bin_start": 5155500000.1,
            "bin_end": 5155500000.2,
            "count": 0
           },
           {
            "bin_start": 5155500000.2,
            "bin_end": 5155500000.3,
            "count": 0
           },
           {
            "bin_start": 5155500000.3,
            "bin_end": 5155500000.4,
            "count": 0
           },
           {
            "bin_start": 5155500000.4,
            "bin_end": 5155500000.5,
            "count": 0
           }
          ]
         }
        },
        {
         "name": "Imports (USD)",
         "dtype": "float64",
         "stats": {
          "unique_count": 1,
          "nan_count": 0,
          "min": "6790318500.0",
          "max": "6790318500.0",
          "histogram": [
           {
            "bin_start": 6790318499.5,
            "bin_end": 6790318499.6,
            "count": 0
           },
           {
            "bin_start": 6790318499.6,
            "bin_end": 6790318499.7,
            "count": 0
           },
           {
            "bin_start": 6790318499.7,
            "bin_end": 6790318499.8,
            "count": 0
           },
           {
            "bin_start": 6790318499.8,
            "bin_end": 6790318499.9,
            "count": 0
           },
           {
            "bin_start": 6790318499.9,
            "bin_end": 6790318500,
            "count": 0
           },
           {
            "bin_start": 6790318500,
            "bin_end": 6790318500.1,
            "count": 2
           },
           {
            "bin_start": 6790318500.1,
            "bin_end": 6790318500.2,
            "count": 0
           },
           {
            "bin_start": 6790318500.2,
            "bin_end": 6790318500.3,
            "count": 0
           },
           {
            "bin_start": 6790318500.3,
            "bin_end": 6790318500.4,
            "count": 0
           },
           {
            "bin_start": 6790318500.4,
            "bin_end": 6790318500.5,
            "count": 0
           }
          ]
         }
        },
        {
         "name": "NY.GDP.MKTP.CD",
         "dtype": "float64",
         "stats": {
          "unique_count": 1,
          "nan_count": 0,
          "min": "527813238126.278",
          "max": "527813238126.278",
          "histogram": [
           {
            "bin_start": 527813238125.778,
            "bin_end": 527813238125.878,
            "count": 0
           },
           {
            "bin_start": 527813238125.878,
            "bin_end": 527813238125.978,
            "count": 0
           },
           {
            "bin_start": 527813238125.978,
            "bin_end": 527813238126.078,
            "count": 0
           },
           {
            "bin_start": 527813238126.078,
            "bin_end": 527813238126.17804,
            "count": 0
           },
           {
            "bin_start": 527813238126.17804,
            "bin_end": 527813238126.278,
            "count": 0
           },
           {
            "bin_start": 527813238126.278,
            "bin_end": 527813238126.378,
            "count": 2
           },
           {
            "bin_start": 527813238126.378,
            "bin_end": 527813238126.478,
            "count": 0
           },
           {
            "bin_start": 527813238126.478,
            "bin_end": 527813238126.578,
            "count": 0
           },
           {
            "bin_start": 527813238126.578,
            "bin_end": 527813238126.67804,
            "count": 0
           },
           {
            "bin_start": 527813238126.67804,
            "bin_end": 527813238126.778,
            "count": 0
           }
          ]
         }
        },
        {
         "name": "Real Interest Rate(%)",
         "dtype": "float64",
         "stats": {
          "unique_count": 1,
          "nan_count": 0,
          "min": "-5.740372067813599",
          "max": "-5.740372067813599",
          "histogram": [
           {
            "bin_start": -6.240372067813599,
            "bin_end": -6.140372067813599,
            "count": 0
           },
           {
            "bin_start": -6.140372067813599,
            "bin_end": -6.040372067813599,
            "count": 0
           },
           {
            "bin_start": -6.040372067813599,
            "bin_end": -5.940372067813599,
            "count": 0
           },
           {
            "bin_start": -5.940372067813599,
            "bin_end": -5.840372067813599,
            "count": 0
           },
           {
            "bin_start": -5.840372067813599,
            "bin_end": -5.740372067813599,
            "count": 0
           },
           {
            "bin_start": -5.740372067813599,
            "bin_end": -5.640372067813599,
            "count": 2
           },
           {
            "bin_start": -5.640372067813599,
            "bin_end": -5.540372067813599,
            "count": 0
           },
           {
            "bin_start": -5.540372067813599,
            "bin_end": -5.440372067813599,
            "count": 0
           },
           {
            "bin_start": -5.440372067813599,
            "bin_end": -5.340372067813599,
            "count": 0
           },
           {
            "bin_start": -5.340372067813599,
            "bin_end": -5.240372067813599,
            "count": 0
           }
          ]
         }
        },
        {
         "name": "Foreign Exchange Reserves(%)",
         "dtype": "float64",
         "stats": {
          "unique_count": 1,
          "nan_count": 0,
          "min": "4.872935754947198",
          "max": "4.872935754947198",
          "histogram": [
           {
            "bin_start": 4.372935754947198,
            "bin_end": 4.472935754947198,
            "count": 0
           },
           {
            "bin_start": 4.472935754947198,
            "bin_end": 4.572935754947198,
            "count": 0
           },
           {
            "bin_start": 4.572935754947198,
            "bin_end": 4.672935754947198,
            "count": 0
           },
           {
            "bin_start": 4.672935754947198,
            "bin_end": 4.7729357549471985,
            "count": 0
           },
           {
            "bin_start": 4.7729357549471985,
            "bin_end": 4.872935754947198,
            "count": 0
           },
           {
            "bin_start": 4.872935754947198,
            "bin_end": 4.972935754947198,
            "count": 2
           },
           {
            "bin_start": 4.972935754947198,
            "bin_end": 5.072935754947198,
            "count": 0
           },
           {
            "bin_start": 5.072935754947198,
            "bin_end": 5.172935754947198,
            "count": 0
           },
           {
            "bin_start": 5.172935754947198,
            "bin_end": 5.2729357549471985,
            "count": 0
           },
           {
            "bin_start": 5.2729357549471985,
            "bin_end": 5.372935754947198,
            "count": 0
           }
          ]
         }
        },
        {
         "name": "M2 Multiplier Growth (%)",
         "dtype": "float64",
         "stats": {
          "unique_count": 1,
          "nan_count": 0,
          "min": "3.099459019055395",
          "max": "3.099459019055395",
          "histogram": [
           {
            "bin_start": 2.599459019055395,
            "bin_end": 2.699459019055395,
            "count": 0
           },
           {
            "bin_start": 2.699459019055395,
            "bin_end": 2.799459019055395,
            "count": 0
           },
           {
            "bin_start": 2.799459019055395,
            "bin_end": 2.899459019055395,
            "count": 0
           },
           {
            "bin_start": 2.899459019055395,
            "bin_end": 2.999459019055395,
            "count": 0
           },
           {
            "bin_start": 2.999459019055395,
            "bin_end": 3.099459019055395,
            "count": 0
           },
           {
            "bin_start": 3.099459019055395,
            "bin_end": 3.199459019055395,
            "count": 2
           },
           {
            "bin_start": 3.199459019055395,
            "bin_end": 3.299459019055395,
            "count": 0
           },
           {
            "bin_start": 3.299459019055395,
            "bin_end": 3.399459019055395,
            "count": 0
           },
           {
            "bin_start": 3.399459019055395,
            "bin_end": 3.499459019055395,
            "count": 0
           },
           {
            "bin_start": 3.499459019055395,
            "bin_end": 3.599459019055395,
            "count": 0
           }
          ]
         }
        },
        {
         "name": "M2/Reserves",
         "dtype": "float64",
         "stats": {
          "unique_count": 1,
          "nan_count": 0,
          "min": "4.2846173914060595",
          "max": "4.2846173914060595",
          "histogram": [
           {
            "bin_start": 3.7846173914060595,
            "bin_end": 3.8846173914060596,
            "count": 0
           },
           {
            "bin_start": 3.8846173914060596,
            "bin_end": 3.9846173914060596,
            "count": 0
           },
           {
            "bin_start": 3.9846173914060596,
            "bin_end": 4.084617391406059,
            "count": 0
           },
           {
            "bin_start": 4.084617391406059,
            "bin_end": 4.18461739140606,
            "count": 0
           },
           {
            "bin_start": 4.18461739140606,
            "bin_end": 4.2846173914060595,
            "count": 0
           },
           {
            "bin_start": 4.2846173914060595,
            "bin_end": 4.38461739140606,
            "count": 2
           },
           {
            "bin_start": 4.38461739140606,
            "bin_end": 4.48461739140606,
            "count": 0
           },
           {
            "bin_start": 4.48461739140606,
            "bin_end": 4.584617391406059,
            "count": 0
           },
           {
            "bin_start": 4.584617391406059,
            "bin_end": 4.68461739140606,
            "count": 0
           },
           {
            "bin_start": 4.68461739140606,
            "bin_end": 4.7846173914060595,
            "count": 0
           }
          ]
         }
        },
        {
         "name": "REED 12mth std dev",
         "dtype": "float64",
         "stats": {
          "unique_count": 1,
          "nan_count": 0,
          "min": "2.922833646254952",
          "max": "2.922833646254952",
          "histogram": [
           {
            "bin_start": 2.422833646254952,
            "bin_end": 2.522833646254952,
            "count": 0
           },
           {
            "bin_start": 2.522833646254952,
            "bin_end": 2.622833646254952,
            "count": 0
           },
           {
            "bin_start": 2.622833646254952,
            "bin_end": 2.7228336462549523,
            "count": 0
           },
           {
            "bin_start": 2.7228336462549523,
            "bin_end": 2.822833646254952,
            "count": 0
           },
           {
            "bin_start": 2.822833646254952,
            "bin_end": 2.922833646254952,
            "count": 0
           },
           {
            "bin_start": 2.922833646254952,
            "bin_end": 3.022833646254952,
            "count": 2
           },
           {
            "bin_start": 3.022833646254952,
            "bin_end": 3.122833646254952,
            "count": 0
           },
           {
            "bin_start": 3.122833646254952,
            "bin_end": 3.2228336462549523,
            "count": 0
           },
           {
            "bin_start": 3.2228336462549523,
            "bin_end": 3.322833646254952,
            "count": 0
           },
           {
            "bin_start": 3.322833646254952,
            "bin_end": 3.422833646254952,
            "count": 0
           }
          ]
         }
        },
        {
         "name": "Domestic Credit to GDP",
         "dtype": "float64",
         "stats": {
          "unique_count": 1,
          "nan_count": 0,
          "min": "0.32297840068286976",
          "max": "0.32297840068286976",
          "histogram": [
           {
            "bin_start": -0.17702159931713024,
            "bin_end": -0.07702159931713023,
            "count": 0
           },
           {
            "bin_start": -0.07702159931713023,
            "bin_end": 0.02297840068286977,
            "count": 0
           },
           {
            "bin_start": 0.02297840068286977,
            "bin_end": 0.1229784006828698,
            "count": 0
           },
           {
            "bin_start": 0.1229784006828698,
            "bin_end": 0.22297840068286978,
            "count": 0
           },
           {
            "bin_start": 0.22297840068286978,
            "bin_end": 0.32297840068286976,
            "count": 0
           },
           {
            "bin_start": 0.32297840068286976,
            "bin_end": 0.42297840068286985,
            "count": 2
           },
           {
            "bin_start": 0.42297840068286985,
            "bin_end": 0.5229784006828698,
            "count": 0
           },
           {
            "bin_start": 0.5229784006828698,
            "bin_end": 0.6229784006828698,
            "count": 0
           },
           {
            "bin_start": 0.6229784006828698,
            "bin_end": 0.7229784006828698,
            "count": 0
           },
           {
            "bin_start": 0.7229784006828698,
            "bin_end": 0.8229784006828698,
            "count": 0
           }
          ]
         }
        },
        {
         "name": "Trade Openness",
         "dtype": "float64",
         "stats": {
          "unique_count": 1,
          "nan_count": 0,
          "min": "0.02263266177712275",
          "max": "0.02263266177712275",
          "histogram": [
           {
            "bin_start": -0.47736733822287725,
            "bin_end": -0.37736733822287727,
            "count": 0
           },
           {
            "bin_start": -0.37736733822287727,
            "bin_end": -0.27736733822287724,
            "count": 0
           },
           {
            "bin_start": -0.27736733822287724,
            "bin_end": -0.1773673382228772,
            "count": 0
           },
           {
            "bin_start": -0.1773673382228772,
            "bin_end": -0.07736733822287722,
            "count": 0
           },
           {
            "bin_start": -0.07736733822287722,
            "bin_end": 0.022632661777122753,
            "count": 2
           },
           {
            "bin_start": 0.022632661777122753,
            "bin_end": 0.12263266177712284,
            "count": 0
           },
           {
            "bin_start": 0.12263266177712284,
            "bin_end": 0.22263266177712282,
            "count": 0
           },
           {
            "bin_start": 0.22263266177712282,
            "bin_end": 0.3226326617771228,
            "count": 0
           },
           {
            "bin_start": 0.3226326617771228,
            "bin_end": 0.4226326617771228,
            "count": 0
           },
           {
            "bin_start": 0.4226326617771228,
            "bin_end": 0.5226326617771228,
            "count": 0
           }
          ]
         }
        },
        {
         "name": "Portfolio Investments(USD)",
         "dtype": "float64",
         "stats": {
          "unique_count": 0,
          "nan_count": 2,
          "min": null,
          "max": null,
          "histogram": [
           {
            "bin_start": 0,
            "bin_end": 0.1,
            "count": 0
           },
           {
            "bin_start": 0.1,
            "bin_end": 0.2,
            "count": 0
           },
           {
            "bin_start": 0.2,
            "bin_end": 0.30000000000000004,
            "count": 0
           },
           {
            "bin_start": 0.30000000000000004,
            "bin_end": 0.4,
            "count": 0
           },
           {
            "bin_start": 0.4,
            "bin_end": 0.5,
            "count": 0
           },
           {
            "bin_start": 0.5,
            "bin_end": 0.6000000000000001,
            "count": 0
           },
           {
            "bin_start": 0.6000000000000001,
            "bin_end": 0.7000000000000001,
            "count": 0
           },
           {
            "bin_start": 0.7000000000000001,
            "bin_end": 0.8,
            "count": 0
           },
           {
            "bin_start": 0.8,
            "bin_end": 0.9,
            "count": 0
           },
           {
            "bin_start": 0.9,
            "bin_end": 1,
            "count": 0
           }
          ]
         }
        },
        {
         "name": "Umemployment rate(%)",
         "dtype": "float64",
         "stats": {
          "unique_count": 0,
          "nan_count": 2,
          "min": null,
          "max": null,
          "histogram": [
           {
            "bin_start": 0,
            "bin_end": 0.1,
            "count": 0
           },
           {
            "bin_start": 0.1,
            "bin_end": 0.2,
            "count": 0
           },
           {
            "bin_start": 0.2,
            "bin_end": 0.30000000000000004,
            "count": 0
           },
           {
            "bin_start": 0.30000000000000004,
            "bin_end": 0.4,
            "count": 0
           },
           {
            "bin_start": 0.4,
            "bin_end": 0.5,
            "count": 0
           },
           {
            "bin_start": 0.5,
            "bin_end": 0.6000000000000001,
            "count": 0
           },
           {
            "bin_start": 0.6000000000000001,
            "bin_end": 0.7000000000000001,
            "count": 0
           },
           {
            "bin_start": 0.7000000000000001,
            "bin_end": 0.8,
            "count": 0
           },
           {
            "bin_start": 0.8,
            "bin_end": 0.9,
            "count": 0
           },
           {
            "bin_start": 0.9,
            "bin_end": 1,
            "count": 0
           }
          ]
         }
        },
        {
         "name": "Current Account(%GDP)",
         "dtype": "float64",
         "stats": {
          "unique_count": 1,
          "nan_count": 0,
          "min": "-1.2848294643147133",
          "max": "-1.2848294643147133",
          "histogram": [
           {
            "bin_start": -1.7848294643147133,
            "bin_end": -1.6848294643147133,
            "count": 0
           },
           {
            "bin_start": -1.6848294643147133,
            "bin_end": -1.5848294643147134,
            "count": 0
           },
           {
            "bin_start": -1.5848294643147134,
            "bin_end": -1.4848294643147133,
            "count": 0
           },
           {
            "bin_start": -1.4848294643147133,
            "bin_end": -1.3848294643147132,
            "count": 0
           },
           {
            "bin_start": -1.3848294643147132,
            "bin_end": -1.2848294643147133,
            "count": 0
           },
           {
            "bin_start": -1.2848294643147133,
            "bin_end": -1.1848294643147133,
            "count": 2
           },
           {
            "bin_start": -1.1848294643147133,
            "bin_end": -1.0848294643147134,
            "count": 0
           },
           {
            "bin_start": -1.0848294643147134,
            "bin_end": -0.9848294643147133,
            "count": 0
           },
           {
            "bin_start": -0.9848294643147133,
            "bin_end": -0.8848294643147133,
            "count": 0
           },
           {
            "bin_start": -0.8848294643147133,
            "bin_end": -0.7848294643147133,
            "count": 0
           }
          ]
         }
        },
        {
         "name": "FDI(%GDP)",
         "dtype": "float64",
         "stats": {
          "unique_count": 1,
          "nan_count": 0,
          "min": "0.597180929222145",
          "max": "0.597180929222145",
          "histogram": [
           {
            "bin_start": 0.09718092922214505,
            "bin_end": 0.19718092922214506,
            "count": 0
           },
           {
            "bin_start": 0.19718092922214506,
            "bin_end": 0.29718092922214506,
            "count": 0
           },
           {
            "bin_start": 0.29718092922214506,
            "bin_end": 0.3971809292221451,
            "count": 0
           },
           {
            "bin_start": 0.3971809292221451,
            "bin_end": 0.4971809292221451,
            "count": 0
           },
           {
            "bin_start": 0.4971809292221451,
            "bin_end": 0.597180929222145,
            "count": 0
           },
           {
            "bin_start": 0.597180929222145,
            "bin_end": 0.6971809292221451,
            "count": 2
           },
           {
            "bin_start": 0.6971809292221451,
            "bin_end": 0.7971809292221451,
            "count": 0
           },
           {
            "bin_start": 0.7971809292221451,
            "bin_end": 0.8971809292221451,
            "count": 0
           },
           {
            "bin_start": 0.8971809292221451,
            "bin_end": 0.9971809292221451,
            "count": 0
           },
           {
            "bin_start": 0.9971809292221451,
            "bin_end": 1.097180929222145,
            "count": 0
           }
          ]
         }
        },
        {
         "name": "Total Debt(USD)",
         "dtype": "float64",
         "stats": {
          "unique_count": 0,
          "nan_count": 2,
          "min": null,
          "max": null,
          "histogram": [
           {
            "bin_start": 0,
            "bin_end": 0.1,
            "count": 0
           },
           {
            "bin_start": 0.1,
            "bin_end": 0.2,
            "count": 0
           },
           {
            "bin_start": 0.2,
            "bin_end": 0.30000000000000004,
            "count": 0
           },
           {
            "bin_start": 0.30000000000000004,
            "bin_end": 0.4,
            "count": 0
           },
           {
            "bin_start": 0.4,
            "bin_end": 0.5,
            "count": 0
           },
           {
            "bin_start": 0.5,
            "bin_end": 0.6000000000000001,
            "count": 0
           },
           {
            "bin_start": 0.6000000000000001,
            "bin_end": 0.7000000000000001,
            "count": 0
           },
           {
            "bin_start": 0.7000000000000001,
            "bin_end": 0.8,
            "count": 0
           },
           {
            "bin_start": 0.8,
            "bin_end": 0.9,
            "count": 0
           },
           {
            "bin_start": 0.9,
            "bin_end": 1,
            "count": 0
           }
          ]
         }
        },
        {
         "name": "Short Term Debt(USD)",
         "dtype": "float64",
         "stats": {
          "unique_count": 0,
          "nan_count": 2,
          "min": null,
          "max": null,
          "histogram": [
           {
            "bin_start": 0,
            "bin_end": 0.1,
            "count": 0
           },
           {
            "bin_start": 0.1,
            "bin_end": 0.2,
            "count": 0
           },
           {
            "bin_start": 0.2,
            "bin_end": 0.30000000000000004,
            "count": 0
           },
           {
            "bin_start": 0.30000000000000004,
            "bin_end": 0.4,
            "count": 0
           },
           {
            "bin_start": 0.4,
            "bin_end": 0.5,
            "count": 0
           },
           {
            "bin_start": 0.5,
            "bin_end": 0.6000000000000001,
            "count": 0
           },
           {
            "bin_start": 0.6000000000000001,
            "bin_end": 0.7000000000000001,
            "count": 0
           },
           {
            "bin_start": 0.7000000000000001,
            "bin_end": 0.8,
            "count": 0
           },
           {
            "bin_start": 0.8,
            "bin_end": 0.9,
            "count": 0
           },
           {
            "bin_start": 0.9,
            "bin_end": 1,
            "count": 0
           }
          ]
         }
        },
        {
         "name": "Capital Formations(USD)",
         "dtype": "float64",
         "stats": {
          "unique_count": 1,
          "nan_count": 0,
          "min": "114393972623.033",
          "max": "114393972623.033",
          "histogram": [
           {
            "bin_start": 114393972622.533,
            "bin_end": 114393972622.63301,
            "count": 0
           },
           {
            "bin_start": 114393972622.63301,
            "bin_end": 114393972622.733,
            "count": 0
           },
           {
            "bin_start": 114393972622.733,
            "bin_end": 114393972622.83301,
            "count": 0
           },
           {
            "bin_start": 114393972622.83301,
            "bin_end": 114393972622.933,
            "count": 0
           },
           {
            "bin_start": 114393972622.933,
            "bin_end": 114393972623.033,
            "count": 0
           },
           {
            "bin_start": 114393972623.033,
            "bin_end": 114393972623.13301,
            "count": 2
           },
           {
            "bin_start": 114393972623.13301,
            "bin_end": 114393972623.233,
            "count": 0
           },
           {
            "bin_start": 114393972623.233,
            "bin_end": 114393972623.33301,
            "count": 0
           },
           {
            "bin_start": 114393972623.33301,
            "bin_end": 114393972623.433,
            "count": 0
           },
           {
            "bin_start": 114393972623.433,
            "bin_end": 114393972623.533,
            "count": 0
           }
          ]
         }
        },
        {
         "name": "Gov Consumption Expendature (%GDP)",
         "dtype": "float64",
         "stats": {
          "unique_count": 1,
          "nan_count": 0,
          "min": "9.46682590944767",
          "max": "9.46682590944767",
          "histogram": [
           {
            "bin_start": 8.96682590944767,
            "bin_end": 9.066825909447669,
            "count": 0
           },
           {
            "bin_start": 9.066825909447669,
            "bin_end": 9.166825909447669,
            "count": 0
           },
           {
            "bin_start": 9.166825909447669,
            "bin_end": 9.26682590944767,
            "count": 0
           },
           {
            "bin_start": 9.26682590944767,
            "bin_end": 9.36682590944767,
            "count": 0
           },
           {
            "bin_start": 9.36682590944767,
            "bin_end": 9.46682590944767,
            "count": 0
           },
           {
            "bin_start": 9.46682590944767,
            "bin_end": 9.566825909447669,
            "count": 2
           },
           {
            "bin_start": 9.566825909447669,
            "bin_end": 9.666825909447669,
            "count": 0
           },
           {
            "bin_start": 9.666825909447669,
            "bin_end": 9.76682590944767,
            "count": 0
           },
           {
            "bin_start": 9.76682590944767,
            "bin_end": 9.86682590944767,
            "count": 0
           },
           {
            "bin_start": 9.86682590944767,
            "bin_end": 9.96682590944767,
            "count": 0
           }
          ]
         }
        },
        {
         "name": "GDP % Growth",
         "dtype": "float64",
         "stats": {
          "unique_count": 1,
          "nan_count": 0,
          "min": "5.407473992951428",
          "max": "5.407473992951428",
          "histogram": [
           {
            "bin_start": 4.907473992951428,
            "bin_end": 5.007473992951428,
            "count": 0
           },
           {
            "bin_start": 5.007473992951428,
            "bin_end": 5.107473992951428,
            "count": 0
           },
           {
            "bin_start": 5.107473992951428,
            "bin_end": 5.207473992951428,
            "count": 0
           },
           {
            "bin_start": 5.207473992951428,
            "bin_end": 5.3074739929514285,
            "count": 0
           },
           {
            "bin_start": 5.3074739929514285,
            "bin_end": 5.407473992951428,
            "count": 0
           },
           {
            "bin_start": 5.407473992951428,
            "bin_end": 5.507473992951429,
            "count": 2
           },
           {
            "bin_start": 5.507473992951429,
            "bin_end": 5.607473992951428,
            "count": 0
           },
           {
            "bin_start": 5.607473992951428,
            "bin_end": 5.707473992951428,
            "count": 0
           },
           {
            "bin_start": 5.707473992951428,
            "bin_end": 5.8074739929514285,
            "count": 0
           },
           {
            "bin_start": 5.8074739929514285,
            "bin_end": 5.907473992951428,
            "count": 0
           }
          ]
         }
        },
        {
         "name": "MXN_30_ave",
         "dtype": "float64",
         "stats": {
          "unique_count": 2,
          "nan_count": 0,
          "min": "3.210476666666668",
          "max": "3.2182166666666685",
          "histogram": [
           {
            "bin_start": 3.210476666666668,
            "bin_end": 3.2112506666666683,
            "count": 1
           },
           {
            "bin_start": 3.2112506666666683,
            "bin_end": 3.212024666666668,
            "count": 0
           },
           {
            "bin_start": 3.212024666666668,
            "bin_end": 3.212798666666668,
            "count": 0
           },
           {
            "bin_start": 3.212798666666668,
            "bin_end": 3.213572666666668,
            "count": 0
           },
           {
            "bin_start": 3.213572666666668,
            "bin_end": 3.2143466666666685,
            "count": 0
           },
           {
            "bin_start": 3.2143466666666685,
            "bin_end": 3.2151206666666683,
            "count": 0
           },
           {
            "bin_start": 3.2151206666666683,
            "bin_end": 3.215894666666668,
            "count": 0
           },
           {
            "bin_start": 3.215894666666668,
            "bin_end": 3.2166686666666684,
            "count": 0
           },
           {
            "bin_start": 3.2166686666666684,
            "bin_end": 3.2174426666666687,
            "count": 0
           },
           {
            "bin_start": 3.2174426666666687,
            "bin_end": 3.2182166666666685,
            "count": 1
           }
          ]
         }
        },
        {
         "name": "MXN_60_ave",
         "dtype": "float64",
         "stats": {
          "unique_count": 2,
          "nan_count": 0,
          "min": "3.158836666666663",
          "max": "3.1627116666666635",
          "histogram": [
           {
            "bin_start": 3.158836666666663,
            "bin_end": 3.159224166666663,
            "count": 1
           },
           {
            "bin_start": 3.159224166666663,
            "bin_end": 3.159611666666663,
            "count": 0
           },
           {
            "bin_start": 3.159611666666663,
            "bin_end": 3.159999166666663,
            "count": 0
           },
           {
            "bin_start": 3.159999166666663,
            "bin_end": 3.160386666666663,
            "count": 0
           },
           {
            "bin_start": 3.160386666666663,
            "bin_end": 3.1607741666666636,
            "count": 0
           },
           {
            "bin_start": 3.1607741666666636,
            "bin_end": 3.1611616666666635,
            "count": 0
           },
           {
            "bin_start": 3.1611616666666635,
            "bin_end": 3.1615491666666635,
            "count": 0
           },
           {
            "bin_start": 3.1615491666666635,
            "bin_end": 3.1619366666666635,
            "count": 0
           },
           {
            "bin_start": 3.1619366666666635,
            "bin_end": 3.1623241666666635,
            "count": 0
           },
           {
            "bin_start": 3.1623241666666635,
            "bin_end": 3.1627116666666635,
            "count": 1
           }
          ]
         }
        },
        {
         "name": "MXN_90_ave",
         "dtype": "float64",
         "stats": {
          "unique_count": 2,
          "nan_count": 0,
          "min": "3.1480599999999987",
          "max": "3.1501211111111096",
          "histogram": [
           {
            "bin_start": 3.1480599999999987,
            "bin_end": 3.1482661111111097,
            "count": 1
           },
           {
            "bin_start": 3.1482661111111097,
            "bin_end": 3.148472222222221,
            "count": 0
           },
           {
            "bin_start": 3.148472222222221,
            "bin_end": 3.148678333333332,
            "count": 0
           },
           {
            "bin_start": 3.148678333333332,
            "bin_end": 3.1488844444444433,
            "count": 0
           },
           {
            "bin_start": 3.1488844444444433,
            "bin_end": 3.149090555555554,
            "count": 0
           },
           {
            "bin_start": 3.149090555555554,
            "bin_end": 3.149296666666665,
            "count": 0
           },
           {
            "bin_start": 3.149296666666665,
            "bin_end": 3.1495027777777764,
            "count": 0
           },
           {
            "bin_start": 3.1495027777777764,
            "bin_end": 3.1497088888888873,
            "count": 0
           },
           {
            "bin_start": 3.1497088888888873,
            "bin_end": 3.1499149999999987,
            "count": 0
           },
           {
            "bin_start": 3.1499149999999987,
            "bin_end": 3.1501211111111096,
            "count": 1
           }
          ]
         }
        },
        {
         "name": "MoY_is_1",
         "dtype": "uint8",
         "stats": {
          "unique_count": 1,
          "nan_count": 0,
          "min": "0",
          "max": "0",
          "histogram": [
           {
            "bin_start": -0.5,
            "bin_end": -0.4,
            "count": 0
           },
           {
            "bin_start": -0.4,
            "bin_end": -0.3,
            "count": 0
           },
           {
            "bin_start": -0.3,
            "bin_end": -0.19999999999999996,
            "count": 0
           },
           {
            "bin_start": -0.19999999999999996,
            "bin_end": -0.09999999999999998,
            "count": 0
           },
           {
            "bin_start": -0.09999999999999998,
            "bin_end": 0,
            "count": 0
           },
           {
            "bin_start": 0,
            "bin_end": 0.10000000000000009,
            "count": 2
           },
           {
            "bin_start": 0.10000000000000009,
            "bin_end": 0.20000000000000007,
            "count": 0
           },
           {
            "bin_start": 0.20000000000000007,
            "bin_end": 0.30000000000000004,
            "count": 0
           },
           {
            "bin_start": 0.30000000000000004,
            "bin_end": 0.4,
            "count": 0
           },
           {
            "bin_start": 0.4,
            "bin_end": 0.5,
            "count": 0
           }
          ]
         }
        },
        {
         "name": "MoY_is_2",
         "dtype": "uint8",
         "stats": {
          "unique_count": 1,
          "nan_count": 0,
          "min": "0",
          "max": "0",
          "histogram": [
           {
            "bin_start": -0.5,
            "bin_end": -0.4,
            "count": 0
           },
           {
            "bin_start": -0.4,
            "bin_end": -0.3,
            "count": 0
           },
           {
            "bin_start": -0.3,
            "bin_end": -0.19999999999999996,
            "count": 0
           },
           {
            "bin_start": -0.19999999999999996,
            "bin_end": -0.09999999999999998,
            "count": 0
           },
           {
            "bin_start": -0.09999999999999998,
            "bin_end": 0,
            "count": 0
           },
           {
            "bin_start": 0,
            "bin_end": 0.10000000000000009,
            "count": 2
           },
           {
            "bin_start": 0.10000000000000009,
            "bin_end": 0.20000000000000007,
            "count": 0
           },
           {
            "bin_start": 0.20000000000000007,
            "bin_end": 0.30000000000000004,
            "count": 0
           },
           {
            "bin_start": 0.30000000000000004,
            "bin_end": 0.4,
            "count": 0
           },
           {
            "bin_start": 0.4,
            "bin_end": 0.5,
            "count": 0
           }
          ]
         }
        },
        {
         "name": "MoY_is_3",
         "dtype": "uint8",
         "stats": {
          "unique_count": 1,
          "nan_count": 0,
          "min": "1",
          "max": "1",
          "histogram": [
           {
            "bin_start": 0.5,
            "bin_end": 0.6,
            "count": 0
           },
           {
            "bin_start": 0.6,
            "bin_end": 0.7,
            "count": 0
           },
           {
            "bin_start": 0.7,
            "bin_end": 0.8,
            "count": 0
           },
           {
            "bin_start": 0.8,
            "bin_end": 0.9,
            "count": 0
           },
           {
            "bin_start": 0.9,
            "bin_end": 1,
            "count": 0
           },
           {
            "bin_start": 1,
            "bin_end": 1.1,
            "count": 2
           },
           {
            "bin_start": 1.1,
            "bin_end": 1.2000000000000002,
            "count": 0
           },
           {
            "bin_start": 1.2000000000000002,
            "bin_end": 1.3,
            "count": 0
           },
           {
            "bin_start": 1.3,
            "bin_end": 1.4,
            "count": 0
           },
           {
            "bin_start": 1.4,
            "bin_end": 1.5,
            "count": 0
           }
          ]
         }
        },
        {
         "name": "MoY_is_4",
         "dtype": "uint8",
         "stats": {
          "unique_count": 1,
          "nan_count": 0,
          "min": "0",
          "max": "0",
          "histogram": [
           {
            "bin_start": -0.5,
            "bin_end": -0.4,
            "count": 0
           },
           {
            "bin_start": -0.4,
            "bin_end": -0.3,
            "count": 0
           },
           {
            "bin_start": -0.3,
            "bin_end": -0.19999999999999996,
            "count": 0
           },
           {
            "bin_start": -0.19999999999999996,
            "bin_end": -0.09999999999999998,
            "count": 0
           },
           {
            "bin_start": -0.09999999999999998,
            "bin_end": 0,
            "count": 0
           },
           {
            "bin_start": 0,
            "bin_end": 0.10000000000000009,
            "count": 2
           },
           {
            "bin_start": 0.10000000000000009,
            "bin_end": 0.20000000000000007,
            "count": 0
           },
           {
            "bin_start": 0.20000000000000007,
            "bin_end": 0.30000000000000004,
            "count": 0
           },
           {
            "bin_start": 0.30000000000000004,
            "bin_end": 0.4,
            "count": 0
           },
           {
            "bin_start": 0.4,
            "bin_end": 0.5,
            "count": 0
           }
          ]
         }
        },
        {
         "name": "MoY_is_5",
         "dtype": "uint8",
         "stats": {
          "unique_count": 1,
          "nan_count": 0,
          "min": "0",
          "max": "0",
          "histogram": [
           {
            "bin_start": -0.5,
            "bin_end": -0.4,
            "count": 0
           },
           {
            "bin_start": -0.4,
            "bin_end": -0.3,
            "count": 0
           },
           {
            "bin_start": -0.3,
            "bin_end": -0.19999999999999996,
            "count": 0
           },
           {
            "bin_start": -0.19999999999999996,
            "bin_end": -0.09999999999999998,
            "count": 0
           },
           {
            "bin_start": -0.09999999999999998,
            "bin_end": 0,
            "count": 0
           },
           {
            "bin_start": 0,
            "bin_end": 0.10000000000000009,
            "count": 2
           },
           {
            "bin_start": 0.10000000000000009,
            "bin_end": 0.20000000000000007,
            "count": 0
           },
           {
            "bin_start": 0.20000000000000007,
            "bin_end": 0.30000000000000004,
            "count": 0
           },
           {
            "bin_start": 0.30000000000000004,
            "bin_end": 0.4,
            "count": 0
           },
           {
            "bin_start": 0.4,
            "bin_end": 0.5,
            "count": 0
           }
          ]
         }
        },
        {
         "name": "MoY_is_6",
         "dtype": "uint8",
         "stats": {
          "unique_count": 1,
          "nan_count": 0,
          "min": "0",
          "max": "0",
          "histogram": [
           {
            "bin_start": -0.5,
            "bin_end": -0.4,
            "count": 0
           },
           {
            "bin_start": -0.4,
            "bin_end": -0.3,
            "count": 0
           },
           {
            "bin_start": -0.3,
            "bin_end": -0.19999999999999996,
            "count": 0
           },
           {
            "bin_start": -0.19999999999999996,
            "bin_end": -0.09999999999999998,
            "count": 0
           },
           {
            "bin_start": -0.09999999999999998,
            "bin_end": 0,
            "count": 0
           },
           {
            "bin_start": 0,
            "bin_end": 0.10000000000000009,
            "count": 2
           },
           {
            "bin_start": 0.10000000000000009,
            "bin_end": 0.20000000000000007,
            "count": 0
           },
           {
            "bin_start": 0.20000000000000007,
            "bin_end": 0.30000000000000004,
            "count": 0
           },
           {
            "bin_start": 0.30000000000000004,
            "bin_end": 0.4,
            "count": 0
           },
           {
            "bin_start": 0.4,
            "bin_end": 0.5,
            "count": 0
           }
          ]
         }
        },
        {
         "name": "MoY_is_7",
         "dtype": "uint8",
         "stats": {
          "unique_count": 1,
          "nan_count": 0,
          "min": "0",
          "max": "0",
          "histogram": [
           {
            "bin_start": -0.5,
            "bin_end": -0.4,
            "count": 0
           },
           {
            "bin_start": -0.4,
            "bin_end": -0.3,
            "count": 0
           },
           {
            "bin_start": -0.3,
            "bin_end": -0.19999999999999996,
            "count": 0
           },
           {
            "bin_start": -0.19999999999999996,
            "bin_end": -0.09999999999999998,
            "count": 0
           },
           {
            "bin_start": -0.09999999999999998,
            "bin_end": 0,
            "count": 0
           },
           {
            "bin_start": 0,
            "bin_end": 0.10000000000000009,
            "count": 2
           },
           {
            "bin_start": 0.10000000000000009,
            "bin_end": 0.20000000000000007,
            "count": 0
           },
           {
            "bin_start": 0.20000000000000007,
            "bin_end": 0.30000000000000004,
            "count": 0
           },
           {
            "bin_start": 0.30000000000000004,
            "bin_end": 0.4,
            "count": 0
           },
           {
            "bin_start": 0.4,
            "bin_end": 0.5,
            "count": 0
           }
          ]
         }
        },
        {
         "name": "MoY_is_8",
         "dtype": "uint8",
         "stats": {
          "unique_count": 1,
          "nan_count": 0,
          "min": "0",
          "max": "0",
          "histogram": [
           {
            "bin_start": -0.5,
            "bin_end": -0.4,
            "count": 0
           },
           {
            "bin_start": -0.4,
            "bin_end": -0.3,
            "count": 0
           },
           {
            "bin_start": -0.3,
            "bin_end": -0.19999999999999996,
            "count": 0
           },
           {
            "bin_start": -0.19999999999999996,
            "bin_end": -0.09999999999999998,
            "count": 0
           },
           {
            "bin_start": -0.09999999999999998,
            "bin_end": 0,
            "count": 0
           },
           {
            "bin_start": 0,
            "bin_end": 0.10000000000000009,
            "count": 2
           },
           {
            "bin_start": 0.10000000000000009,
            "bin_end": 0.20000000000000007,
            "count": 0
           },
           {
            "bin_start": 0.20000000000000007,
            "bin_end": 0.30000000000000004,
            "count": 0
           },
           {
            "bin_start": 0.30000000000000004,
            "bin_end": 0.4,
            "count": 0
           },
           {
            "bin_start": 0.4,
            "bin_end": 0.5,
            "count": 0
           }
          ]
         }
        },
        {
         "name": "MoY_is_9",
         "dtype": "uint8",
         "stats": {
          "unique_count": 1,
          "nan_count": 0,
          "min": "0",
          "max": "0",
          "histogram": [
           {
            "bin_start": -0.5,
            "bin_end": -0.4,
            "count": 0
           },
           {
            "bin_start": -0.4,
            "bin_end": -0.3,
            "count": 0
           },
           {
            "bin_start": -0.3,
            "bin_end": -0.19999999999999996,
            "count": 0
           },
           {
            "bin_start": -0.19999999999999996,
            "bin_end": -0.09999999999999998,
            "count": 0
           },
           {
            "bin_start": -0.09999999999999998,
            "bin_end": 0,
            "count": 0
           },
           {
            "bin_start": 0,
            "bin_end": 0.10000000000000009,
            "count": 2
           },
           {
            "bin_start": 0.10000000000000009,
            "bin_end": 0.20000000000000007,
            "count": 0
           },
           {
            "bin_start": 0.20000000000000007,
            "bin_end": 0.30000000000000004,
            "count": 0
           },
           {
            "bin_start": 0.30000000000000004,
            "bin_end": 0.4,
            "count": 0
           },
           {
            "bin_start": 0.4,
            "bin_end": 0.5,
            "count": 0
           }
          ]
         }
        },
        {
         "name": "MoY_is_10",
         "dtype": "uint8",
         "stats": {
          "unique_count": 1,
          "nan_count": 0,
          "min": "0",
          "max": "0",
          "histogram": [
           {
            "bin_start": -0.5,
            "bin_end": -0.4,
            "count": 0
           },
           {
            "bin_start": -0.4,
            "bin_end": -0.3,
            "count": 0
           },
           {
            "bin_start": -0.3,
            "bin_end": -0.19999999999999996,
            "count": 0
           },
           {
            "bin_start": -0.19999999999999996,
            "bin_end": -0.09999999999999998,
            "count": 0
           },
           {
            "bin_start": -0.09999999999999998,
            "bin_end": 0,
            "count": 0
           },
           {
            "bin_start": 0,
            "bin_end": 0.10000000000000009,
            "count": 2
           },
           {
            "bin_start": 0.10000000000000009,
            "bin_end": 0.20000000000000007,
            "count": 0
           },
           {
            "bin_start": 0.20000000000000007,
            "bin_end": 0.30000000000000004,
            "count": 0
           },
           {
            "bin_start": 0.30000000000000004,
            "bin_end": 0.4,
            "count": 0
           },
           {
            "bin_start": 0.4,
            "bin_end": 0.5,
            "count": 0
           }
          ]
         }
        },
        {
         "name": "MoY_is_11",
         "dtype": "uint8",
         "stats": {
          "unique_count": 1,
          "nan_count": 0,
          "min": "0",
          "max": "0",
          "histogram": [
           {
            "bin_start": -0.5,
            "bin_end": -0.4,
            "count": 0
           },
           {
            "bin_start": -0.4,
            "bin_end": -0.3,
            "count": 0
           },
           {
            "bin_start": -0.3,
            "bin_end": -0.19999999999999996,
            "count": 0
           },
           {
            "bin_start": -0.19999999999999996,
            "bin_end": -0.09999999999999998,
            "count": 0
           },
           {
            "bin_start": -0.09999999999999998,
            "bin_end": 0,
            "count": 0
           },
           {
            "bin_start": 0,
            "bin_end": 0.10000000000000009,
            "count": 2
           },
           {
            "bin_start": 0.10000000000000009,
            "bin_end": 0.20000000000000007,
            "count": 0
           },
           {
            "bin_start": 0.20000000000000007,
            "bin_end": 0.30000000000000004,
            "count": 0
           },
           {
            "bin_start": 0.30000000000000004,
            "bin_end": 0.4,
            "count": 0
           },
           {
            "bin_start": 0.4,
            "bin_end": 0.5,
            "count": 0
           }
          ]
         }
        },
        {
         "name": "MoY_is_12",
         "dtype": "uint8",
         "stats": {
          "unique_count": 1,
          "nan_count": 0,
          "min": "0",
          "max": "0",
          "histogram": [
           {
            "bin_start": -0.5,
            "bin_end": -0.4,
            "count": 0
           },
           {
            "bin_start": -0.4,
            "bin_end": -0.3,
            "count": 0
           },
           {
            "bin_start": -0.3,
            "bin_end": -0.19999999999999996,
            "count": 0
           },
           {
            "bin_start": -0.19999999999999996,
            "bin_end": -0.09999999999999998,
            "count": 0
           },
           {
            "bin_start": -0.09999999999999998,
            "bin_end": 0,
            "count": 0
           },
           {
            "bin_start": 0,
            "bin_end": 0.10000000000000009,
            "count": 2
           },
           {
            "bin_start": 0.10000000000000009,
            "bin_end": 0.20000000000000007,
            "count": 0
           },
           {
            "bin_start": 0.20000000000000007,
            "bin_end": 0.30000000000000004,
            "count": 0
           },
           {
            "bin_start": 0.30000000000000004,
            "bin_end": 0.4,
            "count": 0
           },
           {
            "bin_start": 0.4,
            "bin_end": 0.5,
            "count": 0
           }
          ]
         }
        },
        {
         "name": "_deepnote_index_column",
         "dtype": "datetime64[ns]"
        }
       ],
       "rows_top": [
        {
         "MXN": 3.33,
         "Yr": 1994,
         "DoM": 22,
         "sin_DoY": 0.9813064702716093,
         "cos_DoY": 0.19245158197082998,
         "Ave Monthly USD FX Rate": 3.2841,
         "Inflation (CPI) %": 19.2003720678136,
         "Deposit Interest Rate %": 10.16,
         "Lending Interest Rate %": 13.46,
         "Exports(USD)": 5155500000,
         "Imports (USD)": 6790318500,
         "NY.GDP.MKTP.CD": 527813238126.278,
         "Real Interest Rate(%)": -5.740372067813599,
         "Foreign Exchange Reserves(%)": 4.872935754947198,
         "M2 Multiplier Growth (%)": 3.099459019055395,
         "M2/Reserves": 4.2846173914060595,
         "REED 12mth std dev": 2.922833646254952,
         "Domestic Credit to GDP": 0.32297840068286976,
         "Trade Openness": 0.02263266177712275,
         "Portfolio Investments(USD)": "nan",
         "Umemployment rate(%)": "nan",
         "Current Account(%GDP)": -1.2848294643147133,
         "FDI(%GDP)": 0.597180929222145,
         "Total Debt(USD)": "nan",
         "Short Term Debt(USD)": "nan",
         "Capital Formations(USD)": 114393972623.033,
         "Gov Consumption Expendature (%GDP)": 9.46682590944767,
         "GDP % Growth": 5.407473992951428,
         "MXN_30_ave": 3.210476666666668,
         "MXN_60_ave": 3.158836666666663,
         "MXN_90_ave": 3.1480599999999987,
         "MoY_is_1": 0,
         "MoY_is_2": 0,
         "MoY_is_3": 1,
         "MoY_is_4": 0,
         "MoY_is_5": 0,
         "MoY_is_6": 0,
         "MoY_is_7": 0,
         "MoY_is_8": 0,
         "MoY_is_9": 0,
         "MoY_is_10": 0,
         "MoY_is_11": 0,
         "MoY_is_12": 0,
         "_deepnote_index_column": "1994-03-22T00:00:00.000000"
        },
        {
         "MXN": 3.3375,
         "Yr": 1994,
         "DoM": 23,
         "sin_DoY": 0.9844738167520922,
         "cos_DoY": 0.1755314904214282,
         "Ave Monthly USD FX Rate": 3.2841,
         "Inflation (CPI) %": 19.2003720678136,
         "Deposit Interest Rate %": 10.16,
         "Lending Interest Rate %": 13.46,
         "Exports(USD)": 5155500000,
         "Imports (USD)": 6790318500,
         "NY.GDP.MKTP.CD": 527813238126.278,
         "Real Interest Rate(%)": -5.740372067813599,
         "Foreign Exchange Reserves(%)": 4.872935754947198,
         "M2 Multiplier Growth (%)": 3.099459019055395,
         "M2/Reserves": 4.2846173914060595,
         "REED 12mth std dev": 2.922833646254952,
         "Domestic Credit to GDP": 0.32297840068286976,
         "Trade Openness": 0.02263266177712275,
         "Portfolio Investments(USD)": "nan",
         "Umemployment rate(%)": "nan",
         "Current Account(%GDP)": -1.2848294643147133,
         "FDI(%GDP)": 0.597180929222145,
         "Total Debt(USD)": "nan",
         "Short Term Debt(USD)": "nan",
         "Capital Formations(USD)": 114393972623.033,
         "Gov Consumption Expendature (%GDP)": 9.46682590944767,
         "GDP % Growth": 5.407473992951428,
         "MXN_30_ave": 3.2182166666666685,
         "MXN_60_ave": 3.1627116666666635,
         "MXN_90_ave": 3.1501211111111096,
         "MoY_is_1": 0,
         "MoY_is_2": 0,
         "MoY_is_3": 1,
         "MoY_is_4": 0,
         "MoY_is_5": 0,
         "MoY_is_6": 0,
         "MoY_is_7": 0,
         "MoY_is_8": 0,
         "MoY_is_9": 0,
         "MoY_is_10": 0,
         "MoY_is_11": 0,
         "MoY_is_12": 0,
         "_deepnote_index_column": "1994-03-23T00:00:00.000000"
        }
       ],
       "rows_bottom": null
      },
      "text/plain": "               MXN    Yr  DoM   sin_DoY   cos_DoY  Ave Monthly USD FX Rate  \\\nDate                                                                         \n1994-03-22  3.3300  1994   22  0.981306  0.192452                   3.2841   \n1994-03-23  3.3375  1994   23  0.984474  0.175531                   3.2841   \n\n            Inflation (CPI) %  Deposit Interest Rate %  \\\nDate                                                     \n1994-03-22          19.200372                    10.16   \n1994-03-23          19.200372                    10.16   \n\n            Lending Interest Rate %  Exports(USD)  ...  MoY_is_3  MoY_is_4  \\\nDate                                               ...                       \n1994-03-22                    13.46  5.155500e+09  ...         1         0   \n1994-03-23                    13.46  5.155500e+09  ...         1         0   \n\n            MoY_is_5  MoY_is_6  MoY_is_7  MoY_is_8  MoY_is_9  MoY_is_10  \\\nDate                                                                      \n1994-03-22         0         0         0         0         0          0   \n1994-03-23         0         0         0         0         0          0   \n\n            MoY_is_11  MoY_is_12  \nDate                              \n1994-03-22          0          0  \n1994-03-23          0          0  \n\n[2 rows x 43 columns]",
      "text/html": "<div>\n<style scoped>\n    .dataframe tbody tr th:only-of-type {\n        vertical-align: middle;\n    }\n\n    .dataframe tbody tr th {\n        vertical-align: top;\n    }\n\n    .dataframe thead th {\n        text-align: right;\n    }\n</style>\n<table border=\"1\" class=\"dataframe\">\n  <thead>\n    <tr style=\"text-align: right;\">\n      <th></th>\n      <th>MXN</th>\n      <th>Yr</th>\n      <th>DoM</th>\n      <th>sin_DoY</th>\n      <th>cos_DoY</th>\n      <th>Ave Monthly USD FX Rate</th>\n      <th>Inflation (CPI) %</th>\n      <th>Deposit Interest Rate %</th>\n      <th>Lending Interest Rate %</th>\n      <th>Exports(USD)</th>\n      <th>...</th>\n      <th>MoY_is_3</th>\n      <th>MoY_is_4</th>\n      <th>MoY_is_5</th>\n      <th>MoY_is_6</th>\n      <th>MoY_is_7</th>\n      <th>MoY_is_8</th>\n      <th>MoY_is_9</th>\n      <th>MoY_is_10</th>\n      <th>MoY_is_11</th>\n      <th>MoY_is_12</th>\n    </tr>\n    <tr>\n      <th>Date</th>\n      <th></th>\n      <th></th>\n      <th></th>\n      <th></th>\n      <th></th>\n      <th></th>\n      <th></th>\n      <th></th>\n      <th></th>\n      <th></th>\n      <th></th>\n      <th></th>\n      <th></th>\n      <th></th>\n      <th></th>\n      <th></th>\n      <th></th>\n      <th></th>\n      <th></th>\n      <th></th>\n      <th></th>\n    </tr>\n  </thead>\n  <tbody>\n    <tr>\n      <th>1994-03-22</th>\n      <td>3.3300</td>\n      <td>1994</td>\n      <td>22</td>\n      <td>0.981306</td>\n      <td>0.192452</td>\n      <td>3.2841</td>\n      <td>19.200372</td>\n      <td>10.16</td>\n      <td>13.46</td>\n      <td>5.155500e+09</td>\n      <td>...</td>\n      <td>1</td>\n      <td>0</td>\n      <td>0</td>\n      <td>0</td>\n      <td>0</td>\n      <td>0</td>\n      <td>0</td>\n      <td>0</td>\n      <td>0</td>\n      <td>0</td>\n    </tr>\n    <tr>\n      <th>1994-03-23</th>\n      <td>3.3375</td>\n      <td>1994</td>\n      <td>23</td>\n      <td>0.984474</td>\n      <td>0.175531</td>\n      <td>3.2841</td>\n      <td>19.200372</td>\n      <td>10.16</td>\n      <td>13.46</td>\n      <td>5.155500e+09</td>\n      <td>...</td>\n      <td>1</td>\n      <td>0</td>\n      <td>0</td>\n      <td>0</td>\n      <td>0</td>\n      <td>0</td>\n      <td>0</td>\n      <td>0</td>\n      <td>0</td>\n      <td>0</td>\n    </tr>\n  </tbody>\n</table>\n<p>2 rows × 43 columns</p>\n</div>"
     },
     "metadata": {}
    }
   ]
  },
  {
   "cell_type": "code",
   "metadata": {
    "cell_id": "00009-b3a0ad92-219c-4622-9cf6-b95a508a00ec",
    "deepnote_to_be_reexecuted": false,
    "source_hash": "6f168ab4",
    "execution_start": 1628724664202,
    "execution_millis": 108,
    "deepnote_cell_type": "code"
   },
   "source": "#Description of cleaned and one-hott'ed dataset\nMEX_copy.drop(columns = ['M2/Reserves',# Nan Values\n                        'Domestic Credit to GDP', # Nan Values\n                        'Portfolio Investments(USD)',# Nan Values\n                        'Total Debt(USD)', # Nan Values\n                        'Short Term Debt(USD)', # Nan Values\n                        'Umemployment rate(%)', # Nan Values\n                        'cos_DoY',\n                        'Yr',\n                        'DoM',\n                        'M2 Multiplier Growth (%)', # Data flatlines in 2008\n                        'Imports (USD)', # Severe drop in value in 1990s skews data; removing due to this and 1.5yr lack of data\n                        'Trade Openness',# Derived from Imports, therefore removed also\n                         'Gov Consumption Expendature (%GDP)',# Annual Value, Removing to aid model Training \n                         'Ave Monthly USD FX Rate', # Future dated Data, cannot add to model\n                         'Capital Formations(USD)', #  Annual Value, Removing to aid model Training \n                         'GDP % Growth'#  Annual Value, Removing to aid model Training: Exaggeration of raw GDP value\n                        ], inplace = True)\n#Fields with the same end date\n\n'''\nMEX_copy.dropna(axis=0, subset = ['Imports (USD)',\n                                'Trade Openness'], inplace = True)\n'''\nDG.describe_MacEcon_TS(MEX_copy)",
   "execution_count": 10,
   "outputs": [
    {
     "output_type": "execute_result",
     "execution_count": 10,
     "data": {
      "application/vnd.deepnote.dataframe.v2+json": {
       "row_count": 27,
       "column_count": 4,
       "columns": [
        {
         "name": "Features",
         "dtype": "object",
         "stats": {
          "unique_count": 27,
          "nan_count": 0,
          "categories": [
           {
            "name": "MXN",
            "count": 1
           },
           {
            "name": "sin_DoY",
            "count": 1
           },
           {
            "name": "25 others",
            "count": 25
           }
          ]
         }
        },
        {
         "name": "First Valid",
         "dtype": "datetime64[ns]",
         "stats": {
          "unique_count": 1,
          "nan_count": 0,
          "min": "1994-03-22 00:00:00",
          "max": "1994-03-22 00:00:00",
          "histogram": null
         }
        },
        {
         "name": "Last Valid",
         "dtype": "datetime64[ns]",
         "stats": {
          "unique_count": 1,
          "nan_count": 0,
          "min": "2020-11-30 00:00:00",
          "max": "2020-11-30 00:00:00",
          "histogram": null
         }
        },
        {
         "name": "Null Values",
         "dtype": "int64",
         "stats": {
          "unique_count": 1,
          "nan_count": 0,
          "min": "0",
          "max": "0",
          "histogram": [
           {
            "bin_start": -0.5,
            "bin_end": -0.4,
            "count": 0
           },
           {
            "bin_start": -0.4,
            "bin_end": -0.3,
            "count": 0
           },
           {
            "bin_start": -0.3,
            "bin_end": -0.19999999999999996,
            "count": 0
           },
           {
            "bin_start": -0.19999999999999996,
            "bin_end": -0.09999999999999998,
            "count": 0
           },
           {
            "bin_start": -0.09999999999999998,
            "bin_end": 0,
            "count": 0
           },
           {
            "bin_start": 0,
            "bin_end": 0.10000000000000009,
            "count": 27
           },
           {
            "bin_start": 0.10000000000000009,
            "bin_end": 0.20000000000000007,
            "count": 0
           },
           {
            "bin_start": 0.20000000000000007,
            "bin_end": 0.30000000000000004,
            "count": 0
           },
           {
            "bin_start": 0.30000000000000004,
            "bin_end": 0.4,
            "count": 0
           },
           {
            "bin_start": 0.4,
            "bin_end": 0.5,
            "count": 0
           }
          ]
         }
        },
        {
         "name": "_deepnote_index_column",
         "dtype": "int64"
        }
       ],
       "rows_top": [
        {
         "Features": "MXN",
         "First Valid": "1994-03-22T00:00:00.000000",
         "Last Valid": "2020-11-30T00:00:00.000000",
         "Null Values": 0,
         "_deepnote_index_column": 0
        },
        {
         "Features": "sin_DoY",
         "First Valid": "1994-03-22T00:00:00.000000",
         "Last Valid": "2020-11-30T00:00:00.000000",
         "Null Values": 0,
         "_deepnote_index_column": 1
        },
        {
         "Features": "Inflation (CPI) %",
         "First Valid": "1994-03-22T00:00:00.000000",
         "Last Valid": "2020-11-30T00:00:00.000000",
         "Null Values": 0,
         "_deepnote_index_column": 2
        },
        {
         "Features": "Deposit Interest Rate %",
         "First Valid": "1994-03-22T00:00:00.000000",
         "Last Valid": "2020-11-30T00:00:00.000000",
         "Null Values": 0,
         "_deepnote_index_column": 3
        },
        {
         "Features": "Lending Interest Rate %",
         "First Valid": "1994-03-22T00:00:00.000000",
         "Last Valid": "2020-11-30T00:00:00.000000",
         "Null Values": 0,
         "_deepnote_index_column": 4
        },
        {
         "Features": "Exports(USD)",
         "First Valid": "1994-03-22T00:00:00.000000",
         "Last Valid": "2020-11-30T00:00:00.000000",
         "Null Values": 0,
         "_deepnote_index_column": 5
        },
        {
         "Features": "NY.GDP.MKTP.CD",
         "First Valid": "1994-03-22T00:00:00.000000",
         "Last Valid": "2020-11-30T00:00:00.000000",
         "Null Values": 0,
         "_deepnote_index_column": 6
        },
        {
         "Features": "Real Interest Rate(%)",
         "First Valid": "1994-03-22T00:00:00.000000",
         "Last Valid": "2020-11-30T00:00:00.000000",
         "Null Values": 0,
         "_deepnote_index_column": 7
        },
        {
         "Features": "Foreign Exchange Reserves(%)",
         "First Valid": "1994-03-22T00:00:00.000000",
         "Last Valid": "2020-11-30T00:00:00.000000",
         "Null Values": 0,
         "_deepnote_index_column": 8
        },
        {
         "Features": "REED 12mth std dev",
         "First Valid": "1994-03-22T00:00:00.000000",
         "Last Valid": "2020-11-30T00:00:00.000000",
         "Null Values": 0,
         "_deepnote_index_column": 9
        },
        {
         "Features": "Current Account(%GDP)",
         "First Valid": "1994-03-22T00:00:00.000000",
         "Last Valid": "2020-11-30T00:00:00.000000",
         "Null Values": 0,
         "_deepnote_index_column": 10
        },
        {
         "Features": "FDI(%GDP)",
         "First Valid": "1994-03-22T00:00:00.000000",
         "Last Valid": "2020-11-30T00:00:00.000000",
         "Null Values": 0,
         "_deepnote_index_column": 11
        },
        {
         "Features": "MXN_30_ave",
         "First Valid": "1994-03-22T00:00:00.000000",
         "Last Valid": "2020-11-30T00:00:00.000000",
         "Null Values": 0,
         "_deepnote_index_column": 12
        },
        {
         "Features": "MXN_60_ave",
         "First Valid": "1994-03-22T00:00:00.000000",
         "Last Valid": "2020-11-30T00:00:00.000000",
         "Null Values": 0,
         "_deepnote_index_column": 13
        },
        {
         "Features": "MXN_90_ave",
         "First Valid": "1994-03-22T00:00:00.000000",
         "Last Valid": "2020-11-30T00:00:00.000000",
         "Null Values": 0,
         "_deepnote_index_column": 14
        },
        {
         "Features": "MoY_is_1",
         "First Valid": "1994-03-22T00:00:00.000000",
         "Last Valid": "2020-11-30T00:00:00.000000",
         "Null Values": 0,
         "_deepnote_index_column": 15
        },
        {
         "Features": "MoY_is_2",
         "First Valid": "1994-03-22T00:00:00.000000",
         "Last Valid": "2020-11-30T00:00:00.000000",
         "Null Values": 0,
         "_deepnote_index_column": 16
        },
        {
         "Features": "MoY_is_3",
         "First Valid": "1994-03-22T00:00:00.000000",
         "Last Valid": "2020-11-30T00:00:00.000000",
         "Null Values": 0,
         "_deepnote_index_column": 17
        },
        {
         "Features": "MoY_is_4",
         "First Valid": "1994-03-22T00:00:00.000000",
         "Last Valid": "2020-11-30T00:00:00.000000",
         "Null Values": 0,
         "_deepnote_index_column": 18
        },
        {
         "Features": "MoY_is_5",
         "First Valid": "1994-03-22T00:00:00.000000",
         "Last Valid": "2020-11-30T00:00:00.000000",
         "Null Values": 0,
         "_deepnote_index_column": 19
        },
        {
         "Features": "MoY_is_6",
         "First Valid": "1994-03-22T00:00:00.000000",
         "Last Valid": "2020-11-30T00:00:00.000000",
         "Null Values": 0,
         "_deepnote_index_column": 20
        },
        {
         "Features": "MoY_is_7",
         "First Valid": "1994-03-22T00:00:00.000000",
         "Last Valid": "2020-11-30T00:00:00.000000",
         "Null Values": 0,
         "_deepnote_index_column": 21
        },
        {
         "Features": "MoY_is_8",
         "First Valid": "1994-03-22T00:00:00.000000",
         "Last Valid": "2020-11-30T00:00:00.000000",
         "Null Values": 0,
         "_deepnote_index_column": 22
        },
        {
         "Features": "MoY_is_9",
         "First Valid": "1994-03-22T00:00:00.000000",
         "Last Valid": "2020-11-30T00:00:00.000000",
         "Null Values": 0,
         "_deepnote_index_column": 23
        },
        {
         "Features": "MoY_is_10",
         "First Valid": "1994-03-22T00:00:00.000000",
         "Last Valid": "2020-11-30T00:00:00.000000",
         "Null Values": 0,
         "_deepnote_index_column": 24
        },
        {
         "Features": "MoY_is_11",
         "First Valid": "1994-03-22T00:00:00.000000",
         "Last Valid": "2020-11-30T00:00:00.000000",
         "Null Values": 0,
         "_deepnote_index_column": 25
        },
        {
         "Features": "MoY_is_12",
         "First Valid": "1994-03-22T00:00:00.000000",
         "Last Valid": "2020-11-30T00:00:00.000000",
         "Null Values": 0,
         "_deepnote_index_column": 26
        }
       ],
       "rows_bottom": null
      },
      "text/plain": "                        Features First Valid Last Valid  Null Values\n0                            MXN  1994-03-22 2020-11-30            0\n1                        sin_DoY  1994-03-22 2020-11-30            0\n2              Inflation (CPI) %  1994-03-22 2020-11-30            0\n3        Deposit Interest Rate %  1994-03-22 2020-11-30            0\n4        Lending Interest Rate %  1994-03-22 2020-11-30            0\n5                   Exports(USD)  1994-03-22 2020-11-30            0\n6                 NY.GDP.MKTP.CD  1994-03-22 2020-11-30            0\n7          Real Interest Rate(%)  1994-03-22 2020-11-30            0\n8   Foreign Exchange Reserves(%)  1994-03-22 2020-11-30            0\n9             REED 12mth std dev  1994-03-22 2020-11-30            0\n10         Current Account(%GDP)  1994-03-22 2020-11-30            0\n11                     FDI(%GDP)  1994-03-22 2020-11-30            0\n12                    MXN_30_ave  1994-03-22 2020-11-30            0\n13                    MXN_60_ave  1994-03-22 2020-11-30            0\n14                    MXN_90_ave  1994-03-22 2020-11-30            0\n15                      MoY_is_1  1994-03-22 2020-11-30            0\n16                      MoY_is_2  1994-03-22 2020-11-30            0\n17                      MoY_is_3  1994-03-22 2020-11-30            0\n18                      MoY_is_4  1994-03-22 2020-11-30            0\n19                      MoY_is_5  1994-03-22 2020-11-30            0\n20                      MoY_is_6  1994-03-22 2020-11-30            0\n21                      MoY_is_7  1994-03-22 2020-11-30            0\n22                      MoY_is_8  1994-03-22 2020-11-30            0\n23                      MoY_is_9  1994-03-22 2020-11-30            0\n24                     MoY_is_10  1994-03-22 2020-11-30            0\n25                     MoY_is_11  1994-03-22 2020-11-30            0\n26                     MoY_is_12  1994-03-22 2020-11-30            0",
      "text/html": "<div>\n<style scoped>\n    .dataframe tbody tr th:only-of-type {\n        vertical-align: middle;\n    }\n\n    .dataframe tbody tr th {\n        vertical-align: top;\n    }\n\n    .dataframe thead th {\n        text-align: right;\n    }\n</style>\n<table border=\"1\" class=\"dataframe\">\n  <thead>\n    <tr style=\"text-align: right;\">\n      <th></th>\n      <th>Features</th>\n      <th>First Valid</th>\n      <th>Last Valid</th>\n      <th>Null Values</th>\n    </tr>\n  </thead>\n  <tbody>\n    <tr>\n      <th>0</th>\n      <td>MXN</td>\n      <td>1994-03-22</td>\n      <td>2020-11-30</td>\n      <td>0</td>\n    </tr>\n    <tr>\n      <th>1</th>\n      <td>sin_DoY</td>\n      <td>1994-03-22</td>\n      <td>2020-11-30</td>\n      <td>0</td>\n    </tr>\n    <tr>\n      <th>2</th>\n      <td>Inflation (CPI) %</td>\n      <td>1994-03-22</td>\n      <td>2020-11-30</td>\n      <td>0</td>\n    </tr>\n    <tr>\n      <th>3</th>\n      <td>Deposit Interest Rate %</td>\n      <td>1994-03-22</td>\n      <td>2020-11-30</td>\n      <td>0</td>\n    </tr>\n    <tr>\n      <th>4</th>\n      <td>Lending Interest Rate %</td>\n      <td>1994-03-22</td>\n      <td>2020-11-30</td>\n      <td>0</td>\n    </tr>\n    <tr>\n      <th>5</th>\n      <td>Exports(USD)</td>\n      <td>1994-03-22</td>\n      <td>2020-11-30</td>\n      <td>0</td>\n    </tr>\n    <tr>\n      <th>6</th>\n      <td>NY.GDP.MKTP.CD</td>\n      <td>1994-03-22</td>\n      <td>2020-11-30</td>\n      <td>0</td>\n    </tr>\n    <tr>\n      <th>7</th>\n      <td>Real Interest Rate(%)</td>\n      <td>1994-03-22</td>\n      <td>2020-11-30</td>\n      <td>0</td>\n    </tr>\n    <tr>\n      <th>8</th>\n      <td>Foreign Exchange Reserves(%)</td>\n      <td>1994-03-22</td>\n      <td>2020-11-30</td>\n      <td>0</td>\n    </tr>\n    <tr>\n      <th>9</th>\n      <td>REED 12mth std dev</td>\n      <td>1994-03-22</td>\n      <td>2020-11-30</td>\n      <td>0</td>\n    </tr>\n    <tr>\n      <th>10</th>\n      <td>Current Account(%GDP)</td>\n      <td>1994-03-22</td>\n      <td>2020-11-30</td>\n      <td>0</td>\n    </tr>\n    <tr>\n      <th>11</th>\n      <td>FDI(%GDP)</td>\n      <td>1994-03-22</td>\n      <td>2020-11-30</td>\n      <td>0</td>\n    </tr>\n    <tr>\n      <th>12</th>\n      <td>MXN_30_ave</td>\n      <td>1994-03-22</td>\n      <td>2020-11-30</td>\n      <td>0</td>\n    </tr>\n    <tr>\n      <th>13</th>\n      <td>MXN_60_ave</td>\n      <td>1994-03-22</td>\n      <td>2020-11-30</td>\n      <td>0</td>\n    </tr>\n    <tr>\n      <th>14</th>\n      <td>MXN_90_ave</td>\n      <td>1994-03-22</td>\n      <td>2020-11-30</td>\n      <td>0</td>\n    </tr>\n    <tr>\n      <th>15</th>\n      <td>MoY_is_1</td>\n      <td>1994-03-22</td>\n      <td>2020-11-30</td>\n      <td>0</td>\n    </tr>\n    <tr>\n      <th>16</th>\n      <td>MoY_is_2</td>\n      <td>1994-03-22</td>\n      <td>2020-11-30</td>\n      <td>0</td>\n    </tr>\n    <tr>\n      <th>17</th>\n      <td>MoY_is_3</td>\n      <td>1994-03-22</td>\n      <td>2020-11-30</td>\n      <td>0</td>\n    </tr>\n    <tr>\n      <th>18</th>\n      <td>MoY_is_4</td>\n      <td>1994-03-22</td>\n      <td>2020-11-30</td>\n      <td>0</td>\n    </tr>\n    <tr>\n      <th>19</th>\n      <td>MoY_is_5</td>\n      <td>1994-03-22</td>\n      <td>2020-11-30</td>\n      <td>0</td>\n    </tr>\n    <tr>\n      <th>20</th>\n      <td>MoY_is_6</td>\n      <td>1994-03-22</td>\n      <td>2020-11-30</td>\n      <td>0</td>\n    </tr>\n    <tr>\n      <th>21</th>\n      <td>MoY_is_7</td>\n      <td>1994-03-22</td>\n      <td>2020-11-30</td>\n      <td>0</td>\n    </tr>\n    <tr>\n      <th>22</th>\n      <td>MoY_is_8</td>\n      <td>1994-03-22</td>\n      <td>2020-11-30</td>\n      <td>0</td>\n    </tr>\n    <tr>\n      <th>23</th>\n      <td>MoY_is_9</td>\n      <td>1994-03-22</td>\n      <td>2020-11-30</td>\n      <td>0</td>\n    </tr>\n    <tr>\n      <th>24</th>\n      <td>MoY_is_10</td>\n      <td>1994-03-22</td>\n      <td>2020-11-30</td>\n      <td>0</td>\n    </tr>\n    <tr>\n      <th>25</th>\n      <td>MoY_is_11</td>\n      <td>1994-03-22</td>\n      <td>2020-11-30</td>\n      <td>0</td>\n    </tr>\n    <tr>\n      <th>26</th>\n      <td>MoY_is_12</td>\n      <td>1994-03-22</td>\n      <td>2020-11-30</td>\n      <td>0</td>\n    </tr>\n  </tbody>\n</table>\n</div>"
     },
     "metadata": {}
    }
   ]
  },
  {
   "cell_type": "code",
   "metadata": {
    "cell_id": "00010-7213402e-071f-453b-b490-49385f2e8fbb",
    "deepnote_to_be_reexecuted": false,
    "source_hash": "a6df5abb",
    "execution_start": 1628724669321,
    "execution_millis": 105,
    "deepnote_cell_type": "code"
   },
   "source": "# Shift DF so that there is a FX_X and FX_Y at the start & end of the DF, respectively. \nMEX_SHF = DG.shift_FX(MEX_copy)\nMEX_SHF.head(3)",
   "execution_count": 11,
   "outputs": [
    {
     "output_type": "execute_result",
     "execution_count": 11,
     "data": {
      "application/vnd.deepnote.dataframe.v2+json": {
       "row_count": 3,
       "column_count": 28,
       "columns": [
        {
         "name": "MXN_X",
         "dtype": "float64",
         "stats": {
          "unique_count": 3,
          "nan_count": 0,
          "min": "3.33",
          "max": "3.3586",
          "histogram": [
           {
            "bin_start": 3.33,
            "bin_end": 3.33286,
            "count": 1
           },
           {
            "bin_start": 3.33286,
            "bin_end": 3.3357200000000002,
            "count": 0
           },
           {
            "bin_start": 3.3357200000000002,
            "bin_end": 3.33858,
            "count": 1
           },
           {
            "bin_start": 3.33858,
            "bin_end": 3.34144,
            "count": 0
           },
           {
            "bin_start": 3.34144,
            "bin_end": 3.3443,
            "count": 0
           },
           {
            "bin_start": 3.3443,
            "bin_end": 3.34716,
            "count": 0
           },
           {
            "bin_start": 3.34716,
            "bin_end": 3.35002,
            "count": 0
           },
           {
            "bin_start": 3.35002,
            "bin_end": 3.35288,
            "count": 0
           },
           {
            "bin_start": 3.35288,
            "bin_end": 3.35574,
            "count": 0
           },
           {
            "bin_start": 3.35574,
            "bin_end": 3.3586,
            "count": 1
           }
          ]
         }
        },
        {
         "name": "sin_DoY",
         "dtype": "float64",
         "stats": {
          "unique_count": 3,
          "nan_count": 0,
          "min": "0.9844738167520922",
          "max": "0.995918996147179",
          "histogram": [
           {
            "bin_start": 0.9844738167520922,
            "bin_end": 0.9856183346916009,
            "count": 1
           },
           {
            "bin_start": 0.9856183346916009,
            "bin_end": 0.9867628526311096,
            "count": 0
           },
           {
            "bin_start": 0.9867628526311096,
            "bin_end": 0.9879073705706183,
            "count": 0
           },
           {
            "bin_start": 0.9879073705706183,
            "bin_end": 0.9890518885101269,
            "count": 0
           },
           {
            "bin_start": 0.9890518885101269,
            "bin_end": 0.9901964064496356,
            "count": 1
           },
           {
            "bin_start": 0.9901964064496356,
            "bin_end": 0.9913409243891443,
            "count": 0
           },
           {
            "bin_start": 0.9913409243891443,
            "bin_end": 0.992485442328653,
            "count": 0
           },
           {
            "bin_start": 0.992485442328653,
            "bin_end": 0.9936299602681616,
            "count": 0
           },
           {
            "bin_start": 0.9936299602681616,
            "bin_end": 0.9947744782076704,
            "count": 0
           },
           {
            "bin_start": 0.9947744782076704,
            "bin_end": 0.995918996147179,
            "count": 1
           }
          ]
         }
        },
        {
         "name": "Inflation (CPI) %",
         "dtype": "float64",
         "stats": {
          "unique_count": 1,
          "nan_count": 0,
          "min": "19.2003720678136",
          "max": "19.2003720678136",
          "histogram": [
           {
            "bin_start": 18.7003720678136,
            "bin_end": 18.8003720678136,
            "count": 0
           },
           {
            "bin_start": 18.8003720678136,
            "bin_end": 18.9003720678136,
            "count": 0
           },
           {
            "bin_start": 18.9003720678136,
            "bin_end": 19.0003720678136,
            "count": 0
           },
           {
            "bin_start": 19.0003720678136,
            "bin_end": 19.1003720678136,
            "count": 0
           },
           {
            "bin_start": 19.1003720678136,
            "bin_end": 19.2003720678136,
            "count": 0
           },
           {
            "bin_start": 19.2003720678136,
            "bin_end": 19.3003720678136,
            "count": 3
           },
           {
            "bin_start": 19.3003720678136,
            "bin_end": 19.4003720678136,
            "count": 0
           },
           {
            "bin_start": 19.4003720678136,
            "bin_end": 19.5003720678136,
            "count": 0
           },
           {
            "bin_start": 19.5003720678136,
            "bin_end": 19.6003720678136,
            "count": 0
           },
           {
            "bin_start": 19.6003720678136,
            "bin_end": 19.7003720678136,
            "count": 0
           }
          ]
         }
        },
        {
         "name": "Deposit Interest Rate %",
         "dtype": "float64",
         "stats": {
          "unique_count": 1,
          "nan_count": 0,
          "min": "10.16",
          "max": "10.16",
          "histogram": [
           {
            "bin_start": 9.66,
            "bin_end": 9.76,
            "count": 0
           },
           {
            "bin_start": 9.76,
            "bin_end": 9.86,
            "count": 0
           },
           {
            "bin_start": 9.86,
            "bin_end": 9.96,
            "count": 0
           },
           {
            "bin_start": 9.96,
            "bin_end": 10.06,
            "count": 0
           },
           {
            "bin_start": 10.06,
            "bin_end": 10.16,
            "count": 0
           },
           {
            "bin_start": 10.16,
            "bin_end": 10.26,
            "count": 3
           },
           {
            "bin_start": 10.26,
            "bin_end": 10.36,
            "count": 0
           },
           {
            "bin_start": 10.36,
            "bin_end": 10.46,
            "count": 0
           },
           {
            "bin_start": 10.46,
            "bin_end": 10.56,
            "count": 0
           },
           {
            "bin_start": 10.56,
            "bin_end": 10.66,
            "count": 0
           }
          ]
         }
        },
        {
         "name": "Lending Interest Rate %",
         "dtype": "float64",
         "stats": {
          "unique_count": 1,
          "nan_count": 0,
          "min": "13.46",
          "max": "13.46",
          "histogram": [
           {
            "bin_start": 12.96,
            "bin_end": 13.06,
            "count": 0
           },
           {
            "bin_start": 13.06,
            "bin_end": 13.16,
            "count": 0
           },
           {
            "bin_start": 13.16,
            "bin_end": 13.260000000000002,
            "count": 0
           },
           {
            "bin_start": 13.260000000000002,
            "bin_end": 13.360000000000001,
            "count": 0
           },
           {
            "bin_start": 13.360000000000001,
            "bin_end": 13.46,
            "count": 0
           },
           {
            "bin_start": 13.46,
            "bin_end": 13.56,
            "count": 3
           },
           {
            "bin_start": 13.56,
            "bin_end": 13.66,
            "count": 0
           },
           {
            "bin_start": 13.66,
            "bin_end": 13.760000000000002,
            "count": 0
           },
           {
            "bin_start": 13.760000000000002,
            "bin_end": 13.860000000000001,
            "count": 0
           },
           {
            "bin_start": 13.860000000000001,
            "bin_end": 13.96,
            "count": 0
           }
          ]
         }
        },
        {
         "name": "Exports(USD)",
         "dtype": "float64",
         "stats": {
          "unique_count": 1,
          "nan_count": 0,
          "min": "5155500000.0",
          "max": "5155500000.0",
          "histogram": [
           {
            "bin_start": 5155499999.5,
            "bin_end": 5155499999.6,
            "count": 0
           },
           {
            "bin_start": 5155499999.6,
            "bin_end": 5155499999.7,
            "count": 0
           },
           {
            "bin_start": 5155499999.7,
            "bin_end": 5155499999.8,
            "count": 0
           },
           {
            "bin_start": 5155499999.8,
            "bin_end": 5155499999.9,
            "count": 0
           },
           {
            "bin_start": 5155499999.9,
            "bin_end": 5155500000,
            "count": 0
           },
           {
            "bin_start": 5155500000,
            "bin_end": 5155500000.1,
            "count": 3
           },
           {
            "bin_start": 5155500000.1,
            "bin_end": 5155500000.2,
            "count": 0
           },
           {
            "bin_start": 5155500000.2,
            "bin_end": 5155500000.3,
            "count": 0
           },
           {
            "bin_start": 5155500000.3,
            "bin_end": 5155500000.4,
            "count": 0
           },
           {
            "bin_start": 5155500000.4,
            "bin_end": 5155500000.5,
            "count": 0
           }
          ]
         }
        },
        {
         "name": "NY.GDP.MKTP.CD",
         "dtype": "float64",
         "stats": {
          "unique_count": 1,
          "nan_count": 0,
          "min": "527813238126.278",
          "max": "527813238126.278",
          "histogram": [
           {
            "bin_start": 527813238125.778,
            "bin_end": 527813238125.878,
            "count": 0
           },
           {
            "bin_start": 527813238125.878,
            "bin_end": 527813238125.978,
            "count": 0
           },
           {
            "bin_start": 527813238125.978,
            "bin_end": 527813238126.078,
            "count": 0
           },
           {
            "bin_start": 527813238126.078,
            "bin_end": 527813238126.17804,
            "count": 0
           },
           {
            "bin_start": 527813238126.17804,
            "bin_end": 527813238126.278,
            "count": 0
           },
           {
            "bin_start": 527813238126.278,
            "bin_end": 527813238126.378,
            "count": 3
           },
           {
            "bin_start": 527813238126.378,
            "bin_end": 527813238126.478,
            "count": 0
           },
           {
            "bin_start": 527813238126.478,
            "bin_end": 527813238126.578,
            "count": 0
           },
           {
            "bin_start": 527813238126.578,
            "bin_end": 527813238126.67804,
            "count": 0
           },
           {
            "bin_start": 527813238126.67804,
            "bin_end": 527813238126.778,
            "count": 0
           }
          ]
         }
        },
        {
         "name": "Real Interest Rate(%)",
         "dtype": "float64",
         "stats": {
          "unique_count": 1,
          "nan_count": 0,
          "min": "-5.740372067813599",
          "max": "-5.740372067813599",
          "histogram": [
           {
            "bin_start": -6.240372067813599,
            "bin_end": -6.140372067813599,
            "count": 0
           },
           {
            "bin_start": -6.140372067813599,
            "bin_end": -6.040372067813599,
            "count": 0
           },
           {
            "bin_start": -6.040372067813599,
            "bin_end": -5.940372067813599,
            "count": 0
           },
           {
            "bin_start": -5.940372067813599,
            "bin_end": -5.840372067813599,
            "count": 0
           },
           {
            "bin_start": -5.840372067813599,
            "bin_end": -5.740372067813599,
            "count": 0
           },
           {
            "bin_start": -5.740372067813599,
            "bin_end": -5.640372067813599,
            "count": 3
           },
           {
            "bin_start": -5.640372067813599,
            "bin_end": -5.540372067813599,
            "count": 0
           },
           {
            "bin_start": -5.540372067813599,
            "bin_end": -5.440372067813599,
            "count": 0
           },
           {
            "bin_start": -5.440372067813599,
            "bin_end": -5.340372067813599,
            "count": 0
           },
           {
            "bin_start": -5.340372067813599,
            "bin_end": -5.240372067813599,
            "count": 0
           }
          ]
         }
        },
        {
         "name": "Foreign Exchange Reserves(%)",
         "dtype": "float64",
         "stats": {
          "unique_count": 1,
          "nan_count": 0,
          "min": "4.872935754947198",
          "max": "4.872935754947198",
          "histogram": [
           {
            "bin_start": 4.372935754947198,
            "bin_end": 4.472935754947198,
            "count": 0
           },
           {
            "bin_start": 4.472935754947198,
            "bin_end": 4.572935754947198,
            "count": 0
           },
           {
            "bin_start": 4.572935754947198,
            "bin_end": 4.672935754947198,
            "count": 0
           },
           {
            "bin_start": 4.672935754947198,
            "bin_end": 4.7729357549471985,
            "count": 0
           },
           {
            "bin_start": 4.7729357549471985,
            "bin_end": 4.872935754947198,
            "count": 0
           },
           {
            "bin_start": 4.872935754947198,
            "bin_end": 4.972935754947198,
            "count": 3
           },
           {
            "bin_start": 4.972935754947198,
            "bin_end": 5.072935754947198,
            "count": 0
           },
           {
            "bin_start": 5.072935754947198,
            "bin_end": 5.172935754947198,
            "count": 0
           },
           {
            "bin_start": 5.172935754947198,
            "bin_end": 5.2729357549471985,
            "count": 0
           },
           {
            "bin_start": 5.2729357549471985,
            "bin_end": 5.372935754947198,
            "count": 0
           }
          ]
         }
        },
        {
         "name": "REED 12mth std dev",
         "dtype": "float64",
         "stats": {
          "unique_count": 1,
          "nan_count": 0,
          "min": "2.922833646254952",
          "max": "2.922833646254952",
          "histogram": [
           {
            "bin_start": 2.422833646254952,
            "bin_end": 2.522833646254952,
            "count": 0
           },
           {
            "bin_start": 2.522833646254952,
            "bin_end": 2.622833646254952,
            "count": 0
           },
           {
            "bin_start": 2.622833646254952,
            "bin_end": 2.7228336462549523,
            "count": 0
           },
           {
            "bin_start": 2.7228336462549523,
            "bin_end": 2.822833646254952,
            "count": 0
           },
           {
            "bin_start": 2.822833646254952,
            "bin_end": 2.922833646254952,
            "count": 0
           },
           {
            "bin_start": 2.922833646254952,
            "bin_end": 3.022833646254952,
            "count": 3
           },
           {
            "bin_start": 3.022833646254952,
            "bin_end": 3.122833646254952,
            "count": 0
           },
           {
            "bin_start": 3.122833646254952,
            "bin_end": 3.2228336462549523,
            "count": 0
           },
           {
            "bin_start": 3.2228336462549523,
            "bin_end": 3.322833646254952,
            "count": 0
           },
           {
            "bin_start": 3.322833646254952,
            "bin_end": 3.422833646254952,
            "count": 0
           }
          ]
         }
        },
        {
         "name": "Current Account(%GDP)",
         "dtype": "float64",
         "stats": {
          "unique_count": 1,
          "nan_count": 0,
          "min": "-1.2848294643147133",
          "max": "-1.2848294643147133",
          "histogram": [
           {
            "bin_start": -1.7848294643147133,
            "bin_end": -1.6848294643147133,
            "count": 0
           },
           {
            "bin_start": -1.6848294643147133,
            "bin_end": -1.5848294643147134,
            "count": 0
           },
           {
            "bin_start": -1.5848294643147134,
            "bin_end": -1.4848294643147133,
            "count": 0
           },
           {
            "bin_start": -1.4848294643147133,
            "bin_end": -1.3848294643147132,
            "count": 0
           },
           {
            "bin_start": -1.3848294643147132,
            "bin_end": -1.2848294643147133,
            "count": 0
           },
           {
            "bin_start": -1.2848294643147133,
            "bin_end": -1.1848294643147133,
            "count": 3
           },
           {
            "bin_start": -1.1848294643147133,
            "bin_end": -1.0848294643147134,
            "count": 0
           },
           {
            "bin_start": -1.0848294643147134,
            "bin_end": -0.9848294643147133,
            "count": 0
           },
           {
            "bin_start": -0.9848294643147133,
            "bin_end": -0.8848294643147133,
            "count": 0
           },
           {
            "bin_start": -0.8848294643147133,
            "bin_end": -0.7848294643147133,
            "count": 0
           }
          ]
         }
        },
        {
         "name": "FDI(%GDP)",
         "dtype": "float64",
         "stats": {
          "unique_count": 1,
          "nan_count": 0,
          "min": "0.597180929222145",
          "max": "0.597180929222145",
          "histogram": [
           {
            "bin_start": 0.09718092922214505,
            "bin_end": 0.19718092922214506,
            "count": 0
           },
           {
            "bin_start": 0.19718092922214506,
            "bin_end": 0.29718092922214506,
            "count": 0
           },
           {
            "bin_start": 0.29718092922214506,
            "bin_end": 0.3971809292221451,
            "count": 0
           },
           {
            "bin_start": 0.3971809292221451,
            "bin_end": 0.4971809292221451,
            "count": 0
           },
           {
            "bin_start": 0.4971809292221451,
            "bin_end": 0.597180929222145,
            "count": 0
           },
           {
            "bin_start": 0.597180929222145,
            "bin_end": 0.6971809292221451,
            "count": 3
           },
           {
            "bin_start": 0.6971809292221451,
            "bin_end": 0.7971809292221451,
            "count": 0
           },
           {
            "bin_start": 0.7971809292221451,
            "bin_end": 0.8971809292221451,
            "count": 0
           },
           {
            "bin_start": 0.8971809292221451,
            "bin_end": 0.9971809292221451,
            "count": 0
           },
           {
            "bin_start": 0.9971809292221451,
            "bin_end": 1.097180929222145,
            "count": 0
           }
          ]
         }
        },
        {
         "name": "MXN_30_ave",
         "dtype": "float64",
         "stats": {
          "unique_count": 3,
          "nan_count": 0,
          "min": "3.2182166666666685",
          "max": "3.235130000000001",
          "histogram": [
           {
            "bin_start": 3.2182166666666685,
            "bin_end": 3.219908000000002,
            "count": 1
           },
           {
            "bin_start": 3.219908000000002,
            "bin_end": 3.221599333333335,
            "count": 0
           },
           {
            "bin_start": 3.221599333333335,
            "bin_end": 3.223290666666668,
            "count": 0
           },
           {
            "bin_start": 3.223290666666668,
            "bin_end": 3.2249820000000016,
            "count": 0
           },
           {
            "bin_start": 3.2249820000000016,
            "bin_end": 3.226673333333335,
            "count": 1
           },
           {
            "bin_start": 3.226673333333335,
            "bin_end": 3.228364666666668,
            "count": 0
           },
           {
            "bin_start": 3.228364666666668,
            "bin_end": 3.230056000000001,
            "count": 0
           },
           {
            "bin_start": 3.230056000000001,
            "bin_end": 3.2317473333333346,
            "count": 0
           },
           {
            "bin_start": 3.2317473333333346,
            "bin_end": 3.233438666666668,
            "count": 0
           },
           {
            "bin_start": 3.233438666666668,
            "bin_end": 3.235130000000001,
            "count": 1
           }
          ]
         }
        },
        {
         "name": "MXN_60_ave",
         "dtype": "float64",
         "stats": {
          "unique_count": 3,
          "nan_count": 0,
          "min": "3.1627116666666635",
          "max": "3.1711516666666637",
          "histogram": [
           {
            "bin_start": 3.1627116666666635,
            "bin_end": 3.1635556666666633,
            "count": 1
           },
           {
            "bin_start": 3.1635556666666633,
            "bin_end": 3.1643996666666636,
            "count": 0
           },
           {
            "bin_start": 3.1643996666666636,
            "bin_end": 3.1652436666666635,
            "count": 0
           },
           {
            "bin_start": 3.1652436666666635,
            "bin_end": 3.1660876666666637,
            "count": 0
           },
           {
            "bin_start": 3.1660876666666637,
            "bin_end": 3.1669316666666636,
            "count": 1
           },
           {
            "bin_start": 3.1669316666666636,
            "bin_end": 3.1677756666666634,
            "count": 0
           },
           {
            "bin_start": 3.1677756666666634,
            "bin_end": 3.1686196666666637,
            "count": 0
           },
           {
            "bin_start": 3.1686196666666637,
            "bin_end": 3.1694636666666636,
            "count": 0
           },
           {
            "bin_start": 3.1694636666666636,
            "bin_end": 3.170307666666664,
            "count": 0
           },
           {
            "bin_start": 3.170307666666664,
            "bin_end": 3.1711516666666637,
            "count": 1
           }
          ]
         }
        },
        {
         "name": "MXN_90_ave",
         "dtype": "float64",
         "stats": {
          "unique_count": 3,
          "nan_count": 0,
          "min": "3.1501211111111096",
          "max": "3.152769999999999",
          "histogram": [
           {
            "bin_start": 3.1501211111111096,
            "bin_end": 3.1503859999999984,
            "count": 1
           },
           {
            "bin_start": 3.1503859999999984,
            "bin_end": 3.1506508888888876,
            "count": 0
           },
           {
            "bin_start": 3.1506508888888876,
            "bin_end": 3.1509157777777763,
            "count": 0
           },
           {
            "bin_start": 3.1509157777777763,
            "bin_end": 3.1511806666666655,
            "count": 0
           },
           {
            "bin_start": 3.1511806666666655,
            "bin_end": 3.1514455555555543,
            "count": 1
           },
           {
            "bin_start": 3.1514455555555543,
            "bin_end": 3.151710444444443,
            "count": 0
           },
           {
            "bin_start": 3.151710444444443,
            "bin_end": 3.1519753333333322,
            "count": 0
           },
           {
            "bin_start": 3.1519753333333322,
            "bin_end": 3.152240222222221,
            "count": 0
           },
           {
            "bin_start": 3.152240222222221,
            "bin_end": 3.15250511111111,
            "count": 0
           },
           {
            "bin_start": 3.15250511111111,
            "bin_end": 3.152769999999999,
            "count": 1
           }
          ]
         }
        },
        {
         "name": "MoY_is_1",
         "dtype": "uint8",
         "stats": {
          "unique_count": 1,
          "nan_count": 0,
          "min": "0",
          "max": "0",
          "histogram": [
           {
            "bin_start": -0.5,
            "bin_end": -0.4,
            "count": 0
           },
           {
            "bin_start": -0.4,
            "bin_end": -0.3,
            "count": 0
           },
           {
            "bin_start": -0.3,
            "bin_end": -0.19999999999999996,
            "count": 0
           },
           {
            "bin_start": -0.19999999999999996,
            "bin_end": -0.09999999999999998,
            "count": 0
           },
           {
            "bin_start": -0.09999999999999998,
            "bin_end": 0,
            "count": 0
           },
           {
            "bin_start": 0,
            "bin_end": 0.10000000000000009,
            "count": 3
           },
           {
            "bin_start": 0.10000000000000009,
            "bin_end": 0.20000000000000007,
            "count": 0
           },
           {
            "bin_start": 0.20000000000000007,
            "bin_end": 0.30000000000000004,
            "count": 0
           },
           {
            "bin_start": 0.30000000000000004,
            "bin_end": 0.4,
            "count": 0
           },
           {
            "bin_start": 0.4,
            "bin_end": 0.5,
            "count": 0
           }
          ]
         }
        },
        {
         "name": "MoY_is_2",
         "dtype": "uint8",
         "stats": {
          "unique_count": 1,
          "nan_count": 0,
          "min": "0",
          "max": "0",
          "histogram": [
           {
            "bin_start": -0.5,
            "bin_end": -0.4,
            "count": 0
           },
           {
            "bin_start": -0.4,
            "bin_end": -0.3,
            "count": 0
           },
           {
            "bin_start": -0.3,
            "bin_end": -0.19999999999999996,
            "count": 0
           },
           {
            "bin_start": -0.19999999999999996,
            "bin_end": -0.09999999999999998,
            "count": 0
           },
           {
            "bin_start": -0.09999999999999998,
            "bin_end": 0,
            "count": 0
           },
           {
            "bin_start": 0,
            "bin_end": 0.10000000000000009,
            "count": 3
           },
           {
            "bin_start": 0.10000000000000009,
            "bin_end": 0.20000000000000007,
            "count": 0
           },
           {
            "bin_start": 0.20000000000000007,
            "bin_end": 0.30000000000000004,
            "count": 0
           },
           {
            "bin_start": 0.30000000000000004,
            "bin_end": 0.4,
            "count": 0
           },
           {
            "bin_start": 0.4,
            "bin_end": 0.5,
            "count": 0
           }
          ]
         }
        },
        {
         "name": "MoY_is_3",
         "dtype": "uint8",
         "stats": {
          "unique_count": 1,
          "nan_count": 0,
          "min": "1",
          "max": "1",
          "histogram": [
           {
            "bin_start": 0.5,
            "bin_end": 0.6,
            "count": 0
           },
           {
            "bin_start": 0.6,
            "bin_end": 0.7,
            "count": 0
           },
           {
            "bin_start": 0.7,
            "bin_end": 0.8,
            "count": 0
           },
           {
            "bin_start": 0.8,
            "bin_end": 0.9,
            "count": 0
           },
           {
            "bin_start": 0.9,
            "bin_end": 1,
            "count": 0
           },
           {
            "bin_start": 1,
            "bin_end": 1.1,
            "count": 3
           },
           {
            "bin_start": 1.1,
            "bin_end": 1.2000000000000002,
            "count": 0
           },
           {
            "bin_start": 1.2000000000000002,
            "bin_end": 1.3,
            "count": 0
           },
           {
            "bin_start": 1.3,
            "bin_end": 1.4,
            "count": 0
           },
           {
            "bin_start": 1.4,
            "bin_end": 1.5,
            "count": 0
           }
          ]
         }
        },
        {
         "name": "MoY_is_4",
         "dtype": "uint8",
         "stats": {
          "unique_count": 1,
          "nan_count": 0,
          "min": "0",
          "max": "0",
          "histogram": [
           {
            "bin_start": -0.5,
            "bin_end": -0.4,
            "count": 0
           },
           {
            "bin_start": -0.4,
            "bin_end": -0.3,
            "count": 0
           },
           {
            "bin_start": -0.3,
            "bin_end": -0.19999999999999996,
            "count": 0
           },
           {
            "bin_start": -0.19999999999999996,
            "bin_end": -0.09999999999999998,
            "count": 0
           },
           {
            "bin_start": -0.09999999999999998,
            "bin_end": 0,
            "count": 0
           },
           {
            "bin_start": 0,
            "bin_end": 0.10000000000000009,
            "count": 3
           },
           {
            "bin_start": 0.10000000000000009,
            "bin_end": 0.20000000000000007,
            "count": 0
           },
           {
            "bin_start": 0.20000000000000007,
            "bin_end": 0.30000000000000004,
            "count": 0
           },
           {
            "bin_start": 0.30000000000000004,
            "bin_end": 0.4,
            "count": 0
           },
           {
            "bin_start": 0.4,
            "bin_end": 0.5,
            "count": 0
           }
          ]
         }
        },
        {
         "name": "MoY_is_5",
         "dtype": "uint8",
         "stats": {
          "unique_count": 1,
          "nan_count": 0,
          "min": "0",
          "max": "0",
          "histogram": [
           {
            "bin_start": -0.5,
            "bin_end": -0.4,
            "count": 0
           },
           {
            "bin_start": -0.4,
            "bin_end": -0.3,
            "count": 0
           },
           {
            "bin_start": -0.3,
            "bin_end": -0.19999999999999996,
            "count": 0
           },
           {
            "bin_start": -0.19999999999999996,
            "bin_end": -0.09999999999999998,
            "count": 0
           },
           {
            "bin_start": -0.09999999999999998,
            "bin_end": 0,
            "count": 0
           },
           {
            "bin_start": 0,
            "bin_end": 0.10000000000000009,
            "count": 3
           },
           {
            "bin_start": 0.10000000000000009,
            "bin_end": 0.20000000000000007,
            "count": 0
           },
           {
            "bin_start": 0.20000000000000007,
            "bin_end": 0.30000000000000004,
            "count": 0
           },
           {
            "bin_start": 0.30000000000000004,
            "bin_end": 0.4,
            "count": 0
           },
           {
            "bin_start": 0.4,
            "bin_end": 0.5,
            "count": 0
           }
          ]
         }
        },
        {
         "name": "MoY_is_6",
         "dtype": "uint8",
         "stats": {
          "unique_count": 1,
          "nan_count": 0,
          "min": "0",
          "max": "0",
          "histogram": [
           {
            "bin_start": -0.5,
            "bin_end": -0.4,
            "count": 0
           },
           {
            "bin_start": -0.4,
            "bin_end": -0.3,
            "count": 0
           },
           {
            "bin_start": -0.3,
            "bin_end": -0.19999999999999996,
            "count": 0
           },
           {
            "bin_start": -0.19999999999999996,
            "bin_end": -0.09999999999999998,
            "count": 0
           },
           {
            "bin_start": -0.09999999999999998,
            "bin_end": 0,
            "count": 0
           },
           {
            "bin_start": 0,
            "bin_end": 0.10000000000000009,
            "count": 3
           },
           {
            "bin_start": 0.10000000000000009,
            "bin_end": 0.20000000000000007,
            "count": 0
           },
           {
            "bin_start": 0.20000000000000007,
            "bin_end": 0.30000000000000004,
            "count": 0
           },
           {
            "bin_start": 0.30000000000000004,
            "bin_end": 0.4,
            "count": 0
           },
           {
            "bin_start": 0.4,
            "bin_end": 0.5,
            "count": 0
           }
          ]
         }
        },
        {
         "name": "MoY_is_7",
         "dtype": "uint8",
         "stats": {
          "unique_count": 1,
          "nan_count": 0,
          "min": "0",
          "max": "0",
          "histogram": [
           {
            "bin_start": -0.5,
            "bin_end": -0.4,
            "count": 0
           },
           {
            "bin_start": -0.4,
            "bin_end": -0.3,
            "count": 0
           },
           {
            "bin_start": -0.3,
            "bin_end": -0.19999999999999996,
            "count": 0
           },
           {
            "bin_start": -0.19999999999999996,
            "bin_end": -0.09999999999999998,
            "count": 0
           },
           {
            "bin_start": -0.09999999999999998,
            "bin_end": 0,
            "count": 0
           },
           {
            "bin_start": 0,
            "bin_end": 0.10000000000000009,
            "count": 3
           },
           {
            "bin_start": 0.10000000000000009,
            "bin_end": 0.20000000000000007,
            "count": 0
           },
           {
            "bin_start": 0.20000000000000007,
            "bin_end": 0.30000000000000004,
            "count": 0
           },
           {
            "bin_start": 0.30000000000000004,
            "bin_end": 0.4,
            "count": 0
           },
           {
            "bin_start": 0.4,
            "bin_end": 0.5,
            "count": 0
           }
          ]
         }
        },
        {
         "name": "MoY_is_8",
         "dtype": "uint8",
         "stats": {
          "unique_count": 1,
          "nan_count": 0,
          "min": "0",
          "max": "0",
          "histogram": [
           {
            "bin_start": -0.5,
            "bin_end": -0.4,
            "count": 0
           },
           {
            "bin_start": -0.4,
            "bin_end": -0.3,
            "count": 0
           },
           {
            "bin_start": -0.3,
            "bin_end": -0.19999999999999996,
            "count": 0
           },
           {
            "bin_start": -0.19999999999999996,
            "bin_end": -0.09999999999999998,
            "count": 0
           },
           {
            "bin_start": -0.09999999999999998,
            "bin_end": 0,
            "count": 0
           },
           {
            "bin_start": 0,
            "bin_end": 0.10000000000000009,
            "count": 3
           },
           {
            "bin_start": 0.10000000000000009,
            "bin_end": 0.20000000000000007,
            "count": 0
           },
           {
            "bin_start": 0.20000000000000007,
            "bin_end": 0.30000000000000004,
            "count": 0
           },
           {
            "bin_start": 0.30000000000000004,
            "bin_end": 0.4,
            "count": 0
           },
           {
            "bin_start": 0.4,
            "bin_end": 0.5,
            "count": 0
           }
          ]
         }
        },
        {
         "name": "MoY_is_9",
         "dtype": "uint8",
         "stats": {
          "unique_count": 1,
          "nan_count": 0,
          "min": "0",
          "max": "0",
          "histogram": [
           {
            "bin_start": -0.5,
            "bin_end": -0.4,
            "count": 0
           },
           {
            "bin_start": -0.4,
            "bin_end": -0.3,
            "count": 0
           },
           {
            "bin_start": -0.3,
            "bin_end": -0.19999999999999996,
            "count": 0
           },
           {
            "bin_start": -0.19999999999999996,
            "bin_end": -0.09999999999999998,
            "count": 0
           },
           {
            "bin_start": -0.09999999999999998,
            "bin_end": 0,
            "count": 0
           },
           {
            "bin_start": 0,
            "bin_end": 0.10000000000000009,
            "count": 3
           },
           {
            "bin_start": 0.10000000000000009,
            "bin_end": 0.20000000000000007,
            "count": 0
           },
           {
            "bin_start": 0.20000000000000007,
            "bin_end": 0.30000000000000004,
            "count": 0
           },
           {
            "bin_start": 0.30000000000000004,
            "bin_end": 0.4,
            "count": 0
           },
           {
            "bin_start": 0.4,
            "bin_end": 0.5,
            "count": 0
           }
          ]
         }
        },
        {
         "name": "MoY_is_10",
         "dtype": "uint8",
         "stats": {
          "unique_count": 1,
          "nan_count": 0,
          "min": "0",
          "max": "0",
          "histogram": [
           {
            "bin_start": -0.5,
            "bin_end": -0.4,
            "count": 0
           },
           {
            "bin_start": -0.4,
            "bin_end": -0.3,
            "count": 0
           },
           {
            "bin_start": -0.3,
            "bin_end": -0.19999999999999996,
            "count": 0
           },
           {
            "bin_start": -0.19999999999999996,
            "bin_end": -0.09999999999999998,
            "count": 0
           },
           {
            "bin_start": -0.09999999999999998,
            "bin_end": 0,
            "count": 0
           },
           {
            "bin_start": 0,
            "bin_end": 0.10000000000000009,
            "count": 3
           },
           {
            "bin_start": 0.10000000000000009,
            "bin_end": 0.20000000000000007,
            "count": 0
           },
           {
            "bin_start": 0.20000000000000007,
            "bin_end": 0.30000000000000004,
            "count": 0
           },
           {
            "bin_start": 0.30000000000000004,
            "bin_end": 0.4,
            "count": 0
           },
           {
            "bin_start": 0.4,
            "bin_end": 0.5,
            "count": 0
           }
          ]
         }
        },
        {
         "name": "MoY_is_11",
         "dtype": "uint8",
         "stats": {
          "unique_count": 1,
          "nan_count": 0,
          "min": "0",
          "max": "0",
          "histogram": [
           {
            "bin_start": -0.5,
            "bin_end": -0.4,
            "count": 0
           },
           {
            "bin_start": -0.4,
            "bin_end": -0.3,
            "count": 0
           },
           {
            "bin_start": -0.3,
            "bin_end": -0.19999999999999996,
            "count": 0
           },
           {
            "bin_start": -0.19999999999999996,
            "bin_end": -0.09999999999999998,
            "count": 0
           },
           {
            "bin_start": -0.09999999999999998,
            "bin_end": 0,
            "count": 0
           },
           {
            "bin_start": 0,
            "bin_end": 0.10000000000000009,
            "count": 3
           },
           {
            "bin_start": 0.10000000000000009,
            "bin_end": 0.20000000000000007,
            "count": 0
           },
           {
            "bin_start": 0.20000000000000007,
            "bin_end": 0.30000000000000004,
            "count": 0
           },
           {
            "bin_start": 0.30000000000000004,
            "bin_end": 0.4,
            "count": 0
           },
           {
            "bin_start": 0.4,
            "bin_end": 0.5,
            "count": 0
           }
          ]
         }
        },
        {
         "name": "MoY_is_12",
         "dtype": "uint8",
         "stats": {
          "unique_count": 1,
          "nan_count": 0,
          "min": "0",
          "max": "0",
          "histogram": [
           {
            "bin_start": -0.5,
            "bin_end": -0.4,
            "count": 0
           },
           {
            "bin_start": -0.4,
            "bin_end": -0.3,
            "count": 0
           },
           {
            "bin_start": -0.3,
            "bin_end": -0.19999999999999996,
            "count": 0
           },
           {
            "bin_start": -0.19999999999999996,
            "bin_end": -0.09999999999999998,
            "count": 0
           },
           {
            "bin_start": -0.09999999999999998,
            "bin_end": 0,
            "count": 0
           },
           {
            "bin_start": 0,
            "bin_end": 0.10000000000000009,
            "count": 3
           },
           {
            "bin_start": 0.10000000000000009,
            "bin_end": 0.20000000000000007,
            "count": 0
           },
           {
            "bin_start": 0.20000000000000007,
            "bin_end": 0.30000000000000004,
            "count": 0
           },
           {
            "bin_start": 0.30000000000000004,
            "bin_end": 0.4,
            "count": 0
           },
           {
            "bin_start": 0.4,
            "bin_end": 0.5,
            "count": 0
           }
          ]
         }
        },
        {
         "name": "MXN_Y",
         "dtype": "float64",
         "stats": {
          "unique_count": 3,
          "nan_count": 0,
          "min": "3.3375",
          "max": "3.3598",
          "histogram": [
           {
            "bin_start": 3.3375,
            "bin_end": 3.33973,
            "count": 1
           },
           {
            "bin_start": 3.33973,
            "bin_end": 3.34196,
            "count": 0
           },
           {
            "bin_start": 3.34196,
            "bin_end": 3.3441899999999998,
            "count": 0
           },
           {
            "bin_start": 3.3441899999999998,
            "bin_end": 3.3464199999999997,
            "count": 0
           },
           {
            "bin_start": 3.3464199999999997,
            "bin_end": 3.34865,
            "count": 0
           },
           {
            "bin_start": 3.34865,
            "bin_end": 3.35088,
            "count": 0
           },
           {
            "bin_start": 3.35088,
            "bin_end": 3.35311,
            "count": 0
           },
           {
            "bin_start": 3.35311,
            "bin_end": 3.35534,
            "count": 0
           },
           {
            "bin_start": 3.35534,
            "bin_end": 3.35757,
            "count": 0
           },
           {
            "bin_start": 3.35757,
            "bin_end": 3.3598,
            "count": 2
           }
          ]
         }
        },
        {
         "name": "_deepnote_index_column",
         "dtype": "datetime64[ns]"
        }
       ],
       "rows_top": [
        {
         "MXN_X": 3.33,
         "sin_DoY": 0.9844738167520922,
         "Inflation (CPI) %": 19.2003720678136,
         "Deposit Interest Rate %": 10.16,
         "Lending Interest Rate %": 13.46,
         "Exports(USD)": 5155500000,
         "NY.GDP.MKTP.CD": 527813238126.278,
         "Real Interest Rate(%)": -5.740372067813599,
         "Foreign Exchange Reserves(%)": 4.872935754947198,
         "REED 12mth std dev": 2.922833646254952,
         "Current Account(%GDP)": -1.2848294643147133,
         "FDI(%GDP)": 0.597180929222145,
         "MXN_30_ave": 3.2182166666666685,
         "MXN_60_ave": 3.1627116666666635,
         "MXN_90_ave": 3.1501211111111096,
         "MoY_is_1": 0,
         "MoY_is_2": 0,
         "MoY_is_3": 1,
         "MoY_is_4": 0,
         "MoY_is_5": 0,
         "MoY_is_6": 0,
         "MoY_is_7": 0,
         "MoY_is_8": 0,
         "MoY_is_9": 0,
         "MoY_is_10": 0,
         "MoY_is_11": 0,
         "MoY_is_12": 0,
         "MXN_Y": 3.3375,
         "_deepnote_index_column": "1994-03-23T00:00:00.000000"
        },
        {
         "MXN_X": 3.3375,
         "sin_DoY": 0.989932495087353,
         "Inflation (CPI) %": 19.2003720678136,
         "Deposit Interest Rate %": 10.16,
         "Lending Interest Rate %": 13.46,
         "Exports(USD)": 5155500000,
         "NY.GDP.MKTP.CD": 527813238126.278,
         "Real Interest Rate(%)": -5.740372067813599,
         "Foreign Exchange Reserves(%)": 4.872935754947198,
         "REED 12mth std dev": 2.922833646254952,
         "Current Account(%GDP)": -1.2848294643147133,
         "FDI(%GDP)": 0.597180929222145,
         "MXN_30_ave": 3.2266366666666686,
         "MXN_60_ave": 3.166921666666663,
         "MXN_90_ave": 3.1514388888888876,
         "MoY_is_1": 0,
         "MoY_is_2": 0,
         "MoY_is_3": 1,
         "MoY_is_4": 0,
         "MoY_is_5": 0,
         "MoY_is_6": 0,
         "MoY_is_7": 0,
         "MoY_is_8": 0,
         "MoY_is_9": 0,
         "MoY_is_10": 0,
         "MoY_is_11": 0,
         "MoY_is_12": 0,
         "MXN_Y": 3.3586,
         "_deepnote_index_column": "1994-03-25T00:00:00.000000"
        },
        {
         "MXN_X": 3.3586,
         "sin_DoY": 0.995918996147179,
         "Inflation (CPI) %": 19.2003720678136,
         "Deposit Interest Rate %": 10.16,
         "Lending Interest Rate %": 13.46,
         "Exports(USD)": 5155500000,
         "NY.GDP.MKTP.CD": 527813238126.278,
         "Real Interest Rate(%)": -5.740372067813599,
         "Foreign Exchange Reserves(%)": 4.872935754947198,
         "REED 12mth std dev": 2.922833646254952,
         "Current Account(%GDP)": -1.2848294643147133,
         "FDI(%GDP)": 0.597180929222145,
         "MXN_30_ave": 3.235130000000001,
         "MXN_60_ave": 3.1711516666666637,
         "MXN_90_ave": 3.152769999999999,
         "MoY_is_1": 0,
         "MoY_is_2": 0,
         "MoY_is_3": 1,
         "MoY_is_4": 0,
         "MoY_is_5": 0,
         "MoY_is_6": 0,
         "MoY_is_7": 0,
         "MoY_is_8": 0,
         "MoY_is_9": 0,
         "MoY_is_10": 0,
         "MoY_is_11": 0,
         "MoY_is_12": 0,
         "MXN_Y": 3.3598,
         "_deepnote_index_column": "1994-03-28T00:00:00.000000"
        }
       ],
       "rows_bottom": null
      },
      "text/plain": "             MXN_X   sin_DoY  Inflation (CPI) %  Deposit Interest Rate %  \\\nDate                                                                       \n1994-03-23  3.3300  0.984474          19.200372                    10.16   \n1994-03-25  3.3375  0.989932          19.200372                    10.16   \n1994-03-28  3.3586  0.995919          19.200372                    10.16   \n\n            Lending Interest Rate %  Exports(USD)  NY.GDP.MKTP.CD  \\\nDate                                                                \n1994-03-23                    13.46  5.155500e+09    5.278132e+11   \n1994-03-25                    13.46  5.155500e+09    5.278132e+11   \n1994-03-28                    13.46  5.155500e+09    5.278132e+11   \n\n            Real Interest Rate(%)  Foreign Exchange Reserves(%)  \\\nDate                                                              \n1994-03-23              -5.740372                      4.872936   \n1994-03-25              -5.740372                      4.872936   \n1994-03-28              -5.740372                      4.872936   \n\n            REED 12mth std dev  ...  MoY_is_4  MoY_is_5  MoY_is_6  MoY_is_7  \\\nDate                            ...                                           \n1994-03-23            2.922834  ...         0         0         0         0   \n1994-03-25            2.922834  ...         0         0         0         0   \n1994-03-28            2.922834  ...         0         0         0         0   \n\n            MoY_is_8  MoY_is_9  MoY_is_10  MoY_is_11  MoY_is_12   MXN_Y  \nDate                                                                     \n1994-03-23         0         0          0          0          0  3.3375  \n1994-03-25         0         0          0          0          0  3.3586  \n1994-03-28         0         0          0          0          0  3.3598  \n\n[3 rows x 28 columns]",
      "text/html": "<div>\n<style scoped>\n    .dataframe tbody tr th:only-of-type {\n        vertical-align: middle;\n    }\n\n    .dataframe tbody tr th {\n        vertical-align: top;\n    }\n\n    .dataframe thead th {\n        text-align: right;\n    }\n</style>\n<table border=\"1\" class=\"dataframe\">\n  <thead>\n    <tr style=\"text-align: right;\">\n      <th></th>\n      <th>MXN_X</th>\n      <th>sin_DoY</th>\n      <th>Inflation (CPI) %</th>\n      <th>Deposit Interest Rate %</th>\n      <th>Lending Interest Rate %</th>\n      <th>Exports(USD)</th>\n      <th>NY.GDP.MKTP.CD</th>\n      <th>Real Interest Rate(%)</th>\n      <th>Foreign Exchange Reserves(%)</th>\n      <th>REED 12mth std dev</th>\n      <th>...</th>\n      <th>MoY_is_4</th>\n      <th>MoY_is_5</th>\n      <th>MoY_is_6</th>\n      <th>MoY_is_7</th>\n      <th>MoY_is_8</th>\n      <th>MoY_is_9</th>\n      <th>MoY_is_10</th>\n      <th>MoY_is_11</th>\n      <th>MoY_is_12</th>\n      <th>MXN_Y</th>\n    </tr>\n    <tr>\n      <th>Date</th>\n      <th></th>\n      <th></th>\n      <th></th>\n      <th></th>\n      <th></th>\n      <th></th>\n      <th></th>\n      <th></th>\n      <th></th>\n      <th></th>\n      <th></th>\n      <th></th>\n      <th></th>\n      <th></th>\n      <th></th>\n      <th></th>\n      <th></th>\n      <th></th>\n      <th></th>\n      <th></th>\n      <th></th>\n    </tr>\n  </thead>\n  <tbody>\n    <tr>\n      <th>1994-03-23</th>\n      <td>3.3300</td>\n      <td>0.984474</td>\n      <td>19.200372</td>\n      <td>10.16</td>\n      <td>13.46</td>\n      <td>5.155500e+09</td>\n      <td>5.278132e+11</td>\n      <td>-5.740372</td>\n      <td>4.872936</td>\n      <td>2.922834</td>\n      <td>...</td>\n      <td>0</td>\n      <td>0</td>\n      <td>0</td>\n      <td>0</td>\n      <td>0</td>\n      <td>0</td>\n      <td>0</td>\n      <td>0</td>\n      <td>0</td>\n      <td>3.3375</td>\n    </tr>\n    <tr>\n      <th>1994-03-25</th>\n      <td>3.3375</td>\n      <td>0.989932</td>\n      <td>19.200372</td>\n      <td>10.16</td>\n      <td>13.46</td>\n      <td>5.155500e+09</td>\n      <td>5.278132e+11</td>\n      <td>-5.740372</td>\n      <td>4.872936</td>\n      <td>2.922834</td>\n      <td>...</td>\n      <td>0</td>\n      <td>0</td>\n      <td>0</td>\n      <td>0</td>\n      <td>0</td>\n      <td>0</td>\n      <td>0</td>\n      <td>0</td>\n      <td>0</td>\n      <td>3.3586</td>\n    </tr>\n    <tr>\n      <th>1994-03-28</th>\n      <td>3.3586</td>\n      <td>0.995919</td>\n      <td>19.200372</td>\n      <td>10.16</td>\n      <td>13.46</td>\n      <td>5.155500e+09</td>\n      <td>5.278132e+11</td>\n      <td>-5.740372</td>\n      <td>4.872936</td>\n      <td>2.922834</td>\n      <td>...</td>\n      <td>0</td>\n      <td>0</td>\n      <td>0</td>\n      <td>0</td>\n      <td>0</td>\n      <td>0</td>\n      <td>0</td>\n      <td>0</td>\n      <td>0</td>\n      <td>3.3598</td>\n    </tr>\n  </tbody>\n</table>\n<p>3 rows × 28 columns</p>\n</div>"
     },
     "metadata": {}
    }
   ]
  },
  {
   "cell_type": "code",
   "metadata": {
    "collapsed": true,
    "cell_id": "00011-e7a4c6ad-84f8-4c7d-b034-ff2593f620df",
    "deepnote_cell_type": "code"
   },
   "source": "MEX_FX_ONLY = MEX_SHF[['MXN_X','MXN_30_ave','MXN_60_ave','MXN_Y']]",
   "execution_count": null,
   "outputs": []
  },
  {
   "cell_type": "markdown",
   "source": "## Normalise & pre-process data for pytorch (3D array)",
   "metadata": {
    "cell_id": "00012-0349d955-8690-4db9-b50c-3bfd50f30a5c",
    "deepnote_cell_type": "markdown"
   }
  },
  {
   "cell_type": "code",
   "metadata": {
    "cell_id": "00013-87c63436-c55f-454e-bfe1-8c1184c28132",
    "deepnote_to_be_reexecuted": false,
    "source_hash": "42f3a0d1",
    "execution_start": 1628722731339,
    "execution_millis": 4922,
    "deepnote_cell_type": "code"
   },
   "source": "# Plot to see the time series of all features\nX = MEX_SHF.copy()\ncols = X.columns\nfig, ax = plt.subplots(nrows = len(cols), ncols = 1, figsize=(10,20))\nfor i in range(len(cols)):\n    ax[i].plot(X.index, X[cols[i]], label=cols[i])\n    ax[i].set_xlabel('Time')\n    ax[i].set_ylabel(cols[i], rotation=0)\nfig.tight_layout()        ",
   "outputs": [
    {
     "name": "stderr",
     "text": "/shared-libs/python3.6/py-core/lib/python3.6/site-packages/ipykernel_launcher.py:9: UserWarning:\n\nTight layout not applied. tight_layout cannot make axes height small enough to accommodate all axes decorations\n\n",
     "output_type": "stream"
    },
    {
     "data": {
      "text/plain": "<Figure size 720x1440 with 28 Axes>",
      "image/png": "[encoded data removed]"
     },
     "metadata": {
      "needs_background": "light",
      "image/png": {
       "width": 673,
       "height": 1132
      }
     },
     "output_type": "display_data"
    }
   ],
   "execution_count": null
  },
  {
   "cell_type": "code",
   "metadata": {
    "cell_id": "00014-1e3c0834-752d-4593-9b7b-29ab28d49184",
    "deepnote_to_be_reexecuted": false,
    "source_hash": "2ed5030b",
    "execution_start": 1628724673793,
    "execution_millis": 6,
    "deepnote_cell_type": "code"
   },
   "source": "from sklearn.preprocessing import StandardScaler\nfrom sklearn.model_selection import train_test_split\n\n\n#Set split param\ntest_ratio = 0.17\nval_ratio = test_ratio / (1 - test_ratio)\n\n#Cut into Features and Target Variable\ny_name = MEX_SHF.iloc[:,-1].name\nX, y = MEX_SHF.drop([y_name], axis=1) , MEX_SHF[[y_name]]\n\n#Train & Test \nX_train, X_test, y_train, y_test = train_test_split(X, y, test_size=test_ratio, shuffle=False)\n#Train & Validation \n#X_train, X_val, y_train, y_val = train_test_split(X_train, y_train, test_size=val_ratio, shuffle=False)",
   "execution_count": 12,
   "outputs": []
  },
  {
   "cell_type": "code",
   "metadata": {
    "cell_id": "00015-cc6845f8-a3e1-4164-bbdb-2c60d1adf85a",
    "deepnote_to_be_reexecuted": false,
    "source_hash": "a9f870e3",
    "execution_start": 1628724675678,
    "execution_millis": 395,
    "deepnote_cell_type": "code"
   },
   "source": "plt.figure(1)\nplt.plot(X_train.index, X_train.iloc[:,0], label='Values - Training Set')\n#plt.plot(X_val.index, X_val.iloc[:,0], label='Values - Validation Set')\nplt.plot(X_test.index, X_test.iloc[:,0], label='Values - Test Set')\n\nplt.xlabel('Time')\nplt.ylabel('FX Rate')\nplt.legend()",
   "execution_count": 13,
   "outputs": [
    {
     "output_type": "execute_result",
     "execution_count": 13,
     "data": {
      "text/plain": "<matplotlib.legend.Legend at 0x7f8e2cbb77b8>"
     },
     "metadata": {}
    },
    {
     "data": {
      "text/plain": "<Figure size 432x288 with 1 Axes>",
      "image/png": "[encoded data removed]"
     },
     "metadata": {
      "needs_background": "light",
      "image/png": {
       "width": 382,
       "height": 262
      }
     },
     "output_type": "display_data"
    }
   ]
  },
  {
   "cell_type": "code",
   "metadata": {
    "cell_id": "00016-724a6bc7-0626-45bf-8d11-be149bdbaa5a",
    "deepnote_to_be_reexecuted": false,
    "source_hash": "5d86f4bf",
    "execution_start": 1628724678874,
    "execution_millis": 64,
    "deepnote_cell_type": "code"
   },
   "source": "#Normalise data using standard scalar\n#Fit each row of data as an array\n#from sklearn.preprocessing import MinMaxScaler\nscaler = DG.get_scaler('minmax')#DG.get_scaler('standard')\n\n\nX_train_arr = scaler.fit_transform(X_train)\n#X_val_arr = scaler.transform(X_val)\nX_test_arr = scaler.transform(X_test)\n\ny_train_arr = y_train #scaler.fit_transform(y_train)\n#y_val_arr = y_val #scaler.transform(y_val)\ny_test_arr =y_test #scaler.transform(y_test)\n\n#Stack the data back together before splitting the sequence\ntrain_arr = hstack((X_train_arr, y_train_arr))\n#val_arr = hstack((X_val_arr, y_val_arr))\ntest_arr = hstack((X_test_arr, y_test_arr))\n\n#split sequence will create a lag of the past 300 entries of the dataframe\n#\nn_steps = 90\nX_train_split, y_train_split = DG.split_sequences(train_arr,n_steps)\n#X_val_split, y_val_split = DG.split_sequences(val_arr,n_steps)\nX_test_split, y_test_split = DG.split_sequences(test_arr,n_steps)",
   "execution_count": 14,
   "outputs": []
  },
  {
   "cell_type": "code",
   "metadata": {
    "cell_id": "00017-a7c9b451-fbb7-4e56-9360-a68eea8a71ee",
    "deepnote_to_be_reexecuted": false,
    "source_hash": "997e945d",
    "execution_start": 1628724681023,
    "execution_millis": 34,
    "deepnote_cell_type": "code"
   },
   "source": "batch_size = 32\n\ntrain_features = torch.Tensor(X_train_split)\ntrain_targets = torch.Tensor(y_train_split)\n#val_features = torch.Tensor(X_val_split)\n#val_targets = torch.Tensor(y_val_split)\ntest_features = torch.Tensor(X_test_split)\ntest_targets = torch.Tensor(y_test_split)\n\n#Joint Tensor of \ntrain = TensorDataset(train_features, train_targets)\n#val = TensorDataset(val_features, val_targets)\ntest = TensorDataset(test_features, test_targets)\n\ntrain_loader = DataLoader(train, batch_size=batch_size, shuffle=False, drop_last=True)\n#val_loader = DataLoader(val, batch_size=batch_size, shuffle=False, drop_last=True)\ntest_loader = DataLoader(test, batch_size=batch_size, shuffle=False, drop_last=True)\ntest_loader_one = DataLoader(test, batch_size=1, shuffle=False, drop_last=True)",
   "execution_count": 15,
   "outputs": []
  },
  {
   "cell_type": "code",
   "metadata": {
    "collapsed": true,
    "cell_id": "00018-69db0b89-a90d-4723-89bb-530c4192a21c",
    "deepnote_cell_type": "code"
   },
   "source": "#Specify Optimizer\n#optimizer = optim.Adam(model.parameters(), lr=learning_rate, weight_decay=weight_decay)",
   "execution_count": null,
   "outputs": []
  },
  {
   "cell_type": "code",
   "metadata": {
    "collapsed": true,
    "cell_id": "00019-0b0e6ec4-5c50-4047-8ca6-31412de39b8f",
    "deepnote_cell_type": "code"
   },
   "source": "#opt = Optimization(model=model, loss_fn=loss_fn, optimizer=optimizer)\n#opt.train(train_loader, val_loader, batch_size=batch_size, n_epochs=n_epochs, n_features=input_dim)\n#opt.plot_losses()\n\n#predictions, values = opt.evaluate(test_loader_one, batch_size=1, n_features=input_dim)",
   "execution_count": null,
   "outputs": []
  },
  {
   "cell_type": "markdown",
   "source": "## Set Hyper parameters",
   "metadata": {
    "cell_id": "00020-78231768-91e1-4e74-aa1b-b5bc5256e170",
    "deepnote_cell_type": "markdown"
   }
  },
  {
   "cell_type": "code",
   "metadata": {
    "cell_id": "00021-932b258f-08ff-404a-aefd-0badbd8e4fa2",
    "deepnote_to_be_reexecuted": false,
    "source_hash": "2217593d",
    "execution_start": 1628724684195,
    "execution_millis": 25,
    "deepnote_cell_type": "code"
   },
   "source": "import argparse\nimport time\n\nimport torch.optim as optim\n\ninput_dim = len(X_train.columns) #sequence length\noutput_dim = 1\nseq_length = n_steps\nhidden_dim = 10\nlayer_dim = 1\nbatch_size = batch_size\ndropout = 0.2\n#n_epochs = 100\n#learning_rate = 1e-3\nweight_decay = 1e-6\n\nmodel_params = {'input_dim': input_dim,\n                'hidden_dim' : hidden_dim,\n                'seq_length' : seq_length,\n                'layer_dim' : layer_dim,\n                'output_dim' : output_dim,\n                'dropout_prob' : dropout}\n\n#Call the LSTM Model from THEO_PULA_Model\n#model = get_model(\"lstm\", model_params)\nloss_fn = nn.MSELoss(reduction=\"mean\")\n\n\n\nparser = argparse.ArgumentParser(description = 'pytorch CIFAR10')\nparser.add_argument('-f','--file',help='Path for input file. First line should contain number of lines to search in')\nparser.add_argument('--trial', default='trial1', type=str)\nparser.add_argument('--lr', default=1e-2, type=float, help='learning rate')\nparser.add_argument('--resume', '-r', action='store_true', help='resume from checkpoint')\nparser.add_argument('--batch_size', default=64, type=int)\nparser.add_argument('--model_name', default='lstm', type=str)\nparser.add_argument('--num_epoch', default=800, type=int, dest='num_epoch')\nparser.add_argument('--optimizer_name', default='THEOPOULA', type=str)\nparser.add_argument('--eta', default='0', type=float)\nparser.add_argument('--beta', default='1e14', type=float)\nparser.add_argument('--r', default=5, type=int)\nparser.add_argument('--eps', default=1e-4, type=float)\nparser.add_argument('--act_fn', default='silu', type=str)\n\nparser.add_argument('--log_dir', default='./log/', type=str)\nparser.add_argument('--ckpt_dir', default='./ckpt/', type=str)\n\nargs = parser.parse_args()\n\ndevice = 'cuda' if torch.cuda.is_available() else 'cpu'\n\nstart_time = time.time()\n\nbest_loss = 999\nstate = []\nstart_epoch = 1\ntrial = args.trial\n#batch_size = args.batch_size\nnum_epoch = args.num_epoch  #________________________________Change for real batch______________________ 20\noptimizer_name = args.optimizer_name\nact_fn = args.act_fn\nmodel_name = args.model_name\nmodel = get_model(args.model_name, model_params)\nlr = args.lr\neta = args.eta\nbeta = args.beta\nr = args.r\neps = args.eps\nprint(\"Model:\",model)",
   "execution_count": 16,
   "outputs": [
    {
     "name": "stdout",
     "text": "Model: LSTMModel(\n  (lstm): LSTM(27, 10, batch_first=True, dropout=0.2)\n  (fc): Linear(in_features=10, out_features=1, bias=True)\n)\n/shared-libs/python3.6/py/lib/python3.6/site-packages/torch/nn/modules/rnn.py:65: UserWarning:\n\ndropout option adds dropout after all but last recurrent layer, so non-zero dropout expects num_layers greater than 1, but got dropout=0.2 and num_layers=1\n\n",
     "output_type": "stream"
    }
   ]
  },
  {
   "cell_type": "code",
   "metadata": {
    "cell_id": "00022-bb3780d2-4249-4ae5-9d1b-89efcb5bcf5f",
    "deepnote_to_be_reexecuted": false,
    "source_hash": "1b83bed",
    "execution_start": 1628724687930,
    "execution_millis": 9,
    "deepnote_cell_type": "code"
   },
   "source": "#Len of a dataloader is the number of batches: len(dataloader) = dataset size / batch size\nnum_data = len(train_loader)\nprint('num_data:',num_data)\nnum_batch = np.ceil(num_data / batch_size)\nprint('num_batch:',num_batch)",
   "execution_count": 17,
   "outputs": [
    {
     "name": "stdout",
     "text": "num_data: 170\nnum_batch: 6.0\n",
     "output_type": "stream"
    }
   ]
  },
  {
   "cell_type": "code",
   "metadata": {
    "cell_id": "00023-74a2ef3d-4206-490b-b279-d207e59738ca",
    "deepnote_to_be_reexecuted": false,
    "source_hash": "63df8942",
    "execution_start": 1628724689762,
    "execution_millis": 2279,
    "deepnote_cell_type": "code"
   },
   "source": "print('==> Building model.. on {%s}'%device)\nnet = model\nnet.to(device)\ncriterion = nn.MSELoss(reduction='mean')",
   "execution_count": 18,
   "outputs": [
    {
     "name": "stdout",
     "text": "==> Building model.. on {cuda}\n",
     "output_type": "stream"
    }
   ]
  },
  {
   "cell_type": "code",
   "metadata": {
    "cell_id": "00025-31bcb5c0-ef25-4481-aef6-58b4652d6cb7",
    "deepnote_to_be_reexecuted": false,
    "source_hash": "37adbf56",
    "execution_start": 1628724693617,
    "execution_millis": 1538,
    "deepnote_cell_type": "code"
   },
   "source": "# To specfy when calling \noptimizer_name = 'ADAM'\n#_______________________________________________\nprint('==> Setting optimizer.. {%s}'%optimizer_name)\nif optimizer_name == 'SGD':\n    optimizer = optim.SGD(net.parameters(), lr=lr)\nelif optimizer_name == 'RMSProp':\n    optimizer = optim.RMSprop(net.parameters(), lr=lr)\nelif optimizer_name == 'ADAM':\n    optimizer = optim.Adam(net.parameters(), lr=lr)\nelif optimizer_name == 'AMSGrad':\n    optimizer = optim.Adam(net.parameters(), lr=lr, amsgrad=True)\nelif optimizer_name == 'THEOPOULA':\n    optimizer = THEOPOULA(net.parameters(), lr=lr, eta=eta, beta=args.beta, r=r, eps=eps)\n\n\n\nif optimizer_name == 'THEOPOULA':\n    experiment_name = '%s_%s_bs{%d}_lr{%.1e}_epoch{%d}_eta{%.1e}_beta{%.1e}_r{%d}_eps{%.1e}' \\\n                      %(optimizer_name, model_name, batch_size, lr, num_epoch, eta, beta, r, eps)\nelse:\n    experiment_name = '%s_%s_bs{%d}_lr{%.1e}_eps{%.1e}_epoch{%d}'%(optimizer_name, model_name, batch_size, lr, eps, num_epoch)\n    \n\n\nlog_dir = args.log_dir + experiment_name\nckpt_dir = args.ckpt_dir + experiment_name\n\nfn_pred = lambda output: torch.softmax(output, dim=1)\nfn_acc = lambda pred, label: torch.sqrt(criterion(pred, label))\n\nwriter = SummaryWriter(log_dir=log_dir)\n\n## Training\n\nhistory = {'training_loss': [],\n           'test_loss': [],\n           'training_acc': [],\n           'test_acc': [],\n           }\n\nprint('Saving to:', experiment_name)",
   "execution_count": 19,
   "outputs": [
    {
     "name": "stdout",
     "text": "==> Setting optimizer.. {ADAM}\nSaving to: ADAM_lstm_bs{32}_lr{1.0e-02}_eps{1.0e-04}_epoch{800}\n",
     "output_type": "stream"
    }
   ]
  },
  {
   "cell_type": "markdown",
   "source": "## Trian & Test Model",
   "metadata": {
    "cell_id": "00026-e90b850b-9d17-41d5-9d21-865445b2a5a0",
    "deepnote_cell_type": "markdown"
   }
  },
  {
   "cell_type": "code",
   "metadata": {
    "cell_id": "00027-8f6b1a0b-da7a-4311-984b-788ce3e67fcd",
    "deepnote_to_be_reexecuted": false,
    "source_hash": "9066063a",
    "execution_start": 1628724698332,
    "execution_millis": 4,
    "deepnote_cell_type": "code"
   },
   "source": "def train(epoch):\n    print('\\nEpoch: %d' % epoch)\n    net.train()\n    train_loss = []\n    acc_arr = []\n    for batch_idx, (inputs, targets) in enumerate(train_loader):\n        \n        #inputs = inputs.to(device)\n        inputs = inputs.view([batch_size, -1, input_dim]).to(device)\n        targets = targets.to(device)\n        optimizer.zero_grad()        \n\n        outputs = net(inputs)\n        pred = torch.flatten(outputs)\n        loss = criterion(outputs, targets)\n        acc = fn_acc(pred, targets)\n\n        loss.backward()\n        optimizer.step()\n        train_loss += [loss.item()]\n        acc_arr += [acc.item()]\n\n        if batch_idx%50 == 0:\n            print('TRAIN: EPOCH %04d/%04d | BATCH %04d/%04d | LOSS: %.4f |  ACC %.4f' %\n              (epoch, args.num_epoch, batch_idx, num_batch, train_loss[-1], acc_arr[-1]))\n    print('TRAIN: EPOCH %04d/%04d | LOSS: %.4f |  ACC %.4f' %\n          (epoch, args.num_epoch, np.mean(train_loss), np.mean(acc_arr)))\n    writer.add_scalar('Training loss', np.mean(train_loss), epoch)\n    writer.add_scalar('Training accuracy', np.mean(acc_arr), epoch)\n\n    history['training_loss'].append(np.mean(train_loss))\n    history['training_acc'].append(np.mean(acc_arr))\n\n\ndef test(epoch):\n    global best_loss, state\n    net.eval()\n    test_loss = []\n    acc_arr = []\n\n    with torch.no_grad():\n        for batch_idx, (inputs, targets) in enumerate(test_loader):\n            inputs = inputs.view([batch_size, -1, input_dim]).to(device)\n            targets = targets.to(device)\n            outputs = net(inputs)\n            #pred = fn_pred(outputs)\n            pred = torch.flatten(outputs)\n            loss = criterion(outputs, targets)\n            acc = fn_acc(pred, targets)\n\n            test_loss += [loss.item()]\n            acc_arr += [acc.item()]\n\n        print('TEST:  LOSS: %.4f |  ACC %.4f' %\n                  (np.mean(test_loss),  np.mean(acc_arr)))\n\n    if np.mean(test_loss) < best_loss:\n        print('Saving..')\n        state = {\n            'net': net.state_dict(),\n            'acc': np.mean(test_loss),\n            'epoch': epoch,\n            'optim': optimizer.state_dict()\n        }\n        best_loss = np.mean(test_loss)\n\n    writer.add_scalar('Test loss', np.mean(test_loss), epoch)\n    writer.add_scalar('Test accuracy', np.mean(acc_arr), epoch)\n\n    history['test_loss'].append(np.mean(test_loss))\n    history['test_acc'].append(np.mean(acc_arr))",
   "execution_count": 20,
   "outputs": []
  },
  {
   "cell_type": "code",
   "metadata": {
    "cell_id": "00028-0c84ea57-c568-4f49-a97b-edf493488a95",
    "deepnote_to_be_reexecuted": false,
    "source_hash": "f013cb0d",
    "execution_start": 1628724700883,
    "execution_millis": 2236971,
    "deepnote_cell_type": "code"
   },
   "source": "for epoch in range(start_epoch, start_epoch + num_epoch):\n    train(epoch)\n    test(epoch)\n\n\nelapsed_time = time.time() - start_time\nprint(elapsed_time)\n\n\nplt.figure(1)\nplt.plot(range(1, num_epoch+1), history['training_loss'], label='Training Loss')\nplt.plot(range(1, num_epoch+1), history['test_loss'], label='Validation Loss')\nplt.xlabel('epochs')\nplt.ylabel('loss')\nplt.legend()\n\nif not os.path.isdir(log_dir):\n    os.mkdir(log_dir)\npkl.dump(history, open(log_dir+'/history.pkl', 'wb'))\n\n\nif not os.path.isdir(ckpt_dir):\n    os.mkdir(ckpt_dir)\ntorch.save(state, './%s/%s.pth' % (ckpt_dir, experiment_name))\n\n\nplt.show()",
   "execution_count": 21,
   "outputs": [
    {
     "name": "stdout",
     "text": "TRAIN: EPOCH 0676/0800 | BATCH 0000/0006 | LOSS: 0.0011 |  ACC 0.0357\nTRAIN: EPOCH 0676/0800 | BATCH 0050/0006 | LOSS: 0.0432 |  ACC 0.2465\nTRAIN: EPOCH 0676/0800 | BATCH 0100/0006 | LOSS: 0.0147 |  ACC 0.0921\nTRAIN: EPOCH 0676/0800 | BATCH 0150/0006 | LOSS: 0.0336 |  ACC 0.1451\nTRAIN: EPOCH 0676/0800 | LOSS: 0.0662 |  ACC 0.1587\nTEST:  LOSS: 5.9800 |  ACC 2.0034\n\nEpoch: 677\nTRAIN: EPOCH 0677/0800 | BATCH 0000/0006 | LOSS: 0.0024 |  ACC 0.0514\nTRAIN: EPOCH 0677/0800 | BATCH 0050/0006 | LOSS: 0.0320 |  ACC 0.1691\nTRAIN: EPOCH 0677/0800 | BATCH 0100/0006 | LOSS: 0.0164 |  ACC 0.1062\nTRAIN: EPOCH 0677/0800 | BATCH 0150/0006 | LOSS: 0.0370 |  ACC 0.1611\nTRAIN: EPOCH 0677/0800 | LOSS: 0.0710 |  ACC 0.1655\nTEST:  LOSS: 5.6027 |  ACC 1.9238\n\nEpoch: 678\nTRAIN: EPOCH 0678/0800 | BATCH 0000/0006 | LOSS: 0.0020 |  ACC 0.0453\nTRAIN: EPOCH 0678/0800 | BATCH 0050/0006 | LOSS: 0.0394 |  ACC 0.2390\nTRAIN: EPOCH 0678/0800 | BATCH 0100/0006 | LOSS: 0.0142 |  ACC 0.0910\nTRAIN: EPOCH 0678/0800 | BATCH 0150/0006 | LOSS: 0.0434 |  ACC 0.1723\nTRAIN: EPOCH 0678/0800 | LOSS: 0.0672 |  ACC 0.1546\nTEST:  LOSS: 5.8683 |  ACC 2.0038\n\nEpoch: 679\nTRAIN: EPOCH 0679/0800 | BATCH 0000/0006 | LOSS: 0.0036 |  ACC 0.0607\nTRAIN: EPOCH 0679/0800 | BATCH 0050/0006 | LOSS: 0.0319 |  ACC 0.1224\nTRAIN: EPOCH 0679/0800 | BATCH 0100/0006 | LOSS: 0.0369 |  ACC 0.1811\nTRAIN: EPOCH 0679/0800 | BATCH 0150/0006 | LOSS: 0.0327 |  ACC 0.1549\nTRAIN: EPOCH 0679/0800 | LOSS: 0.0693 |  ACC 0.1628\nTEST:  LOSS: 5.3810 |  ACC 1.9008\n\nEpoch: 680\nTRAIN: EPOCH 0680/0800 | BATCH 0000/0006 | LOSS: 0.0054 |  ACC 0.0740\nTRAIN: EPOCH 0680/0800 | BATCH 0050/0006 | LOSS: 0.0393 |  ACC 0.1531\nTRAIN: EPOCH 0680/0800 | BATCH 0100/0006 | LOSS: 0.0090 |  ACC 0.0753\nTRAIN: EPOCH 0680/0800 | BATCH 0150/0006 | LOSS: 0.0323 |  ACC 0.1650\nTRAIN: EPOCH 0680/0800 | LOSS: 0.0767 |  ACC 0.1758\nTEST:  LOSS: 5.4017 |  ACC 1.9217\n\nEpoch: 681\nTRAIN: EPOCH 0681/0800 | BATCH 0000/0006 | LOSS: 0.0111 |  ACC 0.1065\nTRAIN: EPOCH 0681/0800 | BATCH 0050/0006 | LOSS: 0.0317 |  ACC 0.2013\nTRAIN: EPOCH 0681/0800 | BATCH 0100/0006 | LOSS: 0.0076 |  ACC 0.0604\nTRAIN: EPOCH 0681/0800 | BATCH 0150/0006 | LOSS: 0.0324 |  ACC 0.1626\nTRAIN: EPOCH 0681/0800 | LOSS: 0.0741 |  ACC 0.1777\nTEST:  LOSS: 4.8888 |  ACC 1.7911\n\nEpoch: 682\nTRAIN: EPOCH 0682/0800 | BATCH 0000/0006 | LOSS: 0.0029 |  ACC 0.0574\nTRAIN: EPOCH 0682/0800 | BATCH 0050/0006 | LOSS: 0.0683 |  ACC 0.3149\nTRAIN: EPOCH 0682/0800 | BATCH 0100/0006 | LOSS: 0.0186 |  ACC 0.1007\nTRAIN: EPOCH 0682/0800 | BATCH 0150/0006 | LOSS: 0.0819 |  ACC 0.2741\nTRAIN: EPOCH 0682/0800 | LOSS: 0.0997 |  ACC 0.2196\nTEST:  LOSS: 5.8706 |  ACC 1.9895\n\nEpoch: 683\nTRAIN: EPOCH 0683/0800 | BATCH 0000/0006 | LOSS: 0.0145 |  ACC 0.1202\nTRAIN: EPOCH 0683/0800 | BATCH 0050/0006 | LOSS: 0.2289 |  ACC 0.5785\nTRAIN: EPOCH 0683/0800 | BATCH 0100/0006 | LOSS: 0.0117 |  ACC 0.0658\nTRAIN: EPOCH 0683/0800 | BATCH 0150/0006 | LOSS: 0.0326 |  ACC 0.1541\nTRAIN: EPOCH 0683/0800 | LOSS: 0.1037 |  ACC 0.2130\nTEST:  LOSS: 5.7943 |  ACC 1.9784\n\nEpoch: 684\nTRAIN: EPOCH 0684/0800 | BATCH 0000/0006 | LOSS: 0.0245 |  ACC 0.1585\nTRAIN: EPOCH 0684/0800 | BATCH 0050/0006 | LOSS: 0.0604 |  ACC 0.2839\nTRAIN: EPOCH 0684/0800 | BATCH 0100/0006 | LOSS: 0.0071 |  ACC 0.0549\nTRAIN: EPOCH 0684/0800 | BATCH 0150/0006 | LOSS: 0.0386 |  ACC 0.1651\nTRAIN: EPOCH 0684/0800 | LOSS: 0.1345 |  ACC 0.2531\nTEST:  LOSS: 5.7295 |  ACC 1.9546\n\nEpoch: 685\nTRAIN: EPOCH 0685/0800 | BATCH 0000/0006 | LOSS: 0.0050 |  ACC 0.0731\nTRAIN: EPOCH 0685/0800 | BATCH 0050/0006 | LOSS: 0.0414 |  ACC 0.2531\nTRAIN: EPOCH 0685/0800 | BATCH 0100/0006 | LOSS: 0.0285 |  ACC 0.1569\nTRAIN: EPOCH 0685/0800 | BATCH 0150/0006 | LOSS: 0.0510 |  ACC 0.1943\nTRAIN: EPOCH 0685/0800 | LOSS: 0.0755 |  ACC 0.1756\nTEST:  LOSS: 5.7279 |  ACC 1.9432\n\nEpoch: 686\nTRAIN: EPOCH 0686/0800 | BATCH 0000/0006 | LOSS: 0.0041 |  ACC 0.0677\nTRAIN: EPOCH 0686/0800 | BATCH 0050/0006 | LOSS: 0.0334 |  ACC 0.1535\nTRAIN: EPOCH 0686/0800 | BATCH 0100/0006 | LOSS: 0.0180 |  ACC 0.1153\nTRAIN: EPOCH 0686/0800 | BATCH 0150/0006 | LOSS: 0.0388 |  ACC 0.1580\nTRAIN: EPOCH 0686/0800 | LOSS: 0.0674 |  ACC 0.1592\nTEST:  LOSS: 6.2161 |  ACC 2.0569\n\nEpoch: 687\nTRAIN: EPOCH 0687/0800 | BATCH 0000/0006 | LOSS: 0.0007 |  ACC 0.0325\nTRAIN: EPOCH 0687/0800 | BATCH 0050/0006 | LOSS: 0.0343 |  ACC 0.1820\nTRAIN: EPOCH 0687/0800 | BATCH 0100/0006 | LOSS: 0.0137 |  ACC 0.0956\nTRAIN: EPOCH 0687/0800 | BATCH 0150/0006 | LOSS: 0.0339 |  ACC 0.1482\nTRAIN: EPOCH 0687/0800 | LOSS: 0.0661 |  ACC 0.1532\nTEST:  LOSS: 6.0276 |  ACC 2.0277\n\nEpoch: 688\nTRAIN: EPOCH 0688/0800 | BATCH 0000/0006 | LOSS: 0.0025 |  ACC 0.0535\nTRAIN: EPOCH 0688/0800 | BATCH 0050/0006 | LOSS: 0.0307 |  ACC 0.1320\nTRAIN: EPOCH 0688/0800 | BATCH 0100/0006 | LOSS: 0.0371 |  ACC 0.1821\nTRAIN: EPOCH 0688/0800 | BATCH 0150/0006 | LOSS: 0.0483 |  ACC 0.1915\nTRAIN: EPOCH 0688/0800 | LOSS: 0.0660 |  ACC 0.1537\nTEST:  LOSS: 5.8313 |  ACC 1.9882\n\nEpoch: 689\nTRAIN: EPOCH 0689/0800 | BATCH 0000/0006 | LOSS: 0.0011 |  ACC 0.0380\nTRAIN: EPOCH 0689/0800 | BATCH 0050/0006 | LOSS: 0.0303 |  ACC 0.1331\nTRAIN: EPOCH 0689/0800 | BATCH 0100/0006 | LOSS: 0.0294 |  ACC 0.1618\nTRAIN: EPOCH 0689/0800 | BATCH 0150/0006 | LOSS: 0.0332 |  ACC 0.1545\nTRAIN: EPOCH 0689/0800 | LOSS: 0.0679 |  ACC 0.1609\nTEST:  LOSS: 5.5688 |  ACC 1.9161\n\nEpoch: 690\nTRAIN: EPOCH 0690/0800 | BATCH 0000/0006 | LOSS: 0.0036 |  ACC 0.0632\nTRAIN: EPOCH 0690/0800 | BATCH 0050/0006 | LOSS: 0.0300 |  ACC 0.1352\nTRAIN: EPOCH 0690/0800 | BATCH 0100/0006 | LOSS: 0.0317 |  ACC 0.1654\nTRAIN: EPOCH 0690/0800 | BATCH 0150/0006 | LOSS: 0.0309 |  ACC 0.1457\nTRAIN: EPOCH 0690/0800 | LOSS: 0.0666 |  ACC 0.1571\nTEST:  LOSS: 6.0569 |  ACC 2.0276\n\nEpoch: 691\nTRAIN: EPOCH 0691/0800 | BATCH 0000/0006 | LOSS: 0.0014 |  ACC 0.0408\nTRAIN: EPOCH 0691/0800 | BATCH 0050/0006 | LOSS: 0.0600 |  ACC 0.3044\nTRAIN: EPOCH 0691/0800 | BATCH 0100/0006 | LOSS: 0.0094 |  ACC 0.0689\nTRAIN: EPOCH 0691/0800 | BATCH 0150/0006 | LOSS: 0.0322 |  ACC 0.1472\nTRAIN: EPOCH 0691/0800 | LOSS: 0.0709 |  ACC 0.1702\nTEST:  LOSS: 6.2113 |  ACC 2.0628\n\nEpoch: 692\nTRAIN: EPOCH 0692/0800 | BATCH 0000/0006 | LOSS: 0.0070 |  ACC 0.0857\nTRAIN: EPOCH 0692/0800 | BATCH 0050/0006 | LOSS: 0.0324 |  ACC 0.1635\nTRAIN: EPOCH 0692/0800 | BATCH 0100/0006 | LOSS: 0.0114 |  ACC 0.0730\nTRAIN: EPOCH 0692/0800 | BATCH 0150/0006 | LOSS: 0.0318 |  ACC 0.1452\nTRAIN: EPOCH 0692/0800 | LOSS: 0.0669 |  ACC 0.1554\nTEST:  LOSS: 5.8659 |  ACC 1.9869\n\nEpoch: 693\nTRAIN: EPOCH 0693/0800 | BATCH 0000/0006 | LOSS: 0.0031 |  ACC 0.0566\nTRAIN: EPOCH 0693/0800 | BATCH 0050/0006 | LOSS: 0.0490 |  ACC 0.2604\nTRAIN: EPOCH 0693/0800 | BATCH 0100/0006 | LOSS: 0.0095 |  ACC 0.0562\nTRAIN: EPOCH 0693/0800 | BATCH 0150/0006 | LOSS: 0.0324 |  ACC 0.1446\nTRAIN: EPOCH 0693/0800 | LOSS: 0.0680 |  ACC 0.1585\nTEST:  LOSS: 5.9086 |  ACC 2.0066\n\nEpoch: 694\nTRAIN: EPOCH 0694/0800 | BATCH 0000/0006 | LOSS: 0.0068 |  ACC 0.0822\nTRAIN: EPOCH 0694/0800 | BATCH 0050/0006 | LOSS: 0.0304 |  ACC 0.1403\nTRAIN: EPOCH 0694/0800 | BATCH 0100/0006 | LOSS: 0.0096 |  ACC 0.0559\nTRAIN: EPOCH 0694/0800 | BATCH 0150/0006 | LOSS: 0.0319 |  ACC 0.1506\nTRAIN: EPOCH 0694/0800 | LOSS: 0.0699 |  ACC 0.1603\nTEST:  LOSS: 5.4802 |  ACC 1.8990\n\nEpoch: 695\nTRAIN: EPOCH 0695/0800 | BATCH 0000/0006 | LOSS: 0.0012 |  ACC 0.0347\nTRAIN: EPOCH 0695/0800 | BATCH 0050/0006 | LOSS: 0.0301 |  ACC 0.1341\nTRAIN: EPOCH 0695/0800 | BATCH 0100/0006 | LOSS: 0.0138 |  ACC 0.0925\nTRAIN: EPOCH 0695/0800 | BATCH 0150/0006 | LOSS: 0.0359 |  ACC 0.1688\nTRAIN: EPOCH 0695/0800 | LOSS: 0.0646 |  ACC 0.1478\nTEST:  LOSS: 5.7046 |  ACC 1.9952\n\nEpoch: 696\nTRAIN: EPOCH 0696/0800 | BATCH 0000/0006 | LOSS: 0.0024 |  ACC 0.0503\nTRAIN: EPOCH 0696/0800 | BATCH 0050/0006 | LOSS: 0.0306 |  ACC 0.1382\nTRAIN: EPOCH 0696/0800 | BATCH 0100/0006 | LOSS: 0.0118 |  ACC 0.0787\nTRAIN: EPOCH 0696/0800 | BATCH 0150/0006 | LOSS: 0.0299 |  ACC 0.1522\nTRAIN: EPOCH 0696/0800 | LOSS: 0.0658 |  ACC 0.1531\nTEST:  LOSS: 5.5051 |  ACC 1.9255\n\nEpoch: 697\nTRAIN: EPOCH 0697/0800 | BATCH 0000/0006 | LOSS: 0.0005 |  ACC 0.0270\nTRAIN: EPOCH 0697/0800 | BATCH 0050/0006 | LOSS: 0.0352 |  ACC 0.2155\nTRAIN: EPOCH 0697/0800 | BATCH 0100/0006 | LOSS: 0.0178 |  ACC 0.1173\nTRAIN: EPOCH 0697/0800 | BATCH 0150/0006 | LOSS: 0.0492 |  ACC 0.2100\nTRAIN: EPOCH 0697/0800 | LOSS: 0.0732 |  ACC 0.1753\nTEST:  LOSS: 5.5119 |  ACC 1.9484\n\nEpoch: 698\nTRAIN: EPOCH 0698/0800 | BATCH 0000/0006 | LOSS: 0.0009 |  ACC 0.0319\nTRAIN: EPOCH 0698/0800 | BATCH 0050/0006 | LOSS: 0.0301 |  ACC 0.1751\nTRAIN: EPOCH 0698/0800 | BATCH 0100/0006 | LOSS: 0.0253 |  ACC 0.1257\nTRAIN: EPOCH 0698/0800 | BATCH 0150/0006 | LOSS: 0.0961 |  ACC 0.3020\nTRAIN: EPOCH 0698/0800 | LOSS: 0.0871 |  ACC 0.1971\nTEST:  LOSS: 5.7404 |  ACC 1.9983\n\nEpoch: 699\nTRAIN: EPOCH 0699/0800 | BATCH 0000/0006 | LOSS: 0.0025 |  ACC 0.0504\nTRAIN: EPOCH 0699/0800 | BATCH 0050/0006 | LOSS: 0.1137 |  ACC 0.4172\nTRAIN: EPOCH 0699/0800 | BATCH 0100/0006 | LOSS: 0.0123 |  ACC 0.0709\nTRAIN: EPOCH 0699/0800 | BATCH 0150/0006 | LOSS: 0.1150 |  ACC 0.3297\nTRAIN: EPOCH 0699/0800 | LOSS: 0.1112 |  ACC 0.2378\nTEST:  LOSS: 5.9132 |  ACC 2.0187\n\nEpoch: 700\nTRAIN: EPOCH 0700/0800 | BATCH 0000/0006 | LOSS: 0.0015 |  ACC 0.0436\nTRAIN: EPOCH 0700/0800 | BATCH 0050/0006 | LOSS: 0.1065 |  ACC 0.4195\nTRAIN: EPOCH 0700/0800 | BATCH 0100/0006 | LOSS: 0.0134 |  ACC 0.0826\nTRAIN: EPOCH 0700/0800 | BATCH 0150/0006 | LOSS: 0.0577 |  ACC 0.2252\nTRAIN: EPOCH 0700/0800 | LOSS: 0.1194 |  ACC 0.2539\nTEST:  LOSS: 6.3856 |  ACC 2.1098\n\nEpoch: 701\nTRAIN: EPOCH 0701/0800 | BATCH 0000/0006 | LOSS: 0.0011 |  ACC 0.0354\nTRAIN: EPOCH 0701/0800 | BATCH 0050/0006 | LOSS: 0.0514 |  ACC 0.2866\nTRAIN: EPOCH 0701/0800 | BATCH 0100/0006 | LOSS: 0.0262 |  ACC 0.1406\nTRAIN: EPOCH 0701/0800 | BATCH 0150/0006 | LOSS: 0.0324 |  ACC 0.1491\nTRAIN: EPOCH 0701/0800 | LOSS: 0.0756 |  ACC 0.1829\nTEST:  LOSS: 6.1442 |  ACC 2.0453\n\nEpoch: 702\nTRAIN: EPOCH 0702/0800 | BATCH 0000/0006 | LOSS: 0.0037 |  ACC 0.0632\nTRAIN: EPOCH 0702/0800 | BATCH 0050/0006 | LOSS: 0.0372 |  ACC 0.1803\nTRAIN: EPOCH 0702/0800 | BATCH 0100/0006 | LOSS: 0.0205 |  ACC 0.1196\nTRAIN: EPOCH 0702/0800 | BATCH 0150/0006 | LOSS: 0.0350 |  ACC 0.1504\nTRAIN: EPOCH 0702/0800 | LOSS: 0.0744 |  ACC 0.1767\nTEST:  LOSS: 6.2577 |  ACC 2.0632\n\nEpoch: 703\nTRAIN: EPOCH 0703/0800 | BATCH 0000/0006 | LOSS: 0.0062 |  ACC 0.0794\nTRAIN: EPOCH 0703/0800 | BATCH 0050/0006 | LOSS: 0.0303 |  ACC 0.1836\nTRAIN: EPOCH 0703/0800 | BATCH 0100/0006 | LOSS: 0.0123 |  ACC 0.0795\nTRAIN: EPOCH 0703/0800 | BATCH 0150/0006 | LOSS: 0.0335 |  ACC 0.1471\nTRAIN: EPOCH 0703/0800 | LOSS: 0.0687 |  ACC 0.1611\nTEST:  LOSS: 6.3150 |  ACC 2.0892\n\nEpoch: 704\nTRAIN: EPOCH 0704/0800 | BATCH 0000/0006 | LOSS: 0.0011 |  ACC 0.0370\nTRAIN: EPOCH 0704/0800 | BATCH 0050/0006 | LOSS: 0.0311 |  ACC 0.1496\nTRAIN: EPOCH 0704/0800 | BATCH 0100/0006 | LOSS: 0.0150 |  ACC 0.0952\nTRAIN: EPOCH 0704/0800 | BATCH 0150/0006 | LOSS: 0.0408 |  ACC 0.1676\nTRAIN: EPOCH 0704/0800 | LOSS: 0.0642 |  ACC 0.1475\nTEST:  LOSS: 6.1198 |  ACC 2.0630\n\nEpoch: 705\nTRAIN: EPOCH 0705/0800 | BATCH 0000/0006 | LOSS: 0.0006 |  ACC 0.0287\nTRAIN: EPOCH 0705/0800 | BATCH 0050/0006 | LOSS: 0.0305 |  ACC 0.1651\nTRAIN: EPOCH 0705/0800 | BATCH 0100/0006 | LOSS: 0.0157 |  ACC 0.1090\nTRAIN: EPOCH 0705/0800 | BATCH 0150/0006 | LOSS: 0.0308 |  ACC 0.1520\nTRAIN: EPOCH 0705/0800 | LOSS: 0.0648 |  ACC 0.1523\nTEST:  LOSS: 5.7100 |  ACC 1.9853\n\nEpoch: 706\nTRAIN: EPOCH 0706/0800 | BATCH 0000/0006 | LOSS: 0.0038 |  ACC 0.0645\nTRAIN: EPOCH 0706/0800 | BATCH 0050/0006 | LOSS: 0.0449 |  ACC 0.1702\nTRAIN: EPOCH 0706/0800 | BATCH 0100/0006 | LOSS: 0.0144 |  ACC 0.1031\nTRAIN: EPOCH 0706/0800 | BATCH 0150/0006 | LOSS: 0.0326 |  ACC 0.1614\nTRAIN: EPOCH 0706/0800 | LOSS: 0.0732 |  ACC 0.1760\nTEST:  LOSS: 5.4588 |  ACC 1.9420\n\nEpoch: 707\nTRAIN: EPOCH 0707/0800 | BATCH 0000/0006 | LOSS: 0.0116 |  ACC 0.1100\nTRAIN: EPOCH 0707/0800 | BATCH 0050/0006 | LOSS: 0.0342 |  ACC 0.2209\nTRAIN: EPOCH 0707/0800 | BATCH 0100/0006 | LOSS: 0.0112 |  ACC 0.0690\nTRAIN: EPOCH 0707/0800 | BATCH 0150/0006 | LOSS: 0.0781 |  ACC 0.2668\nTRAIN: EPOCH 0707/0800 | LOSS: 0.0778 |  ACC 0.1841\nTEST:  LOSS: 5.5688 |  ACC 1.9273\n\nEpoch: 708\nTRAIN: EPOCH 0708/0800 | BATCH 0000/0006 | LOSS: 0.0020 |  ACC 0.0473\nTRAIN: EPOCH 0708/0800 | BATCH 0050/0006 | LOSS: 0.1148 |  ACC 0.4190\nTRAIN: EPOCH 0708/0800 | BATCH 0100/0006 | LOSS: 0.0183 |  ACC 0.1036\nTRAIN: EPOCH 0708/0800 | BATCH 0150/0006 | LOSS: 0.0924 |  ACC 0.2894\nTRAIN: EPOCH 0708/0800 | LOSS: 0.0936 |  ACC 0.2064\nTEST:  LOSS: 5.9314 |  ACC 2.0087\n\nEpoch: 709\nTRAIN: EPOCH 0709/0800 | BATCH 0000/0006 | LOSS: 0.0126 |  ACC 0.1136\nTRAIN: EPOCH 0709/0800 | BATCH 0050/0006 | LOSS: 0.0589 |  ACC 0.3139\nTRAIN: EPOCH 0709/0800 | BATCH 0100/0006 | LOSS: 0.0129 |  ACC 0.0834\nTRAIN: EPOCH 0709/0800 | BATCH 0150/0006 | LOSS: 0.0641 |  ACC 0.2232\nTRAIN: EPOCH 0709/0800 | LOSS: 0.0877 |  ACC 0.1992\nTEST:  LOSS: 5.9109 |  ACC 2.0274\n\nEpoch: 710\nTRAIN: EPOCH 0710/0800 | BATCH 0000/0006 | LOSS: 0.0007 |  ACC 0.0299\nTRAIN: EPOCH 0710/0800 | BATCH 0050/0006 | LOSS: 0.0350 |  ACC 0.1658\nTRAIN: EPOCH 0710/0800 | BATCH 0100/0006 | LOSS: 0.0052 |  ACC 0.0509\nTRAIN: EPOCH 0710/0800 | BATCH 0150/0006 | LOSS: 0.0332 |  ACC 0.1654\nTRAIN: EPOCH 0710/0800 | LOSS: 0.0782 |  ACC 0.1855\nTEST:  LOSS: 5.3878 |  ACC 1.9168\n\nEpoch: 711\nTRAIN: EPOCH 0711/0800 | BATCH 0000/0006 | LOSS: 0.0130 |  ACC 0.1162\nTRAIN: EPOCH 0711/0800 | BATCH 0050/0006 | LOSS: 0.0396 |  ACC 0.2261\nTRAIN: EPOCH 0711/0800 | BATCH 0100/0006 | LOSS: 0.0327 |  ACC 0.1691\nTRAIN: EPOCH 0711/0800 | BATCH 0150/0006 | LOSS: 0.0337 |  ACC 0.1642\nTRAIN: EPOCH 0711/0800 | LOSS: 0.0883 |  ACC 0.1978\nTEST:  LOSS: 5.0962 |  ACC 1.8598\n\nEpoch: 712\nTRAIN: EPOCH 0712/0800 | BATCH 0000/0006 | LOSS: 0.0109 |  ACC 0.1077\nTRAIN: EPOCH 0712/0800 | BATCH 0050/0006 | LOSS: 0.0373 |  ACC 0.2233\nTRAIN: EPOCH 0712/0800 | BATCH 0100/0006 | LOSS: 0.0277 |  ACC 0.1438\nTRAIN: EPOCH 0712/0800 | BATCH 0150/0006 | LOSS: 0.1070 |  ACC 0.3151\nTRAIN: EPOCH 0712/0800 | LOSS: 0.0896 |  ACC 0.2063\nTEST:  LOSS: 6.1143 |  ACC 2.0559\n\nEpoch: 713\nTRAIN: EPOCH 0713/0800 | BATCH 0000/0006 | LOSS: 0.0386 |  ACC 0.1967\nTRAIN: EPOCH 0713/0800 | BATCH 0050/0006 | LOSS: 0.1838 |  ACC 0.5147\nTRAIN: EPOCH 0713/0800 | BATCH 0100/0006 | LOSS: 0.0164 |  ACC 0.1023\nTRAIN: EPOCH 0713/0800 | BATCH 0150/0006 | LOSS: 0.0345 |  ACC 0.1585\nTRAIN: EPOCH 0713/0800 | LOSS: 0.1329 |  ACC 0.2216\nTEST:  LOSS: 5.7876 |  ACC 1.9926\n\nEpoch: 714\nTRAIN: EPOCH 0714/0800 | BATCH 0000/0006 | LOSS: 0.0173 |  ACC 0.1338\nTRAIN: EPOCH 0714/0800 | BATCH 0050/0006 | LOSS: 0.0327 |  ACC 0.1819\nTRAIN: EPOCH 0714/0800 | BATCH 0100/0006 | LOSS: 0.0348 |  ACC 0.1780\nTRAIN: EPOCH 0714/0800 | BATCH 0150/0006 | LOSS: 0.0328 |  ACC 0.1597\nTRAIN: EPOCH 0714/0800 | LOSS: 0.1220 |  ACC 0.2397\nTEST:  LOSS: 5.5150 |  ACC 1.9188\n\nEpoch: 715\nTRAIN: EPOCH 0715/0800 | BATCH 0000/0006 | LOSS: 0.0170 |  ACC 0.1327\nTRAIN: EPOCH 0715/0800 | BATCH 0050/0006 | LOSS: 0.0315 |  ACC 0.1245\nTRAIN: EPOCH 0715/0800 | BATCH 0100/0006 | LOSS: 0.0235 |  ACC 0.1350\nTRAIN: EPOCH 0715/0800 | BATCH 0150/0006 | LOSS: 0.0339 |  ACC 0.1620\nTRAIN: EPOCH 0715/0800 | LOSS: 0.0761 |  ACC 0.1740\nTEST:  LOSS: 5.6469 |  ACC 1.9481\n\nEpoch: 716\nTRAIN: EPOCH 0716/0800 | BATCH 0000/0006 | LOSS: 0.0022 |  ACC 0.0535\nTRAIN: EPOCH 0716/0800 | BATCH 0050/0006 | LOSS: 0.0679 |  ACC 0.2994\nTRAIN: EPOCH 0716/0800 | BATCH 0100/0006 | LOSS: 0.0116 |  ACC 0.0651\nTRAIN: EPOCH 0716/0800 | BATCH 0150/0006 | LOSS: 0.0774 |  ACC 0.2638\nTRAIN: EPOCH 0716/0800 | LOSS: 0.0850 |  ACC 0.2011\nTEST:  LOSS: 6.2899 |  ACC 2.0824\n\nEpoch: 717\nTRAIN: EPOCH 0717/0800 | BATCH 0000/0006 | LOSS: 0.0058 |  ACC 0.0783\nTRAIN: EPOCH 0717/0800 | BATCH 0050/0006 | LOSS: 0.0841 |  ACC 0.3566\nTRAIN: EPOCH 0717/0800 | BATCH 0100/0006 | LOSS: 0.0128 |  ACC 0.0801\nTRAIN: EPOCH 0717/0800 | BATCH 0150/0006 | LOSS: 0.0340 |  ACC 0.1523\nTRAIN: EPOCH 0717/0800 | LOSS: 0.0765 |  ACC 0.1745\nTEST:  LOSS: 5.8306 |  ACC 1.9854\n\nEpoch: 718\nTRAIN: EPOCH 0718/0800 | BATCH 0000/0006 | LOSS: 0.0008 |  ACC 0.0331\nTRAIN: EPOCH 0718/0800 | BATCH 0050/0006 | LOSS: 0.0353 |  ACC 0.1689\nTRAIN: EPOCH 0718/0800 | BATCH 0100/0006 | LOSS: 0.0368 |  ACC 0.1802\nTRAIN: EPOCH 0718/0800 | BATCH 0150/0006 | LOSS: 0.0433 |  ACC 0.1846\nTRAIN: EPOCH 0718/0800 | LOSS: 0.0752 |  ACC 0.1755\nTEST:  LOSS: 5.7321 |  ACC 1.9561\n\nEpoch: 719\nTRAIN: EPOCH 0719/0800 | BATCH 0000/0006 | LOSS: 0.0051 |  ACC 0.0742\nTRAIN: EPOCH 0719/0800 | BATCH 0050/0006 | LOSS: 0.0330 |  ACC 0.1361\nTRAIN: EPOCH 0719/0800 | BATCH 0100/0006 | LOSS: 0.0209 |  ACC 0.1294\nTRAIN: EPOCH 0719/0800 | BATCH 0150/0006 | LOSS: 0.0341 |  ACC 0.1565\nTRAIN: EPOCH 0719/0800 | LOSS: 0.0707 |  ACC 0.1680\nTEST:  LOSS: 5.6223 |  ACC 1.9118\n\nEpoch: 720\nTRAIN: EPOCH 0720/0800 | BATCH 0000/0006 | LOSS: 0.0030 |  ACC 0.0587\nTRAIN: EPOCH 0720/0800 | BATCH 0050/0006 | LOSS: 0.0328 |  ACC 0.1884\nTRAIN: EPOCH 0720/0800 | BATCH 0100/0006 | LOSS: 0.0214 |  ACC 0.1232\nTRAIN: EPOCH 0720/0800 | BATCH 0150/0006 | LOSS: 0.0385 |  ACC 0.1677\nTRAIN: EPOCH 0720/0800 | LOSS: 0.0715 |  ACC 0.1670\nTEST:  LOSS: 6.2133 |  ACC 2.0548\n\nEpoch: 721\nTRAIN: EPOCH 0721/0800 | BATCH 0000/0006 | LOSS: 0.0062 |  ACC 0.0809\nTRAIN: EPOCH 0721/0800 | BATCH 0050/0006 | LOSS: 0.0879 |  ACC 0.3454\nTRAIN: EPOCH 0721/0800 | BATCH 0100/0006 | LOSS: 0.0097 |  ACC 0.0529\nTRAIN: EPOCH 0721/0800 | BATCH 0150/0006 | LOSS: 0.0488 |  ACC 0.1963\nTRAIN: EPOCH 0721/0800 | LOSS: 0.0837 |  ACC 0.1903\nTEST:  LOSS: 5.6745 |  ACC 1.9488\n\nEpoch: 722\nTRAIN: EPOCH 0722/0800 | BATCH 0000/0006 | LOSS: 0.0049 |  ACC 0.0716\nTRAIN: EPOCH 0722/0800 | BATCH 0050/0006 | LOSS: 0.0306 |  ACC 0.1779\nTRAIN: EPOCH 0722/0800 | BATCH 0100/0006 | LOSS: 0.0437 |  ACC 0.1977\nTRAIN: EPOCH 0722/0800 | BATCH 0150/0006 | LOSS: 0.0712 |  ACC 0.2440\nTRAIN: EPOCH 0722/0800 | LOSS: 0.0714 |  ACC 0.1650\nTEST:  LOSS: 5.9727 |  ACC 2.0371\n\nEpoch: 723\nTRAIN: EPOCH 0723/0800 | BATCH 0000/0006 | LOSS: 0.0006 |  ACC 0.0277\nTRAIN: EPOCH 0723/0800 | BATCH 0050/0006 | LOSS: 0.0303 |  ACC 0.1593\nTRAIN: EPOCH 0723/0800 | BATCH 0100/0006 | LOSS: 0.0092 |  ACC 0.0823\nTRAIN: EPOCH 0723/0800 | BATCH 0150/0006 | LOSS: 0.0310 |  ACC 0.1588\nTRAIN: EPOCH 0723/0800 | LOSS: 0.0844 |  ACC 0.1959\nTEST:  LOSS: 5.1440 |  ACC 1.8196\n\nEpoch: 724\nTRAIN: EPOCH 0724/0800 | BATCH 0000/0006 | LOSS: 0.0143 |  ACC 0.1212\nTRAIN: EPOCH 0724/0800 | BATCH 0050/0006 | LOSS: 0.0373 |  ACC 0.1804\nTRAIN: EPOCH 0724/0800 | BATCH 0100/0006 | LOSS: 0.0422 |  ACC 0.1887\nTRAIN: EPOCH 0724/0800 | BATCH 0150/0006 | LOSS: 0.0314 |  ACC 0.1534\nTRAIN: EPOCH 0724/0800 | LOSS: 0.0784 |  ACC 0.1835\nTEST:  LOSS: 5.8645 |  ACC 1.9852\n\nEpoch: 725\nTRAIN: EPOCH 0725/0800 | BATCH 0000/0006 | LOSS: 0.0012 |  ACC 0.0397\nTRAIN: EPOCH 0725/0800 | BATCH 0050/0006 | LOSS: 0.0880 |  ACC 0.3595\nTRAIN: EPOCH 0725/0800 | BATCH 0100/0006 | LOSS: 0.0160 |  ACC 0.1020\nTRAIN: EPOCH 0725/0800 | BATCH 0150/0006 | LOSS: 0.0322 |  ACC 0.1467\nTRAIN: EPOCH 0725/0800 | LOSS: 0.0845 |  ACC 0.1887\nTEST:  LOSS: 6.3692 |  ACC 2.0937\n\nEpoch: 726\nTRAIN: EPOCH 0726/0800 | BATCH 0000/0006 | LOSS: 0.0017 |  ACC 0.0460\nTRAIN: EPOCH 0726/0800 | BATCH 0050/0006 | LOSS: 0.0450 |  ACC 0.2548\nTRAIN: EPOCH 0726/0800 | BATCH 0100/0006 | LOSS: 0.0133 |  ACC 0.0838\nTRAIN: EPOCH 0726/0800 | BATCH 0150/0006 | LOSS: 0.0312 |  ACC 0.1448\nTRAIN: EPOCH 0726/0800 | LOSS: 0.0719 |  ACC 0.1661\nTEST:  LOSS: 6.0465 |  ACC 2.0311\n\nEpoch: 727\nTRAIN: EPOCH 0727/0800 | BATCH 0000/0006 | LOSS: 0.0017 |  ACC 0.0441\nTRAIN: EPOCH 0727/0800 | BATCH 0050/0006 | LOSS: 0.0577 |  ACC 0.2905\nTRAIN: EPOCH 0727/0800 | BATCH 0100/0006 | LOSS: 0.0175 |  ACC 0.1117\nTRAIN: EPOCH 0727/0800 | BATCH 0150/0006 | LOSS: 0.0370 |  ACC 0.1609\nTRAIN: EPOCH 0727/0800 | LOSS: 0.0651 |  ACC 0.1521\nTEST:  LOSS: 6.1857 |  ACC 2.0665\n\nEpoch: 728\nTRAIN: EPOCH 0728/0800 | BATCH 0000/0006 | LOSS: 0.0020 |  ACC 0.0470\nTRAIN: EPOCH 0728/0800 | BATCH 0050/0006 | LOSS: 0.0326 |  ACC 0.1385\nTRAIN: EPOCH 0728/0800 | BATCH 0100/0006 | LOSS: 0.0423 |  ACC 0.1958\nTRAIN: EPOCH 0728/0800 | BATCH 0150/0006 | LOSS: 0.0317 |  ACC 0.1534\nTRAIN: EPOCH 0728/0800 | LOSS: 0.0677 |  ACC 0.1629\nTEST:  LOSS: 5.9337 |  ACC 2.0102\n\nEpoch: 729\nTRAIN: EPOCH 0729/0800 | BATCH 0000/0006 | LOSS: 0.0037 |  ACC 0.0643\nTRAIN: EPOCH 0729/0800 | BATCH 0050/0006 | LOSS: 0.0295 |  ACC 0.1789\nTRAIN: EPOCH 0729/0800 | BATCH 0100/0006 | LOSS: 0.0180 |  ACC 0.1177\nTRAIN: EPOCH 0729/0800 | BATCH 0150/0006 | LOSS: 0.0349 |  ACC 0.1644\nTRAIN: EPOCH 0729/0800 | LOSS: 0.0656 |  ACC 0.1598\nTEST:  LOSS: 5.8265 |  ACC 1.9797\n\nEpoch: 730\nTRAIN: EPOCH 0730/0800 | BATCH 0000/0006 | LOSS: 0.0010 |  ACC 0.0376\nTRAIN: EPOCH 0730/0800 | BATCH 0050/0006 | LOSS: 0.0322 |  ACC 0.1822\nTRAIN: EPOCH 0730/0800 | BATCH 0100/0006 | LOSS: 0.0115 |  ACC 0.0686\nTRAIN: EPOCH 0730/0800 | BATCH 0150/0006 | LOSS: 0.0389 |  ACC 0.1741\nTRAIN: EPOCH 0730/0800 | LOSS: 0.0644 |  ACC 0.1527\nTEST:  LOSS: 6.0555 |  ACC 2.0237\n\nEpoch: 731\nTRAIN: EPOCH 0731/0800 | BATCH 0000/0006 | LOSS: 0.0007 |  ACC 0.0298\nTRAIN: EPOCH 0731/0800 | BATCH 0050/0006 | LOSS: 0.0791 |  ACC 0.3474\nTRAIN: EPOCH 0731/0800 | BATCH 0100/0006 | LOSS: 0.0104 |  ACC 0.0680\nTRAIN: EPOCH 0731/0800 | BATCH 0150/0006 | LOSS: 0.0316 |  ACC 0.1413\nTRAIN: EPOCH 0731/0800 | LOSS: 0.0691 |  ACC 0.1596\nTEST:  LOSS: 6.2922 |  ACC 2.0848\n\nEpoch: 732\nTRAIN: EPOCH 0732/0800 | BATCH 0000/0006 | LOSS: 0.0060 |  ACC 0.0786\nTRAIN: EPOCH 0732/0800 | BATCH 0050/0006 | LOSS: 0.0389 |  ACC 0.2188\nTRAIN: EPOCH 0732/0800 | BATCH 0100/0006 | LOSS: 0.0174 |  ACC 0.1039\nTRAIN: EPOCH 0732/0800 | BATCH 0150/0006 | LOSS: 0.0343 |  ACC 0.1583\nTRAIN: EPOCH 0732/0800 | LOSS: 0.0757 |  ACC 0.1743\nTEST:  LOSS: 5.7361 |  ACC 1.9639\n\nEpoch: 733\nTRAIN: EPOCH 0733/0800 | BATCH 0000/0006 | LOSS: 0.0005 |  ACC 0.0231\nTRAIN: EPOCH 0733/0800 | BATCH 0050/0006 | LOSS: 0.0351 |  ACC 0.2191\nTRAIN: EPOCH 0733/0800 | BATCH 0100/0006 | LOSS: 0.0193 |  ACC 0.1123\nTRAIN: EPOCH 0733/0800 | BATCH 0150/0006 | LOSS: 0.0307 |  ACC 0.1437\nTRAIN: EPOCH 0733/0800 | LOSS: 0.0648 |  ACC 0.1502\nTEST:  LOSS: 5.9091 |  ACC 2.0066\n\nEpoch: 734\nTRAIN: EPOCH 0734/0800 | BATCH 0000/0006 | LOSS: 0.0038 |  ACC 0.0621\nTRAIN: EPOCH 0734/0800 | BATCH 0050/0006 | LOSS: 0.0333 |  ACC 0.1197\nTRAIN: EPOCH 0734/0800 | BATCH 0100/0006 | LOSS: 0.0278 |  ACC 0.1468\nTRAIN: EPOCH 0734/0800 | BATCH 0150/0006 | LOSS: 0.0303 |  ACC 0.1503\nTRAIN: EPOCH 0734/0800 | LOSS: 0.0714 |  ACC 0.1678\nTEST:  LOSS: 5.8241 |  ACC 1.9990\n\nEpoch: 735\nTRAIN: EPOCH 0735/0800 | BATCH 0000/0006 | LOSS: 0.0069 |  ACC 0.0838\nTRAIN: EPOCH 0735/0800 | BATCH 0050/0006 | LOSS: 0.0300 |  ACC 0.1762\nTRAIN: EPOCH 0735/0800 | BATCH 0100/0006 | LOSS: 0.0246 |  ACC 0.1431\nTRAIN: EPOCH 0735/0800 | BATCH 0150/0006 | LOSS: 0.0408 |  ACC 0.1866\nTRAIN: EPOCH 0735/0800 | LOSS: 0.0693 |  ACC 0.1658\nTEST:  LOSS: 5.8523 |  ACC 2.0287\n\nEpoch: 736\nTRAIN: EPOCH 0736/0800 | BATCH 0000/0006 | LOSS: 0.0051 |  ACC 0.0739\nTRAIN: EPOCH 0736/0800 | BATCH 0050/0006 | LOSS: 0.0330 |  ACC 0.1337\nTRAIN: EPOCH 0736/0800 | BATCH 0100/0006 | LOSS: 0.0179 |  ACC 0.1012\nTRAIN: EPOCH 0736/0800 | BATCH 0150/0006 | LOSS: 0.0382 |  ACC 0.1802\nTRAIN: EPOCH 0736/0800 | LOSS: 0.0683 |  ACC 0.1628\nTEST:  LOSS: 5.9338 |  ACC 2.0669\n\nEpoch: 737\nTRAIN: EPOCH 0737/0800 | BATCH 0000/0006 | LOSS: 0.0036 |  ACC 0.0626\nTRAIN: EPOCH 0737/0800 | BATCH 0050/0006 | LOSS: 0.0470 |  ACC 0.2574\nTRAIN: EPOCH 0737/0800 | BATCH 0100/0006 | LOSS: 0.0118 |  ACC 0.0779\nTRAIN: EPOCH 0737/0800 | BATCH 0150/0006 | LOSS: 0.0527 |  ACC 0.2136\nTRAIN: EPOCH 0737/0800 | LOSS: 0.0767 |  ACC 0.1821\nTEST:  LOSS: 4.9986 |  ACC 1.8328\n\nEpoch: 738\nTRAIN: EPOCH 0738/0800 | BATCH 0000/0006 | LOSS: 0.0021 |  ACC 0.0504\nTRAIN: EPOCH 0738/0800 | BATCH 0050/0006 | LOSS: 0.0538 |  ACC 0.1645\nTRAIN: EPOCH 0738/0800 | BATCH 0100/0006 | LOSS: 0.0123 |  ACC 0.0949\nTRAIN: EPOCH 0738/0800 | BATCH 0150/0006 | LOSS: 0.0361 |  ACC 0.1684\nTRAIN: EPOCH 0738/0800 | LOSS: 0.0928 |  ACC 0.2049\nTEST:  LOSS: 5.2450 |  ACC 1.8657\n\nEpoch: 739\nTRAIN: EPOCH 0739/0800 | BATCH 0000/0006 | LOSS: 0.0108 |  ACC 0.1042\nTRAIN: EPOCH 0739/0800 | BATCH 0050/0006 | LOSS: 0.1507 |  ACC 0.4881\nTRAIN: EPOCH 0739/0800 | BATCH 0100/0006 | LOSS: 0.0106 |  ACC 0.0852\nTRAIN: EPOCH 0739/0800 | BATCH 0150/0006 | LOSS: 0.0323 |  ACC 0.1617\nTRAIN: EPOCH 0739/0800 | LOSS: 0.1151 |  ACC 0.2263\nTEST:  LOSS: 5.3472 |  ACC 1.8881\n\nEpoch: 740\nTRAIN: EPOCH 0740/0800 | BATCH 0000/0006 | LOSS: 0.1025 |  ACC 0.3213\nTRAIN: EPOCH 0740/0800 | BATCH 0050/0006 | LOSS: 0.0509 |  ACC 0.1481\nTRAIN: EPOCH 0740/0800 | BATCH 0100/0006 | LOSS: 0.0127 |  ACC 0.0870\nTRAIN: EPOCH 0740/0800 | BATCH 0150/0006 | LOSS: 0.0326 |  ACC 0.1572\nTRAIN: EPOCH 0740/0800 | LOSS: 0.1175 |  ACC 0.2188\nTEST:  LOSS: 5.8552 |  ACC 1.9942\n\nEpoch: 741\nTRAIN: EPOCH 0741/0800 | BATCH 0000/0006 | LOSS: 0.0012 |  ACC 0.0420\nTRAIN: EPOCH 0741/0800 | BATCH 0050/0006 | LOSS: 0.0317 |  ACC 0.1509\nTRAIN: EPOCH 0741/0800 | BATCH 0100/0006 | LOSS: 0.0293 |  ACC 0.1531\nTRAIN: EPOCH 0741/0800 | BATCH 0150/0006 | LOSS: 0.1261 |  ACC 0.3439\nTRAIN: EPOCH 0741/0800 | LOSS: 0.0965 |  ACC 0.2133\nTEST:  LOSS: 6.3264 |  ACC 2.0798\n\nEpoch: 742\nTRAIN: EPOCH 0742/0800 | BATCH 0000/0006 | LOSS: 0.0221 |  ACC 0.1498\nTRAIN: EPOCH 0742/0800 | BATCH 0050/0006 | LOSS: 0.1055 |  ACC 0.3886\nTRAIN: EPOCH 0742/0800 | BATCH 0100/0006 | LOSS: 0.0075 |  ACC 0.0462\nTRAIN: EPOCH 0742/0800 | BATCH 0150/0006 | LOSS: 0.0353 |  ACC 0.1526\nTRAIN: EPOCH 0742/0800 | LOSS: 0.0924 |  ACC 0.2065\nTEST:  LOSS: 6.1265 |  ACC 2.0393\n\nEpoch: 743\nTRAIN: EPOCH 0743/0800 | BATCH 0000/0006 | LOSS: 0.0031 |  ACC 0.0590\nTRAIN: EPOCH 0743/0800 | BATCH 0050/0006 | LOSS: 0.0580 |  ACC 0.3079\nTRAIN: EPOCH 0743/0800 | BATCH 0100/0006 | LOSS: 0.0131 |  ACC 0.0794\nTRAIN: EPOCH 0743/0800 | BATCH 0150/0006 | LOSS: 0.0342 |  ACC 0.1484\nTRAIN: EPOCH 0743/0800 | LOSS: 0.0977 |  ACC 0.2173\nTEST:  LOSS: 6.0048 |  ACC 2.0134\n\nEpoch: 744\nTRAIN: EPOCH 0744/0800 | BATCH 0000/0006 | LOSS: 0.0055 |  ACC 0.0767\nTRAIN: EPOCH 0744/0800 | BATCH 0050/0006 | LOSS: 0.0366 |  ACC 0.1522\nTRAIN: EPOCH 0744/0800 | BATCH 0100/0006 | LOSS: 0.0166 |  ACC 0.1093\nTRAIN: EPOCH 0744/0800 | BATCH 0150/0006 | LOSS: 0.0485 |  ACC 0.1893\nTRAIN: EPOCH 0744/0800 | LOSS: 0.0691 |  ACC 0.1631\nTEST:  LOSS: 5.8678 |  ACC 1.9757\n\nEpoch: 745\nTRAIN: EPOCH 0745/0800 | BATCH 0000/0006 | LOSS: 0.0022 |  ACC 0.0516\nTRAIN: EPOCH 0745/0800 | BATCH 0050/0006 | LOSS: 0.0351 |  ACC 0.1283\nTRAIN: EPOCH 0745/0800 | BATCH 0100/0006 | LOSS: 0.0270 |  ACC 0.1473\nTRAIN: EPOCH 0745/0800 | BATCH 0150/0006 | LOSS: 0.0567 |  ACC 0.2078\nTRAIN: EPOCH 0745/0800 | LOSS: 0.0649 |  ACC 0.1539\nTEST:  LOSS: 6.0746 |  ACC 2.0204\n\nEpoch: 746\nTRAIN: EPOCH 0746/0800 | BATCH 0000/0006 | LOSS: 0.0010 |  ACC 0.0378\nTRAIN: EPOCH 0746/0800 | BATCH 0050/0006 | LOSS: 0.0300 |  ACC 0.1715\nTRAIN: EPOCH 0746/0800 | BATCH 0100/0006 | LOSS: 0.0227 |  ACC 0.1303\nTRAIN: EPOCH 0746/0800 | BATCH 0150/0006 | LOSS: 0.0382 |  ACC 0.1598\nTRAIN: EPOCH 0746/0800 | LOSS: 0.0649 |  ACC 0.1517\nTEST:  LOSS: 6.0758 |  ACC 2.0247\n\nEpoch: 747\nTRAIN: EPOCH 0747/0800 | BATCH 0000/0006 | LOSS: 0.0025 |  ACC 0.0539\nTRAIN: EPOCH 0747/0800 | BATCH 0050/0006 | LOSS: 0.0317 |  ACC 0.1864\nTRAIN: EPOCH 0747/0800 | BATCH 0100/0006 | LOSS: 0.0281 |  ACC 0.1512\nTRAIN: EPOCH 0747/0800 | BATCH 0150/0006 | LOSS: 0.0598 |  ACC 0.2145\nTRAIN: EPOCH 0747/0800 | LOSS: 0.0637 |  ACC 0.1465\nTEST:  LOSS: 6.2508 |  ACC 2.0820\n\nEpoch: 748\nTRAIN: EPOCH 0748/0800 | BATCH 0000/0006 | LOSS: 0.0057 |  ACC 0.0776\nTRAIN: EPOCH 0748/0800 | BATCH 0050/0006 | LOSS: 0.0302 |  ACC 0.1837\nTRAIN: EPOCH 0748/0800 | BATCH 0100/0006 | LOSS: 0.0276 |  ACC 0.1530\nTRAIN: EPOCH 0748/0800 | BATCH 0150/0006 | LOSS: 0.0472 |  ACC 0.1927\nTRAIN: EPOCH 0748/0800 | LOSS: 0.0681 |  ACC 0.1589\nTEST:  LOSS: 5.7194 |  ACC 1.9440\n\nEpoch: 749\nTRAIN: EPOCH 0749/0800 | BATCH 0000/0006 | LOSS: 0.0008 |  ACC 0.0341\nTRAIN: EPOCH 0749/0800 | BATCH 0050/0006 | LOSS: 0.0330 |  ACC 0.1580\nTRAIN: EPOCH 0749/0800 | BATCH 0100/0006 | LOSS: 0.0314 |  ACC 0.1655\nTRAIN: EPOCH 0749/0800 | BATCH 0150/0006 | LOSS: 0.0329 |  ACC 0.1551\nTRAIN: EPOCH 0749/0800 | LOSS: 0.0683 |  ACC 0.1609\nTEST:  LOSS: 5.9285 |  ACC 1.9837\n\nEpoch: 750\nTRAIN: EPOCH 0750/0800 | BATCH 0000/0006 | LOSS: 0.0011 |  ACC 0.0412\nTRAIN: EPOCH 0750/0800 | BATCH 0050/0006 | LOSS: 0.0338 |  ACC 0.2136\nTRAIN: EPOCH 0750/0800 | BATCH 0100/0006 | LOSS: 0.0084 |  ACC 0.0513\nTRAIN: EPOCH 0750/0800 | BATCH 0150/0006 | LOSS: 0.0409 |  ACC 0.1665\nTRAIN: EPOCH 0750/0800 | LOSS: 0.0649 |  ACC 0.1530\nTEST:  LOSS: 6.5747 |  ACC 2.1344\n\nEpoch: 751\nTRAIN: EPOCH 0751/0800 | BATCH 0000/0006 | LOSS: 0.0070 |  ACC 0.0862\nTRAIN: EPOCH 0751/0800 | BATCH 0050/0006 | LOSS: 0.0843 |  ACC 0.3586\nTRAIN: EPOCH 0751/0800 | BATCH 0100/0006 | LOSS: 0.0128 |  ACC 0.0742\nTRAIN: EPOCH 0751/0800 | BATCH 0150/0006 | LOSS: 0.0401 |  ACC 0.1666\nTRAIN: EPOCH 0751/0800 | LOSS: 0.0765 |  ACC 0.1748\nTEST:  LOSS: 5.8761 |  ACC 1.9927\n\nEpoch: 752\nTRAIN: EPOCH 0752/0800 | BATCH 0000/0006 | LOSS: 0.0203 |  ACC 0.1428\nTRAIN: EPOCH 0752/0800 | BATCH 0050/0006 | LOSS: 0.0330 |  ACC 0.1705\nTRAIN: EPOCH 0752/0800 | BATCH 0100/0006 | LOSS: 0.0149 |  ACC 0.0931\nTRAIN: EPOCH 0752/0800 | BATCH 0150/0006 | LOSS: 0.0315 |  ACC 0.1443\nTRAIN: EPOCH 0752/0800 | LOSS: 0.0719 |  ACC 0.1647\nTEST:  LOSS: 5.5096 |  ACC 1.9210\n\nEpoch: 753\nTRAIN: EPOCH 0753/0800 | BATCH 0000/0006 | LOSS: 0.0035 |  ACC 0.0590\nTRAIN: EPOCH 0753/0800 | BATCH 0050/0006 | LOSS: 0.0301 |  ACC 0.1782\nTRAIN: EPOCH 0753/0800 | BATCH 0100/0006 | LOSS: 0.0216 |  ACC 0.1333\nTRAIN: EPOCH 0753/0800 | BATCH 0150/0006 | LOSS: 0.0312 |  ACC 0.1570\nTRAIN: EPOCH 0753/0800 | LOSS: 0.0697 |  ACC 0.1634\nTEST:  LOSS: 5.3632 |  ACC 1.9173\n\nEpoch: 754\nTRAIN: EPOCH 0754/0800 | BATCH 0000/0006 | LOSS: 0.0086 |  ACC 0.0938\nTRAIN: EPOCH 0754/0800 | BATCH 0050/0006 | LOSS: 0.0393 |  ACC 0.1712\nTRAIN: EPOCH 0754/0800 | BATCH 0100/0006 | LOSS: 0.0073 |  ACC 0.0671\nTRAIN: EPOCH 0754/0800 | BATCH 0150/0006 | LOSS: 0.0307 |  ACC 0.1607\nTRAIN: EPOCH 0754/0800 | LOSS: 0.0841 |  ACC 0.1957\nTEST:  LOSS: 5.4830 |  ACC 1.9657\n\nEpoch: 755\nTRAIN: EPOCH 0755/0800 | BATCH 0000/0006 | LOSS: 0.0245 |  ACC 0.1580\nTRAIN: EPOCH 0755/0800 | BATCH 0050/0006 | LOSS: 0.0373 |  ACC 0.2360\nTRAIN: EPOCH 0755/0800 | BATCH 0100/0006 | LOSS: 0.0148 |  ACC 0.0842\nTRAIN: EPOCH 0755/0800 | BATCH 0150/0006 | LOSS: 0.0394 |  ACC 0.1766\nTRAIN: EPOCH 0755/0800 | LOSS: 0.0876 |  ACC 0.1949\nTEST:  LOSS: 5.3759 |  ACC 1.9852\n\nEpoch: 756\nTRAIN: EPOCH 0756/0800 | BATCH 0000/0006 | LOSS: 0.0046 |  ACC 0.0732\nTRAIN: EPOCH 0756/0800 | BATCH 0050/0006 | LOSS: 0.0699 |  ACC 0.2950\nTRAIN: EPOCH 0756/0800 | BATCH 0100/0006 | LOSS: 0.0364 |  ACC 0.1689\nTRAIN: EPOCH 0756/0800 | BATCH 0150/0006 | LOSS: 0.0373 |  ACC 0.1660\nTRAIN: EPOCH 0756/0800 | LOSS: 0.1287 |  ACC 0.2456\nTEST:  LOSS: 5.8126 |  ACC 2.0015\n\nEpoch: 757\nTRAIN: EPOCH 0757/0800 | BATCH 0000/0006 | LOSS: 0.0499 |  ACC 0.2233\nTRAIN: EPOCH 0757/0800 | BATCH 0050/0006 | LOSS: 0.1143 |  ACC 0.4268\nTRAIN: EPOCH 0757/0800 | BATCH 0100/0006 | LOSS: 0.0153 |  ACC 0.0866\nTRAIN: EPOCH 0757/0800 | BATCH 0150/0006 | LOSS: 0.0307 |  ACC 0.1539\nTRAIN: EPOCH 0757/0800 | LOSS: 0.1268 |  ACC 0.2444\nTEST:  LOSS: 5.4258 |  ACC 1.9082\n\nEpoch: 758\nTRAIN: EPOCH 0758/0800 | BATCH 0000/0006 | LOSS: 0.0760 |  ACC 0.2761\nTRAIN: EPOCH 0758/0800 | BATCH 0050/0006 | LOSS: 0.0351 |  ACC 0.1925\nTRAIN: EPOCH 0758/0800 | BATCH 0100/0006 | LOSS: 0.0079 |  ACC 0.0560\nTRAIN: EPOCH 0758/0800 | BATCH 0150/0006 | LOSS: 0.0325 |  ACC 0.1592\nTRAIN: EPOCH 0758/0800 | LOSS: 0.1492 |  ACC 0.2708\nTEST:  LOSS: 5.3190 |  ACC 1.8903\n\nEpoch: 759\nTRAIN: EPOCH 0759/0800 | BATCH 0000/0006 | LOSS: 0.0351 |  ACC 0.1871\nTRAIN: EPOCH 0759/0800 | BATCH 0050/0006 | LOSS: 0.0703 |  ACC 0.1620\nTRAIN: EPOCH 0759/0800 | BATCH 0100/0006 | LOSS: 0.0163 |  ACC 0.0936\nTRAIN: EPOCH 0759/0800 | BATCH 0150/0006 | LOSS: 0.0346 |  ACC 0.1533\nTRAIN: EPOCH 0759/0800 | LOSS: 0.1262 |  ACC 0.2521\nTEST:  LOSS: 6.3953 |  ACC 2.1001\n\nEpoch: 760\nTRAIN: EPOCH 0760/0800 | BATCH 0000/0006 | LOSS: 0.0336 |  ACC 0.1835\nTRAIN: EPOCH 0760/0800 | BATCH 0050/0006 | LOSS: 0.0833 |  ACC 0.3627\nTRAIN: EPOCH 0760/0800 | BATCH 0100/0006 | LOSS: 0.0201 |  ACC 0.1168\nTRAIN: EPOCH 0760/0800 | BATCH 0150/0006 | LOSS: 0.0424 |  ACC 0.1771\nTRAIN: EPOCH 0760/0800 | LOSS: 0.0957 |  ACC 0.1957\nTEST:  LOSS: 5.6899 |  ACC 1.9533\n\nEpoch: 761\nTRAIN: EPOCH 0761/0800 | BATCH 0000/0006 | LOSS: 0.0056 |  ACC 0.0752\nTRAIN: EPOCH 0761/0800 | BATCH 0050/0006 | LOSS: 0.0301 |  ACC 0.1365\nTRAIN: EPOCH 0761/0800 | BATCH 0100/0006 | LOSS: 0.0064 |  ACC 0.0441\nTRAIN: EPOCH 0761/0800 | BATCH 0150/0006 | LOSS: 0.0397 |  ACC 0.1725\nTRAIN: EPOCH 0761/0800 | LOSS: 0.1039 |  ACC 0.2198\nTEST:  LOSS: 5.7262 |  ACC 1.9608\n\nEpoch: 762\nTRAIN: EPOCH 0762/0800 | BATCH 0000/0006 | LOSS: 0.0014 |  ACC 0.0392\nTRAIN: EPOCH 0762/0800 | BATCH 0050/0006 | LOSS: 0.0316 |  ACC 0.1491\nTRAIN: EPOCH 0762/0800 | BATCH 0100/0006 | LOSS: 0.0113 |  ACC 0.0779\nTRAIN: EPOCH 0762/0800 | BATCH 0150/0006 | LOSS: 0.0316 |  ACC 0.1498\nTRAIN: EPOCH 0762/0800 | LOSS: 0.0719 |  ACC 0.1667\nTEST:  LOSS: 6.0276 |  ACC 2.0335\n\nEpoch: 763\nTRAIN: EPOCH 0763/0800 | BATCH 0000/0006 | LOSS: 0.0022 |  ACC 0.0498\nTRAIN: EPOCH 0763/0800 | BATCH 0050/0006 | LOSS: 0.0498 |  ACC 0.2543\nTRAIN: EPOCH 0763/0800 | BATCH 0100/0006 | LOSS: 0.0082 |  ACC 0.0483\nTRAIN: EPOCH 0763/0800 | BATCH 0150/0006 | LOSS: 0.0327 |  ACC 0.1554\nTRAIN: EPOCH 0763/0800 | LOSS: 0.0676 |  ACC 0.1575\nTEST:  LOSS: 6.0517 |  ACC 2.0409\n\nEpoch: 764\nTRAIN: EPOCH 0764/0800 | BATCH 0000/0006 | LOSS: 0.0013 |  ACC 0.0431\nTRAIN: EPOCH 0764/0800 | BATCH 0050/0006 | LOSS: 0.0326 |  ACC 0.1795\nTRAIN: EPOCH 0764/0800 | BATCH 0100/0006 | LOSS: 0.0098 |  ACC 0.0627\nTRAIN: EPOCH 0764/0800 | BATCH 0150/0006 | LOSS: 0.0316 |  ACC 0.1512\nTRAIN: EPOCH 0764/0800 | LOSS: 0.0628 |  ACC 0.1448\nTEST:  LOSS: 6.1152 |  ACC 2.0516\n\nEpoch: 765\nTRAIN: EPOCH 0765/0800 | BATCH 0000/0006 | LOSS: 0.0025 |  ACC 0.0555\nTRAIN: EPOCH 0765/0800 | BATCH 0050/0006 | LOSS: 0.0440 |  ACC 0.2372\nTRAIN: EPOCH 0765/0800 | BATCH 0100/0006 | LOSS: 0.0110 |  ACC 0.0680\nTRAIN: EPOCH 0765/0800 | BATCH 0150/0006 | LOSS: 0.0335 |  ACC 0.1580\nTRAIN: EPOCH 0765/0800 | LOSS: 0.0627 |  ACC 0.1460\nTEST:  LOSS: 6.1931 |  ACC 2.0702\n\nEpoch: 766\nTRAIN: EPOCH 0766/0800 | BATCH 0000/0006 | LOSS: 0.0022 |  ACC 0.0539\nTRAIN: EPOCH 0766/0800 | BATCH 0050/0006 | LOSS: 0.0318 |  ACC 0.1705\nTRAIN: EPOCH 0766/0800 | BATCH 0100/0006 | LOSS: 0.0136 |  ACC 0.0866\nTRAIN: EPOCH 0766/0800 | BATCH 0150/0006 | LOSS: 0.0312 |  ACC 0.1503\nTRAIN: EPOCH 0766/0800 | LOSS: 0.0626 |  ACC 0.1464\nTEST:  LOSS: 6.0848 |  ACC 2.0424\n\nEpoch: 767\nTRAIN: EPOCH 0767/0800 | BATCH 0000/0006 | LOSS: 0.0019 |  ACC 0.0510\nTRAIN: EPOCH 0767/0800 | BATCH 0050/0006 | LOSS: 0.0343 |  ACC 0.1918\nTRAIN: EPOCH 0767/0800 | BATCH 0100/0006 | LOSS: 0.0145 |  ACC 0.0924\nTRAIN: EPOCH 0767/0800 | BATCH 0150/0006 | LOSS: 0.0318 |  ACC 0.1522\nTRAIN: EPOCH 0767/0800 | LOSS: 0.0612 |  ACC 0.1416\nTEST:  LOSS: 6.1399 |  ACC 2.0572\n\nEpoch: 768\nTRAIN: EPOCH 0768/0800 | BATCH 0000/0006 | LOSS: 0.0016 |  ACC 0.0483\nTRAIN: EPOCH 0768/0800 | BATCH 0050/0006 | LOSS: 0.0308 |  ACC 0.1319\nTRAIN: EPOCH 0768/0800 | BATCH 0100/0006 | LOSS: 0.0166 |  ACC 0.1023\nTRAIN: EPOCH 0768/0800 | BATCH 0150/0006 | LOSS: 0.0312 |  ACC 0.1514\nTRAIN: EPOCH 0768/0800 | LOSS: 0.0616 |  ACC 0.1441\nTEST:  LOSS: 6.0699 |  ACC 2.0368\n\nEpoch: 769\nTRAIN: EPOCH 0769/0800 | BATCH 0000/0006 | LOSS: 0.0010 |  ACC 0.0384\nTRAIN: EPOCH 0769/0800 | BATCH 0050/0006 | LOSS: 0.0321 |  ACC 0.1801\nTRAIN: EPOCH 0769/0800 | BATCH 0100/0006 | LOSS: 0.0167 |  ACC 0.1005\nTRAIN: EPOCH 0769/0800 | BATCH 0150/0006 | LOSS: 0.0316 |  ACC 0.1522\nTRAIN: EPOCH 0769/0800 | LOSS: 0.0612 |  ACC 0.1439\nTEST:  LOSS: 6.1697 |  ACC 2.0583\n\nEpoch: 770\nTRAIN: EPOCH 0770/0800 | BATCH 0000/0006 | LOSS: 0.0009 |  ACC 0.0316\nTRAIN: EPOCH 0770/0800 | BATCH 0050/0006 | LOSS: 0.0312 |  ACC 0.1326\nTRAIN: EPOCH 0770/0800 | BATCH 0100/0006 | LOSS: 0.0129 |  ACC 0.0786\nTRAIN: EPOCH 0770/0800 | BATCH 0150/0006 | LOSS: 0.0313 |  ACC 0.1491\nTRAIN: EPOCH 0770/0800 | LOSS: 0.0626 |  ACC 0.1464\nTEST:  LOSS: 6.0724 |  ACC 2.0324\n\nEpoch: 771\nTRAIN: EPOCH 0771/0800 | BATCH 0000/0006 | LOSS: 0.0006 |  ACC 0.0264\nTRAIN: EPOCH 0771/0800 | BATCH 0050/0006 | LOSS: 0.0373 |  ACC 0.2107\nTRAIN: EPOCH 0771/0800 | BATCH 0100/0006 | LOSS: 0.0139 |  ACC 0.0856\nTRAIN: EPOCH 0771/0800 | BATCH 0150/0006 | LOSS: 0.0320 |  ACC 0.1469\nTRAIN: EPOCH 0771/0800 | LOSS: 0.0626 |  ACC 0.1456\nTEST:  LOSS: 6.1685 |  ACC 2.0575\n\nEpoch: 772\nTRAIN: EPOCH 0772/0800 | BATCH 0000/0006 | LOSS: 0.0007 |  ACC 0.0266\nTRAIN: EPOCH 0772/0800 | BATCH 0050/0006 | LOSS: 0.0327 |  ACC 0.1194\nTRAIN: EPOCH 0772/0800 | BATCH 0100/0006 | LOSS: 0.0138 |  ACC 0.0851\nTRAIN: EPOCH 0772/0800 | BATCH 0150/0006 | LOSS: 0.0345 |  ACC 0.1594\nTRAIN: EPOCH 0772/0800 | LOSS: 0.0672 |  ACC 0.1550\nTEST:  LOSS: 5.7496 |  ACC 1.9546\n\nEpoch: 773\nTRAIN: EPOCH 0773/0800 | BATCH 0000/0006 | LOSS: 0.0014 |  ACC 0.0304\nTRAIN: EPOCH 0773/0800 | BATCH 0050/0006 | LOSS: 0.0385 |  ACC 0.2246\nTRAIN: EPOCH 0773/0800 | BATCH 0100/0006 | LOSS: 0.0213 |  ACC 0.1230\nTRAIN: EPOCH 0773/0800 | BATCH 0150/0006 | LOSS: 0.0318 |  ACC 0.1430\nTRAIN: EPOCH 0773/0800 | LOSS: 0.0755 |  ACC 0.1652\nTEST:  LOSS: 6.6128 |  ACC 2.1593\n\nEpoch: 774\nTRAIN: EPOCH 0774/0800 | BATCH 0000/0006 | LOSS: 0.0036 |  ACC 0.0593\nTRAIN: EPOCH 0774/0800 | BATCH 0050/0006 | LOSS: 0.0470 |  ACC 0.1523\nTRAIN: EPOCH 0774/0800 | BATCH 0100/0006 | LOSS: 0.0137 |  ACC 0.0884\nTRAIN: EPOCH 0774/0800 | BATCH 0150/0006 | LOSS: 0.0366 |  ACC 0.1735\nTRAIN: EPOCH 0774/0800 | LOSS: 0.0777 |  ACC 0.1714\nTEST:  LOSS: 5.4818 |  ACC 1.9104\n\nEpoch: 775\nTRAIN: EPOCH 0775/0800 | BATCH 0000/0006 | LOSS: 0.0017 |  ACC 0.0384\nTRAIN: EPOCH 0775/0800 | BATCH 0050/0006 | LOSS: 0.0354 |  ACC 0.2298\nTRAIN: EPOCH 0775/0800 | BATCH 0100/0006 | LOSS: 0.0284 |  ACC 0.1540\nTRAIN: EPOCH 0775/0800 | BATCH 0150/0006 | LOSS: 0.0322 |  ACC 0.1562\nTRAIN: EPOCH 0775/0800 | LOSS: 0.0766 |  ACC 0.1751\nTEST:  LOSS: 6.2642 |  ACC 2.1188\n\nEpoch: 776\nTRAIN: EPOCH 0776/0800 | BATCH 0000/0006 | LOSS: 0.0020 |  ACC 0.0443\nTRAIN: EPOCH 0776/0800 | BATCH 0050/0006 | LOSS: 0.0313 |  ACC 0.1724\nTRAIN: EPOCH 0776/0800 | BATCH 0100/0006 | LOSS: 0.0167 |  ACC 0.0996\nTRAIN: EPOCH 0776/0800 | BATCH 0150/0006 | LOSS: 0.0367 |  ACC 0.1738\nTRAIN: EPOCH 0776/0800 | LOSS: 0.0726 |  ACC 0.1677\nTEST:  LOSS: 5.8678 |  ACC 1.9898\n\nEpoch: 777\nTRAIN: EPOCH 0777/0800 | BATCH 0000/0006 | LOSS: 0.0049 |  ACC 0.0707\nTRAIN: EPOCH 0777/0800 | BATCH 0050/0006 | LOSS: 0.0517 |  ACC 0.2875\nTRAIN: EPOCH 0777/0800 | BATCH 0100/0006 | LOSS: 0.0186 |  ACC 0.1090\nTRAIN: EPOCH 0777/0800 | BATCH 0150/0006 | LOSS: 0.0313 |  ACC 0.1514\nTRAIN: EPOCH 0777/0800 | LOSS: 0.0679 |  ACC 0.1647\nTEST:  LOSS: 6.3865 |  ACC 2.0992\n\nEpoch: 778\nTRAIN: EPOCH 0778/0800 | BATCH 0000/0006 | LOSS: 0.0014 |  ACC 0.0412\nTRAIN: EPOCH 0778/0800 | BATCH 0050/0006 | LOSS: 0.0388 |  ACC 0.1355\nTRAIN: EPOCH 0778/0800 | BATCH 0100/0006 | LOSS: 0.0166 |  ACC 0.1076\nTRAIN: EPOCH 0778/0800 | BATCH 0150/0006 | LOSS: 0.0383 |  ACC 0.1794\nTRAIN: EPOCH 0778/0800 | LOSS: 0.0879 |  ACC 0.1992\nTEST:  LOSS: 6.3339 |  ACC 2.0828\n\nEpoch: 779\nTRAIN: EPOCH 0779/0800 | BATCH 0000/0006 | LOSS: 0.0064 |  ACC 0.0802\nTRAIN: EPOCH 0779/0800 | BATCH 0050/0006 | LOSS: 0.0398 |  ACC 0.2415\nTRAIN: EPOCH 0779/0800 | BATCH 0100/0006 | LOSS: 0.0067 |  ACC 0.0604\nTRAIN: EPOCH 0779/0800 | BATCH 0150/0006 | LOSS: 0.0334 |  ACC 0.1590\nTRAIN: EPOCH 0779/0800 | LOSS: 0.0778 |  ACC 0.1822\nTEST:  LOSS: 6.4420 |  ACC 2.1101\n\nEpoch: 780\nTRAIN: EPOCH 0780/0800 | BATCH 0000/0006 | LOSS: 0.0045 |  ACC 0.0689\nTRAIN: EPOCH 0780/0800 | BATCH 0050/0006 | LOSS: 0.1142 |  ACC 0.4053\nTRAIN: EPOCH 0780/0800 | BATCH 0100/0006 | LOSS: 0.0159 |  ACC 0.0921\nTRAIN: EPOCH 0780/0800 | BATCH 0150/0006 | LOSS: 0.0313 |  ACC 0.1359\nTRAIN: EPOCH 0780/0800 | LOSS: 0.0857 |  ACC 0.1975\nTEST:  LOSS: 6.8160 |  ACC 2.1922\n\nEpoch: 781\nTRAIN: EPOCH 0781/0800 | BATCH 0000/0006 | LOSS: 0.0228 |  ACC 0.1513\nTRAIN: EPOCH 0781/0800 | BATCH 0050/0006 | LOSS: 0.0942 |  ACC 0.3737\nTRAIN: EPOCH 0781/0800 | BATCH 0100/0006 | LOSS: 0.0252 |  ACC 0.1366\nTRAIN: EPOCH 0781/0800 | BATCH 0150/0006 | LOSS: 0.0400 |  ACC 0.1706\nTRAIN: EPOCH 0781/0800 | LOSS: 0.0787 |  ACC 0.1823\nTEST:  LOSS: 6.3568 |  ACC 2.1141\n\nEpoch: 782\nTRAIN: EPOCH 0782/0800 | BATCH 0000/0006 | LOSS: 0.0026 |  ACC 0.0534\nTRAIN: EPOCH 0782/0800 | BATCH 0050/0006 | LOSS: 0.0375 |  ACC 0.1119\nTRAIN: EPOCH 0782/0800 | BATCH 0100/0006 | LOSS: 0.0071 |  ACC 0.0598\nTRAIN: EPOCH 0782/0800 | BATCH 0150/0006 | LOSS: 0.0299 |  ACC 0.1560\nTRAIN: EPOCH 0782/0800 | LOSS: 0.0735 |  ACC 0.1774\nTEST:  LOSS: 5.8305 |  ACC 2.0010\n\nEpoch: 783\nTRAIN: EPOCH 0783/0800 | BATCH 0000/0006 | LOSS: 0.0053 |  ACC 0.0758\nTRAIN: EPOCH 0783/0800 | BATCH 0050/0006 | LOSS: 0.0438 |  ACC 0.1247\nTRAIN: EPOCH 0783/0800 | BATCH 0100/0006 | LOSS: 0.0072 |  ACC 0.0535\nTRAIN: EPOCH 0783/0800 | BATCH 0150/0006 | LOSS: 0.0354 |  ACC 0.1711\nTRAIN: EPOCH 0783/0800 | LOSS: 0.0728 |  ACC 0.1719\nTEST:  LOSS: 5.4764 |  ACC 1.9243\n\nEpoch: 784\nTRAIN: EPOCH 0784/0800 | BATCH 0000/0006 | LOSS: 0.0129 |  ACC 0.1160\nTRAIN: EPOCH 0784/0800 | BATCH 0050/0006 | LOSS: 0.0336 |  ACC 0.1694\nTRAIN: EPOCH 0784/0800 | BATCH 0100/0006 | LOSS: 0.0181 |  ACC 0.0957\nTRAIN: EPOCH 0784/0800 | BATCH 0150/0006 | LOSS: 0.0383 |  ACC 0.1726\nTRAIN: EPOCH 0784/0800 | LOSS: 0.0795 |  ACC 0.1874\nTEST:  LOSS: 6.1436 |  ACC 2.0518\n\nEpoch: 785\nTRAIN: EPOCH 0785/0800 | BATCH 0000/0006 | LOSS: 0.0028 |  ACC 0.0553\nTRAIN: EPOCH 0785/0800 | BATCH 0050/0006 | LOSS: 0.1028 |  ACC 0.3512\nTRAIN: EPOCH 0785/0800 | BATCH 0100/0006 | LOSS: 0.0237 |  ACC 0.1189\nTRAIN: EPOCH 0785/0800 | BATCH 0150/0006 | LOSS: 0.0877 |  ACC 0.2783\nTRAIN: EPOCH 0785/0800 | LOSS: 0.1049 |  ACC 0.2268\nTEST:  LOSS: 6.6584 |  ACC 2.1652\n\nEpoch: 786\nTRAIN: EPOCH 0786/0800 | BATCH 0000/0006 | LOSS: 0.0149 |  ACC 0.1225\nTRAIN: EPOCH 0786/0800 | BATCH 0050/0006 | LOSS: 0.0358 |  ACC 0.1894\nTRAIN: EPOCH 0786/0800 | BATCH 0100/0006 | LOSS: 0.0288 |  ACC 0.1509\nTRAIN: EPOCH 0786/0800 | BATCH 0150/0006 | LOSS: 0.0498 |  ACC 0.1963\nTRAIN: EPOCH 0786/0800 | LOSS: 0.0804 |  ACC 0.1850\nTEST:  LOSS: 5.8818 |  ACC 2.0150\n\nEpoch: 787\nTRAIN: EPOCH 0787/0800 | BATCH 0000/0006 | LOSS: 0.0031 |  ACC 0.0573\nTRAIN: EPOCH 0787/0800 | BATCH 0050/0006 | LOSS: 0.0802 |  ACC 0.1777\nTRAIN: EPOCH 0787/0800 | BATCH 0100/0006 | LOSS: 0.0101 |  ACC 0.0840\nTRAIN: EPOCH 0787/0800 | BATCH 0150/0006 | LOSS: 0.0354 |  ACC 0.1737\nTRAIN: EPOCH 0787/0800 | LOSS: 0.0888 |  ACC 0.2072\nTEST:  LOSS: 5.3822 |  ACC 1.8976\n\nEpoch: 788\nTRAIN: EPOCH 0788/0800 | BATCH 0000/0006 | LOSS: 0.0557 |  ACC 0.2367\nTRAIN: EPOCH 0788/0800 | BATCH 0050/0006 | LOSS: 0.0413 |  ACC 0.1148\nTRAIN: EPOCH 0788/0800 | BATCH 0100/0006 | LOSS: 0.0102 |  ACC 0.0781\nTRAIN: EPOCH 0788/0800 | BATCH 0150/0006 | LOSS: 0.0323 |  ACC 0.1614\nTRAIN: EPOCH 0788/0800 | LOSS: 0.0803 |  ACC 0.1933\nTEST:  LOSS: 5.1767 |  ACC 1.8724\n\nEpoch: 789\nTRAIN: EPOCH 0789/0800 | BATCH 0000/0006 | LOSS: 0.0235 |  ACC 0.1556\nTRAIN: EPOCH 0789/0800 | BATCH 0050/0006 | LOSS: 0.0515 |  ACC 0.2586\nTRAIN: EPOCH 0789/0800 | BATCH 0100/0006 | LOSS: 0.0197 |  ACC 0.1104\nTRAIN: EPOCH 0789/0800 | BATCH 0150/0006 | LOSS: 0.0552 |  ACC 0.2180\nTRAIN: EPOCH 0789/0800 | LOSS: 0.0991 |  ACC 0.2208\nTEST:  LOSS: 6.4723 |  ACC 2.1231\n\nEpoch: 790\nTRAIN: EPOCH 0790/0800 | BATCH 0000/0006 | LOSS: 0.0092 |  ACC 0.0967\nTRAIN: EPOCH 0790/0800 | BATCH 0050/0006 | LOSS: 0.1443 |  ACC 0.4672\nTRAIN: EPOCH 0790/0800 | BATCH 0100/0006 | LOSS: 0.0257 |  ACC 0.1367\nTRAIN: EPOCH 0790/0800 | BATCH 0150/0006 | LOSS: 0.0318 |  ACC 0.1496\nTRAIN: EPOCH 0790/0800 | LOSS: 0.0937 |  ACC 0.1914\nTEST:  LOSS: 5.9291 |  ACC 2.0047\n\nEpoch: 791\nTRAIN: EPOCH 0791/0800 | BATCH 0000/0006 | LOSS: 0.0266 |  ACC 0.1653\nTRAIN: EPOCH 0791/0800 | BATCH 0050/0006 | LOSS: 0.0664 |  ACC 0.3249\nTRAIN: EPOCH 0791/0800 | BATCH 0100/0006 | LOSS: 0.0219 |  ACC 0.1343\nTRAIN: EPOCH 0791/0800 | BATCH 0150/0006 | LOSS: 0.0426 |  ACC 0.1876\nTRAIN: EPOCH 0791/0800 | LOSS: 0.1295 |  ACC 0.2506\nTEST:  LOSS: 5.7169 |  ACC 1.9456\n\nEpoch: 792\nTRAIN: EPOCH 0792/0800 | BATCH 0000/0006 | LOSS: 0.0395 |  ACC 0.2005\nTRAIN: EPOCH 0792/0800 | BATCH 0050/0006 | LOSS: 0.0467 |  ACC 0.1937\nTRAIN: EPOCH 0792/0800 | BATCH 0100/0006 | LOSS: 0.0225 |  ACC 0.1390\nTRAIN: EPOCH 0792/0800 | BATCH 0150/0006 | LOSS: 0.0336 |  ACC 0.1564\nTRAIN: EPOCH 0792/0800 | LOSS: 0.0735 |  ACC 0.1776\nTEST:  LOSS: 5.9539 |  ACC 1.9953\n\nEpoch: 793\nTRAIN: EPOCH 0793/0800 | BATCH 0000/0006 | LOSS: 0.0236 |  ACC 0.1570\nTRAIN: EPOCH 0793/0800 | BATCH 0050/0006 | LOSS: 0.0309 |  ACC 0.1537\nTRAIN: EPOCH 0793/0800 | BATCH 0100/0006 | LOSS: 0.0126 |  ACC 0.0855\nTRAIN: EPOCH 0793/0800 | BATCH 0150/0006 | LOSS: 0.0315 |  ACC 0.1382\nTRAIN: EPOCH 0793/0800 | LOSS: 0.0717 |  ACC 0.1681\nTEST:  LOSS: 6.5114 |  ACC 2.1200\n\nEpoch: 794\nTRAIN: EPOCH 0794/0800 | BATCH 0000/0006 | LOSS: 0.0020 |  ACC 0.0535\nTRAIN: EPOCH 0794/0800 | BATCH 0050/0006 | LOSS: 0.0413 |  ACC 0.2490\nTRAIN: EPOCH 0794/0800 | BATCH 0100/0006 | LOSS: 0.0260 |  ACC 0.1461\nTRAIN: EPOCH 0794/0800 | BATCH 0150/0006 | LOSS: 0.0509 |  ACC 0.1957\nTRAIN: EPOCH 0794/0800 | LOSS: 0.0726 |  ACC 0.1636\nTEST:  LOSS: 6.3298 |  ACC 2.1000\n\nEpoch: 795\nTRAIN: EPOCH 0795/0800 | BATCH 0000/0006 | LOSS: 0.0044 |  ACC 0.0757\nTRAIN: EPOCH 0795/0800 | BATCH 0050/0006 | LOSS: 0.0383 |  ACC 0.1694\nTRAIN: EPOCH 0795/0800 | BATCH 0100/0006 | LOSS: 0.0420 |  ACC 0.1963\nTRAIN: EPOCH 0795/0800 | BATCH 0150/0006 | LOSS: 0.0393 |  ACC 0.1743\nTRAIN: EPOCH 0795/0800 | LOSS: 0.0712 |  ACC 0.1653\nTEST:  LOSS: 5.7426 |  ACC 1.9703\n\nEpoch: 796\nTRAIN: EPOCH 0796/0800 | BATCH 0000/0006 | LOSS: 0.0058 |  ACC 0.0845\nTRAIN: EPOCH 0796/0800 | BATCH 0050/0006 | LOSS: 0.0342 |  ACC 0.1368\nTRAIN: EPOCH 0796/0800 | BATCH 0100/0006 | LOSS: 0.0290 |  ACC 0.1530\nTRAIN: EPOCH 0796/0800 | BATCH 0150/0006 | LOSS: 0.0347 |  ACC 0.1651\nTRAIN: EPOCH 0796/0800 | LOSS: 0.0743 |  ACC 0.1761\nTEST:  LOSS: 5.9200 |  ACC 2.0110\n\nEpoch: 797\nTRAIN: EPOCH 0797/0800 | BATCH 0000/0006 | LOSS: 0.0089 |  ACC 0.1019\nTRAIN: EPOCH 0797/0800 | BATCH 0050/0006 | LOSS: 0.0300 |  ACC 0.1333\nTRAIN: EPOCH 0797/0800 | BATCH 0100/0006 | LOSS: 0.0094 |  ACC 0.0764\nTRAIN: EPOCH 0797/0800 | BATCH 0150/0006 | LOSS: 0.0328 |  ACC 0.1593\nTRAIN: EPOCH 0797/0800 | LOSS: 0.0684 |  ACC 0.1673\nTEST:  LOSS: 6.0264 |  ACC 2.0285\n\nEpoch: 798\nTRAIN: EPOCH 0798/0800 | BATCH 0000/0006 | LOSS: 0.0062 |  ACC 0.0871\nTRAIN: EPOCH 0798/0800 | BATCH 0050/0006 | LOSS: 0.0382 |  ACC 0.1929\nTRAIN: EPOCH 0798/0800 | BATCH 0100/0006 | LOSS: 0.0141 |  ACC 0.0947\nTRAIN: EPOCH 0798/0800 | BATCH 0150/0006 | LOSS: 0.0362 |  ACC 0.1646\nTRAIN: EPOCH 0798/0800 | LOSS: 0.0674 |  ACC 0.1599\nTEST:  LOSS: 6.4309 |  ACC 2.1110\n\nEpoch: 799\nTRAIN: EPOCH 0799/0800 | BATCH 0000/0006 | LOSS: 0.0039 |  ACC 0.0695\nTRAIN: EPOCH 0799/0800 | BATCH 0050/0006 | LOSS: 0.0628 |  ACC 0.2934\nTRAIN: EPOCH 0799/0800 | BATCH 0100/0006 | LOSS: 0.0225 |  ACC 0.1263\nTRAIN: EPOCH 0799/0800 | BATCH 0150/0006 | LOSS: 0.0332 |  ACC 0.1522\nTRAIN: EPOCH 0799/0800 | LOSS: 0.0755 |  ACC 0.1732\nTEST:  LOSS: 6.2324 |  ACC 2.0738\n\nEpoch: 800\nTRAIN: EPOCH 0800/0800 | BATCH 0000/0006 | LOSS: 0.0007 |  ACC 0.0297\nTRAIN: EPOCH 0800/0800 | BATCH 0050/0006 | LOSS: 0.0314 |  ACC 0.1727\nTRAIN: EPOCH 0800/0800 | BATCH 0100/0006 | LOSS: 0.0297 |  ACC 0.1570\nTRAIN: EPOCH 0800/0800 | BATCH 0150/0006 | LOSS: 0.0305 |  ACC 0.1502\nTRAIN: EPOCH 0800/0800 | LOSS: 0.0772 |  ACC 0.1727\nTEST:  LOSS: 5.7119 |  ACC 1.9639\n2253.4010152816772\n",
     "output_type": "stream"
    },
    {
     "data": {
      "text/plain": "<Figure size 432x288 with 1 Axes>",
      "image/png": "[encoded data removed]"
     },
     "metadata": {
      "needs_background": "light",
      "image/png": {
       "width": 382,
       "height": 262
      }
     },
     "output_type": "display_data"
    }
   ]
  },
  {
   "cell_type": "code",
   "metadata": {
    "cell_id": "00029-977310fc-b2e8-4f53-9eb1-a481bc29a099",
    "deepnote_to_be_reexecuted": false,
    "source_hash": "801de675",
    "execution_start": 1628727163652,
    "execution_millis": 3,
    "deepnote_cell_type": "code"
   },
   "source": "def evaluate(test_loader, batch_size, n_features, model):\n    device = torch.device(\"cuda\" if torch.cuda.is_available() else \"cpu\")\n    with torch.no_grad():\n        predictions = []\n        values = []\n        for x_test, y_test in test_loader:\n            x_test = x_test.view([batch_size, -1, n_features]).to(device)\n            y_test = y_test.to(device)\n            model.eval()\n            yhat = model(x_test)\n            #batch_pred = []\n            #for i in range(batch_size):\n            #    batch_y_hat = yhat[i].detach().numpy()\n            #    batch_pred.append(batch_y_hat[-1][-1])\n            #batch_pred = array(batch_pred)\n            yhat = torch.flatten(yhat).detach().cpu()\n            predictions.append(yhat.numpy())\n            y_test=y_test.to(device).detach().cpu()\n            values.append(y_test.numpy())\n        #print(yhat.item())\n        #print('Len pred:/n', len(predictions))\n        #print('Len vals:/n', len(values))\n    return predictions, values",
   "execution_count": 25,
   "outputs": []
  },
  {
   "cell_type": "code",
   "metadata": {
    "cell_id": "00030-cefa4b54-3994-4c70-a782-683328e7f2a4",
    "deepnote_to_be_reexecuted": false,
    "source_hash": "dcbd6c8",
    "execution_start": 1628727165302,
    "execution_millis": 3458,
    "deepnote_cell_type": "code"
   },
   "source": "predictions, values =  evaluate(test_loader_one, batch_size=1, n_features=input_dim, model=model)",
   "execution_count": 26,
   "outputs": []
  },
  {
   "cell_type": "code",
   "metadata": {
    "cell_id": "00031-3c3fd2fa-ac9d-492a-87be-0ee62f5370dc",
    "deepnote_cell_type": "code"
   },
   "source": "pd.DataFrame({'Predictions': predictions,'Values': values})",
   "outputs": [
    {
     "data": {
      "text/html": "<div>\n<style scoped>\n    .dataframe tbody tr th:only-of-type {\n        vertical-align: middle;\n    }\n\n    .dataframe tbody tr th {\n        vertical-align: top;\n    }\n\n    .dataframe thead th {\n        text-align: right;\n    }\n</style>\n<table border=\"1\" class=\"dataframe\">\n  <thead>\n    <tr style=\"text-align: right;\">\n      <th></th>\n      <th>Predictions</th>\n      <th>Values</th>\n    </tr>\n  </thead>\n  <tbody>\n    <tr>\n      <th>0</th>\n      <td>[12.86079]</td>\n      <td>[12.95]</td>\n    </tr>\n    <tr>\n      <th>1</th>\n      <td>[12.857297]</td>\n      <td>[12.9875]</td>\n    </tr>\n    <tr>\n      <th>2</th>\n      <td>[12.87464]</td>\n      <td>[13.0655]</td>\n    </tr>\n    <tr>\n      <th>3</th>\n      <td>[12.901111]</td>\n      <td>[13.1375]</td>\n    </tr>\n    <tr>\n      <th>4</th>\n      <td>[12.920398]</td>\n      <td>[13.237]</td>\n    </tr>\n    <tr>\n      <th>...</th>\n      <td>...</td>\n      <td>...</td>\n    </tr>\n    <tr>\n      <th>1581</th>\n      <td>[14.337523]</td>\n      <td>[20.083]</td>\n    </tr>\n    <tr>\n      <th>1582</th>\n      <td>[14.321909]</td>\n      <td>[20.109]</td>\n    </tr>\n    <tr>\n      <th>1583</th>\n      <td>[14.329469]</td>\n      <td>[20.012]</td>\n    </tr>\n    <tr>\n      <th>1584</th>\n      <td>[14.310571]</td>\n      <td>[20.015]</td>\n    </tr>\n    <tr>\n      <th>1585</th>\n      <td>[14.317012]</td>\n      <td>[20.15]</td>\n    </tr>\n  </tbody>\n</table>\n<p>1586 rows × 2 columns</p>\n</div>",
      "text/plain": "      Predictions     Values\n0      [12.86079]    [12.95]\n1     [12.857297]  [12.9875]\n2      [12.87464]  [13.0655]\n3     [12.901111]  [13.1375]\n4     [12.920398]   [13.237]\n...           ...        ...\n1581  [14.337523]   [20.083]\n1582  [14.321909]   [20.109]\n1583  [14.329469]   [20.012]\n1584  [14.310571]   [20.015]\n1585  [14.317012]    [20.15]\n\n[1586 rows x 2 columns]"
     },
     "execution_count": 29,
     "metadata": {},
     "output_type": "execute_result"
    }
   ],
   "execution_count": null
  },
  {
   "cell_type": "code",
   "metadata": {
    "collapsed": true,
    "cell_id": "00032-303e3f17-4051-41f3-b832-3032fba9e29d",
    "deepnote_cell_type": "code"
   },
   "source": "values",
   "execution_count": null,
   "outputs": []
  },
  {
   "cell_type": "code",
   "metadata": {
    "cell_id": "00033-2dbb9a0b-a902-455a-bd1f-bceeddcd828d",
    "deepnote_to_be_reexecuted": false,
    "source_hash": "c84e31d9",
    "execution_start": 1628727173339,
    "execution_millis": 254,
    "deepnote_cell_type": "code"
   },
   "source": "plt.figure(1)\nplt.plot(X_train.index, X_train.iloc[:,0], label='Values - Training Set')\nplt.plot(X_test.index[0:len(predictions)], array(predictions), label='Predictions')\nplt.plot(X_test.index, X_test.iloc[:,0], label='Values - Test Set')\n\nplt.xlabel('Time')\nplt.ylabel('FX Rate')\nplt.legend()",
   "execution_count": 27,
   "outputs": [
    {
     "output_type": "execute_result",
     "execution_count": 27,
     "data": {
      "text/plain": "<matplotlib.legend.Legend at 0x7f8d5941d4a8>"
     },
     "metadata": {}
    },
    {
     "data": {
      "text/plain": "<Figure size 432x288 with 1 Axes>",
      "image/png": "[encoded data removed]"
     },
     "metadata": {
      "needs_background": "light",
      "image/png": {
       "width": 382,
       "height": 262
      }
     },
     "output_type": "display_data"
    }
   ]
  },
  {
   "cell_type": "code",
   "metadata": {
    "collapsed": true,
    "cell_id": "00034-5c93ff4c-3134-42ce-841f-72a519a89705",
    "deepnote_cell_type": "code"
   },
   "source": "def inverse_transform(scaler, df, columns):\n    for col in columns:\n        df[col] = scaler.inverse_transform(df[col])\n    return df\n\ndef format_predictions(predictions, values, df_test, scaler):\n    vals = np.concatenate(values, axis=0).ravel()\n    preds = np.concatenate(predictions, axis=0).ravel()\n    df_result = pd.DataFrame(data={\"value\": vals, \"prediction\": preds}, index=df_test.head(len(vals)).index)\n    df_result = df_result.sort_index()\n    df_result[\"prediction\"] = inverse_transform(scaler, df_result, [[\"prediction\"]])\n    return df_result",
   "execution_count": null,
   "outputs": []
  },
  {
   "cell_type": "code",
   "metadata": {
    "collapsed": true,
    "cell_id": "00035-3b5a8143-58d0-43f0-8932-cf1b16bc9dbd",
    "deepnote_cell_type": "code"
   },
   "source": "df_result = format_predictions(predictions, values, X_test, scaler)\ndf_result ",
   "execution_count": null,
   "outputs": []
  },
  {
   "cell_type": "code",
   "metadata": {
    "collapsed": true,
    "cell_id": "00036-0af5c7b9-31d4-48da-8105-6d161138ef80",
    "deepnote_cell_type": "code"
   },
   "source": "plt.figure(1)\nplt.plot(df_result.index, df_result['value'], label='Values - Test Set')\nplt.plot(df_result.index, df_result['prediction'], label='Prediction - vs Test set')\nplt.plot(X_val.index, X_val.iloc[:,0], label='Values - Validation Set')\nplt.plot(X_train.index, X_train.iloc[:,0], label='Values - Training Set')\nplt.xlabel('Time')\nplt.ylabel('FX Rate (Domestic Currency vs US Dollar)')\nplt.legend()",
   "execution_count": null,
   "outputs": []
  },
  {
   "cell_type": "code",
   "metadata": {
    "collapsed": true,
    "cell_id": "00037-77dc051d-5a86-40ae-92be-fb097abda5c1",
    "deepnote_cell_type": "code"
   },
   "source": "plt.figure(1)\nplt.plot(df_result.index, df_result['value'], label='Values - Test Set')\nplt.plot(df_result.index, df_result['prediction'], label='Prediction - vs Test set')\nplt.xlabel('Time')\nplt.ylabel('FX Rate (Domestic Currency vs US Dollar)')\nplt.legend()",
   "execution_count": null,
   "outputs": []
  },
  {
   "cell_type": "code",
   "metadata": {
    "collapsed": true,
    "cell_id": "00038-d13fdb4b-86b4-4e19-8c35-30cfaf5e02ea",
    "deepnote_cell_type": "code"
   },
   "source": "predictions_full, values_full = evaluate(test_loader, batch_size=batch_size, n_features=input_dim, model=model)",
   "execution_count": null,
   "outputs": []
  },
  {
   "cell_type": "code",
   "metadata": {
    "collapsed": true,
    "cell_id": "00039-4a3f2a44-c35c-496b-9277-c2a3f5cd4860",
    "deepnote_cell_type": "code"
   },
   "source": "df_result_full = format_predictions(predictions_full, values_full, X_test, scaler)\ndf_result_full\nplt.figure(1)\nplt.plot(df_result_full.index, df_result_full['value'], label='Values - Test Set')\nplt.plot(df_result_full.index, df_result_full['prediction'], label='Prediction - vs Test set')\nplt.plot(X_val.index, X_val.iloc[:,0], label='Values - Validation Set')\nplt.plot(X_train.index, X_train.iloc[:,0], label='Values - Training Set')\nplt.xlabel('FX Rate')\nplt.ylabel('Time')\nplt.legend()",
   "execution_count": null,
   "outputs": []
  },
  {
   "cell_type": "code",
   "metadata": {
    "collapsed": true,
    "cell_id": "00040-accbcafd-631e-4144-84af-0bd80e3f7a42",
    "deepnote_cell_type": "code"
   },
   "source": "df_result_full.head(60)",
   "execution_count": null,
   "outputs": []
  },
  {
   "cell_type": "markdown",
   "source": "## Investigation ",
   "metadata": {
    "cell_id": "00041-76b13cdb-95a8-40f2-b011-6af11767fae2",
    "deepnote_cell_type": "markdown"
   }
  },
  {
   "cell_type": "code",
   "metadata": {
    "collapsed": true,
    "cell_id": "00042-525c2bfb-6fa8-4f9c-8da1-d9a63e17842a",
    "deepnote_cell_type": "code"
   },
   "source": "#==========================================\n## TESTING EVALUATION / OUTPUT OF THE MODEL\n#==========================================\ninput_dim = len(X_train.columns) #sequence length\noutput_dim = 1\nseq_length = 300\nhidden_dim = 64\nlayer_dim = 5\nbatch_size = 64\ndropout = 0.2\nn_epochs = 100\n#learning_rate = 1e-3\nweight_decay = 1e-6\n\nmodel_params = {'input_dim': input_dim,\n                'hidden_dim' : hidden_dim,\n                'seq_length' : seq_length,\n                'layer_dim' : layer_dim,\n                'output_dim' : output_dim,\n                'dropout_prob' : dropout}\n\n#Create NN\nloss_fn = nn.MSELoss(reduction=\"mean\")\n#Set up model \nLSTM_Mod = nn.LSTM(input_dim, hidden_dim, layer_dim, batch_first=True)\n\n\n#print('Input - Train Loader:',train.shape)\nfor batch_idx, (inputs, targets) in enumerate(train_loader):\n    if batch_idx == 1:\n        break    \n    print('________BATCH #',batch_idx,'_________________')\n    print(' - - - - - -  Inputs - - - - - - - - ')\n    print(' - - - - - - Inputs size: - - - - - - \\n',inputs.size())\n    print(' - - - - - - targets size: - - - - - - \\n',targets.size())    \n    adjusted_input = inputs.view([batch_size, -1, input_dim]).to(device)\n    \n    \nTest_hidden_state = torch.randn(layer_dim, batch_size, hidden_dim)\nTest_cell_state = torch.randn(layer_dim, batch_size, hidden_dim)\ntest_hidden = (Test_hidden_state,Test_cell_state)\n\nprint('Test_hidden_state shape :',Test_hidden_state.shape)\nprint('Test_cell_state shape :',Test_cell_state.shape)\nprint('test_hidden shape :',test_hidden[0].shape,test_hidden[1].shape)\nfc = nn.Linear(hidden_dim, output_dim)\nout, test_hidden = LSTM_Mod(adjusted_input, test_hidden)\nprint(\"Output shape: \", out.squeeze()[-1, :].shape)\nprint(\"Output shape: \", out.squeeze()[:, -1, :])\n#print(\"Hidden: \", test_hidden)",
   "execution_count": null,
   "outputs": []
  },
  {
   "cell_type": "code",
   "metadata": {
    "collapsed": true,
    "cell_id": "00043-74dcb218-865a-4688-b374-1760ff11257d",
    "deepnote_cell_type": "code"
   },
   "source": "#==========================================\n## TESTING EVALUATION / OUTPUT OF THE MODEL DEF TRAIN\n#==========================================\n\nfn_acc_alt = lambda pred, label: (np.absolute(pred.detach().numpy()-label.detach().numpy())).mean()\nnet.train()\ntrain_loss = []\nacc_arr = []\nfor batch_idx, (inputs, targets) in enumerate(train_loader):\n    if batch_idx == 1:\n        break    \n    print('________BATCH________',batch_idx,'_________')\n    print(' - - - - - - - - - - - Inputs - - - - - - - - - - - ')\n    print('Inputs size:',inputs.size())\n    print('targets size:',targets.size())\n    print('Adjusted Inputs:',inputs.view([batch_size, -1, input_dim]).size())\n    \n    print(' - - - - - - - - - - - outputs - - - - - - - - - - - ')\n    inputs = inputs.view([batch_size, -1, input_dim]).to(device)\n    targets = targets.to(device)\n    optimizer.zero_grad()\n    \n    outputs = net(inputs)\n    print('Outputs size:',outputs.size())\n    #print('Outputs:',outputs)\n    pred = fn_pred(outputs)\n    #print('Predictions :',pred)\n    print('Predictions SHAPE :',pred.shape)\n    pred = torch.flatten(pred)\n    print('flattened Predictions SHAPE :',pred.shape)\n    loss = criterion(outputs, targets)\n    print('Loss :',loss)\n    \n    #acc = fn_acc(pred, targets)\n    acc_alt = fn_acc_alt(pred, targets)\n    print('Alternative Accuracy :',acc_alt)\n    #print('Alternative Accuracy :',acc)\n    #print('Accuracy Breakdown :',(pred.max(dim=1)[1]).size())\n    #print('Accuracy no [1] :',pred.max(dim=1))#[1])\n    #print('Accuracy dim=-1 :',(pred.max(dim=-1)[1]).size())\n\n\n",
   "execution_count": null,
   "outputs": []
  },
  {
   "cell_type": "code",
   "metadata": {
    "collapsed": true,
    "cell_id": "00044-f5ff4802-0805-4aa0-be03-e53b8f8b06e0",
    "deepnote_cell_type": "code"
   },
   "source": "#==========================================\n## TESTING TRAINING THE MODEL\n#==========================================\n# Defining inspeting net as to not interupt the main model \nnet_test = net",
   "execution_count": null,
   "outputs": []
  },
  {
   "cell_type": "code",
   "metadata": {
    "collapsed": true,
    "cell_id": "00045-f9fa527e-0222-42f5-8a6a-d5c3a9eb7acb",
    "deepnote_cell_type": "code"
   },
   "source": "#==========================================\n## TESTING TRAINING THE MODEL\n#==========================================\n\nfn_acc_alt = lambda pred, label: ((pred.max(dim=1)[0] == label).type(torch.float)).mean()\nnet_test.train()\ntrain_loss = []\nacc_arr = []\nfor batch_idx, (inputs, targets) in enumerate(train_loader):\n    if batch_idx == 1:\n        break    \n    print('________BATCH #',batch_idx,'_________________')\n    print(' - - - - - - - - - - - Inputs - - - - - - - - - - - ')\n    print(' - - - - - - Inputs size: - - - - - - \\n',inputs.size())\n    print(' - - - - - - Inputs size(0): - - - - - - \\n',inputs.size(0))\n    print(' - - - - - - Inputs size(0): - - - - - - \\n',inputs[0])\n    print(' - - - - - - targets size: - - - - - - \\n',targets.size())\n    \n    adjusted_input = inputs.view([batch_size, -1, input_dim]).to(device)\n    print(' - - - - - - adjusted_input size: - - - - - - \\n',adjusted_input.size())\n    \n    targets = targets.to(device)\n    outputs = net(adjusted_input)\n    print(' - - - - - - outputs size: - - - - - - \\n',outputs.size())\n    #print(' - - - - - - outputs: - - - - - - \\n',outputs)\n",
   "execution_count": null,
   "outputs": []
  },
  {
   "cell_type": "code",
   "metadata": {
    "collapsed": true,
    "cell_id": "00046-e242918f-63e0-4b0c-86b8-f331110c23e4",
    "deepnote_cell_type": "code"
   },
   "source": "#==========================================\n## TESTING EVALUATION / OUTPUT OF THE MODEL\n#==========================================\nwith torch.no_grad():\n    Pr = []\n    Va = []\n    for batch_idx, (x_test, y_test) in enumerate(test_loader):\n        if batch_idx ==1:\n            break\n        x_test = x_test.view([batch_size, -1, input_dim]).to(device)\n        y_test = y_test.to(device)\n        model.eval()\n        yhat = model(x_test)\n        print('xtest size:',x_test.size())\n        print('ytest size:',y_test.size())\n        print('yhat size:',yhat.size())\n        print('________print values____________')\n        print('--------xtest[0] - the first of 64 2D arrays :--------\\n',x_test[0])\n        print('--------ytest size--------:\\n',y_test[0:10])\n        print('--------yhat size:--------\\n',yhat)\n        ",
   "execution_count": null,
   "outputs": []
  },
  {
   "cell_type": "code",
   "metadata": {
    "cell_id": "00047-eff944db-a532-4751-83ad-6eb1f27996a1",
    "deepnote_cell_type": "code"
   },
   "source": "# Setting up Cell to call THEO_POULA_Train.py file \ninput_dim = len(X_train.columns) #sequence length\noutput_dim = 1\nseq_length = n_steps\nhidden_dim = 10\nlayer_dim = 1\nbatch_size = batch_size\ndropout = 0.2\nmodel_name = \"lstm\"\noptimizer_name = 'ADAM'\n#n_epochs = 100\n#learning_rate = 1e-3\nweight_decay = 1e-6\n\nmodel_params = {'input_dim': input_dim,\n                'hidden_dim' : hidden_dim,\n                'seq_length' : seq_length,\n                'layer_dim' : layer_dim,\n                'output_dim' : output_dim,\n                'dropout_prob' : dropout}\n\n#Call the LSTM Model from THEO_PULA_Model\nmodel = get_model(\"lstm\", model_params)\n\nloss_fn = nn.MSELoss(reduction=\"mean\")\n\nOpt = THEO_POULA_TRAIN(model = model,\n                       model_params= model_param,\n                       loss_fn=loss_fn,\n                       optimizer=optimizer)\nOpt.train()",
   "execution_count": null,
   "outputs": []
  },
  {
   "cell_type": "code",
   "metadata": {
    "collapsed": true,
    "cell_id": "00048-9bc34ba5-be44-40db-b4c1-c2758d378aa4",
    "deepnote_cell_type": "code"
   },
   "source": "# Copied - To prove this is suitable for multivariate\nclass Optimization:\n    def __init__(self, model, loss_fn, optimizer):\n        self.model = model\n        self.loss_fn = loss_fn\n        self.optimizer = optimizer\n        self.train_losses = []\n        self.val_losses = []\n    \n    def train_step(self, x, y):\n        # Sets model to train mode\n        self.model.train()\n\n        # Makes predictions\n        yhat = self.model(x)\n\n        # Computes loss\n        loss = self.loss_fn(y, yhat)\n\n        # Computes gradients\n        loss.backward()\n\n        # Updates parameters and zeroes gradients\n        self.optimizer.step()\n        self.optimizer.zero_grad()\n\n        # Returns the loss\n        return loss.item()\n    def train(self, train_loader, val_loader, batch_size=64, n_epochs=50, n_features=1):\n        #model_path = f'models/{self.model}_{datetime.now().strftime(\"%Y-%m-%d %H:%M:%S\")}'\n        model_path = 'RNN_Test'\n        device = torch.device(\"cuda\" if torch.cuda.is_available() else \"cpu\")\n        for epoch in range(1, n_epochs + 1):\n            batch_losses = []\n            for x_batch, y_batch in train_loader:\n                x_batch = x_batch.view([batch_size, -1, n_features]).to(device)\n                y_batch = y_batch.to(device)\n                loss = self.train_step(x_batch, y_batch)\n                batch_losses.append(loss)\n            training_loss = np.mean(batch_losses)\n            self.train_losses.append(training_loss)\n\n            with torch.no_grad():\n                batch_val_losses = []\n                for x_val, y_val in val_loader:\n                    x_val = x_val.view([batch_size, -1, n_features]).to(device)\n                    y_val = y_val.to(device)\n                    self.model.eval()\n                    yhat = self.model(x_val)\n                    val_loss = self.loss_fn(y_val, yhat).item()\n                    batch_val_losses.append(val_loss)\n                validation_loss = np.mean(batch_val_losses)\n                self.val_losses.append(validation_loss)\n\n            if (epoch <= 10) | (epoch % 50 == 0):\n                print(\n                    f\"[{epoch}/{n_epochs}] Training loss: {training_loss:.4f}\\t Validation loss: {validation_loss:.4f}\"\n                )\n\n        torch.save(self.model.state_dict(), model_path)\n    \n    \n    def evaluate(self, test_loader, batch_size=1, n_features=1):\n        device = torch.device(\"cuda\" if torch.cuda.is_available() else \"cpu\")\n        with torch.no_grad():\n            predictions = []\n            values = []\n            for x_test, y_test in test_loader:\n                x_test = x_test.view([batch_size, -1, n_features]).to(device)\n                y_test = y_test.to(device)\n                self.model.eval()\n                yhat = self.model(x_test)\n                predictions.append(yhat.to(device).detach().numpy())\n                values.append(y_test.to(device).detach().numpy())\n\n        return predictions, values\n    def plot_losses(self):\n        plt.plot(self.train_losses, label=\"Training loss\")\n        plt.plot(self.val_losses, label=\"Validation loss\")\n        plt.legend()\n        plt.title(\"Losses\")\n        plt.show()\n        plt.close()",
   "execution_count": null,
   "outputs": []
  },
  {
   "cell_type": "markdown",
   "source": "<a style='text-decoration:none;line-height:16px;display:flex;color:#5B5B62;padding:10px;justify-content:end;' href='https://deepnote.com?utm_source=created-in-deepnote-cell&projectId=5afecb5f-7d28-4b37-ae51-8d94c0fa9663' target=\"_blank\">\n<img alt='Created in deepnote.com' style='display:inline;max-height:16px;margin:0px;margin-right:7.5px;' src='data:image/svg+xml;base64,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' > </img>\nCreated in <span style='font-weight:600;margin-left:4px;'>Deepnote</span></a>",
   "metadata": {
    "tags": [],
    "created_in_deepnote_cell": true,
    "deepnote_cell_type": "markdown"
   }
  }
 ],
 "nbformat": 4,
 "nbformat_minor": 5,
 "metadata": {
  "kernelspec": {
   "display_name": "Python 3",
   "language": "python",
   "name": "python3"
  },
  "language_info": {
   "codemirror_mode": {
    "name": "ipython",
    "version": 3
   },
   "file_extension": ".py",
   "mimetype": "text/x-python",
   "name": "python",
   "nbconvert_exporter": "python",
   "pygments_lexer": "ipython3",
   "version": "3.8.8"
  },
  "deepnote_notebook_id": "bf8e1a19-5ac7-4d77-8a44-3c275de515c8",
  "deepnote": {},
  "deepnote_execution_queue": []
 }
}