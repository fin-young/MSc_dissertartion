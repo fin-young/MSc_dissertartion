{
 "cells": [
  {
   "cell_type": "markdown",
   "source": "| Field      | Units| Code | Frequency| Source  |Derivation Notes|\n| :---        |    :----:   |    :---: |\n|Total Debt - gross external debt as % of GDP|\t%|\tGGXWDG_NGDP|\tQ|\tQEDS|\t\n|Short-Term Debt - gross short-term external debt as % of GDP|\t%|\tDT.DOD.DSTC.ZS|\tQ|\tQEDS|\t\n|Real Interest Rate - lending interest rate adjusted for inflation|\t%|\tFILR_PA|\tA/Q/M|\tIMF - IFS|\tTo Derive - Subtract Inflation\n|Foreign Exchange Reserves - total reserves (without gold) as % of GDP|\t%|\tRAXGFX_USD|\tA/Q/M|\tIMF - IFS|\tTo Derive\n|Trade Openness - ratio of exports plus imports to GDP|\tUnitless|\t(TXG_FOB_USD + TMG_CIF_USD)/GDP|\tQ|\tIMF - IFS|\t\n|Imports - imports of goods and services at current prices in USD|\tUSD|\tTMG_CIF_USD|\tA/Q/M|\tIMF - IFS|\t\n|Exports - exports of goods and services at current prices in USD|\tUSD|\tTXG_FOB_USD|\tA/Q/M|\tIMF - IFS|\t\n|Current Account - current account balance as % of GDP|\t%|\tBCAXF_BP6_USD|\tA/Q|\tIMF - BOP|\t\n|Portfolio Investments - portfolio investment net at current USD|\tUSD|\tIAP_BP6_USD|\tA/Q|\tIMF - IFS|\t\n|FDI - net FDI inflows as % of GDP|\tUSD|\tBFDLXF_BP6_USD|\tA/Q|\tIMF - BOP|\tTo Derive\n|Real GDP - annual real GDP at current USD|\tUSD|\tNY.GDP.MKTP.CD|\tA|\tWDI|\tTo Derive: Will have to divide by 4 for Q, 12 for M, 365 for D\n|Real GDP Growth - annual growth of real GDP|\t|\tjust make it - WILL THIS BE USEFUL?!|\t|\t|\tNot Required\n|Inflation - rate of change in CPI|\t%|\tPCPI_IX|\tA/Q/M|\tIMF - CPI|\t\n|M2 - Money plus quasi-money, Domestic Currency|\tXDC|\t35L___XDC|\tA/Q/M|\tIMF - IFS|\tused in derivaion\n|M2 Multiplier Growth - annual growth of M2|\t%|\tFM.LBL.BMNY.ZG|\tA|\tWDI|\tTo Derive M2\n|Reserves - Total Reserves excluding Gold, US Dollars|\tUSD|\tRAXG_USD|\tA/Q/M|\tIMF - IFS|\tused in derivaion\n|M2/Reserves - ratio of M2 to foreign exchange reserves|\tXCD*FX/USD|\tFM.LBL.BMNY.IR.ZS(FM.LBL.BMNY.IR.ZS_DS2)|\tA|\tWDI|\t\n|REER Overall - deviation of real effective exchange rate from 5 year rolling mean|\tUnitless|\tEREER_IX|\tA/Q/M|\tWDI|\tNeed to derived the 5 year period average \n|Government Spending - general government final spending as % of GDP|\t%|\tGGX_NGDP|\tA|\tWorld Bank|\tNeed to Take it from the CVS Annually\n|Fixed Capital Formation - gross fixed capital formation at current USD|\tUSD|\tNE.GDI.FTOT.CD|\tA|\tWDI|\t\n|Unemployment - unemployment total as % of total labor force|\t%|\tLUR_PT|\tA/Q|\tIMF - IFS|\t\n|Contagion - event of a currency crisis in any country of the same region (t − 1)|\tIndicator|\t|\t|\tDerived|\t\n|Domestic Credit - ratio of domestic credit to GDP|\t%/(USD)|\t32____XDC|\tA/Q/M|\tIMF - IFS|\tDivide by GDP\n|Lending Interest Rate - the bank rate meets the short- and medium-term financing needs|\t%|\tFILR_PA|\tA/Q/M|\tIMF - IFS|\t\n|Deposit Interest Rate - rate paid by banks for demand, time, or savings deposits|\t%|\tFIDR_PA|\tA/Q/M|\tIMF - IFS|\t\n\n\n",
   "metadata": {
    "tags": [],
    "cell_id": "00000-2563e32c-9ed2-49e9-98c7-5aeacbd85d4b",
    "deepnote_cell_type": "markdown"
   }
  },
  {
   "cell_type": "code",
   "metadata": {
    "tags": [],
    "cell_id": "00000-e51ebcec-ebcd-4f4f-b145-5dc4c366f290",
    "deepnote_to_be_reexecuted": false,
    "source_hash": "ca49bfe2",
    "execution_start": 1625829438110,
    "execution_millis": 2732,
    "deepnote_cell_type": "code"
   },
   "source": "!pip install -q -r requirements.txt\nimport pandas as pd\nimport numpy as np\n\nfrom sklearn.preprocessing import StandardScaler\n\n\nimport datapackage\nfrom functools import reduce\nimport world_bank_data as wb\nimport requests\n# Plotting libraries\nimport matplotlib.pyplot as plt\nfrom matplotlib.lines import Line2D\nimport seaborn as sns\n#import tabula\n#from tabula import read_pdf",
   "execution_count": 9,
   "outputs": [
    {
     "name": "stdout",
     "text": "\u001b[33mWARNING: You are using pip version 21.1.2; however, version 21.1.3 is available.\r\nYou should consider upgrading via the '/root/venv/bin/python -m pip install --upgrade pip' command.\u001b[0m\r\n",
     "output_type": "stream"
    }
   ]
  },
  {
   "cell_type": "markdown",
   "source": "# Data Cleaning function",
   "metadata": {
    "tags": [],
    "cell_id": "00002-0f79d468-1db8-46f5-a5d1-2e3a49ae20e1",
    "deepnote_cell_type": "text-cell-h1"
   }
  },
  {
   "cell_type": "markdown",
   "source": "",
   "metadata": {
    "tags": [],
    "cell_id": "00003-58394dc1-5825-46a6-91ed-a81958fab5fd",
    "deepnote_cell_type": "text-cell-p"
   }
  },
  {
   "cell_type": "code",
   "metadata": {
    "tags": [],
    "cell_id": "00004-ffd4a97e-7714-4083-931a-8d3e2b1cd791",
    "deepnote_to_be_reexecuted": false,
    "source_hash": "292861f5",
    "execution_start": 1625829440853,
    "execution_millis": 2,
    "deepnote_cell_type": "code"
   },
   "source": "def clean_wdi_data(dataset, countries, date_from = 1980, date_to = 2002 ):\n    '''\n    Loads WOE CSV \n    dataset {df}: WDI Data sample\n    countries {List}: List of countries to be inclided in Dataset\n    date_from {int}: Lowest year - default 1980\n    date_to {int}: Highest Yeat - default 2020\n\n    Output{df}: Year, Country Name , Country Code, [Series Names]\n\n    '''\n    #Clean titles\n    #Create Dictionary of column header mapping & use rename function\n    old_columns = dataset.columns[4::]\n    yr_columns = dataset.columns[4::].str[:4]\n    yr_columns_dict = dict(zip(old_columns, yr_columns))\n    dataset.rename(columns = yr_columns_dict, inplace = True)\n    \n    #Country Selection\n    dataset = dataset[dataset['Country Name'].isin(countries)].copy()\n    \n    #Reform Pivotted Data\n    dataset.drop([ 'Series Code'], axis=1, inplace = True)\n    dataset = dataset.melt(id_vars=['Country Name','Country Code','Series Name'], var_name='Year', value_name='Value' ).copy()\n    dataset = dataset.pivot(index=['Year', 'Country Name', 'Country Code'], columns='Series Name', values='Value').reset_index().copy()\n    dataset.rename(columns = {'Country Code':'ISO Code'}, inplace = True)\n\n    return dataset\n\ndef clean_IFS_data(dataset, countries, frequency, date_from, Series_Codes , date_to):\n    '''\n    Loads IFS CSV \n    dataset {df}: WDI Data sample\n    countries {List}: List of countries to be inclided in Dataset\n    date_from {int}: Lowest year - default 1980\n    date_to {int}: Highest Yeat - default 2020\n\n    Output{df}: 'Year', 'Country Name', 'Country Code', [Series Names]\n\n    '''\n    #Country Selection\n    dataset = dataset[dataset['Country Name'].isin(countries)].copy()   \n\n    #Concat Base year & Drop Base Year Column\n    dataset['Indicator Name'] = np.where(dataset['Base Year'].isnull(),dataset['Indicator Name'], dataset['Indicator Name'] + \" (\" + dataset['Base Year'] +\")\").copy()\n    \n    # Filter by then concat the Indicator Code\n    dataset = dataset[dataset['Indicator Code'].isin(Series_Codes)].copy()\n    dataset['Indicator Name'] = dataset['Indicator Name'] + \" - \" + dataset['Indicator Code']\n\n    dataset = dataset[dataset['Attribute']!='Status'].copy()\n    \n    dataset.drop(['Base Year', 'Indicator Code', 'Attribute'], axis=1, inplace = True)\n\n\n    #Melt Data \n    dataset = dataset.melt(id_vars=['Country Name','Country Code','Indicator Name'], var_name='Year', value_name='Value' ).copy()\n\n    #Frequency - Annual - Done\n    if frequency == 'Y':\n        non_ann = ['M', 'Q']\n        dataset = dataset[~dataset.Year.str.contains('|'.join(non_ann))].copy()\n    elif frequency == 'Q':\n        dataset = dataset[dataset.Year.str.contains('Q')].copy()\n    elif frequency == 'M':\n        dataset = dataset[dataset.Year.str.contains('M')].copy()\n\n    #Pivot Indicators to Columns\n    dataset['Value'] = dataset['Value'].astype(float)\n    dataset = dataset.groupby(['Year', 'Country Name', 'Country Code', 'Indicator Name']).agg({'Value':'sum'}).reset_index().copy()\n    dataset = dataset.pivot(index=['Year', 'Country Name', 'Country Code'], columns='Indicator Name', values='Value').reset_index().copy()\n    dataset.rename(columns = {'Country Code':'IMF Code'}, inplace = True)\n\n    return dataset\n",
   "execution_count": 10,
   "outputs": []
  },
  {
   "cell_type": "markdown",
   "source": "# Generic API Functions",
   "metadata": {
    "tags": [],
    "cell_id": "00005-24b9201d-2a45-4cc6-bb45-4029728ee18d",
    "deepnote_cell_type": "text-cell-h1"
   }
  },
  {
   "cell_type": "markdown",
   "source": "## Single Column Calls",
   "metadata": {
    "tags": [],
    "cell_id": "00006-b48f9cd4-1adb-4e73-adb5-be2e567b6a87",
    "deepnote_cell_type": "markdown"
   }
  },
  {
   "cell_type": "code",
   "metadata": {
    "tags": [],
    "cell_id": "00007-c8438d76-f896-4bb0-9510-45c9278e4638",
    "deepnote_to_be_reexecuted": false,
    "source_hash": "9954a1b2",
    "execution_start": 1625842248002,
    "execution_millis": 1,
    "deepnote_cell_type": "code"
   },
   "source": "def Call_IMF(DB,freq,Country_iso2, start, finish, Indicator_code):\n    '''\n    Returns \"Year\" & \"Values\" of series with column names after the IMF Code\n    '''\n    core = 'http://dataservices.imf.org/REST/SDMX_JSON.svc/CompactData/'\n    key = f'{DB}/{freq}.{Country_iso2}.{Indicator_code}'\n    time = f'.?startPeriod={start}&endPeriod={finish}'\n    url = f'{core}{key}{time}'\n\n    # Get data from the above URL using the requests package\n    data = requests.get(url).json()\n\n    # Load data into a pandas dataframe\n    series = pd.DataFrame(data['CompactData']['DataSet']['Series']['Obs'])\n    series['@OBS_VALUE'] = series['@OBS_VALUE'].astype(float)\n    series.rename(columns = {'@TIME_PERIOD':'Year', '@OBS_VALUE':Indicator_code}, inplace = True)\n    return series\n\ndef Call_WB(iso3, id,start, finish):\n    '''\n    Returns \"Country\"(ISO3), \"Year\" & \"Values\" of series with column names after the World Bank Code\n    '''\n    daterange = f'{start}:{finish}'\n    Data = pd.DataFrame(wb.get_series(id, date=daterange, id_or_value='id', simplify_index=True)).reset_index()\n    Data = Data[Data['Country']==iso3]\n    return Data\n\n\ndef Get_Monthly_GDP(iso3,start, finish):\n    '''\n    Returns Monthly Call_WB()\n    '''\n    Data = Call_WB(iso3=iso3, id='NY.GDP.MKTP.CD',start=start, finish=(finish+1))\n    Data['Year'] = pd.to_datetime(Data['Year'], exact = False, format='%Y%')\n    Data.set_index(['Year'],inplace=True)\n    Data.drop(columns='Country', inplace = True)\n    Data = Data.resample('MS').ffill() / 12\n    Data = Data.reset_index()\n\n    #trail = pd.date_range(start=f'01/02/{finish}', periods=11, freq = 'MS')\n    #Add_on = pd.DataFrame({'Year':trail})\n    #Add_on.set_index(['Year'],inplace=True)\n    #Add_on['NY.GDP.MKTP.CD'] =  Data['NY.GDP.MKTP.CD'].tail(1).item()\n#\n    #Data = pd.concat([Data,Add_on])\n    #Data = Data.reset_index()\n    return Data\n\n\n",
   "execution_count": 120,
   "outputs": []
  },
  {
   "cell_type": "markdown",
   "source": "## Field Specific Functions",
   "metadata": {
    "tags": [],
    "cell_id": "00008-1c4d589c-4bb0-4f29-b9f0-01d2dfc462f8",
    "deepnote_cell_type": "markdown"
   }
  },
  {
   "cell_type": "code",
   "metadata": {
    "tags": [],
    "cell_id": "00009-76c4ce13-d91d-480e-9533-24a1a8ccfac9",
    "deepnote_to_be_reexecuted": false,
    "source_hash": "79ea9876",
    "execution_start": 1625777552022,
    "execution_millis": 5,
    "deepnote_cell_type": "code"
   },
   "source": "mth_fields = ['FILR_PA','RAXGFX_USD','TMG_CIF_USD','TXG_FOB_USD','PCPI_IX',\n                '35L___XDC','RAXG_USD','EREER_IX','32____XDC','FILR_PA','FIDR_PA']\n\"+\".join(mth_fields) ",
   "execution_count": null,
   "outputs": [
    {
     "output_type": "execute_result",
     "execution_count": 1,
     "data": {
      "text/plain": "'FILR_PA+RAXGFX_USD+TMG_CIF_USD+TXG_FOB_USD+PCPI_IX+35L___XDC+RAXG_USD+EREER_IX+32____XDC+FILR_PA+FIDR_PA'"
     },
     "metadata": {}
    }
   ]
  },
  {
   "cell_type": "code",
   "metadata": {
    "tags": [],
    "cell_id": "00010-5d0d84e5-fd46-4e7a-b82b-599b7a4f693f",
    "deepnote_to_be_reexecuted": false,
    "source_hash": "4a250c2f",
    "execution_start": 1625842292626,
    "execution_millis": 3,
    "deepnote_cell_type": "code"
   },
   "source": "def Call_M_IMF(iso2, start, finish):\n    mth_fields = ['RAXGFX_USD','TMG_CIF_USD','TXG_FOB_USD','PCPI_IX',\n                '35L___XDC','RAXG_USD','EREER_IX','32____XDC','FILR_PA','FIDR_PA','ENDA_XDC_USD_RATE']\n    \n    call_string = \"+\".join(mth_fields)    \n    core = 'http://dataservices.imf.org/REST/SDMX_JSON.svc/CompactData/'\n    key = f'IFS/M.{iso2}.{call_string}'\n    time = f'.?startPeriod={start}&endPeriod={finish}'\n    url = f'{core}{key}{time}'\n\n    # Get data from the above URL using the requests package\n    data = requests.get(url).json()\n    # Load data into a pandas dataframe\n    #series = pd.DataFrame(data['CompactData']['DataSet']['Series']['Obs'])\n    appended_data = []\n    num_rows = pd.DataFrame(data['CompactData']['DataSet']['Series']).shape[0]\n    print(pd.DataFrame(data['CompactData']['DataSet']['Series']))\n    for c in range(num_rows):\n        header = data['CompactData']['DataSet']['Series'][c]['@INDICATOR']\n        print(header)\n        unit_mult = float(data['CompactData']['DataSet']['Series'][c]['@UNIT_MULT'])\n        series = pd.DataFrame(data['CompactData']['DataSet']['Series'][c]['Obs'])\n        series['@OBS_VALUE']=series['@OBS_VALUE'].astype(float)\n        if unit_mult != 0:\n            series['@OBS_VALUE'] = series['@OBS_VALUE']*(10**unit_mult)\n\n        series.rename(columns = {'@TIME_PERIOD':'Year', '@OBS_VALUE':header}, inplace = True)\n        series['Year'] = pd.to_datetime(series['Year'], exact = False, format='%Y%')\n        appended_data.append(series)\n\n    #Add GDP Data\n    WB_countries = wb.get_countries().reset_index()\n    iso3 = WB_countries['id'][WB_countries['iso2Code']==iso2].item()\n    appended_data.append(Get_Monthly_GDP(iso3,start, finish))\n    merged_df = reduce(lambda  left,right: pd.merge(left,right,on=['Year'],how='outer'), appended_data).fillna(np.NaN)\n\n    #Add Derived Monthly GDP Date\n    \n\n    #Create Derived Fields\n    #Real interest rate adjusted to inflation\n    if 'FILR_PA' in merged_df.columns and 'PCPI_IX' in merged_df.columns:\n        merged_df['Real Interest Rate(%)'] = merged_df['FILR_PA'] - merged_df['PCPI_IX']\n    #total reserves (without gold) as % of GDP\n    if 'ENDA_XDC_USD_RATE' in merged_df.columns and 'RAXGFX_USD' in merged_df.columns and 'NY.GDP.MKTP.CD' in merged_df.columns:\n        merged_df['Foreign Exchange Reserves(%)'] = 100*(merged_df['RAXGFX_USD']/ (merged_df['NY.GDP.MKTP.CD']*merged_df['ENDA_XDC_USD_RATE']))\n    #M2 Multiplier Growth\n    if '35L___XDC' in merged_df.columns:\n        merged_df['M2 Multiplier Growth (%)'] = 100*(merged_df['35L___XDC'].pct_change())\n    #'M2/Reserves'\n    if '35L___XDC' in merged_df.columns and 'RAXGFX_USD' in merged_df.columns and 'ENDA_XDC_USD_RATE' in merged_df.columns:\n        merged_df['M2/Reserves'] = merged_df['35L___XDC']/(merged_df['RAXGFX_USD']*merged_df['ENDA_XDC_USD_RATE'])\n    #1 year Deviation of REED\n    if 'EREER_IX' in merged_df.columns:\n        merged_df['REED 12mth std dev'] = merged_df['EREER_IX'].rolling(12).std()\n    #Domestic Credit to GDP\n    if '32____XDC' in merged_df.columns and 'NY.GDP.MKTP.CD' in merged_df.columns and 'ENDA_XDC_USD_RATE' in merged_df.columns:\n        merged_df['Domestic Credit to GDP'] = (merged_df['32____XDC']/(merged_df['NY.GDP.MKTP.CD']*merged_df['ENDA_XDC_USD_RATE']))\n\n    to_drop = ['RAXGFX_USD','35L___XDC','RAXG_USD','EREER_IX','32____XDC','@OBS_STATUS']\n    filtered_list = [col for col in to_drop if col  in merged_df.columns.to_list() ]\n    merged_df.drop(columns =filtered_list, inplace = True )\n\n    merged_df['days in month']  = pd.to_datetime(merged_df['Year']).dt.to_period('M').dt.days_in_month\n    \n    merged_df.set_index('Year', inplace = True)\n    merged_df = merged_df.resample('D').pad()\n    split = ['TMG_CIF_USD','TXG_FOB_USD','M2 Multiplier Growth']\n\n    for i in range(len(split)):\n        if split[i] in merged_df.columns.to_list():\n            merged_df[split[i]] = merged_df[split[i]] / merged_df['days in month']\n\n\n    return merged_df",
   "execution_count": 126,
   "outputs": []
  },
  {
   "cell_type": "code",
   "metadata": {
    "tags": [],
    "cell_id": "00011-68bba9d5-2d60-47c6-a94a-2e4acb27df0f",
    "deepnote_to_be_reexecuted": false,
    "source_hash": "d9b203fa",
    "execution_start": 1625842889202,
    "execution_millis": 1130,
    "is_output_hidden": false,
    "deepnote_cell_type": "code"
   },
   "source": "MEX_FULL = Call_M_IMF('MX', 1980,2020)\n",
   "execution_count": 130,
   "outputs": [
    {
     "name": "stdout",
     "text": "   @FREQ @REF_AREA         @INDICATOR @UNIT_MULT @TIME_FORMAT  \\\n0      M        MX        TMG_CIF_USD          6          P1M   \n1      M        MX         RAXGFX_USD          6          P1M   \n2      M        MX           RAXG_USD          6          P1M   \n3      M        MX  ENDA_XDC_USD_RATE          0          P1M   \n4      M        MX            PCPI_IX          0          P1M   \n5      M        MX           EREER_IX          0          P1M   \n6      M        MX        TXG_FOB_USD          6          P1M   \n7      M        MX          35L___XDC          6          P1M   \n8      M        MX          32____XDC          6          P1M   \n9      M        MX            FIDR_PA          0          P1M   \n10     M        MX            FILR_PA          0          P1M   \n\n                                                  Obs @BASE_YEAR  \n0   [{'@TIME_PERIOD': '1980-01', '@OBS_VALUE': '13...        NaN  \n1   [{'@TIME_PERIOD': '1980-01', '@OBS_VALUE': '19...        NaN  \n2   [{'@TIME_PERIOD': '1980-01', '@OBS_VALUE': '22...        NaN  \n3   [{'@TIME_PERIOD': '1980-01', '@OBS_VALUE': '0....        NaN  \n4   [{'@TIME_PERIOD': '1980-01', '@OBS_VALUE': '0....   2010=100  \n5   [{'@TIME_PERIOD': '1980-01', '@OBS_VALUE': '11...        NaN  \n6   [{'@TIME_PERIOD': '1980-01', '@OBS_VALUE': '13...        NaN  \n7   [{'@TIME_PERIOD': '1980-01', '@OBS_VALUE': '10...        NaN  \n8   [{'@TIME_PERIOD': '1980-01', '@OBS_VALUE': '14...        NaN  \n9   [{'@TIME_PERIOD': '1980-01', '@OBS_VALUE': '20...        NaN  \n10  [{'@TIME_PERIOD': '1993-09', '@OBS_VALUE': '18...        NaN  \nTMG_CIF_USD\nRAXGFX_USD\nRAXG_USD\nENDA_XDC_USD_RATE\nPCPI_IX\nEREER_IX\nTXG_FOB_USD\n35L___XDC\n32____XDC\nFIDR_PA\nFILR_PA\n",
     "output_type": "stream"
    }
   ]
  },
  {
   "cell_type": "code",
   "source": "MEX_CUT = MEX_FULL.copy()\n#MEX_CUT = MEX_CUT.head(30)\n#MEX_CUT.set_index('Year', inplace = True)\n#MEX_CUT = MEX_CUT.resample('D').pad()\n",
   "metadata": {
    "tags": [],
    "cell_id": "00012-e006a7bd-259f-47f3-ab49-249456a739d8",
    "deepnote_to_be_reexecuted": false,
    "source_hash": "57914a04",
    "execution_start": 1625842300143,
    "execution_millis": 1,
    "deepnote_cell_type": "code"
   },
   "outputs": [],
   "execution_count": 128
  },
  {
   "cell_type": "code",
   "source": "Get_Monthly_GDP('MEX',1999, 2018)",
   "metadata": {
    "tags": [],
    "cell_id": "00013-1d0605b0-a22d-4ff7-b9d8-47b31915516c",
    "deepnote_to_be_reexecuted": false,
    "source_hash": "a946ded0",
    "execution_start": 1625842266517,
    "execution_millis": 146,
    "output_cleared": false,
    "is_output_hidden": true,
    "deepnote_cell_type": "code"
   },
   "outputs": [
    {
     "output_type": "execute_result",
     "execution_count": 124,
     "data": {
      "application/vnd.deepnote.dataframe.v2+json": {
       "row_count": 241,
       "column_count": 2,
       "columns": [
        {
         "name": "Year",
         "dtype": "datetime64[ns]",
         "stats": {
          "unique_count": 241,
          "nan_count": 0,
          "min": "1999-01-01 00:00:00",
          "max": "2019-01-01 00:00:00",
          "histogram": [
           {
            "bin_start": 915148800000000000,
            "bin_end": 978264000000000000,
            "count": 24
           },
           {
            "bin_start": 978264000000000000,
            "bin_end": 1041379200000000000,
            "count": 24
           },
           {
            "bin_start": 1041379200000000000,
            "bin_end": 1104494400000000000,
            "count": 24
           },
           {
            "bin_start": 1104494400000000000,
            "bin_end": 1167609600000000000,
            "count": 24
           },
           {
            "bin_start": 1167609600000000000,
            "bin_end": 1230724800000000000,
            "count": 24
           },
           {
            "bin_start": 1230724800000000000,
            "bin_end": 1293840000000000000,
            "count": 24
           },
           {
            "bin_start": 1293840000000000000,
            "bin_end": 1356955200000000000,
            "count": 24
           },
           {
            "bin_start": 1356955200000000000,
            "bin_end": 1420070400000000000,
            "count": 24
           },
           {
            "bin_start": 1420070400000000000,
            "bin_end": 1483185600000000000,
            "count": 24
           },
           {
            "bin_start": 1483185600000000000,
            "bin_end": 1546300800000000000,
            "count": 25
           }
          ]
         }
        },
        {
         "name": "NY.GDP.MKTP.CD",
         "dtype": "float64",
         "stats": {
          "unique_count": 21,
          "nan_count": 0,
          "min": "50019406170.24392",
          "max": "109612598627.045",
          "histogram": [
           {
            "bin_start": 50019406170.24392,
            "bin_end": 55978725415.92403,
            "count": 12
           },
           {
            "bin_start": 55978725415.92403,
            "bin_end": 61938044661.60413,
            "count": 24
           },
           {
            "bin_start": 61938044661.60413,
            "bin_end": 67897363907.28424,
            "count": 36
           },
           {
            "bin_start": 67897363907.28424,
            "bin_end": 73856683152.96436,
            "count": 12
           },
           {
            "bin_start": 73856683152.96436,
            "bin_end": 79816002398.64445,
            "count": 12
           },
           {
            "bin_start": 79816002398.64445,
            "bin_end": 85775321644.32457,
            "count": 12
           },
           {
            "bin_start": 85775321644.32457,
            "bin_end": 91734640890.00467,
            "count": 36
           },
           {
            "bin_start": 91734640890.00467,
            "bin_end": 97693960135.68478,
            "count": 36
           },
           {
            "bin_start": 97693960135.68478,
            "bin_end": 103653279381.3649,
            "count": 36
           },
           {
            "bin_start": 103653279381.3649,
            "bin_end": 109612598627.045,
            "count": 25
           }
          ]
         }
        },
        {
         "name": "_deepnote_index_column",
         "dtype": "int64"
        }
       ],
       "rows_top": [
        {
         "Year": "1999-01-01T00:00:00.000000",
         "NY.GDP.MKTP.CD": 50019406170.24392,
         "_deepnote_index_column": 0
        },
        {
         "Year": "1999-02-01T00:00:00.000000",
         "NY.GDP.MKTP.CD": 50019406170.24392,
         "_deepnote_index_column": 1
        },
        {
         "Year": "1999-03-01T00:00:00.000000",
         "NY.GDP.MKTP.CD": 50019406170.24392,
         "_deepnote_index_column": 2
        },
        {
         "Year": "1999-04-01T00:00:00.000000",
         "NY.GDP.MKTP.CD": 50019406170.24392,
         "_deepnote_index_column": 3
        },
        {
         "Year": "1999-05-01T00:00:00.000000",
         "NY.GDP.MKTP.CD": 50019406170.24392,
         "_deepnote_index_column": 4
        },
        {
         "Year": "1999-06-01T00:00:00.000000",
         "NY.GDP.MKTP.CD": 50019406170.24392,
         "_deepnote_index_column": 5
        },
        {
         "Year": "1999-07-01T00:00:00.000000",
         "NY.GDP.MKTP.CD": 50019406170.24392,
         "_deepnote_index_column": 6
        },
        {
         "Year": "1999-08-01T00:00:00.000000",
         "NY.GDP.MKTP.CD": 50019406170.24392,
         "_deepnote_index_column": 7
        },
        {
         "Year": "1999-09-01T00:00:00.000000",
         "NY.GDP.MKTP.CD": 50019406170.24392,
         "_deepnote_index_column": 8
        },
        {
         "Year": "1999-10-01T00:00:00.000000",
         "NY.GDP.MKTP.CD": 50019406170.24392,
         "_deepnote_index_column": 9
        },
        {
         "Year": "1999-11-01T00:00:00.000000",
         "NY.GDP.MKTP.CD": 50019406170.24392,
         "_deepnote_index_column": 10
        },
        {
         "Year": "1999-12-01T00:00:00.000000",
         "NY.GDP.MKTP.CD": 50019406170.24392,
         "_deepnote_index_column": 11
        },
        {
         "Year": "2000-01-01T00:00:00.000000",
         "NY.GDP.MKTP.CD": 58992228714.55367,
         "_deepnote_index_column": 12
        },
        {
         "Year": "2000-02-01T00:00:00.000000",
         "NY.GDP.MKTP.CD": 58992228714.55367,
         "_deepnote_index_column": 13
        },
        {
         "Year": "2000-03-01T00:00:00.000000",
         "NY.GDP.MKTP.CD": 58992228714.55367,
         "_deepnote_index_column": 14
        },
        {
         "Year": "2000-04-01T00:00:00.000000",
         "NY.GDP.MKTP.CD": 58992228714.55367,
         "_deepnote_index_column": 15
        },
        {
         "Year": "2000-05-01T00:00:00.000000",
         "NY.GDP.MKTP.CD": 58992228714.55367,
         "_deepnote_index_column": 16
        },
        {
         "Year": "2000-06-01T00:00:00.000000",
         "NY.GDP.MKTP.CD": 58992228714.55367,
         "_deepnote_index_column": 17
        },
        {
         "Year": "2000-07-01T00:00:00.000000",
         "NY.GDP.MKTP.CD": 58992228714.55367,
         "_deepnote_index_column": 18
        },
        {
         "Year": "2000-08-01T00:00:00.000000",
         "NY.GDP.MKTP.CD": 58992228714.55367,
         "_deepnote_index_column": 19
        },
        {
         "Year": "2000-09-01T00:00:00.000000",
         "NY.GDP.MKTP.CD": 58992228714.55367,
         "_deepnote_index_column": 20
        },
        {
         "Year": "2000-10-01T00:00:00.000000",
         "NY.GDP.MKTP.CD": 58992228714.55367,
         "_deepnote_index_column": 21
        },
        {
         "Year": "2000-11-01T00:00:00.000000",
         "NY.GDP.MKTP.CD": 58992228714.55367,
         "_deepnote_index_column": 22
        },
        {
         "Year": "2000-12-01T00:00:00.000000",
         "NY.GDP.MKTP.CD": 58992228714.55367,
         "_deepnote_index_column": 23
        },
        {
         "Year": "2001-01-01T00:00:00.000000",
         "NY.GDP.MKTP.CD": 63058858382.48258,
         "_deepnote_index_column": 24
        },
        {
         "Year": "2001-02-01T00:00:00.000000",
         "NY.GDP.MKTP.CD": 63058858382.48258,
         "_deepnote_index_column": 25
        },
        {
         "Year": "2001-03-01T00:00:00.000000",
         "NY.GDP.MKTP.CD": 63058858382.48258,
         "_deepnote_index_column": 26
        },
        {
         "Year": "2001-04-01T00:00:00.000000",
         "NY.GDP.MKTP.CD": 63058858382.48258,
         "_deepnote_index_column": 27
        },
        {
         "Year": "2001-05-01T00:00:00.000000",
         "NY.GDP.MKTP.CD": 63058858382.48258,
         "_deepnote_index_column": 28
        },
        {
         "Year": "2001-06-01T00:00:00.000000",
         "NY.GDP.MKTP.CD": 63058858382.48258,
         "_deepnote_index_column": 29
        },
        {
         "Year": "2001-07-01T00:00:00.000000",
         "NY.GDP.MKTP.CD": 63058858382.48258,
         "_deepnote_index_column": 30
        },
        {
         "Year": "2001-08-01T00:00:00.000000",
         "NY.GDP.MKTP.CD": 63058858382.48258,
         "_deepnote_index_column": 31
        },
        {
         "Year": "2001-09-01T00:00:00.000000",
         "NY.GDP.MKTP.CD": 63058858382.48258,
         "_deepnote_index_column": 32
        },
        {
         "Year": "2001-10-01T00:00:00.000000",
         "NY.GDP.MKTP.CD": 63058858382.48258,
         "_deepnote_index_column": 33
        },
        {
         "Year": "2001-11-01T00:00:00.000000",
         "NY.GDP.MKTP.CD": 63058858382.48258,
         "_deepnote_index_column": 34
        },
        {
         "Year": "2001-12-01T00:00:00.000000",
         "NY.GDP.MKTP.CD": 63058858382.48258,
         "_deepnote_index_column": 35
        },
        {
         "Year": "2002-01-01T00:00:00.000000",
         "NY.GDP.MKTP.CD": 64342198244.614746,
         "_deepnote_index_column": 36
        },
        {
         "Year": "2002-02-01T00:00:00.000000",
         "NY.GDP.MKTP.CD": 64342198244.614746,
         "_deepnote_index_column": 37
        },
        {
         "Year": "2002-03-01T00:00:00.000000",
         "NY.GDP.MKTP.CD": 64342198244.614746,
         "_deepnote_index_column": 38
        },
        {
         "Year": "2002-04-01T00:00:00.000000",
         "NY.GDP.MKTP.CD": 64342198244.614746,
         "_deepnote_index_column": 39
        },
        {
         "Year": "2002-05-01T00:00:00.000000",
         "NY.GDP.MKTP.CD": 64342198244.614746,
         "_deepnote_index_column": 40
        },
        {
         "Year": "2002-06-01T00:00:00.000000",
         "NY.GDP.MKTP.CD": 64342198244.614746,
         "_deepnote_index_column": 41
        },
        {
         "Year": "2002-07-01T00:00:00.000000",
         "NY.GDP.MKTP.CD": 64342198244.614746,
         "_deepnote_index_column": 42
        },
        {
         "Year": "2002-08-01T00:00:00.000000",
         "NY.GDP.MKTP.CD": 64342198244.614746,
         "_deepnote_index_column": 43
        },
        {
         "Year": "2002-09-01T00:00:00.000000",
         "NY.GDP.MKTP.CD": 64342198244.614746,
         "_deepnote_index_column": 44
        },
        {
         "Year": "2002-10-01T00:00:00.000000",
         "NY.GDP.MKTP.CD": 64342198244.614746,
         "_deepnote_index_column": 45
        },
        {
         "Year": "2002-11-01T00:00:00.000000",
         "NY.GDP.MKTP.CD": 64342198244.614746,
         "_deepnote_index_column": 46
        },
        {
         "Year": "2002-12-01T00:00:00.000000",
         "NY.GDP.MKTP.CD": 64342198244.614746,
         "_deepnote_index_column": 47
        },
        {
         "Year": "2003-01-01T00:00:00.000000",
         "NY.GDP.MKTP.CD": 60778026639.787415,
         "_deepnote_index_column": 48
        },
        {
         "Year": "2003-02-01T00:00:00.000000",
         "NY.GDP.MKTP.CD": 60778026639.787415,
         "_deepnote_index_column": 49
        },
        {
         "Year": "2003-03-01T00:00:00.000000",
         "NY.GDP.MKTP.CD": 60778026639.787415,
         "_deepnote_index_column": 50
        },
        {
         "Year": "2003-04-01T00:00:00.000000",
         "NY.GDP.MKTP.CD": 60778026639.787415,
         "_deepnote_index_column": 51
        },
        {
         "Year": "2003-05-01T00:00:00.000000",
         "NY.GDP.MKTP.CD": 60778026639.787415,
         "_deepnote_index_column": 52
        },
        {
         "Year": "2003-06-01T00:00:00.000000",
         "NY.GDP.MKTP.CD": 60778026639.787415,
         "_deepnote_index_column": 53
        },
        {
         "Year": "2003-07-01T00:00:00.000000",
         "NY.GDP.MKTP.CD": 60778026639.787415,
         "_deepnote_index_column": 54
        },
        {
         "Year": "2003-08-01T00:00:00.000000",
         "NY.GDP.MKTP.CD": 60778026639.787415,
         "_deepnote_index_column": 55
        },
        {
         "Year": "2003-09-01T00:00:00.000000",
         "NY.GDP.MKTP.CD": 60778026639.787415,
         "_deepnote_index_column": 56
        },
        {
         "Year": "2003-10-01T00:00:00.000000",
         "NY.GDP.MKTP.CD": 60778026639.787415,
         "_deepnote_index_column": 57
        },
        {
         "Year": "2003-11-01T00:00:00.000000",
         "NY.GDP.MKTP.CD": 60778026639.787415,
         "_deepnote_index_column": 58
        },
        {
         "Year": "2003-12-01T00:00:00.000000",
         "NY.GDP.MKTP.CD": 60778026639.787415,
         "_deepnote_index_column": 59
        },
        {
         "Year": "2004-01-01T00:00:00.000000",
         "NY.GDP.MKTP.CD": 65186716832.06333,
         "_deepnote_index_column": 60
        },
        {
         "Year": "2004-02-01T00:00:00.000000",
         "NY.GDP.MKTP.CD": 65186716832.06333,
         "_deepnote_index_column": 61
        },
        {
         "Year": "2004-03-01T00:00:00.000000",
         "NY.GDP.MKTP.CD": 65186716832.06333,
         "_deepnote_index_column": 62
        },
        {
         "Year": "2004-04-01T00:00:00.000000",
         "NY.GDP.MKTP.CD": 65186716832.06333,
         "_deepnote_index_column": 63
        },
        {
         "Year": "2004-05-01T00:00:00.000000",
         "NY.GDP.MKTP.CD": 65186716832.06333,
         "_deepnote_index_column": 64
        },
        {
         "Year": "2004-06-01T00:00:00.000000",
         "NY.GDP.MKTP.CD": 65186716832.06333,
         "_deepnote_index_column": 65
        },
        {
         "Year": "2004-07-01T00:00:00.000000",
         "NY.GDP.MKTP.CD": 65186716832.06333,
         "_deepnote_index_column": 66
        },
        {
         "Year": "2004-08-01T00:00:00.000000",
         "NY.GDP.MKTP.CD": 65186716832.06333,
         "_deepnote_index_column": 67
        },
        {
         "Year": "2004-09-01T00:00:00.000000",
         "NY.GDP.MKTP.CD": 65186716832.06333,
         "_deepnote_index_column": 68
        },
        {
         "Year": "2004-10-01T00:00:00.000000",
         "NY.GDP.MKTP.CD": 65186716832.06333,
         "_deepnote_index_column": 69
        },
        {
         "Year": "2004-11-01T00:00:00.000000",
         "NY.GDP.MKTP.CD": 65186716832.06333,
         "_deepnote_index_column": 70
        },
        {
         "Year": "2004-12-01T00:00:00.000000",
         "NY.GDP.MKTP.CD": 65186716832.06333,
         "_deepnote_index_column": 71
        },
        {
         "Year": "2005-01-01T00:00:00.000000",
         "NY.GDP.MKTP.CD": 73123018448.5084,
         "_deepnote_index_column": 72
        },
        {
         "Year": "2005-02-01T00:00:00.000000",
         "NY.GDP.MKTP.CD": 73123018448.5084,
         "_deepnote_index_column": 73
        },
        {
         "Year": "2005-03-01T00:00:00.000000",
         "NY.GDP.MKTP.CD": 73123018448.5084,
         "_deepnote_index_column": 74
        },
        {
         "Year": "2005-04-01T00:00:00.000000",
         "NY.GDP.MKTP.CD": 73123018448.5084,
         "_deepnote_index_column": 75
        },
        {
         "Year": "2005-05-01T00:00:00.000000",
         "NY.GDP.MKTP.CD": 73123018448.5084,
         "_deepnote_index_column": 76
        },
        {
         "Year": "2005-06-01T00:00:00.000000",
         "NY.GDP.MKTP.CD": 73123018448.5084,
         "_deepnote_index_column": 77
        },
        {
         "Year": "2005-07-01T00:00:00.000000",
         "NY.GDP.MKTP.CD": 73123018448.5084,
         "_deepnote_index_column": 78
        },
        {
         "Year": "2005-08-01T00:00:00.000000",
         "NY.GDP.MKTP.CD": 73123018448.5084,
         "_deepnote_index_column": 79
        },
        {
         "Year": "2005-09-01T00:00:00.000000",
         "NY.GDP.MKTP.CD": 73123018448.5084,
         "_deepnote_index_column": 80
        },
        {
         "Year": "2005-10-01T00:00:00.000000",
         "NY.GDP.MKTP.CD": 73123018448.5084,
         "_deepnote_index_column": 81
        },
        {
         "Year": "2005-11-01T00:00:00.000000",
         "NY.GDP.MKTP.CD": 73123018448.5084,
         "_deepnote_index_column": 82
        },
        {
         "Year": "2005-12-01T00:00:00.000000",
         "NY.GDP.MKTP.CD": 73123018448.5084,
         "_deepnote_index_column": 83
        },
        {
         "Year": "2006-01-01T00:00:00.000000",
         "NY.GDP.MKTP.CD": 81282260976.34074,
         "_deepnote_index_column": 84
        },
        {
         "Year": "2006-02-01T00:00:00.000000",
         "NY.GDP.MKTP.CD": 81282260976.34074,
         "_deepnote_index_column": 85
        },
        {
         "Year": "2006-03-01T00:00:00.000000",
         "NY.GDP.MKTP.CD": 81282260976.34074,
         "_deepnote_index_column": 86
        },
        {
         "Year": "2006-04-01T00:00:00.000000",
         "NY.GDP.MKTP.CD": 81282260976.34074,
         "_deepnote_index_column": 87
        },
        {
         "Year": "2006-05-01T00:00:00.000000",
         "NY.GDP.MKTP.CD": 81282260976.34074,
         "_deepnote_index_column": 88
        },
        {
         "Year": "2006-06-01T00:00:00.000000",
         "NY.GDP.MKTP.CD": 81282260976.34074,
         "_deepnote_index_column": 89
        },
        {
         "Year": "2006-07-01T00:00:00.000000",
         "NY.GDP.MKTP.CD": 81282260976.34074,
         "_deepnote_index_column": 90
        },
        {
         "Year": "2006-08-01T00:00:00.000000",
         "NY.GDP.MKTP.CD": 81282260976.34074,
         "_deepnote_index_column": 91
        },
        {
         "Year": "2006-09-01T00:00:00.000000",
         "NY.GDP.MKTP.CD": 81282260976.34074,
         "_deepnote_index_column": 92
        },
        {
         "Year": "2006-10-01T00:00:00.000000",
         "NY.GDP.MKTP.CD": 81282260976.34074,
         "_deepnote_index_column": 93
        },
        {
         "Year": "2006-11-01T00:00:00.000000",
         "NY.GDP.MKTP.CD": 81282260976.34074,
         "_deepnote_index_column": 94
        },
        {
         "Year": "2006-12-01T00:00:00.000000",
         "NY.GDP.MKTP.CD": 81282260976.34074,
         "_deepnote_index_column": 95
        },
        {
         "Year": "2007-01-01T00:00:00.000000",
         "NY.GDP.MKTP.CD": 87724690189.90584,
         "_deepnote_index_column": 96
        },
        {
         "Year": "2007-02-01T00:00:00.000000",
         "NY.GDP.MKTP.CD": 87724690189.90584,
         "_deepnote_index_column": 97
        },
        {
         "Year": "2007-03-01T00:00:00.000000",
         "NY.GDP.MKTP.CD": 87724690189.90584,
         "_deepnote_index_column": 98
        },
        {
         "Year": "2007-04-01T00:00:00.000000",
         "NY.GDP.MKTP.CD": 87724690189.90584,
         "_deepnote_index_column": 99
        },
        {
         "Year": "2007-05-01T00:00:00.000000",
         "NY.GDP.MKTP.CD": 87724690189.90584,
         "_deepnote_index_column": 100
        },
        {
         "Year": "2007-06-01T00:00:00.000000",
         "NY.GDP.MKTP.CD": 87724690189.90584,
         "_deepnote_index_column": 101
        },
        {
         "Year": "2007-07-01T00:00:00.000000",
         "NY.GDP.MKTP.CD": 87724690189.90584,
         "_deepnote_index_column": 102
        },
        {
         "Year": "2007-08-01T00:00:00.000000",
         "NY.GDP.MKTP.CD": 87724690189.90584,
         "_deepnote_index_column": 103
        },
        {
         "Year": "2007-09-01T00:00:00.000000",
         "NY.GDP.MKTP.CD": 87724690189.90584,
         "_deepnote_index_column": 104
        },
        {
         "Year": "2007-10-01T00:00:00.000000",
         "NY.GDP.MKTP.CD": 87724690189.90584,
         "_deepnote_index_column": 105
        },
        {
         "Year": "2007-11-01T00:00:00.000000",
         "NY.GDP.MKTP.CD": 87724690189.90584,
         "_deepnote_index_column": 106
        },
        {
         "Year": "2007-12-01T00:00:00.000000",
         "NY.GDP.MKTP.CD": 87724690189.90584,
         "_deepnote_index_column": 107
        },
        {
         "Year": "2008-01-01T00:00:00.000000",
         "NY.GDP.MKTP.CD": 92499088632.21834,
         "_deepnote_index_column": 108
        },
        {
         "Year": "2008-02-01T00:00:00.000000",
         "NY.GDP.MKTP.CD": 92499088632.21834,
         "_deepnote_index_column": 109
        },
        {
         "Year": "2008-03-01T00:00:00.000000",
         "NY.GDP.MKTP.CD": 92499088632.21834,
         "_deepnote_index_column": 110
        },
        {
         "Year": "2008-04-01T00:00:00.000000",
         "NY.GDP.MKTP.CD": 92499088632.21834,
         "_deepnote_index_column": 111
        },
        {
         "Year": "2008-05-01T00:00:00.000000",
         "NY.GDP.MKTP.CD": 92499088632.21834,
         "_deepnote_index_column": 112
        },
        {
         "Year": "2008-06-01T00:00:00.000000",
         "NY.GDP.MKTP.CD": 92499088632.21834,
         "_deepnote_index_column": 113
        },
        {
         "Year": "2008-07-01T00:00:00.000000",
         "NY.GDP.MKTP.CD": 92499088632.21834,
         "_deepnote_index_column": 114
        },
        {
         "Year": "2008-08-01T00:00:00.000000",
         "NY.GDP.MKTP.CD": 92499088632.21834,
         "_deepnote_index_column": 115
        },
        {
         "Year": "2008-09-01T00:00:00.000000",
         "NY.GDP.MKTP.CD": 92499088632.21834,
         "_deepnote_index_column": 116
        },
        {
         "Year": "2008-10-01T00:00:00.000000",
         "NY.GDP.MKTP.CD": 92499088632.21834,
         "_deepnote_index_column": 117
        },
        {
         "Year": "2008-11-01T00:00:00.000000",
         "NY.GDP.MKTP.CD": 92499088632.21834,
         "_deepnote_index_column": 118
        },
        {
         "Year": "2008-12-01T00:00:00.000000",
         "NY.GDP.MKTP.CD": 92499088632.21834,
         "_deepnote_index_column": 119
        },
        {
         "Year": "2009-01-01T00:00:00.000000",
         "NY.GDP.MKTP.CD": 75003779220.77925,
         "_deepnote_index_column": 120
        },
        {
         "Year": "2009-02-01T00:00:00.000000",
         "NY.GDP.MKTP.CD": 75003779220.77925,
         "_deepnote_index_column": 121
        },
        {
         "Year": "2009-03-01T00:00:00.000000",
         "NY.GDP.MKTP.CD": 75003779220.77925,
         "_deepnote_index_column": 122
        },
        {
         "Year": "2009-04-01T00:00:00.000000",
         "NY.GDP.MKTP.CD": 75003779220.77925,
         "_deepnote_index_column": 123
        },
        {
         "Year": "2009-05-01T00:00:00.000000",
         "NY.GDP.MKTP.CD": 75003779220.77925,
         "_deepnote_index_column": 124
        },
        {
         "Year": "2009-06-01T00:00:00.000000",
         "NY.GDP.MKTP.CD": 75003779220.77925,
         "_deepnote_index_column": 125
        },
        {
         "Year": "2009-07-01T00:00:00.000000",
         "NY.GDP.MKTP.CD": 75003779220.77925,
         "_deepnote_index_column": 126
        },
        {
         "Year": "2009-08-01T00:00:00.000000",
         "NY.GDP.MKTP.CD": 75003779220.77925,
         "_deepnote_index_column": 127
        },
        {
         "Year": "2009-09-01T00:00:00.000000",
         "NY.GDP.MKTP.CD": 75003779220.77925,
         "_deepnote_index_column": 128
        },
        {
         "Year": "2009-10-01T00:00:00.000000",
         "NY.GDP.MKTP.CD": 75003779220.77925,
         "_deepnote_index_column": 129
        },
        {
         "Year": "2009-11-01T00:00:00.000000",
         "NY.GDP.MKTP.CD": 75003779220.77925,
         "_deepnote_index_column": 130
        },
        {
         "Year": "2009-12-01T00:00:00.000000",
         "NY.GDP.MKTP.CD": 75003779220.77925,
         "_deepnote_index_column": 131
        },
        {
         "Year": "2010-01-01T00:00:00.000000",
         "NY.GDP.MKTP.CD": 88150107965.33751,
         "_deepnote_index_column": 132
        },
        {
         "Year": "2010-02-01T00:00:00.000000",
         "NY.GDP.MKTP.CD": 88150107965.33751,
         "_deepnote_index_column": 133
        },
        {
         "Year": "2010-03-01T00:00:00.000000",
         "NY.GDP.MKTP.CD": 88150107965.33751,
         "_deepnote_index_column": 134
        },
        {
         "Year": "2010-04-01T00:00:00.000000",
         "NY.GDP.MKTP.CD": 88150107965.33751,
         "_deepnote_index_column": 135
        },
        {
         "Year": "2010-05-01T00:00:00.000000",
         "NY.GDP.MKTP.CD": 88150107965.33751,
         "_deepnote_index_column": 136
        },
        {
         "Year": "2010-06-01T00:00:00.000000",
         "NY.GDP.MKTP.CD": 88150107965.33751,
         "_deepnote_index_column": 137
        },
        {
         "Year": "2010-07-01T00:00:00.000000",
         "NY.GDP.MKTP.CD": 88150107965.33751,
         "_deepnote_index_column": 138
        },
        {
         "Year": "2010-08-01T00:00:00.000000",
         "NY.GDP.MKTP.CD": 88150107965.33751,
         "_deepnote_index_column": 139
        },
        {
         "Year": "2010-09-01T00:00:00.000000",
         "NY.GDP.MKTP.CD": 88150107965.33751,
         "_deepnote_index_column": 140
        },
        {
         "Year": "2010-10-01T00:00:00.000000",
         "NY.GDP.MKTP.CD": 88150107965.33751,
         "_deepnote_index_column": 141
        },
        {
         "Year": "2010-11-01T00:00:00.000000",
         "NY.GDP.MKTP.CD": 88150107965.33751,
         "_deepnote_index_column": 142
        },
        {
         "Year": "2010-12-01T00:00:00.000000",
         "NY.GDP.MKTP.CD": 88150107965.33751,
         "_deepnote_index_column": 143
        },
        {
         "Year": "2011-01-01T00:00:00.000000",
         "NY.GDP.MKTP.CD": 98374133496.46751,
         "_deepnote_index_column": 144
        },
        {
         "Year": "2011-02-01T00:00:00.000000",
         "NY.GDP.MKTP.CD": 98374133496.46751,
         "_deepnote_index_column": 145
        },
        {
         "Year": "2011-03-01T00:00:00.000000",
         "NY.GDP.MKTP.CD": 98374133496.46751,
         "_deepnote_index_column": 146
        },
        {
         "Year": "2011-04-01T00:00:00.000000",
         "NY.GDP.MKTP.CD": 98374133496.46751,
         "_deepnote_index_column": 147
        },
        {
         "Year": "2011-05-01T00:00:00.000000",
         "NY.GDP.MKTP.CD": 98374133496.46751,
         "_deepnote_index_column": 148
        },
        {
         "Year": "2011-06-01T00:00:00.000000",
         "NY.GDP.MKTP.CD": 98374133496.46751,
         "_deepnote_index_column": 149
        },
        {
         "Year": "2011-07-01T00:00:00.000000",
         "NY.GDP.MKTP.CD": 98374133496.46751,
         "_deepnote_index_column": 150
        },
        {
         "Year": "2011-08-01T00:00:00.000000",
         "NY.GDP.MKTP.CD": 98374133496.46751,
         "_deepnote_index_column": 151
        },
        {
         "Year": "2011-09-01T00:00:00.000000",
         "NY.GDP.MKTP.CD": 98374133496.46751,
         "_deepnote_index_column": 152
        },
        {
         "Year": "2011-10-01T00:00:00.000000",
         "NY.GDP.MKTP.CD": 98374133496.46751,
         "_deepnote_index_column": 153
        },
        {
         "Year": "2011-11-01T00:00:00.000000",
         "NY.GDP.MKTP.CD": 98374133496.46751,
         "_deepnote_index_column": 154
        },
        {
         "Year": "2011-12-01T00:00:00.000000",
         "NY.GDP.MKTP.CD": 98374133496.46751,
         "_deepnote_index_column": 155
        },
        {
         "Year": "2012-01-01T00:00:00.000000",
         "NY.GDP.MKTP.CD": 100090832251.28749,
         "_deepnote_index_column": 156
        },
        {
         "Year": "2012-02-01T00:00:00.000000",
         "NY.GDP.MKTP.CD": 100090832251.28749,
         "_deepnote_index_column": 157
        },
        {
         "Year": "2012-03-01T00:00:00.000000",
         "NY.GDP.MKTP.CD": 100090832251.28749,
         "_deepnote_index_column": 158
        },
        {
         "Year": "2012-04-01T00:00:00.000000",
         "NY.GDP.MKTP.CD": 100090832251.28749,
         "_deepnote_index_column": 159
        },
        {
         "Year": "2012-05-01T00:00:00.000000",
         "NY.GDP.MKTP.CD": 100090832251.28749,
         "_deepnote_index_column": 160
        },
        {
         "Year": "2012-06-01T00:00:00.000000",
         "NY.GDP.MKTP.CD": 100090832251.28749,
         "_deepnote_index_column": 161
        },
        {
         "Year": "2012-07-01T00:00:00.000000",
         "NY.GDP.MKTP.CD": 100090832251.28749,
         "_deepnote_index_column": 162
        },
        {
         "Year": "2012-08-01T00:00:00.000000",
         "NY.GDP.MKTP.CD": 100090832251.28749,
         "_deepnote_index_column": 163
        },
        {
         "Year": "2012-09-01T00:00:00.000000",
         "NY.GDP.MKTP.CD": 100090832251.28749,
         "_deepnote_index_column": 164
        },
        {
         "Year": "2012-10-01T00:00:00.000000",
         "NY.GDP.MKTP.CD": 100090832251.28749,
         "_deepnote_index_column": 165
        },
        {
         "Year": "2012-11-01T00:00:00.000000",
         "NY.GDP.MKTP.CD": 100090832251.28749,
         "_deepnote_index_column": 166
        },
        {
         "Year": "2012-12-01T00:00:00.000000",
         "NY.GDP.MKTP.CD": 100090832251.28749,
         "_deepnote_index_column": 167
        },
        {
         "Year": "2013-01-01T00:00:00.000000",
         "NY.GDP.MKTP.CD": 106203590393.0475,
         "_deepnote_index_column": 168
        },
        {
         "Year": "2013-02-01T00:00:00.000000",
         "NY.GDP.MKTP.CD": 106203590393.0475,
         "_deepnote_index_column": 169
        },
        {
         "Year": "2013-03-01T00:00:00.000000",
         "NY.GDP.MKTP.CD": 106203590393.0475,
         "_deepnote_index_column": 170
        },
        {
         "Year": "2013-04-01T00:00:00.000000",
         "NY.GDP.MKTP.CD": 106203590393.0475,
         "_deepnote_index_column": 171
        },
        {
         "Year": "2013-05-01T00:00:00.000000",
         "NY.GDP.MKTP.CD": 106203590393.0475,
         "_deepnote_index_column": 172
        },
        {
         "Year": "2013-06-01T00:00:00.000000",
         "NY.GDP.MKTP.CD": 106203590393.0475,
         "_deepnote_index_column": 173
        },
        {
         "Year": "2013-07-01T00:00:00.000000",
         "NY.GDP.MKTP.CD": 106203590393.0475,
         "_deepnote_index_column": 174
        },
        {
         "Year": "2013-08-01T00:00:00.000000",
         "NY.GDP.MKTP.CD": 106203590393.0475,
         "_deepnote_index_column": 175
        },
        {
         "Year": "2013-09-01T00:00:00.000000",
         "NY.GDP.MKTP.CD": 106203590393.0475,
         "_deepnote_index_column": 176
        },
        {
         "Year": "2013-10-01T00:00:00.000000",
         "NY.GDP.MKTP.CD": 106203590393.0475,
         "_deepnote_index_column": 177
        },
        {
         "Year": "2013-11-01T00:00:00.000000",
         "NY.GDP.MKTP.CD": 106203590393.0475,
         "_deepnote_index_column": 178
        },
        {
         "Year": "2013-12-01T00:00:00.000000",
         "NY.GDP.MKTP.CD": 106203590393.0475,
         "_deepnote_index_column": 179
        },
        {
         "Year": "2014-01-01T00:00:00.000000",
         "NY.GDP.MKTP.CD": 109612598627.045,
         "_deepnote_index_column": 180
        },
        {
         "Year": "2014-02-01T00:00:00.000000",
         "NY.GDP.MKTP.CD": 109612598627.045,
         "_deepnote_index_column": 181
        },
        {
         "Year": "2014-03-01T00:00:00.000000",
         "NY.GDP.MKTP.CD": 109612598627.045,
         "_deepnote_index_column": 182
        },
        {
         "Year": "2014-04-01T00:00:00.000000",
         "NY.GDP.MKTP.CD": 109612598627.045,
         "_deepnote_index_column": 183
        },
        {
         "Year": "2014-05-01T00:00:00.000000",
         "NY.GDP.MKTP.CD": 109612598627.045,
         "_deepnote_index_column": 184
        },
        {
         "Year": "2014-06-01T00:00:00.000000",
         "NY.GDP.MKTP.CD": 109612598627.045,
         "_deepnote_index_column": 185
        },
        {
         "Year": "2014-07-01T00:00:00.000000",
         "NY.GDP.MKTP.CD": 109612598627.045,
         "_deepnote_index_column": 186
        },
        {
         "Year": "2014-08-01T00:00:00.000000",
         "NY.GDP.MKTP.CD": 109612598627.045,
         "_deepnote_index_column": 187
        },
        {
         "Year": "2014-09-01T00:00:00.000000",
         "NY.GDP.MKTP.CD": 109612598627.045,
         "_deepnote_index_column": 188
        },
        {
         "Year": "2014-10-01T00:00:00.000000",
         "NY.GDP.MKTP.CD": 109612598627.045,
         "_deepnote_index_column": 189
        },
        {
         "Year": "2014-11-01T00:00:00.000000",
         "NY.GDP.MKTP.CD": 109612598627.045,
         "_deepnote_index_column": 190
        },
        {
         "Year": "2014-12-01T00:00:00.000000",
         "NY.GDP.MKTP.CD": 109612598627.045,
         "_deepnote_index_column": 191
        },
        {
         "Year": "2015-01-01T00:00:00.000000",
         "NY.GDP.MKTP.CD": 97655634016.47667,
         "_deepnote_index_column": 192
        },
        {
         "Year": "2015-02-01T00:00:00.000000",
         "NY.GDP.MKTP.CD": 97655634016.47667,
         "_deepnote_index_column": 193
        },
        {
         "Year": "2015-03-01T00:00:00.000000",
         "NY.GDP.MKTP.CD": 97655634016.47667,
         "_deepnote_index_column": 194
        },
        {
         "Year": "2015-04-01T00:00:00.000000",
         "NY.GDP.MKTP.CD": 97655634016.47667,
         "_deepnote_index_column": 195
        },
        {
         "Year": "2015-05-01T00:00:00.000000",
         "NY.GDP.MKTP.CD": 97655634016.47667,
         "_deepnote_index_column": 196
        },
        {
         "Year": "2015-06-01T00:00:00.000000",
         "NY.GDP.MKTP.CD": 97655634016.47667,
         "_deepnote_index_column": 197
        },
        {
         "Year": "2015-07-01T00:00:00.000000",
         "NY.GDP.MKTP.CD": 97655634016.47667,
         "_deepnote_index_column": 198
        },
        {
         "Year": "2015-08-01T00:00:00.000000",
         "NY.GDP.MKTP.CD": 97655634016.47667,
         "_deepnote_index_column": 199
        },
        {
         "Year": "2015-09-01T00:00:00.000000",
         "NY.GDP.MKTP.CD": 97655634016.47667,
         "_deepnote_index_column": 200
        },
        {
         "Year": "2015-10-01T00:00:00.000000",
         "NY.GDP.MKTP.CD": 97655634016.47667,
         "_deepnote_index_column": 201
        },
        {
         "Year": "2015-11-01T00:00:00.000000",
         "NY.GDP.MKTP.CD": 97655634016.47667,
         "_deepnote_index_column": 202
        },
        {
         "Year": "2015-12-01T00:00:00.000000",
         "NY.GDP.MKTP.CD": 97655634016.47667,
         "_deepnote_index_column": 203
        },
        {
         "Year": "2016-01-01T00:00:00.000000",
         "NY.GDP.MKTP.CD": 89874220968.77583,
         "_deepnote_index_column": 204
        },
        {
         "Year": "2016-02-01T00:00:00.000000",
         "NY.GDP.MKTP.CD": 89874220968.77583,
         "_deepnote_index_column": 205
        },
        {
         "Year": "2016-03-01T00:00:00.000000",
         "NY.GDP.MKTP.CD": 89874220968.77583,
         "_deepnote_index_column": 206
        },
        {
         "Year": "2016-04-01T00:00:00.000000",
         "NY.GDP.MKTP.CD": 89874220968.77583,
         "_deepnote_index_column": 207
        },
        {
         "Year": "2016-05-01T00:00:00.000000",
         "NY.GDP.MKTP.CD": 89874220968.77583,
         "_deepnote_index_column": 208
        },
        {
         "Year": "2016-06-01T00:00:00.000000",
         "NY.GDP.MKTP.CD": 89874220968.77583,
         "_deepnote_index_column": 209
        },
        {
         "Year": "2016-07-01T00:00:00.000000",
         "NY.GDP.MKTP.CD": 89874220968.77583,
         "_deepnote_index_column": 210
        },
        {
         "Year": "2016-08-01T00:00:00.000000",
         "NY.GDP.MKTP.CD": 89874220968.77583,
         "_deepnote_index_column": 211
        },
        {
         "Year": "2016-09-01T00:00:00.000000",
         "NY.GDP.MKTP.CD": 89874220968.77583,
         "_deepnote_index_column": 212
        },
        {
         "Year": "2016-10-01T00:00:00.000000",
         "NY.GDP.MKTP.CD": 89874220968.77583,
         "_deepnote_index_column": 213
        },
        {
         "Year": "2016-11-01T00:00:00.000000",
         "NY.GDP.MKTP.CD": 89874220968.77583,
         "_deepnote_index_column": 214
        },
        {
         "Year": "2016-12-01T00:00:00.000000",
         "NY.GDP.MKTP.CD": 89874220968.77583,
         "_deepnote_index_column": 215
        },
        {
         "Year": "2017-01-01T00:00:00.000000",
         "NY.GDP.MKTP.CD": 96576086316.36418,
         "_deepnote_index_column": 216
        },
        {
         "Year": "2017-02-01T00:00:00.000000",
         "NY.GDP.MKTP.CD": 96576086316.36418,
         "_deepnote_index_column": 217
        },
        {
         "Year": "2017-03-01T00:00:00.000000",
         "NY.GDP.MKTP.CD": 96576086316.36418,
         "_deepnote_index_column": 218
        },
        {
         "Year": "2017-04-01T00:00:00.000000",
         "NY.GDP.MKTP.CD": 96576086316.36418,
         "_deepnote_index_column": 219
        },
        {
         "Year": "2017-05-01T00:00:00.000000",
         "NY.GDP.MKTP.CD": 96576086316.36418,
         "_deepnote_index_column": 220
        },
        {
         "Year": "2017-06-01T00:00:00.000000",
         "NY.GDP.MKTP.CD": 96576086316.36418,
         "_deepnote_index_column": 221
        },
        {
         "Year": "2017-07-01T00:00:00.000000",
         "NY.GDP.MKTP.CD": 96576086316.36418,
         "_deepnote_index_column": 222
        },
        {
         "Year": "2017-08-01T00:00:00.000000",
         "NY.GDP.MKTP.CD": 96576086316.36418,
         "_deepnote_index_column": 223
        },
        {
         "Year": "2017-09-01T00:00:00.000000",
         "NY.GDP.MKTP.CD": 96576086316.36418,
         "_deepnote_index_column": 224
        },
        {
         "Year": "2017-10-01T00:00:00.000000",
         "NY.GDP.MKTP.CD": 96576086316.36418,
         "_deepnote_index_column": 225
        },
        {
         "Year": "2017-11-01T00:00:00.000000",
         "NY.GDP.MKTP.CD": 96576086316.36418,
         "_deepnote_index_column": 226
        },
        {
         "Year": "2017-12-01T00:00:00.000000",
         "NY.GDP.MKTP.CD": 96576086316.36418,
         "_deepnote_index_column": 227
        },
        {
         "Year": "2018-01-01T00:00:00.000000",
         "NY.GDP.MKTP.CD": 101862400606.93333,
         "_deepnote_index_column": 228
        },
        {
         "Year": "2018-02-01T00:00:00.000000",
         "NY.GDP.MKTP.CD": 101862400606.93333,
         "_deepnote_index_column": 229
        },
        {
         "Year": "2018-03-01T00:00:00.000000",
         "NY.GDP.MKTP.CD": 101862400606.93333,
         "_deepnote_index_column": 230
        },
        {
         "Year": "2018-04-01T00:00:00.000000",
         "NY.GDP.MKTP.CD": 101862400606.93333,
         "_deepnote_index_column": 231
        },
        {
         "Year": "2018-05-01T00:00:00.000000",
         "NY.GDP.MKTP.CD": 101862400606.93333,
         "_deepnote_index_column": 232
        },
        {
         "Year": "2018-06-01T00:00:00.000000",
         "NY.GDP.MKTP.CD": 101862400606.93333,
         "_deepnote_index_column": 233
        },
        {
         "Year": "2018-07-01T00:00:00.000000",
         "NY.GDP.MKTP.CD": 101862400606.93333,
         "_deepnote_index_column": 234
        },
        {
         "Year": "2018-08-01T00:00:00.000000",
         "NY.GDP.MKTP.CD": 101862400606.93333,
         "_deepnote_index_column": 235
        },
        {
         "Year": "2018-09-01T00:00:00.000000",
         "NY.GDP.MKTP.CD": 101862400606.93333,
         "_deepnote_index_column": 236
        },
        {
         "Year": "2018-10-01T00:00:00.000000",
         "NY.GDP.MKTP.CD": 101862400606.93333,
         "_deepnote_index_column": 237
        },
        {
         "Year": "2018-11-01T00:00:00.000000",
         "NY.GDP.MKTP.CD": 101862400606.93333,
         "_deepnote_index_column": 238
        },
        {
         "Year": "2018-12-01T00:00:00.000000",
         "NY.GDP.MKTP.CD": 101862400606.93333,
         "_deepnote_index_column": 239
        },
        {
         "Year": "2019-01-01T00:00:00.000000",
         "NY.GDP.MKTP.CD": 105739210596.66917,
         "_deepnote_index_column": 240
        }
       ],
       "rows_bottom": null
      },
      "text/plain": "          Year  NY.GDP.MKTP.CD\n0   1999-01-01    5.001941e+10\n1   1999-02-01    5.001941e+10\n2   1999-03-01    5.001941e+10\n3   1999-04-01    5.001941e+10\n4   1999-05-01    5.001941e+10\n..         ...             ...\n236 2018-09-01    1.018624e+11\n237 2018-10-01    1.018624e+11\n238 2018-11-01    1.018624e+11\n239 2018-12-01    1.018624e+11\n240 2019-01-01    1.057392e+11\n\n[241 rows x 2 columns]",
      "text/html": "<div>\n<style scoped>\n    .dataframe tbody tr th:only-of-type {\n        vertical-align: middle;\n    }\n\n    .dataframe tbody tr th {\n        vertical-align: top;\n    }\n\n    .dataframe thead th {\n        text-align: right;\n    }\n</style>\n<table border=\"1\" class=\"dataframe\">\n  <thead>\n    <tr style=\"text-align: right;\">\n      <th></th>\n      <th>Year</th>\n      <th>NY.GDP.MKTP.CD</th>\n    </tr>\n  </thead>\n  <tbody>\n    <tr>\n      <th>0</th>\n      <td>1999-01-01</td>\n      <td>5.001941e+10</td>\n    </tr>\n    <tr>\n      <th>1</th>\n      <td>1999-02-01</td>\n      <td>5.001941e+10</td>\n    </tr>\n    <tr>\n      <th>2</th>\n      <td>1999-03-01</td>\n      <td>5.001941e+10</td>\n    </tr>\n    <tr>\n      <th>3</th>\n      <td>1999-04-01</td>\n      <td>5.001941e+10</td>\n    </tr>\n    <tr>\n      <th>4</th>\n      <td>1999-05-01</td>\n      <td>5.001941e+10</td>\n    </tr>\n    <tr>\n      <th>...</th>\n      <td>...</td>\n      <td>...</td>\n    </tr>\n    <tr>\n      <th>236</th>\n      <td>2018-09-01</td>\n      <td>1.018624e+11</td>\n    </tr>\n    <tr>\n      <th>237</th>\n      <td>2018-10-01</td>\n      <td>1.018624e+11</td>\n    </tr>\n    <tr>\n      <th>238</th>\n      <td>2018-11-01</td>\n      <td>1.018624e+11</td>\n    </tr>\n    <tr>\n      <th>239</th>\n      <td>2018-12-01</td>\n      <td>1.018624e+11</td>\n    </tr>\n    <tr>\n      <th>240</th>\n      <td>2019-01-01</td>\n      <td>1.057392e+11</td>\n    </tr>\n  </tbody>\n</table>\n<p>241 rows × 2 columns</p>\n</div>"
     },
     "metadata": {}
    }
   ],
   "execution_count": 124
  },
  {
   "cell_type": "code",
   "source": "MEX_CUT.shape",
   "metadata": {
    "tags": [],
    "cell_id": "00013-5a248739-5674-448c-8c46-d678c355a4c8",
    "deepnote_to_be_reexecuted": false,
    "source_hash": "359291e0",
    "execution_start": 1625842902235,
    "execution_millis": 9,
    "deepnote_cell_type": "code"
   },
   "outputs": [
    {
     "output_type": "execute_result",
     "execution_count": 132,
     "data": {
      "text/plain": "(7306, 14)"
     },
     "metadata": {}
    }
   ],
   "execution_count": 132
  },
  {
   "cell_type": "code",
   "source": "",
   "metadata": {
    "tags": [],
    "cell_id": "00015-9feba163-b0a9-4fc4-a9de-0516e5d3af81",
    "deepnote_cell_type": "code"
   },
   "outputs": [],
   "execution_count": null
  },
  {
   "cell_type": "markdown",
   "source": "<a style='text-decoration:none;line-height:16px;display:flex;color:#5B5B62;padding:10px;justify-content:end;' href='https://deepnote.com?utm_source=created-in-deepnote-cell&projectId=5afecb5f-7d28-4b37-ae51-8d94c0fa9663' target=\"_blank\">\n<img alt='Created in deepnote.com' style='display:inline;max-height:16px;margin:0px;margin-right:7.5px;' src='data:image/svg+xml;base64,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' > </img>\nCreated in <span style='font-weight:600;margin-left:4px;'>Deepnote</span></a>",
   "metadata": {
    "tags": [],
    "created_in_deepnote_cell": true,
    "deepnote_cell_type": "markdown"
   }
  }
 ],
 "nbformat": 4,
 "nbformat_minor": 2,
 "metadata": {
  "orig_nbformat": 2,
  "deepnote": {
   "is_reactive": false
  },
  "deepnote_notebook_id": "9d6f355f-bc89-4738-a416-ac401ac60b90",
  "deepnote_execution_queue": []
 }
}